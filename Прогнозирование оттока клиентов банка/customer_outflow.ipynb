{
 "cells": [
  {
   "cell_type": "markdown",
   "metadata": {
    "toc": true
   },
   "source": [
    "<h1>Содержание<span class=\"tocSkip\"></span></h1>\n",
    "<div class=\"toc\"><ul class=\"toc-item\"><li><span><a href=\"#Подготовка-данных\" data-toc-modified-id=\"Подготовка-данных-1\"><span class=\"toc-item-num\">1&nbsp;&nbsp;</span>Подготовка данных</a></span></li><li><span><a href=\"#Исследование-задачи\" data-toc-modified-id=\"Исследование-задачи-2\"><span class=\"toc-item-num\">2&nbsp;&nbsp;</span>Исследование задачи</a></span><ul class=\"toc-item\"><li><span><a href=\"#Исследуем-баланс-классов\" data-toc-modified-id=\"Исследуем-баланс-классов-2.1\"><span class=\"toc-item-num\">2.1&nbsp;&nbsp;</span>Исследуем баланс классов</a></span></li><li><span><a href=\"#Изучем-модели-без-учёта-дисбаланса\" data-toc-modified-id=\"Изучем-модели-без-учёта-дисбаланса-2.2\"><span class=\"toc-item-num\">2.2&nbsp;&nbsp;</span>Изучем модели без учёта дисбаланса</a></span></li><li><span><a href=\"#Вывод-по-результатам-исследования\" data-toc-modified-id=\"Вывод-по-результатам-исследования-2.3\"><span class=\"toc-item-num\">2.3&nbsp;&nbsp;</span>Вывод по результатам исследования</a></span></li></ul></li><li><span><a href=\"#Борьба-с-дисбалансом\" data-toc-modified-id=\"Борьба-с-дисбалансом-3\"><span class=\"toc-item-num\">3&nbsp;&nbsp;</span>Борьба с дисбалансом</a></span><ul class=\"toc-item\"><li><span><a href=\"#Взвешивание-классов\" data-toc-modified-id=\"Взвешивание-классов-3.1\"><span class=\"toc-item-num\">3.1&nbsp;&nbsp;</span>Взвешивание классов</a></span></li><li><span><a href=\"#Увеличение-выборки\" data-toc-modified-id=\"Увеличение-выборки-3.2\"><span class=\"toc-item-num\">3.2&nbsp;&nbsp;</span>Увеличение выборки</a></span></li><li><span><a href=\"#Уменьшение-выборки.\" data-toc-modified-id=\"Уменьшение-выборки.-3.3\"><span class=\"toc-item-num\">3.3&nbsp;&nbsp;</span>Уменьшение выборки.</a></span></li><li><span><a href=\"#Выводы-по-результатам-исследования\" data-toc-modified-id=\"Выводы-по-результатам-исследования-3.4\"><span class=\"toc-item-num\">3.4&nbsp;&nbsp;</span>Выводы по результатам исследования</a></span></li></ul></li><li><span><a href=\"#Тестирование-модели\" data-toc-modified-id=\"Тестирование-модели-4\"><span class=\"toc-item-num\">4&nbsp;&nbsp;</span>Тестирование модели</a></span></li><li><span><a href=\"#Вывод:\" data-toc-modified-id=\"Вывод:-5\"><span class=\"toc-item-num\">5&nbsp;&nbsp;</span>Вывод</a></span></li></ul></div>"
   ]
  },
  {
   "cell_type": "markdown",
   "metadata": {},
   "source": [
    "# Отток клиентов"
   ]
  },
  {
   "cell_type": "markdown",
   "metadata": {},
   "source": [
    "Из «Бета-Банка» стали уходить клиенты. Каждый месяц. Немного, но заметно. Банковские маркетологи посчитали: сохранять текущих клиентов дешевле, чем привлекать новых.\n",
    "\n",
    "Нужно спрогнозировать, уйдёт клиент из банка в ближайшее время или нет. Мне предоставлены исторические данные о поведении клиентов и расторжении договоров с банком. \n",
    "\n",
    "Необходимо построить модель с предельно большим значением *F1*-меры и довести метрику до 0.59.\n",
    "\n",
    "Дополнительно измерим *AUC-ROC* и сравним её значение с *F1*-мерой.\n",
    "\n",
    "Источник данных: [https://www.kaggle.com/barelydedicated/bank-customer-churn-modeling](https://www.kaggle.com/barelydedicated/bank-customer-churn-modeling)"
   ]
  },
  {
   "cell_type": "code",
   "execution_count": 1,
   "metadata": {},
   "outputs": [],
   "source": [
    "import pandas as pd\n",
    "from sklearn.model_selection import train_test_split\n",
    "from sklearn.preprocessing import StandardScaler\n",
    "from sklearn.tree import DecisionTreeClassifier\n",
    "from sklearn.metrics import accuracy_score\n",
    "from sklearn.ensemble import RandomForestClassifier\n",
    "from sklearn.linear_model import LogisticRegression\n",
    "from sklearn.metrics import recall_score\n",
    "from sklearn.metrics import precision_score\n",
    "from sklearn.metrics import f1_score\n",
    "from sklearn.utils import shuffle\n",
    "from sklearn.metrics import roc_curve\n",
    "from sklearn.metrics import roc_auc_score\n",
    "import matplotlib.pyplot as plt"
   ]
  },
  {
   "cell_type": "markdown",
   "metadata": {},
   "source": [
    "## Подготовка данных"
   ]
  },
  {
   "cell_type": "code",
   "execution_count": 2,
   "metadata": {},
   "outputs": [
    {
     "name": "stdout",
     "output_type": "stream",
     "text": [
      "<class 'pandas.core.frame.DataFrame'>\n",
      "RangeIndex: 10000 entries, 0 to 9999\n",
      "Data columns (total 14 columns):\n",
      " #   Column           Non-Null Count  Dtype  \n",
      "---  ------           --------------  -----  \n",
      " 0   RowNumber        10000 non-null  int64  \n",
      " 1   CustomerId       10000 non-null  int64  \n",
      " 2   Surname          10000 non-null  object \n",
      " 3   CreditScore      10000 non-null  int64  \n",
      " 4   Geography        10000 non-null  object \n",
      " 5   Gender           10000 non-null  object \n",
      " 6   Age              10000 non-null  int64  \n",
      " 7   Tenure           9091 non-null   float64\n",
      " 8   Balance          10000 non-null  float64\n",
      " 9   NumOfProducts    10000 non-null  int64  \n",
      " 10  HasCrCard        10000 non-null  int64  \n",
      " 11  IsActiveMember   10000 non-null  int64  \n",
      " 12  EstimatedSalary  10000 non-null  float64\n",
      " 13  Exited           10000 non-null  int64  \n",
      "dtypes: float64(3), int64(8), object(3)\n",
      "memory usage: 1.1+ MB\n"
     ]
    },
    {
     "data": {
      "text/html": [
       "<div>\n",
       "<style scoped>\n",
       "    .dataframe tbody tr th:only-of-type {\n",
       "        vertical-align: middle;\n",
       "    }\n",
       "\n",
       "    .dataframe tbody tr th {\n",
       "        vertical-align: top;\n",
       "    }\n",
       "\n",
       "    .dataframe thead th {\n",
       "        text-align: right;\n",
       "    }\n",
       "</style>\n",
       "<table border=\"1\" class=\"dataframe\">\n",
       "  <thead>\n",
       "    <tr style=\"text-align: right;\">\n",
       "      <th></th>\n",
       "      <th>RowNumber</th>\n",
       "      <th>CustomerId</th>\n",
       "      <th>Surname</th>\n",
       "      <th>CreditScore</th>\n",
       "      <th>Geography</th>\n",
       "      <th>Gender</th>\n",
       "      <th>Age</th>\n",
       "      <th>Tenure</th>\n",
       "      <th>Balance</th>\n",
       "      <th>NumOfProducts</th>\n",
       "      <th>HasCrCard</th>\n",
       "      <th>IsActiveMember</th>\n",
       "      <th>EstimatedSalary</th>\n",
       "      <th>Exited</th>\n",
       "    </tr>\n",
       "  </thead>\n",
       "  <tbody>\n",
       "    <tr>\n",
       "      <th>0</th>\n",
       "      <td>1</td>\n",
       "      <td>15634602</td>\n",
       "      <td>Hargrave</td>\n",
       "      <td>619</td>\n",
       "      <td>France</td>\n",
       "      <td>Female</td>\n",
       "      <td>42</td>\n",
       "      <td>2.0</td>\n",
       "      <td>0.00</td>\n",
       "      <td>1</td>\n",
       "      <td>1</td>\n",
       "      <td>1</td>\n",
       "      <td>101348.88</td>\n",
       "      <td>1</td>\n",
       "    </tr>\n",
       "    <tr>\n",
       "      <th>1</th>\n",
       "      <td>2</td>\n",
       "      <td>15647311</td>\n",
       "      <td>Hill</td>\n",
       "      <td>608</td>\n",
       "      <td>Spain</td>\n",
       "      <td>Female</td>\n",
       "      <td>41</td>\n",
       "      <td>1.0</td>\n",
       "      <td>83807.86</td>\n",
       "      <td>1</td>\n",
       "      <td>0</td>\n",
       "      <td>1</td>\n",
       "      <td>112542.58</td>\n",
       "      <td>0</td>\n",
       "    </tr>\n",
       "    <tr>\n",
       "      <th>2</th>\n",
       "      <td>3</td>\n",
       "      <td>15619304</td>\n",
       "      <td>Onio</td>\n",
       "      <td>502</td>\n",
       "      <td>France</td>\n",
       "      <td>Female</td>\n",
       "      <td>42</td>\n",
       "      <td>8.0</td>\n",
       "      <td>159660.80</td>\n",
       "      <td>3</td>\n",
       "      <td>1</td>\n",
       "      <td>0</td>\n",
       "      <td>113931.57</td>\n",
       "      <td>1</td>\n",
       "    </tr>\n",
       "    <tr>\n",
       "      <th>3</th>\n",
       "      <td>4</td>\n",
       "      <td>15701354</td>\n",
       "      <td>Boni</td>\n",
       "      <td>699</td>\n",
       "      <td>France</td>\n",
       "      <td>Female</td>\n",
       "      <td>39</td>\n",
       "      <td>1.0</td>\n",
       "      <td>0.00</td>\n",
       "      <td>2</td>\n",
       "      <td>0</td>\n",
       "      <td>0</td>\n",
       "      <td>93826.63</td>\n",
       "      <td>0</td>\n",
       "    </tr>\n",
       "    <tr>\n",
       "      <th>4</th>\n",
       "      <td>5</td>\n",
       "      <td>15737888</td>\n",
       "      <td>Mitchell</td>\n",
       "      <td>850</td>\n",
       "      <td>Spain</td>\n",
       "      <td>Female</td>\n",
       "      <td>43</td>\n",
       "      <td>2.0</td>\n",
       "      <td>125510.82</td>\n",
       "      <td>1</td>\n",
       "      <td>1</td>\n",
       "      <td>1</td>\n",
       "      <td>79084.10</td>\n",
       "      <td>0</td>\n",
       "    </tr>\n",
       "  </tbody>\n",
       "</table>\n",
       "</div>"
      ],
      "text/plain": [
       "   RowNumber  CustomerId   Surname  CreditScore Geography  Gender  Age  \\\n",
       "0          1    15634602  Hargrave          619    France  Female   42   \n",
       "1          2    15647311      Hill          608     Spain  Female   41   \n",
       "2          3    15619304      Onio          502    France  Female   42   \n",
       "3          4    15701354      Boni          699    France  Female   39   \n",
       "4          5    15737888  Mitchell          850     Spain  Female   43   \n",
       "\n",
       "   Tenure    Balance  NumOfProducts  HasCrCard  IsActiveMember  \\\n",
       "0     2.0       0.00              1          1               1   \n",
       "1     1.0   83807.86              1          0               1   \n",
       "2     8.0  159660.80              3          1               0   \n",
       "3     1.0       0.00              2          0               0   \n",
       "4     2.0  125510.82              1          1               1   \n",
       "\n",
       "   EstimatedSalary  Exited  \n",
       "0        101348.88       1  \n",
       "1        112542.58       0  \n",
       "2        113931.57       1  \n",
       "3         93826.63       0  \n",
       "4         79084.10       0  "
      ]
     },
     "execution_count": 2,
     "metadata": {},
     "output_type": "execute_result"
    }
   ],
   "source": [
    "data = pd.read_csv('Churn.csv')\n",
    "data.info()\n",
    "data.head()"
   ]
  },
  {
   "cell_type": "markdown",
   "metadata": {},
   "source": [
    "<b> Описание данных </b>\n",
    "\n",
    "<b> Признаки </b>\n",
    "\n",
    "* RowNumber — индекс строки в данных\n",
    "* CustomerId — уникальный идентификатор клиента\n",
    "* Surname — фамилия\n",
    "* CreditScore — кредитный рейтинг\n",
    "* Geography — страна проживания\n",
    "* Gender — пол\n",
    "* Age — возраст\n",
    "* Tenure — сколько лет человек является клиентом банка\n",
    "* Balance — баланс на счёте\n",
    "* NumOfProducts — количество продуктов банка, используемых клиентом\n",
    "* HasCrCard — наличие кредитной карты\n",
    "* IsActiveMember — активность клиента\n",
    "* EstimatedSalary — предполагаемая зарплата\n",
    "\n",
    "<b> Целевой признак </b>\n",
    "\n",
    "* Exited — факт ухода клиента"
   ]
  },
  {
   "cell_type": "markdown",
   "metadata": {},
   "source": [
    "Столбцы RowNumber (индекс строки в данных), CustomerId (уникальный идентификатор клиента) и Surname (фамилия) не представляют ценности для обучения модели. Поэтому данные столбцы можно удалить."
   ]
  },
  {
   "cell_type": "code",
   "execution_count": 3,
   "metadata": {},
   "outputs": [],
   "source": [
    "data.drop(['RowNumber', 'CustomerId', 'Surname'], axis= 1, inplace= True)"
   ]
  },
  {
   "cell_type": "markdown",
   "metadata": {},
   "source": [
    "<b> Приведем название стобцов к нижнему регистру. </b>"
   ]
  },
  {
   "cell_type": "code",
   "execution_count": 4,
   "metadata": {},
   "outputs": [
    {
     "data": {
      "text/plain": [
       "Index(['creditscore', 'geography', 'gender', 'age', 'tenure', 'balance',\n",
       "       'numofproducts', 'hascrcard', 'isactivemember', 'estimatedsalary',\n",
       "       'exited'],\n",
       "      dtype='object')"
      ]
     },
     "execution_count": 4,
     "metadata": {},
     "output_type": "execute_result"
    }
   ],
   "source": [
    "data.columns = data.columns.str.lower()\n",
    "data.columns"
   ]
  },
  {
   "cell_type": "markdown",
   "metadata": {},
   "source": [
    "<b> Посмотрим на краткую статистическую сводку. </b>"
   ]
  },
  {
   "cell_type": "code",
   "execution_count": 5,
   "metadata": {},
   "outputs": [
    {
     "data": {
      "text/html": [
       "<div>\n",
       "<style scoped>\n",
       "    .dataframe tbody tr th:only-of-type {\n",
       "        vertical-align: middle;\n",
       "    }\n",
       "\n",
       "    .dataframe tbody tr th {\n",
       "        vertical-align: top;\n",
       "    }\n",
       "\n",
       "    .dataframe thead th {\n",
       "        text-align: right;\n",
       "    }\n",
       "</style>\n",
       "<table border=\"1\" class=\"dataframe\">\n",
       "  <thead>\n",
       "    <tr style=\"text-align: right;\">\n",
       "      <th></th>\n",
       "      <th>creditscore</th>\n",
       "      <th>age</th>\n",
       "      <th>tenure</th>\n",
       "      <th>balance</th>\n",
       "      <th>numofproducts</th>\n",
       "      <th>hascrcard</th>\n",
       "      <th>isactivemember</th>\n",
       "      <th>estimatedsalary</th>\n",
       "      <th>exited</th>\n",
       "    </tr>\n",
       "  </thead>\n",
       "  <tbody>\n",
       "    <tr>\n",
       "      <th>count</th>\n",
       "      <td>10000.000000</td>\n",
       "      <td>10000.000000</td>\n",
       "      <td>9091.000000</td>\n",
       "      <td>10000.000000</td>\n",
       "      <td>10000.000000</td>\n",
       "      <td>10000.00000</td>\n",
       "      <td>10000.000000</td>\n",
       "      <td>10000.000000</td>\n",
       "      <td>10000.000000</td>\n",
       "    </tr>\n",
       "    <tr>\n",
       "      <th>mean</th>\n",
       "      <td>650.528800</td>\n",
       "      <td>38.921800</td>\n",
       "      <td>4.997690</td>\n",
       "      <td>76485.889288</td>\n",
       "      <td>1.530200</td>\n",
       "      <td>0.70550</td>\n",
       "      <td>0.515100</td>\n",
       "      <td>100090.239881</td>\n",
       "      <td>0.203700</td>\n",
       "    </tr>\n",
       "    <tr>\n",
       "      <th>std</th>\n",
       "      <td>96.653299</td>\n",
       "      <td>10.487806</td>\n",
       "      <td>2.894723</td>\n",
       "      <td>62397.405202</td>\n",
       "      <td>0.581654</td>\n",
       "      <td>0.45584</td>\n",
       "      <td>0.499797</td>\n",
       "      <td>57510.492818</td>\n",
       "      <td>0.402769</td>\n",
       "    </tr>\n",
       "    <tr>\n",
       "      <th>min</th>\n",
       "      <td>350.000000</td>\n",
       "      <td>18.000000</td>\n",
       "      <td>0.000000</td>\n",
       "      <td>0.000000</td>\n",
       "      <td>1.000000</td>\n",
       "      <td>0.00000</td>\n",
       "      <td>0.000000</td>\n",
       "      <td>11.580000</td>\n",
       "      <td>0.000000</td>\n",
       "    </tr>\n",
       "    <tr>\n",
       "      <th>25%</th>\n",
       "      <td>584.000000</td>\n",
       "      <td>32.000000</td>\n",
       "      <td>2.000000</td>\n",
       "      <td>0.000000</td>\n",
       "      <td>1.000000</td>\n",
       "      <td>0.00000</td>\n",
       "      <td>0.000000</td>\n",
       "      <td>51002.110000</td>\n",
       "      <td>0.000000</td>\n",
       "    </tr>\n",
       "    <tr>\n",
       "      <th>50%</th>\n",
       "      <td>652.000000</td>\n",
       "      <td>37.000000</td>\n",
       "      <td>5.000000</td>\n",
       "      <td>97198.540000</td>\n",
       "      <td>1.000000</td>\n",
       "      <td>1.00000</td>\n",
       "      <td>1.000000</td>\n",
       "      <td>100193.915000</td>\n",
       "      <td>0.000000</td>\n",
       "    </tr>\n",
       "    <tr>\n",
       "      <th>75%</th>\n",
       "      <td>718.000000</td>\n",
       "      <td>44.000000</td>\n",
       "      <td>7.000000</td>\n",
       "      <td>127644.240000</td>\n",
       "      <td>2.000000</td>\n",
       "      <td>1.00000</td>\n",
       "      <td>1.000000</td>\n",
       "      <td>149388.247500</td>\n",
       "      <td>0.000000</td>\n",
       "    </tr>\n",
       "    <tr>\n",
       "      <th>max</th>\n",
       "      <td>850.000000</td>\n",
       "      <td>92.000000</td>\n",
       "      <td>10.000000</td>\n",
       "      <td>250898.090000</td>\n",
       "      <td>4.000000</td>\n",
       "      <td>1.00000</td>\n",
       "      <td>1.000000</td>\n",
       "      <td>199992.480000</td>\n",
       "      <td>1.000000</td>\n",
       "    </tr>\n",
       "  </tbody>\n",
       "</table>\n",
       "</div>"
      ],
      "text/plain": [
       "        creditscore           age       tenure        balance  numofproducts  \\\n",
       "count  10000.000000  10000.000000  9091.000000   10000.000000   10000.000000   \n",
       "mean     650.528800     38.921800     4.997690   76485.889288       1.530200   \n",
       "std       96.653299     10.487806     2.894723   62397.405202       0.581654   \n",
       "min      350.000000     18.000000     0.000000       0.000000       1.000000   \n",
       "25%      584.000000     32.000000     2.000000       0.000000       1.000000   \n",
       "50%      652.000000     37.000000     5.000000   97198.540000       1.000000   \n",
       "75%      718.000000     44.000000     7.000000  127644.240000       2.000000   \n",
       "max      850.000000     92.000000    10.000000  250898.090000       4.000000   \n",
       "\n",
       "         hascrcard  isactivemember  estimatedsalary        exited  \n",
       "count  10000.00000    10000.000000     10000.000000  10000.000000  \n",
       "mean       0.70550        0.515100    100090.239881      0.203700  \n",
       "std        0.45584        0.499797     57510.492818      0.402769  \n",
       "min        0.00000        0.000000        11.580000      0.000000  \n",
       "25%        0.00000        0.000000     51002.110000      0.000000  \n",
       "50%        1.00000        1.000000    100193.915000      0.000000  \n",
       "75%        1.00000        1.000000    149388.247500      0.000000  \n",
       "max        1.00000        1.000000    199992.480000      1.000000  "
      ]
     },
     "execution_count": 5,
     "metadata": {},
     "output_type": "execute_result"
    }
   ],
   "source": [
    "data.describe()"
   ]
  },
  {
   "cell_type": "markdown",
   "metadata": {},
   "source": [
    "<b> Проверим столбцы, в которых могут содержаться очевидные ошибки, на аномалии. </b>"
   ]
  },
  {
   "cell_type": "code",
   "execution_count": 6,
   "metadata": {},
   "outputs": [
    {
     "data": {
      "text/plain": [
       "array(['France', 'Spain', 'Germany'], dtype=object)"
      ]
     },
     "execution_count": 6,
     "metadata": {},
     "output_type": "execute_result"
    }
   ],
   "source": [
    "data['geography'].unique()"
   ]
  },
  {
   "cell_type": "code",
   "execution_count": 7,
   "metadata": {},
   "outputs": [
    {
     "data": {
      "text/plain": [
       "array(['Female', 'Male'], dtype=object)"
      ]
     },
     "execution_count": 7,
     "metadata": {},
     "output_type": "execute_result"
    }
   ],
   "source": [
    "data['gender'].unique()"
   ]
  },
  {
   "cell_type": "code",
   "execution_count": 8,
   "metadata": {},
   "outputs": [
    {
     "data": {
      "text/plain": [
       "array([42, 41, 39, 43, 44, 50, 29, 27, 31, 24, 34, 25, 35, 45, 58, 32, 38,\n",
       "       46, 36, 33, 40, 51, 61, 49, 37, 19, 66, 56, 26, 21, 55, 75, 22, 30,\n",
       "       28, 65, 48, 52, 57, 73, 47, 54, 72, 20, 67, 79, 62, 53, 80, 59, 68,\n",
       "       23, 60, 70, 63, 64, 18, 82, 69, 74, 71, 76, 77, 88, 85, 84, 78, 81,\n",
       "       92, 83], dtype=int64)"
      ]
     },
     "execution_count": 8,
     "metadata": {},
     "output_type": "execute_result"
    }
   ],
   "source": [
    "data['age'].unique()"
   ]
  },
  {
   "cell_type": "code",
   "execution_count": 9,
   "metadata": {},
   "outputs": [
    {
     "data": {
      "text/plain": [
       "array([ 2.,  1.,  8.,  7.,  4.,  6.,  3., 10.,  5.,  9.,  0., nan])"
      ]
     },
     "execution_count": 9,
     "metadata": {},
     "output_type": "execute_result"
    }
   ],
   "source": [
    "data['tenure'].unique()"
   ]
  },
  {
   "cell_type": "code",
   "execution_count": 10,
   "metadata": {},
   "outputs": [
    {
     "data": {
      "text/plain": [
       "array([1, 3, 2, 4], dtype=int64)"
      ]
     },
     "execution_count": 10,
     "metadata": {},
     "output_type": "execute_result"
    }
   ],
   "source": [
    "data['numofproducts'].unique()"
   ]
  },
  {
   "cell_type": "code",
   "execution_count": 11,
   "metadata": {},
   "outputs": [
    {
     "data": {
      "text/plain": [
       "array([1, 0], dtype=int64)"
      ]
     },
     "execution_count": 11,
     "metadata": {},
     "output_type": "execute_result"
    }
   ],
   "source": [
    "data['hascrcard'].unique()"
   ]
  },
  {
   "cell_type": "code",
   "execution_count": 12,
   "metadata": {},
   "outputs": [
    {
     "data": {
      "text/plain": [
       "array([1, 0], dtype=int64)"
      ]
     },
     "execution_count": 12,
     "metadata": {},
     "output_type": "execute_result"
    }
   ],
   "source": [
    "data['isactivemember'].unique()"
   ]
  },
  {
   "cell_type": "code",
   "execution_count": 13,
   "metadata": {},
   "outputs": [
    {
     "data": {
      "text/plain": [
       "array([1, 0], dtype=int64)"
      ]
     },
     "execution_count": 13,
     "metadata": {},
     "output_type": "execute_result"
    }
   ],
   "source": [
    "data['exited'].unique()"
   ]
  },
  {
   "cell_type": "markdown",
   "metadata": {},
   "source": [
    "<b> Проверим данные на явные дубликаты. </b>"
   ]
  },
  {
   "cell_type": "code",
   "execution_count": 14,
   "metadata": {},
   "outputs": [
    {
     "data": {
      "text/plain": [
       "0"
      ]
     },
     "execution_count": 14,
     "metadata": {},
     "output_type": "execute_result"
    }
   ],
   "source": [
    "data.duplicated().sum()"
   ]
  },
  {
   "cell_type": "markdown",
   "metadata": {},
   "source": [
    "Явных дубликатов не обнаружено"
   ]
  },
  {
   "cell_type": "markdown",
   "metadata": {},
   "source": [
    "Посмотрим на количество пропущенных значений в столбце tenure в процентном соотношении."
   ]
  },
  {
   "cell_type": "code",
   "execution_count": 15,
   "metadata": {},
   "outputs": [
    {
     "data": {
      "text/plain": [
       "9.09"
      ]
     },
     "execution_count": 15,
     "metadata": {},
     "output_type": "execute_result"
    }
   ],
   "source": [
    "data['tenure'].isna().sum() / data.shape[0] * 100"
   ]
  },
  {
   "cell_type": "markdown",
   "metadata": {},
   "source": [
    "<b> В столбце 9% пропущенных значений. Заполним пропуски медианой. </b>"
   ]
  },
  {
   "cell_type": "code",
   "execution_count": 16,
   "metadata": {},
   "outputs": [
    {
     "data": {
      "text/plain": [
       "0"
      ]
     },
     "execution_count": 16,
     "metadata": {},
     "output_type": "execute_result"
    }
   ],
   "source": [
    "data['tenure'].fillna(data['tenure'].median(), inplace = True)\n",
    "data['tenure'].isna().sum()"
   ]
  },
  {
   "cell_type": "markdown",
   "metadata": {},
   "source": [
    "Посмотрев на основную информацию о признаках, можно сделать вывод о том, что One-Hot Encoding применим к столбцам gender и geography, а масштабирование - к creditscore, balance и estimatedSalary, так как мы не хотим, чтобы при обучении какой-то признак с более высоким значением был засчитан как более значимый."
   ]
  },
  {
   "cell_type": "code",
   "execution_count": 17,
   "metadata": {},
   "outputs": [
    {
     "data": {
      "text/html": [
       "<div>\n",
       "<style scoped>\n",
       "    .dataframe tbody tr th:only-of-type {\n",
       "        vertical-align: middle;\n",
       "    }\n",
       "\n",
       "    .dataframe tbody tr th {\n",
       "        vertical-align: top;\n",
       "    }\n",
       "\n",
       "    .dataframe thead th {\n",
       "        text-align: right;\n",
       "    }\n",
       "</style>\n",
       "<table border=\"1\" class=\"dataframe\">\n",
       "  <thead>\n",
       "    <tr style=\"text-align: right;\">\n",
       "      <th></th>\n",
       "      <th>creditscore</th>\n",
       "      <th>age</th>\n",
       "      <th>tenure</th>\n",
       "      <th>balance</th>\n",
       "      <th>numofproducts</th>\n",
       "      <th>hascrcard</th>\n",
       "      <th>isactivemember</th>\n",
       "      <th>estimatedsalary</th>\n",
       "      <th>exited</th>\n",
       "      <th>gender_Male</th>\n",
       "      <th>geography_Germany</th>\n",
       "      <th>geography_Spain</th>\n",
       "    </tr>\n",
       "  </thead>\n",
       "  <tbody>\n",
       "    <tr>\n",
       "      <th>0</th>\n",
       "      <td>619</td>\n",
       "      <td>42</td>\n",
       "      <td>2.0</td>\n",
       "      <td>0.00</td>\n",
       "      <td>1</td>\n",
       "      <td>1</td>\n",
       "      <td>1</td>\n",
       "      <td>101348.88</td>\n",
       "      <td>1</td>\n",
       "      <td>0</td>\n",
       "      <td>0</td>\n",
       "      <td>0</td>\n",
       "    </tr>\n",
       "    <tr>\n",
       "      <th>1</th>\n",
       "      <td>608</td>\n",
       "      <td>41</td>\n",
       "      <td>1.0</td>\n",
       "      <td>83807.86</td>\n",
       "      <td>1</td>\n",
       "      <td>0</td>\n",
       "      <td>1</td>\n",
       "      <td>112542.58</td>\n",
       "      <td>0</td>\n",
       "      <td>0</td>\n",
       "      <td>0</td>\n",
       "      <td>1</td>\n",
       "    </tr>\n",
       "    <tr>\n",
       "      <th>2</th>\n",
       "      <td>502</td>\n",
       "      <td>42</td>\n",
       "      <td>8.0</td>\n",
       "      <td>159660.80</td>\n",
       "      <td>3</td>\n",
       "      <td>1</td>\n",
       "      <td>0</td>\n",
       "      <td>113931.57</td>\n",
       "      <td>1</td>\n",
       "      <td>0</td>\n",
       "      <td>0</td>\n",
       "      <td>0</td>\n",
       "    </tr>\n",
       "    <tr>\n",
       "      <th>3</th>\n",
       "      <td>699</td>\n",
       "      <td>39</td>\n",
       "      <td>1.0</td>\n",
       "      <td>0.00</td>\n",
       "      <td>2</td>\n",
       "      <td>0</td>\n",
       "      <td>0</td>\n",
       "      <td>93826.63</td>\n",
       "      <td>0</td>\n",
       "      <td>0</td>\n",
       "      <td>0</td>\n",
       "      <td>0</td>\n",
       "    </tr>\n",
       "    <tr>\n",
       "      <th>4</th>\n",
       "      <td>850</td>\n",
       "      <td>43</td>\n",
       "      <td>2.0</td>\n",
       "      <td>125510.82</td>\n",
       "      <td>1</td>\n",
       "      <td>1</td>\n",
       "      <td>1</td>\n",
       "      <td>79084.10</td>\n",
       "      <td>0</td>\n",
       "      <td>0</td>\n",
       "      <td>0</td>\n",
       "      <td>1</td>\n",
       "    </tr>\n",
       "  </tbody>\n",
       "</table>\n",
       "</div>"
      ],
      "text/plain": [
       "   creditscore  age  tenure    balance  numofproducts  hascrcard  \\\n",
       "0          619   42     2.0       0.00              1          1   \n",
       "1          608   41     1.0   83807.86              1          0   \n",
       "2          502   42     8.0  159660.80              3          1   \n",
       "3          699   39     1.0       0.00              2          0   \n",
       "4          850   43     2.0  125510.82              1          1   \n",
       "\n",
       "   isactivemember  estimatedsalary  exited  gender_Male  geography_Germany  \\\n",
       "0               1        101348.88       1            0                  0   \n",
       "1               1        112542.58       0            0                  0   \n",
       "2               0        113931.57       1            0                  0   \n",
       "3               0         93826.63       0            0                  0   \n",
       "4               1         79084.10       0            0                  0   \n",
       "\n",
       "   geography_Spain  \n",
       "0                0  \n",
       "1                1  \n",
       "2                0  \n",
       "3                0  \n",
       "4                1  "
      ]
     },
     "execution_count": 17,
     "metadata": {},
     "output_type": "execute_result"
    }
   ],
   "source": [
    "data = pd.get_dummies(data, drop_first = True, columns=['gender', 'geography'])\n",
    "data.head()"
   ]
  },
  {
   "cell_type": "markdown",
   "metadata": {},
   "source": [
    "На данной стадии мы подготовили данные для последующего исследования:\n",
    "* Изучили данные.\n",
    "* Удалили 3 столбца, не представляющих ценности для обучения модели.\n",
    "* Изменили регистр в названии столбцов. \n",
    "* Проверили данные на аномалии. \n",
    "* Проверили данные на явные дубликаты.\n",
    "* Заполнили пропуски в столбце tenure медианным значением.\n",
    "* Применили OHE к двум столбцам.\n",
    "* Прменили масштабирование к 3 столбцам."
   ]
  },
  {
   "cell_type": "markdown",
   "metadata": {},
   "source": [
    "## Исследование задачи"
   ]
  },
  {
   "cell_type": "markdown",
   "metadata": {},
   "source": [
    "###  Исследуем баланс классов "
   ]
  },
  {
   "cell_type": "code",
   "execution_count": 18,
   "metadata": {},
   "outputs": [
    {
     "name": "stdout",
     "output_type": "stream",
     "text": [
      "0    0.7963\n",
      "1    0.2037\n",
      "Name: exited, dtype: float64\n"
     ]
    },
    {
     "data": {
      "text/plain": [
       "<Axes: >"
      ]
     },
     "execution_count": 18,
     "metadata": {},
     "output_type": "execute_result"
    },
    {
     "data": {
      "image/png": "[encoded data removed]",
      "text/plain": [
       "<Figure size 640x480 with 1 Axes>"
      ]
     },
     "metadata": {},
     "output_type": "display_data"
    }
   ],
   "source": [
    "class_balance = data['exited'].value_counts(normalize = True)\n",
    "print(class_balance)\n",
    "class_balance.plot(kind='bar')"
   ]
  },
  {
   "cell_type": "markdown",
   "metadata": {},
   "source": [
    "### Изучем модели без учёта дисбаланса"
   ]
  },
  {
   "cell_type": "markdown",
   "metadata": {},
   "source": [
    "Разобьем датасет на 3 выборки: train/test/valid (3:1:1)"
   ]
  },
  {
   "cell_type": "code",
   "execution_count": 19,
   "metadata": {},
   "outputs": [],
   "source": [
    "features = data.drop(['exited'], axis=1)\n",
    "target = data['exited']\n",
    "\n",
    "features_train, features_test, target_train, target_test = train_test_split(features,\n",
    "                                                                            target,\n",
    "                                                                            test_size=0.4,\n",
    "                                                                            random_state=12345)\n",
    "\n",
    "features_valid, features_test, target_valid, target_test = train_test_split(features_test,\n",
    "                                                                            target_test,\n",
    "                                                                            test_size=0.5,\n",
    "                                                                            random_state=12345)"
   ]
  },
  {
   "cell_type": "markdown",
   "metadata": {},
   "source": [
    "<b> Применим масштабирование к creditscore, balance и estimatedsalary. </b>"
   ]
  },
  {
   "cell_type": "code",
   "execution_count": 20,
   "metadata": {},
   "outputs": [
    {
     "data": {
      "text/html": [
       "<div>\n",
       "<style scoped>\n",
       "    .dataframe tbody tr th:only-of-type {\n",
       "        vertical-align: middle;\n",
       "    }\n",
       "\n",
       "    .dataframe tbody tr th {\n",
       "        vertical-align: top;\n",
       "    }\n",
       "\n",
       "    .dataframe thead th {\n",
       "        text-align: right;\n",
       "    }\n",
       "</style>\n",
       "<table border=\"1\" class=\"dataframe\">\n",
       "  <thead>\n",
       "    <tr style=\"text-align: right;\">\n",
       "      <th></th>\n",
       "      <th>creditscore</th>\n",
       "      <th>age</th>\n",
       "      <th>tenure</th>\n",
       "      <th>balance</th>\n",
       "      <th>numofproducts</th>\n",
       "      <th>hascrcard</th>\n",
       "      <th>isactivemember</th>\n",
       "      <th>estimatedsalary</th>\n",
       "      <th>gender_Male</th>\n",
       "      <th>geography_Germany</th>\n",
       "      <th>geography_Spain</th>\n",
       "    </tr>\n",
       "  </thead>\n",
       "  <tbody>\n",
       "    <tr>\n",
       "      <th>7479</th>\n",
       "      <td>-0.886751</td>\n",
       "      <td>35</td>\n",
       "      <td>8.0</td>\n",
       "      <td>1.232271</td>\n",
       "      <td>1</td>\n",
       "      <td>1</td>\n",
       "      <td>0</td>\n",
       "      <td>-0.187705</td>\n",
       "      <td>1</td>\n",
       "      <td>0</td>\n",
       "      <td>1</td>\n",
       "    </tr>\n",
       "    <tr>\n",
       "      <th>3411</th>\n",
       "      <td>0.608663</td>\n",
       "      <td>37</td>\n",
       "      <td>8.0</td>\n",
       "      <td>0.600563</td>\n",
       "      <td>1</td>\n",
       "      <td>0</td>\n",
       "      <td>0</td>\n",
       "      <td>-0.333945</td>\n",
       "      <td>0</td>\n",
       "      <td>0</td>\n",
       "      <td>0</td>\n",
       "    </tr>\n",
       "    <tr>\n",
       "      <th>6027</th>\n",
       "      <td>2.052152</td>\n",
       "      <td>44</td>\n",
       "      <td>3.0</td>\n",
       "      <td>1.027098</td>\n",
       "      <td>2</td>\n",
       "      <td>0</td>\n",
       "      <td>1</td>\n",
       "      <td>1.503095</td>\n",
       "      <td>1</td>\n",
       "      <td>1</td>\n",
       "      <td>0</td>\n",
       "    </tr>\n",
       "    <tr>\n",
       "      <th>1247</th>\n",
       "      <td>-1.457915</td>\n",
       "      <td>24</td>\n",
       "      <td>6.0</td>\n",
       "      <td>-1.233163</td>\n",
       "      <td>2</td>\n",
       "      <td>1</td>\n",
       "      <td>0</td>\n",
       "      <td>-1.071061</td>\n",
       "      <td>1</td>\n",
       "      <td>0</td>\n",
       "      <td>0</td>\n",
       "    </tr>\n",
       "    <tr>\n",
       "      <th>3716</th>\n",
       "      <td>0.130961</td>\n",
       "      <td>27</td>\n",
       "      <td>2.0</td>\n",
       "      <td>1.140475</td>\n",
       "      <td>1</td>\n",
       "      <td>0</td>\n",
       "      <td>0</td>\n",
       "      <td>1.524268</td>\n",
       "      <td>0</td>\n",
       "      <td>1</td>\n",
       "      <td>0</td>\n",
       "    </tr>\n",
       "  </tbody>\n",
       "</table>\n",
       "</div>"
      ],
      "text/plain": [
       "      creditscore  age  tenure   balance  numofproducts  hascrcard  \\\n",
       "7479    -0.886751   35     8.0  1.232271              1          1   \n",
       "3411     0.608663   37     8.0  0.600563              1          0   \n",
       "6027     2.052152   44     3.0  1.027098              2          0   \n",
       "1247    -1.457915   24     6.0 -1.233163              2          1   \n",
       "3716     0.130961   27     2.0  1.140475              1          0   \n",
       "\n",
       "      isactivemember  estimatedsalary  gender_Male  geography_Germany  \\\n",
       "7479               0        -0.187705            1                  0   \n",
       "3411               0        -0.333945            0                  0   \n",
       "6027               1         1.503095            1                  1   \n",
       "1247               0        -1.071061            1                  0   \n",
       "3716               0         1.524268            0                  1   \n",
       "\n",
       "      geography_Spain  \n",
       "7479                1  \n",
       "3411                0  \n",
       "6027                0  \n",
       "1247                0  \n",
       "3716                0  "
      ]
     },
     "execution_count": 20,
     "metadata": {},
     "output_type": "execute_result"
    }
   ],
   "source": [
    "cols_to_scale = ['creditscore', 'balance', 'estimatedsalary']\n",
    "scaler = StandardScaler()\n",
    "scaler.fit(features_train[cols_to_scale])\n",
    "features_train[cols_to_scale] = scaler.transform(features_train[cols_to_scale])\n",
    "features_valid[cols_to_scale] = scaler.transform(features_valid[cols_to_scale])\n",
    "features_train.head()"
   ]
  },
  {
   "cell_type": "markdown",
   "metadata": {},
   "source": [
    "Обучим несколько моделей без учёта дисбаланса и посмотрим на ключевые метрики: Recall, Precision и F1-score."
   ]
  },
  {
   "cell_type": "markdown",
   "metadata": {},
   "source": [
    "<b> Дерево решений </b>"
   ]
  },
  {
   "cell_type": "code",
   "execution_count": 21,
   "metadata": {},
   "outputs": [
    {
     "name": "stdout",
     "output_type": "stream",
     "text": [
      "Accuracy лучшей модели: 0.858\n",
      "Глубина дерева: 6\n",
      "Recall дерева решений: 0.44976076555023925\n",
      "Precision дерева решений: 0.7768595041322314\n",
      "F1 дерева решений: 0.5696969696969697\n",
      "ROC-AUC дерева решений: 0.8164631712023421\n"
     ]
    }
   ],
   "source": [
    "tree_best_model = None\n",
    "tree_best_result = 0\n",
    "for depth in range(1, 11):\n",
    "    model = DecisionTreeClassifier(random_state=12345, max_depth= depth)\n",
    "    model.fit(features_train, target_train) \n",
    "    predictions_valid = model.predict(features_valid) \n",
    "    result = f1_score(target_valid, predictions_valid)\n",
    "    if result > tree_best_result:\n",
    "        tree_best_model = model\n",
    "        tree_best_result = result\n",
    "        tree_predictions_valid = predictions_valid\n",
    "\n",
    "print(\"Accuracy лучшей модели:\", accuracy_score(target_valid, tree_predictions_valid))\n",
    "print(\"Глубина дерева:\", tree_best_model.max_depth)\n",
    "print(\"Recall дерева решений:\", recall_score(target_valid, tree_predictions_valid))\n",
    "print(\"Precision дерева решений:\", precision_score(target_valid, tree_predictions_valid))\n",
    "print(\"F1 дерева решений:\", tree_best_result)\n",
    "probabilities_one_valid = tree_best_model.predict_proba(features_valid)[:, 1]\n",
    "tree_best_model_roc_auc = roc_auc_score(target_valid, probabilities_one_valid)\n",
    "print(\"ROC-AUC дерева решений:\", tree_best_model_roc_auc)"
   ]
  },
  {
   "cell_type": "markdown",
   "metadata": {},
   "source": [
    "<b> Случайный лес </b>"
   ]
  },
  {
   "cell_type": "code",
   "execution_count": 22,
   "metadata": {},
   "outputs": [
    {
     "name": "stdout",
     "output_type": "stream",
     "text": [
      "Accuracy лучшей модели: 0.8675\n",
      "Количество деревьев в лесу: 18\n",
      "Recall случайного леса: 0.4880382775119617\n",
      "Precision случайного леса: 0.8\n",
      "F1 случайного леса 0.6062407132243686\n",
      "ROC-AUC случайного леса: 0.8357644916797222\n"
     ]
    }
   ],
   "source": [
    "forest_best_model = None\n",
    "forest_best_result = 0\n",
    "\n",
    "for est in range(1, 20):\n",
    "    for depth in range(1, 20):\n",
    "        model = RandomForestClassifier(random_state=12345, n_estimators=est, max_depth= depth)\n",
    "        model.fit(features_train, target_train)\n",
    "        predictions_valid = model.predict(features_valid)\n",
    "        result = f1_score(target_valid, predictions_valid)\n",
    "        if result > forest_best_result:\n",
    "            forest_best_model = model\n",
    "            forest_best_result = result\n",
    "            forest_predictions_valid = predictions_valid\n",
    "\n",
    "print(\"Accuracy лучшей модели:\", accuracy_score(target_valid, forest_predictions_valid))\n",
    "print(\"Количество деревьев в лесу:\", forest_best_model.n_estimators)\n",
    "print(\"Recall случайного леса:\", recall_score(target_valid, forest_predictions_valid))\n",
    "print(\"Precision случайного леса:\", precision_score(target_valid, forest_predictions_valid))\n",
    "print(\"F1 случайного леса\", forest_best_result)\n",
    "probabilities_one_valid = forest_best_model.predict_proba(features_valid)[:, 1]\n",
    "forest_best_model_roc_auc = roc_auc_score(target_valid, probabilities_one_valid)\n",
    "print(\"ROC-AUC случайного леса:\", forest_best_model_roc_auc)"
   ]
  },
  {
   "cell_type": "markdown",
   "metadata": {},
   "source": [
    "<b> Логистическая регрессия </b>"
   ]
  },
  {
   "cell_type": "code",
   "execution_count": 23,
   "metadata": {},
   "outputs": [
    {
     "name": "stdout",
     "output_type": "stream",
     "text": [
      "Accuracy модели: 0.802\n",
      "Recall логической регрессии: 0.23444976076555024\n",
      "Precision логической регрессии: 0.5632183908045977\n",
      "F1 логической регрессии 0.33108108108108103\n",
      "ROC-AUC случайного леса: 0.758819312964632\n"
     ]
    }
   ],
   "source": [
    "model = LogisticRegression(random_state=12345, solver='lbfgs', max_iter=1000) \n",
    "model.fit(features_train, target_train)\n",
    "predictions_valid = model.predict(features_valid) \n",
    "log_result = f1_score(target_valid, predictions_valid)\n",
    "print(\"Accuracy модели:\", accuracy_score(target_valid, predictions_valid))\n",
    "print(\"Recall логической регрессии:\", recall_score(target_valid, predictions_valid))\n",
    "print(\"Precision логической регрессии:\", precision_score(target_valid, predictions_valid))\n",
    "print(\"F1 логической регрессии\", log_result)\n",
    "probabilities_one_valid = model.predict_proba(features_valid)[:, 1]\n",
    "log_result_roc_auc = roc_auc_score(target_valid, probabilities_one_valid)\n",
    "print(\"ROC-AUC случайного леса:\", log_result_roc_auc)"
   ]
  },
  {
   "cell_type": "markdown",
   "metadata": {},
   "source": [
    "### Вывод по результатам исследования"
   ]
  },
  {
   "cell_type": "markdown",
   "metadata": {},
   "source": [
    "Среднее гармоническое использованных моделей:\n",
    "* дерево решений - 0.57;\n",
    "* случайный лес - 0.6;\n",
    "* логистическая регрессия - 0.33.\n",
    "\n",
    "Таким образом, наилучшее значение метрики F1-score без учёта дисбаланса классов демонстрирует модель случайного леса (0.6)."
   ]
  },
  {
   "cell_type": "markdown",
   "metadata": {},
   "source": [
    "## Борьба с дисбалансом"
   ]
  },
  {
   "cell_type": "markdown",
   "metadata": {},
   "source": [
    "Для борьбы с дисбалансом применим 3 способа:\n",
    "1. Взвешивание классов.\n",
    "2. Увеличение выборки.\n",
    "3. Уменьшение выборки. \n"
   ]
  },
  {
   "cell_type": "markdown",
   "metadata": {},
   "source": [
    " ### Взвешивание классов"
   ]
  },
  {
   "cell_type": "markdown",
   "metadata": {},
   "source": [
    "<b> Дерево решений </b>"
   ]
  },
  {
   "cell_type": "code",
   "execution_count": 24,
   "metadata": {},
   "outputs": [
    {
     "name": "stdout",
     "output_type": "stream",
     "text": [
      "Accuracy лучшей модели: 0.8105\n",
      "Глубина дерева: 5\n",
      "Recall дерева решений: 0.6698564593301436\n",
      "Precision дерева решений: 0.5374280230326296\n",
      "F1 дерева решений: 0.5963791267305644\n",
      "ROC-AUC случайного леса: 0.8310244134068074\n"
     ]
    }
   ],
   "source": [
    "weight_tree_best_model = None\n",
    "weight_tree_best_result = 0\n",
    "for depth in range(1, 11):\n",
    "    model = DecisionTreeClassifier(random_state=12345, max_depth= depth, class_weight='balanced')\n",
    "    model.fit(features_train, target_train) \n",
    "    predictions_valid = model.predict(features_valid) \n",
    "    result = f1_score(target_valid, predictions_valid)\n",
    "    if result > weight_tree_best_result:\n",
    "        weight_tree_best_model = model\n",
    "        weight_tree_best_result = result\n",
    "        tree_predictions_valid = predictions_valid\n",
    "\n",
    "print(\"Accuracy лучшей модели:\", accuracy_score(target_valid, tree_predictions_valid))\n",
    "print(\"Глубина дерева:\", weight_tree_best_model.max_depth)\n",
    "print(\"Recall дерева решений:\", recall_score(target_valid, tree_predictions_valid))\n",
    "print(\"Precision дерева решений:\", precision_score(target_valid, tree_predictions_valid))\n",
    "print(\"F1 дерева решений:\", weight_tree_best_result)\n",
    "probabilities_one_valid = weight_tree_best_model.predict_proba(features_valid)[:, 1]\n",
    "weight_tree_best_model_roc_auc = roc_auc_score(target_valid, probabilities_one_valid)\n",
    "print(\"ROC-AUC случайного леса:\", weight_tree_best_model_roc_auc)"
   ]
  },
  {
   "cell_type": "markdown",
   "metadata": {},
   "source": [
    "<b> Случайный лес </b>"
   ]
  },
  {
   "cell_type": "code",
   "execution_count": 25,
   "metadata": {},
   "outputs": [
    {
     "name": "stdout",
     "output_type": "stream",
     "text": [
      "Accuracy лучшей модели: 0.817\n",
      "Количество деревьев в лесу: 19\n",
      "Глубина дерева: 6\n",
      "Recall случайного леса: 0.7344497607655502\n",
      "Precision случайного леса: 0.5462633451957295\n",
      "F1 случайного леса 0.6265306122448979\n",
      "ROC-AUC случайного леса: 0.8463326961813222\n"
     ]
    }
   ],
   "source": [
    "weight_forest_best_model = None\n",
    "weight_forest_best_result = 0\n",
    "for est in range(1, 20):\n",
    "    for depth in range(1, 20):\n",
    "        model = RandomForestClassifier(random_state=12345, n_estimators=est, max_depth= depth, class_weight='balanced')\n",
    "        model.fit(features_train, target_train)\n",
    "        predictions_valid = model.predict(features_valid)\n",
    "        result = f1_score(target_valid, predictions_valid)\n",
    "        if result > weight_forest_best_result:\n",
    "            weight_forest_best_model = model\n",
    "            weight_forest_best_result = result\n",
    "            forest_predictions_valid = predictions_valid\n",
    "\n",
    "print(\"Accuracy лучшей модели:\", accuracy_score(target_valid, forest_predictions_valid))\n",
    "print(\"Количество деревьев в лесу:\", weight_forest_best_model.n_estimators)\n",
    "print(\"Глубина дерева:\", weight_forest_best_model.max_depth)\n",
    "print(\"Recall случайного леса:\", recall_score(target_valid, forest_predictions_valid))\n",
    "print(\"Precision случайного леса:\", precision_score(target_valid, forest_predictions_valid))\n",
    "print(\"F1 случайного леса\", weight_forest_best_result)\n",
    "probabilities_one_valid = weight_forest_best_model.predict_proba(features_valid)[:, 1]\n",
    "weight_forest_best_model_roc_auc = roc_auc_score(target_valid, probabilities_one_valid)\n",
    "print(\"ROC-AUC случайного леса:\", weight_forest_best_model_roc_auc)"
   ]
  },
  {
   "cell_type": "markdown",
   "metadata": {},
   "source": [
    "<b> Логистическая регрессия </b>"
   ]
  },
  {
   "cell_type": "code",
   "execution_count": 26,
   "metadata": {},
   "outputs": [
    {
     "name": "stdout",
     "output_type": "stream",
     "text": [
      "Accuracy модели: 0.702\n",
      "Recall логической регрессии: 0.6818181818181818\n",
      "Precision логической регрессии: 0.3810160427807487\n",
      "F1 логической регрессии 0.4888507718696398\n",
      "ROC-AUC случайного леса: 0.7636690277584549\n"
     ]
    }
   ],
   "source": [
    "model = LogisticRegression(random_state=12345, solver='lbfgs', max_iter=1000, class_weight='balanced') \n",
    "model.fit(features_train, target_train)\n",
    "predictions_valid = model.predict(features_valid) \n",
    "weight_log_result = f1_score(target_valid, predictions_valid)\n",
    "print(\"Accuracy модели:\", accuracy_score(target_valid, predictions_valid))\n",
    "print(\"Recall логической регрессии:\", recall_score(target_valid, predictions_valid))\n",
    "print(\"Precision логической регрессии:\", precision_score(target_valid, predictions_valid))\n",
    "print(\"F1 логической регрессии\", weight_log_result)\n",
    "probabilities_one_valid = model.predict_proba(features_valid)[:, 1]\n",
    "weight_log_result_roc_auc = roc_auc_score(target_valid, probabilities_one_valid)\n",
    "print(\"ROC-AUC случайного леса:\", weight_log_result_roc_auc)"
   ]
  },
  {
   "cell_type": "markdown",
   "metadata": {},
   "source": [
    "### Увеличение выборки\n"
   ]
  },
  {
   "cell_type": "code",
   "execution_count": 27,
   "metadata": {},
   "outputs": [
    {
     "name": "stdout",
     "output_type": "stream",
     "text": [
      "(9588, 11)\n",
      "(9588,)\n"
     ]
    }
   ],
   "source": [
    "def upsample(features, target, repeat):\n",
    "    features_zeros = features[target == 0]\n",
    "    features_ones = features[target == 1]\n",
    "    target_zeros = target[target == 0]\n",
    "    target_ones = target[target == 1]\n",
    "\n",
    "    features_upsampled = pd.concat([features_zeros] + [features_ones] * repeat)\n",
    "    target_upsampled = pd.concat([target_zeros] + [target_ones] * repeat)\n",
    "    \n",
    "    features_upsampled, target_upsampled = shuffle(\n",
    "        features_upsampled, target_upsampled, random_state=12345)\n",
    "    \n",
    "    return features_upsampled, target_upsampled\n",
    "\n",
    "features_upsampled, target_upsampled = upsample(features_train, target_train, 4)\n",
    "\n",
    "print(features_upsampled.shape)\n",
    "print(target_upsampled.shape)"
   ]
  },
  {
   "cell_type": "markdown",
   "metadata": {},
   "source": [
    "<b> Дерево решений </b>"
   ]
  },
  {
   "cell_type": "code",
   "execution_count": 28,
   "metadata": {},
   "outputs": [
    {
     "name": "stdout",
     "output_type": "stream",
     "text": [
      "Accuracy лучшей модели: 0.8105\n",
      "Глубина дерева: 5\n",
      "Recall дерева решений: 0.6698564593301436\n",
      "Precision дерева решений: 0.5374280230326296\n",
      "F1 дерева решений: 0.5963791267305644\n",
      "ROC-AUC случайного леса: 0.8310244134068074\n"
     ]
    }
   ],
   "source": [
    "upsample_tree_best_model = None\n",
    "upsample_tree_best_result = 0\n",
    "for depth in range(1, 11):\n",
    "    model = DecisionTreeClassifier(random_state=12345, max_depth= depth)\n",
    "    model.fit(features_upsampled, target_upsampled) \n",
    "    predictions_valid = model.predict(features_valid) \n",
    "    result = f1_score(target_valid, predictions_valid)\n",
    "    if result > upsample_tree_best_result:\n",
    "        upsample_tree_best_model = model\n",
    "        upsample_tree_best_result = result\n",
    "        tree_predictions_valid = predictions_valid\n",
    "\n",
    "print(\"Accuracy лучшей модели:\", accuracy_score(target_valid, tree_predictions_valid))\n",
    "print(\"Глубина дерева:\", upsample_tree_best_model.max_depth)\n",
    "print(\"Recall дерева решений:\", recall_score(target_valid, tree_predictions_valid))\n",
    "print(\"Precision дерева решений:\", precision_score(target_valid, tree_predictions_valid))\n",
    "print(\"F1 дерева решений:\", upsample_tree_best_result)\n",
    "probabilities_one_valid = upsample_tree_best_model.predict_proba(features_valid)[:, 1]\n",
    "upsample_tree_best_model_roc_auc = roc_auc_score(target_valid, probabilities_one_valid)\n",
    "print(\"ROC-AUC случайного леса:\", upsample_tree_best_model_roc_auc)"
   ]
  },
  {
   "cell_type": "markdown",
   "metadata": {},
   "source": [
    "<b> Случайный лес </b>"
   ]
  },
  {
   "cell_type": "code",
   "execution_count": 29,
   "metadata": {},
   "outputs": [
    {
     "name": "stdout",
     "output_type": "stream",
     "text": [
      "Accuracy лучшей модели: 0.846\n",
      "Количество деревьев в лесу: 12\n",
      "Глубина дерева: 14\n",
      "Recall случайного леса: 0.6028708133971292\n",
      "Precision случайного леса: 0.6395939086294417\n",
      "F1 случайного леса 0.6206896551724138\n",
      "ROC-AUC случайного леса: 0.8272188919603918\n"
     ]
    }
   ],
   "source": [
    "upsample_forest_best_model = None\n",
    "upsample_forest_best_result = 0\n",
    "for est in range(1, 20):\n",
    "    for depth in range(1, 20):\n",
    "        model = RandomForestClassifier(random_state=12345, n_estimators=est, max_depth= depth)\n",
    "        model.fit(features_upsampled, target_upsampled)\n",
    "        predictions_valid = model.predict(features_valid)\n",
    "        result = f1_score(target_valid, predictions_valid)\n",
    "        if result > upsample_forest_best_result:\n",
    "            upsample_forest_best_model = model\n",
    "            upsample_forest_best_result = result\n",
    "            forest_predictions_valid = predictions_valid\n",
    "\n",
    "print(\"Accuracy лучшей модели:\", accuracy_score(target_valid, forest_predictions_valid))\n",
    "print(\"Количество деревьев в лесу:\", upsample_forest_best_model.n_estimators)\n",
    "print(\"Глубина дерева:\", upsample_forest_best_model.max_depth)\n",
    "print(\"Recall случайного леса:\", recall_score(target_valid, forest_predictions_valid))\n",
    "print(\"Precision случайного леса:\", precision_score(target_valid, forest_predictions_valid))\n",
    "print(\"F1 случайного леса\", upsample_forest_best_result)\n",
    "probabilities_one_valid = upsample_forest_best_model.predict_proba(features_valid)[:, 1]\n",
    "upsample_forest_best_model_roc_auc = roc_auc_score(target_valid, probabilities_one_valid)\n",
    "print(\"ROC-AUC случайного леса:\", upsample_forest_best_model_roc_auc)"
   ]
  },
  {
   "cell_type": "markdown",
   "metadata": {},
   "source": [
    "<b> Логистическая регрессия </b>"
   ]
  },
  {
   "cell_type": "code",
   "execution_count": 30,
   "metadata": {},
   "outputs": [
    {
     "name": "stdout",
     "output_type": "stream",
     "text": [
      "Accuracy модели: 0.7025\n",
      "Recall логической регрессии: 0.6818181818181818\n",
      "Precision логической регрессии: 0.3815261044176707\n",
      "F1 логической регрессии 0.4892703862660944\n",
      "ROC-AUC случайного леса: 0.7636962478601976\n"
     ]
    }
   ],
   "source": [
    "model = LogisticRegression(random_state=12345, solver='lbfgs', max_iter=1000) \n",
    "model.fit(features_upsampled, target_upsampled)\n",
    "predictions_valid = model.predict(features_valid) \n",
    "upsample_log_result = f1_score(target_valid, predictions_valid)\n",
    "print(\"Accuracy модели:\", accuracy_score(target_valid, predictions_valid))\n",
    "print(\"Recall логической регрессии:\", recall_score(target_valid, predictions_valid))\n",
    "print(\"Precision логической регрессии:\", precision_score(target_valid, predictions_valid))\n",
    "print(\"F1 логической регрессии\", upsample_log_result)\n",
    "probabilities_one_valid = model.predict_proba(features_valid)[:, 1]\n",
    "upsample_log_result_roc_auc = roc_auc_score(target_valid, probabilities_one_valid)\n",
    "print(\"ROC-AUC случайного леса:\", upsample_log_result_roc_auc)"
   ]
  },
  {
   "cell_type": "markdown",
   "metadata": {},
   "source": [
    "### Уменьшение выборки. "
   ]
  },
  {
   "cell_type": "code",
   "execution_count": 31,
   "metadata": {},
   "outputs": [
    {
     "name": "stdout",
     "output_type": "stream",
     "text": [
      "(2397, 11)\n",
      "(2397,)\n"
     ]
    }
   ],
   "source": [
    "def downsample(features, target, fraction):\n",
    "    features_zeros = features[target == 0]\n",
    "    features_ones = features[target == 1]\n",
    "    target_zeros = target[target == 0]\n",
    "    target_ones = target[target == 1]\n",
    "\n",
    "    features_downsampled = pd.concat(\n",
    "        [features_zeros.sample(frac=fraction, random_state=12345)] + [features_ones])\n",
    "    target_downsampled = pd.concat(\n",
    "        [target_zeros.sample(frac=fraction, random_state=12345)] + [target_ones])\n",
    "    \n",
    "    features_downsampled, target_downsampled = shuffle(\n",
    "        features_downsampled, target_downsampled, random_state=12345)\n",
    "    \n",
    "    return features_downsampled, target_downsampled\n",
    "\n",
    "features_downsampled, target_downsampled = downsample(features_train, target_train, 0.25)\n",
    "\n",
    "print(features_downsampled.shape)\n",
    "print(target_downsampled.shape)"
   ]
  },
  {
   "cell_type": "markdown",
   "metadata": {},
   "source": [
    "<b> Дерево решений </b>"
   ]
  },
  {
   "cell_type": "code",
   "execution_count": 32,
   "metadata": {},
   "outputs": [
    {
     "name": "stdout",
     "output_type": "stream",
     "text": [
      "Accuracy лучшей модели: 0.8015\n",
      "Глубина дерева: 5\n",
      "Recall дерева решений: 0.6985645933014354\n",
      "Precision дерева решений: 0.5186500888099467\n",
      "F1 дерева решений: 0.5953109072375127\n",
      "ROC-AUC случайного леса: 0.8240212861195628\n"
     ]
    }
   ],
   "source": [
    "downsample_tree_best_model = None\n",
    "downsample_tree_best_result = 0\n",
    "for depth in range(1, 11):\n",
    "    model = DecisionTreeClassifier(random_state=12345, max_depth= depth)\n",
    "    model.fit(features_downsampled, target_downsampled) \n",
    "    predictions_valid = model.predict(features_valid) \n",
    "    result = f1_score(target_valid, predictions_valid)\n",
    "    if result > downsample_tree_best_result:\n",
    "        downsample_tree_best_model = model\n",
    "        downsample_tree_best_result = result\n",
    "        tree_predictions_valid = predictions_valid\n",
    "\n",
    "print(\"Accuracy лучшей модели:\", accuracy_score(target_valid, tree_predictions_valid))\n",
    "print(\"Глубина дерева:\", downsample_tree_best_model.max_depth)\n",
    "print(\"Recall дерева решений:\", recall_score(target_valid, tree_predictions_valid))\n",
    "print(\"Precision дерева решений:\", precision_score(target_valid, tree_predictions_valid))\n",
    "print(\"F1 дерева решений:\", downsample_tree_best_result)\n",
    "probabilities_one_valid = downsample_tree_best_model.predict_proba(features_valid)[:, 1]\n",
    "downsample_tree_best_model_roc_auc = roc_auc_score(target_valid, probabilities_one_valid)\n",
    "print(\"ROC-AUC случайного леса:\", downsample_tree_best_model_roc_auc)"
   ]
  },
  {
   "cell_type": "markdown",
   "metadata": {},
   "source": [
    "<b> Случайный лес </b>"
   ]
  },
  {
   "cell_type": "code",
   "execution_count": 33,
   "metadata": {},
   "outputs": [
    {
     "name": "stdout",
     "output_type": "stream",
     "text": [
      "Accuracy лучшей модели: 0.7945\n",
      "Количество деревьев в лесу: 9\n",
      "Глубина дерева: 5\n",
      "Recall случайного леса: 0.7416267942583732\n",
      "Precision случайного леса: 0.5057096247960848\n",
      "F1 случайного леса 0.6013579049466536\n",
      "ROC-AUC случайного леса: 0.8391216375613209\n"
     ]
    }
   ],
   "source": [
    "downsample_forest_best_model = None\n",
    "downsample_forest_best_result = 0\n",
    "for est in range(1, 20):\n",
    "    for depth in range(1, 20):\n",
    "        model = RandomForestClassifier(random_state=12345, n_estimators=est, max_depth= depth)\n",
    "        model.fit(features_downsampled, target_downsampled)\n",
    "        predictions_valid = model.predict(features_valid)\n",
    "        result = f1_score(target_valid, predictions_valid)\n",
    "        if result > downsample_forest_best_result:\n",
    "            downsample_forest_best_model = model\n",
    "            downsample_forest_best_result = result\n",
    "            forest_predictions_valid = predictions_valid\n",
    "\n",
    "print(\"Accuracy лучшей модели:\", accuracy_score(target_valid, forest_predictions_valid))\n",
    "print(\"Количество деревьев в лесу:\", downsample_forest_best_model.n_estimators)\n",
    "print(\"Глубина дерева:\", downsample_forest_best_model.max_depth)\n",
    "print(\"Recall случайного леса:\", recall_score(target_valid, forest_predictions_valid))\n",
    "print(\"Precision случайного леса:\", precision_score(target_valid, forest_predictions_valid))\n",
    "print(\"F1 случайного леса\", downsample_forest_best_result)\n",
    "probabilities_one_valid = downsample_forest_best_model.predict_proba(features_valid)[:, 1]\n",
    "downsample_forest_best_model_roc_auc = roc_auc_score(target_valid, probabilities_one_valid)\n",
    "print(\"ROC-AUC случайного леса:\", downsample_forest_best_model_roc_auc)"
   ]
  },
  {
   "cell_type": "markdown",
   "metadata": {},
   "source": [
    "<b> Логистическая регрессия </b>"
   ]
  },
  {
   "cell_type": "code",
   "execution_count": 34,
   "metadata": {},
   "outputs": [
    {
     "name": "stdout",
     "output_type": "stream",
     "text": [
      "Accuracy модели: 0.7005\n",
      "Recall логической регрессии: 0.6722488038277512\n",
      "Precision логической регрессии: 0.3781965006729475\n",
      "F1 логической регрессии 0.48406546080964685\n",
      "ROC-AUC случайного леса: 0.7622429968727126\n"
     ]
    }
   ],
   "source": [
    "model = LogisticRegression(random_state=12345, solver='lbfgs', max_iter=1000) \n",
    "model.fit(features_downsampled, target_downsampled)\n",
    "predictions_valid = model.predict(features_valid) \n",
    "downsample_log_result = f1_score(target_valid, predictions_valid)\n",
    "print(\"Accuracy модели:\", accuracy_score(target_valid, predictions_valid))\n",
    "print(\"Recall логической регрессии:\", recall_score(target_valid, predictions_valid))\n",
    "print(\"Precision логической регрессии:\", precision_score(target_valid, predictions_valid))\n",
    "print(\"F1 логической регрессии\", downsample_log_result)\n",
    "probabilities_one_valid = model.predict_proba(features_valid)[:, 1]\n",
    "downsample_log_result_roc_auc = roc_auc_score(target_valid, probabilities_one_valid)\n",
    "print(\"ROC-AUC случайного леса:\",downsample_log_result_roc_auc)"
   ]
  },
  {
   "cell_type": "markdown",
   "metadata": {},
   "source": [
    "### Выводы по результатам исследования"
   ]
  },
  {
   "cell_type": "markdown",
   "metadata": {},
   "source": [
    "<b> Метрика F1-score </b>"
   ]
  },
  {
   "cell_type": "code",
   "execution_count": 35,
   "metadata": {
    "scrolled": true
   },
   "outputs": [
    {
     "data": {
      "text/html": [
       "<div>\n",
       "<style scoped>\n",
       "    .dataframe tbody tr th:only-of-type {\n",
       "        vertical-align: middle;\n",
       "    }\n",
       "\n",
       "    .dataframe tbody tr th {\n",
       "        vertical-align: top;\n",
       "    }\n",
       "\n",
       "    .dataframe thead th {\n",
       "        text-align: right;\n",
       "    }\n",
       "</style>\n",
       "<table border=\"1\" class=\"dataframe\">\n",
       "  <thead>\n",
       "    <tr style=\"text-align: right;\">\n",
       "      <th></th>\n",
       "      <th>Модель</th>\n",
       "      <th>Без учёта дисбаланса</th>\n",
       "      <th>Взвешивание классов</th>\n",
       "      <th>Увеличение выборки</th>\n",
       "      <th>Уменьшение выборки</th>\n",
       "    </tr>\n",
       "  </thead>\n",
       "  <tbody>\n",
       "    <tr>\n",
       "      <th>0</th>\n",
       "      <td>Дерево решений</td>\n",
       "      <td>0.569697</td>\n",
       "      <td>0.596379</td>\n",
       "      <td>0.596379</td>\n",
       "      <td>0.595311</td>\n",
       "    </tr>\n",
       "    <tr>\n",
       "      <th>1</th>\n",
       "      <td>Случайный лес</td>\n",
       "      <td>0.606241</td>\n",
       "      <td>0.626531</td>\n",
       "      <td>0.620690</td>\n",
       "      <td>0.601358</td>\n",
       "    </tr>\n",
       "    <tr>\n",
       "      <th>2</th>\n",
       "      <td>Логистическая регрессия</td>\n",
       "      <td>0.331081</td>\n",
       "      <td>0.488851</td>\n",
       "      <td>0.489270</td>\n",
       "      <td>0.484065</td>\n",
       "    </tr>\n",
       "  </tbody>\n",
       "</table>\n",
       "</div>"
      ],
      "text/plain": [
       "                    Модель  Без учёта дисбаланса  Взвешивание классов  \\\n",
       "0           Дерево решений              0.569697             0.596379   \n",
       "1            Случайный лес              0.606241             0.626531   \n",
       "2  Логистическая регрессия              0.331081             0.488851   \n",
       "\n",
       "   Увеличение выборки  Уменьшение выборки  \n",
       "0            0.596379            0.595311  \n",
       "1            0.620690            0.601358  \n",
       "2            0.489270            0.484065  "
      ]
     },
     "execution_count": 35,
     "metadata": {},
     "output_type": "execute_result"
    }
   ],
   "source": [
    "model_name = ['Дерево решений', 'Случайный лес', 'Логистическая регрессия']\n",
    "default_values = [tree_best_result, forest_best_result, log_result]\n",
    "weight_values = [weight_tree_best_result, weight_forest_best_result, weight_log_result]\n",
    "upsample_values = [upsample_tree_best_result, upsample_forest_best_result, upsample_log_result]\n",
    "downsample_values = [downsample_tree_best_result, downsample_forest_best_result, downsample_log_result]\n",
    "\n",
    "data_f1_score = pd.DataFrame({'Модель': model_name,\n",
    "                           'Без учёта дисбаланса': default_values,\n",
    "                           'Взвешивание классов': weight_values,\n",
    "                           'Увеличение выборки': upsample_values,\n",
    "                           'Уменьшение выборки': downsample_values})\n",
    "\n",
    "data_f1_score"
   ]
  },
  {
   "cell_type": "markdown",
   "metadata": {},
   "source": [
    "<b> Метрика AUC-ROC </b> "
   ]
  },
  {
   "cell_type": "code",
   "execution_count": 36,
   "metadata": {},
   "outputs": [
    {
     "data": {
      "text/html": [
       "<div>\n",
       "<style scoped>\n",
       "    .dataframe tbody tr th:only-of-type {\n",
       "        vertical-align: middle;\n",
       "    }\n",
       "\n",
       "    .dataframe tbody tr th {\n",
       "        vertical-align: top;\n",
       "    }\n",
       "\n",
       "    .dataframe thead th {\n",
       "        text-align: right;\n",
       "    }\n",
       "</style>\n",
       "<table border=\"1\" class=\"dataframe\">\n",
       "  <thead>\n",
       "    <tr style=\"text-align: right;\">\n",
       "      <th></th>\n",
       "      <th>Модель</th>\n",
       "      <th>Без учёта дисбаланса</th>\n",
       "      <th>Взвешивание классов</th>\n",
       "      <th>Увеличение выборки</th>\n",
       "      <th>Уменьшение выборки</th>\n",
       "    </tr>\n",
       "  </thead>\n",
       "  <tbody>\n",
       "    <tr>\n",
       "      <th>0</th>\n",
       "      <td>Дерево решений</td>\n",
       "      <td>0.816463</td>\n",
       "      <td>0.831024</td>\n",
       "      <td>0.831024</td>\n",
       "      <td>0.824021</td>\n",
       "    </tr>\n",
       "    <tr>\n",
       "      <th>1</th>\n",
       "      <td>Случайный лес</td>\n",
       "      <td>0.835764</td>\n",
       "      <td>0.846333</td>\n",
       "      <td>0.827219</td>\n",
       "      <td>0.839122</td>\n",
       "    </tr>\n",
       "    <tr>\n",
       "      <th>2</th>\n",
       "      <td>Логистическая регрессия</td>\n",
       "      <td>0.758819</td>\n",
       "      <td>0.763669</td>\n",
       "      <td>0.763696</td>\n",
       "      <td>0.762243</td>\n",
       "    </tr>\n",
       "  </tbody>\n",
       "</table>\n",
       "</div>"
      ],
      "text/plain": [
       "                    Модель  Без учёта дисбаланса  Взвешивание классов  \\\n",
       "0           Дерево решений              0.816463             0.831024   \n",
       "1            Случайный лес              0.835764             0.846333   \n",
       "2  Логистическая регрессия              0.758819             0.763669   \n",
       "\n",
       "   Увеличение выборки  Уменьшение выборки  \n",
       "0            0.831024            0.824021  \n",
       "1            0.827219            0.839122  \n",
       "2            0.763696            0.762243  "
      ]
     },
     "execution_count": 36,
     "metadata": {},
     "output_type": "execute_result"
    }
   ],
   "source": [
    "model_name = ['Дерево решений', 'Случайный лес', 'Логистическая регрессия']\n",
    "default_values = [tree_best_model_roc_auc, forest_best_model_roc_auc, log_result_roc_auc]\n",
    "weight_values = [weight_tree_best_model_roc_auc, weight_forest_best_model_roc_auc, weight_log_result_roc_auc]\n",
    "upsample_values = [upsample_tree_best_model_roc_auc, upsample_forest_best_model_roc_auc, upsample_log_result_roc_auc]\n",
    "downsample_values = [downsample_tree_best_model_roc_auc, downsample_forest_best_model_roc_auc, downsample_log_result_roc_auc]\n",
    "\n",
    "data_roc_auc_score = pd.DataFrame({'Модель': model_name,\n",
    "                           'Без учёта дисбаланса': default_values,\n",
    "                           'Взвешивание классов': weight_values,\n",
    "                           'Увеличение выборки': upsample_values,\n",
    "                           'Уменьшение выборки': downsample_values})\n",
    "\n",
    "data_roc_auc_score"
   ]
  },
  {
   "cell_type": "markdown",
   "metadata": {},
   "source": [
    "Наибольшее значение метрики F1-score (0.627692) и AUC-ROC (0.846933) получено на модели случайного леса при помощи взвешивания классов, поэтому для тестирования будем использовать именно эту модель. Метрика AUC-ROC стабильно высокая у всех моделей и лишь ненамного возрастает при борьбе с дисбалансом."
   ]
  },
  {
   "cell_type": "markdown",
   "metadata": {},
   "source": [
    "## Тестирование модели"
   ]
  },
  {
   "cell_type": "markdown",
   "metadata": {},
   "source": [
    "Для повышения качества объединим валидационную и тестовую сборки."
   ]
  },
  {
   "cell_type": "code",
   "execution_count": 37,
   "metadata": {},
   "outputs": [],
   "source": [
    "new_features_test = pd.concat([features_test, features_valid], axis=0, ignore_index=True)\n",
    "new_target_test = pd.concat([target_test, target_valid], axis=0, ignore_index=True)"
   ]
  },
  {
   "cell_type": "code",
   "execution_count": 38,
   "metadata": {},
   "outputs": [
    {
     "name": "stdout",
     "output_type": "stream",
     "text": [
      "Accuracy: 0.80125\n",
      "Recall дерева решений: 0.6920332936979786\n",
      "Precision дерева решений: 0.5205724508050089\n",
      "F1 дерева решений: 0.5941807044410412\n"
     ]
    }
   ],
   "source": [
    "predictions_test = weight_forest_best_model.predict(new_features_test) \n",
    "print(\"Accuracy:\", accuracy_score(new_target_test, predictions_test))\n",
    "print(\"Recall дерева решений:\", recall_score(new_target_test, predictions_test))\n",
    "print(\"Precision дерева решений:\", precision_score(new_target_test, predictions_test))\n",
    "print(\"F1 дерева решений:\", f1_score(new_target_test, predictions_test))"
   ]
  },
  {
   "cell_type": "code",
   "execution_count": 39,
   "metadata": {},
   "outputs": [
    {
     "name": "stdout",
     "output_type": "stream",
     "text": [
      "0.5668409041377729\n"
     ]
    },
    {
     "data": {
      "image/png": "[encoded data removed]",
      "text/plain": [
       "<Figure size 640x480 with 1 Axes>"
      ]
     },
     "metadata": {},
     "output_type": "display_data"
    }
   ],
   "source": [
    "probabilities_test = model.predict_proba(new_features_test)\n",
    "probabilities_one_test = probabilities_test[:, 1]\n",
    "auc_roc = roc_auc_score(new_target_test, probabilities_one_test)\n",
    "probabilities_test = model.predict_proba(new_features_test)\n",
    "probabilities_one_test = probabilities_test[:, 1]\n",
    "fpr, tpr, thresholds = roc_curve(new_target_test, probabilities_one_test)\n",
    "print(auc_roc)\n",
    "plt.figure()\n",
    "plt.plot(fpr, tpr, linestyle='solid')\n",
    "plt.plot([0, 1], [0, 1], linestyle='--')\n",
    "plt.xlim([0.0, 1.0])\n",
    "plt.ylim([0.0, 1.0])\n",
    "plt.xlabel('FP')\n",
    "plt.ylabel('TP')\n",
    "plt.title('ROC-кривая')\n",
    "plt.show()"
   ]
  },
  {
   "cell_type": "markdown",
   "metadata": {},
   "source": [
    "## Вывод:"
   ]
  },
  {
   "cell_type": "markdown",
   "metadata": {},
   "source": [
    "Перед исследованием была произведена предварительная подготовка данных:\n",
    "* Изучили данные.\n",
    "* Удалили 3 столбца, не представляющих ценности для обучения модели.\n",
    "* Изменили регистр в названии столбцов. \n",
    "* Проверили данные на аномалии. \n",
    "* Проверили данные на явные дубликаты.\n",
    "* Заполнили пропуски в столбце tenure медианным значением.\n",
    "* Применили OHE к двум столбцам.\n",
    "* Прменили масштабирование к 3 столбцам.\n",
    "\n",
    "Проверка датасета на наличие дисбаланса показала, что в целевом признаке наблюдается достаточно сильный дисбаланс классов, лишь 20% отражают факт ухода клиента.\n",
    "\n",
    "Для борьбы с дисбалансом классов было применено 3 метода:\n",
    "1. Взвешивание классов.\n",
    "2. Увеличение выборки.\n",
    "3. Уменьшение выборки.\n",
    "\n",
    "Были получены следующие значения метрики F1-score:"
   ]
  },
  {
   "cell_type": "code",
   "execution_count": 40,
   "metadata": {},
   "outputs": [
    {
     "data": {
      "text/html": [
       "<div>\n",
       "<style scoped>\n",
       "    .dataframe tbody tr th:only-of-type {\n",
       "        vertical-align: middle;\n",
       "    }\n",
       "\n",
       "    .dataframe tbody tr th {\n",
       "        vertical-align: top;\n",
       "    }\n",
       "\n",
       "    .dataframe thead th {\n",
       "        text-align: right;\n",
       "    }\n",
       "</style>\n",
       "<table border=\"1\" class=\"dataframe\">\n",
       "  <thead>\n",
       "    <tr style=\"text-align: right;\">\n",
       "      <th></th>\n",
       "      <th>Модель</th>\n",
       "      <th>Без учёта дисбаланса</th>\n",
       "      <th>Взвешивание классов</th>\n",
       "      <th>Увеличение выборки</th>\n",
       "      <th>Уменьшение выборки</th>\n",
       "    </tr>\n",
       "  </thead>\n",
       "  <tbody>\n",
       "    <tr>\n",
       "      <th>0</th>\n",
       "      <td>Дерево решений</td>\n",
       "      <td>0.569697</td>\n",
       "      <td>0.596379</td>\n",
       "      <td>0.596379</td>\n",
       "      <td>0.595311</td>\n",
       "    </tr>\n",
       "    <tr>\n",
       "      <th>1</th>\n",
       "      <td>Случайный лес</td>\n",
       "      <td>0.606241</td>\n",
       "      <td>0.626531</td>\n",
       "      <td>0.620690</td>\n",
       "      <td>0.601358</td>\n",
       "    </tr>\n",
       "    <tr>\n",
       "      <th>2</th>\n",
       "      <td>Логистическая регрессия</td>\n",
       "      <td>0.331081</td>\n",
       "      <td>0.488851</td>\n",
       "      <td>0.489270</td>\n",
       "      <td>0.484065</td>\n",
       "    </tr>\n",
       "  </tbody>\n",
       "</table>\n",
       "</div>"
      ],
      "text/plain": [
       "                    Модель  Без учёта дисбаланса  Взвешивание классов  \\\n",
       "0           Дерево решений              0.569697             0.596379   \n",
       "1            Случайный лес              0.606241             0.626531   \n",
       "2  Логистическая регрессия              0.331081             0.488851   \n",
       "\n",
       "   Увеличение выборки  Уменьшение выборки  \n",
       "0            0.596379            0.595311  \n",
       "1            0.620690            0.601358  \n",
       "2            0.489270            0.484065  "
      ]
     },
     "execution_count": 40,
     "metadata": {},
     "output_type": "execute_result"
    }
   ],
   "source": [
    "data_f1_score"
   ]
  },
  {
   "cell_type": "markdown",
   "metadata": {},
   "source": [
    "Наибольшее значение метрики F1-score получено на модели случайный лес с использованием взвешивания классов. Далее, наилучшая модель была протестирована на тестовой выборке.\n",
    "Значения ключевых метрик получились следующие:\n",
    "* F1-score = 0.61\n",
    "* AUC-ROC = 0.83"
   ]
  }
 ],
 "metadata": {
  "ExecuteTimeLog": [
   {
    "duration": 3,
    "start_time": "2023-05-11T20:07:24.300Z"
   },
   {
    "duration": 70,
    "start_time": "2023-05-11T20:07:43.552Z"
   },
   {
    "duration": 91,
    "start_time": "2023-05-11T20:09:27.232Z"
   },
   {
    "duration": 8,
    "start_time": "2023-05-11T20:16:41.998Z"
   },
   {
    "duration": 5,
    "start_time": "2023-05-11T20:17:03.740Z"
   },
   {
    "duration": 10,
    "start_time": "2023-05-11T20:17:30.999Z"
   },
   {
    "duration": 6,
    "start_time": "2023-05-11T20:18:05.738Z"
   },
   {
    "duration": 25,
    "start_time": "2023-05-11T20:20:07.222Z"
   },
   {
    "duration": 12,
    "start_time": "2023-05-11T20:20:44.007Z"
   },
   {
    "duration": 10,
    "start_time": "2023-05-11T20:21:10.456Z"
   },
   {
    "duration": 7,
    "start_time": "2023-05-11T20:21:32.092Z"
   },
   {
    "duration": 48,
    "start_time": "2023-05-11T20:23:13.581Z"
   },
   {
    "duration": 5,
    "start_time": "2023-05-11T20:32:33.154Z"
   },
   {
    "duration": 6,
    "start_time": "2023-05-11T20:57:52.256Z"
   },
   {
    "duration": 83,
    "start_time": "2023-05-11T20:58:07.252Z"
   },
   {
    "duration": 20,
    "start_time": "2023-05-11T21:02:14.912Z"
   },
   {
    "duration": 24,
    "start_time": "2023-05-11T21:02:18.595Z"
   },
   {
    "duration": 6,
    "start_time": "2023-05-11T21:02:35.704Z"
   },
   {
    "duration": 17,
    "start_time": "2023-05-11T21:02:38.944Z"
   },
   {
    "duration": 1405,
    "start_time": "2023-05-11T21:03:31.392Z"
   },
   {
    "duration": 6,
    "start_time": "2023-05-11T21:03:37.722Z"
   },
   {
    "duration": 54,
    "start_time": "2023-05-11T21:03:39.253Z"
   },
   {
    "duration": 6,
    "start_time": "2023-05-11T21:03:45.009Z"
   },
   {
    "duration": 11,
    "start_time": "2023-05-11T21:03:50.097Z"
   },
   {
    "duration": 7,
    "start_time": "2023-05-11T21:03:53.600Z"
   },
   {
    "duration": 5,
    "start_time": "2023-05-11T21:03:56.632Z"
   },
   {
    "duration": 9,
    "start_time": "2023-05-11T21:04:02.299Z"
   },
   {
    "duration": 14,
    "start_time": "2023-05-11T21:15:11.138Z"
   },
   {
    "duration": 13,
    "start_time": "2023-05-11T21:17:41.400Z"
   },
   {
    "duration": 14,
    "start_time": "2023-05-11T21:19:26.721Z"
   },
   {
    "duration": 79,
    "start_time": "2023-05-11T21:19:51.427Z"
   },
   {
    "duration": 6,
    "start_time": "2023-05-11T21:19:54.969Z"
   },
   {
    "duration": 38,
    "start_time": "2023-05-11T21:20:06.796Z"
   },
   {
    "duration": 791,
    "start_time": "2023-05-11T21:35:20.868Z"
   },
   {
    "duration": 899,
    "start_time": "2023-05-11T21:36:42.549Z"
   },
   {
    "duration": 1036,
    "start_time": "2023-05-11T21:37:29.514Z"
   },
   {
    "duration": 11,
    "start_time": "2023-05-11T21:37:42.650Z"
   },
   {
    "duration": 3,
    "start_time": "2023-05-11T21:37:50.214Z"
   },
   {
    "duration": 63,
    "start_time": "2023-05-11T21:37:51.598Z"
   },
   {
    "duration": 6,
    "start_time": "2023-05-11T21:37:56.706Z"
   },
   {
    "duration": 6,
    "start_time": "2023-05-11T21:37:58.549Z"
   },
   {
    "duration": 36,
    "start_time": "2023-05-11T21:37:59.803Z"
   },
   {
    "duration": 6,
    "start_time": "2023-05-11T21:38:02.153Z"
   },
   {
    "duration": 20,
    "start_time": "2023-05-11T21:38:05.669Z"
   },
   {
    "duration": 13,
    "start_time": "2023-05-11T21:38:06.188Z"
   },
   {
    "duration": 5,
    "start_time": "2023-05-11T21:38:06.680Z"
   },
   {
    "duration": 17,
    "start_time": "2023-05-11T21:38:07.602Z"
   },
   {
    "duration": 5,
    "start_time": "2023-05-11T21:38:08.600Z"
   },
   {
    "duration": 15,
    "start_time": "2023-05-11T21:38:16.196Z"
   },
   {
    "duration": 10,
    "start_time": "2023-05-11T21:38:31.982Z"
   },
   {
    "duration": 5,
    "start_time": "2023-05-11T21:38:42.453Z"
   },
   {
    "duration": 5,
    "start_time": "2023-05-11T21:40:04.924Z"
   },
   {
    "duration": 70,
    "start_time": "2023-05-11T21:40:14.495Z"
   },
   {
    "duration": 5,
    "start_time": "2023-05-11T21:40:15.747Z"
   },
   {
    "duration": 6,
    "start_time": "2023-05-11T21:40:16.512Z"
   },
   {
    "duration": 40,
    "start_time": "2023-05-11T21:40:17.225Z"
   },
   {
    "duration": 6,
    "start_time": "2023-05-11T21:40:18.056Z"
   },
   {
    "duration": 5,
    "start_time": "2023-05-11T21:40:18.548Z"
   },
   {
    "duration": 5,
    "start_time": "2023-05-11T21:40:19.035Z"
   },
   {
    "duration": 8,
    "start_time": "2023-05-11T21:40:19.798Z"
   },
   {
    "duration": 17,
    "start_time": "2023-05-11T21:40:22.070Z"
   },
   {
    "duration": 5,
    "start_time": "2023-05-11T21:40:23.957Z"
   },
   {
    "duration": 6,
    "start_time": "2023-05-11T21:41:38.125Z"
   },
   {
    "duration": 67,
    "start_time": "2023-05-11T21:42:25.563Z"
   },
   {
    "duration": 4,
    "start_time": "2023-05-11T21:42:30.504Z"
   },
   {
    "duration": 5,
    "start_time": "2023-05-11T21:42:31.054Z"
   },
   {
    "duration": 6,
    "start_time": "2023-05-11T21:43:34.128Z"
   },
   {
    "duration": 11,
    "start_time": "2023-05-11T21:47:32.279Z"
   },
   {
    "duration": 49,
    "start_time": "2023-05-12T19:57:21.683Z"
   },
   {
    "duration": 1035,
    "start_time": "2023-05-12T19:57:31.312Z"
   },
   {
    "duration": 103,
    "start_time": "2023-05-12T19:57:32.356Z"
   },
   {
    "duration": 5,
    "start_time": "2023-05-12T19:57:33.849Z"
   },
   {
    "duration": 6,
    "start_time": "2023-05-12T19:57:34.767Z"
   },
   {
    "duration": 36,
    "start_time": "2023-05-12T19:57:35.723Z"
   },
   {
    "duration": 5,
    "start_time": "2023-05-12T19:57:36.684Z"
   },
   {
    "duration": 4,
    "start_time": "2023-05-12T19:57:37.075Z"
   },
   {
    "duration": 6,
    "start_time": "2023-05-12T19:57:37.505Z"
   },
   {
    "duration": 4,
    "start_time": "2023-05-12T19:57:37.925Z"
   },
   {
    "duration": 11,
    "start_time": "2023-05-12T19:57:38.823Z"
   },
   {
    "duration": 6,
    "start_time": "2023-05-12T19:57:40.252Z"
   },
   {
    "duration": 8,
    "start_time": "2023-05-12T19:57:41.251Z"
   },
   {
    "duration": 12,
    "start_time": "2023-05-12T19:57:43.003Z"
   },
   {
    "duration": 542,
    "start_time": "2023-05-12T20:00:21.308Z"
   },
   {
    "duration": 116,
    "start_time": "2023-05-12T21:27:52.808Z"
   },
   {
    "duration": 3,
    "start_time": "2023-05-12T21:28:23.096Z"
   },
   {
    "duration": 10,
    "start_time": "2023-05-12T21:28:47.195Z"
   },
   {
    "duration": 9,
    "start_time": "2023-05-12T21:35:27.811Z"
   },
   {
    "duration": 112,
    "start_time": "2023-05-12T21:35:28.623Z"
   },
   {
    "duration": 18,
    "start_time": "2023-05-12T21:35:29.616Z"
   },
   {
    "duration": 10,
    "start_time": "2023-05-12T21:35:55.945Z"
   },
   {
    "duration": 99,
    "start_time": "2023-05-12T21:35:56.496Z"
   },
   {
    "duration": 22,
    "start_time": "2023-05-12T21:35:57.246Z"
   },
   {
    "duration": 11,
    "start_time": "2023-05-12T21:36:30.118Z"
   },
   {
    "duration": 110,
    "start_time": "2023-05-12T21:36:30.703Z"
   },
   {
    "duration": 18,
    "start_time": "2023-05-12T21:36:31.495Z"
   },
   {
    "duration": 18,
    "start_time": "2023-05-12T21:38:49.198Z"
   },
   {
    "duration": 30,
    "start_time": "2023-05-12T21:41:13.445Z"
   },
   {
    "duration": 5,
    "start_time": "2023-05-12T21:41:47.036Z"
   },
   {
    "duration": 4,
    "start_time": "2023-05-12T21:42:40.308Z"
   },
   {
    "duration": 6,
    "start_time": "2023-05-12T21:42:46.897Z"
   },
   {
    "duration": 6,
    "start_time": "2023-05-12T21:43:22.458Z"
   },
   {
    "duration": 4,
    "start_time": "2023-05-12T21:43:45.499Z"
   },
   {
    "duration": 4,
    "start_time": "2023-05-12T21:44:08.352Z"
   },
   {
    "duration": 41,
    "start_time": "2023-05-12T21:44:24.712Z"
   },
   {
    "duration": 12,
    "start_time": "2023-05-12T21:49:21.934Z"
   },
   {
    "duration": 22,
    "start_time": "2023-05-12T21:49:27.593Z"
   },
   {
    "duration": 3,
    "start_time": "2023-05-12T21:53:29.983Z"
   },
   {
    "duration": 15,
    "start_time": "2023-05-12T21:54:08.672Z"
   },
   {
    "duration": 23,
    "start_time": "2023-05-12T21:54:23.324Z"
   },
   {
    "duration": 18,
    "start_time": "2023-05-12T21:56:04.415Z"
   },
   {
    "duration": 10,
    "start_time": "2023-05-12T21:56:14.309Z"
   },
   {
    "duration": 130,
    "start_time": "2023-05-12T21:56:16.387Z"
   },
   {
    "duration": 58,
    "start_time": "2023-05-12T21:56:19.973Z"
   },
   {
    "duration": 1185,
    "start_time": "2023-05-13T09:11:07.564Z"
   },
   {
    "duration": 120,
    "start_time": "2023-05-13T09:11:13.567Z"
   },
   {
    "duration": 24,
    "start_time": "2023-05-13T09:11:47.392Z"
   },
   {
    "duration": 3,
    "start_time": "2023-05-13T09:11:52.850Z"
   },
   {
    "duration": 278,
    "start_time": "2023-05-13T09:11:53.387Z"
   },
   {
    "duration": 5,
    "start_time": "2023-05-13T09:11:54.036Z"
   },
   {
    "duration": 10,
    "start_time": "2023-05-13T09:11:54.696Z"
   },
   {
    "duration": 42,
    "start_time": "2023-05-13T09:11:55.451Z"
   },
   {
    "duration": 5,
    "start_time": "2023-05-13T09:11:56.359Z"
   },
   {
    "duration": 7,
    "start_time": "2023-05-13T09:11:56.738Z"
   },
   {
    "duration": 5,
    "start_time": "2023-05-13T09:11:57.138Z"
   },
   {
    "duration": 14,
    "start_time": "2023-05-13T09:11:57.614Z"
   },
   {
    "duration": 5,
    "start_time": "2023-05-13T09:11:58.049Z"
   },
   {
    "duration": 10,
    "start_time": "2023-05-13T09:11:58.500Z"
   },
   {
    "duration": 8,
    "start_time": "2023-05-13T09:11:58.912Z"
   },
   {
    "duration": 5,
    "start_time": "2023-05-13T09:11:59.274Z"
   },
   {
    "duration": 9,
    "start_time": "2023-05-13T09:12:00.373Z"
   },
   {
    "duration": 6,
    "start_time": "2023-05-13T09:12:01.629Z"
   },
   {
    "duration": 6,
    "start_time": "2023-05-13T09:12:02.479Z"
   },
   {
    "duration": 18,
    "start_time": "2023-05-13T09:12:03.462Z"
   },
   {
    "duration": 22,
    "start_time": "2023-05-13T09:12:04.038Z"
   },
   {
    "duration": 10,
    "start_time": "2023-05-13T09:12:06.339Z"
   },
   {
    "duration": 664,
    "start_time": "2023-05-13T09:12:07.142Z"
   },
   {
    "duration": 70,
    "start_time": "2023-05-13T09:12:07.808Z"
   },
   {
    "duration": 2554,
    "start_time": "2023-05-13T09:12:11.222Z"
   },
   {
    "duration": 2744,
    "start_time": "2023-05-13T09:12:38.584Z"
   },
   {
    "duration": 5,
    "start_time": "2023-05-13T09:15:17.624Z"
   },
   {
    "duration": 156,
    "start_time": "2023-05-13T09:22:34.416Z"
   },
   {
    "duration": 2,
    "start_time": "2023-05-13T09:26:53.239Z"
   },
   {
    "duration": 89,
    "start_time": "2023-05-13T09:29:11.980Z"
   },
   {
    "duration": 192,
    "start_time": "2023-05-13T09:42:55.080Z"
   },
   {
    "duration": 168,
    "start_time": "2023-05-13T09:43:06.217Z"
   },
   {
    "duration": 196,
    "start_time": "2023-05-13T09:45:08.943Z"
   },
   {
    "duration": 12,
    "start_time": "2023-05-13T09:47:41.990Z"
   },
   {
    "duration": 193,
    "start_time": "2023-05-13T09:48:05.761Z"
   },
   {
    "duration": 84,
    "start_time": "2023-05-13T09:50:44.862Z"
   },
   {
    "duration": 2428,
    "start_time": "2023-05-13T09:56:06.964Z"
   },
   {
    "duration": 6018,
    "start_time": "2023-05-13T09:56:39.026Z"
   },
   {
    "duration": 275,
    "start_time": "2023-05-13T10:04:13.640Z"
   },
   {
    "duration": 235,
    "start_time": "2023-05-13T10:04:29.258Z"
   },
   {
    "duration": 232,
    "start_time": "2023-05-13T10:04:38.339Z"
   },
   {
    "duration": 8444,
    "start_time": "2023-05-13T10:09:00.859Z"
   },
   {
    "duration": 2195,
    "start_time": "2023-05-13T10:10:01.753Z"
   },
   {
    "duration": 1926,
    "start_time": "2023-05-13T10:14:14.270Z"
   },
   {
    "duration": 3328,
    "start_time": "2023-05-13T10:51:44.680Z"
   },
   {
    "duration": 2569,
    "start_time": "2023-05-13T10:52:20.533Z"
   },
   {
    "duration": 2498,
    "start_time": "2023-05-13T10:52:58.435Z"
   },
   {
    "duration": 206,
    "start_time": "2023-05-13T11:01:32.676Z"
   },
   {
    "duration": 1744,
    "start_time": "2023-05-13T11:01:59.657Z"
   },
   {
    "duration": 3351,
    "start_time": "2023-05-13T11:02:29.361Z"
   },
   {
    "duration": 72,
    "start_time": "2023-05-13T11:52:15.084Z"
   },
   {
    "duration": 79,
    "start_time": "2023-05-13T11:52:40.109Z"
   },
   {
    "duration": 209,
    "start_time": "2023-05-13T11:52:51.114Z"
   },
   {
    "duration": 226,
    "start_time": "2023-05-13T11:53:17.558Z"
   },
   {
    "duration": 1528,
    "start_time": "2023-05-13T11:54:15.460Z"
   },
   {
    "duration": 4144,
    "start_time": "2023-05-13T11:55:04.088Z"
   },
   {
    "duration": 3,
    "start_time": "2023-05-13T11:56:52.493Z"
   },
   {
    "duration": 44,
    "start_time": "2023-05-13T12:07:54.451Z"
   },
   {
    "duration": 7,
    "start_time": "2023-05-13T12:08:20.307Z"
   },
   {
    "duration": 138,
    "start_time": "2023-05-13T12:08:29.818Z"
   },
   {
    "duration": 13,
    "start_time": "2023-05-13T12:14:08.733Z"
   },
   {
    "duration": 212,
    "start_time": "2023-05-13T12:16:21.716Z"
   },
   {
    "duration": 1737,
    "start_time": "2023-05-13T12:17:56.636Z"
   },
   {
    "duration": 2032,
    "start_time": "2023-05-13T12:18:22.917Z"
   },
   {
    "duration": 2056,
    "start_time": "2023-05-13T12:18:36.975Z"
   },
   {
    "duration": 167,
    "start_time": "2023-05-13T12:18:45.717Z"
   },
   {
    "duration": 2840,
    "start_time": "2023-05-13T12:19:52.481Z"
   },
   {
    "duration": 17,
    "start_time": "2023-05-13T12:22:42.805Z"
   },
   {
    "duration": 99,
    "start_time": "2023-05-13T12:24:45.270Z"
   },
   {
    "duration": 15,
    "start_time": "2023-05-13T12:25:23.779Z"
   },
   {
    "duration": 105,
    "start_time": "2023-05-13T12:25:34.980Z"
   },
   {
    "duration": 2327,
    "start_time": "2023-05-13T12:25:45.479Z"
   },
   {
    "duration": 840,
    "start_time": "2023-05-13T12:26:03.117Z"
   },
   {
    "duration": 1885,
    "start_time": "2023-05-13T12:26:58.545Z"
   },
   {
    "duration": 236,
    "start_time": "2023-05-13T12:31:20.275Z"
   },
   {
    "duration": 1822,
    "start_time": "2023-05-13T12:31:56.448Z"
   },
   {
    "duration": 1477,
    "start_time": "2023-05-13T12:32:29.078Z"
   },
   {
    "duration": 235,
    "start_time": "2023-05-13T12:32:38.189Z"
   },
   {
    "duration": 1361,
    "start_time": "2023-05-13T12:33:24.654Z"
   },
   {
    "duration": 241,
    "start_time": "2023-05-13T12:34:06.086Z"
   },
   {
    "duration": 2090,
    "start_time": "2023-05-13T12:34:29.773Z"
   },
   {
    "duration": 3854,
    "start_time": "2023-05-13T12:35:10.468Z"
   },
   {
    "duration": 148,
    "start_time": "2023-05-13T12:35:39.265Z"
   },
   {
    "duration": 871,
    "start_time": "2023-05-13T12:35:52.782Z"
   },
   {
    "duration": 3086,
    "start_time": "2023-05-13T12:36:19.918Z"
   },
   {
    "duration": 3083,
    "start_time": "2023-05-13T12:41:15.541Z"
   },
   {
    "duration": 12,
    "start_time": "2023-05-13T12:42:14.257Z"
   },
   {
    "duration": 11,
    "start_time": "2023-05-13T12:43:22.412Z"
   },
   {
    "duration": 13,
    "start_time": "2023-05-13T12:44:30.033Z"
   },
   {
    "duration": 15,
    "start_time": "2023-05-13T12:45:37.820Z"
   },
   {
    "duration": 36,
    "start_time": "2023-05-13T13:28:36.374Z"
   },
   {
    "duration": 16,
    "start_time": "2023-05-13T13:37:48.861Z"
   },
   {
    "duration": 4,
    "start_time": "2023-05-13T13:39:54.812Z"
   },
   {
    "duration": 24,
    "start_time": "2023-05-13T13:39:59.489Z"
   },
   {
    "duration": 10,
    "start_time": "2023-05-13T13:40:44.607Z"
   },
   {
    "duration": 13,
    "start_time": "2023-05-13T13:40:52.015Z"
   },
   {
    "duration": 10,
    "start_time": "2023-05-13T13:40:56.727Z"
   },
   {
    "duration": 14,
    "start_time": "2023-05-13T13:41:46.473Z"
   },
   {
    "duration": 11,
    "start_time": "2023-05-13T14:10:13.517Z"
   },
   {
    "duration": 7,
    "start_time": "2023-05-13T14:10:27.641Z"
   },
   {
    "duration": 12,
    "start_time": "2023-05-13T14:10:57.747Z"
   },
   {
    "duration": 8,
    "start_time": "2023-05-13T14:15:14.441Z"
   },
   {
    "duration": 14,
    "start_time": "2023-05-13T14:15:31.714Z"
   },
   {
    "duration": 6,
    "start_time": "2023-05-13T14:19:32.053Z"
   },
   {
    "duration": 43,
    "start_time": "2023-05-13T14:20:13.770Z"
   },
   {
    "duration": 33,
    "start_time": "2023-05-13T14:21:41.485Z"
   },
   {
    "duration": 12,
    "start_time": "2023-05-13T14:22:04.890Z"
   },
   {
    "duration": 7,
    "start_time": "2023-05-13T14:22:32.089Z"
   },
   {
    "duration": 18,
    "start_time": "2023-05-13T14:22:45.198Z"
   },
   {
    "duration": 19,
    "start_time": "2023-05-13T14:22:57.818Z"
   },
   {
    "duration": 8,
    "start_time": "2023-05-13T14:23:02.274Z"
   },
   {
    "duration": 11,
    "start_time": "2023-05-13T14:23:05.076Z"
   },
   {
    "duration": 10,
    "start_time": "2023-05-13T14:23:52.565Z"
   },
   {
    "duration": 11,
    "start_time": "2023-05-13T14:23:53.878Z"
   },
   {
    "duration": 10,
    "start_time": "2023-05-13T14:26:36.752Z"
   },
   {
    "duration": 13,
    "start_time": "2023-05-13T14:26:45.130Z"
   },
   {
    "duration": 10,
    "start_time": "2023-05-13T14:27:19.669Z"
   },
   {
    "duration": 13,
    "start_time": "2023-05-13T14:29:10.745Z"
   },
   {
    "duration": 13,
    "start_time": "2023-05-13T14:29:23.235Z"
   },
   {
    "duration": 11,
    "start_time": "2023-05-13T14:30:01.883Z"
   },
   {
    "duration": 637,
    "start_time": "2023-05-13T14:30:08.143Z"
   },
   {
    "duration": 10,
    "start_time": "2023-05-13T14:30:20.016Z"
   },
   {
    "duration": 641,
    "start_time": "2023-05-13T14:30:37.180Z"
   },
   {
    "duration": 13,
    "start_time": "2023-05-13T14:30:39.747Z"
   },
   {
    "duration": 15,
    "start_time": "2023-05-13T14:37:10.404Z"
   },
   {
    "duration": 58,
    "start_time": "2023-05-13T14:38:00.858Z"
   },
   {
    "duration": 1094,
    "start_time": "2023-05-13T14:38:11.459Z"
   },
   {
    "duration": 68,
    "start_time": "2023-05-13T14:38:12.555Z"
   },
   {
    "duration": 4,
    "start_time": "2023-05-13T14:38:12.625Z"
   },
   {
    "duration": 7,
    "start_time": "2023-05-13T14:38:12.630Z"
   },
   {
    "duration": 39,
    "start_time": "2023-05-13T14:38:12.638Z"
   },
   {
    "duration": 5,
    "start_time": "2023-05-13T14:38:12.678Z"
   },
   {
    "duration": 15,
    "start_time": "2023-05-13T14:38:12.698Z"
   },
   {
    "duration": 7,
    "start_time": "2023-05-13T14:38:12.715Z"
   },
   {
    "duration": 10,
    "start_time": "2023-05-13T14:38:12.723Z"
   },
   {
    "duration": 6,
    "start_time": "2023-05-13T14:38:12.735Z"
   },
   {
    "duration": 16,
    "start_time": "2023-05-13T14:38:12.742Z"
   },
   {
    "duration": 7,
    "start_time": "2023-05-13T14:38:12.759Z"
   },
   {
    "duration": 7,
    "start_time": "2023-05-13T14:38:12.767Z"
   },
   {
    "duration": 10,
    "start_time": "2023-05-13T14:38:12.776Z"
   },
   {
    "duration": 9,
    "start_time": "2023-05-13T14:38:12.787Z"
   },
   {
    "duration": 21,
    "start_time": "2023-05-13T14:38:12.799Z"
   },
   {
    "duration": 26,
    "start_time": "2023-05-13T14:38:12.821Z"
   },
   {
    "duration": 21,
    "start_time": "2023-05-13T14:38:12.849Z"
   },
   {
    "duration": 362,
    "start_time": "2023-05-13T14:38:12.872Z"
   },
   {
    "duration": 9,
    "start_time": "2023-05-13T14:38:13.237Z"
   },
   {
    "duration": 186,
    "start_time": "2023-05-13T14:38:13.247Z"
   },
   {
    "duration": 1389,
    "start_time": "2023-05-13T14:38:13.435Z"
   },
   {
    "duration": 2195,
    "start_time": "2023-05-13T14:38:14.826Z"
   },
   {
    "duration": 353,
    "start_time": "2023-05-13T14:38:17.023Z"
   },
   {
    "duration": 1416,
    "start_time": "2023-05-13T14:38:17.377Z"
   },
   {
    "duration": 3815,
    "start_time": "2023-05-13T14:38:18.794Z"
   },
   {
    "duration": 94,
    "start_time": "2023-05-13T14:38:22.611Z"
   },
   {
    "duration": 226,
    "start_time": "2023-05-13T14:38:22.714Z"
   },
   {
    "duration": 2033,
    "start_time": "2023-05-13T14:38:22.941Z"
   },
   {
    "duration": 3052,
    "start_time": "2023-05-13T14:38:24.976Z"
   },
   {
    "duration": 15,
    "start_time": "2023-05-13T14:38:28.098Z"
   },
   {
    "duration": 115,
    "start_time": "2023-05-13T14:38:28.116Z"
   },
   {
    "duration": 783,
    "start_time": "2023-05-13T14:38:28.233Z"
   },
   {
    "duration": 1699,
    "start_time": "2023-05-13T14:38:29.017Z"
   },
   {
    "duration": 91,
    "start_time": "2023-05-13T14:38:30.720Z"
   },
   {
    "duration": 41,
    "start_time": "2023-05-13T14:38:30.813Z"
   },
   {
    "duration": 72,
    "start_time": "2023-05-13T14:38:30.856Z"
   },
   {
    "duration": 90,
    "start_time": "2023-05-13T14:38:30.929Z"
   },
   {
    "duration": 187,
    "start_time": "2023-05-13T14:38:31.020Z"
   },
   {
    "duration": 0,
    "start_time": "2023-05-13T14:38:31.209Z"
   },
   {
    "duration": 0,
    "start_time": "2023-05-13T14:38:31.210Z"
   },
   {
    "duration": 17,
    "start_time": "2023-05-13T14:38:48.810Z"
   },
   {
    "duration": 4,
    "start_time": "2023-05-13T14:39:19.064Z"
   },
   {
    "duration": 121,
    "start_time": "2023-05-13T14:39:22.783Z"
   },
   {
    "duration": 7,
    "start_time": "2023-05-13T14:39:59.478Z"
   },
   {
    "duration": 18,
    "start_time": "2023-05-13T14:40:06.704Z"
   },
   {
    "duration": 627,
    "start_time": "2023-05-13T14:40:32.329Z"
   },
   {
    "duration": 126,
    "start_time": "2023-05-13T14:40:39.534Z"
   },
   {
    "duration": 114,
    "start_time": "2023-05-13T14:41:17.522Z"
   },
   {
    "duration": 118,
    "start_time": "2023-05-13T14:42:13.366Z"
   },
   {
    "duration": 180,
    "start_time": "2023-05-13T14:42:57.482Z"
   },
   {
    "duration": 12,
    "start_time": "2023-05-13T14:44:50.942Z"
   },
   {
    "duration": 163,
    "start_time": "2023-05-13T14:45:36.316Z"
   },
   {
    "duration": 8490,
    "start_time": "2023-05-13T14:47:06.205Z"
   },
   {
    "duration": 21013,
    "start_time": "2023-05-13T14:47:34.326Z"
   },
   {
    "duration": 28,
    "start_time": "2023-05-13T14:48:39.493Z"
   },
   {
    "duration": 20979,
    "start_time": "2023-05-13T14:49:21.391Z"
   },
   {
    "duration": 27682,
    "start_time": "2023-05-13T14:50:12.745Z"
   },
   {
    "duration": 0,
    "start_time": "2023-05-13T14:52:19.500Z"
   },
   {
    "duration": 27620,
    "start_time": "2023-05-13T14:53:17.320Z"
   },
   {
    "duration": 21520,
    "start_time": "2023-05-13T14:54:06.398Z"
   },
   {
    "duration": 21323,
    "start_time": "2023-05-13T14:54:44.946Z"
   },
   {
    "duration": 27726,
    "start_time": "2023-05-13T14:55:26.065Z"
   },
   {
    "duration": 27397,
    "start_time": "2023-05-13T14:56:14.924Z"
   },
   {
    "duration": 12723,
    "start_time": "2023-05-13T14:57:36.546Z"
   },
   {
    "duration": 12381,
    "start_time": "2023-05-13T14:58:17.212Z"
   },
   {
    "duration": 191,
    "start_time": "2023-05-13T14:59:44.047Z"
   },
   {
    "duration": 21371,
    "start_time": "2023-05-13T15:00:29.789Z"
   },
   {
    "duration": 21302,
    "start_time": "2023-05-13T15:01:08.210Z"
   },
   {
    "duration": 205,
    "start_time": "2023-05-13T15:01:29.515Z"
   },
   {
    "duration": 27350,
    "start_time": "2023-05-13T15:02:16.358Z"
   },
   {
    "duration": 102,
    "start_time": "2023-05-13T15:03:09.926Z"
   },
   {
    "duration": 20,
    "start_time": "2023-05-13T15:03:56.339Z"
   },
   {
    "duration": 12186,
    "start_time": "2023-05-13T15:04:27.283Z"
   },
   {
    "duration": 12,
    "start_time": "2023-05-13T15:04:44.423Z"
   },
   {
    "duration": 24,
    "start_time": "2023-05-13T15:07:07.213Z"
   },
   {
    "duration": 146,
    "start_time": "2023-05-13T15:07:10.530Z"
   },
   {
    "duration": 14,
    "start_time": "2023-05-13T15:21:41.693Z"
   },
   {
    "duration": 1558,
    "start_time": "2023-05-14T13:08:35.889Z"
   },
   {
    "duration": 105,
    "start_time": "2023-05-14T13:08:37.449Z"
   },
   {
    "duration": 12,
    "start_time": "2023-05-14T13:08:37.555Z"
   },
   {
    "duration": 6,
    "start_time": "2023-05-14T13:08:37.571Z"
   },
   {
    "duration": 55,
    "start_time": "2023-05-14T13:08:37.578Z"
   },
   {
    "duration": 6,
    "start_time": "2023-05-14T13:08:37.635Z"
   },
   {
    "duration": 16,
    "start_time": "2023-05-14T13:08:37.643Z"
   },
   {
    "duration": 9,
    "start_time": "2023-05-14T13:08:37.662Z"
   },
   {
    "duration": 6,
    "start_time": "2023-05-14T13:08:37.674Z"
   },
   {
    "duration": 7,
    "start_time": "2023-05-14T13:08:37.682Z"
   },
   {
    "duration": 5,
    "start_time": "2023-05-14T13:08:37.691Z"
   },
   {
    "duration": 4,
    "start_time": "2023-05-14T13:08:37.698Z"
   },
   {
    "duration": 6,
    "start_time": "2023-05-14T13:08:37.703Z"
   },
   {
    "duration": 50,
    "start_time": "2023-05-14T13:08:37.710Z"
   },
   {
    "duration": 15,
    "start_time": "2023-05-14T13:08:37.761Z"
   },
   {
    "duration": 8,
    "start_time": "2023-05-14T13:08:37.778Z"
   },
   {
    "duration": 20,
    "start_time": "2023-05-14T13:08:37.787Z"
   },
   {
    "duration": 171,
    "start_time": "2023-05-14T13:08:37.808Z"
   },
   {
    "duration": 11,
    "start_time": "2023-05-14T13:08:37.980Z"
   },
   {
    "duration": 31,
    "start_time": "2023-05-14T13:08:37.993Z"
   },
   {
    "duration": 209,
    "start_time": "2023-05-14T13:08:38.026Z"
   },
   {
    "duration": 21780,
    "start_time": "2023-05-14T13:08:38.236Z"
   },
   {
    "duration": 2572,
    "start_time": "2023-05-14T13:09:00.017Z"
   },
   {
    "duration": 317,
    "start_time": "2023-05-14T13:09:02.659Z"
   },
   {
    "duration": 22040,
    "start_time": "2023-05-14T13:09:02.979Z"
   },
   {
    "duration": 1951,
    "start_time": "2023-05-14T13:09:25.021Z"
   },
   {
    "duration": 93,
    "start_time": "2023-05-14T13:09:26.974Z"
   },
   {
    "duration": 225,
    "start_time": "2023-05-14T13:09:27.071Z"
   },
   {
    "duration": 29551,
    "start_time": "2023-05-14T13:09:27.298Z"
   },
   {
    "duration": 6701,
    "start_time": "2023-05-14T13:09:56.857Z"
   },
   {
    "duration": 111,
    "start_time": "2023-05-14T13:10:03.560Z"
   },
   {
    "duration": 131,
    "start_time": "2023-05-14T13:10:03.673Z"
   },
   {
    "duration": 13393,
    "start_time": "2023-05-14T13:10:03.810Z"
   },
   {
    "duration": 2856,
    "start_time": "2023-05-14T13:10:17.204Z"
   },
   {
    "duration": 14,
    "start_time": "2023-05-14T13:10:20.062Z"
   },
   {
    "duration": 12,
    "start_time": "2023-05-14T13:10:20.078Z"
   },
   {
    "duration": 27,
    "start_time": "2023-05-14T13:10:20.091Z"
   },
   {
    "duration": 352,
    "start_time": "2023-05-14T13:10:20.120Z"
   },
   {
    "duration": 9,
    "start_time": "2023-05-14T13:10:20.473Z"
   },
   {
    "duration": 28,
    "start_time": "2023-05-14T13:10:35.370Z"
   },
   {
    "duration": 24,
    "start_time": "2023-05-14T13:11:27.887Z"
   },
   {
    "duration": 12,
    "start_time": "2023-05-14T13:11:43.414Z"
   },
   {
    "duration": 36,
    "start_time": "2023-05-14T13:11:49.087Z"
   },
   {
    "duration": 1391,
    "start_time": "2023-05-14T13:12:00.148Z"
   },
   {
    "duration": 69,
    "start_time": "2023-05-14T13:12:01.541Z"
   },
   {
    "duration": 5,
    "start_time": "2023-05-14T13:12:01.612Z"
   },
   {
    "duration": 45,
    "start_time": "2023-05-14T13:12:01.619Z"
   },
   {
    "duration": 57,
    "start_time": "2023-05-14T13:12:01.666Z"
   },
   {
    "duration": 22,
    "start_time": "2023-05-14T13:12:01.725Z"
   },
   {
    "duration": 38,
    "start_time": "2023-05-14T13:12:01.750Z"
   },
   {
    "duration": 50,
    "start_time": "2023-05-14T13:12:01.790Z"
   },
   {
    "duration": 19,
    "start_time": "2023-05-14T13:12:01.841Z"
   },
   {
    "duration": 28,
    "start_time": "2023-05-14T13:12:01.862Z"
   },
   {
    "duration": 15,
    "start_time": "2023-05-14T13:12:01.893Z"
   },
   {
    "duration": 17,
    "start_time": "2023-05-14T13:12:01.910Z"
   },
   {
    "duration": 12,
    "start_time": "2023-05-14T13:12:01.929Z"
   },
   {
    "duration": 35,
    "start_time": "2023-05-14T13:12:01.944Z"
   },
   {
    "duration": 10,
    "start_time": "2023-05-14T13:12:01.981Z"
   },
   {
    "duration": 10,
    "start_time": "2023-05-14T13:12:01.993Z"
   },
   {
    "duration": 21,
    "start_time": "2023-05-14T13:12:02.004Z"
   },
   {
    "duration": 144,
    "start_time": "2023-05-14T13:12:02.027Z"
   },
   {
    "duration": 11,
    "start_time": "2023-05-14T13:12:02.172Z"
   },
   {
    "duration": 105,
    "start_time": "2023-05-14T13:12:02.184Z"
   },
   {
    "duration": 61,
    "start_time": "2023-05-14T13:12:02.290Z"
   },
   {
    "duration": 192,
    "start_time": "2023-05-14T13:12:02.352Z"
   },
   {
    "duration": 21313,
    "start_time": "2023-05-14T13:12:02.546Z"
   },
   {
    "duration": 2201,
    "start_time": "2023-05-14T13:12:23.860Z"
   },
   {
    "duration": 259,
    "start_time": "2023-05-14T13:12:26.065Z"
   },
   {
    "duration": 22423,
    "start_time": "2023-05-14T13:12:26.325Z"
   },
   {
    "duration": 3723,
    "start_time": "2023-05-14T13:12:48.750Z"
   },
   {
    "duration": 90,
    "start_time": "2023-05-14T13:12:52.481Z"
   },
   {
    "duration": 246,
    "start_time": "2023-05-14T13:12:52.573Z"
   },
   {
    "duration": 27798,
    "start_time": "2023-05-14T13:12:52.821Z"
   },
   {
    "duration": 4159,
    "start_time": "2023-05-14T13:13:20.621Z"
   },
   {
    "duration": 80,
    "start_time": "2023-05-14T13:13:24.788Z"
   },
   {
    "duration": 125,
    "start_time": "2023-05-14T13:13:24.872Z"
   },
   {
    "duration": 13632,
    "start_time": "2023-05-14T13:13:24.998Z"
   },
   {
    "duration": 735,
    "start_time": "2023-05-14T13:13:38.632Z"
   },
   {
    "duration": 88,
    "start_time": "2023-05-14T13:13:39.370Z"
   },
   {
    "duration": 8,
    "start_time": "2023-05-14T13:13:39.467Z"
   },
   {
    "duration": 27,
    "start_time": "2023-05-14T13:13:39.476Z"
   },
   {
    "duration": 372,
    "start_time": "2023-05-14T13:13:39.505Z"
   },
   {
    "duration": 9,
    "start_time": "2023-05-14T13:13:39.878Z"
   },
   {
    "duration": 327,
    "start_time": "2023-05-14T13:26:47.512Z"
   },
   {
    "duration": 181,
    "start_time": "2023-05-14T13:27:02.290Z"
   },
   {
    "duration": 170,
    "start_time": "2023-05-14T13:28:10.573Z"
   },
   {
    "duration": 191,
    "start_time": "2023-05-14T13:29:15.627Z"
   },
   {
    "duration": 21890,
    "start_time": "2023-05-14T13:29:36.313Z"
   },
   {
    "duration": 1650,
    "start_time": "2023-05-14T13:31:20.830Z"
   },
   {
    "duration": 209,
    "start_time": "2023-05-14T13:32:17.896Z"
   },
   {
    "duration": 22027,
    "start_time": "2023-05-14T13:32:44.880Z"
   },
   {
    "duration": 2729,
    "start_time": "2023-05-14T13:33:30.142Z"
   },
   {
    "duration": 234,
    "start_time": "2023-05-14T13:34:06.883Z"
   },
   {
    "duration": 29223,
    "start_time": "2023-05-14T13:34:31.931Z"
   },
   {
    "duration": 6531,
    "start_time": "2023-05-14T13:35:04.731Z"
   },
   {
    "duration": 113,
    "start_time": "2023-05-14T13:35:45.130Z"
   },
   {
    "duration": 13061,
    "start_time": "2023-05-14T13:36:11.921Z"
   },
   {
    "duration": 1785,
    "start_time": "2023-05-14T13:36:43.983Z"
   },
   {
    "duration": 13,
    "start_time": "2023-05-14T13:39:01.641Z"
   },
   {
    "duration": 14,
    "start_time": "2023-05-14T13:39:27.642Z"
   },
   {
    "duration": 11,
    "start_time": "2023-05-14T13:39:38.487Z"
   },
   {
    "duration": 13,
    "start_time": "2023-05-14T13:40:57.300Z"
   },
   {
    "duration": 13,
    "start_time": "2023-05-14T13:42:29.651Z"
   },
   {
    "duration": 1332,
    "start_time": "2023-05-14T13:45:17.987Z"
   },
   {
    "duration": 69,
    "start_time": "2023-05-14T13:45:19.321Z"
   },
   {
    "duration": 6,
    "start_time": "2023-05-14T13:45:19.391Z"
   },
   {
    "duration": 6,
    "start_time": "2023-05-14T13:45:19.398Z"
   },
   {
    "duration": 61,
    "start_time": "2023-05-14T13:45:19.407Z"
   },
   {
    "duration": 5,
    "start_time": "2023-05-14T13:45:19.470Z"
   },
   {
    "duration": 4,
    "start_time": "2023-05-14T13:45:19.477Z"
   },
   {
    "duration": 5,
    "start_time": "2023-05-14T13:45:19.483Z"
   },
   {
    "duration": 5,
    "start_time": "2023-05-14T13:45:19.489Z"
   },
   {
    "duration": 4,
    "start_time": "2023-05-14T13:45:19.496Z"
   },
   {
    "duration": 5,
    "start_time": "2023-05-14T13:45:19.502Z"
   },
   {
    "duration": 51,
    "start_time": "2023-05-14T13:45:19.509Z"
   },
   {
    "duration": 11,
    "start_time": "2023-05-14T13:45:19.562Z"
   },
   {
    "duration": 10,
    "start_time": "2023-05-14T13:45:19.576Z"
   },
   {
    "duration": 4,
    "start_time": "2023-05-14T13:45:19.588Z"
   },
   {
    "duration": 7,
    "start_time": "2023-05-14T13:45:19.594Z"
   },
   {
    "duration": 57,
    "start_time": "2023-05-14T13:45:19.602Z"
   },
   {
    "duration": 136,
    "start_time": "2023-05-14T13:45:19.660Z"
   },
   {
    "duration": 11,
    "start_time": "2023-05-14T13:45:19.798Z"
   },
   {
    "duration": 53,
    "start_time": "2023-05-14T13:45:19.811Z"
   },
   {
    "duration": 174,
    "start_time": "2023-05-14T13:45:19.865Z"
   },
   {
    "duration": 20521,
    "start_time": "2023-05-14T13:45:20.040Z"
   },
   {
    "duration": 995,
    "start_time": "2023-05-14T13:45:40.563Z"
   },
   {
    "duration": 290,
    "start_time": "2023-05-14T13:45:41.560Z"
   },
   {
    "duration": 20845,
    "start_time": "2023-05-14T13:45:41.857Z"
   },
   {
    "duration": 1259,
    "start_time": "2023-05-14T13:46:02.704Z"
   },
   {
    "duration": 102,
    "start_time": "2023-05-14T13:46:03.967Z"
   },
   {
    "duration": 304,
    "start_time": "2023-05-14T13:46:04.071Z"
   },
   {
    "duration": 26613,
    "start_time": "2023-05-14T13:46:04.377Z"
   },
   {
    "duration": 1570,
    "start_time": "2023-05-14T13:46:30.992Z"
   },
   {
    "duration": 101,
    "start_time": "2023-05-14T13:46:32.566Z"
   },
   {
    "duration": 180,
    "start_time": "2023-05-14T13:46:32.669Z"
   },
   {
    "duration": 12713,
    "start_time": "2023-05-14T13:46:32.856Z"
   },
   {
    "duration": 886,
    "start_time": "2023-05-14T13:46:45.571Z"
   },
   {
    "duration": 100,
    "start_time": "2023-05-14T13:46:46.459Z"
   },
   {
    "duration": 13,
    "start_time": "2023-05-14T13:46:46.561Z"
   },
   {
    "duration": 9,
    "start_time": "2023-05-14T13:46:46.576Z"
   },
   {
    "duration": 27,
    "start_time": "2023-05-14T13:46:46.587Z"
   },
   {
    "duration": 369,
    "start_time": "2023-05-14T13:46:46.616Z"
   },
   {
    "duration": 9,
    "start_time": "2023-05-14T13:46:46.987Z"
   }
  ],
  "kernelspec": {
   "display_name": "Python 3 (ipykernel)",
   "language": "python",
   "name": "python3"
  },
  "language_info": {
   "codemirror_mode": {
    "name": "ipython",
    "version": 3
   },
   "file_extension": ".py",
   "mimetype": "text/x-python",
   "name": "python",
   "nbconvert_exporter": "python",
   "pygments_lexer": "ipython3",
   "version": "3.11.4"
  },
  "toc": {
   "base_numbering": 1,
   "nav_menu": {},
   "number_sections": true,
   "sideBar": true,
   "skip_h1_title": true,
   "title_cell": "Содержание",
   "title_sidebar": "Contents",
   "toc_cell": true,
   "toc_position": {
    "height": "calc(100% - 180px)",
    "left": "10px",
    "top": "150px",
    "width": "277px"
   },
   "toc_section_display": true,
   "toc_window_display": true
  }
 },
 "nbformat": 4,
 "nbformat_minor": 4
}
