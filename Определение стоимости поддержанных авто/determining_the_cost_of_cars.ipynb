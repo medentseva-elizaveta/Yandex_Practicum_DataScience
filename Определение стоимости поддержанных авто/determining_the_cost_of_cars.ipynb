{
 "cells": [
  {
   "cell_type": "markdown",
   "metadata": {},
   "source": [
    "# Определение стоимости автомобилей"
   ]
  },
  {
   "cell_type": "markdown",
   "metadata": {},
   "source": [
    "Сервис по продаже автомобилей с пробегом «Не бит, не крашен» разрабатывает приложение для привлечения новых клиентов. В нём можно быстро узнать рыночную стоимость своего автомобиля. В вашем распоряжении исторические данные: технические характеристики, комплектации и цены автомобилей. Вам нужно построить модель для определения стоимости. \n",
    "\n",
    "Заказчику важны:\n",
    "\n",
    "- качество предсказания;\n",
    "- скорость предсказания;\n",
    "- время обучения."
   ]
  },
  {
   "cell_type": "markdown",
   "metadata": {},
   "source": [
    "<b> План работы: </b>\n",
    "1. Загрузить данные, путь к файлу: /datasets/autos.csv.\n",
    "2. Изучить данные. Заполнить пропущенные значения и обработать аномалии в столбцах. Если среди признаков имеются неинформативные, удалить их.\n",
    "3. Подготовить выборки для обучения моделей.\n",
    "4. Обучить разные модели, одна из которых — LightGBM, как минимум одна — не бустинг. Для каждой модели попробовать разные гиперпараметры.\n",
    "5. Проанализировать время обучения, время предсказания и качество моделей.\n",
    "6. Опираясь на критерии заказчика, выбрать лучшую модель, проверить её качество на тестовой выборке."
   ]
  },
  {
   "cell_type": "markdown",
   "metadata": {},
   "source": [
    "<b> Описание данных: </b>\n",
    "\n",
    "<b> Признаки </b>\n",
    "* DateCrawled — дата скачивания анкеты из базы\n",
    "* VehicleType — тип автомобильного кузова\n",
    "* RegistrationYear — год регистрации автомобиля\n",
    "* Gearbox — тип коробки передач\n",
    "* Power — мощность (л. с.)\n",
    "* Model — модель автомобиля\n",
    "* Kilometer — пробег (км)\n",
    "* RegistrationMonth — месяц регистрации автомобиля\n",
    "* FuelType — тип топлива\n",
    "* Brand — марка автомобиля\n",
    "* Repaired — была машина в ремонте или нет\n",
    "* DateCreated — дата создания анкеты\n",
    "* NumberOfPictures — количество фотографий автомобиля\n",
    "* PostalCode — почтовый индекс владельца анкеты (пользователя)\n",
    "* LastSeen — дата последней активности пользователя\n",
    "\n",
    "<b> Целевой признак </b>\n",
    "\n",
    "Price — цена (евро)"
   ]
  },
  {
   "cell_type": "markdown",
   "metadata": {},
   "source": [
    "## Подготовка данных"
   ]
  },
  {
   "cell_type": "code",
   "execution_count": 1,
   "metadata": {},
   "outputs": [],
   "source": [
    "!pip install pandas\n",
    "!pip install numpy\n",
    "!pip install skimpy\n",
    "!pip install scikit-learn\n",
    "!pip install lightgbm"
   ]
  },
  {
   "cell_type": "code",
   "execution_count": 2,
   "metadata": {},
   "outputs": [],
   "source": [
    "import warnings\n",
    "import time\n",
    "import os\n",
    "\n",
    "import pandas as pd\n",
    "import numpy as np\n",
    "from numpy.random import RandomState\n",
    "from skimpy import clean_columns\n",
    "from sklearn.model_selection import train_test_split, GridSearchCV, RandomizedSearchCV\n",
    "from sklearn.metrics import mean_squared_error\n",
    "from sklearn.preprocessing import StandardScaler, OneHotEncoder, OrdinalEncoder\n",
    "from sklearn.linear_model import LinearRegression\n",
    "from lightgbm import LGBMRegressor\n",
    "from sklearn.ensemble import RandomForestRegressor\n",
    "from sklearn.dummy import DummyRegressor\n",
    "\n",
    "warnings.filterwarnings('ignore')\n",
    "\n",
    "STATE = RandomState(12345)"
   ]
  },
  {
   "cell_type": "markdown",
   "metadata": {},
   "source": [
    "### Загрузка данных"
   ]
  },
  {
   "cell_type": "code",
   "execution_count": 3,
   "metadata": {},
   "outputs": [],
   "source": [
    "try:\n",
    "    data = pd.read_csv('autos.csv')\n",
    "except:\n",
    "    data = pd.read_csv('https://code.s3.yandex.net/datasets/autos.csv')"
   ]
  },
  {
   "cell_type": "markdown",
   "metadata": {},
   "source": [
    "### Изучение данных"
   ]
  },
  {
   "cell_type": "code",
   "execution_count": 4,
   "metadata": {},
   "outputs": [
    {
     "name": "stdout",
     "output_type": "stream",
     "text": [
      "<class 'pandas.core.frame.DataFrame'>\n",
      "RangeIndex: 354369 entries, 0 to 354368\n",
      "Data columns (total 16 columns):\n",
      " #   Column             Non-Null Count   Dtype \n",
      "---  ------             --------------   ----- \n",
      " 0   DateCrawled        354369 non-null  object\n",
      " 1   Price              354369 non-null  int64 \n",
      " 2   VehicleType        316879 non-null  object\n",
      " 3   RegistrationYear   354369 non-null  int64 \n",
      " 4   Gearbox            334536 non-null  object\n",
      " 5   Power              354369 non-null  int64 \n",
      " 6   Model              334664 non-null  object\n",
      " 7   Kilometer          354369 non-null  int64 \n",
      " 8   RegistrationMonth  354369 non-null  int64 \n",
      " 9   FuelType           321474 non-null  object\n",
      " 10  Brand              354369 non-null  object\n",
      " 11  Repaired           283215 non-null  object\n",
      " 12  DateCreated        354369 non-null  object\n",
      " 13  NumberOfPictures   354369 non-null  int64 \n",
      " 14  PostalCode         354369 non-null  int64 \n",
      " 15  LastSeen           354369 non-null  object\n",
      "dtypes: int64(7), object(9)\n",
      "memory usage: 43.3+ MB\n"
     ]
    }
   ],
   "source": [
    "data.info()"
   ]
  },
  {
   "cell_type": "code",
   "execution_count": 5,
   "metadata": {},
   "outputs": [
    {
     "data": {
      "text/html": [
       "<div>\n",
       "<style scoped>\n",
       "    .dataframe tbody tr th:only-of-type {\n",
       "        vertical-align: middle;\n",
       "    }\n",
       "\n",
       "    .dataframe tbody tr th {\n",
       "        vertical-align: top;\n",
       "    }\n",
       "\n",
       "    .dataframe thead th {\n",
       "        text-align: right;\n",
       "    }\n",
       "</style>\n",
       "<table border=\"1\" class=\"dataframe\">\n",
       "  <thead>\n",
       "    <tr style=\"text-align: right;\">\n",
       "      <th></th>\n",
       "      <th>DateCrawled</th>\n",
       "      <th>Price</th>\n",
       "      <th>VehicleType</th>\n",
       "      <th>RegistrationYear</th>\n",
       "      <th>Gearbox</th>\n",
       "      <th>Power</th>\n",
       "      <th>Model</th>\n",
       "      <th>Kilometer</th>\n",
       "      <th>RegistrationMonth</th>\n",
       "      <th>FuelType</th>\n",
       "      <th>Brand</th>\n",
       "      <th>Repaired</th>\n",
       "      <th>DateCreated</th>\n",
       "      <th>NumberOfPictures</th>\n",
       "      <th>PostalCode</th>\n",
       "      <th>LastSeen</th>\n",
       "    </tr>\n",
       "  </thead>\n",
       "  <tbody>\n",
       "    <tr>\n",
       "      <th>0</th>\n",
       "      <td>2016-03-24 11:52:17</td>\n",
       "      <td>480</td>\n",
       "      <td>NaN</td>\n",
       "      <td>1993</td>\n",
       "      <td>manual</td>\n",
       "      <td>0</td>\n",
       "      <td>golf</td>\n",
       "      <td>150000</td>\n",
       "      <td>0</td>\n",
       "      <td>petrol</td>\n",
       "      <td>volkswagen</td>\n",
       "      <td>NaN</td>\n",
       "      <td>2016-03-24 00:00:00</td>\n",
       "      <td>0</td>\n",
       "      <td>70435</td>\n",
       "      <td>2016-04-07 03:16:57</td>\n",
       "    </tr>\n",
       "    <tr>\n",
       "      <th>1</th>\n",
       "      <td>2016-03-24 10:58:45</td>\n",
       "      <td>18300</td>\n",
       "      <td>coupe</td>\n",
       "      <td>2011</td>\n",
       "      <td>manual</td>\n",
       "      <td>190</td>\n",
       "      <td>NaN</td>\n",
       "      <td>125000</td>\n",
       "      <td>5</td>\n",
       "      <td>gasoline</td>\n",
       "      <td>audi</td>\n",
       "      <td>yes</td>\n",
       "      <td>2016-03-24 00:00:00</td>\n",
       "      <td>0</td>\n",
       "      <td>66954</td>\n",
       "      <td>2016-04-07 01:46:50</td>\n",
       "    </tr>\n",
       "    <tr>\n",
       "      <th>2</th>\n",
       "      <td>2016-03-14 12:52:21</td>\n",
       "      <td>9800</td>\n",
       "      <td>suv</td>\n",
       "      <td>2004</td>\n",
       "      <td>auto</td>\n",
       "      <td>163</td>\n",
       "      <td>grand</td>\n",
       "      <td>125000</td>\n",
       "      <td>8</td>\n",
       "      <td>gasoline</td>\n",
       "      <td>jeep</td>\n",
       "      <td>NaN</td>\n",
       "      <td>2016-03-14 00:00:00</td>\n",
       "      <td>0</td>\n",
       "      <td>90480</td>\n",
       "      <td>2016-04-05 12:47:46</td>\n",
       "    </tr>\n",
       "    <tr>\n",
       "      <th>3</th>\n",
       "      <td>2016-03-17 16:54:04</td>\n",
       "      <td>1500</td>\n",
       "      <td>small</td>\n",
       "      <td>2001</td>\n",
       "      <td>manual</td>\n",
       "      <td>75</td>\n",
       "      <td>golf</td>\n",
       "      <td>150000</td>\n",
       "      <td>6</td>\n",
       "      <td>petrol</td>\n",
       "      <td>volkswagen</td>\n",
       "      <td>no</td>\n",
       "      <td>2016-03-17 00:00:00</td>\n",
       "      <td>0</td>\n",
       "      <td>91074</td>\n",
       "      <td>2016-03-17 17:40:17</td>\n",
       "    </tr>\n",
       "    <tr>\n",
       "      <th>4</th>\n",
       "      <td>2016-03-31 17:25:20</td>\n",
       "      <td>3600</td>\n",
       "      <td>small</td>\n",
       "      <td>2008</td>\n",
       "      <td>manual</td>\n",
       "      <td>69</td>\n",
       "      <td>fabia</td>\n",
       "      <td>90000</td>\n",
       "      <td>7</td>\n",
       "      <td>gasoline</td>\n",
       "      <td>skoda</td>\n",
       "      <td>no</td>\n",
       "      <td>2016-03-31 00:00:00</td>\n",
       "      <td>0</td>\n",
       "      <td>60437</td>\n",
       "      <td>2016-04-06 10:17:21</td>\n",
       "    </tr>\n",
       "  </tbody>\n",
       "</table>\n",
       "</div>"
      ],
      "text/plain": [
       "           DateCrawled  Price VehicleType  RegistrationYear Gearbox  Power  \\\n",
       "0  2016-03-24 11:52:17    480         NaN              1993  manual      0   \n",
       "1  2016-03-24 10:58:45  18300       coupe              2011  manual    190   \n",
       "2  2016-03-14 12:52:21   9800         suv              2004    auto    163   \n",
       "3  2016-03-17 16:54:04   1500       small              2001  manual     75   \n",
       "4  2016-03-31 17:25:20   3600       small              2008  manual     69   \n",
       "\n",
       "   Model  Kilometer  RegistrationMonth  FuelType       Brand Repaired  \\\n",
       "0   golf     150000                  0    petrol  volkswagen      NaN   \n",
       "1    NaN     125000                  5  gasoline        audi      yes   \n",
       "2  grand     125000                  8  gasoline        jeep      NaN   \n",
       "3   golf     150000                  6    petrol  volkswagen       no   \n",
       "4  fabia      90000                  7  gasoline       skoda       no   \n",
       "\n",
       "           DateCreated  NumberOfPictures  PostalCode             LastSeen  \n",
       "0  2016-03-24 00:00:00                 0       70435  2016-04-07 03:16:57  \n",
       "1  2016-03-24 00:00:00                 0       66954  2016-04-07 01:46:50  \n",
       "2  2016-03-14 00:00:00                 0       90480  2016-04-05 12:47:46  \n",
       "3  2016-03-17 00:00:00                 0       91074  2016-03-17 17:40:17  \n",
       "4  2016-03-31 00:00:00                 0       60437  2016-04-06 10:17:21  "
      ]
     },
     "execution_count": 5,
     "metadata": {},
     "output_type": "execute_result"
    }
   ],
   "source": [
    "data.head()"
   ]
  },
  {
   "cell_type": "markdown",
   "metadata": {},
   "source": [
    "Приведем название стобцов к стилю snake_case"
   ]
  },
  {
   "cell_type": "code",
   "execution_count": 6,
   "metadata": {},
   "outputs": [
    {
     "data": {
      "text/plain": [
       "['date_crawled',\n",
       " 'price',\n",
       " 'vehicle_type',\n",
       " 'registration_year',\n",
       " 'gearbox',\n",
       " 'power',\n",
       " 'model',\n",
       " 'kilometer',\n",
       " 'registration_month',\n",
       " 'fuel_type',\n",
       " 'brand',\n",
       " 'repaired',\n",
       " 'date_created',\n",
       " 'number_of_pictures',\n",
       " 'postal_code',\n",
       " 'last_seen']"
      ]
     },
     "execution_count": 6,
     "metadata": {},
     "output_type": "execute_result"
    }
   ],
   "source": [
    "data = clean_columns(data)\n",
    "data.columns.tolist()"
   ]
  },
  {
   "cell_type": "markdown",
   "metadata": {},
   "source": [
    "Имеются следующие очевидно неинформативные признаки:\n",
    "* date_crawled — дата скачивания анкеты из базы;\n",
    "* registration_month — месяц регистрации автомобиля;\n",
    "* date_created — дата создания анкеты;\n",
    "* number_of_pictures — количество фотографий автомобиля;\n",
    "* postal_code — почтовый индекс владельца анкеты (пользователя);\n",
    "* last_seen — дата последней активности пользователя."
   ]
  },
  {
   "cell_type": "code",
   "execution_count": 7,
   "metadata": {},
   "outputs": [],
   "source": [
    "data = data.drop(['date_crawled', 'registration_month', 'date_created', 'number_of_pictures', 'postal_code', 'last_seen'], axis=1)"
   ]
  },
  {
   "cell_type": "markdown",
   "metadata": {},
   "source": [
    "Проверим данные на явные дубликаты"
   ]
  },
  {
   "cell_type": "code",
   "execution_count": 8,
   "metadata": {},
   "outputs": [
    {
     "data": {
      "text/plain": [
       "45040"
      ]
     },
     "execution_count": 8,
     "metadata": {},
     "output_type": "execute_result"
    }
   ],
   "source": [
    "data.duplicated().sum()"
   ]
  },
  {
   "cell_type": "markdown",
   "metadata": {},
   "source": [
    "Удалим 13372 дубликатов"
   ]
  },
  {
   "cell_type": "code",
   "execution_count": 9,
   "metadata": {},
   "outputs": [],
   "source": [
    "data = data.drop_duplicates().reset_index(drop = True)"
   ]
  },
  {
   "cell_type": "code",
   "execution_count": 10,
   "metadata": {},
   "outputs": [
    {
     "name": "stdout",
     "output_type": "stream",
     "text": [
      "<class 'pandas.core.frame.DataFrame'>\n",
      "RangeIndex: 309329 entries, 0 to 309328\n",
      "Data columns (total 10 columns):\n",
      " #   Column             Non-Null Count   Dtype \n",
      "---  ------             --------------   ----- \n",
      " 0   price              309329 non-null  int64 \n",
      " 1   vehicle_type       274770 non-null  object\n",
      " 2   registration_year  309329 non-null  int64 \n",
      " 3   gearbox            292122 non-null  object\n",
      " 4   power              309329 non-null  int64 \n",
      " 5   model              290968 non-null  object\n",
      " 6   kilometer          309329 non-null  int64 \n",
      " 7   fuel_type          278565 non-null  object\n",
      " 8   brand              309329 non-null  object\n",
      " 9   repaired           244771 non-null  object\n",
      "dtypes: int64(4), object(6)\n",
      "memory usage: 23.6+ MB\n"
     ]
    }
   ],
   "source": [
    "data.info()"
   ]
  },
  {
   "cell_type": "code",
   "execution_count": 11,
   "metadata": {},
   "outputs": [
    {
     "data": {
      "text/html": [
       "<div>\n",
       "<style scoped>\n",
       "    .dataframe tbody tr th:only-of-type {\n",
       "        vertical-align: middle;\n",
       "    }\n",
       "\n",
       "    .dataframe tbody tr th {\n",
       "        vertical-align: top;\n",
       "    }\n",
       "\n",
       "    .dataframe thead th {\n",
       "        text-align: right;\n",
       "    }\n",
       "</style>\n",
       "<table border=\"1\" class=\"dataframe\">\n",
       "  <thead>\n",
       "    <tr style=\"text-align: right;\">\n",
       "      <th></th>\n",
       "      <th>price</th>\n",
       "      <th>registration_year</th>\n",
       "      <th>power</th>\n",
       "      <th>kilometer</th>\n",
       "    </tr>\n",
       "  </thead>\n",
       "  <tbody>\n",
       "    <tr>\n",
       "      <th>count</th>\n",
       "      <td>309329.000000</td>\n",
       "      <td>309329.000000</td>\n",
       "      <td>309329.000000</td>\n",
       "      <td>309329.000000</td>\n",
       "    </tr>\n",
       "    <tr>\n",
       "      <th>mean</th>\n",
       "      <td>4486.937196</td>\n",
       "      <td>2004.360105</td>\n",
       "      <td>110.976908</td>\n",
       "      <td>127217.735809</td>\n",
       "    </tr>\n",
       "    <tr>\n",
       "      <th>std</th>\n",
       "      <td>4564.852796</td>\n",
       "      <td>92.541399</td>\n",
       "      <td>200.969473</td>\n",
       "      <td>38532.941010</td>\n",
       "    </tr>\n",
       "    <tr>\n",
       "      <th>min</th>\n",
       "      <td>0.000000</td>\n",
       "      <td>1000.000000</td>\n",
       "      <td>0.000000</td>\n",
       "      <td>5000.000000</td>\n",
       "    </tr>\n",
       "    <tr>\n",
       "      <th>25%</th>\n",
       "      <td>1100.000000</td>\n",
       "      <td>1999.000000</td>\n",
       "      <td>69.000000</td>\n",
       "      <td>125000.000000</td>\n",
       "    </tr>\n",
       "    <tr>\n",
       "      <th>50%</th>\n",
       "      <td>2800.000000</td>\n",
       "      <td>2003.000000</td>\n",
       "      <td>105.000000</td>\n",
       "      <td>150000.000000</td>\n",
       "    </tr>\n",
       "    <tr>\n",
       "      <th>75%</th>\n",
       "      <td>6500.000000</td>\n",
       "      <td>2008.000000</td>\n",
       "      <td>143.000000</td>\n",
       "      <td>150000.000000</td>\n",
       "    </tr>\n",
       "    <tr>\n",
       "      <th>max</th>\n",
       "      <td>20000.000000</td>\n",
       "      <td>9999.000000</td>\n",
       "      <td>20000.000000</td>\n",
       "      <td>150000.000000</td>\n",
       "    </tr>\n",
       "  </tbody>\n",
       "</table>\n",
       "</div>"
      ],
      "text/plain": [
       "               price  registration_year          power      kilometer\n",
       "count  309329.000000      309329.000000  309329.000000  309329.000000\n",
       "mean     4486.937196        2004.360105     110.976908  127217.735809\n",
       "std      4564.852796          92.541399     200.969473   38532.941010\n",
       "min         0.000000        1000.000000       0.000000    5000.000000\n",
       "25%      1100.000000        1999.000000      69.000000  125000.000000\n",
       "50%      2800.000000        2003.000000     105.000000  150000.000000\n",
       "75%      6500.000000        2008.000000     143.000000  150000.000000\n",
       "max     20000.000000        9999.000000   20000.000000  150000.000000"
      ]
     },
     "execution_count": 11,
     "metadata": {},
     "output_type": "execute_result"
    }
   ],
   "source": [
    "data.describe()"
   ]
  },
  {
   "cell_type": "markdown",
   "metadata": {},
   "source": [
    "Проверим столбцы на пропуски"
   ]
  },
  {
   "cell_type": "code",
   "execution_count": 12,
   "metadata": {
    "scrolled": true
   },
   "outputs": [
    {
     "data": {
      "text/html": [
       "<div>\n",
       "<style scoped>\n",
       "    .dataframe tbody tr th:only-of-type {\n",
       "        vertical-align: middle;\n",
       "    }\n",
       "\n",
       "    .dataframe tbody tr th {\n",
       "        vertical-align: top;\n",
       "    }\n",
       "\n",
       "    .dataframe thead th {\n",
       "        text-align: right;\n",
       "    }\n",
       "</style>\n",
       "<table border=\"1\" class=\"dataframe\">\n",
       "  <thead>\n",
       "    <tr style=\"text-align: right;\">\n",
       "      <th>Признаки</th>\n",
       "      <th>Количество пропусков</th>\n",
       "      <th>Доля пропусков</th>\n",
       "    </tr>\n",
       "  </thead>\n",
       "  <tbody>\n",
       "    <tr>\n",
       "      <th>price</th>\n",
       "      <td>0</td>\n",
       "      <td>0.000000</td>\n",
       "    </tr>\n",
       "    <tr>\n",
       "      <th>vehicle_type</th>\n",
       "      <td>34559</td>\n",
       "      <td>11.172247</td>\n",
       "    </tr>\n",
       "    <tr>\n",
       "      <th>registration_year</th>\n",
       "      <td>0</td>\n",
       "      <td>0.000000</td>\n",
       "    </tr>\n",
       "    <tr>\n",
       "      <th>gearbox</th>\n",
       "      <td>17207</td>\n",
       "      <td>5.562686</td>\n",
       "    </tr>\n",
       "    <tr>\n",
       "      <th>power</th>\n",
       "      <td>0</td>\n",
       "      <td>0.000000</td>\n",
       "    </tr>\n",
       "    <tr>\n",
       "      <th>model</th>\n",
       "      <td>18361</td>\n",
       "      <td>5.935751</td>\n",
       "    </tr>\n",
       "    <tr>\n",
       "      <th>kilometer</th>\n",
       "      <td>0</td>\n",
       "      <td>0.000000</td>\n",
       "    </tr>\n",
       "    <tr>\n",
       "      <th>fuel_type</th>\n",
       "      <td>30764</td>\n",
       "      <td>9.945398</td>\n",
       "    </tr>\n",
       "    <tr>\n",
       "      <th>brand</th>\n",
       "      <td>0</td>\n",
       "      <td>0.000000</td>\n",
       "    </tr>\n",
       "    <tr>\n",
       "      <th>repaired</th>\n",
       "      <td>64558</td>\n",
       "      <td>20.870335</td>\n",
       "    </tr>\n",
       "  </tbody>\n",
       "</table>\n",
       "</div>"
      ],
      "text/plain": [
       "Признаки           Количество пропусков  Доля пропусков\n",
       "price                                 0        0.000000\n",
       "vehicle_type                      34559       11.172247\n",
       "registration_year                     0        0.000000\n",
       "gearbox                           17207        5.562686\n",
       "power                                 0        0.000000\n",
       "model                             18361        5.935751\n",
       "kilometer                             0        0.000000\n",
       "fuel_type                         30764        9.945398\n",
       "brand                                 0        0.000000\n",
       "repaired                          64558       20.870335"
      ]
     },
     "execution_count": 12,
     "metadata": {},
     "output_type": "execute_result"
    }
   ],
   "source": [
    "pd.DataFrame({'Количество пропусков': data.isna().sum(), 'Доля пропусков': data.isna().mean()*100}).rename_axis('Признаки', axis = 1)"
   ]
  },
  {
   "cell_type": "markdown",
   "metadata": {},
   "source": [
    "В столбце price (цена, евро) есть нулевые значения, удалим их"
   ]
  },
  {
   "cell_type": "code",
   "execution_count": 13,
   "metadata": {},
   "outputs": [],
   "source": [
    "data = data[data['price'] != 0]"
   ]
  },
  {
   "cell_type": "markdown",
   "metadata": {},
   "source": [
    "Посмотрим на уникальные значения в столбце vehicle_type (тип автомобильного кузова)"
   ]
  },
  {
   "cell_type": "code",
   "execution_count": 14,
   "metadata": {},
   "outputs": [
    {
     "data": {
      "text/plain": [
       "array([nan, 'coupe', 'suv', 'small', 'sedan', 'convertible', 'bus',\n",
       "       'wagon', 'other'], dtype=object)"
      ]
     },
     "execution_count": 14,
     "metadata": {},
     "output_type": "execute_result"
    }
   ],
   "source": [
    "data['vehicle_type'].unique()"
   ]
  },
  {
   "cell_type": "markdown",
   "metadata": {},
   "source": [
    "Заполним пропуски значением 'other'"
   ]
  },
  {
   "cell_type": "code",
   "execution_count": 15,
   "metadata": {},
   "outputs": [],
   "source": [
    "data['vehicle_type'].fillna('other', inplace = True)"
   ]
  },
  {
   "cell_type": "markdown",
   "metadata": {},
   "source": [
    "Посмотрим на уникальные значения в столбце registration_year (год регистрации автомобиля)"
   ]
  },
  {
   "cell_type": "code",
   "execution_count": 16,
   "metadata": {},
   "outputs": [
    {
     "data": {
      "text/plain": [
       "array([1993, 2011, 2004, 2001, 2008, 1995, 2014, 1998, 2005, 1910, 2016,\n",
       "       2007, 2009, 2002, 2018, 1997, 1990, 2017, 1981, 2003, 1994, 1991,\n",
       "       1984, 2006, 1999, 2012, 2010, 2000, 1992, 2013, 1996, 1985, 1989,\n",
       "       2015, 1982, 1976, 1983, 1973, 1969, 1971, 1987, 1986, 1988, 1980,\n",
       "       1970, 1965, 1945, 1925, 1974, 1979, 1955, 1978, 1972, 1968, 1977,\n",
       "       1961, 1966, 1975, 1963, 1964, 1960, 5000, 1958, 1967, 1959, 1956,\n",
       "       3200, 1000, 1941, 9999, 8888, 1500, 2200, 4100, 1962, 1929, 1957,\n",
       "       1940, 3000, 2066, 1949, 2019, 1937, 1951, 1800, 1953, 1954, 1234,\n",
       "       8000, 5300, 9000, 2900, 6000, 5900, 5911, 1400, 1950, 4000, 1948,\n",
       "       1952, 8500, 1932, 1255, 3700, 3800, 4800, 1942, 7000, 1935, 1933,\n",
       "       1936, 6500, 1923, 2290, 1930, 1001, 9450, 1944, 2500, 1943, 1934,\n",
       "       1938, 1928, 5555, 5600, 1600, 1111, 2222, 1039, 1300, 2800, 1931,\n",
       "       4500, 1602, 7800, 1947, 1927, 7100, 8200, 1946])"
      ]
     },
     "execution_count": 16,
     "metadata": {},
     "output_type": "execute_result"
    }
   ],
   "source": [
    "data['registration_year'].unique()"
   ]
  },
  {
   "cell_type": "markdown",
   "metadata": {},
   "source": [
    "В столбце registration_year много аномалий. Удалим строки с годом меньше, чем 1960 и больше 2016, т.к. последняя анкета размещена в 2016 году."
   ]
  },
  {
   "cell_type": "code",
   "execution_count": 17,
   "metadata": {},
   "outputs": [],
   "source": [
    "data = data.loc[(data['registration_year'] >= 1960) & (data['registration_year'] <= 2016)]"
   ]
  },
  {
   "cell_type": "markdown",
   "metadata": {},
   "source": [
    "Посмотрим на уникальные значения в столбце gearbox (тип коробки передач)"
   ]
  },
  {
   "cell_type": "code",
   "execution_count": 18,
   "metadata": {},
   "outputs": [
    {
     "data": {
      "text/plain": [
       "array(['manual', 'auto', nan], dtype=object)"
      ]
     },
     "execution_count": 18,
     "metadata": {},
     "output_type": "execute_result"
    }
   ],
   "source": [
    "data['gearbox'].unique()"
   ]
  },
  {
   "cell_type": "markdown",
   "metadata": {},
   "source": [
    "Заполним пропуски значением 'unknown'"
   ]
  },
  {
   "cell_type": "code",
   "execution_count": 19,
   "metadata": {},
   "outputs": [],
   "source": [
    "data['gearbox'].fillna('unknown', inplace = True)"
   ]
  },
  {
   "cell_type": "markdown",
   "metadata": {},
   "source": [
    "Посмотрим на уникальные значения в столбце power (мощность л.с.)"
   ]
  },
  {
   "cell_type": "code",
   "execution_count": 20,
   "metadata": {},
   "outputs": [
    {
     "data": {
      "text/plain": [
       "array([    0,   190,   163,    75,    69,   102,   109,   125,   101,\n",
       "         105,   140,   115,   131,    60,   136,   160,   231,    50,\n",
       "         118,   193,    99,   113,   218,   122,   129,    70,   306,\n",
       "          95,    61,   177,   170,    55,   143,   286,   232,   150,\n",
       "         156,    80,    82,    90,   155,    54,   185,    87,   180,\n",
       "          86,    84,   224,   235,   200,   178,   265,    77,   110,\n",
       "         144,   120,   116,   184,   126,   204,    88,   194,    64,\n",
       "         305,   197,   179,   250,    45,   313,    41,   165,    98,\n",
       "         130,   114,   211,    56,   201,   213,    58,   107,    83,\n",
       "         174,   100,   220,    73,   192,    68,    66,   299,    74,\n",
       "          52,   147,   310,    71,    97,    65,   239,   203,     5,\n",
       "         300,   103,    85,   258,   320,    63,    81,   148,    44,\n",
       "         145,   280,   260,   104,   188,   333,   186,   117,   141,\n",
       "         132,   234,   158,    39,    92,    51,   135,    59,   230,\n",
       "          53,   209,    43,   146,    67,   106,   166,   276,   344,\n",
       "          72,   249,   237,   245,   111,   326,   279,    23,   138,\n",
       "         175,    96,   226,    26,    37,   301,   334,   128,   133,\n",
       "         124,    33,   219,   241,   167,    94,   182,   196,   238,\n",
       "        1398,   228,   112,    48,   272,   139,    79,   256,   360,\n",
       "         243,   252,   396,   340,   121,   345,   187,   289,   222,\n",
       "         198,   284,   450,   233,   387,   347,   172,    57,   137,\n",
       "         212,   476,   314,     7,    47,   173,   290,   207,   205,\n",
       "         171,    78,    91,    89,   349,    40,   108,   325,    76,\n",
       "         350,   953,    93,   142,   343,   199,   119,   164,    16,\n",
       "         264,   152,   367,   240,   208,   210,    46,   435,  1001,\n",
       "         225,   127,   176,   161,   603,   307,   354,    35,   206,\n",
       "         771,   355,   273,   223,   255,   151,    30,   123,   154,\n",
       "         149,  7515,  1400,   268,   620,   400,   275,    34,     2,\n",
       "         242,  1779,   285,   162,   328,  1753,   329,   134,   420,\n",
       "         247,   168,   215,    18,   330,   283,   500,    62,    10,\n",
       "         183,   254,    15,   321,   315,   952,   169,   600,   181,\n",
       "         426,   379,    22,   157,    42,   195,   553,     4,   309,\n",
       "         507,   381,   271,   440,   189,   401,  2729,    21,   236,\n",
       "        1240,  1704,   521,     1,  1900,   270,    24,   159,   292,\n",
       "         515,  1200,   303,    29,    38,  1993,    14,   216,   610,\n",
       "         504,    49,   267,   331,   363,   261,   385,  1011,   253,\n",
       "         696, 10520,   376,   227,   311,    27,   217,    20,   322,\n",
       "        1999,    11,  1056,    25,   394,    12,   298,   296,  1659,\n",
       "         294,   551,  6920,   246,    17,  1625,   390,   221,  1367,\n",
       "         259,   606,  1597,   266,   374,   392,     9,   405,    13,\n",
       "         262,   601,   430,   295,     8,   411,   900,   541,  7512,\n",
       "         382, 10218,  7544,   999,   287,    19,   214,   751,   297,\n",
       "        1090,   457,   282,   602,   388,     6,  5411,   335,  1360,\n",
       "         202,  3750,   805,  1062,  2017,   750,  1024, 11530,   364,\n",
       "        1796,   269,   460,  1002,   288,  1780, 12012, 17932,   316,\n",
       "        2005,  1800,  1399,   191,   278,   380,   257,   449,  1256,\n",
       "         153,  1653,   520,   560,   281, 12510,     3,  1500,   386,\n",
       "          32,  1202,  2016,  1436,  1405,   671,   274,  1288,  1055,\n",
       "       10912,  6226,  1115,   277,  1105,   341,  1223,  2340,  8404,\n",
       "        1968,   338,   445,  1920,   370,   517,  4400, 10710, 10522,\n",
       "         431,  1164, 11509,   371,  1501,   428, 11635,   304,   348,\n",
       "        1703,  1995,   579, 10000,   580,   408,    31,   358,  1403,\n",
       "         489,  5575, 19211,   585,   365,   353,   490,   352,  1801,\n",
       "        1000,   346,   550,  3199,   800,  7508,  1312,  1937,   950,\n",
       "        4700,  1600,  3454, 19208,   251,   850,   337,   700,  2331,\n",
       "        2789,   487,    36,   519,  2461,  6006,  3500,  5815,  6018,\n",
       "        1781,  1503,   612,  1596,   229,  1506,  5809, 15020,  1300,\n",
       "        5867,  2172,  1598, 17410,  1363,   584,  1054,   851,  1339,\n",
       "         318,   510,   525,    28,  1151,   685,  6011,   317,   703,\n",
       "        1771, 15001,   514,   362,   332,   324,  6045,   425,   308,\n",
       "        6010,   475,   903,   640,  2000,   248,   651,  2799,   368,\n",
       "       17011,   505,  1103,  1521,   351, 16051,   398,  1998, 10311,\n",
       "         409,  1230, 17019, 12684,  8259,  1895,  1317,   871,   909,\n",
       "        2201,  1595,   776, 17700, 11011,  1199,   459,   357,  1162,\n",
       "        1120, 15033,  1896,   339,   361,   574,  6512,   454,   650,\n",
       "       13616,   604, 16312,  1082,   336, 20000,   416,   678,  1401,\n",
       "        1021,  1870,   375, 13636,  1250,  6012,   323,  1158,  2009,\n",
       "         902,  6062,  1275,   572,   244,   399,  1016,   743,  1221,\n",
       "        2402,  1362,   544,   645,   907,   702,  1003,  1432,  9013,\n",
       "         442,  1017, 15017, 10910,  1992,   540,  2018, 11025,  1433,\n",
       "        1701,  2792,  1502,  1239,  1390, 14009,  1160, 11111,  1783,\n",
       "        9007,   923,  1149,   754,  1988,  2004,  5420,  1793,   356,\n",
       "       12512,  7511,  1299,   293, 19312,  1079,  1689,   998,  1100,\n",
       "        1933,   508, 16311,   682,  1922,  7529,   732,  2389,  1005,\n",
       "        1707,  1416,  1700,  8500,  1012, 10110,   421,  4507,  1631,\n",
       "        7518,   377,  1004,  1799,  9012,  2007,  2598,  1548,  1241])"
      ]
     },
     "execution_count": 20,
     "metadata": {},
     "output_type": "execute_result"
    }
   ],
   "source": [
    "data['power'].unique()"
   ]
  },
  {
   "cell_type": "markdown",
   "metadata": {},
   "source": [
    "Заменим нулевые значения на медианное значение конкретной модели и удалим записи с мощностью выше 1000 л.с."
   ]
  },
  {
   "cell_type": "code",
   "execution_count": 21,
   "metadata": {},
   "outputs": [],
   "source": [
    "data = data.loc[((data['power'] >= 50) & (data['power' ] <= 500) & (data['power'] != 0))]"
   ]
  },
  {
   "cell_type": "markdown",
   "metadata": {},
   "source": [
    "Посмотрим на уникальные значения в столбце model (модель автомобиля)"
   ]
  },
  {
   "cell_type": "code",
   "execution_count": 22,
   "metadata": {},
   "outputs": [
    {
     "data": {
      "text/plain": [
       "array([nan, 'grand', 'golf', 'fabia', '3er', '2_reihe', 'c_max',\n",
       "       '3_reihe', 'passat', 'navara', 'polo', 'twingo', 'a_klasse',\n",
       "       'scirocco', '5er', 'arosa', 'other', 'civic', 'transporter',\n",
       "       'punto', 'e_klasse', 'clio', 'kadett', 'one', 'fortwo', '1er',\n",
       "       'b_klasse', 'a8', 'jetta', 'fiesta', 'c_klasse', 'micra', 'vito',\n",
       "       'sprinter', 'astra', '156', 'escort', 'forester', 'xc_reihe',\n",
       "       'scenic', 'ka', 'a1', 'focus', 'a4', 'tt', 'a6', 'jazz', 'omega',\n",
       "       'slk', '7er', 'combo', 'corsa', '80', '147', 'z_reihe', 'sorento',\n",
       "       'ibiza', 'mustang', 'eos', 'touran', 'getz', 'insignia', 'almera',\n",
       "       'megane', 'a3', 'r19', 'caddy', 'mondeo', 'cordoba', 'colt',\n",
       "       'impreza', 'vectra', 'lupo', 'berlingo', 'tiguan', '6_reihe', 'c4',\n",
       "       'panda', 'up', 'i_reihe', 'ceed', 'kangoo', '5_reihe', 'yeti',\n",
       "       'octavia', 'zafira', 'mii', 'rx_reihe', '6er', 'modus', 'fox',\n",
       "       'matiz', 'beetle', 'rio', 'touareg', 'logan', 'spider', 'cuore',\n",
       "       's_max', 'a2', 'galaxy', 'c3', 'viano', 's_klasse', '1_reihe',\n",
       "       'sharan', 'avensis', 'roomster', 'sl', 'santa', 'leon', 'cooper',\n",
       "       '4_reihe', 'a5', 'sportage', 'laguna', 'ptcruiser', 'clk',\n",
       "       'primera', 'espace', 'exeo', '159', 'transit', 'juke', 'x_reihe',\n",
       "       'v40', 'carisma', 'accord', 'corolla', 'lanos', 'phaeton', 'verso',\n",
       "       'swift', 'rav', 'qashqai', 'picanto', 'boxster', 'superb', 'stilo',\n",
       "       'alhambra', 'mx_reihe', 'roadster', 'ypsilon', 'galant', 'justy',\n",
       "       '90', 'sirion', 'signum', 'crossfire', 'agila', 'duster', 'v50',\n",
       "       'meriva', 'c_reihe', 'v_klasse', 'm_klasse', 'yaris', 'c5', 'aygo',\n",
       "       'seicento', 'cc', 'carnival', 'fusion', '911', 'bora', 'forfour',\n",
       "       'cl', 'tigra', '300c', '500', '100', 'cr_reihe', 'spark', 'kuga',\n",
       "       'x_type', 'ducato', 's_type', 'x_trail', 'toledo', 'altea',\n",
       "       'voyager', 'calibra', 'v70', 'bravo', 'tucson', 'c1', 'citigo',\n",
       "       'jimny', 'cayenne', 'wrangler', 'lybra', 'lancer', 'captiva',\n",
       "       'discovery', 'freelander', 'sandero', 'q7', 'note', 'antara',\n",
       "       '900', 'cherokee', 'clubman', 'defender', 'cx_reihe', 'legacy',\n",
       "       'pajero', 'auris', 'c2', 'niva', 's60', 'm_reihe', 'nubira',\n",
       "       'vivaro', 'g_klasse', 'lodgy', 'range_rover', '850', 'q3',\n",
       "       'serie_2', 'glk', 'charade', 'croma', 'outlander', 'kaefer',\n",
       "       'doblo', 'musa', '9000', 'kalos', 'v60', '200', '145', 'b_max',\n",
       "       'range_rover_sport', 'aveo', 'rangerover', 'q5', 'move',\n",
       "       'range_rover_evoque', 'materia', 'delta', 'terios', 'gl', 'kalina',\n",
       "       'elefantino', 'i3', 'samara', 'amarok', '601', 'kappa', 'serie_3'],\n",
       "      dtype=object)"
      ]
     },
     "execution_count": 22,
     "metadata": {},
     "output_type": "execute_result"
    }
   ],
   "source": [
    "data['model'].unique()"
   ]
  },
  {
   "cell_type": "markdown",
   "metadata": {},
   "source": [
    "Заполним пропуски значением 'unknown'"
   ]
  },
  {
   "cell_type": "code",
   "execution_count": 23,
   "metadata": {},
   "outputs": [],
   "source": [
    "data['model'].fillna('unknown', inplace = True)"
   ]
  },
  {
   "cell_type": "markdown",
   "metadata": {},
   "source": [
    "Посмотрим на уникальные значения в столбце kilometer (пробег, км)"
   ]
  },
  {
   "cell_type": "code",
   "execution_count": 24,
   "metadata": {},
   "outputs": [
    {
     "data": {
      "text/plain": [
       "array([125000, 150000,  90000,  30000,  70000, 100000,  60000,   5000,\n",
       "        20000,  80000,  50000,  40000,  10000])"
      ]
     },
     "execution_count": 24,
     "metadata": {},
     "output_type": "execute_result"
    }
   ],
   "source": [
    "data['kilometer'].unique()"
   ]
  },
  {
   "cell_type": "markdown",
   "metadata": {},
   "source": [
    "С данными в этом столбце все в порядке"
   ]
  },
  {
   "cell_type": "markdown",
   "metadata": {},
   "source": [
    "Посмотрим на уникальные значения в столбце fuel_type (тип топлива)"
   ]
  },
  {
   "cell_type": "code",
   "execution_count": 25,
   "metadata": {},
   "outputs": [
    {
     "data": {
      "text/plain": [
       "array(['gasoline', 'petrol', nan, 'lpg', 'other', 'hybrid', 'cng',\n",
       "       'electric'], dtype=object)"
      ]
     },
     "execution_count": 25,
     "metadata": {},
     "output_type": "execute_result"
    }
   ],
   "source": [
    "data['fuel_type'].unique()"
   ]
  },
  {
   "cell_type": "markdown",
   "metadata": {},
   "source": [
    "Заполним пропуски значением 'other'"
   ]
  },
  {
   "cell_type": "code",
   "execution_count": 26,
   "metadata": {},
   "outputs": [],
   "source": [
    "data['fuel_type'].fillna('other', inplace = True)"
   ]
  },
  {
   "cell_type": "markdown",
   "metadata": {},
   "source": [
    "Посмотрим на уникальные значения в столбце brand (марка автомобиля)"
   ]
  },
  {
   "cell_type": "code",
   "execution_count": 27,
   "metadata": {},
   "outputs": [
    {
     "data": {
      "text/plain": [
       "array(['audi', 'jeep', 'volkswagen', 'skoda', 'bmw', 'peugeot', 'ford',\n",
       "       'mazda', 'nissan', 'renault', 'mercedes_benz', 'seat', 'honda',\n",
       "       'fiat', 'opel', 'mini', 'smart', 'hyundai', 'sonstige_autos',\n",
       "       'alfa_romeo', 'subaru', 'volvo', 'mitsubishi', 'kia', 'lancia',\n",
       "       'citroen', 'toyota', 'chevrolet', 'dacia', 'suzuki', 'daihatsu',\n",
       "       'chrysler', 'jaguar', 'daewoo', 'rover', 'porsche', 'saab',\n",
       "       'land_rover', 'lada', 'trabant'], dtype=object)"
      ]
     },
     "execution_count": 27,
     "metadata": {},
     "output_type": "execute_result"
    }
   ],
   "source": [
    "data['brand'].unique()"
   ]
  },
  {
   "cell_type": "markdown",
   "metadata": {},
   "source": [
    "С данными в этом столбце все в порядке"
   ]
  },
  {
   "cell_type": "markdown",
   "metadata": {},
   "source": [
    "Посмотрим на уникальные значения в столбце repaired (была машина в ремонте или нет)"
   ]
  },
  {
   "cell_type": "code",
   "execution_count": 28,
   "metadata": {},
   "outputs": [
    {
     "data": {
      "text/plain": [
       "array(['yes', nan, 'no'], dtype=object)"
      ]
     },
     "execution_count": 28,
     "metadata": {},
     "output_type": "execute_result"
    }
   ],
   "source": [
    "data['repaired'].unique()"
   ]
  },
  {
   "cell_type": "markdown",
   "metadata": {},
   "source": [
    "Заполним пропуски значением 'unknown'"
   ]
  },
  {
   "cell_type": "code",
   "execution_count": 29,
   "metadata": {},
   "outputs": [],
   "source": [
    "data['repaired'].fillna('unknown', inplace = True)"
   ]
  },
  {
   "cell_type": "code",
   "execution_count": 30,
   "metadata": {},
   "outputs": [
    {
     "data": {
      "text/html": [
       "<div>\n",
       "<style scoped>\n",
       "    .dataframe tbody tr th:only-of-type {\n",
       "        vertical-align: middle;\n",
       "    }\n",
       "\n",
       "    .dataframe tbody tr th {\n",
       "        vertical-align: top;\n",
       "    }\n",
       "\n",
       "    .dataframe thead th {\n",
       "        text-align: right;\n",
       "    }\n",
       "</style>\n",
       "<table border=\"1\" class=\"dataframe\">\n",
       "  <thead>\n",
       "    <tr style=\"text-align: right;\">\n",
       "      <th>Признаки</th>\n",
       "      <th>Количество пропусков</th>\n",
       "      <th>Доля пропусков</th>\n",
       "    </tr>\n",
       "  </thead>\n",
       "  <tbody>\n",
       "    <tr>\n",
       "      <th>price</th>\n",
       "      <td>0</td>\n",
       "      <td>0.0</td>\n",
       "    </tr>\n",
       "    <tr>\n",
       "      <th>vehicle_type</th>\n",
       "      <td>0</td>\n",
       "      <td>0.0</td>\n",
       "    </tr>\n",
       "    <tr>\n",
       "      <th>registration_year</th>\n",
       "      <td>0</td>\n",
       "      <td>0.0</td>\n",
       "    </tr>\n",
       "    <tr>\n",
       "      <th>gearbox</th>\n",
       "      <td>0</td>\n",
       "      <td>0.0</td>\n",
       "    </tr>\n",
       "    <tr>\n",
       "      <th>power</th>\n",
       "      <td>0</td>\n",
       "      <td>0.0</td>\n",
       "    </tr>\n",
       "    <tr>\n",
       "      <th>model</th>\n",
       "      <td>0</td>\n",
       "      <td>0.0</td>\n",
       "    </tr>\n",
       "    <tr>\n",
       "      <th>kilometer</th>\n",
       "      <td>0</td>\n",
       "      <td>0.0</td>\n",
       "    </tr>\n",
       "    <tr>\n",
       "      <th>fuel_type</th>\n",
       "      <td>0</td>\n",
       "      <td>0.0</td>\n",
       "    </tr>\n",
       "    <tr>\n",
       "      <th>brand</th>\n",
       "      <td>0</td>\n",
       "      <td>0.0</td>\n",
       "    </tr>\n",
       "    <tr>\n",
       "      <th>repaired</th>\n",
       "      <td>0</td>\n",
       "      <td>0.0</td>\n",
       "    </tr>\n",
       "  </tbody>\n",
       "</table>\n",
       "</div>"
      ],
      "text/plain": [
       "Признаки           Количество пропусков  Доля пропусков\n",
       "price                                 0             0.0\n",
       "vehicle_type                          0             0.0\n",
       "registration_year                     0             0.0\n",
       "gearbox                               0             0.0\n",
       "power                                 0             0.0\n",
       "model                                 0             0.0\n",
       "kilometer                             0             0.0\n",
       "fuel_type                             0             0.0\n",
       "brand                                 0             0.0\n",
       "repaired                              0             0.0"
      ]
     },
     "execution_count": 30,
     "metadata": {},
     "output_type": "execute_result"
    }
   ],
   "source": [
    "pd.DataFrame({'Количество пропусков': data.isna().sum(), 'Доля пропусков': data.isna().mean()*100}).rename_axis('Признаки', axis = 1)"
   ]
  },
  {
   "cell_type": "code",
   "execution_count": 31,
   "metadata": {},
   "outputs": [
    {
     "name": "stdout",
     "output_type": "stream",
     "text": [
      "<class 'pandas.core.frame.DataFrame'>\n",
      "Index: 252490 entries, 1 to 309328\n",
      "Data columns (total 10 columns):\n",
      " #   Column             Non-Null Count   Dtype \n",
      "---  ------             --------------   ----- \n",
      " 0   price              252490 non-null  int64 \n",
      " 1   vehicle_type       252490 non-null  object\n",
      " 2   registration_year  252490 non-null  int64 \n",
      " 3   gearbox            252490 non-null  object\n",
      " 4   power              252490 non-null  int64 \n",
      " 5   model              252490 non-null  object\n",
      " 6   kilometer          252490 non-null  int64 \n",
      " 7   fuel_type          252490 non-null  object\n",
      " 8   brand              252490 non-null  object\n",
      " 9   repaired           252490 non-null  object\n",
      "dtypes: int64(4), object(6)\n",
      "memory usage: 21.2+ MB\n"
     ]
    }
   ],
   "source": [
    "data.info()"
   ]
  },
  {
   "cell_type": "markdown",
   "metadata": {},
   "source": [
    "<b> Промежуточный вывод: </b>\n",
    "1. Данные загружены и изучены. Входные данные имели 354 369 строк и 16 столбцов.\n",
    "2. Удалены следующие неинформативные признаки:\n",
    "    * date_crawled — дата скачивания анкеты из базы;\n",
    "    * registration_month — месяц регистрации автомобиля;\n",
    "    * date_created — дата создания анкеты;\n",
    "    * number_of_pictures — количество фотографий автомобиля;\n",
    "    * postal_code — почтовый индекс владельца анкеты (пользователя);\n",
    "    * last_seen — дата последней активности пользователя.\n",
    "3. Удалены явные дубликаты.\n",
    "4. Заполнены пропущенные значения в следующих стобцах:\n",
    "    * vehicle_type;\n",
    "    * gearbox;\n",
    "    * model;\n",
    "    * fuel_type;\n",
    "    * repaired.\n",
    "5. Обработаны аномалии в следующих столбцах:\n",
    "    * price;\n",
    "    * registration_year;\n",
    "    * power.\n",
    "   \n",
    "После обработки данных получился датасет на 312 089 строк и 11 столбцов."
   ]
  },
  {
   "cell_type": "markdown",
   "metadata": {},
   "source": [
    "## Обучение моделей"
   ]
  },
  {
   "cell_type": "markdown",
   "metadata": {},
   "source": [
    "### Подготовка выборок для обучения моделей"
   ]
  },
  {
   "cell_type": "markdown",
   "metadata": {},
   "source": [
    "Разделим выборки на обучающую и тестовую (80/20)"
   ]
  },
  {
   "cell_type": "code",
   "execution_count": 32,
   "metadata": {},
   "outputs": [
    {
     "data": {
      "text/plain": [
       "((201992, 9), (201992,), (50498, 9), (50498,))"
      ]
     },
     "execution_count": 32,
     "metadata": {},
     "output_type": "execute_result"
    }
   ],
   "source": [
    "features = data.drop('price', axis=1)\n",
    "target = data['price']\n",
    "\n",
    "features_train, features_test, target_train, target_test = train_test_split(features,\n",
    "                                                                            target,\n",
    "                                                                            test_size=0.2,\n",
    "                                                                            random_state=STATE)\n",
    "features_train.shape, target_train.shape,  features_test.shape, target_test.shape"
   ]
  },
  {
   "cell_type": "markdown",
   "metadata": {},
   "source": [
    "Выберем категориальные признаки"
   ]
  },
  {
   "cell_type": "code",
   "execution_count": 33,
   "metadata": {},
   "outputs": [],
   "source": [
    "categorical_features = features_train.select_dtypes(include = 'object').columns.to_list()"
   ]
  },
  {
   "cell_type": "code",
   "execution_count": 34,
   "metadata": {},
   "outputs": [
    {
     "data": {
      "text/plain": [
       "['vehicle_type', 'gearbox', 'model', 'fuel_type', 'brand', 'repaired']"
      ]
     },
     "execution_count": 34,
     "metadata": {},
     "output_type": "execute_result"
    }
   ],
   "source": [
    "categorical_features"
   ]
  },
  {
   "cell_type": "markdown",
   "metadata": {},
   "source": [
    "Выберем численные признаки"
   ]
  },
  {
   "cell_type": "code",
   "execution_count": 35,
   "metadata": {},
   "outputs": [],
   "source": [
    "numeric_features = features_train.select_dtypes(include = 'number').columns.to_list()"
   ]
  },
  {
   "cell_type": "code",
   "execution_count": 36,
   "metadata": {},
   "outputs": [
    {
     "data": {
      "text/plain": [
       "['registration_year', 'power', 'kilometer']"
      ]
     },
     "execution_count": 36,
     "metadata": {},
     "output_type": "execute_result"
    }
   ],
   "source": [
    "numeric_features"
   ]
  },
  {
   "cell_type": "markdown",
   "metadata": {},
   "source": [
    "<b> OneHotEncoder </b>"
   ]
  },
  {
   "cell_type": "markdown",
   "metadata": {},
   "source": [
    "Кодируем и масштабируем признаки features_train"
   ]
  },
  {
   "cell_type": "code",
   "execution_count": 37,
   "metadata": {},
   "outputs": [],
   "source": [
    "ohe_features_train = features_train.copy()\n",
    "ohe_features_test = features_test.copy()"
   ]
  },
  {
   "cell_type": "code",
   "execution_count": 38,
   "metadata": {
    "scrolled": true
   },
   "outputs": [
    {
     "data": {
      "text/html": [
       "<div>\n",
       "<style scoped>\n",
       "    .dataframe tbody tr th:only-of-type {\n",
       "        vertical-align: middle;\n",
       "    }\n",
       "\n",
       "    .dataframe tbody tr th {\n",
       "        vertical-align: top;\n",
       "    }\n",
       "\n",
       "    .dataframe thead th {\n",
       "        text-align: right;\n",
       "    }\n",
       "</style>\n",
       "<table border=\"1\" class=\"dataframe\">\n",
       "  <thead>\n",
       "    <tr style=\"text-align: right;\">\n",
       "      <th></th>\n",
       "      <th>registration_year</th>\n",
       "      <th>power</th>\n",
       "      <th>kilometer</th>\n",
       "      <th>vehicle_type_convertible</th>\n",
       "      <th>vehicle_type_coupe</th>\n",
       "      <th>vehicle_type_other</th>\n",
       "      <th>vehicle_type_sedan</th>\n",
       "      <th>vehicle_type_small</th>\n",
       "      <th>vehicle_type_suv</th>\n",
       "      <th>vehicle_type_wagon</th>\n",
       "      <th>...</th>\n",
       "      <th>brand_smart</th>\n",
       "      <th>brand_sonstige_autos</th>\n",
       "      <th>brand_subaru</th>\n",
       "      <th>brand_suzuki</th>\n",
       "      <th>brand_toyota</th>\n",
       "      <th>brand_trabant</th>\n",
       "      <th>brand_volkswagen</th>\n",
       "      <th>brand_volvo</th>\n",
       "      <th>repaired_unknown</th>\n",
       "      <th>repaired_yes</th>\n",
       "    </tr>\n",
       "  </thead>\n",
       "  <tbody>\n",
       "    <tr>\n",
       "      <th>120988</th>\n",
       "      <td>0.463138</td>\n",
       "      <td>-0.413703</td>\n",
       "      <td>0.605057</td>\n",
       "      <td>0.0</td>\n",
       "      <td>0.0</td>\n",
       "      <td>0.0</td>\n",
       "      <td>0.0</td>\n",
       "      <td>1.0</td>\n",
       "      <td>0.0</td>\n",
       "      <td>0.0</td>\n",
       "      <td>...</td>\n",
       "      <td>0.0</td>\n",
       "      <td>0.0</td>\n",
       "      <td>0.0</td>\n",
       "      <td>0.0</td>\n",
       "      <td>0.0</td>\n",
       "      <td>0.0</td>\n",
       "      <td>0.0</td>\n",
       "      <td>0.0</td>\n",
       "      <td>0.0</td>\n",
       "      <td>0.0</td>\n",
       "    </tr>\n",
       "    <tr>\n",
       "      <th>232390</th>\n",
       "      <td>-0.162076</td>\n",
       "      <td>0.152078</td>\n",
       "      <td>0.605057</td>\n",
       "      <td>0.0</td>\n",
       "      <td>0.0</td>\n",
       "      <td>0.0</td>\n",
       "      <td>0.0</td>\n",
       "      <td>0.0</td>\n",
       "      <td>0.0</td>\n",
       "      <td>1.0</td>\n",
       "      <td>...</td>\n",
       "      <td>0.0</td>\n",
       "      <td>0.0</td>\n",
       "      <td>0.0</td>\n",
       "      <td>0.0</td>\n",
       "      <td>0.0</td>\n",
       "      <td>0.0</td>\n",
       "      <td>0.0</td>\n",
       "      <td>0.0</td>\n",
       "      <td>0.0</td>\n",
       "      <td>0.0</td>\n",
       "    </tr>\n",
       "    <tr>\n",
       "      <th>303437</th>\n",
       "      <td>-2.350324</td>\n",
       "      <td>-0.960626</td>\n",
       "      <td>-1.007344</td>\n",
       "      <td>0.0</td>\n",
       "      <td>1.0</td>\n",
       "      <td>0.0</td>\n",
       "      <td>0.0</td>\n",
       "      <td>0.0</td>\n",
       "      <td>0.0</td>\n",
       "      <td>0.0</td>\n",
       "      <td>...</td>\n",
       "      <td>0.0</td>\n",
       "      <td>0.0</td>\n",
       "      <td>0.0</td>\n",
       "      <td>0.0</td>\n",
       "      <td>0.0</td>\n",
       "      <td>0.0</td>\n",
       "      <td>1.0</td>\n",
       "      <td>0.0</td>\n",
       "      <td>0.0</td>\n",
       "      <td>0.0</td>\n",
       "    </tr>\n",
       "    <tr>\n",
       "      <th>283989</th>\n",
       "      <td>0.619441</td>\n",
       "      <td>0.152078</td>\n",
       "      <td>0.605057</td>\n",
       "      <td>0.0</td>\n",
       "      <td>0.0</td>\n",
       "      <td>0.0</td>\n",
       "      <td>0.0</td>\n",
       "      <td>0.0</td>\n",
       "      <td>0.0</td>\n",
       "      <td>0.0</td>\n",
       "      <td>...</td>\n",
       "      <td>0.0</td>\n",
       "      <td>0.0</td>\n",
       "      <td>0.0</td>\n",
       "      <td>0.0</td>\n",
       "      <td>0.0</td>\n",
       "      <td>0.0</td>\n",
       "      <td>0.0</td>\n",
       "      <td>0.0</td>\n",
       "      <td>0.0</td>\n",
       "      <td>0.0</td>\n",
       "    </tr>\n",
       "    <tr>\n",
       "      <th>93491</th>\n",
       "      <td>0.306834</td>\n",
       "      <td>-0.809751</td>\n",
       "      <td>0.605057</td>\n",
       "      <td>0.0</td>\n",
       "      <td>0.0</td>\n",
       "      <td>0.0</td>\n",
       "      <td>0.0</td>\n",
       "      <td>1.0</td>\n",
       "      <td>0.0</td>\n",
       "      <td>0.0</td>\n",
       "      <td>...</td>\n",
       "      <td>0.0</td>\n",
       "      <td>0.0</td>\n",
       "      <td>0.0</td>\n",
       "      <td>0.0</td>\n",
       "      <td>0.0</td>\n",
       "      <td>0.0</td>\n",
       "      <td>0.0</td>\n",
       "      <td>0.0</td>\n",
       "      <td>0.0</td>\n",
       "      <td>1.0</td>\n",
       "    </tr>\n",
       "  </tbody>\n",
       "</table>\n",
       "<p>5 rows × 308 columns</p>\n",
       "</div>"
      ],
      "text/plain": [
       "        registration_year     power  kilometer  vehicle_type_convertible  \\\n",
       "120988           0.463138 -0.413703   0.605057                       0.0   \n",
       "232390          -0.162076  0.152078   0.605057                       0.0   \n",
       "303437          -2.350324 -0.960626  -1.007344                       0.0   \n",
       "283989           0.619441  0.152078   0.605057                       0.0   \n",
       "93491            0.306834 -0.809751   0.605057                       0.0   \n",
       "\n",
       "        vehicle_type_coupe  vehicle_type_other  vehicle_type_sedan  \\\n",
       "120988                 0.0                 0.0                 0.0   \n",
       "232390                 0.0                 0.0                 0.0   \n",
       "303437                 1.0                 0.0                 0.0   \n",
       "283989                 0.0                 0.0                 0.0   \n",
       "93491                  0.0                 0.0                 0.0   \n",
       "\n",
       "        vehicle_type_small  vehicle_type_suv  vehicle_type_wagon  ...  \\\n",
       "120988                 1.0               0.0                 0.0  ...   \n",
       "232390                 0.0               0.0                 1.0  ...   \n",
       "303437                 0.0               0.0                 0.0  ...   \n",
       "283989                 0.0               0.0                 0.0  ...   \n",
       "93491                  1.0               0.0                 0.0  ...   \n",
       "\n",
       "        brand_smart  brand_sonstige_autos  brand_subaru  brand_suzuki  \\\n",
       "120988          0.0                   0.0           0.0           0.0   \n",
       "232390          0.0                   0.0           0.0           0.0   \n",
       "303437          0.0                   0.0           0.0           0.0   \n",
       "283989          0.0                   0.0           0.0           0.0   \n",
       "93491           0.0                   0.0           0.0           0.0   \n",
       "\n",
       "        brand_toyota  brand_trabant  brand_volkswagen  brand_volvo  \\\n",
       "120988           0.0            0.0               0.0          0.0   \n",
       "232390           0.0            0.0               0.0          0.0   \n",
       "303437           0.0            0.0               1.0          0.0   \n",
       "283989           0.0            0.0               0.0          0.0   \n",
       "93491            0.0            0.0               0.0          0.0   \n",
       "\n",
       "        repaired_unknown  repaired_yes  \n",
       "120988               0.0           0.0  \n",
       "232390               0.0           0.0  \n",
       "303437               0.0           0.0  \n",
       "283989               0.0           0.0  \n",
       "93491                0.0           1.0  \n",
       "\n",
       "[5 rows x 308 columns]"
      ]
     },
     "execution_count": 38,
     "metadata": {},
     "output_type": "execute_result"
    }
   ],
   "source": [
    "encoder_ohe = OneHotEncoder(drop = 'first', handle_unknown = 'ignore', sparse = False)\n",
    "encoder_ohe.fit(ohe_features_train[categorical_features])\n",
    "ohe_features_train[\n",
    "    encoder_ohe.get_feature_names_out()\n",
    "] = encoder_ohe.transform(ohe_features_train[categorical_features])\n",
    "ohe_features_train = ohe_features_train.drop(categorical_features, axis=1)\n",
    "\n",
    "scaler = StandardScaler()\n",
    "ohe_features_train[numeric_features] = scaler.fit_transform(ohe_features_train[numeric_features])\n",
    "ohe_features_train.head()"
   ]
  },
  {
   "cell_type": "markdown",
   "metadata": {},
   "source": [
    "Кодируем и масштабируем признаки features_test"
   ]
  },
  {
   "cell_type": "code",
   "execution_count": 39,
   "metadata": {
    "scrolled": true
   },
   "outputs": [
    {
     "data": {
      "text/html": [
       "<div>\n",
       "<style scoped>\n",
       "    .dataframe tbody tr th:only-of-type {\n",
       "        vertical-align: middle;\n",
       "    }\n",
       "\n",
       "    .dataframe tbody tr th {\n",
       "        vertical-align: top;\n",
       "    }\n",
       "\n",
       "    .dataframe thead th {\n",
       "        text-align: right;\n",
       "    }\n",
       "</style>\n",
       "<table border=\"1\" class=\"dataframe\">\n",
       "  <thead>\n",
       "    <tr style=\"text-align: right;\">\n",
       "      <th></th>\n",
       "      <th>registration_year</th>\n",
       "      <th>power</th>\n",
       "      <th>kilometer</th>\n",
       "      <th>vehicle_type_convertible</th>\n",
       "      <th>vehicle_type_coupe</th>\n",
       "      <th>vehicle_type_other</th>\n",
       "      <th>vehicle_type_sedan</th>\n",
       "      <th>vehicle_type_small</th>\n",
       "      <th>vehicle_type_suv</th>\n",
       "      <th>vehicle_type_wagon</th>\n",
       "      <th>...</th>\n",
       "      <th>brand_smart</th>\n",
       "      <th>brand_sonstige_autos</th>\n",
       "      <th>brand_subaru</th>\n",
       "      <th>brand_suzuki</th>\n",
       "      <th>brand_toyota</th>\n",
       "      <th>brand_trabant</th>\n",
       "      <th>brand_volkswagen</th>\n",
       "      <th>brand_volvo</th>\n",
       "      <th>repaired_unknown</th>\n",
       "      <th>repaired_yes</th>\n",
       "    </tr>\n",
       "  </thead>\n",
       "  <tbody>\n",
       "    <tr>\n",
       "      <th>212963</th>\n",
       "      <td>0.463138</td>\n",
       "      <td>4.263425</td>\n",
       "      <td>0.605057</td>\n",
       "      <td>0.0</td>\n",
       "      <td>0.0</td>\n",
       "      <td>0.0</td>\n",
       "      <td>1.0</td>\n",
       "      <td>0.0</td>\n",
       "      <td>0.0</td>\n",
       "      <td>0.0</td>\n",
       "      <td>...</td>\n",
       "      <td>0.0</td>\n",
       "      <td>0.0</td>\n",
       "      <td>0.0</td>\n",
       "      <td>0.0</td>\n",
       "      <td>0.0</td>\n",
       "      <td>0.0</td>\n",
       "      <td>0.0</td>\n",
       "      <td>0.0</td>\n",
       "      <td>0.0</td>\n",
       "      <td>0.0</td>\n",
       "    </tr>\n",
       "    <tr>\n",
       "      <th>194021</th>\n",
       "      <td>-0.005773</td>\n",
       "      <td>1.151626</td>\n",
       "      <td>0.605057</td>\n",
       "      <td>0.0</td>\n",
       "      <td>0.0</td>\n",
       "      <td>0.0</td>\n",
       "      <td>1.0</td>\n",
       "      <td>0.0</td>\n",
       "      <td>0.0</td>\n",
       "      <td>0.0</td>\n",
       "      <td>...</td>\n",
       "      <td>0.0</td>\n",
       "      <td>0.0</td>\n",
       "      <td>0.0</td>\n",
       "      <td>0.0</td>\n",
       "      <td>0.0</td>\n",
       "      <td>0.0</td>\n",
       "      <td>0.0</td>\n",
       "      <td>0.0</td>\n",
       "      <td>0.0</td>\n",
       "      <td>0.0</td>\n",
       "    </tr>\n",
       "    <tr>\n",
       "      <th>234617</th>\n",
       "      <td>0.775744</td>\n",
       "      <td>-0.262828</td>\n",
       "      <td>0.605057</td>\n",
       "      <td>0.0</td>\n",
       "      <td>0.0</td>\n",
       "      <td>0.0</td>\n",
       "      <td>0.0</td>\n",
       "      <td>0.0</td>\n",
       "      <td>0.0</td>\n",
       "      <td>1.0</td>\n",
       "      <td>...</td>\n",
       "      <td>0.0</td>\n",
       "      <td>0.0</td>\n",
       "      <td>0.0</td>\n",
       "      <td>0.0</td>\n",
       "      <td>0.0</td>\n",
       "      <td>0.0</td>\n",
       "      <td>0.0</td>\n",
       "      <td>0.0</td>\n",
       "      <td>0.0</td>\n",
       "      <td>0.0</td>\n",
       "    </tr>\n",
       "    <tr>\n",
       "      <th>250706</th>\n",
       "      <td>1.400958</td>\n",
       "      <td>-0.432563</td>\n",
       "      <td>-0.066777</td>\n",
       "      <td>0.0</td>\n",
       "      <td>0.0</td>\n",
       "      <td>0.0</td>\n",
       "      <td>0.0</td>\n",
       "      <td>0.0</td>\n",
       "      <td>0.0</td>\n",
       "      <td>1.0</td>\n",
       "      <td>...</td>\n",
       "      <td>0.0</td>\n",
       "      <td>0.0</td>\n",
       "      <td>0.0</td>\n",
       "      <td>0.0</td>\n",
       "      <td>0.0</td>\n",
       "      <td>0.0</td>\n",
       "      <td>0.0</td>\n",
       "      <td>0.0</td>\n",
       "      <td>0.0</td>\n",
       "      <td>0.0</td>\n",
       "    </tr>\n",
       "    <tr>\n",
       "      <th>258081</th>\n",
       "      <td>-0.318379</td>\n",
       "      <td>-0.621157</td>\n",
       "      <td>0.605057</td>\n",
       "      <td>0.0</td>\n",
       "      <td>0.0</td>\n",
       "      <td>0.0</td>\n",
       "      <td>0.0</td>\n",
       "      <td>0.0</td>\n",
       "      <td>0.0</td>\n",
       "      <td>1.0</td>\n",
       "      <td>...</td>\n",
       "      <td>0.0</td>\n",
       "      <td>0.0</td>\n",
       "      <td>0.0</td>\n",
       "      <td>0.0</td>\n",
       "      <td>0.0</td>\n",
       "      <td>0.0</td>\n",
       "      <td>0.0</td>\n",
       "      <td>0.0</td>\n",
       "      <td>0.0</td>\n",
       "      <td>0.0</td>\n",
       "    </tr>\n",
       "  </tbody>\n",
       "</table>\n",
       "<p>5 rows × 308 columns</p>\n",
       "</div>"
      ],
      "text/plain": [
       "        registration_year     power  kilometer  vehicle_type_convertible  \\\n",
       "212963           0.463138  4.263425   0.605057                       0.0   \n",
       "194021          -0.005773  1.151626   0.605057                       0.0   \n",
       "234617           0.775744 -0.262828   0.605057                       0.0   \n",
       "250706           1.400958 -0.432563  -0.066777                       0.0   \n",
       "258081          -0.318379 -0.621157   0.605057                       0.0   \n",
       "\n",
       "        vehicle_type_coupe  vehicle_type_other  vehicle_type_sedan  \\\n",
       "212963                 0.0                 0.0                 1.0   \n",
       "194021                 0.0                 0.0                 1.0   \n",
       "234617                 0.0                 0.0                 0.0   \n",
       "250706                 0.0                 0.0                 0.0   \n",
       "258081                 0.0                 0.0                 0.0   \n",
       "\n",
       "        vehicle_type_small  vehicle_type_suv  vehicle_type_wagon  ...  \\\n",
       "212963                 0.0               0.0                 0.0  ...   \n",
       "194021                 0.0               0.0                 0.0  ...   \n",
       "234617                 0.0               0.0                 1.0  ...   \n",
       "250706                 0.0               0.0                 1.0  ...   \n",
       "258081                 0.0               0.0                 1.0  ...   \n",
       "\n",
       "        brand_smart  brand_sonstige_autos  brand_subaru  brand_suzuki  \\\n",
       "212963          0.0                   0.0           0.0           0.0   \n",
       "194021          0.0                   0.0           0.0           0.0   \n",
       "234617          0.0                   0.0           0.0           0.0   \n",
       "250706          0.0                   0.0           0.0           0.0   \n",
       "258081          0.0                   0.0           0.0           0.0   \n",
       "\n",
       "        brand_toyota  brand_trabant  brand_volkswagen  brand_volvo  \\\n",
       "212963           0.0            0.0               0.0          0.0   \n",
       "194021           0.0            0.0               0.0          0.0   \n",
       "234617           0.0            0.0               0.0          0.0   \n",
       "250706           0.0            0.0               0.0          0.0   \n",
       "258081           0.0            0.0               0.0          0.0   \n",
       "\n",
       "        repaired_unknown  repaired_yes  \n",
       "212963               0.0           0.0  \n",
       "194021               0.0           0.0  \n",
       "234617               0.0           0.0  \n",
       "250706               0.0           0.0  \n",
       "258081               0.0           0.0  \n",
       "\n",
       "[5 rows x 308 columns]"
      ]
     },
     "execution_count": 39,
     "metadata": {},
     "output_type": "execute_result"
    }
   ],
   "source": [
    "ohe_features_test[\n",
    "    encoder_ohe.get_feature_names_out()\n",
    "] = encoder_ohe.transform(ohe_features_test[categorical_features])\n",
    "ohe_features_test = ohe_features_test.drop(categorical_features, axis=1)\n",
    "ohe_features_test[numeric_features] = scaler.transform(ohe_features_test[numeric_features])\n",
    "ohe_features_test.head()"
   ]
  },
  {
   "cell_type": "markdown",
   "metadata": {},
   "source": [
    "<b> OrdinalEncoder </b>"
   ]
  },
  {
   "cell_type": "code",
   "execution_count": 40,
   "metadata": {},
   "outputs": [],
   "source": [
    "oe_features_train = features_train.copy()\n",
    "oe_features_test = features_test.copy()"
   ]
  },
  {
   "cell_type": "markdown",
   "metadata": {},
   "source": [
    "Кодируем и масштабируем признаки oe_features_train"
   ]
  },
  {
   "cell_type": "code",
   "execution_count": 41,
   "metadata": {},
   "outputs": [
    {
     "data": {
      "text/html": [
       "<div>\n",
       "<style scoped>\n",
       "    .dataframe tbody tr th:only-of-type {\n",
       "        vertical-align: middle;\n",
       "    }\n",
       "\n",
       "    .dataframe tbody tr th {\n",
       "        vertical-align: top;\n",
       "    }\n",
       "\n",
       "    .dataframe thead th {\n",
       "        text-align: right;\n",
       "    }\n",
       "</style>\n",
       "<table border=\"1\" class=\"dataframe\">\n",
       "  <thead>\n",
       "    <tr style=\"text-align: right;\">\n",
       "      <th></th>\n",
       "      <th>vehicle_type</th>\n",
       "      <th>registration_year</th>\n",
       "      <th>gearbox</th>\n",
       "      <th>power</th>\n",
       "      <th>model</th>\n",
       "      <th>kilometer</th>\n",
       "      <th>fuel_type</th>\n",
       "      <th>brand</th>\n",
       "      <th>repaired</th>\n",
       "    </tr>\n",
       "  </thead>\n",
       "  <tbody>\n",
       "    <tr>\n",
       "      <th>120988</th>\n",
       "      <td>5.0</td>\n",
       "      <td>0.463138</td>\n",
       "      <td>1.0</td>\n",
       "      <td>-0.413703</td>\n",
       "      <td>79.0</td>\n",
       "      <td>0.605057</td>\n",
       "      <td>2.0</td>\n",
       "      <td>24.0</td>\n",
       "      <td>0.0</td>\n",
       "    </tr>\n",
       "    <tr>\n",
       "      <th>232390</th>\n",
       "      <td>7.0</td>\n",
       "      <td>-0.162076</td>\n",
       "      <td>1.0</td>\n",
       "      <td>0.152078</td>\n",
       "      <td>29.0</td>\n",
       "      <td>0.605057</td>\n",
       "      <td>2.0</td>\n",
       "      <td>1.0</td>\n",
       "      <td>0.0</td>\n",
       "    </tr>\n",
       "    <tr>\n",
       "      <th>303437</th>\n",
       "      <td>2.0</td>\n",
       "      <td>-2.350324</td>\n",
       "      <td>1.0</td>\n",
       "      <td>-0.960626</td>\n",
       "      <td>227.0</td>\n",
       "      <td>-1.007344</td>\n",
       "      <td>6.0</td>\n",
       "      <td>38.0</td>\n",
       "      <td>0.0</td>\n",
       "    </tr>\n",
       "    <tr>\n",
       "      <th>283989</th>\n",
       "      <td>0.0</td>\n",
       "      <td>0.619441</td>\n",
       "      <td>1.0</td>\n",
       "      <td>0.152078</td>\n",
       "      <td>222.0</td>\n",
       "      <td>0.605057</td>\n",
       "      <td>2.0</td>\n",
       "      <td>10.0</td>\n",
       "      <td>0.0</td>\n",
       "    </tr>\n",
       "    <tr>\n",
       "      <th>93491</th>\n",
       "      <td>5.0</td>\n",
       "      <td>0.306834</td>\n",
       "      <td>0.0</td>\n",
       "      <td>-0.809751</td>\n",
       "      <td>102.0</td>\n",
       "      <td>0.605057</td>\n",
       "      <td>6.0</td>\n",
       "      <td>10.0</td>\n",
       "      <td>2.0</td>\n",
       "    </tr>\n",
       "  </tbody>\n",
       "</table>\n",
       "</div>"
      ],
      "text/plain": [
       "        vehicle_type  registration_year  gearbox     power  model  kilometer  \\\n",
       "120988           5.0           0.463138      1.0 -0.413703   79.0   0.605057   \n",
       "232390           7.0          -0.162076      1.0  0.152078   29.0   0.605057   \n",
       "303437           2.0          -2.350324      1.0 -0.960626  227.0  -1.007344   \n",
       "283989           0.0           0.619441      1.0  0.152078  222.0   0.605057   \n",
       "93491            5.0           0.306834      0.0 -0.809751  102.0   0.605057   \n",
       "\n",
       "        fuel_type  brand  repaired  \n",
       "120988        2.0   24.0       0.0  \n",
       "232390        2.0    1.0       0.0  \n",
       "303437        6.0   38.0       0.0  \n",
       "283989        2.0   10.0       0.0  \n",
       "93491         6.0   10.0       2.0  "
      ]
     },
     "execution_count": 41,
     "metadata": {},
     "output_type": "execute_result"
    }
   ],
   "source": [
    "encoder_oe = OrdinalEncoder(handle_unknown='use_encoded_value', unknown_value=-1)\n",
    "\n",
    "encoder_oe.fit(oe_features_train[categorical_features])\n",
    "oe_features_train[\n",
    "    encoder_oe.get_feature_names_out()\n",
    "] = encoder_oe.transform(oe_features_train[categorical_features])\n",
    "\n",
    "scaler = StandardScaler()\n",
    "oe_features_train[numeric_features] = scaler.fit_transform(oe_features_train[numeric_features])\n",
    "\n",
    "oe_features_train.head()"
   ]
  },
  {
   "cell_type": "markdown",
   "metadata": {},
   "source": [
    "Кодируем и масштабируем признаки oe_features_test"
   ]
  },
  {
   "cell_type": "code",
   "execution_count": 42,
   "metadata": {},
   "outputs": [
    {
     "data": {
      "text/html": [
       "<div>\n",
       "<style scoped>\n",
       "    .dataframe tbody tr th:only-of-type {\n",
       "        vertical-align: middle;\n",
       "    }\n",
       "\n",
       "    .dataframe tbody tr th {\n",
       "        vertical-align: top;\n",
       "    }\n",
       "\n",
       "    .dataframe thead th {\n",
       "        text-align: right;\n",
       "    }\n",
       "</style>\n",
       "<table border=\"1\" class=\"dataframe\">\n",
       "  <thead>\n",
       "    <tr style=\"text-align: right;\">\n",
       "      <th></th>\n",
       "      <th>vehicle_type</th>\n",
       "      <th>registration_year</th>\n",
       "      <th>gearbox</th>\n",
       "      <th>power</th>\n",
       "      <th>model</th>\n",
       "      <th>kilometer</th>\n",
       "      <th>fuel_type</th>\n",
       "      <th>brand</th>\n",
       "      <th>repaired</th>\n",
       "    </tr>\n",
       "  </thead>\n",
       "  <tbody>\n",
       "    <tr>\n",
       "      <th>212963</th>\n",
       "      <td>4.0</td>\n",
       "      <td>0.463138</td>\n",
       "      <td>0.0</td>\n",
       "      <td>4.263425</td>\n",
       "      <td>179.0</td>\n",
       "      <td>0.605057</td>\n",
       "      <td>6.0</td>\n",
       "      <td>1.0</td>\n",
       "      <td>0.0</td>\n",
       "    </tr>\n",
       "    <tr>\n",
       "      <th>194021</th>\n",
       "      <td>4.0</td>\n",
       "      <td>-0.005773</td>\n",
       "      <td>0.0</td>\n",
       "      <td>1.151626</td>\n",
       "      <td>241.0</td>\n",
       "      <td>0.605057</td>\n",
       "      <td>2.0</td>\n",
       "      <td>2.0</td>\n",
       "      <td>0.0</td>\n",
       "    </tr>\n",
       "    <tr>\n",
       "      <th>234617</th>\n",
       "      <td>7.0</td>\n",
       "      <td>0.775744</td>\n",
       "      <td>1.0</td>\n",
       "      <td>-0.262828</td>\n",
       "      <td>10.0</td>\n",
       "      <td>0.605057</td>\n",
       "      <td>2.0</td>\n",
       "      <td>25.0</td>\n",
       "      <td>0.0</td>\n",
       "    </tr>\n",
       "    <tr>\n",
       "      <th>250706</th>\n",
       "      <td>7.0</td>\n",
       "      <td>1.400958</td>\n",
       "      <td>1.0</td>\n",
       "      <td>-0.432563</td>\n",
       "      <td>222.0</td>\n",
       "      <td>-0.066777</td>\n",
       "      <td>2.0</td>\n",
       "      <td>10.0</td>\n",
       "      <td>0.0</td>\n",
       "    </tr>\n",
       "    <tr>\n",
       "      <th>258081</th>\n",
       "      <td>7.0</td>\n",
       "      <td>-0.318379</td>\n",
       "      <td>1.0</td>\n",
       "      <td>-0.621157</td>\n",
       "      <td>10.0</td>\n",
       "      <td>0.605057</td>\n",
       "      <td>2.0</td>\n",
       "      <td>25.0</td>\n",
       "      <td>0.0</td>\n",
       "    </tr>\n",
       "  </tbody>\n",
       "</table>\n",
       "</div>"
      ],
      "text/plain": [
       "        vehicle_type  registration_year  gearbox     power  model  kilometer  \\\n",
       "212963           4.0           0.463138      0.0  4.263425  179.0   0.605057   \n",
       "194021           4.0          -0.005773      0.0  1.151626  241.0   0.605057   \n",
       "234617           7.0           0.775744      1.0 -0.262828   10.0   0.605057   \n",
       "250706           7.0           1.400958      1.0 -0.432563  222.0  -0.066777   \n",
       "258081           7.0          -0.318379      1.0 -0.621157   10.0   0.605057   \n",
       "\n",
       "        fuel_type  brand  repaired  \n",
       "212963        6.0    1.0       0.0  \n",
       "194021        2.0    2.0       0.0  \n",
       "234617        2.0   25.0       0.0  \n",
       "250706        2.0   10.0       0.0  \n",
       "258081        2.0   25.0       0.0  "
      ]
     },
     "execution_count": 42,
     "metadata": {},
     "output_type": "execute_result"
    }
   ],
   "source": [
    "oe_features_test[\n",
    "    encoder_oe.get_feature_names_out()\n",
    "] = encoder_oe.transform(oe_features_test[categorical_features])\n",
    "oe_features_test[numeric_features] = scaler.transform(oe_features_test[numeric_features])\n",
    "\n",
    "oe_features_test.head()"
   ]
  },
  {
   "cell_type": "markdown",
   "metadata": {},
   "source": [
    "### Модель линейной регрессии"
   ]
  },
  {
   "cell_type": "code",
   "execution_count": 43,
   "metadata": {},
   "outputs": [],
   "source": [
    "model_lr = LinearRegression()"
   ]
  },
  {
   "cell_type": "code",
   "execution_count": 44,
   "metadata": {},
   "outputs": [
    {
     "name": "stdout",
     "output_type": "stream",
     "text": [
      "Время обучения LinearRegression: 6.672187805175781 секунд\n",
      "Время предсказания LinearRegression: 0.3887350559234619 секунд\n",
      "RMSE LinearRegression: 2604.91\n"
     ]
    }
   ],
   "source": [
    "# Создаем объект GridSearchCV для подбора гиперпараметров\n",
    "grid_cv = GridSearchCV(estimator = model_lr, param_grid = {}, cv = 3, scoring = 'neg_root_mean_squared_error')\n",
    "\n",
    "# Обучаем модель с подбором гиперпараметров\n",
    "grid_cv.fit(ohe_features_train, target_train)\n",
    "\n",
    "# Получаем лучшие гиперпараметры\n",
    "best_params = grid_cv.best_params_\n",
    "\n",
    "start_time = time.time()\n",
    "\n",
    "# Создаем новую модель с лучшими гиперпараметрами\n",
    "best_model_lr = LinearRegression(**best_params)\n",
    "\n",
    "# Обучаем модель с лучшими гиперпараметрами\n",
    "best_model_lr.fit(ohe_features_train, target_train)\n",
    "\n",
    "end_time = time.time()\n",
    "training_time_lr = end_time - start_time\n",
    "print(\"Время обучения LinearRegression: %s секунд\" % training_time_lr)\n",
    "\n",
    "start_time = time.time()\n",
    "\n",
    "#Предсказание цен на обучающей выборке\n",
    "train_predictions_lr = best_model_lr.predict(ohe_features_train)\n",
    "\n",
    "end_time = time.time()\n",
    "prediction_time_lr = end_time - start_time\n",
    "print(\"Время предсказания LinearRegression: %s секунд\" % prediction_time_lr)\n",
    "\n",
    "# Вычисление RMSE\n",
    "rmse_lr = grid_cv.best_score_ * -1\n",
    "print(\"RMSE LinearRegression: %.2f\" % rmse_lr)"
   ]
  },
  {
   "cell_type": "markdown",
   "metadata": {},
   "source": [
    "### Модель LightGBM"
   ]
  },
  {
   "cell_type": "code",
   "execution_count": 45,
   "metadata": {},
   "outputs": [
    {
     "name": "stdout",
     "output_type": "stream",
     "text": [
      "Время подбора гиперпараметров LightGBM: 6.002832889556885 секунд\n",
      "Время обучения LightGBM: 1.8206830024719238 секунд\n",
      "Время предсказания LightGBM: 1.0960278511047363 секунд\n",
      "Лучшие гиперпараметры модели LightGBM:  {'boosting_type': 'gbdt', 'learning_rate': 0.1, 'num_leaves': 500}\n",
      "RMSE LightGBM на валидационной выборке: 1609.56\n"
     ]
    }
   ],
   "source": [
    "start_time = time.time()\n",
    "\n",
    "model_lgbm = LGBMRegressor(random_state=STATE, n_jobs=-1)\n",
    "\n",
    "# Задаем сетку гиперпараметров для подбора\n",
    "hyperparams = {\n",
    "    'boosting_type': ['gbdt', 'dart'],\n",
    "    'num_leaves': [10, 50, 100, 500, 1000, 5000],\n",
    "    'learning_rate': [.1, .3, .5]\n",
    "}\n",
    "\n",
    "# Создаем объект GridSearchCV для подбора гиперпараметров\n",
    "grid_cv = GridSearchCV(estimator = model_lgbm, param_grid = hyperparams, cv = 3, scoring = 'neg_root_mean_squared_error')\n",
    "\n",
    "# Обучаем модель с подбором гиперпараметров\n",
    "grid_cv.fit(oe_features_train, target_train)\n",
    "\n",
    "# Получаем лучшие гиперпараметры\n",
    "best_params = grid_cv.best_params_\n",
    "\n",
    "end_time = time.time()\n",
    "selection_time_lgbm = end_time - start_time\n",
    "print(\"Время подбора гиперпараметров LightGBM: %s секунд\" % selection_time_lgbm)\n",
    "\n",
    "start_time = time.time()\n",
    "\n",
    "# Создаем новую модель с лучшими гиперпараметрами\n",
    "best_model_lgbm = LGBMRegressor(**best_params)\n",
    "\n",
    "# Обучаем модель с лучшими гиперпараметрами\n",
    "best_model_lgbm.fit(oe_features_train, target_train)\n",
    "\n",
    "end_time = time.time()\n",
    "training_time_lgbm = end_time - start_time\n",
    "\n",
    "# Время обучения модели LightGBM\n",
    "print(\"Время обучения LightGBM: %s секунд\" % training_time_lgbm)\n",
    "\n",
    "start_time = time.time()\n",
    "\n",
    "# Предсказание цен на обучающей выборке\n",
    "train_predictions_lgbm = best_model_lgbm.predict(oe_features_train)\n",
    "\n",
    "end_time = time.time()\n",
    "prediction_time_lgbm = end_time - start_time\n",
    "print(\"Время предсказания LightGBM: %s секунд\" % prediction_time_lgbm)\n",
    "\n",
    "# Вычисление RMSE на валидационной выборке\n",
    "rmse_lgb = grid_cv.best_score_ * -1\n",
    "print(\"Лучшие гиперпараметры модели LightGBM: \", best_params)\n",
    "print(\"RMSE LightGBM на валидационной выборке: %.2f\" % rmse_lgb)"
   ]
  },
  {
   "cell_type": "markdown",
   "metadata": {},
   "source": [
    "### Модель RandomForestRegressor"
   ]
  },
  {
   "cell_type": "code",
   "execution_count": 46,
   "metadata": {},
   "outputs": [
    {
     "name": "stdout",
     "output_type": "stream",
     "text": [
      "Время подбора гиперпараметров RandomForestRegressor: 98.59464120864868 секунд\n",
      "Время обучения RandomForestRegressor: 81.15410590171814 секунд\n",
      "Время предсказания RandomForestRegressor: 6.715637922286987 секунд\n",
      "Лучшие гиперпараметры модели RandomForestRegressor:  {'max_depth': 14, 'n_estimators': 250}\n",
      "RMSE RandomForestRegressor: 1721.62\n"
     ]
    }
   ],
   "source": [
    "start_time = time.time()\n",
    "\n",
    "model_rf = RandomForestRegressor(random_state=STATE, n_jobs=-1)\n",
    "\n",
    "# Задаем сетку гиперпараметров для подбора\n",
    "hyperparams = {\n",
    "    'n_estimators': range(50, 251, 50),\n",
    "    'max_depth': range(2, 15)\n",
    "}\n",
    "\n",
    "# Создаем объект GridSearchCV для подбора гиперпараметров\n",
    "grid_cv = GridSearchCV(estimator = model_rf, param_grid = hyperparams, cv = 3, scoring = 'neg_root_mean_squared_error')\n",
    "\n",
    "# Обучаем модель с подбором гиперпараметров\n",
    "grid_cv.fit(oe_features_train, target_train)\n",
    "\n",
    "# Получаем лучшие гиперпараметры\n",
    "best_params = grid_cv.best_params_\n",
    "\n",
    "end_time = time.time()\n",
    "selection_time_rf = end_time - start_time\n",
    "print(\"Время подбора гиперпараметров RandomForestRegressor: %s секунд\" % selection_time_rf)\n",
    "\n",
    "start_time = time.time()\n",
    "\n",
    "# Создаем новую модель с лучшими гиперпараметрами\n",
    "best_model_rf = RandomForestRegressor(**best_params)\n",
    "\n",
    "# Обучаем модель с лучшими гиперпараметрами\n",
    "best_model_rf.fit(oe_features_train, target_train)\n",
    "\n",
    "end_time = time.time()\n",
    "training_time_rf = end_time - start_time\n",
    "print(\"Время обучения RandomForestRegressor: %s секунд\" % training_time_rf)\n",
    "\n",
    "start_time = time.time()\n",
    "\n",
    "# Предсказание цен на обучающей выборке\n",
    "train_predictions_rf = best_model_rf.predict(oe_features_train)\n",
    "\n",
    "end_time = time.time()\n",
    "prediction_time_rf = end_time - start_time\n",
    "print(\"Время предсказания RandomForestRegressor: %s секунд\" % prediction_time_rf)\n",
    "\n",
    "# Вычисление RMSE на валидационной выборке\n",
    "rmse_rf = grid_cv.best_score_ * -1\n",
    "\n",
    "print(\"Лучшие гиперпараметры модели RandomForestRegressor: \", best_params)\n",
    "print(\"RMSE RandomForestRegressor: %.2f\" % rmse_rf)"
   ]
  },
  {
   "cell_type": "markdown",
   "metadata": {},
   "source": [
    "<b> Промежуточный вывод: </b>\n",
    "1. Данные были разделены на обучающую и тестовую (80/20) выборки для обучения моделей.\n",
    "2. Подготовлены ohe_features_train и ohe_features_test выборки путём кодирования категориальных признаков с использованием OneHotEncoder и масштабирования численных признков с использованием StandardScaler.\n",
    "3. Подготовлены oe_features_train и oe_features_test выборки путём кодирования категориальных признаков с использованием OrdinalEncoder и масштабирования численных признков с использованием StandardScaler.\n",
    "4. Обучены следующие модели:\n",
    "    * LinearRegression;\n",
    "    * LightGBM;\n",
    "    * RandomForestRegressor.\n",
    "      \n",
    "Для каждой модели подоброны лучшие гиперпараметры, посчитаны время обучения, время предсказания и качество моделей.\n"
   ]
  },
  {
   "cell_type": "markdown",
   "metadata": {},
   "source": [
    "## Анализ моделей"
   ]
  },
  {
   "cell_type": "code",
   "execution_count": 48,
   "metadata": {},
   "outputs": [
    {
     "data": {
      "text/html": [
       "<div>\n",
       "<style scoped>\n",
       "    .dataframe tbody tr th:only-of-type {\n",
       "        vertical-align: middle;\n",
       "    }\n",
       "\n",
       "    .dataframe tbody tr th {\n",
       "        vertical-align: top;\n",
       "    }\n",
       "\n",
       "    .dataframe thead th {\n",
       "        text-align: right;\n",
       "    }\n",
       "</style>\n",
       "<table border=\"1\" class=\"dataframe\">\n",
       "  <thead>\n",
       "    <tr style=\"text-align: right;\">\n",
       "      <th></th>\n",
       "      <th>Модель</th>\n",
       "      <th>Время подбора гипперпараметров (сек.)</th>\n",
       "      <th>Время обучения (сек.)</th>\n",
       "      <th>Время предсказания (сек.)</th>\n",
       "      <th>Качество модели (RMSE)</th>\n",
       "    </tr>\n",
       "  </thead>\n",
       "  <tbody>\n",
       "    <tr>\n",
       "      <th>0</th>\n",
       "      <td>Linear Regression</td>\n",
       "      <td>-</td>\n",
       "      <td>6.672188</td>\n",
       "      <td>0.388735</td>\n",
       "      <td>2604.914955</td>\n",
       "    </tr>\n",
       "    <tr>\n",
       "      <th>1</th>\n",
       "      <td>LightGBM</td>\n",
       "      <td>6.002833</td>\n",
       "      <td>1.820683</td>\n",
       "      <td>1.096028</td>\n",
       "      <td>1609.556113</td>\n",
       "    </tr>\n",
       "    <tr>\n",
       "      <th>2</th>\n",
       "      <td>RandomForestRegressor</td>\n",
       "      <td>98.594641</td>\n",
       "      <td>81.154106</td>\n",
       "      <td>6.715638</td>\n",
       "      <td>1721.619251</td>\n",
       "    </tr>\n",
       "  </tbody>\n",
       "</table>\n",
       "</div>"
      ],
      "text/plain": [
       "                  Модель Время подбора гипперпараметров (сек.)  \\\n",
       "0      Linear Regression                                     -   \n",
       "1               LightGBM                              6.002833   \n",
       "2  RandomForestRegressor                             98.594641   \n",
       "\n",
       "   Время обучения (сек.)  Время предсказания (сек.)  Качество модели (RMSE)  \n",
       "0               6.672188                   0.388735             2604.914955  \n",
       "1               1.820683                   1.096028             1609.556113  \n",
       "2              81.154106                   6.715638             1721.619251  "
      ]
     },
     "execution_count": 48,
     "metadata": {},
     "output_type": "execute_result"
    }
   ],
   "source": [
    "pd.DataFrame({'Модель': ['Linear Regression', 'LightGBM', 'RandomForestRegressor'],\n",
    "                        'Время подбора гипперпараметров (сек.)': ['-', selection_time_lgbm, selection_time_rf],\n",
    "                        'Время обучения (сек.)': [training_time_lr, training_time_lgbm, training_time_rf],\n",
    "                        'Время предсказания (сек.)': [prediction_time_lr, prediction_time_lgbm, prediction_time_rf],\n",
    "                        'Качество модели (RMSE)': [rmse_lr, rmse_lgb, rmse_rf]})"
   ]
  },
  {
   "cell_type": "markdown",
   "metadata": {},
   "source": [
    "Значение метрики RMSE в модели LinearRegression превышает 2500. Лучшее значение метрики RMSE = 1623.53 имеет модель LightGBM. Оценим ее качество на тестовой выборке."
   ]
  },
  {
   "cell_type": "code",
   "execution_count": 49,
   "metadata": {},
   "outputs": [
    {
     "name": "stdout",
     "output_type": "stream",
     "text": [
      "RMSE LightGBM на тестовой выборке: 1564.49\n"
     ]
    }
   ],
   "source": [
    "rmse_test = np.sqrt(mean_squared_error(target_test, best_model_lgbm.predict(oe_features_test)))\n",
    "print(\"RMSE LightGBM на тестовой выборке: %.2f\" % rmse_test)"
   ]
  },
  {
   "cell_type": "markdown",
   "metadata": {},
   "source": [
    "Качество предсказаний, полученное на тестовой выборке, удовлетворяет обозначенному условию."
   ]
  },
  {
   "cell_type": "markdown",
   "metadata": {},
   "source": [
    "Проверим лучшую модель на адекватность"
   ]
  },
  {
   "cell_type": "code",
   "execution_count": 50,
   "metadata": {},
   "outputs": [
    {
     "name": "stdout",
     "output_type": "stream",
     "text": [
      "RMSE DummyRegressor: 4674.269681437609\n"
     ]
    }
   ],
   "source": [
    "dummy_reg = DummyRegressor(strategy='mean')\n",
    "dummy_reg.fit(ohe_features_train, target_train)\n",
    "target_pred = dummy_reg.predict(ohe_features_train)\n",
    "rmse = np.sqrt(mean_squared_error(target_train, target_pred))\n",
    "print(\"RMSE DummyRegressor:\", rmse)"
   ]
  },
  {
   "cell_type": "markdown",
   "metadata": {},
   "source": [
    "Результат тестирования нашей модели на тествой выборке оказался в разы лучше, чем результат константной модели DummyRegressor."
   ]
  },
  {
   "cell_type": "markdown",
   "metadata": {},
   "source": [
    "<b> Вывод: </b>\n",
    "1. Данные загружены и изучены.\n",
    "    * Заполнены пропущенные значения в следующих стобцах:  \n",
    "        + vehicle_type;\n",
    "        + gearbox;\n",
    "        + model;\n",
    "        + fuel_type;\n",
    "        + repaired.\n",
    "    * Обработаны аномалии в следующих столбцах:\n",
    "        + price;\n",
    "        + registration_year;\n",
    "        + power.\n",
    "    * Удалены следующие неинформативные признаки:\n",
    "        + date_crawled — дата скачивания анкеты из базы;\n",
    "        + registration_month — месяц регистрации автомобиля;\n",
    "        + date_created — дата создания анкеты;\n",
    "        + number_of_pictures — количество фотографий автомобиля;\n",
    "        + postal_code — почтовый индекс владельца анкеты (пользователя);\n",
    "        + last_seen — дата последней активности пользователя.\n",
    "2. Данные были разделены на обучающую и тестовую (80/20) выборки, также были подготовлены дополнительные обучающие выборки путём кодирования категориальных признаков с использованием OneHotEncoder, OrdinalEncoder и масштабирования численных признков с использованием StandardScaler.\n",
    "3. Обучены следующие модели с подобранными гипперпараметрами:\n",
    "    * LinearRegression;\n",
    "    * LightGBM;\n",
    "    * RandomForestRegressor.\n",
    "4. Самое быстрое время подбора гипперпараметров и обучения у модели LightGBM, время предсказания быстрее у Linear Regression. RandomForestRegressor в разы больше тратит время по всем пунктам.\n",
    "\n",
    "Опираясь на критерии заказчика по скорости и качеству, <b> лучшей моделью является LightGBM </b>:\n",
    "* время подбора гипперпараметров (сек.): 375.73;\n",
    "* время обучения (сек.): 1.98;\n",
    "* время предсказания (сек.): 0.5;\n",
    "* качество модели (RMSE): 1564.49"
   ]
  }
 ],
 "metadata": {
  "ExecuteTimeLog": [
   {
    "duration": 418,
    "start_time": "2023-07-06T18:46:42.566Z"
   },
   {
    "duration": 3,
    "start_time": "2023-07-06T18:48:00.394Z"
   },
   {
    "duration": 1237,
    "start_time": "2023-07-06T18:48:53.079Z"
   },
   {
    "duration": 2,
    "start_time": "2023-07-06T18:49:33.211Z"
   },
   {
    "duration": 126,
    "start_time": "2023-07-06T18:49:49.900Z"
   },
   {
    "duration": 73,
    "start_time": "2023-07-06T18:50:34.255Z"
   },
   {
    "duration": 9,
    "start_time": "2023-07-06T18:50:39.015Z"
   },
   {
    "duration": 123,
    "start_time": "2023-07-06T18:50:44.951Z"
   },
   {
    "duration": 8,
    "start_time": "2023-07-06T18:52:40.263Z"
   },
   {
    "duration": 8,
    "start_time": "2023-07-06T18:52:48.706Z"
   },
   {
    "duration": 87,
    "start_time": "2023-07-06T18:52:52.795Z"
   },
   {
    "duration": 9,
    "start_time": "2023-07-06T18:56:07.454Z"
   },
   {
    "duration": 28,
    "start_time": "2023-07-06T18:56:27.151Z"
   },
   {
    "duration": 77,
    "start_time": "2023-07-06T18:57:04.283Z"
   },
   {
    "duration": 67,
    "start_time": "2023-07-06T18:59:48.659Z"
   },
   {
    "duration": 813,
    "start_time": "2023-07-06T19:00:08.894Z"
   },
   {
    "duration": 793,
    "start_time": "2023-07-06T19:03:16.316Z"
   },
   {
    "duration": 799,
    "start_time": "2023-07-06T19:06:52.058Z"
   },
   {
    "duration": 19,
    "start_time": "2023-07-06T19:07:17.204Z"
   },
   {
    "duration": 20,
    "start_time": "2023-07-06T19:07:27.039Z"
   },
   {
    "duration": 4,
    "start_time": "2023-07-06T19:11:51.624Z"
   },
   {
    "duration": 14,
    "start_time": "2023-07-06T19:11:52.664Z"
   },
   {
    "duration": 7,
    "start_time": "2023-07-06T19:14:11.286Z"
   },
   {
    "duration": 280,
    "start_time": "2023-07-06T19:14:19.827Z"
   },
   {
    "duration": 85,
    "start_time": "2023-07-06T19:14:31.446Z"
   },
   {
    "duration": 15,
    "start_time": "2023-07-06T19:14:41.271Z"
   },
   {
    "duration": 128,
    "start_time": "2023-07-06T20:04:36.203Z"
   },
   {
    "duration": 83,
    "start_time": "2023-07-06T20:04:39.838Z"
   },
   {
    "duration": 15,
    "start_time": "2023-07-06T20:04:50.792Z"
   },
   {
    "duration": 454,
    "start_time": "2023-07-06T20:05:03.951Z"
   },
   {
    "duration": 1136,
    "start_time": "2023-07-06T20:05:04.407Z"
   },
   {
    "duration": 130,
    "start_time": "2023-07-06T20:05:05.545Z"
   },
   {
    "duration": 3,
    "start_time": "2023-07-06T20:05:05.678Z"
   },
   {
    "duration": 55,
    "start_time": "2023-07-06T20:05:05.682Z"
   },
   {
    "duration": 357,
    "start_time": "2023-07-06T20:05:05.739Z"
   },
   {
    "duration": 83,
    "start_time": "2023-07-06T20:05:06.098Z"
   },
   {
    "duration": 27,
    "start_time": "2023-07-06T20:05:06.182Z"
   },
   {
    "duration": 18,
    "start_time": "2023-07-06T20:06:58.490Z"
   },
   {
    "duration": 7,
    "start_time": "2023-07-06T20:09:55.014Z"
   },
   {
    "duration": 8,
    "start_time": "2023-07-06T21:08:48.419Z"
   },
   {
    "duration": 6,
    "start_time": "2023-07-06T21:11:01.740Z"
   },
   {
    "duration": 6,
    "start_time": "2023-07-06T21:11:26.247Z"
   },
   {
    "duration": 6,
    "start_time": "2023-07-06T21:11:40.190Z"
   },
   {
    "duration": 7,
    "start_time": "2023-07-06T21:11:53.563Z"
   },
   {
    "duration": 70,
    "start_time": "2023-07-06T21:12:59.141Z"
   },
   {
    "duration": 12,
    "start_time": "2023-07-06T21:13:30.814Z"
   },
   {
    "duration": 10,
    "start_time": "2023-07-06T21:13:36.971Z"
   },
   {
    "duration": 8,
    "start_time": "2023-07-06T21:14:26.339Z"
   },
   {
    "duration": 6,
    "start_time": "2023-07-06T21:15:45.937Z"
   },
   {
    "duration": 10,
    "start_time": "2023-07-06T21:17:32.881Z"
   },
   {
    "duration": 8,
    "start_time": "2023-07-06T21:20:51.452Z"
   },
   {
    "duration": 64,
    "start_time": "2023-07-06T21:22:48.439Z"
   },
   {
    "duration": 410,
    "start_time": "2023-07-06T21:23:16.541Z"
   },
   {
    "duration": 866,
    "start_time": "2023-07-06T21:23:16.953Z"
   },
   {
    "duration": 133,
    "start_time": "2023-07-06T21:23:17.821Z"
   },
   {
    "duration": 4,
    "start_time": "2023-07-06T21:23:17.956Z"
   },
   {
    "duration": 46,
    "start_time": "2023-07-06T21:23:17.962Z"
   },
   {
    "duration": 7,
    "start_time": "2023-07-06T21:23:18.009Z"
   },
   {
    "duration": 0,
    "start_time": "2023-07-06T21:23:18.017Z"
   },
   {
    "duration": 0,
    "start_time": "2023-07-06T21:23:18.019Z"
   },
   {
    "duration": 0,
    "start_time": "2023-07-06T21:23:18.020Z"
   },
   {
    "duration": 0,
    "start_time": "2023-07-06T21:23:18.021Z"
   },
   {
    "duration": 107,
    "start_time": "2023-07-06T21:23:24.455Z"
   },
   {
    "duration": 98,
    "start_time": "2023-07-06T21:23:44.718Z"
   },
   {
    "duration": 3,
    "start_time": "2023-07-06T21:23:46.973Z"
   },
   {
    "duration": 112,
    "start_time": "2023-07-06T21:23:47.376Z"
   },
   {
    "duration": 28,
    "start_time": "2023-07-06T21:23:53.250Z"
   },
   {
    "duration": 74,
    "start_time": "2023-07-06T21:25:22.833Z"
   },
   {
    "duration": 25,
    "start_time": "2023-07-06T21:27:04.571Z"
   },
   {
    "duration": 27,
    "start_time": "2023-07-06T21:27:27.443Z"
   },
   {
    "duration": 63,
    "start_time": "2023-07-06T21:27:34.852Z"
   },
   {
    "duration": 26,
    "start_time": "2023-07-06T21:27:39.963Z"
   },
   {
    "duration": 26,
    "start_time": "2023-07-06T21:27:59.620Z"
   },
   {
    "duration": 149,
    "start_time": "2023-07-06T21:28:03.920Z"
   },
   {
    "duration": 15,
    "start_time": "2023-07-06T21:28:42.897Z"
   },
   {
    "duration": 107,
    "start_time": "2023-07-06T21:28:53.351Z"
   },
   {
    "duration": 432,
    "start_time": "2023-07-06T21:28:57.770Z"
   },
   {
    "duration": 824,
    "start_time": "2023-07-06T21:28:58.204Z"
   },
   {
    "duration": 20,
    "start_time": "2023-07-06T21:28:59.030Z"
   },
   {
    "duration": 3,
    "start_time": "2023-07-06T21:28:59.051Z"
   },
   {
    "duration": 132,
    "start_time": "2023-07-06T21:28:59.056Z"
   },
   {
    "duration": 97,
    "start_time": "2023-07-06T21:28:59.190Z"
   },
   {
    "duration": 16,
    "start_time": "2023-07-06T21:28:59.289Z"
   },
   {
    "duration": 113,
    "start_time": "2023-07-06T21:28:59.307Z"
   },
   {
    "duration": 19,
    "start_time": "2023-07-06T21:28:59.421Z"
   },
   {
    "duration": 5,
    "start_time": "2023-07-06T21:28:59.442Z"
   },
   {
    "duration": 105,
    "start_time": "2023-07-06T21:29:21.420Z"
   },
   {
    "duration": 375,
    "start_time": "2023-07-06T21:30:46.267Z"
   },
   {
    "duration": 94,
    "start_time": "2023-07-06T21:31:04.760Z"
   },
   {
    "duration": 400,
    "start_time": "2023-07-06T21:45:23.630Z"
   },
   {
    "duration": 869,
    "start_time": "2023-07-06T21:45:24.032Z"
   },
   {
    "duration": 128,
    "start_time": "2023-07-06T21:45:24.914Z"
   },
   {
    "duration": 3,
    "start_time": "2023-07-06T21:45:25.044Z"
   },
   {
    "duration": 38,
    "start_time": "2023-07-06T21:45:25.049Z"
   },
   {
    "duration": 130,
    "start_time": "2023-07-06T21:45:25.089Z"
   },
   {
    "duration": 99,
    "start_time": "2023-07-06T21:45:25.221Z"
   },
   {
    "duration": 2,
    "start_time": "2023-07-06T21:45:25.322Z"
   },
   {
    "duration": 130,
    "start_time": "2023-07-06T21:45:25.326Z"
   },
   {
    "duration": 21,
    "start_time": "2023-07-06T21:45:25.459Z"
   },
   {
    "duration": 28,
    "start_time": "2023-07-06T21:45:25.481Z"
   },
   {
    "duration": 49,
    "start_time": "2023-07-06T21:49:30.593Z"
   },
   {
    "duration": 80,
    "start_time": "2023-07-06T21:49:32.638Z"
   },
   {
    "duration": 12,
    "start_time": "2023-07-06T21:51:19.683Z"
   },
   {
    "duration": 7,
    "start_time": "2023-07-06T21:51:51.543Z"
   },
   {
    "duration": 22,
    "start_time": "2023-07-06T21:52:04.115Z"
   },
   {
    "duration": 73,
    "start_time": "2023-07-07T14:58:36.926Z"
   },
   {
    "duration": 481,
    "start_time": "2023-07-07T14:58:42.041Z"
   },
   {
    "duration": 4806,
    "start_time": "2023-07-07T14:58:42.524Z"
   },
   {
    "duration": 195,
    "start_time": "2023-07-07T14:58:47.332Z"
   },
   {
    "duration": 3,
    "start_time": "2023-07-07T14:58:47.530Z"
   },
   {
    "duration": 49,
    "start_time": "2023-07-07T14:58:47.534Z"
   },
   {
    "duration": 134,
    "start_time": "2023-07-07T14:58:47.587Z"
   },
   {
    "duration": 62,
    "start_time": "2023-07-07T14:58:47.723Z"
   },
   {
    "duration": 153,
    "start_time": "2023-07-07T14:58:47.787Z"
   },
   {
    "duration": 42,
    "start_time": "2023-07-07T14:58:47.954Z"
   },
   {
    "duration": 9,
    "start_time": "2023-07-07T14:58:47.999Z"
   },
   {
    "duration": 7,
    "start_time": "2023-07-07T14:58:48.010Z"
   },
   {
    "duration": 23,
    "start_time": "2023-07-07T14:59:33.211Z"
   },
   {
    "duration": 8,
    "start_time": "2023-07-07T14:59:53.697Z"
   },
   {
    "duration": 54,
    "start_time": "2023-07-07T15:03:01.847Z"
   },
   {
    "duration": 10,
    "start_time": "2023-07-07T15:03:34.786Z"
   },
   {
    "duration": 80,
    "start_time": "2023-07-07T15:04:31.017Z"
   },
   {
    "duration": 2045,
    "start_time": "2023-07-07T15:05:27.239Z"
   },
   {
    "duration": 23,
    "start_time": "2023-07-07T15:05:30.519Z"
   },
   {
    "duration": 46,
    "start_time": "2023-07-07T15:05:49.347Z"
   },
   {
    "duration": 25,
    "start_time": "2023-07-07T15:06:17.700Z"
   },
   {
    "duration": 8,
    "start_time": "2023-07-07T15:06:33.811Z"
   },
   {
    "duration": 226,
    "start_time": "2023-07-07T15:09:25.779Z"
   },
   {
    "duration": 161,
    "start_time": "2023-07-07T15:11:59.735Z"
   },
   {
    "duration": 117,
    "start_time": "2023-07-07T15:12:06.895Z"
   },
   {
    "duration": 266,
    "start_time": "2023-07-07T15:13:41.910Z"
   },
   {
    "duration": 124,
    "start_time": "2023-07-07T15:14:25.777Z"
   },
   {
    "duration": 110,
    "start_time": "2023-07-07T15:14:56.092Z"
   },
   {
    "duration": 114,
    "start_time": "2023-07-07T15:15:24.989Z"
   },
   {
    "duration": 118,
    "start_time": "2023-07-07T15:17:48.810Z"
   },
   {
    "duration": 227,
    "start_time": "2023-07-07T15:22:33.293Z"
   },
   {
    "duration": 54,
    "start_time": "2023-07-09T11:55:18.370Z"
   },
   {
    "duration": 440,
    "start_time": "2023-07-09T11:55:23.312Z"
   },
   {
    "duration": 923,
    "start_time": "2023-07-09T11:55:23.755Z"
   },
   {
    "duration": 123,
    "start_time": "2023-07-09T11:55:24.680Z"
   },
   {
    "duration": 2,
    "start_time": "2023-07-09T11:55:24.805Z"
   },
   {
    "duration": 23,
    "start_time": "2023-07-09T11:55:24.809Z"
   },
   {
    "duration": 99,
    "start_time": "2023-07-09T11:55:24.833Z"
   },
   {
    "duration": 33,
    "start_time": "2023-07-09T11:55:24.934Z"
   },
   {
    "duration": 125,
    "start_time": "2023-07-09T11:55:24.969Z"
   },
   {
    "duration": 61,
    "start_time": "2023-07-09T11:55:25.099Z"
   },
   {
    "duration": 226,
    "start_time": "2023-07-09T11:55:25.163Z"
   },
   {
    "duration": 23,
    "start_time": "2023-07-09T11:55:25.390Z"
   },
   {
    "duration": 12,
    "start_time": "2023-07-09T11:55:25.414Z"
   },
   {
    "duration": 30,
    "start_time": "2023-07-09T11:55:25.428Z"
   },
   {
    "duration": 11,
    "start_time": "2023-07-09T11:55:25.459Z"
   },
   {
    "duration": 5,
    "start_time": "2023-07-09T11:55:25.471Z"
   },
   {
    "duration": 46,
    "start_time": "2023-07-09T11:55:25.477Z"
   },
   {
    "duration": 27,
    "start_time": "2023-07-09T11:55:25.524Z"
   },
   {
    "duration": 17,
    "start_time": "2023-07-09T11:55:25.553Z"
   },
   {
    "duration": 250,
    "start_time": "2023-07-09T11:55:25.572Z"
   },
   {
    "duration": 126,
    "start_time": "2023-07-09T11:55:38.951Z"
   },
   {
    "duration": 136,
    "start_time": "2023-07-09T11:56:03.364Z"
   },
   {
    "duration": 131,
    "start_time": "2023-07-09T11:57:28.296Z"
   },
   {
    "duration": 195,
    "start_time": "2023-07-09T11:57:44.768Z"
   },
   {
    "duration": 142,
    "start_time": "2023-07-09T11:57:48.313Z"
   },
   {
    "duration": 61,
    "start_time": "2023-07-09T11:59:56.437Z"
   },
   {
    "duration": 129,
    "start_time": "2023-07-09T12:00:29.098Z"
   },
   {
    "duration": 472,
    "start_time": "2023-07-09T12:00:33.061Z"
   },
   {
    "duration": 103,
    "start_time": "2023-07-09T12:00:48.694Z"
   },
   {
    "duration": 188,
    "start_time": "2023-07-09T12:00:54.722Z"
   },
   {
    "duration": 66,
    "start_time": "2023-07-09T12:01:12.107Z"
   },
   {
    "duration": 131,
    "start_time": "2023-07-09T12:01:15.798Z"
   },
   {
    "duration": 126,
    "start_time": "2023-07-09T12:01:29.730Z"
   },
   {
    "duration": 157,
    "start_time": "2023-07-09T12:18:39.685Z"
   },
   {
    "duration": 75,
    "start_time": "2023-07-09T12:19:10.704Z"
   },
   {
    "duration": 78,
    "start_time": "2023-07-09T13:13:18.711Z"
   },
   {
    "duration": 25060,
    "start_time": "2023-07-09T13:13:40.515Z"
   },
   {
    "duration": 94,
    "start_time": "2023-07-09T13:14:05.578Z"
   },
   {
    "duration": 73,
    "start_time": "2023-07-09T13:15:00.145Z"
   },
   {
    "duration": 10,
    "start_time": "2023-07-09T13:15:03.018Z"
   },
   {
    "duration": 2279,
    "start_time": "2023-07-09T13:15:10.045Z"
   },
   {
    "duration": 566,
    "start_time": "2023-07-09T13:15:12.326Z"
   },
   {
    "duration": 846,
    "start_time": "2023-07-09T13:15:12.893Z"
   },
   {
    "duration": 328,
    "start_time": "2023-07-09T13:15:13.741Z"
   },
   {
    "duration": 110,
    "start_time": "2023-07-09T13:15:14.071Z"
   },
   {
    "duration": 23,
    "start_time": "2023-07-09T13:15:14.183Z"
   },
   {
    "duration": 1222,
    "start_time": "2023-07-09T13:15:14.207Z"
   },
   {
    "duration": 0,
    "start_time": "2023-07-09T13:15:15.431Z"
   },
   {
    "duration": 0,
    "start_time": "2023-07-09T13:15:15.432Z"
   },
   {
    "duration": 0,
    "start_time": "2023-07-09T13:15:15.433Z"
   },
   {
    "duration": 0,
    "start_time": "2023-07-09T13:15:15.434Z"
   },
   {
    "duration": 0,
    "start_time": "2023-07-09T13:15:15.435Z"
   },
   {
    "duration": 0,
    "start_time": "2023-07-09T13:15:15.436Z"
   },
   {
    "duration": 0,
    "start_time": "2023-07-09T13:15:15.437Z"
   },
   {
    "duration": 0,
    "start_time": "2023-07-09T13:15:15.438Z"
   },
   {
    "duration": 0,
    "start_time": "2023-07-09T13:15:15.439Z"
   },
   {
    "duration": 0,
    "start_time": "2023-07-09T13:15:15.439Z"
   },
   {
    "duration": 0,
    "start_time": "2023-07-09T13:15:15.441Z"
   },
   {
    "duration": 0,
    "start_time": "2023-07-09T13:15:15.442Z"
   },
   {
    "duration": 0,
    "start_time": "2023-07-09T13:15:15.443Z"
   },
   {
    "duration": 0,
    "start_time": "2023-07-09T13:15:15.444Z"
   },
   {
    "duration": 10,
    "start_time": "2023-07-09T13:17:58.769Z"
   },
   {
    "duration": 81,
    "start_time": "2023-07-09T13:34:51.969Z"
   },
   {
    "duration": 11,
    "start_time": "2023-07-09T13:34:52.843Z"
   },
   {
    "duration": 55,
    "start_time": "2023-07-09T13:36:06.620Z"
   },
   {
    "duration": 4,
    "start_time": "2023-07-09T13:36:37.139Z"
   },
   {
    "duration": 15,
    "start_time": "2023-07-09T13:41:02.368Z"
   },
   {
    "duration": 22,
    "start_time": "2023-07-09T13:41:14.325Z"
   },
   {
    "duration": 231,
    "start_time": "2023-07-09T13:41:16.790Z"
   },
   {
    "duration": 58,
    "start_time": "2023-07-09T13:41:19.441Z"
   },
   {
    "duration": 47,
    "start_time": "2023-07-09T13:41:33.874Z"
   },
   {
    "duration": 64,
    "start_time": "2023-07-09T13:42:12.755Z"
   },
   {
    "duration": 213,
    "start_time": "2023-07-09T13:42:15.862Z"
   },
   {
    "duration": 12,
    "start_time": "2023-07-09T13:44:14.596Z"
   },
   {
    "duration": 2518,
    "start_time": "2023-07-09T13:44:37.396Z"
   },
   {
    "duration": 600,
    "start_time": "2023-07-09T13:44:39.917Z"
   },
   {
    "duration": 899,
    "start_time": "2023-07-09T13:44:40.519Z"
   },
   {
    "duration": 407,
    "start_time": "2023-07-09T13:44:41.421Z"
   },
   {
    "duration": 15,
    "start_time": "2023-07-09T13:44:41.830Z"
   },
   {
    "duration": 6,
    "start_time": "2023-07-09T13:44:41.847Z"
   },
   {
    "duration": 105,
    "start_time": "2023-07-09T13:44:41.855Z"
   },
   {
    "duration": 23,
    "start_time": "2023-07-09T13:44:41.962Z"
   },
   {
    "duration": 239,
    "start_time": "2023-07-09T13:44:41.987Z"
   },
   {
    "duration": 59,
    "start_time": "2023-07-09T13:44:42.228Z"
   },
   {
    "duration": 189,
    "start_time": "2023-07-09T13:44:42.289Z"
   },
   {
    "duration": 1265,
    "start_time": "2023-07-09T13:44:42.480Z"
   },
   {
    "duration": 0,
    "start_time": "2023-07-09T13:44:43.746Z"
   },
   {
    "duration": 0,
    "start_time": "2023-07-09T13:44:43.747Z"
   },
   {
    "duration": 0,
    "start_time": "2023-07-09T13:44:43.748Z"
   },
   {
    "duration": 1,
    "start_time": "2023-07-09T13:44:43.749Z"
   },
   {
    "duration": 0,
    "start_time": "2023-07-09T13:44:43.750Z"
   },
   {
    "duration": 0,
    "start_time": "2023-07-09T13:44:43.751Z"
   },
   {
    "duration": 0,
    "start_time": "2023-07-09T13:44:43.752Z"
   },
   {
    "duration": 0,
    "start_time": "2023-07-09T13:44:43.755Z"
   },
   {
    "duration": 0,
    "start_time": "2023-07-09T13:44:43.755Z"
   },
   {
    "duration": 8,
    "start_time": "2023-07-09T13:45:57.947Z"
   },
   {
    "duration": 2565,
    "start_time": "2023-07-09T13:46:15.999Z"
   },
   {
    "duration": 598,
    "start_time": "2023-07-09T13:46:18.567Z"
   },
   {
    "duration": 959,
    "start_time": "2023-07-09T13:46:19.167Z"
   },
   {
    "duration": 360,
    "start_time": "2023-07-09T13:46:20.128Z"
   },
   {
    "duration": 37,
    "start_time": "2023-07-09T13:46:20.491Z"
   },
   {
    "duration": 27,
    "start_time": "2023-07-09T13:46:20.530Z"
   },
   {
    "duration": 93,
    "start_time": "2023-07-09T13:46:20.560Z"
   },
   {
    "duration": 24,
    "start_time": "2023-07-09T13:46:20.655Z"
   },
   {
    "duration": 257,
    "start_time": "2023-07-09T13:46:20.681Z"
   },
   {
    "duration": 53,
    "start_time": "2023-07-09T13:46:20.939Z"
   },
   {
    "duration": 221,
    "start_time": "2023-07-09T13:46:21.009Z"
   },
   {
    "duration": 3127,
    "start_time": "2023-07-09T13:46:21.232Z"
   },
   {
    "duration": 0,
    "start_time": "2023-07-09T13:46:24.362Z"
   },
   {
    "duration": 0,
    "start_time": "2023-07-09T13:46:24.363Z"
   },
   {
    "duration": 1,
    "start_time": "2023-07-09T13:46:24.364Z"
   },
   {
    "duration": 0,
    "start_time": "2023-07-09T13:46:24.366Z"
   },
   {
    "duration": 0,
    "start_time": "2023-07-09T13:46:24.367Z"
   },
   {
    "duration": 0,
    "start_time": "2023-07-09T13:46:24.369Z"
   },
   {
    "duration": 0,
    "start_time": "2023-07-09T13:46:24.370Z"
   },
   {
    "duration": 0,
    "start_time": "2023-07-09T13:46:24.372Z"
   },
   {
    "duration": 0,
    "start_time": "2023-07-09T13:46:24.373Z"
   },
   {
    "duration": 39,
    "start_time": "2023-07-09T13:47:28.526Z"
   },
   {
    "duration": 2513,
    "start_time": "2023-07-09T13:47:33.341Z"
   },
   {
    "duration": 565,
    "start_time": "2023-07-09T13:47:35.857Z"
   },
   {
    "duration": 832,
    "start_time": "2023-07-09T13:47:36.424Z"
   },
   {
    "duration": 336,
    "start_time": "2023-07-09T13:47:37.258Z"
   },
   {
    "duration": 21,
    "start_time": "2023-07-09T13:47:37.596Z"
   },
   {
    "duration": 95,
    "start_time": "2023-07-09T13:47:37.618Z"
   },
   {
    "duration": 65,
    "start_time": "2023-07-09T13:47:37.715Z"
   },
   {
    "duration": 47,
    "start_time": "2023-07-09T13:47:37.782Z"
   },
   {
    "duration": 218,
    "start_time": "2023-07-09T13:47:37.831Z"
   },
   {
    "duration": 68,
    "start_time": "2023-07-09T13:47:38.050Z"
   },
   {
    "duration": 170,
    "start_time": "2023-07-09T13:47:38.120Z"
   },
   {
    "duration": 2246,
    "start_time": "2023-07-09T13:47:38.292Z"
   },
   {
    "duration": 0,
    "start_time": "2023-07-09T13:47:40.540Z"
   },
   {
    "duration": 0,
    "start_time": "2023-07-09T13:47:40.541Z"
   },
   {
    "duration": 0,
    "start_time": "2023-07-09T13:47:40.542Z"
   },
   {
    "duration": 0,
    "start_time": "2023-07-09T13:47:40.543Z"
   },
   {
    "duration": 0,
    "start_time": "2023-07-09T13:47:40.544Z"
   },
   {
    "duration": 0,
    "start_time": "2023-07-09T13:47:40.545Z"
   },
   {
    "duration": 0,
    "start_time": "2023-07-09T13:47:40.546Z"
   },
   {
    "duration": 0,
    "start_time": "2023-07-09T13:47:40.547Z"
   },
   {
    "duration": 0,
    "start_time": "2023-07-09T13:47:40.548Z"
   },
   {
    "duration": 188,
    "start_time": "2023-07-09T13:52:52.940Z"
   },
   {
    "duration": 162,
    "start_time": "2023-07-09T13:53:06.300Z"
   },
   {
    "duration": 195,
    "start_time": "2023-07-09T13:53:07.379Z"
   },
   {
    "duration": 173,
    "start_time": "2023-07-09T13:53:14.685Z"
   },
   {
    "duration": 2357,
    "start_time": "2023-07-09T13:53:50.683Z"
   },
   {
    "duration": 541,
    "start_time": "2023-07-09T13:53:53.042Z"
   },
   {
    "duration": 825,
    "start_time": "2023-07-09T13:53:53.587Z"
   },
   {
    "duration": 331,
    "start_time": "2023-07-09T13:53:54.414Z"
   },
   {
    "duration": 13,
    "start_time": "2023-07-09T13:53:54.747Z"
   },
   {
    "duration": 108,
    "start_time": "2023-07-09T13:53:54.762Z"
   },
   {
    "duration": 85,
    "start_time": "2023-07-09T13:53:54.872Z"
   },
   {
    "duration": 27,
    "start_time": "2023-07-09T13:53:54.958Z"
   },
   {
    "duration": 166,
    "start_time": "2023-07-09T13:53:55.009Z"
   },
   {
    "duration": 201,
    "start_time": "2023-07-09T13:53:55.177Z"
   },
   {
    "duration": 247,
    "start_time": "2023-07-09T13:53:55.379Z"
   },
   {
    "duration": 45,
    "start_time": "2023-07-09T13:53:55.628Z"
   },
   {
    "duration": 1040,
    "start_time": "2023-07-09T13:53:55.676Z"
   },
   {
    "duration": 1,
    "start_time": "2023-07-09T13:53:56.717Z"
   },
   {
    "duration": 0,
    "start_time": "2023-07-09T13:53:56.718Z"
   },
   {
    "duration": 0,
    "start_time": "2023-07-09T13:53:56.719Z"
   },
   {
    "duration": 0,
    "start_time": "2023-07-09T13:53:56.720Z"
   },
   {
    "duration": 0,
    "start_time": "2023-07-09T13:53:56.721Z"
   },
   {
    "duration": 0,
    "start_time": "2023-07-09T13:53:56.722Z"
   },
   {
    "duration": 0,
    "start_time": "2023-07-09T13:53:56.723Z"
   },
   {
    "duration": 0,
    "start_time": "2023-07-09T13:53:56.725Z"
   },
   {
    "duration": 0,
    "start_time": "2023-07-09T13:53:56.726Z"
   },
   {
    "duration": 194,
    "start_time": "2023-07-09T13:54:59.642Z"
   },
   {
    "duration": 149,
    "start_time": "2023-07-09T13:55:08.219Z"
   },
   {
    "duration": 2407,
    "start_time": "2023-07-09T13:55:16.417Z"
   },
   {
    "duration": 614,
    "start_time": "2023-07-09T13:55:18.827Z"
   },
   {
    "duration": 939,
    "start_time": "2023-07-09T13:55:19.443Z"
   },
   {
    "duration": 348,
    "start_time": "2023-07-09T13:55:20.384Z"
   },
   {
    "duration": 13,
    "start_time": "2023-07-09T13:55:20.734Z"
   },
   {
    "duration": 114,
    "start_time": "2023-07-09T13:55:20.749Z"
   },
   {
    "duration": 91,
    "start_time": "2023-07-09T13:55:20.864Z"
   },
   {
    "duration": 27,
    "start_time": "2023-07-09T13:55:20.957Z"
   },
   {
    "duration": 205,
    "start_time": "2023-07-09T13:55:20.985Z"
   },
   {
    "duration": 202,
    "start_time": "2023-07-09T13:55:21.191Z"
   },
   {
    "duration": 239,
    "start_time": "2023-07-09T13:55:21.395Z"
   },
   {
    "duration": 73,
    "start_time": "2023-07-09T13:55:21.636Z"
   },
   {
    "duration": 1002,
    "start_time": "2023-07-09T13:55:21.710Z"
   },
   {
    "duration": 0,
    "start_time": "2023-07-09T13:55:22.714Z"
   },
   {
    "duration": 0,
    "start_time": "2023-07-09T13:55:22.715Z"
   },
   {
    "duration": 0,
    "start_time": "2023-07-09T13:55:22.717Z"
   },
   {
    "duration": 0,
    "start_time": "2023-07-09T13:55:22.717Z"
   },
   {
    "duration": 0,
    "start_time": "2023-07-09T13:55:22.719Z"
   },
   {
    "duration": 0,
    "start_time": "2023-07-09T13:55:22.720Z"
   },
   {
    "duration": 0,
    "start_time": "2023-07-09T13:55:22.721Z"
   },
   {
    "duration": 0,
    "start_time": "2023-07-09T13:55:22.722Z"
   },
   {
    "duration": 0,
    "start_time": "2023-07-09T13:55:22.723Z"
   },
   {
    "duration": 206,
    "start_time": "2023-07-09T13:55:36.895Z"
   },
   {
    "duration": 50,
    "start_time": "2023-07-09T13:55:38.118Z"
   },
   {
    "duration": 16,
    "start_time": "2023-07-09T14:02:46.522Z"
   },
   {
    "duration": 8,
    "start_time": "2023-07-09T14:03:02.611Z"
   },
   {
    "duration": 15,
    "start_time": "2023-07-09T14:03:05.743Z"
   },
   {
    "duration": 7,
    "start_time": "2023-07-09T14:03:06.418Z"
   },
   {
    "duration": 5,
    "start_time": "2023-07-09T14:03:09.425Z"
   },
   {
    "duration": 1672,
    "start_time": "2023-07-09T14:03:10.790Z"
   },
   {
    "duration": 16,
    "start_time": "2023-07-09T14:03:14.325Z"
   },
   {
    "duration": 19,
    "start_time": "2023-07-09T14:03:15.739Z"
   },
   {
    "duration": 25,
    "start_time": "2023-07-09T14:03:16.597Z"
   },
   {
    "duration": 465,
    "start_time": "2023-07-09T14:03:19.895Z"
   },
   {
    "duration": 224,
    "start_time": "2023-07-09T14:03:24.052Z"
   },
   {
    "duration": 391,
    "start_time": "2023-07-09T14:08:09.090Z"
   },
   {
    "duration": 431,
    "start_time": "2023-07-09T14:20:15.517Z"
   },
   {
    "duration": 395,
    "start_time": "2023-07-09T14:20:40.018Z"
   },
   {
    "duration": 427,
    "start_time": "2023-07-09T14:21:42.053Z"
   },
   {
    "duration": 382,
    "start_time": "2023-07-09T14:22:00.447Z"
   },
   {
    "duration": 8,
    "start_time": "2023-07-09T15:23:16.467Z"
   },
   {
    "duration": 11,
    "start_time": "2023-07-09T15:23:24.342Z"
   },
   {
    "duration": 333,
    "start_time": "2023-07-09T15:23:28.823Z"
   },
   {
    "duration": 13,
    "start_time": "2023-07-09T15:24:44.527Z"
   },
   {
    "duration": 12,
    "start_time": "2023-07-09T15:24:46.831Z"
   },
   {
    "duration": 17,
    "start_time": "2023-07-09T15:24:56.854Z"
   },
   {
    "duration": 15,
    "start_time": "2023-07-09T15:24:57.527Z"
   },
   {
    "duration": 914,
    "start_time": "2023-07-09T15:25:38.947Z"
   },
   {
    "duration": 905,
    "start_time": "2023-07-09T15:26:05.911Z"
   },
   {
    "duration": 8,
    "start_time": "2023-07-09T15:26:47.822Z"
   },
   {
    "duration": 1005,
    "start_time": "2023-07-09T15:27:06.150Z"
   },
   {
    "duration": 1018,
    "start_time": "2023-07-09T15:27:46.720Z"
   },
   {
    "duration": 2331,
    "start_time": "2023-07-09T15:27:59.939Z"
   },
   {
    "duration": 611,
    "start_time": "2023-07-09T15:28:02.272Z"
   },
   {
    "duration": 838,
    "start_time": "2023-07-09T15:28:02.885Z"
   },
   {
    "duration": 323,
    "start_time": "2023-07-09T15:28:03.725Z"
   },
   {
    "duration": 13,
    "start_time": "2023-07-09T15:28:04.050Z"
   },
   {
    "duration": 95,
    "start_time": "2023-07-09T15:28:04.064Z"
   },
   {
    "duration": 10,
    "start_time": "2023-07-09T15:28:04.160Z"
   },
   {
    "duration": 5,
    "start_time": "2023-07-09T15:28:04.172Z"
   },
   {
    "duration": 146,
    "start_time": "2023-07-09T15:28:04.178Z"
   },
   {
    "duration": 109,
    "start_time": "2023-07-09T15:28:04.327Z"
   },
   {
    "duration": 34,
    "start_time": "2023-07-09T15:28:04.438Z"
   },
   {
    "duration": 189,
    "start_time": "2023-07-09T15:28:04.474Z"
   },
   {
    "duration": 179,
    "start_time": "2023-07-09T15:28:04.665Z"
   },
   {
    "duration": 210,
    "start_time": "2023-07-09T15:28:04.847Z"
   },
   {
    "duration": 56,
    "start_time": "2023-07-09T15:28:05.058Z"
   },
   {
    "duration": 16,
    "start_time": "2023-07-09T15:28:05.116Z"
   },
   {
    "duration": 23,
    "start_time": "2023-07-09T15:28:05.134Z"
   },
   {
    "duration": 14,
    "start_time": "2023-07-09T15:28:05.159Z"
   },
   {
    "duration": 16,
    "start_time": "2023-07-09T15:28:05.174Z"
   },
   {
    "duration": 30,
    "start_time": "2023-07-09T15:28:05.192Z"
   },
   {
    "duration": 34,
    "start_time": "2023-07-09T15:28:05.223Z"
   },
   {
    "duration": 35,
    "start_time": "2023-07-09T15:28:05.258Z"
   },
   {
    "duration": 23,
    "start_time": "2023-07-09T15:28:05.294Z"
   },
   {
    "duration": 448,
    "start_time": "2023-07-09T15:28:05.318Z"
   },
   {
    "duration": 1072,
    "start_time": "2023-07-09T15:28:23.158Z"
   },
   {
    "duration": 2303,
    "start_time": "2023-07-09T15:28:32.816Z"
   },
   {
    "duration": 596,
    "start_time": "2023-07-09T15:28:35.121Z"
   },
   {
    "duration": 864,
    "start_time": "2023-07-09T15:28:35.719Z"
   },
   {
    "duration": 320,
    "start_time": "2023-07-09T15:28:36.585Z"
   },
   {
    "duration": 16,
    "start_time": "2023-07-09T15:28:36.907Z"
   },
   {
    "duration": 99,
    "start_time": "2023-07-09T15:28:36.924Z"
   },
   {
    "duration": 12,
    "start_time": "2023-07-09T15:28:37.025Z"
   },
   {
    "duration": 6,
    "start_time": "2023-07-09T15:28:37.038Z"
   },
   {
    "duration": 189,
    "start_time": "2023-07-09T15:28:37.046Z"
   },
   {
    "duration": 84,
    "start_time": "2023-07-09T15:28:37.237Z"
   },
   {
    "duration": 34,
    "start_time": "2023-07-09T15:28:37.322Z"
   },
   {
    "duration": 174,
    "start_time": "2023-07-09T15:28:37.357Z"
   },
   {
    "duration": 187,
    "start_time": "2023-07-09T15:28:37.533Z"
   },
   {
    "duration": 205,
    "start_time": "2023-07-09T15:28:37.723Z"
   },
   {
    "duration": 37,
    "start_time": "2023-07-09T15:28:37.930Z"
   },
   {
    "duration": 14,
    "start_time": "2023-07-09T15:28:37.969Z"
   },
   {
    "duration": 30,
    "start_time": "2023-07-09T15:28:37.984Z"
   },
   {
    "duration": 47,
    "start_time": "2023-07-09T15:28:38.015Z"
   },
   {
    "duration": 12,
    "start_time": "2023-07-09T15:28:38.064Z"
   },
   {
    "duration": 10,
    "start_time": "2023-07-09T15:28:38.077Z"
   },
   {
    "duration": 45,
    "start_time": "2023-07-09T15:28:38.089Z"
   },
   {
    "duration": 28,
    "start_time": "2023-07-09T15:28:38.135Z"
   },
   {
    "duration": 15,
    "start_time": "2023-07-09T15:28:38.165Z"
   },
   {
    "duration": 403,
    "start_time": "2023-07-09T15:28:38.182Z"
   },
   {
    "duration": 1188,
    "start_time": "2023-07-09T15:30:17.585Z"
   },
   {
    "duration": 2351,
    "start_time": "2023-07-09T15:30:30.038Z"
   },
   {
    "duration": 588,
    "start_time": "2023-07-09T15:30:32.392Z"
   },
   {
    "duration": 829,
    "start_time": "2023-07-09T15:30:32.985Z"
   },
   {
    "duration": 312,
    "start_time": "2023-07-09T15:30:33.816Z"
   },
   {
    "duration": 20,
    "start_time": "2023-07-09T15:30:34.131Z"
   },
   {
    "duration": 108,
    "start_time": "2023-07-09T15:30:34.153Z"
   },
   {
    "duration": 16,
    "start_time": "2023-07-09T15:30:34.263Z"
   },
   {
    "duration": 65,
    "start_time": "2023-07-09T15:30:34.281Z"
   },
   {
    "duration": 79,
    "start_time": "2023-07-09T15:30:34.348Z"
   },
   {
    "duration": 36,
    "start_time": "2023-07-09T15:30:34.428Z"
   },
   {
    "duration": 178,
    "start_time": "2023-07-09T15:30:34.465Z"
   },
   {
    "duration": 181,
    "start_time": "2023-07-09T15:30:34.645Z"
   },
   {
    "duration": 205,
    "start_time": "2023-07-09T15:30:34.829Z"
   },
   {
    "duration": 36,
    "start_time": "2023-07-09T15:30:35.036Z"
   },
   {
    "duration": 40,
    "start_time": "2023-07-09T15:30:35.074Z"
   },
   {
    "duration": 23,
    "start_time": "2023-07-09T15:30:35.116Z"
   },
   {
    "duration": 22,
    "start_time": "2023-07-09T15:30:35.141Z"
   },
   {
    "duration": 26,
    "start_time": "2023-07-09T15:30:35.165Z"
   },
   {
    "duration": 28,
    "start_time": "2023-07-09T15:30:35.192Z"
   },
   {
    "duration": 26,
    "start_time": "2023-07-09T15:30:35.222Z"
   },
   {
    "duration": 33,
    "start_time": "2023-07-09T15:30:35.250Z"
   },
   {
    "duration": 48,
    "start_time": "2023-07-09T15:30:35.285Z"
   },
   {
    "duration": 418,
    "start_time": "2023-07-09T15:30:35.335Z"
   },
   {
    "duration": 2435,
    "start_time": "2023-07-09T15:31:28.674Z"
   },
   {
    "duration": 605,
    "start_time": "2023-07-09T15:31:31.112Z"
   },
   {
    "duration": 829,
    "start_time": "2023-07-09T15:31:31.719Z"
   },
   {
    "duration": 332,
    "start_time": "2023-07-09T15:31:32.550Z"
   },
   {
    "duration": 30,
    "start_time": "2023-07-09T15:31:32.884Z"
   },
   {
    "duration": 102,
    "start_time": "2023-07-09T15:31:32.916Z"
   },
   {
    "duration": 15,
    "start_time": "2023-07-09T15:31:33.021Z"
   },
   {
    "duration": 112,
    "start_time": "2023-07-09T15:31:33.037Z"
   },
   {
    "duration": 78,
    "start_time": "2023-07-09T15:31:33.150Z"
   },
   {
    "duration": 42,
    "start_time": "2023-07-09T15:31:33.230Z"
   },
   {
    "duration": 181,
    "start_time": "2023-07-09T15:31:33.273Z"
   },
   {
    "duration": 210,
    "start_time": "2023-07-09T15:31:33.456Z"
   },
   {
    "duration": 213,
    "start_time": "2023-07-09T15:31:33.668Z"
   },
   {
    "duration": 49,
    "start_time": "2023-07-09T15:31:33.884Z"
   },
   {
    "duration": 15,
    "start_time": "2023-07-09T15:31:33.934Z"
   },
   {
    "duration": 15,
    "start_time": "2023-07-09T15:31:33.950Z"
   },
   {
    "duration": 14,
    "start_time": "2023-07-09T15:31:33.967Z"
   },
   {
    "duration": 14,
    "start_time": "2023-07-09T15:31:34.000Z"
   },
   {
    "duration": 16,
    "start_time": "2023-07-09T15:31:34.017Z"
   },
   {
    "duration": 17,
    "start_time": "2023-07-09T15:31:34.034Z"
   },
   {
    "duration": 34,
    "start_time": "2023-07-09T15:31:34.052Z"
   },
   {
    "duration": 39,
    "start_time": "2023-07-09T15:31:34.088Z"
   },
   {
    "duration": 417,
    "start_time": "2023-07-09T15:31:34.130Z"
   },
   {
    "duration": 2482,
    "start_time": "2023-07-09T15:31:52.323Z"
   },
   {
    "duration": 614,
    "start_time": "2023-07-09T15:31:54.807Z"
   },
   {
    "duration": 915,
    "start_time": "2023-07-09T15:31:55.423Z"
   },
   {
    "duration": 303,
    "start_time": "2023-07-09T15:31:56.340Z"
   },
   {
    "duration": 12,
    "start_time": "2023-07-09T15:31:56.645Z"
   },
   {
    "duration": 99,
    "start_time": "2023-07-09T15:31:56.659Z"
   },
   {
    "duration": 92,
    "start_time": "2023-07-09T15:31:56.761Z"
   },
   {
    "duration": 25,
    "start_time": "2023-07-09T15:31:56.855Z"
   },
   {
    "duration": 181,
    "start_time": "2023-07-09T15:31:56.882Z"
   },
   {
    "duration": 173,
    "start_time": "2023-07-09T15:31:57.065Z"
   },
   {
    "duration": 201,
    "start_time": "2023-07-09T15:31:57.240Z"
   },
   {
    "duration": 75,
    "start_time": "2023-07-09T15:31:57.443Z"
   },
   {
    "duration": 14,
    "start_time": "2023-07-09T15:31:57.520Z"
   },
   {
    "duration": 7,
    "start_time": "2023-07-09T15:31:57.536Z"
   },
   {
    "duration": 21,
    "start_time": "2023-07-09T15:31:57.545Z"
   },
   {
    "duration": 8,
    "start_time": "2023-07-09T15:31:57.568Z"
   },
   {
    "duration": 6,
    "start_time": "2023-07-09T15:31:57.577Z"
   },
   {
    "duration": 22,
    "start_time": "2023-07-09T15:31:57.600Z"
   },
   {
    "duration": 20,
    "start_time": "2023-07-09T15:31:57.624Z"
   },
   {
    "duration": 13,
    "start_time": "2023-07-09T15:31:57.646Z"
   },
   {
    "duration": 413,
    "start_time": "2023-07-09T15:31:57.661Z"
   },
   {
    "duration": 178,
    "start_time": "2023-07-09T15:36:46.326Z"
   },
   {
    "duration": 91,
    "start_time": "2023-07-09T15:37:11.526Z"
   },
   {
    "duration": 2295,
    "start_time": "2023-07-09T15:37:19.765Z"
   },
   {
    "duration": 542,
    "start_time": "2023-07-09T15:37:22.063Z"
   },
   {
    "duration": 820,
    "start_time": "2023-07-09T15:37:22.606Z"
   },
   {
    "duration": 357,
    "start_time": "2023-07-09T15:37:23.428Z"
   },
   {
    "duration": 39,
    "start_time": "2023-07-09T15:37:23.787Z"
   },
   {
    "duration": 108,
    "start_time": "2023-07-09T15:37:23.829Z"
   },
   {
    "duration": 84,
    "start_time": "2023-07-09T15:37:23.939Z"
   },
   {
    "duration": 33,
    "start_time": "2023-07-09T15:37:24.025Z"
   },
   {
    "duration": 205,
    "start_time": "2023-07-09T15:37:24.059Z"
   },
   {
    "duration": 209,
    "start_time": "2023-07-09T15:37:24.267Z"
   },
   {
    "duration": 235,
    "start_time": "2023-07-09T15:37:24.482Z"
   },
   {
    "duration": 62,
    "start_time": "2023-07-09T15:37:24.719Z"
   },
   {
    "duration": 29,
    "start_time": "2023-07-09T15:37:24.782Z"
   },
   {
    "duration": 31,
    "start_time": "2023-07-09T15:37:24.813Z"
   },
   {
    "duration": 30,
    "start_time": "2023-07-09T15:37:24.846Z"
   },
   {
    "duration": 14,
    "start_time": "2023-07-09T15:37:24.878Z"
   },
   {
    "duration": 6,
    "start_time": "2023-07-09T15:37:24.893Z"
   },
   {
    "duration": 32,
    "start_time": "2023-07-09T15:37:24.900Z"
   },
   {
    "duration": 19,
    "start_time": "2023-07-09T15:37:24.933Z"
   },
   {
    "duration": 21,
    "start_time": "2023-07-09T15:37:24.954Z"
   },
   {
    "duration": 417,
    "start_time": "2023-07-09T15:37:24.977Z"
   },
   {
    "duration": 181,
    "start_time": "2023-07-09T15:45:17.314Z"
   },
   {
    "duration": 2349,
    "start_time": "2023-07-09T15:45:25.116Z"
   },
   {
    "duration": 550,
    "start_time": "2023-07-09T15:45:27.467Z"
   },
   {
    "duration": 833,
    "start_time": "2023-07-09T15:45:28.019Z"
   },
   {
    "duration": 378,
    "start_time": "2023-07-09T15:45:28.853Z"
   },
   {
    "duration": 13,
    "start_time": "2023-07-09T15:45:29.233Z"
   },
   {
    "duration": 111,
    "start_time": "2023-07-09T15:45:29.248Z"
   },
   {
    "duration": 74,
    "start_time": "2023-07-09T15:45:29.360Z"
   },
   {
    "duration": 25,
    "start_time": "2023-07-09T15:45:29.436Z"
   },
   {
    "duration": 178,
    "start_time": "2023-07-09T15:45:29.463Z"
   },
   {
    "duration": 194,
    "start_time": "2023-07-09T15:45:29.642Z"
   },
   {
    "duration": 242,
    "start_time": "2023-07-09T15:45:29.838Z"
   },
   {
    "duration": 63,
    "start_time": "2023-07-09T15:45:30.082Z"
   },
   {
    "duration": 18,
    "start_time": "2023-07-09T15:45:30.147Z"
   },
   {
    "duration": 51,
    "start_time": "2023-07-09T15:45:30.167Z"
   },
   {
    "duration": 54,
    "start_time": "2023-07-09T15:45:30.220Z"
   },
   {
    "duration": 38,
    "start_time": "2023-07-09T15:45:30.276Z"
   },
   {
    "duration": 23,
    "start_time": "2023-07-09T15:45:30.316Z"
   },
   {
    "duration": 40,
    "start_time": "2023-07-09T15:45:30.340Z"
   },
   {
    "duration": 60,
    "start_time": "2023-07-09T15:45:30.381Z"
   },
   {
    "duration": 24,
    "start_time": "2023-07-09T15:45:30.444Z"
   },
   {
    "duration": 498,
    "start_time": "2023-07-09T15:45:30.470Z"
   },
   {
    "duration": 35,
    "start_time": "2023-07-09T15:49:25.820Z"
   },
   {
    "duration": 16,
    "start_time": "2023-07-09T15:52:43.477Z"
   },
   {
    "duration": 17,
    "start_time": "2023-07-09T15:52:49.515Z"
   },
   {
    "duration": 14,
    "start_time": "2023-07-09T16:04:06.526Z"
   },
   {
    "duration": 16,
    "start_time": "2023-07-09T16:04:21.244Z"
   },
   {
    "duration": 22,
    "start_time": "2023-07-09T16:05:36.910Z"
   },
   {
    "duration": 33,
    "start_time": "2023-07-09T16:09:45.403Z"
   },
   {
    "duration": 92,
    "start_time": "2023-07-09T16:10:50.997Z"
   },
   {
    "duration": 28,
    "start_time": "2023-07-09T16:23:09.289Z"
   },
   {
    "duration": 36,
    "start_time": "2023-07-09T16:23:53.796Z"
   },
   {
    "duration": 19,
    "start_time": "2023-07-09T16:24:02.467Z"
   },
   {
    "duration": 17,
    "start_time": "2023-07-09T16:26:04.561Z"
   },
   {
    "duration": 25,
    "start_time": "2023-07-09T16:27:30.720Z"
   },
   {
    "duration": 20,
    "start_time": "2023-07-09T16:29:25.125Z"
   },
   {
    "duration": 29,
    "start_time": "2023-07-09T16:36:07.007Z"
   },
   {
    "duration": 20,
    "start_time": "2023-07-09T16:36:21.153Z"
   },
   {
    "duration": 88,
    "start_time": "2023-07-09T16:38:05.270Z"
   },
   {
    "duration": 30,
    "start_time": "2023-07-09T16:38:53.905Z"
   },
   {
    "duration": 130,
    "start_time": "2023-07-09T16:53:16.912Z"
   },
   {
    "duration": 27,
    "start_time": "2023-07-09T16:53:35.415Z"
   },
   {
    "duration": 164,
    "start_time": "2023-07-09T17:23:06.711Z"
   },
   {
    "duration": 7,
    "start_time": "2023-07-09T17:24:29.258Z"
   },
   {
    "duration": 6,
    "start_time": "2023-07-09T17:24:41.173Z"
   },
   {
    "duration": 23,
    "start_time": "2023-07-09T17:27:36.520Z"
   },
   {
    "duration": 2317,
    "start_time": "2023-07-09T17:28:01.794Z"
   },
   {
    "duration": 603,
    "start_time": "2023-07-09T17:28:04.113Z"
   },
   {
    "duration": 812,
    "start_time": "2023-07-09T17:28:04.718Z"
   },
   {
    "duration": 309,
    "start_time": "2023-07-09T17:28:05.532Z"
   },
   {
    "duration": 26,
    "start_time": "2023-07-09T17:28:05.843Z"
   },
   {
    "duration": 91,
    "start_time": "2023-07-09T17:28:05.871Z"
   },
   {
    "duration": 80,
    "start_time": "2023-07-09T17:28:05.963Z"
   },
   {
    "duration": 25,
    "start_time": "2023-07-09T17:28:06.045Z"
   },
   {
    "duration": 166,
    "start_time": "2023-07-09T17:28:06.072Z"
   },
   {
    "duration": 212,
    "start_time": "2023-07-09T17:28:06.240Z"
   },
   {
    "duration": 230,
    "start_time": "2023-07-09T17:28:06.455Z"
   },
   {
    "duration": 77,
    "start_time": "2023-07-09T17:28:06.687Z"
   },
   {
    "duration": 392,
    "start_time": "2023-07-09T17:28:06.766Z"
   },
   {
    "duration": 32,
    "start_time": "2023-07-09T17:28:07.161Z"
   },
   {
    "duration": 26,
    "start_time": "2023-07-09T17:28:07.195Z"
   },
   {
    "duration": 34,
    "start_time": "2023-07-09T17:28:07.223Z"
   },
   {
    "duration": 7,
    "start_time": "2023-07-09T17:28:07.259Z"
   },
   {
    "duration": 54,
    "start_time": "2023-07-09T17:28:07.268Z"
   },
   {
    "duration": 14,
    "start_time": "2023-07-09T17:28:07.323Z"
   },
   {
    "duration": 24,
    "start_time": "2023-07-09T17:28:07.339Z"
   },
   {
    "duration": 7,
    "start_time": "2023-07-09T17:28:07.364Z"
   },
   {
    "duration": 179,
    "start_time": "2023-07-09T17:28:07.372Z"
   },
   {
    "duration": 16,
    "start_time": "2023-07-09T17:28:07.553Z"
   },
   {
    "duration": 15,
    "start_time": "2023-07-09T17:28:07.570Z"
   },
   {
    "duration": 29,
    "start_time": "2023-07-09T17:28:07.586Z"
   },
   {
    "duration": 14,
    "start_time": "2023-07-09T17:28:07.617Z"
   },
   {
    "duration": 17,
    "start_time": "2023-07-09T17:28:07.633Z"
   },
   {
    "duration": 17,
    "start_time": "2023-07-09T17:28:07.652Z"
   },
   {
    "duration": 43,
    "start_time": "2023-07-09T17:28:07.670Z"
   },
   {
    "duration": 16,
    "start_time": "2023-07-09T17:28:07.718Z"
   },
   {
    "duration": 379,
    "start_time": "2023-07-09T17:28:14.971Z"
   },
   {
    "duration": 169,
    "start_time": "2023-07-09T17:40:37.213Z"
   },
   {
    "duration": 498,
    "start_time": "2023-07-09T20:22:16.874Z"
   },
   {
    "duration": 13,
    "start_time": "2023-07-09T20:22:31.145Z"
   },
   {
    "duration": 5,
    "start_time": "2023-07-09T20:23:01.985Z"
   },
   {
    "duration": 167,
    "start_time": "2023-07-09T20:35:30.738Z"
   },
   {
    "duration": 469,
    "start_time": "2023-07-09T20:36:08.446Z"
   },
   {
    "duration": 3,
    "start_time": "2023-07-09T20:36:24.515Z"
   },
   {
    "duration": 2199,
    "start_time": "2023-07-09T20:36:28.188Z"
   },
   {
    "duration": 1101,
    "start_time": "2023-07-09T20:36:30.389Z"
   },
   {
    "duration": 843,
    "start_time": "2023-07-09T20:36:31.492Z"
   },
   {
    "duration": 329,
    "start_time": "2023-07-09T20:36:32.337Z"
   },
   {
    "duration": 13,
    "start_time": "2023-07-09T20:36:32.668Z"
   },
   {
    "duration": 97,
    "start_time": "2023-07-09T20:36:32.683Z"
   },
   {
    "duration": 81,
    "start_time": "2023-07-09T20:36:32.782Z"
   },
   {
    "duration": 45,
    "start_time": "2023-07-09T20:36:32.864Z"
   },
   {
    "duration": 159,
    "start_time": "2023-07-09T20:36:32.914Z"
   },
   {
    "duration": 195,
    "start_time": "2023-07-09T20:36:33.075Z"
   },
   {
    "duration": 204,
    "start_time": "2023-07-09T20:36:33.271Z"
   },
   {
    "duration": 86,
    "start_time": "2023-07-09T20:36:33.478Z"
   },
   {
    "duration": 399,
    "start_time": "2023-07-09T20:36:33.566Z"
   },
   {
    "duration": 23,
    "start_time": "2023-07-09T20:36:33.967Z"
   },
   {
    "duration": 21,
    "start_time": "2023-07-09T20:36:34.000Z"
   },
   {
    "duration": 15,
    "start_time": "2023-07-09T20:36:34.023Z"
   },
   {
    "duration": 7,
    "start_time": "2023-07-09T20:36:34.040Z"
   },
   {
    "duration": 24,
    "start_time": "2023-07-09T20:36:34.049Z"
   },
   {
    "duration": 55,
    "start_time": "2023-07-09T20:36:34.075Z"
   },
   {
    "duration": 14,
    "start_time": "2023-07-09T20:36:34.131Z"
   },
   {
    "duration": 9,
    "start_time": "2023-07-09T20:36:34.147Z"
   },
   {
    "duration": 122,
    "start_time": "2023-07-09T20:36:34.157Z"
   },
   {
    "duration": 0,
    "start_time": "2023-07-09T20:36:34.280Z"
   },
   {
    "duration": 0,
    "start_time": "2023-07-09T20:36:34.281Z"
   },
   {
    "duration": 0,
    "start_time": "2023-07-09T20:36:34.282Z"
   },
   {
    "duration": 0,
    "start_time": "2023-07-09T20:36:34.284Z"
   },
   {
    "duration": 0,
    "start_time": "2023-07-09T20:36:34.284Z"
   },
   {
    "duration": 0,
    "start_time": "2023-07-09T20:36:34.285Z"
   },
   {
    "duration": 0,
    "start_time": "2023-07-09T20:36:34.286Z"
   },
   {
    "duration": 0,
    "start_time": "2023-07-09T20:36:34.286Z"
   },
   {
    "duration": 0,
    "start_time": "2023-07-09T20:36:34.305Z"
   },
   {
    "duration": 0,
    "start_time": "2023-07-09T20:36:34.306Z"
   },
   {
    "duration": 0,
    "start_time": "2023-07-09T20:36:34.306Z"
   },
   {
    "duration": 0,
    "start_time": "2023-07-09T20:36:34.307Z"
   },
   {
    "duration": 0,
    "start_time": "2023-07-09T20:36:34.307Z"
   },
   {
    "duration": 2608,
    "start_time": "2023-07-09T20:37:44.916Z"
   },
   {
    "duration": 1086,
    "start_time": "2023-07-09T20:37:47.527Z"
   },
   {
    "duration": 829,
    "start_time": "2023-07-09T20:37:48.616Z"
   },
   {
    "duration": 334,
    "start_time": "2023-07-09T20:37:49.447Z"
   },
   {
    "duration": 35,
    "start_time": "2023-07-09T20:37:49.783Z"
   },
   {
    "duration": 100,
    "start_time": "2023-07-09T20:37:49.820Z"
   },
   {
    "duration": 66,
    "start_time": "2023-07-09T20:37:49.922Z"
   },
   {
    "duration": 40,
    "start_time": "2023-07-09T20:37:49.989Z"
   },
   {
    "duration": 163,
    "start_time": "2023-07-09T20:37:50.031Z"
   },
   {
    "duration": 209,
    "start_time": "2023-07-09T20:37:50.196Z"
   },
   {
    "duration": 202,
    "start_time": "2023-07-09T20:37:50.418Z"
   },
   {
    "duration": 54,
    "start_time": "2023-07-09T20:37:50.621Z"
   },
   {
    "duration": 416,
    "start_time": "2023-07-09T20:37:50.677Z"
   },
   {
    "duration": 29,
    "start_time": "2023-07-09T20:37:51.099Z"
   },
   {
    "duration": 15,
    "start_time": "2023-07-09T20:37:51.129Z"
   },
   {
    "duration": 23,
    "start_time": "2023-07-09T20:37:51.146Z"
   },
   {
    "duration": 47,
    "start_time": "2023-07-09T20:37:51.170Z"
   },
   {
    "duration": 41,
    "start_time": "2023-07-09T20:37:51.219Z"
   },
   {
    "duration": 13,
    "start_time": "2023-07-09T20:37:51.262Z"
   },
   {
    "duration": 50,
    "start_time": "2023-07-09T20:37:51.276Z"
   },
   {
    "duration": 17,
    "start_time": "2023-07-09T20:37:51.328Z"
   },
   {
    "duration": 173,
    "start_time": "2023-07-09T20:37:51.347Z"
   },
   {
    "duration": 16,
    "start_time": "2023-07-09T20:37:51.522Z"
   },
   {
    "duration": 25,
    "start_time": "2023-07-09T20:37:51.539Z"
   },
   {
    "duration": 13,
    "start_time": "2023-07-09T20:37:51.566Z"
   },
   {
    "duration": 35,
    "start_time": "2023-07-09T20:37:51.581Z"
   },
   {
    "duration": 26,
    "start_time": "2023-07-09T20:37:51.619Z"
   },
   {
    "duration": 28,
    "start_time": "2023-07-09T20:37:51.647Z"
   },
   {
    "duration": 41,
    "start_time": "2023-07-09T20:37:51.677Z"
   },
   {
    "duration": 27,
    "start_time": "2023-07-09T20:37:51.721Z"
   },
   {
    "duration": 403,
    "start_time": "2023-07-09T20:37:51.750Z"
   },
   {
    "duration": 194,
    "start_time": "2023-07-09T20:37:52.154Z"
   },
   {
    "duration": 474,
    "start_time": "2023-07-09T20:37:52.350Z"
   },
   {
    "duration": 6,
    "start_time": "2023-07-09T20:37:52.827Z"
   },
   {
    "duration": 603,
    "start_time": "2023-07-09T20:37:52.836Z"
   },
   {
    "duration": 7,
    "start_time": "2023-07-09T20:38:44.750Z"
   },
   {
    "duration": 4,
    "start_time": "2023-07-09T20:38:51.545Z"
   },
   {
    "duration": 4,
    "start_time": "2023-07-09T20:42:00.551Z"
   },
   {
    "duration": 19,
    "start_time": "2023-07-09T20:42:45.694Z"
   },
   {
    "duration": 134,
    "start_time": "2023-07-09T20:43:23.917Z"
   },
   {
    "duration": 3,
    "start_time": "2023-07-09T20:43:44.633Z"
   },
   {
    "duration": 87,
    "start_time": "2023-07-09T20:43:49.327Z"
   },
   {
    "duration": 92,
    "start_time": "2023-07-09T20:54:44.933Z"
   },
   {
    "duration": 20,
    "start_time": "2023-07-09T20:57:06.804Z"
   },
   {
    "duration": 2429,
    "start_time": "2023-07-09T20:57:47.017Z"
   },
   {
    "duration": 1047,
    "start_time": "2023-07-09T20:57:49.448Z"
   },
   {
    "duration": 827,
    "start_time": "2023-07-09T20:57:50.497Z"
   },
   {
    "duration": 340,
    "start_time": "2023-07-09T20:57:51.325Z"
   },
   {
    "duration": 13,
    "start_time": "2023-07-09T20:57:51.667Z"
   },
   {
    "duration": 91,
    "start_time": "2023-07-09T20:57:51.681Z"
   },
   {
    "duration": 46,
    "start_time": "2023-07-09T20:57:51.774Z"
   },
   {
    "duration": 192,
    "start_time": "2023-07-09T20:57:51.821Z"
   },
   {
    "duration": 184,
    "start_time": "2023-07-09T20:57:52.015Z"
   },
   {
    "duration": 212,
    "start_time": "2023-07-09T20:57:52.210Z"
   },
   {
    "duration": 46,
    "start_time": "2023-07-09T20:57:52.424Z"
   },
   {
    "duration": 366,
    "start_time": "2023-07-09T20:57:52.471Z"
   },
   {
    "duration": 28,
    "start_time": "2023-07-09T20:57:52.838Z"
   },
   {
    "duration": 41,
    "start_time": "2023-07-09T20:57:52.868Z"
   },
   {
    "duration": 22,
    "start_time": "2023-07-09T20:57:52.911Z"
   },
   {
    "duration": 16,
    "start_time": "2023-07-09T20:57:52.935Z"
   },
   {
    "duration": 34,
    "start_time": "2023-07-09T20:57:52.953Z"
   },
   {
    "duration": 29,
    "start_time": "2023-07-09T20:57:52.988Z"
   },
   {
    "duration": 18,
    "start_time": "2023-07-09T20:57:53.018Z"
   },
   {
    "duration": 7,
    "start_time": "2023-07-09T20:57:53.038Z"
   },
   {
    "duration": 169,
    "start_time": "2023-07-09T20:57:53.047Z"
   },
   {
    "duration": 16,
    "start_time": "2023-07-09T20:57:53.218Z"
   },
   {
    "duration": 16,
    "start_time": "2023-07-09T20:57:53.235Z"
   },
   {
    "duration": 5,
    "start_time": "2023-07-09T20:57:53.253Z"
   },
   {
    "duration": 15,
    "start_time": "2023-07-09T20:57:53.260Z"
   },
   {
    "duration": 21,
    "start_time": "2023-07-09T20:57:53.299Z"
   },
   {
    "duration": 24,
    "start_time": "2023-07-09T20:57:53.322Z"
   },
   {
    "duration": 13,
    "start_time": "2023-07-09T20:57:53.348Z"
   },
   {
    "duration": 16,
    "start_time": "2023-07-09T20:57:53.363Z"
   },
   {
    "duration": 356,
    "start_time": "2023-07-09T20:57:53.380Z"
   },
   {
    "duration": 172,
    "start_time": "2023-07-09T20:57:53.737Z"
   },
   {
    "duration": 414,
    "start_time": "2023-07-09T20:57:53.914Z"
   },
   {
    "duration": 4,
    "start_time": "2023-07-09T20:57:54.330Z"
   },
   {
    "duration": 524,
    "start_time": "2023-07-09T20:57:54.335Z"
   },
   {
    "duration": 3,
    "start_time": "2023-07-09T20:57:54.861Z"
   },
   {
    "duration": 15,
    "start_time": "2023-07-09T20:57:54.865Z"
   },
   {
    "duration": 5,
    "start_time": "2023-07-09T20:57:54.882Z"
   },
   {
    "duration": 4952,
    "start_time": "2023-07-09T20:57:54.894Z"
   },
   {
    "duration": 30,
    "start_time": "2023-07-09T20:58:39.585Z"
   },
   {
    "duration": 2199,
    "start_time": "2023-07-09T20:59:41.747Z"
   },
   {
    "duration": 1064,
    "start_time": "2023-07-09T20:59:43.949Z"
   },
   {
    "duration": 832,
    "start_time": "2023-07-09T20:59:45.018Z"
   },
   {
    "duration": 332,
    "start_time": "2023-07-09T20:59:45.852Z"
   },
   {
    "duration": 33,
    "start_time": "2023-07-09T20:59:46.185Z"
   },
   {
    "duration": 93,
    "start_time": "2023-07-09T20:59:46.220Z"
   },
   {
    "duration": 29,
    "start_time": "2023-07-09T20:59:46.315Z"
   },
   {
    "duration": 241,
    "start_time": "2023-07-09T20:59:46.347Z"
   },
   {
    "duration": 215,
    "start_time": "2023-07-09T20:59:46.590Z"
   },
   {
    "duration": 203,
    "start_time": "2023-07-09T20:59:46.810Z"
   },
   {
    "duration": 49,
    "start_time": "2023-07-09T20:59:47.014Z"
   },
   {
    "duration": 402,
    "start_time": "2023-07-09T20:59:47.065Z"
   },
   {
    "duration": 48,
    "start_time": "2023-07-09T20:59:47.470Z"
   },
   {
    "duration": 17,
    "start_time": "2023-07-09T20:59:47.520Z"
   },
   {
    "duration": 19,
    "start_time": "2023-07-09T20:59:47.539Z"
   },
   {
    "duration": 6,
    "start_time": "2023-07-09T20:59:47.559Z"
   },
   {
    "duration": 49,
    "start_time": "2023-07-09T20:59:47.567Z"
   },
   {
    "duration": 14,
    "start_time": "2023-07-09T20:59:47.618Z"
   },
   {
    "duration": 23,
    "start_time": "2023-07-09T20:59:47.633Z"
   },
   {
    "duration": 10,
    "start_time": "2023-07-09T20:59:47.657Z"
   },
   {
    "duration": 184,
    "start_time": "2023-07-09T20:59:47.668Z"
   },
   {
    "duration": 15,
    "start_time": "2023-07-09T20:59:47.854Z"
   },
   {
    "duration": 16,
    "start_time": "2023-07-09T20:59:47.871Z"
   },
   {
    "duration": 14,
    "start_time": "2023-07-09T20:59:47.906Z"
   },
   {
    "duration": 18,
    "start_time": "2023-07-09T20:59:47.922Z"
   },
   {
    "duration": 26,
    "start_time": "2023-07-09T20:59:47.941Z"
   },
   {
    "duration": 16,
    "start_time": "2023-07-09T20:59:47.969Z"
   },
   {
    "duration": 42,
    "start_time": "2023-07-09T20:59:47.987Z"
   },
   {
    "duration": 15,
    "start_time": "2023-07-09T20:59:48.030Z"
   },
   {
    "duration": 332,
    "start_time": "2023-07-09T20:59:48.046Z"
   },
   {
    "duration": 170,
    "start_time": "2023-07-09T20:59:48.379Z"
   },
   {
    "duration": 436,
    "start_time": "2023-07-09T20:59:48.550Z"
   },
   {
    "duration": 4,
    "start_time": "2023-07-09T20:59:48.988Z"
   },
   {
    "duration": 493,
    "start_time": "2023-07-09T20:59:48.993Z"
   },
   {
    "duration": 4,
    "start_time": "2023-07-09T20:59:49.487Z"
   },
   {
    "duration": 30,
    "start_time": "2023-07-09T20:59:49.493Z"
   },
   {
    "duration": 30,
    "start_time": "2023-07-09T20:59:49.525Z"
   },
   {
    "duration": 5103,
    "start_time": "2023-07-09T20:59:49.557Z"
   },
   {
    "duration": 18,
    "start_time": "2023-07-09T20:59:54.662Z"
   },
   {
    "duration": 33040,
    "start_time": "2023-07-09T21:00:31.488Z"
   },
   {
    "duration": 6,
    "start_time": "2023-07-09T21:01:08.412Z"
   },
   {
    "duration": 2558,
    "start_time": "2023-07-09T21:01:29.331Z"
   },
   {
    "duration": 1070,
    "start_time": "2023-07-09T21:01:31.891Z"
   },
   {
    "duration": 809,
    "start_time": "2023-07-09T21:01:32.962Z"
   },
   {
    "duration": 320,
    "start_time": "2023-07-09T21:01:33.772Z"
   },
   {
    "duration": 41,
    "start_time": "2023-07-09T21:01:34.100Z"
   },
   {
    "duration": 101,
    "start_time": "2023-07-09T21:01:34.143Z"
   },
   {
    "duration": 28,
    "start_time": "2023-07-09T21:01:34.245Z"
   },
   {
    "duration": 190,
    "start_time": "2023-07-09T21:01:34.274Z"
   },
   {
    "duration": 202,
    "start_time": "2023-07-09T21:01:34.465Z"
   },
   {
    "duration": 187,
    "start_time": "2023-07-09T21:01:34.669Z"
   },
   {
    "duration": 61,
    "start_time": "2023-07-09T21:01:34.858Z"
   },
   {
    "duration": 375,
    "start_time": "2023-07-09T21:01:34.921Z"
   },
   {
    "duration": 23,
    "start_time": "2023-07-09T21:01:35.298Z"
   },
   {
    "duration": 36,
    "start_time": "2023-07-09T21:01:35.325Z"
   },
   {
    "duration": 57,
    "start_time": "2023-07-09T21:01:35.363Z"
   },
   {
    "duration": 18,
    "start_time": "2023-07-09T21:01:35.422Z"
   },
   {
    "duration": 23,
    "start_time": "2023-07-09T21:01:35.442Z"
   },
   {
    "duration": 14,
    "start_time": "2023-07-09T21:01:35.467Z"
   },
   {
    "duration": 60,
    "start_time": "2023-07-09T21:01:35.482Z"
   },
   {
    "duration": 18,
    "start_time": "2023-07-09T21:01:35.544Z"
   },
   {
    "duration": 156,
    "start_time": "2023-07-09T21:01:35.563Z"
   },
   {
    "duration": 14,
    "start_time": "2023-07-09T21:01:35.721Z"
   },
   {
    "duration": 28,
    "start_time": "2023-07-09T21:01:35.736Z"
   },
   {
    "duration": 11,
    "start_time": "2023-07-09T21:01:35.766Z"
   },
   {
    "duration": 36,
    "start_time": "2023-07-09T21:01:35.779Z"
   },
   {
    "duration": 16,
    "start_time": "2023-07-09T21:01:35.816Z"
   },
   {
    "duration": 25,
    "start_time": "2023-07-09T21:01:35.834Z"
   },
   {
    "duration": 16,
    "start_time": "2023-07-09T21:01:35.861Z"
   },
   {
    "duration": 26,
    "start_time": "2023-07-09T21:01:35.879Z"
   },
   {
    "duration": 374,
    "start_time": "2023-07-09T21:01:35.906Z"
   },
   {
    "duration": 169,
    "start_time": "2023-07-09T21:01:36.282Z"
   },
   {
    "duration": 419,
    "start_time": "2023-07-09T21:01:36.452Z"
   },
   {
    "duration": 5,
    "start_time": "2023-07-09T21:01:36.873Z"
   },
   {
    "duration": 515,
    "start_time": "2023-07-09T21:01:36.879Z"
   },
   {
    "duration": 7,
    "start_time": "2023-07-09T21:01:37.395Z"
   },
   {
    "duration": 17,
    "start_time": "2023-07-09T21:01:37.404Z"
   },
   {
    "duration": 9,
    "start_time": "2023-07-09T21:01:37.423Z"
   },
   {
    "duration": 5023,
    "start_time": "2023-07-09T21:01:37.434Z"
   },
   {
    "duration": 20,
    "start_time": "2023-07-09T21:01:42.459Z"
   },
   {
    "duration": 7,
    "start_time": "2023-07-09T21:01:53.715Z"
   },
   {
    "duration": 33950,
    "start_time": "2023-07-09T21:02:01.914Z"
   },
   {
    "duration": 1692,
    "start_time": "2023-07-09T21:03:14.675Z"
   },
   {
    "duration": 126,
    "start_time": "2023-07-09T21:03:18.753Z"
   },
   {
    "duration": 2248,
    "start_time": "2023-07-09T21:03:33.180Z"
   },
   {
    "duration": 1115,
    "start_time": "2023-07-09T21:03:35.431Z"
   },
   {
    "duration": 849,
    "start_time": "2023-07-09T21:03:36.548Z"
   },
   {
    "duration": 334,
    "start_time": "2023-07-09T21:03:37.405Z"
   },
   {
    "duration": 15,
    "start_time": "2023-07-09T21:03:37.740Z"
   },
   {
    "duration": 113,
    "start_time": "2023-07-09T21:03:37.756Z"
   },
   {
    "duration": 50,
    "start_time": "2023-07-09T21:03:37.870Z"
   },
   {
    "duration": 194,
    "start_time": "2023-07-09T21:03:37.921Z"
   },
   {
    "duration": 251,
    "start_time": "2023-07-09T21:03:38.116Z"
   },
   {
    "duration": 203,
    "start_time": "2023-07-09T21:03:38.370Z"
   },
   {
    "duration": 66,
    "start_time": "2023-07-09T21:03:38.574Z"
   },
   {
    "duration": 371,
    "start_time": "2023-07-09T21:03:38.642Z"
   },
   {
    "duration": 24,
    "start_time": "2023-07-09T21:03:39.015Z"
   },
   {
    "duration": 15,
    "start_time": "2023-07-09T21:03:39.041Z"
   },
   {
    "duration": 18,
    "start_time": "2023-07-09T21:03:39.058Z"
   },
   {
    "duration": 32,
    "start_time": "2023-07-09T21:03:39.077Z"
   },
   {
    "duration": 21,
    "start_time": "2023-07-09T21:03:39.113Z"
   },
   {
    "duration": 13,
    "start_time": "2023-07-09T21:03:39.135Z"
   },
   {
    "duration": 18,
    "start_time": "2023-07-09T21:03:39.149Z"
   },
   {
    "duration": 7,
    "start_time": "2023-07-09T21:03:39.169Z"
   },
   {
    "duration": 200,
    "start_time": "2023-07-09T21:03:39.178Z"
   },
   {
    "duration": 25,
    "start_time": "2023-07-09T21:03:39.380Z"
   },
   {
    "duration": 36,
    "start_time": "2023-07-09T21:03:39.406Z"
   },
   {
    "duration": 12,
    "start_time": "2023-07-09T21:03:39.444Z"
   },
   {
    "duration": 19,
    "start_time": "2023-07-09T21:03:39.458Z"
   },
   {
    "duration": 24,
    "start_time": "2023-07-09T21:03:39.479Z"
   },
   {
    "duration": 27,
    "start_time": "2023-07-09T21:03:39.504Z"
   },
   {
    "duration": 14,
    "start_time": "2023-07-09T21:03:39.534Z"
   },
   {
    "duration": 25,
    "start_time": "2023-07-09T21:03:39.549Z"
   },
   {
    "duration": 342,
    "start_time": "2023-07-09T21:03:39.576Z"
   },
   {
    "duration": 156,
    "start_time": "2023-07-09T21:03:39.920Z"
   },
   {
    "duration": 478,
    "start_time": "2023-07-09T21:03:40.078Z"
   },
   {
    "duration": 4,
    "start_time": "2023-07-09T21:03:40.558Z"
   },
   {
    "duration": 505,
    "start_time": "2023-07-09T21:03:40.564Z"
   },
   {
    "duration": 4,
    "start_time": "2023-07-09T21:03:41.070Z"
   },
   {
    "duration": 9,
    "start_time": "2023-07-09T21:03:41.076Z"
   },
   {
    "duration": 26,
    "start_time": "2023-07-09T21:03:41.088Z"
   },
   {
    "duration": 1527,
    "start_time": "2023-07-09T21:03:41.118Z"
   },
   {
    "duration": 112,
    "start_time": "2023-07-09T21:03:42.647Z"
   },
   {
    "duration": 5,
    "start_time": "2023-07-09T21:03:50.253Z"
   },
   {
    "duration": 12,
    "start_time": "2023-07-09T21:04:55.530Z"
   },
   {
    "duration": 2323,
    "start_time": "2023-07-09T21:05:06.293Z"
   },
   {
    "duration": 1064,
    "start_time": "2023-07-09T21:05:08.618Z"
   },
   {
    "duration": 849,
    "start_time": "2023-07-09T21:05:09.684Z"
   },
   {
    "duration": 338,
    "start_time": "2023-07-09T21:05:10.535Z"
   },
   {
    "duration": 38,
    "start_time": "2023-07-09T21:05:10.875Z"
   },
   {
    "duration": 86,
    "start_time": "2023-07-09T21:05:10.914Z"
   },
   {
    "duration": 28,
    "start_time": "2023-07-09T21:05:11.014Z"
   },
   {
    "duration": 174,
    "start_time": "2023-07-09T21:05:11.044Z"
   },
   {
    "duration": 199,
    "start_time": "2023-07-09T21:05:11.219Z"
   },
   {
    "duration": 198,
    "start_time": "2023-07-09T21:05:11.419Z"
   },
   {
    "duration": 51,
    "start_time": "2023-07-09T21:05:11.619Z"
   },
   {
    "duration": 369,
    "start_time": "2023-07-09T21:05:11.672Z"
   },
   {
    "duration": 26,
    "start_time": "2023-07-09T21:05:12.042Z"
   },
   {
    "duration": 34,
    "start_time": "2023-07-09T21:05:12.071Z"
   },
   {
    "duration": 19,
    "start_time": "2023-07-09T21:05:12.106Z"
   },
   {
    "duration": 6,
    "start_time": "2023-07-09T21:05:12.126Z"
   },
   {
    "duration": 32,
    "start_time": "2023-07-09T21:05:12.135Z"
   },
   {
    "duration": 45,
    "start_time": "2023-07-09T21:05:12.168Z"
   },
   {
    "duration": 26,
    "start_time": "2023-07-09T21:05:12.214Z"
   },
   {
    "duration": 9,
    "start_time": "2023-07-09T21:05:12.242Z"
   },
   {
    "duration": 163,
    "start_time": "2023-07-09T21:05:12.252Z"
   },
   {
    "duration": 15,
    "start_time": "2023-07-09T21:05:12.417Z"
   },
   {
    "duration": 23,
    "start_time": "2023-07-09T21:05:12.434Z"
   },
   {
    "duration": 7,
    "start_time": "2023-07-09T21:05:12.459Z"
   },
   {
    "duration": 38,
    "start_time": "2023-07-09T21:05:12.467Z"
   },
   {
    "duration": 25,
    "start_time": "2023-07-09T21:05:12.506Z"
   },
   {
    "duration": 21,
    "start_time": "2023-07-09T21:05:12.532Z"
   },
   {
    "duration": 12,
    "start_time": "2023-07-09T21:05:12.555Z"
   },
   {
    "duration": 20,
    "start_time": "2023-07-09T21:05:12.569Z"
   },
   {
    "duration": 322,
    "start_time": "2023-07-09T21:05:12.591Z"
   },
   {
    "duration": 173,
    "start_time": "2023-07-09T21:05:12.915Z"
   },
   {
    "duration": 434,
    "start_time": "2023-07-09T21:05:13.090Z"
   },
   {
    "duration": 4,
    "start_time": "2023-07-09T21:05:13.525Z"
   },
   {
    "duration": 529,
    "start_time": "2023-07-09T21:05:13.531Z"
   },
   {
    "duration": 5,
    "start_time": "2023-07-09T21:05:14.061Z"
   },
   {
    "duration": 17,
    "start_time": "2023-07-09T21:05:14.067Z"
   },
   {
    "duration": 14,
    "start_time": "2023-07-09T21:05:14.086Z"
   },
   {
    "duration": 5008,
    "start_time": "2023-07-09T21:05:14.101Z"
   },
   {
    "duration": 127,
    "start_time": "2023-07-09T21:05:19.110Z"
   },
   {
    "duration": 17,
    "start_time": "2023-07-09T21:06:02.757Z"
   },
   {
    "duration": 3,
    "start_time": "2023-07-09T21:07:07.583Z"
   },
   {
    "duration": 33088,
    "start_time": "2023-07-09T21:07:15.191Z"
   },
   {
    "duration": 38,
    "start_time": "2023-07-09T21:07:48.280Z"
   },
   {
    "duration": 2256,
    "start_time": "2023-07-09T21:08:38.131Z"
   },
   {
    "duration": 1009,
    "start_time": "2023-07-09T21:08:40.389Z"
   },
   {
    "duration": 811,
    "start_time": "2023-07-09T21:08:41.406Z"
   },
   {
    "duration": 309,
    "start_time": "2023-07-09T21:08:42.219Z"
   },
   {
    "duration": 13,
    "start_time": "2023-07-09T21:08:42.530Z"
   },
   {
    "duration": 101,
    "start_time": "2023-07-09T21:08:42.544Z"
   },
   {
    "duration": 29,
    "start_time": "2023-07-09T21:08:42.646Z"
   },
   {
    "duration": 192,
    "start_time": "2023-07-09T21:08:42.676Z"
   },
   {
    "duration": 200,
    "start_time": "2023-07-09T21:08:42.870Z"
   },
   {
    "duration": 182,
    "start_time": "2023-07-09T21:08:43.073Z"
   },
   {
    "duration": 67,
    "start_time": "2023-07-09T21:08:43.257Z"
   },
   {
    "duration": 385,
    "start_time": "2023-07-09T21:08:43.326Z"
   },
   {
    "duration": 29,
    "start_time": "2023-07-09T21:08:43.712Z"
   },
   {
    "duration": 17,
    "start_time": "2023-07-09T21:08:43.744Z"
   },
   {
    "duration": 15,
    "start_time": "2023-07-09T21:08:43.762Z"
   },
   {
    "duration": 5,
    "start_time": "2023-07-09T21:08:43.779Z"
   },
   {
    "duration": 27,
    "start_time": "2023-07-09T21:08:43.799Z"
   },
   {
    "duration": 12,
    "start_time": "2023-07-09T21:08:43.828Z"
   },
   {
    "duration": 13,
    "start_time": "2023-07-09T21:08:43.841Z"
   },
   {
    "duration": 8,
    "start_time": "2023-07-09T21:08:43.856Z"
   },
   {
    "duration": 180,
    "start_time": "2023-07-09T21:08:43.865Z"
   },
   {
    "duration": 15,
    "start_time": "2023-07-09T21:08:44.046Z"
   },
   {
    "duration": 22,
    "start_time": "2023-07-09T21:08:44.063Z"
   },
   {
    "duration": 14,
    "start_time": "2023-07-09T21:08:44.087Z"
   },
   {
    "duration": 19,
    "start_time": "2023-07-09T21:08:44.102Z"
   },
   {
    "duration": 12,
    "start_time": "2023-07-09T21:08:44.123Z"
   },
   {
    "duration": 18,
    "start_time": "2023-07-09T21:08:44.136Z"
   },
   {
    "duration": 12,
    "start_time": "2023-07-09T21:08:44.157Z"
   },
   {
    "duration": 43,
    "start_time": "2023-07-09T21:08:44.171Z"
   },
   {
    "duration": 326,
    "start_time": "2023-07-09T21:08:44.215Z"
   },
   {
    "duration": 171,
    "start_time": "2023-07-09T21:08:44.542Z"
   },
   {
    "duration": 405,
    "start_time": "2023-07-09T21:08:44.715Z"
   },
   {
    "duration": 4,
    "start_time": "2023-07-09T21:08:45.122Z"
   },
   {
    "duration": 547,
    "start_time": "2023-07-09T21:08:45.128Z"
   },
   {
    "duration": 4,
    "start_time": "2023-07-09T21:08:45.676Z"
   },
   {
    "duration": 15,
    "start_time": "2023-07-09T21:08:45.681Z"
   },
   {
    "duration": 5317,
    "start_time": "2023-07-09T21:08:45.697Z"
   },
   {
    "duration": 21,
    "start_time": "2023-07-09T21:08:51.016Z"
   },
   {
    "duration": 157,
    "start_time": "2023-07-09T21:11:49.632Z"
   },
   {
    "duration": 3,
    "start_time": "2023-07-09T21:12:47.586Z"
   },
   {
    "duration": 3,
    "start_time": "2023-07-09T21:30:04.963Z"
   },
   {
    "duration": 20,
    "start_time": "2023-07-09T21:33:51.731Z"
   },
   {
    "duration": 17,
    "start_time": "2023-07-09T21:39:17.998Z"
   },
   {
    "duration": 5,
    "start_time": "2023-07-09T21:43:25.233Z"
   },
   {
    "duration": 4,
    "start_time": "2023-07-09T21:43:57.348Z"
   },
   {
    "duration": 514,
    "start_time": "2023-07-09T21:44:28.635Z"
   },
   {
    "duration": 4,
    "start_time": "2023-07-09T21:44:29.558Z"
   },
   {
    "duration": 5,
    "start_time": "2023-07-09T21:44:30.411Z"
   },
   {
    "duration": 4084,
    "start_time": "2023-07-09T21:44:32.732Z"
   },
   {
    "duration": 18,
    "start_time": "2023-07-09T21:44:36.817Z"
   },
   {
    "duration": 14,
    "start_time": "2023-07-09T21:44:40.616Z"
   },
   {
    "duration": 99,
    "start_time": "2023-07-09T22:26:16.185Z"
   },
   {
    "duration": 12,
    "start_time": "2023-07-09T22:39:55.394Z"
   },
   {
    "duration": 4,
    "start_time": "2023-07-09T22:40:01.326Z"
   },
   {
    "duration": 3,
    "start_time": "2023-07-09T22:44:21.670Z"
   },
   {
    "duration": 120,
    "start_time": "2023-07-09T22:49:30.973Z"
   },
   {
    "duration": 9,
    "start_time": "2023-07-09T22:49:40.713Z"
   },
   {
    "duration": 9,
    "start_time": "2023-07-09T22:49:57.434Z"
   },
   {
    "duration": 3,
    "start_time": "2023-07-09T22:50:49.022Z"
   },
   {
    "duration": 4,
    "start_time": "2023-07-09T22:51:02.714Z"
   },
   {
    "duration": 3,
    "start_time": "2023-07-09T22:51:10.343Z"
   },
   {
    "duration": 14,
    "start_time": "2023-07-09T23:00:52.512Z"
   },
   {
    "duration": 10,
    "start_time": "2023-07-09T23:00:53.830Z"
   },
   {
    "duration": 7,
    "start_time": "2023-07-09T23:01:17.432Z"
   },
   {
    "duration": 14,
    "start_time": "2023-07-09T23:01:29.925Z"
   },
   {
    "duration": 4,
    "start_time": "2023-07-09T23:02:16.269Z"
   },
   {
    "duration": 9,
    "start_time": "2023-07-09T23:02:29.072Z"
   },
   {
    "duration": 4,
    "start_time": "2023-07-09T23:03:30.040Z"
   },
   {
    "duration": 10,
    "start_time": "2023-07-09T23:03:34.421Z"
   },
   {
    "duration": 28,
    "start_time": "2023-07-09T23:03:53.631Z"
   },
   {
    "duration": 342,
    "start_time": "2023-07-09T23:04:33.909Z"
   },
   {
    "duration": 340,
    "start_time": "2023-07-09T23:23:25.106Z"
   },
   {
    "duration": 75,
    "start_time": "2023-07-09T23:29:40.221Z"
   },
   {
    "duration": 49,
    "start_time": "2023-07-10T17:30:50.273Z"
   },
   {
    "duration": 546,
    "start_time": "2023-07-10T17:31:04.146Z"
   },
   {
    "duration": 8,
    "start_time": "2023-07-10T17:31:12.041Z"
   },
   {
    "duration": 9,
    "start_time": "2023-07-10T17:31:24.543Z"
   },
   {
    "duration": 19,
    "start_time": "2023-07-10T17:32:01.352Z"
   },
   {
    "duration": 33017,
    "start_time": "2023-07-10T17:32:10.713Z"
   },
   {
    "duration": 1813,
    "start_time": "2023-07-10T17:32:43.732Z"
   },
   {
    "duration": 3290,
    "start_time": "2023-07-10T17:32:45.547Z"
   },
   {
    "duration": 413,
    "start_time": "2023-07-10T17:32:48.839Z"
   },
   {
    "duration": 28,
    "start_time": "2023-07-10T17:32:49.254Z"
   },
   {
    "duration": 116,
    "start_time": "2023-07-10T17:32:49.283Z"
   },
   {
    "duration": 40,
    "start_time": "2023-07-10T17:32:49.401Z"
   },
   {
    "duration": 240,
    "start_time": "2023-07-10T17:32:49.443Z"
   },
   {
    "duration": 286,
    "start_time": "2023-07-10T17:32:49.686Z"
   },
   {
    "duration": 268,
    "start_time": "2023-07-10T17:32:49.976Z"
   },
   {
    "duration": 65,
    "start_time": "2023-07-10T17:32:50.245Z"
   },
   {
    "duration": 515,
    "start_time": "2023-07-10T17:32:50.312Z"
   },
   {
    "duration": 42,
    "start_time": "2023-07-10T17:32:50.829Z"
   },
   {
    "duration": 25,
    "start_time": "2023-07-10T17:32:50.877Z"
   },
   {
    "duration": 41,
    "start_time": "2023-07-10T17:32:50.904Z"
   },
   {
    "duration": 20,
    "start_time": "2023-07-10T17:32:50.947Z"
   },
   {
    "duration": 26,
    "start_time": "2023-07-10T17:32:50.969Z"
   },
   {
    "duration": 15,
    "start_time": "2023-07-10T17:32:50.997Z"
   },
   {
    "duration": 46,
    "start_time": "2023-07-10T17:32:51.014Z"
   },
   {
    "duration": 26,
    "start_time": "2023-07-10T17:32:51.062Z"
   },
   {
    "duration": 234,
    "start_time": "2023-07-10T17:32:51.090Z"
   },
   {
    "duration": 19,
    "start_time": "2023-07-10T17:32:51.326Z"
   },
   {
    "duration": 30,
    "start_time": "2023-07-10T17:32:51.350Z"
   },
   {
    "duration": 16,
    "start_time": "2023-07-10T17:32:51.382Z"
   },
   {
    "duration": 24,
    "start_time": "2023-07-10T17:32:51.400Z"
   },
   {
    "duration": 28,
    "start_time": "2023-07-10T17:32:51.426Z"
   },
   {
    "duration": 34,
    "start_time": "2023-07-10T17:32:51.460Z"
   },
   {
    "duration": 16,
    "start_time": "2023-07-10T17:32:51.499Z"
   },
   {
    "duration": 31,
    "start_time": "2023-07-10T17:32:51.517Z"
   },
   {
    "duration": 392,
    "start_time": "2023-07-10T17:32:51.549Z"
   },
   {
    "duration": 232,
    "start_time": "2023-07-10T17:32:51.943Z"
   },
   {
    "duration": 115,
    "start_time": "2023-07-10T17:32:52.178Z"
   },
   {
    "duration": 13,
    "start_time": "2023-07-10T17:32:52.296Z"
   },
   {
    "duration": 7,
    "start_time": "2023-07-10T17:32:52.311Z"
   },
   {
    "duration": 12,
    "start_time": "2023-07-10T17:32:52.320Z"
   },
   {
    "duration": 6,
    "start_time": "2023-07-10T17:32:52.335Z"
   },
   {
    "duration": 12,
    "start_time": "2023-07-10T17:32:52.361Z"
   },
   {
    "duration": 11,
    "start_time": "2023-07-10T17:32:52.377Z"
   },
   {
    "duration": 515,
    "start_time": "2023-07-10T17:32:52.390Z"
   },
   {
    "duration": 5,
    "start_time": "2023-07-10T17:32:52.907Z"
   },
   {
    "duration": 132,
    "start_time": "2023-07-10T17:32:52.913Z"
   },
   {
    "duration": 0,
    "start_time": "2023-07-10T17:32:53.047Z"
   },
   {
    "duration": 0,
    "start_time": "2023-07-10T17:32:53.049Z"
   },
   {
    "duration": 0,
    "start_time": "2023-07-10T17:32:53.050Z"
   },
   {
    "duration": 0,
    "start_time": "2023-07-10T17:32:53.060Z"
   },
   {
    "duration": 0,
    "start_time": "2023-07-10T17:32:53.061Z"
   },
   {
    "duration": 13,
    "start_time": "2023-07-10T17:33:37.147Z"
   },
   {
    "duration": 14,
    "start_time": "2023-07-10T17:35:45.115Z"
   },
   {
    "duration": 2650,
    "start_time": "2023-07-10T17:36:04.021Z"
   },
   {
    "duration": 1375,
    "start_time": "2023-07-10T17:36:06.674Z"
   },
   {
    "duration": 999,
    "start_time": "2023-07-10T17:36:08.051Z"
   },
   {
    "duration": 379,
    "start_time": "2023-07-10T17:36:09.052Z"
   },
   {
    "duration": 40,
    "start_time": "2023-07-10T17:36:09.434Z"
   },
   {
    "duration": 106,
    "start_time": "2023-07-10T17:36:09.478Z"
   },
   {
    "duration": 36,
    "start_time": "2023-07-10T17:36:09.586Z"
   },
   {
    "duration": 229,
    "start_time": "2023-07-10T17:36:09.624Z"
   },
   {
    "duration": 221,
    "start_time": "2023-07-10T17:36:09.858Z"
   },
   {
    "duration": 220,
    "start_time": "2023-07-10T17:36:10.082Z"
   },
   {
    "duration": 73,
    "start_time": "2023-07-10T17:36:10.304Z"
   },
   {
    "duration": 398,
    "start_time": "2023-07-10T17:36:10.379Z"
   },
   {
    "duration": 28,
    "start_time": "2023-07-10T17:36:10.779Z"
   },
   {
    "duration": 14,
    "start_time": "2023-07-10T17:36:10.811Z"
   },
   {
    "duration": 37,
    "start_time": "2023-07-10T17:36:10.827Z"
   },
   {
    "duration": 7,
    "start_time": "2023-07-10T17:36:10.866Z"
   },
   {
    "duration": 46,
    "start_time": "2023-07-10T17:36:10.875Z"
   },
   {
    "duration": 14,
    "start_time": "2023-07-10T17:36:10.923Z"
   },
   {
    "duration": 22,
    "start_time": "2023-07-10T17:36:10.938Z"
   },
   {
    "duration": 12,
    "start_time": "2023-07-10T17:36:10.964Z"
   },
   {
    "duration": 225,
    "start_time": "2023-07-10T17:36:10.978Z"
   },
   {
    "duration": 17,
    "start_time": "2023-07-10T17:36:11.205Z"
   },
   {
    "duration": 25,
    "start_time": "2023-07-10T17:36:11.223Z"
   },
   {
    "duration": 25,
    "start_time": "2023-07-10T17:36:11.251Z"
   },
   {
    "duration": 15,
    "start_time": "2023-07-10T17:36:11.278Z"
   },
   {
    "duration": 15,
    "start_time": "2023-07-10T17:36:11.295Z"
   },
   {
    "duration": 17,
    "start_time": "2023-07-10T17:36:11.312Z"
   },
   {
    "duration": 44,
    "start_time": "2023-07-10T17:36:11.331Z"
   },
   {
    "duration": 21,
    "start_time": "2023-07-10T17:36:11.377Z"
   },
   {
    "duration": 356,
    "start_time": "2023-07-10T17:36:11.400Z"
   },
   {
    "duration": 186,
    "start_time": "2023-07-10T17:36:11.758Z"
   },
   {
    "duration": 145,
    "start_time": "2023-07-10T17:36:11.947Z"
   },
   {
    "duration": 13,
    "start_time": "2023-07-10T17:36:12.094Z"
   },
   {
    "duration": 7,
    "start_time": "2023-07-10T17:36:12.109Z"
   },
   {
    "duration": 21,
    "start_time": "2023-07-10T17:36:12.118Z"
   },
   {
    "duration": 7,
    "start_time": "2023-07-10T17:36:12.141Z"
   },
   {
    "duration": 18,
    "start_time": "2023-07-10T17:36:12.150Z"
   },
   {
    "duration": 132,
    "start_time": "2023-07-10T17:36:12.170Z"
   },
   {
    "duration": 0,
    "start_time": "2023-07-10T17:36:12.304Z"
   },
   {
    "duration": 0,
    "start_time": "2023-07-10T17:36:12.306Z"
   },
   {
    "duration": 0,
    "start_time": "2023-07-10T17:36:12.307Z"
   },
   {
    "duration": 0,
    "start_time": "2023-07-10T17:36:12.309Z"
   },
   {
    "duration": 0,
    "start_time": "2023-07-10T17:36:12.311Z"
   },
   {
    "duration": 0,
    "start_time": "2023-07-10T17:36:12.312Z"
   },
   {
    "duration": 0,
    "start_time": "2023-07-10T17:36:12.314Z"
   },
   {
    "duration": 0,
    "start_time": "2023-07-10T17:36:12.315Z"
   },
   {
    "duration": 5,
    "start_time": "2023-07-10T17:47:15.408Z"
   },
   {
    "duration": 4,
    "start_time": "2023-07-10T19:58:22.611Z"
   },
   {
    "duration": 99,
    "start_time": "2023-07-10T20:12:03.767Z"
   },
   {
    "duration": 351,
    "start_time": "2023-07-10T20:12:15.006Z"
   },
   {
    "duration": 319,
    "start_time": "2023-07-10T20:13:07.910Z"
   },
   {
    "duration": 333,
    "start_time": "2023-07-10T20:15:00.258Z"
   },
   {
    "duration": 322,
    "start_time": "2023-07-10T20:15:08.820Z"
   },
   {
    "duration": 12,
    "start_time": "2023-07-10T20:18:00.199Z"
   },
   {
    "duration": 343,
    "start_time": "2023-07-10T20:18:34.516Z"
   },
   {
    "duration": 315,
    "start_time": "2023-07-10T20:18:44.429Z"
   },
   {
    "duration": 324,
    "start_time": "2023-07-10T20:18:50.561Z"
   },
   {
    "duration": 362,
    "start_time": "2023-07-10T20:18:54.343Z"
   },
   {
    "duration": 365,
    "start_time": "2023-07-10T20:19:02.860Z"
   },
   {
    "duration": 324,
    "start_time": "2023-07-10T20:19:20.669Z"
   },
   {
    "duration": 5897,
    "start_time": "2023-07-10T20:21:25.347Z"
   },
   {
    "duration": 324,
    "start_time": "2023-07-10T20:24:58.145Z"
   },
   {
    "duration": 317,
    "start_time": "2023-07-10T20:25:12.390Z"
   },
   {
    "duration": 335,
    "start_time": "2023-07-10T20:25:59.047Z"
   },
   {
    "duration": 333,
    "start_time": "2023-07-10T20:26:02.964Z"
   },
   {
    "duration": 333,
    "start_time": "2023-07-10T20:26:20.028Z"
   },
   {
    "duration": 304,
    "start_time": "2023-07-10T20:26:29.385Z"
   },
   {
    "duration": 374,
    "start_time": "2023-07-10T20:27:33.862Z"
   },
   {
    "duration": 317,
    "start_time": "2023-07-10T20:27:43.345Z"
   },
   {
    "duration": 349,
    "start_time": "2023-07-10T20:28:05.999Z"
   },
   {
    "duration": 11,
    "start_time": "2023-07-10T20:29:58.839Z"
   },
   {
    "duration": 349,
    "start_time": "2023-07-10T20:30:09.998Z"
   },
   {
    "duration": 401,
    "start_time": "2023-07-10T20:31:47.802Z"
   },
   {
    "duration": 338,
    "start_time": "2023-07-10T20:32:07.767Z"
   },
   {
    "duration": 288,
    "start_time": "2023-07-10T20:37:36.631Z"
   },
   {
    "duration": 292,
    "start_time": "2023-07-10T20:37:43.302Z"
   },
   {
    "duration": 27,
    "start_time": "2023-07-10T20:38:08.998Z"
   },
   {
    "duration": 298,
    "start_time": "2023-07-10T20:38:51.110Z"
   },
   {
    "duration": 15871,
    "start_time": "2023-07-10T20:39:56.519Z"
   },
   {
    "duration": 6,
    "start_time": "2023-07-10T20:40:12.392Z"
   },
   {
    "duration": 38,
    "start_time": "2023-07-10T20:40:30.124Z"
   },
   {
    "duration": 30,
    "start_time": "2023-07-10T20:40:43.555Z"
   },
   {
    "duration": 11,
    "start_time": "2023-07-10T20:42:50.470Z"
   },
   {
    "duration": 4648,
    "start_time": "2023-07-10T20:42:59.672Z"
   },
   {
    "duration": 1273,
    "start_time": "2023-07-10T20:43:04.323Z"
   },
   {
    "duration": 1813,
    "start_time": "2023-07-10T20:43:05.599Z"
   },
   {
    "duration": 453,
    "start_time": "2023-07-10T20:43:07.460Z"
   },
   {
    "duration": 16,
    "start_time": "2023-07-10T20:43:07.916Z"
   },
   {
    "duration": 119,
    "start_time": "2023-07-10T20:43:07.934Z"
   },
   {
    "duration": 35,
    "start_time": "2023-07-10T20:43:08.058Z"
   },
   {
    "duration": 195,
    "start_time": "2023-07-10T20:43:08.095Z"
   },
   {
    "duration": 195,
    "start_time": "2023-07-10T20:43:08.292Z"
   },
   {
    "duration": 206,
    "start_time": "2023-07-10T20:43:08.489Z"
   },
   {
    "duration": 68,
    "start_time": "2023-07-10T20:43:08.697Z"
   },
   {
    "duration": 401,
    "start_time": "2023-07-10T20:43:08.768Z"
   },
   {
    "duration": 29,
    "start_time": "2023-07-10T20:43:09.171Z"
   },
   {
    "duration": 17,
    "start_time": "2023-07-10T20:43:09.204Z"
   },
   {
    "duration": 45,
    "start_time": "2023-07-10T20:43:09.223Z"
   },
   {
    "duration": 10,
    "start_time": "2023-07-10T20:43:09.269Z"
   },
   {
    "duration": 44,
    "start_time": "2023-07-10T20:43:09.281Z"
   },
   {
    "duration": 34,
    "start_time": "2023-07-10T20:43:09.327Z"
   },
   {
    "duration": 23,
    "start_time": "2023-07-10T20:43:09.363Z"
   },
   {
    "duration": 7,
    "start_time": "2023-07-10T20:43:09.389Z"
   },
   {
    "duration": 281,
    "start_time": "2023-07-10T20:43:09.398Z"
   },
   {
    "duration": 17,
    "start_time": "2023-07-10T20:43:09.681Z"
   },
   {
    "duration": 24,
    "start_time": "2023-07-10T20:43:09.700Z"
   },
   {
    "duration": 33,
    "start_time": "2023-07-10T20:43:09.727Z"
   },
   {
    "duration": 25,
    "start_time": "2023-07-10T20:43:09.763Z"
   },
   {
    "duration": 71,
    "start_time": "2023-07-10T20:43:09.791Z"
   },
   {
    "duration": 18,
    "start_time": "2023-07-10T20:43:09.865Z"
   },
   {
    "duration": 21,
    "start_time": "2023-07-10T20:43:09.885Z"
   },
   {
    "duration": 24,
    "start_time": "2023-07-10T20:43:09.958Z"
   },
   {
    "duration": 709,
    "start_time": "2023-07-10T20:43:09.984Z"
   },
   {
    "duration": 419,
    "start_time": "2023-07-10T20:43:10.695Z"
   },
   {
    "duration": 135,
    "start_time": "2023-07-10T20:43:11.159Z"
   },
   {
    "duration": 13,
    "start_time": "2023-07-10T20:43:11.296Z"
   },
   {
    "duration": 5,
    "start_time": "2023-07-10T20:43:11.311Z"
   },
   {
    "duration": 45,
    "start_time": "2023-07-10T20:43:11.318Z"
   },
   {
    "duration": 9,
    "start_time": "2023-07-10T20:43:11.365Z"
   },
   {
    "duration": 497,
    "start_time": "2023-07-10T20:43:11.377Z"
   },
   {
    "duration": 0,
    "start_time": "2023-07-10T20:43:11.875Z"
   },
   {
    "duration": 343,
    "start_time": "2023-07-10T20:43:51.159Z"
   },
   {
    "duration": 337,
    "start_time": "2023-07-10T20:44:06.542Z"
   },
   {
    "duration": 367,
    "start_time": "2023-07-10T20:44:20.157Z"
   },
   {
    "duration": 380,
    "start_time": "2023-07-10T20:44:35.097Z"
   },
   {
    "duration": 83,
    "start_time": "2023-07-10T20:54:11.495Z"
   },
   {
    "duration": 192,
    "start_time": "2023-07-10T20:55:14.106Z"
   },
   {
    "duration": 4,
    "start_time": "2023-07-10T20:56:04.770Z"
   },
   {
    "duration": 153,
    "start_time": "2023-07-10T20:56:48.907Z"
   },
   {
    "duration": 29,
    "start_time": "2023-07-10T21:09:19.554Z"
   },
   {
    "duration": 136,
    "start_time": "2023-07-10T21:12:28.968Z"
   },
   {
    "duration": 18,
    "start_time": "2023-07-10T21:22:06.625Z"
   },
   {
    "duration": 6,
    "start_time": "2023-07-10T21:22:33.402Z"
   },
   {
    "duration": 5276,
    "start_time": "2023-07-10T21:22:37.185Z"
   },
   {
    "duration": 2311,
    "start_time": "2023-07-10T21:22:42.465Z"
   },
   {
    "duration": 1561,
    "start_time": "2023-07-10T21:22:44.778Z"
   },
   {
    "duration": 341,
    "start_time": "2023-07-10T21:22:46.341Z"
   },
   {
    "duration": 16,
    "start_time": "2023-07-10T21:22:46.685Z"
   },
   {
    "duration": 159,
    "start_time": "2023-07-10T21:22:46.703Z"
   },
   {
    "duration": 35,
    "start_time": "2023-07-10T21:22:46.864Z"
   },
   {
    "duration": 232,
    "start_time": "2023-07-10T21:22:46.901Z"
   },
   {
    "duration": 201,
    "start_time": "2023-07-10T21:22:47.134Z"
   },
   {
    "duration": 196,
    "start_time": "2023-07-10T21:22:47.337Z"
   },
   {
    "duration": 63,
    "start_time": "2023-07-10T21:22:47.535Z"
   },
   {
    "duration": 391,
    "start_time": "2023-07-10T21:22:47.600Z"
   },
   {
    "duration": 30,
    "start_time": "2023-07-10T21:22:47.994Z"
   },
   {
    "duration": 34,
    "start_time": "2023-07-10T21:22:48.029Z"
   },
   {
    "duration": 27,
    "start_time": "2023-07-10T21:22:48.065Z"
   },
   {
    "duration": 10,
    "start_time": "2023-07-10T21:22:48.094Z"
   },
   {
    "duration": 34,
    "start_time": "2023-07-10T21:22:48.105Z"
   },
   {
    "duration": 31,
    "start_time": "2023-07-10T21:22:48.142Z"
   },
   {
    "duration": 18,
    "start_time": "2023-07-10T21:22:48.175Z"
   },
   {
    "duration": 7,
    "start_time": "2023-07-10T21:22:48.196Z"
   },
   {
    "duration": 261,
    "start_time": "2023-07-10T21:22:48.205Z"
   },
   {
    "duration": 17,
    "start_time": "2023-07-10T21:22:48.468Z"
   },
   {
    "duration": 16,
    "start_time": "2023-07-10T21:22:48.486Z"
   },
   {
    "duration": 7,
    "start_time": "2023-07-10T21:22:48.504Z"
   },
   {
    "duration": 15,
    "start_time": "2023-07-10T21:22:48.513Z"
   },
   {
    "duration": 14,
    "start_time": "2023-07-10T21:22:48.558Z"
   },
   {
    "duration": 22,
    "start_time": "2023-07-10T21:22:48.574Z"
   },
   {
    "duration": 28,
    "start_time": "2023-07-10T21:22:48.598Z"
   },
   {
    "duration": 17,
    "start_time": "2023-07-10T21:22:48.628Z"
   },
   {
    "duration": 342,
    "start_time": "2023-07-10T21:22:48.647Z"
   },
   {
    "duration": 191,
    "start_time": "2023-07-10T21:22:48.991Z"
   },
   {
    "duration": 129,
    "start_time": "2023-07-10T21:22:49.184Z"
   },
   {
    "duration": 9,
    "start_time": "2023-07-10T21:22:49.315Z"
   },
   {
    "duration": 4,
    "start_time": "2023-07-10T21:22:49.326Z"
   },
   {
    "duration": 27,
    "start_time": "2023-07-10T21:22:49.332Z"
   },
   {
    "duration": 3,
    "start_time": "2023-07-10T21:22:49.361Z"
   },
   {
    "duration": 383,
    "start_time": "2023-07-10T21:22:49.366Z"
   },
   {
    "duration": 169,
    "start_time": "2023-07-10T21:22:49.751Z"
   },
   {
    "duration": 167,
    "start_time": "2023-07-10T21:22:49.922Z"
   },
   {
    "duration": 0,
    "start_time": "2023-07-10T21:31:14.990Z"
   },
   {
    "duration": 117,
    "start_time": "2023-07-13T16:00:33.597Z"
   },
   {
    "duration": 47,
    "start_time": "2023-07-13T16:00:41.899Z"
   }
  ],
  "kernelspec": {
   "display_name": "Python 3 (ipykernel)",
   "language": "python",
   "name": "python3"
  },
  "language_info": {
   "codemirror_mode": {
    "name": "ipython",
    "version": 3
   },
   "file_extension": ".py",
   "mimetype": "text/x-python",
   "name": "python",
   "nbconvert_exporter": "python",
   "pygments_lexer": "ipython3",
   "version": "3.11.4"
  },
  "toc": {
   "base_numbering": 1,
   "nav_menu": {},
   "number_sections": true,
   "sideBar": true,
   "skip_h1_title": true,
   "title_cell": "Table of Contents",
   "title_sidebar": "Содержание",
   "toc_cell": false,
   "toc_position": {
    "height": "calc(100% - 180px)",
    "left": "10px",
    "top": "150px",
    "width": "199.594px"
   },
   "toc_section_display": true,
   "toc_window_display": true
  },
  "varInspector": {
   "cols": {
    "lenName": 16,
    "lenType": 16,
    "lenVar": 40
   },
   "kernels_config": {
    "python": {
     "delete_cmd_postfix": "",
     "delete_cmd_prefix": "del ",
     "library": "var_list.py",
     "varRefreshCmd": "print(var_dic_list())"
    },
    "r": {
     "delete_cmd_postfix": ") ",
     "delete_cmd_prefix": "rm(",
     "library": "var_list.r",
     "varRefreshCmd": "cat(var_dic_list()) "
    }
   },
   "types_to_exclude": [
    "module",
    "function",
    "builtin_function_or_method",
    "instance",
    "_Feature"
   ],
   "window_display": false
  }
 },
 "nbformat": 4,
 "nbformat_minor": 4
}
