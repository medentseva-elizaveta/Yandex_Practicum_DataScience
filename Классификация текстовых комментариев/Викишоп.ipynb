{
 "cells": [
  {
   "cell_type": "markdown",
   "metadata": {
    "toc": true
   },
   "source": [
    "<h1>Содержание<span class=\"tocSkip\"></span></h1>\n",
    "<div class=\"toc\"><ul class=\"toc-item\"><li><span><a href=\"#Подготовка\" data-toc-modified-id=\"Подготовка-1\"><span class=\"toc-item-num\">1&nbsp;&nbsp;</span>Подготовка</a></span><ul class=\"toc-item\"><li><span><a href=\"#Вывод\" data-toc-modified-id=\"Вывод-1.1\"><span class=\"toc-item-num\">1.1&nbsp;&nbsp;</span>Вывод</a></span></li></ul></li><li><span><a href=\"#Обучение\" data-toc-modified-id=\"Обучение-2\"><span class=\"toc-item-num\">2&nbsp;&nbsp;</span>Обучение</a></span><ul class=\"toc-item\"><li><span><a href=\"#Модель-линейной-регрессии\" data-toc-modified-id=\"Модель-линейной-регрессии-2.1\"><span class=\"toc-item-num\">2.1&nbsp;&nbsp;</span>Модель линейной регрессии</a></span></li></ul></li><li><span><a href=\"#Выводы\" data-toc-modified-id=\"Выводы-3\"><span class=\"toc-item-num\">3&nbsp;&nbsp;</span>Выводы</a></span>"
   ]
  },
  {
   "cell_type": "markdown",
   "metadata": {},
   "source": [
    "# Проект для «Викишоп»"
   ]
  },
  {
   "cell_type": "markdown",
   "metadata": {},
   "source": [
    "Интернет-магазин «Викишоп» запускает новый сервис. Теперь пользователи могут редактировать и дополнять описания товаров, как в вики-сообществах. То есть клиенты предлагают свои правки и комментируют изменения других. Магазину нужен инструмент, который будет искать токсичные комментарии и отправлять их на модерацию. \n",
    "\n",
    "Обучите модель классифицировать комментарии на позитивные и негативные. В вашем распоряжении набор данных с разметкой о токсичности правок.\n",
    "\n",
    "Постройте модель со значением метрики качества *F1* не меньше 0.75. \n",
    "\n",
    "**Инструкция по выполнению проекта**\n",
    "\n",
    "1. Загрузите и подготовьте данные.\n",
    "2. Обучите разные модели. \n",
    "3. Сделайте выводы.\n",
    "\n",
    "Для выполнения проекта применять *BERT* необязательно, но вы можете попробовать.\n",
    "\n",
    "**Описание данных**\n",
    "\n",
    "Данные находятся в файле `toxic_comments.csv`. Столбец *text* в нём содержит текст комментария, а *toxic* — целевой признак."
   ]
  },
  {
   "cell_type": "code",
   "execution_count": 1,
   "metadata": {},
   "outputs": [
    {
     "name": "stdout",
     "output_type": "stream",
     "text": [
      "Requirement already satisfied: numpy in c:\\users\\admin\\appdata\\local\\programs\\python\\python311\\lib\\site-packages (1.24.3)\n"
     ]
    },
    {
     "name": "stderr",
     "output_type": "stream",
     "text": [
      "\n",
      "[notice] A new release of pip is available: 23.1.2 -> 23.2\n",
      "[notice] To update, run: python.exe -m pip install --upgrade pip\n"
     ]
    },
    {
     "name": "stdout",
     "output_type": "stream",
     "text": [
      "Requirement already satisfied: pandas in c:\\users\\admin\\appdata\\local\\programs\\python\\python311\\lib\\site-packages (1.5.3)\n",
      "Requirement already satisfied: python-dateutil>=2.8.1 in c:\\users\\admin\\appdata\\local\\programs\\python\\python311\\lib\\site-packages (from pandas) (2.8.2)\n",
      "Requirement already satisfied: pytz>=2020.1 in c:\\users\\admin\\appdata\\local\\programs\\python\\python311\\lib\\site-packages (from pandas) (2023.3)\n",
      "Requirement already satisfied: numpy>=1.21.0 in c:\\users\\admin\\appdata\\local\\programs\\python\\python311\\lib\\site-packages (from pandas) (1.24.3)\n",
      "Requirement already satisfied: six>=1.5 in c:\\users\\admin\\appdata\\local\\programs\\python\\python311\\lib\\site-packages (from python-dateutil>=2.8.1->pandas) (1.16.0)\n"
     ]
    },
    {
     "name": "stderr",
     "output_type": "stream",
     "text": [
      "\n",
      "[notice] A new release of pip is available: 23.1.2 -> 23.2\n",
      "[notice] To update, run: python.exe -m pip install --upgrade pip\n"
     ]
    },
    {
     "name": "stdout",
     "output_type": "stream",
     "text": [
      "Requirement already satisfied: nltk in c:\\users\\admin\\appdata\\local\\programs\\python\\python311\\lib\\site-packages (3.8.1)\n",
      "Requirement already satisfied: click in c:\\users\\admin\\appdata\\local\\programs\\python\\python311\\lib\\site-packages (from nltk) (8.1.4)\n",
      "Requirement already satisfied: joblib in c:\\users\\admin\\appdata\\local\\programs\\python\\python311\\lib\\site-packages (from nltk) (1.3.1)\n",
      "Requirement already satisfied: regex>=2021.8.3 in c:\\users\\admin\\appdata\\local\\programs\\python\\python311\\lib\\site-packages (from nltk) (2023.6.3)\n",
      "Requirement already satisfied: tqdm in c:\\users\\admin\\appdata\\local\\programs\\python\\python311\\lib\\site-packages (from nltk) (4.65.0)\n",
      "Requirement already satisfied: colorama in c:\\users\\admin\\appdata\\local\\programs\\python\\python311\\lib\\site-packages (from click->nltk) (0.4.6)\n"
     ]
    },
    {
     "name": "stderr",
     "output_type": "stream",
     "text": [
      "\n",
      "[notice] A new release of pip is available: 23.1.2 -> 23.2\n",
      "[notice] To update, run: python.exe -m pip install --upgrade pip\n"
     ]
    },
    {
     "name": "stdout",
     "output_type": "stream",
     "text": [
      "Requirement already satisfied: sklearn in c:\\users\\admin\\appdata\\local\\programs\\python\\python311\\lib\\site-packages (0.0.post5)\n"
     ]
    },
    {
     "name": "stderr",
     "output_type": "stream",
     "text": [
      "\n",
      "[notice] A new release of pip is available: 23.1.2 -> 23.2\n",
      "[notice] To update, run: python.exe -m pip install --upgrade pip\n"
     ]
    },
    {
     "name": "stdout",
     "output_type": "stream",
     "text": [
      "Requirement already satisfied: numpy in c:\\users\\admin\\appdata\\local\\programs\\python\\python311\\lib\\site-packages (1.24.3)\n"
     ]
    },
    {
     "name": "stderr",
     "output_type": "stream",
     "text": [
      "\n",
      "[notice] A new release of pip is available: 23.1.2 -> 23.2\n",
      "[notice] To update, run: python.exe -m pip install --upgrade pip\n"
     ]
    },
    {
     "name": "stdout",
     "output_type": "stream",
     "text": [
      "Requirement already satisfied: xgboost in c:\\users\\admin\\appdata\\local\\programs\\python\\python311\\lib\\site-packages (1.7.6)\n",
      "Requirement already satisfied: numpy in c:\\users\\admin\\appdata\\local\\programs\\python\\python311\\lib\\site-packages (from xgboost) (1.24.3)\n",
      "Requirement already satisfied: scipy in c:\\users\\admin\\appdata\\local\\programs\\python\\python311\\lib\\site-packages (from xgboost) (1.11.1)\n"
     ]
    },
    {
     "name": "stderr",
     "output_type": "stream",
     "text": [
      "\n",
      "[notice] A new release of pip is available: 23.1.2 -> 23.2\n",
      "[notice] To update, run: python.exe -m pip install --upgrade pip\n"
     ]
    }
   ],
   "source": [
    "!pip install numpy\n",
    "!pip install pandas\n",
    "!pip install nltk\n",
    "!pip install sklearn\n",
    "!pip install numpy\n",
    "!pip install xgboost"
   ]
  },
  {
   "cell_type": "markdown",
   "metadata": {},
   "source": [
    "## Подготовка"
   ]
  },
  {
   "cell_type": "code",
   "execution_count": 2,
   "metadata": {},
   "outputs": [
    {
     "name": "stderr",
     "output_type": "stream",
     "text": [
      "[nltk_data] Downloading package wordnet to\n",
      "[nltk_data]     C:\\Users\\admin\\AppData\\Roaming\\nltk_data...\n",
      "[nltk_data]   Package wordnet is already up-to-date!\n",
      "[nltk_data] Downloading package averaged_perceptron_tagger to\n",
      "[nltk_data]     C:\\Users\\admin\\AppData\\Roaming\\nltk_data...\n",
      "[nltk_data]   Package averaged_perceptron_tagger is already up-to-\n",
      "[nltk_data]       date!\n",
      "[nltk_data] Downloading package punkt to\n",
      "[nltk_data]     C:\\Users\\admin\\AppData\\Roaming\\nltk_data...\n",
      "[nltk_data]   Package punkt is already up-to-date!\n",
      "[nltk_data] Downloading package stopwords to\n",
      "[nltk_data]     C:\\Users\\admin\\AppData\\Roaming\\nltk_data...\n",
      "[nltk_data]   Package stopwords is already up-to-date!\n"
     ]
    }
   ],
   "source": [
    "import warnings\n",
    "import re\n",
    "import time\n",
    "\n",
    "import numpy as np\n",
    "import pandas as pd\n",
    "import matplotlib.pyplot as plt\n",
    "import nltk\n",
    "from nltk.corpus import stopwords as nltk_stopwords\n",
    "from nltk.corpus import wordnet\n",
    "from nltk.stem import WordNetLemmatizer\n",
    "from numpy.random import RandomState\n",
    "from sklearn.feature_extraction.text import TfidfVectorizer\n",
    "from sklearn.model_selection import train_test_split, GridSearchCV, RandomizedSearchCV\n",
    "from sklearn.linear_model import LogisticRegression\n",
    "from sklearn.ensemble import RandomForestClassifier\n",
    "from sklearn.utils import shuffle\n",
    "from sklearn.metrics import f1_score\n",
    "from xgboost import XGBClassifier\n",
    "\n",
    "\n",
    "warnings.filterwarnings('ignore')\n",
    "nltk.download('wordnet')\n",
    "nltk.download('averaged_perceptron_tagger')\n",
    "nltk.download('punkt')\n",
    "nltk.download('stopwords')\n",
    "\n",
    "STATE = RandomState(12345)"
   ]
  },
  {
   "cell_type": "code",
   "execution_count": 3,
   "metadata": {},
   "outputs": [],
   "source": [
    "try:\n",
    "    data = pd.read_csv('/datasets/toxic_comments.csv')\n",
    "except:\n",
    "    data = pd.read_csv('https://code.s3.yandex.net/datasets/toxic_comments.csv')"
   ]
  },
  {
   "cell_type": "code",
   "execution_count": 4,
   "metadata": {},
   "outputs": [
    {
     "name": "stdout",
     "output_type": "stream",
     "text": [
      "<class 'pandas.core.frame.DataFrame'>\n",
      "RangeIndex: 159292 entries, 0 to 159291\n",
      "Data columns (total 3 columns):\n",
      " #   Column      Non-Null Count   Dtype \n",
      "---  ------      --------------   ----- \n",
      " 0   Unnamed: 0  159292 non-null  int64 \n",
      " 1   text        159292 non-null  object\n",
      " 2   toxic       159292 non-null  int64 \n",
      "dtypes: int64(2), object(1)\n",
      "memory usage: 3.6+ MB\n"
     ]
    }
   ],
   "source": [
    "data.info()"
   ]
  },
  {
   "cell_type": "code",
   "execution_count": 5,
   "metadata": {},
   "outputs": [
    {
     "data": {
      "text/html": [
       "<div>\n",
       "<style scoped>\n",
       "    .dataframe tbody tr th:only-of-type {\n",
       "        vertical-align: middle;\n",
       "    }\n",
       "\n",
       "    .dataframe tbody tr th {\n",
       "        vertical-align: top;\n",
       "    }\n",
       "\n",
       "    .dataframe thead th {\n",
       "        text-align: right;\n",
       "    }\n",
       "</style>\n",
       "<table border=\"1\" class=\"dataframe\">\n",
       "  <thead>\n",
       "    <tr style=\"text-align: right;\">\n",
       "      <th></th>\n",
       "      <th>Unnamed: 0</th>\n",
       "      <th>text</th>\n",
       "      <th>toxic</th>\n",
       "    </tr>\n",
       "  </thead>\n",
       "  <tbody>\n",
       "    <tr>\n",
       "      <th>0</th>\n",
       "      <td>0</td>\n",
       "      <td>Explanation\\nWhy the edits made under my usern...</td>\n",
       "      <td>0</td>\n",
       "    </tr>\n",
       "    <tr>\n",
       "      <th>1</th>\n",
       "      <td>1</td>\n",
       "      <td>D'aww! He matches this background colour I'm s...</td>\n",
       "      <td>0</td>\n",
       "    </tr>\n",
       "    <tr>\n",
       "      <th>2</th>\n",
       "      <td>2</td>\n",
       "      <td>Hey man, I'm really not trying to edit war. It...</td>\n",
       "      <td>0</td>\n",
       "    </tr>\n",
       "    <tr>\n",
       "      <th>3</th>\n",
       "      <td>3</td>\n",
       "      <td>\"\\nMore\\nI can't make any real suggestions on ...</td>\n",
       "      <td>0</td>\n",
       "    </tr>\n",
       "    <tr>\n",
       "      <th>4</th>\n",
       "      <td>4</td>\n",
       "      <td>You, sir, are my hero. Any chance you remember...</td>\n",
       "      <td>0</td>\n",
       "    </tr>\n",
       "    <tr>\n",
       "      <th>5</th>\n",
       "      <td>5</td>\n",
       "      <td>\"\\n\\nCongratulations from me as well, use the ...</td>\n",
       "      <td>0</td>\n",
       "    </tr>\n",
       "    <tr>\n",
       "      <th>6</th>\n",
       "      <td>6</td>\n",
       "      <td>COCKSUCKER BEFORE YOU PISS AROUND ON MY WORK</td>\n",
       "      <td>1</td>\n",
       "    </tr>\n",
       "    <tr>\n",
       "      <th>7</th>\n",
       "      <td>7</td>\n",
       "      <td>Your vandalism to the Matt Shirvington article...</td>\n",
       "      <td>0</td>\n",
       "    </tr>\n",
       "    <tr>\n",
       "      <th>8</th>\n",
       "      <td>8</td>\n",
       "      <td>Sorry if the word 'nonsense' was offensive to ...</td>\n",
       "      <td>0</td>\n",
       "    </tr>\n",
       "    <tr>\n",
       "      <th>9</th>\n",
       "      <td>9</td>\n",
       "      <td>alignment on this subject and which are contra...</td>\n",
       "      <td>0</td>\n",
       "    </tr>\n",
       "  </tbody>\n",
       "</table>\n",
       "</div>"
      ],
      "text/plain": [
       "   Unnamed: 0                                               text  toxic\n",
       "0           0  Explanation\\nWhy the edits made under my usern...      0\n",
       "1           1  D'aww! He matches this background colour I'm s...      0\n",
       "2           2  Hey man, I'm really not trying to edit war. It...      0\n",
       "3           3  \"\\nMore\\nI can't make any real suggestions on ...      0\n",
       "4           4  You, sir, are my hero. Any chance you remember...      0\n",
       "5           5  \"\\n\\nCongratulations from me as well, use the ...      0\n",
       "6           6       COCKSUCKER BEFORE YOU PISS AROUND ON MY WORK      1\n",
       "7           7  Your vandalism to the Matt Shirvington article...      0\n",
       "8           8  Sorry if the word 'nonsense' was offensive to ...      0\n",
       "9           9  alignment on this subject and which are contra...      0"
      ]
     },
     "execution_count": 5,
     "metadata": {},
     "output_type": "execute_result"
    }
   ],
   "source": [
    "data.head(10)"
   ]
  },
  {
   "cell_type": "code",
   "execution_count": 6,
   "metadata": {},
   "outputs": [
    {
     "data": {
      "text/plain": [
       "0"
      ]
     },
     "execution_count": 6,
     "metadata": {},
     "output_type": "execute_result"
    }
   ],
   "source": [
    "data.duplicated().sum()"
   ]
  },
  {
   "cell_type": "markdown",
   "metadata": {},
   "source": [
    "Дубликаты отсутствуют "
   ]
  },
  {
   "cell_type": "code",
   "execution_count": 7,
   "metadata": {},
   "outputs": [
    {
     "data": {
      "text/plain": [
       "(89.84, '%')"
      ]
     },
     "execution_count": 7,
     "metadata": {},
     "output_type": "execute_result"
    },
    {
     "data": {
      "image/png": "[encoded data removed]",
      "text/plain": [
       "<Figure size 640x480 with 1 Axes>"
      ]
     },
     "metadata": {},
     "output_type": "display_data"
    }
   ],
   "source": [
    "# Построим график по целевому признаку:\n",
    "frequency = data['toxic'].value_counts(normalize=True)\n",
    "frequency.plot(kind='bar')\n",
    "plt.title('Распределение классов целевого признака', fontsize=10)\n",
    "# вычислим в процентах количество не токсичных комментариев:\n",
    "round((data['toxic'].count() - data['toxic'].sum()) / data['toxic'].count() * 100, 2), '%'"
   ]
  },
  {
   "cell_type": "code",
   "execution_count": 8,
   "metadata": {},
   "outputs": [],
   "source": [
    "#Удаляю столбец Unnamed, так как он дублирует индексы.\n",
    "data = data.drop(['Unnamed: 0'], axis=1)"
   ]
  },
  {
   "cell_type": "code",
   "execution_count": 9,
   "metadata": {},
   "outputs": [],
   "source": [
    "# Очистила данные от лишних символов, оставила слова, состоящие из букв.\n",
    "def clear_text(text):\n",
    "    text = text.lower()\n",
    "    text = re.sub(r'[^a-zA-Z]', ' ', text)   \n",
    "    text = ' '.join(text.split())\n",
    "    return text"
   ]
  },
  {
   "cell_type": "code",
   "execution_count": 10,
   "metadata": {},
   "outputs": [],
   "source": [
    "data['text'] = data['text'].apply(clear_text) "
   ]
  },
  {
   "cell_type": "code",
   "execution_count": 11,
   "metadata": {},
   "outputs": [
    {
     "data": {
      "text/html": [
       "<div>\n",
       "<style scoped>\n",
       "    .dataframe tbody tr th:only-of-type {\n",
       "        vertical-align: middle;\n",
       "    }\n",
       "\n",
       "    .dataframe tbody tr th {\n",
       "        vertical-align: top;\n",
       "    }\n",
       "\n",
       "    .dataframe thead th {\n",
       "        text-align: right;\n",
       "    }\n",
       "</style>\n",
       "<table border=\"1\" class=\"dataframe\">\n",
       "  <thead>\n",
       "    <tr style=\"text-align: right;\">\n",
       "      <th></th>\n",
       "      <th>text</th>\n",
       "      <th>toxic</th>\n",
       "    </tr>\n",
       "  </thead>\n",
       "  <tbody>\n",
       "    <tr>\n",
       "      <th>0</th>\n",
       "      <td>explanation why the edits made under my userna...</td>\n",
       "      <td>0</td>\n",
       "    </tr>\n",
       "    <tr>\n",
       "      <th>1</th>\n",
       "      <td>d aww he matches this background colour i m se...</td>\n",
       "      <td>0</td>\n",
       "    </tr>\n",
       "    <tr>\n",
       "      <th>2</th>\n",
       "      <td>hey man i m really not trying to edit war it s...</td>\n",
       "      <td>0</td>\n",
       "    </tr>\n",
       "    <tr>\n",
       "      <th>3</th>\n",
       "      <td>more i can t make any real suggestions on impr...</td>\n",
       "      <td>0</td>\n",
       "    </tr>\n",
       "    <tr>\n",
       "      <th>4</th>\n",
       "      <td>you sir are my hero any chance you remember wh...</td>\n",
       "      <td>0</td>\n",
       "    </tr>\n",
       "  </tbody>\n",
       "</table>\n",
       "</div>"
      ],
      "text/plain": [
       "                                                text  toxic\n",
       "0  explanation why the edits made under my userna...      0\n",
       "1  d aww he matches this background colour i m se...      0\n",
       "2  hey man i m really not trying to edit war it s...      0\n",
       "3  more i can t make any real suggestions on impr...      0\n",
       "4  you sir are my hero any chance you remember wh...      0"
      ]
     },
     "execution_count": 11,
     "metadata": {},
     "output_type": "execute_result"
    }
   ],
   "source": [
    "data.head()"
   ]
  },
  {
   "cell_type": "code",
   "execution_count": 12,
   "metadata": {},
   "outputs": [],
   "source": [
    "#Применяю функцию РОS-тэгирования слов.\n",
    "def get_wordnet_pos(word):\n",
    "    tag = nltk.pos_tag([word])[0][1][0].upper()\n",
    "    tag_dict = {\"J\": wordnet.ADJ,               #прилагательное\n",
    "                \"N\": wordnet.NOUN,              #существительное\n",
    "                \"V\": wordnet.VERB,              #глагол\n",
    "                \"R\": wordnet.ADV                #наречие\n",
    "               }  \n",
    "    return tag_dict.get(tag, wordnet.NOUN)\n",
    "\n",
    "lemmatizer = WordNetLemmatizer()\n",
    "\n",
    "#Применяю функцию леммализации тектов постов.\n",
    "def lemm_text(text):\n",
    "    text1= [lemmatizer.lemmatize(w, get_wordnet_pos(w)) for w in nltk.word_tokenize(text)]\n",
    "    clean = \" \".join(text1)\n",
    "    return clean\n"
   ]
  },
  {
   "cell_type": "code",
   "execution_count": 13,
   "metadata": {
    "scrolled": true
   },
   "outputs": [
    {
     "name": "stdout",
     "output_type": "stream",
     "text": [
      "CPU times: total: 38min 42s\n",
      "Wall time: 39min 51s\n"
     ]
    }
   ],
   "source": [
    "%%time\n",
    "#леммализирую тексты постов:\n",
    "data['text'] = data['text'].apply(lemm_text) "
   ]
  },
  {
   "cell_type": "code",
   "execution_count": 14,
   "metadata": {},
   "outputs": [
    {
     "data": {
      "text/plain": [
       "0    explanation why the edits make under my userna...\n",
       "1    d aww he match this background colour i m seem...\n",
       "2    hey man i m really not try to edit war it s ju...\n",
       "3    more i can t make any real suggestion on impro...\n",
       "4    you sir be my hero any chance you remember wha...\n",
       "Name: text, dtype: object"
      ]
     },
     "execution_count": 14,
     "metadata": {},
     "output_type": "execute_result"
    }
   ],
   "source": [
    "data['text'].head()"
   ]
  },
  {
   "cell_type": "code",
   "execution_count": 15,
   "metadata": {},
   "outputs": [
    {
     "data": {
      "text/plain": [
       "((127433, 132168), (127433,), (31859, 132168), (31859,))"
      ]
     },
     "execution_count": 15,
     "metadata": {},
     "output_type": "execute_result"
    }
   ],
   "source": [
    "#Разделяю выборки в соотношении 80/20:\n",
    "features = data.drop(['toxic'], axis=1) \n",
    "target = data.toxic\n",
    "\n",
    "features_train, features_test, target_train, target_test = train_test_split(features,\n",
    "                                                                            target,\n",
    "                                                                            test_size=0.2,\n",
    "                                                                            random_state=STATE)\n",
    "\n",
    "\n",
    "stopwords = set(nltk_stopwords.words('english'))\n",
    "\n",
    "count_tf_idf = TfidfVectorizer(stop_words=stopwords)\n",
    "\n",
    "features_train = count_tf_idf.fit_transform(features_train['text'].values.astype('U'))\n",
    "features_test = count_tf_idf.transform(features_test['text'].values.astype('U'))\n",
    "\n",
    "features_train.shape, target_train.shape, features_test.shape, target_test.shape"
   ]
  },
  {
   "cell_type": "code",
   "execution_count": 16,
   "metadata": {},
   "outputs": [
    {
     "name": "stdout",
     "output_type": "stream",
     "text": [
      "Доля значений 1 в тренировочной выборке: 0.10166911239631807\n"
     ]
    }
   ],
   "source": [
    "#Смотрю соотношение 1/0 в выборках на примере target_train:\n",
    "indices_1 = [i for i,x in enumerate(target_train) if x == 1]\n",
    "count_1 = len(indices_1)\n",
    "\n",
    "indices_0 = [i for i,x in enumerate(target_train) if x == 0]\n",
    "count_0 = len(indices_0)\n",
    "\n",
    "print('Доля значений 1 в тренировочной выборке:', len(indices_1) / (len(indices_1) + len(indices_0)))"
   ]
  },
  {
   "cell_type": "code",
   "execution_count": 17,
   "metadata": {},
   "outputs": [
    {
     "name": "stdout",
     "output_type": "stream",
     "text": [
      "Соотношение в тренировочной выборке:\n",
      "1    0.5\n",
      "0    0.5\n",
      "Name: toxic, dtype: float64\n",
      "(25912, 132168)\n",
      "(25912,)\n"
     ]
    }
   ],
   "source": [
    "#Уменьшаю кол-во 0 в выборках train:\n",
    "\n",
    "data_train = data.iloc[target_train.index]\n",
    "target_train_0 = data_train[data_train['toxic'] == 0]['toxic']\n",
    "target_train_1 = data_train[data_train['toxic'] == 1]['toxic']\n",
    "\n",
    "\n",
    "target_train_0_downsample = target_train_0.sample(target_train_1.shape[0], random_state=STATE)\n",
    "target_train_downsample = pd.concat([target_train_0_downsample, target_train_1])\n",
    "\n",
    "features_train_downsample = data.iloc[target_train_downsample.index]\n",
    "\n",
    "features_train_downsample, target_train_downsample = shuffle(features_train_downsample,\n",
    "                                                         target_train_downsample,\n",
    "                                                         random_state=STATE)\n",
    "\n",
    "features_train_downsample = count_tf_idf.transform(features_train_downsample['text'].values.astype('U'))\n",
    "\n",
    "print('Соотношение в тренировочной выборке:')\n",
    "print(target_train_downsample.value_counts(normalize=True))\n",
    "print(features_train_downsample.shape)\n",
    "print(target_train_downsample.shape)"
   ]
  },
  {
   "cell_type": "markdown",
   "metadata": {},
   "source": [
    "<b> Промежуточный вывод: </b>\n",
    "\n",
    "Были загружены данные сервиса интернет магазина \"Викишоп\". Отображена информация о столбцах датафрейма, на основе которой был выявлен сильный дисбаланс классов целевого признака. На этапе получения признаков и разделения датасета на выборки отбалансирована обучающаю выборка. Проведена проверка датафрейма на наличие полных дубликатов, которая выявила их отсутствие.\n",
    "В рамках подготовки данных очищены тексты комментариев от ненужных знаков, текст леммализирован, убраны стоп-слова."
   ]
  },
  {
   "cell_type": "markdown",
   "metadata": {},
   "source": [
    "## Обучение"
   ]
  },
  {
   "cell_type": "markdown",
   "metadata": {},
   "source": [
    "### Модель логической регрессии"
   ]
  },
  {
   "cell_type": "code",
   "execution_count": 18,
   "metadata": {
    "scrolled": true
   },
   "outputs": [
    {
     "name": "stdout",
     "output_type": "stream",
     "text": [
      "Время подбора гиперпараметров LogisticRegression: 33.43634366989136 секунд\n",
      "Время обучения LogisticRegression: 0.6274046897888184 секунд\n",
      "Лучшие гиперпараметры модели LogisticRegression:  {'C': 10, 'solver': 'saga'}\n",
      "F1 LogisticRegression: 0.89\n"
     ]
    }
   ],
   "source": [
    "model_lr = LogisticRegression(random_state=STATE, n_jobs=-1)\n",
    "start_time = time.time()\n",
    "\n",
    "# Задаем сетку гиперпараметров для подбора\n",
    "hyperparams = {\n",
    "    'solver':['newton-cg', 'lbfgs', 'liblinear', 'saga'],\n",
    "    'C': [1, 10, 20]\n",
    "}\n",
    "# Создаем объект GridSearchCV для подбора гиперпараметров\n",
    "grid_cv = GridSearchCV(estimator = model_lr, param_grid = hyperparams, cv = 3,  scoring = 'f1' )\n",
    "\n",
    "# Обучаем модель с подбором гиперпараметров\n",
    "grid_cv.fit(features_train_downsample, target_train_downsample)\n",
    "\n",
    "# Получаем лучшие гиперпараметры\n",
    "best_params = grid_cv.best_params_\n",
    "\n",
    "end_time = time.time()\n",
    "selection_time_lr = end_time - start_time\n",
    "print(\"Время подбора гиперпараметров LogisticRegression: %s секунд\" % selection_time_lr)\n",
    "\n",
    "start_time = time.time()\n",
    "\n",
    "# Создаем новую модель с лучшими гиперпараметрами\n",
    "best_model_lr = LogisticRegression(**best_params)\n",
    "\n",
    "# Обучаем модель с лучшими гиперпараметрами\n",
    "best_model_lr.fit(features_train_downsample, target_train_downsample)\n",
    "\n",
    "end_time = time.time()\n",
    "training_time_lr = end_time - start_time\n",
    "print(\"Время обучения LogisticRegression: %s секунд\" % training_time_lr)\n",
    "\n",
    "# Вычисление F1\n",
    "f1_model_lr = grid_cv.best_score_\n",
    "print(\"Лучшие гиперпараметры модели LogisticRegression: \", best_params)\n",
    "print(\"F1 LogisticRegression: %.2f\" % f1_model_lr)"
   ]
  },
  {
   "cell_type": "markdown",
   "metadata": {},
   "source": [
    "### Модель XGBClassifier"
   ]
  },
  {
   "cell_type": "code",
   "execution_count": 19,
   "metadata": {},
   "outputs": [
    {
     "name": "stdout",
     "output_type": "stream",
     "text": [
      "Время подбора гиперпараметров XGBClassifier: 130.73158645629883 секунд\n",
      "Время обучения XGBClassifier: 8.099848508834839 секунд\n",
      "Лучшие гиперпараметры модели XGBClassifier:  {'max_depth': 9, 'learning_rate': 0.28800000000000003}\n",
      "F1 XGBClassifier: 0.87\n"
     ]
    }
   ],
   "source": [
    "model_xgbc = XGBClassifier(random_state=STATE, n_jobs=-1)\n",
    "start_time = time.time()\n",
    "\n",
    "# Задаем сетку гиперпараметров для подбора\n",
    "hyperparams = {\n",
    "    'max_depth': [3, 4, 5, 6, 7, 8, 9, 10, 11, 12],\n",
    "    'learning_rate': np.arange(0.0005,0.3,0.0005),\n",
    "}\n",
    "\n",
    "# Создаем объект GridSearchCV для подбора гиперпараметров\n",
    "grid_cv = RandomizedSearchCV(estimator = model_xgbc, param_distributions = hyperparams, cv = 3, scoring = 'f1', n_jobs=-1)\n",
    "\n",
    "# Обучаем модель с подбором гиперпараметров\n",
    "grid_cv.fit(features_train_downsample, target_train_downsample)\n",
    "\n",
    "# Получаем лучшие гиперпараметры\n",
    "best_params = grid_cv.best_params_\n",
    "\n",
    "end_time = time.time()\n",
    "selection_time_xgbc = end_time - start_time\n",
    "print(\"Время подбора гиперпараметров XGBClassifier: %s секунд\" % selection_time_xgbc)\n",
    "\n",
    "start_time = time.time()\n",
    "\n",
    "# Создаем новую модель с лучшими гиперпараметрами\n",
    "best_model_xgbc = XGBClassifier(**best_params)\n",
    "\n",
    "# Обучаем модель с лучшими гиперпараметрами\n",
    "best_model_xgbc.fit(features_train_downsample, target_train_downsample)\n",
    "\n",
    "end_time = time.time()\n",
    "training_time_xgbc = end_time - start_time\n",
    "\n",
    "# Время обучения модели CatBoostClassifier\n",
    "print(\"Время обучения XGBClassifier: %s секунд\" % training_time_xgbc)\n",
    "\n",
    "# Вычисление F1\n",
    "f1_xgbc = grid_cv.best_score_\n",
    "print(\"Лучшие гиперпараметры модели XGBClassifier: \", best_params)\n",
    "print(\"F1 XGBClassifier: %.2f\" % f1_xgbc)"
   ]
  },
  {
   "cell_type": "markdown",
   "metadata": {},
   "source": [
    "### Модель RandomForestClassifier"
   ]
  },
  {
   "cell_type": "code",
   "execution_count": 20,
   "metadata": {},
   "outputs": [
    {
     "name": "stdout",
     "output_type": "stream",
     "text": [
      "Время подбора гиперпараметров RandomForestClassifier: 55.55480194091797 секунд\n",
      "Время обучения RandomForestClassifier: 1.4160988330841064 секунд\n",
      "Лучшие гиперпараметры модели RandomForestClassifier:  {'max_depth': 9, 'n_estimators': 29}\n",
      "F1 RandomForestClassifier: 0.77\n"
     ]
    }
   ],
   "source": [
    "model_rf = RandomForestClassifier(random_state=STATE, n_jobs=-1)\n",
    "start_time = time.time()\n",
    "\n",
    "# Задаем сетку гиперпараметров для подбора\n",
    "hyperparams = {\n",
    "    'n_estimators': ([x for x in range(10, 30)]),\n",
    "    'max_depth': ([x for x in range(1, 10)])\n",
    "}\n",
    "\n",
    "# Создаем объект GridSearchCV для подбора гиперпараметров\n",
    "grid_cv = GridSearchCV(estimator = model_rf, param_grid = hyperparams, cv = 3, scoring = 'f1')\n",
    "\n",
    "# Обучаем модель с подбором гиперпараметров\n",
    "grid_cv.fit(features_train_downsample, target_train_downsample)\n",
    "\n",
    "# Получаем лучшие гиперпараметры\n",
    "best_params = grid_cv.best_params_\n",
    "\n",
    "end_time = time.time()\n",
    "selection_time_rf = end_time - start_time\n",
    "print(\"Время подбора гиперпараметров RandomForestClassifier: %s секунд\" % selection_time_rf)\n",
    "\n",
    "start_time = time.time()\n",
    "\n",
    "# Создаем новую модель с лучшими гиперпараметрами\n",
    "best_model_rf = RandomForestClassifier(**best_params)\n",
    "\n",
    "# Обучаем модель с лучшими гиперпараметрами\n",
    "best_model_rf.fit(features_train_downsample, target_train_downsample)\n",
    "\n",
    "end_time = time.time()\n",
    "training_time_rf = end_time - start_time\n",
    "print(\"Время обучения RandomForestClassifier: %s секунд\" % training_time_rf)\n",
    "\n",
    "# Вычисление F1\n",
    "f1_rf = grid_cv.best_score_\n",
    "\n",
    "print(\"Лучшие гиперпараметры модели RandomForestClassifier: \", best_params)\n",
    "print(\"F1 RandomForestClassifier: %.2f\" % f1_rf)"
   ]
  },
  {
   "cell_type": "markdown",
   "metadata": {},
   "source": [
    "<b> Промежуточный вывод: </b>\n",
    "\n",
    "Обучены следующие модели:\n",
    "   * LogisticRegression;\n",
    "   * XGBClassifier;\n",
    "   * RandomForestClassifier.\n",
    "      \n",
    "Для каждой модели подоброны лучшие гиперпараметры, посчитано время обучения и метрика F1."
   ]
  },
  {
   "cell_type": "markdown",
   "metadata": {},
   "source": [
    "## Анализ моделей"
   ]
  },
  {
   "cell_type": "code",
   "execution_count": 21,
   "metadata": {},
   "outputs": [
    {
     "data": {
      "text/html": [
       "<div>\n",
       "<style scoped>\n",
       "    .dataframe tbody tr th:only-of-type {\n",
       "        vertical-align: middle;\n",
       "    }\n",
       "\n",
       "    .dataframe tbody tr th {\n",
       "        vertical-align: top;\n",
       "    }\n",
       "\n",
       "    .dataframe thead th {\n",
       "        text-align: right;\n",
       "    }\n",
       "</style>\n",
       "<table border=\"1\" class=\"dataframe\">\n",
       "  <thead>\n",
       "    <tr style=\"text-align: right;\">\n",
       "      <th></th>\n",
       "      <th>Модель</th>\n",
       "      <th>Время подбора гипперпараметров (сек.)</th>\n",
       "      <th>Время обучения (сек.)</th>\n",
       "      <th>F1</th>\n",
       "    </tr>\n",
       "  </thead>\n",
       "  <tbody>\n",
       "    <tr>\n",
       "      <th>0</th>\n",
       "      <td>LogisticRegression</td>\n",
       "      <td>33.436344</td>\n",
       "      <td>0.627405</td>\n",
       "      <td>0.891527</td>\n",
       "    </tr>\n",
       "    <tr>\n",
       "      <th>1</th>\n",
       "      <td>XGBClassifier</td>\n",
       "      <td>130.731586</td>\n",
       "      <td>8.099849</td>\n",
       "      <td>0.872963</td>\n",
       "    </tr>\n",
       "    <tr>\n",
       "      <th>2</th>\n",
       "      <td>RandomForestClassifier</td>\n",
       "      <td>55.554802</td>\n",
       "      <td>1.416099</td>\n",
       "      <td>0.767537</td>\n",
       "    </tr>\n",
       "  </tbody>\n",
       "</table>\n",
       "</div>"
      ],
      "text/plain": [
       "                   Модель  Время подбора гипперпараметров (сек.)  \\\n",
       "0      LogisticRegression                              33.436344   \n",
       "1           XGBClassifier                             130.731586   \n",
       "2  RandomForestClassifier                              55.554802   \n",
       "\n",
       "   Время обучения (сек.)        F1  \n",
       "0               0.627405  0.891527  \n",
       "1               8.099849  0.872963  \n",
       "2               1.416099  0.767537  "
      ]
     },
     "execution_count": 21,
     "metadata": {},
     "output_type": "execute_result"
    }
   ],
   "source": [
    "pd.DataFrame({'Модель': ['LogisticRegression', 'XGBClassifier', 'RandomForestClassifier'],\n",
    "              'Время подбора гипперпараметров (сек.)': [selection_time_lr, selection_time_xgbc, selection_time_rf],\n",
    "              'Время обучения (сек.)': [training_time_lr, training_time_xgbc, training_time_rf],\n",
    "              'F1': [f1_model_lr, f1_xgbc, f1_rf]})"
   ]
  },
  {
   "cell_type": "markdown",
   "metadata": {},
   "source": [
    "Значения метрики F1 на всех моделях больше требуемого 0.75. Наилучший результат показала модель LogisticRegression с значением 0.89."
   ]
  },
  {
   "cell_type": "markdown",
   "metadata": {},
   "source": [
    "## Вывод"
   ]
  },
  {
   "cell_type": "markdown",
   "metadata": {},
   "source": [
    "1. Данные загружены, изучены и разделены на обучающую и тестовую выборки. ыборки отбалансирована обучающаю выборка. Проведена проверка на наличие неявных дубликатов, которая выявила их отсутствие. В рамках подготовки данных очищены тексты комментариев от ненужных знаков, текст леммализирован, убраны стоп-слова.\n",
    "2. Обучены следующие модели:\n",
    "    * LogisticRegression;\n",
    "    * XGBClassifier;\n",
    "    * RandomForestClassifier.\n",
    "3. Значения метрики F1 на всех моделях больше требуемого 0.75.\n",
    "\n",
    "<b> Лучшей моделью является LogisticRegression </b>:\n",
    "* время подбора гипперпараметров (сек.): 30.96;\n",
    "* время обучения (сек.): 0.64;\n",
    "* F1: 0.89."
   ]
  }
 ],
 "metadata": {
  "ExecuteTimeLog": [
   {
    "duration": 2174,
    "start_time": "2023-07-18T09:43:02.780Z"
   },
   {
    "duration": 6,
    "start_time": "2023-07-18T09:44:25.092Z"
   },
   {
    "duration": 134,
    "start_time": "2023-07-18T10:22:48.368Z"
   },
   {
    "duration": 80,
    "start_time": "2023-07-18T10:23:17.306Z"
   },
   {
    "duration": 2422,
    "start_time": "2023-07-18T10:24:26.645Z"
   },
   {
    "duration": 36,
    "start_time": "2023-07-18T10:24:55.168Z"
   },
   {
    "duration": 15,
    "start_time": "2023-07-18T10:25:13.472Z"
   },
   {
    "duration": 261,
    "start_time": "2023-07-18T10:25:31.467Z"
   },
   {
    "duration": 131,
    "start_time": "2023-07-18T10:25:42.476Z"
   },
   {
    "duration": 133,
    "start_time": "2023-07-18T10:26:55.239Z"
   },
   {
    "duration": 7980,
    "start_time": "2023-07-18T10:27:47.867Z"
   },
   {
    "duration": 2632,
    "start_time": "2023-07-18T10:31:17.801Z"
   },
   {
    "duration": 1562,
    "start_time": "2023-07-18T10:31:36.440Z"
   },
   {
    "duration": 1087,
    "start_time": "2023-07-18T10:31:38.005Z"
   },
   {
    "duration": 58,
    "start_time": "2023-07-18T10:31:39.095Z"
   },
   {
    "duration": 23,
    "start_time": "2023-07-18T10:31:39.155Z"
   },
   {
    "duration": 395,
    "start_time": "2023-07-18T10:31:39.182Z"
   },
   {
    "duration": 665,
    "start_time": "2023-07-18T10:31:39.580Z"
   },
   {
    "duration": 0,
    "start_time": "2023-07-18T10:31:40.252Z"
   },
   {
    "duration": 2119,
    "start_time": "2023-07-18T10:32:22.404Z"
   },
   {
    "duration": 111,
    "start_time": "2023-07-18T10:33:17.793Z"
   },
   {
    "duration": 4,
    "start_time": "2023-07-18T10:45:25.435Z"
   },
   {
    "duration": 4,
    "start_time": "2023-07-18T10:45:57.835Z"
   },
   {
    "duration": 4,
    "start_time": "2023-07-18T10:46:21.187Z"
   },
   {
    "duration": 4,
    "start_time": "2023-07-18T10:46:46.240Z"
   },
   {
    "duration": 9,
    "start_time": "2023-07-18T10:48:12.569Z"
   },
   {
    "duration": 820,
    "start_time": "2023-07-18T10:48:13.295Z"
   },
   {
    "duration": 49,
    "start_time": "2023-07-18T10:48:14.118Z"
   },
   {
    "duration": 18,
    "start_time": "2023-07-18T10:48:14.174Z"
   },
   {
    "duration": 291,
    "start_time": "2023-07-18T10:48:14.195Z"
   },
   {
    "duration": 128,
    "start_time": "2023-07-18T10:48:14.488Z"
   },
   {
    "duration": 2132,
    "start_time": "2023-07-18T10:50:02.264Z"
   },
   {
    "duration": 1050,
    "start_time": "2023-07-18T10:50:04.398Z"
   },
   {
    "duration": 42,
    "start_time": "2023-07-18T10:50:05.451Z"
   },
   {
    "duration": 26,
    "start_time": "2023-07-18T10:50:05.496Z"
   },
   {
    "duration": 327,
    "start_time": "2023-07-18T10:50:05.525Z"
   },
   {
    "duration": 153,
    "start_time": "2023-07-18T10:50:05.862Z"
   },
   {
    "duration": 166,
    "start_time": "2023-07-18T10:50:06.018Z"
   },
   {
    "duration": 8050,
    "start_time": "2023-07-18T10:50:43.345Z"
   },
   {
    "duration": 139,
    "start_time": "2023-07-18T10:51:49.349Z"
   },
   {
    "duration": 15,
    "start_time": "2023-07-18T10:52:45.020Z"
   },
   {
    "duration": 12958,
    "start_time": "2023-07-18T10:53:00.051Z"
   },
   {
    "duration": 3,
    "start_time": "2023-07-18T10:54:57.449Z"
   },
   {
    "duration": 7,
    "start_time": "2023-07-18T10:56:36.348Z"
   },
   {
    "duration": 5,
    "start_time": "2023-07-18T10:57:58.459Z"
   },
   {
    "duration": 2399,
    "start_time": "2023-07-18T10:57:59.854Z"
   },
   {
    "duration": 140,
    "start_time": "2023-07-18T10:58:27.052Z"
   },
   {
    "duration": 2596,
    "start_time": "2023-07-18T10:58:35.648Z"
   },
   {
    "duration": 138,
    "start_time": "2023-07-18T10:59:08.948Z"
   },
   {
    "duration": 56,
    "start_time": "2023-07-18T10:59:17.949Z"
   },
   {
    "duration": 38,
    "start_time": "2023-07-18T11:00:44.322Z"
   },
   {
    "duration": 54,
    "start_time": "2023-07-18T11:01:36.453Z"
   },
   {
    "duration": 2055,
    "start_time": "2023-07-18T11:34:09.982Z"
   },
   {
    "duration": 1078,
    "start_time": "2023-07-18T11:34:12.039Z"
   },
   {
    "duration": 45,
    "start_time": "2023-07-18T11:34:13.119Z"
   },
   {
    "duration": 42,
    "start_time": "2023-07-18T11:34:13.167Z"
   },
   {
    "duration": 312,
    "start_time": "2023-07-18T11:34:13.211Z"
   },
   {
    "duration": 184,
    "start_time": "2023-07-18T11:34:13.526Z"
   },
   {
    "duration": 8692,
    "start_time": "2023-07-18T11:34:13.712Z"
   },
   {
    "duration": 14786,
    "start_time": "2023-07-18T11:35:22.080Z"
   },
   {
    "duration": 4,
    "start_time": "2023-07-18T17:36:54.045Z"
   },
   {
    "duration": 5,
    "start_time": "2023-07-18T17:37:24.201Z"
   },
   {
    "duration": 5,
    "start_time": "2023-07-18T17:38:58.645Z"
   },
   {
    "duration": 2431,
    "start_time": "2023-07-18T17:39:16.019Z"
   },
   {
    "duration": 2337,
    "start_time": "2023-07-18T17:39:50.175Z"
   },
   {
    "duration": 2184,
    "start_time": "2023-07-18T17:54:09.302Z"
   },
   {
    "duration": 1693,
    "start_time": "2023-07-18T17:55:06.069Z"
   },
   {
    "duration": 919,
    "start_time": "2023-07-18T17:55:07.764Z"
   },
   {
    "duration": 37,
    "start_time": "2023-07-18T17:55:08.684Z"
   },
   {
    "duration": 12,
    "start_time": "2023-07-18T17:55:08.722Z"
   },
   {
    "duration": 273,
    "start_time": "2023-07-18T17:55:08.735Z"
   },
   {
    "duration": 122,
    "start_time": "2023-07-18T17:55:09.010Z"
   },
   {
    "duration": 134,
    "start_time": "2023-07-18T17:55:09.134Z"
   },
   {
    "duration": 6491,
    "start_time": "2023-07-18T17:55:25.593Z"
   },
   {
    "duration": 11135,
    "start_time": "2023-07-18T17:58:56.339Z"
   },
   {
    "duration": 8,
    "start_time": "2023-07-18T18:00:22.140Z"
   },
   {
    "duration": 3,
    "start_time": "2023-07-18T18:01:55.897Z"
   },
   {
    "duration": 8,
    "start_time": "2023-07-18T18:02:32.804Z"
   },
   {
    "duration": 12,
    "start_time": "2023-07-18T18:03:55.239Z"
   },
   {
    "duration": 8,
    "start_time": "2023-07-18T18:04:00.967Z"
   },
   {
    "duration": 17,
    "start_time": "2023-07-18T18:04:11.941Z"
   },
   {
    "duration": 13,
    "start_time": "2023-07-18T18:04:19.693Z"
   },
   {
    "duration": 1780,
    "start_time": "2023-07-18T18:04:30.615Z"
   },
   {
    "duration": 876,
    "start_time": "2023-07-18T18:04:32.397Z"
   },
   {
    "duration": 34,
    "start_time": "2023-07-18T18:04:33.274Z"
   },
   {
    "duration": 14,
    "start_time": "2023-07-18T18:04:33.310Z"
   },
   {
    "duration": 260,
    "start_time": "2023-07-18T18:04:33.325Z"
   },
   {
    "duration": 121,
    "start_time": "2023-07-18T18:04:33.587Z"
   },
   {
    "duration": 3,
    "start_time": "2023-07-18T18:04:33.710Z"
   },
   {
    "duration": 24,
    "start_time": "2023-07-18T18:04:33.714Z"
   },
   {
    "duration": 16,
    "start_time": "2023-07-18T18:04:33.740Z"
   },
   {
    "duration": 7,
    "start_time": "2023-07-18T18:04:41.254Z"
   },
   {
    "duration": 6,
    "start_time": "2023-07-18T18:05:32.239Z"
   },
   {
    "duration": 4,
    "start_time": "2023-07-18T18:05:50.392Z"
   },
   {
    "duration": 908,
    "start_time": "2023-07-18T18:06:18.958Z"
   },
   {
    "duration": 146,
    "start_time": "2023-07-18T18:06:57.553Z"
   },
   {
    "duration": 129,
    "start_time": "2023-07-18T18:07:08.947Z"
   },
   {
    "duration": 4,
    "start_time": "2023-07-18T18:07:13.768Z"
   },
   {
    "duration": 767,
    "start_time": "2023-07-18T18:07:17.589Z"
   },
   {
    "duration": 38,
    "start_time": "2023-07-18T18:07:18.359Z"
   },
   {
    "duration": 9,
    "start_time": "2023-07-18T18:07:18.399Z"
   },
   {
    "duration": 276,
    "start_time": "2023-07-18T18:07:18.411Z"
   },
   {
    "duration": 112,
    "start_time": "2023-07-18T18:07:18.689Z"
   },
   {
    "duration": 4,
    "start_time": "2023-07-18T18:07:20.950Z"
   },
   {
    "duration": 9,
    "start_time": "2023-07-18T18:07:21.133Z"
   },
   {
    "duration": 12,
    "start_time": "2023-07-18T18:07:21.360Z"
   },
   {
    "duration": 7,
    "start_time": "2023-07-18T18:07:21.583Z"
   },
   {
    "duration": 4,
    "start_time": "2023-07-18T18:07:24.818Z"
   },
   {
    "duration": 50,
    "start_time": "2023-07-18T18:08:05.793Z"
   },
   {
    "duration": 8,
    "start_time": "2023-07-18T18:08:53.157Z"
   },
   {
    "duration": 37,
    "start_time": "2023-07-18T18:09:13.257Z"
   },
   {
    "duration": 37,
    "start_time": "2023-07-18T18:09:33.901Z"
   },
   {
    "duration": 16,
    "start_time": "2023-07-18T18:09:47.609Z"
   },
   {
    "duration": 28,
    "start_time": "2023-07-18T18:10:26.484Z"
   },
   {
    "duration": 59,
    "start_time": "2023-07-18T18:10:44.301Z"
   },
   {
    "duration": 53,
    "start_time": "2023-07-18T18:19:06.901Z"
   },
   {
    "duration": 58,
    "start_time": "2023-07-18T18:19:17.120Z"
   },
   {
    "duration": 66,
    "start_time": "2023-07-18T18:19:36.094Z"
   },
   {
    "duration": 55,
    "start_time": "2023-07-18T18:19:41.472Z"
   },
   {
    "duration": 23,
    "start_time": "2023-07-18T18:36:43.397Z"
   },
   {
    "duration": 1868,
    "start_time": "2023-07-18T18:38:36.927Z"
   },
   {
    "duration": 911,
    "start_time": "2023-07-18T18:38:38.797Z"
   },
   {
    "duration": 43,
    "start_time": "2023-07-18T18:38:39.710Z"
   },
   {
    "duration": 11,
    "start_time": "2023-07-18T18:38:39.755Z"
   },
   {
    "duration": 298,
    "start_time": "2023-07-18T18:38:39.768Z"
   },
   {
    "duration": 137,
    "start_time": "2023-07-18T18:38:40.068Z"
   },
   {
    "duration": 3,
    "start_time": "2023-07-18T18:38:40.207Z"
   },
   {
    "duration": 18,
    "start_time": "2023-07-18T18:38:40.212Z"
   },
   {
    "duration": 22,
    "start_time": "2023-07-18T18:38:40.232Z"
   },
   {
    "duration": 10,
    "start_time": "2023-07-18T18:38:40.257Z"
   },
   {
    "duration": 21,
    "start_time": "2023-07-18T18:38:40.269Z"
   },
   {
    "duration": 46,
    "start_time": "2023-07-18T18:38:40.292Z"
   },
   {
    "duration": 148,
    "start_time": "2023-07-18T18:38:40.339Z"
   },
   {
    "duration": 0,
    "start_time": "2023-07-18T18:38:40.489Z"
   },
   {
    "duration": 0,
    "start_time": "2023-07-18T18:38:40.492Z"
   },
   {
    "duration": 3,
    "start_time": "2023-07-18T18:39:04.642Z"
   },
   {
    "duration": 37,
    "start_time": "2023-07-18T18:39:06.656Z"
   },
   {
    "duration": 63,
    "start_time": "2023-07-18T18:39:08.160Z"
   },
   {
    "duration": 5,
    "start_time": "2023-07-18T18:40:52.399Z"
   },
   {
    "duration": 11,
    "start_time": "2023-07-18T18:41:09.676Z"
   },
   {
    "duration": 30,
    "start_time": "2023-07-18T18:41:55.185Z"
   },
   {
    "duration": 840,
    "start_time": "2023-07-18T18:41:57.410Z"
   },
   {
    "duration": 41,
    "start_time": "2023-07-18T18:41:58.253Z"
   },
   {
    "duration": 9,
    "start_time": "2023-07-18T18:42:00.331Z"
   },
   {
    "duration": 328,
    "start_time": "2023-07-18T18:42:00.491Z"
   },
   {
    "duration": 129,
    "start_time": "2023-07-18T18:42:00.821Z"
   },
   {
    "duration": 3,
    "start_time": "2023-07-18T18:42:01.302Z"
   },
   {
    "duration": 10,
    "start_time": "2023-07-18T18:42:01.476Z"
   },
   {
    "duration": 18,
    "start_time": "2023-07-18T18:42:01.652Z"
   },
   {
    "duration": 8,
    "start_time": "2023-07-18T18:42:01.827Z"
   },
   {
    "duration": 51,
    "start_time": "2023-07-18T18:42:01.999Z"
   },
   {
    "duration": 58,
    "start_time": "2023-07-18T18:42:02.180Z"
   },
   {
    "duration": 5,
    "start_time": "2023-07-18T18:42:02.371Z"
   },
   {
    "duration": 37,
    "start_time": "2023-07-18T18:42:02.558Z"
   },
   {
    "duration": 61,
    "start_time": "2023-07-18T18:42:02.784Z"
   },
   {
    "duration": 3,
    "start_time": "2023-07-18T18:42:05.227Z"
   },
   {
    "duration": 47,
    "start_time": "2023-07-19T09:27:55.301Z"
   },
   {
    "duration": 1884,
    "start_time": "2023-07-19T09:28:38.145Z"
   },
   {
    "duration": 3250,
    "start_time": "2023-07-19T09:28:40.032Z"
   },
   {
    "duration": 32,
    "start_time": "2023-07-19T09:28:43.284Z"
   },
   {
    "duration": 12,
    "start_time": "2023-07-19T09:28:43.318Z"
   },
   {
    "duration": 224,
    "start_time": "2023-07-19T09:28:43.333Z"
   },
   {
    "duration": 116,
    "start_time": "2023-07-19T09:28:43.559Z"
   },
   {
    "duration": 3,
    "start_time": "2023-07-19T09:28:43.677Z"
   },
   {
    "duration": 9,
    "start_time": "2023-07-19T09:28:43.682Z"
   },
   {
    "duration": 11,
    "start_time": "2023-07-19T09:28:43.692Z"
   },
   {
    "duration": 15,
    "start_time": "2023-07-19T09:28:43.705Z"
   },
   {
    "duration": 22,
    "start_time": "2023-07-19T09:28:43.721Z"
   },
   {
    "duration": 84,
    "start_time": "2023-07-19T09:28:43.745Z"
   },
   {
    "duration": 4,
    "start_time": "2023-07-19T09:28:43.831Z"
   },
   {
    "duration": 42,
    "start_time": "2023-07-19T09:28:43.838Z"
   },
   {
    "duration": 52,
    "start_time": "2023-07-19T09:28:43.881Z"
   },
   {
    "duration": 2,
    "start_time": "2023-07-19T09:28:43.934Z"
   },
   {
    "duration": 221,
    "start_time": "2023-07-19T09:28:43.938Z"
   },
   {
    "duration": 13,
    "start_time": "2023-07-19T09:29:05.190Z"
   },
   {
    "duration": 83,
    "start_time": "2023-07-19T09:31:23.916Z"
   },
   {
    "duration": 63,
    "start_time": "2023-07-19T09:32:19.459Z"
   },
   {
    "duration": 83,
    "start_time": "2023-07-19T09:33:24.117Z"
   },
   {
    "duration": 62,
    "start_time": "2023-07-19T09:39:39.923Z"
   },
   {
    "duration": 66,
    "start_time": "2023-07-19T09:40:59.211Z"
   },
   {
    "duration": 41,
    "start_time": "2023-07-19T09:49:40.424Z"
   },
   {
    "duration": 1964,
    "start_time": "2023-07-20T07:27:32.114Z"
   },
   {
    "duration": 3291,
    "start_time": "2023-07-20T07:27:34.080Z"
   },
   {
    "duration": 34,
    "start_time": "2023-07-20T07:27:37.372Z"
   },
   {
    "duration": 12,
    "start_time": "2023-07-20T07:27:37.408Z"
   },
   {
    "duration": 252,
    "start_time": "2023-07-20T07:27:37.422Z"
   },
   {
    "duration": 127,
    "start_time": "2023-07-20T07:27:37.675Z"
   },
   {
    "duration": 3,
    "start_time": "2023-07-20T07:27:37.813Z"
   },
   {
    "duration": 19,
    "start_time": "2023-07-20T07:27:37.817Z"
   },
   {
    "duration": 22,
    "start_time": "2023-07-20T07:27:37.838Z"
   },
   {
    "duration": 24,
    "start_time": "2023-07-20T07:27:37.862Z"
   },
   {
    "duration": 43,
    "start_time": "2023-07-20T07:27:37.888Z"
   },
   {
    "duration": 56,
    "start_time": "2023-07-20T07:27:37.933Z"
   },
   {
    "duration": 4,
    "start_time": "2023-07-20T07:27:37.991Z"
   },
   {
    "duration": 40,
    "start_time": "2023-07-20T07:27:37.997Z"
   },
   {
    "duration": 61,
    "start_time": "2023-07-20T07:27:38.039Z"
   },
   {
    "duration": 161,
    "start_time": "2023-07-20T07:27:38.102Z"
   },
   {
    "duration": 0,
    "start_time": "2023-07-20T07:27:38.265Z"
   },
   {
    "duration": 0,
    "start_time": "2023-07-20T07:27:38.267Z"
   },
   {
    "duration": 11,
    "start_time": "2023-07-20T07:27:56.141Z"
   },
   {
    "duration": 7,
    "start_time": "2023-07-20T07:28:03.585Z"
   },
   {
    "duration": 1634,
    "start_time": "2023-07-20T07:30:10.931Z"
   },
   {
    "duration": 871,
    "start_time": "2023-07-20T07:30:12.567Z"
   },
   {
    "duration": 33,
    "start_time": "2023-07-20T07:30:13.440Z"
   },
   {
    "duration": 27,
    "start_time": "2023-07-20T07:30:13.475Z"
   },
   {
    "duration": 255,
    "start_time": "2023-07-20T07:30:13.503Z"
   },
   {
    "duration": 134,
    "start_time": "2023-07-20T07:30:13.759Z"
   },
   {
    "duration": 4,
    "start_time": "2023-07-20T07:30:13.895Z"
   },
   {
    "duration": 40,
    "start_time": "2023-07-20T07:30:13.900Z"
   },
   {
    "duration": 38,
    "start_time": "2023-07-20T07:30:13.942Z"
   },
   {
    "duration": 27,
    "start_time": "2023-07-20T07:30:13.983Z"
   },
   {
    "duration": 26,
    "start_time": "2023-07-20T07:30:14.012Z"
   },
   {
    "duration": 535,
    "start_time": "2023-07-20T07:30:14.039Z"
   },
   {
    "duration": 0,
    "start_time": "2023-07-20T07:30:14.576Z"
   },
   {
    "duration": 0,
    "start_time": "2023-07-20T07:30:14.578Z"
   },
   {
    "duration": 0,
    "start_time": "2023-07-20T07:30:14.579Z"
   },
   {
    "duration": 0,
    "start_time": "2023-07-20T07:30:14.580Z"
   },
   {
    "duration": 0,
    "start_time": "2023-07-20T07:30:14.581Z"
   },
   {
    "duration": 0,
    "start_time": "2023-07-20T07:30:14.582Z"
   },
   {
    "duration": 0,
    "start_time": "2023-07-20T07:30:14.583Z"
   },
   {
    "duration": 4,
    "start_time": "2023-07-20T07:36:13.396Z"
   },
   {
    "duration": 10,
    "start_time": "2023-07-20T07:36:14.742Z"
   },
   {
    "duration": 18,
    "start_time": "2023-07-20T07:36:22.891Z"
   },
   {
    "duration": 1697,
    "start_time": "2023-07-20T07:36:30.377Z"
   },
   {
    "duration": 873,
    "start_time": "2023-07-20T07:36:32.076Z"
   },
   {
    "duration": 33,
    "start_time": "2023-07-20T07:36:32.951Z"
   },
   {
    "duration": 32,
    "start_time": "2023-07-20T07:36:32.987Z"
   },
   {
    "duration": 243,
    "start_time": "2023-07-20T07:36:33.021Z"
   },
   {
    "duration": 128,
    "start_time": "2023-07-20T07:36:33.266Z"
   },
   {
    "duration": 3,
    "start_time": "2023-07-20T07:36:33.396Z"
   },
   {
    "duration": 70,
    "start_time": "2023-07-20T07:36:33.412Z"
   },
   {
    "duration": 39,
    "start_time": "2023-07-20T07:36:33.484Z"
   },
   {
    "duration": 67,
    "start_time": "2023-07-20T07:36:33.525Z"
   },
   {
    "duration": 33,
    "start_time": "2023-07-20T07:36:33.594Z"
   },
   {
    "duration": 492,
    "start_time": "2023-07-20T07:36:33.628Z"
   },
   {
    "duration": 0,
    "start_time": "2023-07-20T07:36:34.122Z"
   },
   {
    "duration": 0,
    "start_time": "2023-07-20T07:36:34.123Z"
   },
   {
    "duration": 0,
    "start_time": "2023-07-20T07:36:34.124Z"
   },
   {
    "duration": 0,
    "start_time": "2023-07-20T07:36:34.125Z"
   },
   {
    "duration": 0,
    "start_time": "2023-07-20T07:36:34.126Z"
   },
   {
    "duration": 0,
    "start_time": "2023-07-20T07:36:34.127Z"
   },
   {
    "duration": 1,
    "start_time": "2023-07-20T07:36:34.128Z"
   },
   {
    "duration": 6,
    "start_time": "2023-07-20T07:38:03.707Z"
   },
   {
    "duration": 809,
    "start_time": "2023-07-20T07:38:04.342Z"
   },
   {
    "duration": 30,
    "start_time": "2023-07-20T07:38:05.153Z"
   },
   {
    "duration": 7,
    "start_time": "2023-07-20T07:38:06.233Z"
   },
   {
    "duration": 248,
    "start_time": "2023-07-20T07:38:08.742Z"
   },
   {
    "duration": 150,
    "start_time": "2023-07-20T07:38:10.288Z"
   },
   {
    "duration": 12,
    "start_time": "2023-07-20T07:38:14.070Z"
   },
   {
    "duration": 3854,
    "start_time": "2023-07-20T07:38:23.871Z"
   },
   {
    "duration": 7,
    "start_time": "2023-07-20T07:38:28.955Z"
   },
   {
    "duration": 29,
    "start_time": "2023-07-20T07:39:05.246Z"
   },
   {
    "duration": 39,
    "start_time": "2023-07-20T07:39:21.193Z"
   },
   {
    "duration": 7,
    "start_time": "2023-07-20T07:39:33.741Z"
   },
   {
    "duration": 7,
    "start_time": "2023-07-20T07:39:55.815Z"
   },
   {
    "duration": 31,
    "start_time": "2023-07-20T07:40:12.421Z"
   },
   {
    "duration": 8,
    "start_time": "2023-07-20T07:40:13.223Z"
   },
   {
    "duration": 19,
    "start_time": "2023-07-20T07:40:19.157Z"
   },
   {
    "duration": 14,
    "start_time": "2023-07-20T07:40:30.141Z"
   },
   {
    "duration": 15,
    "start_time": "2023-07-20T07:40:37.210Z"
   },
   {
    "duration": 8,
    "start_time": "2023-07-20T07:40:37.429Z"
   },
   {
    "duration": 16,
    "start_time": "2023-07-20T07:43:54.747Z"
   },
   {
    "duration": 810,
    "start_time": "2023-07-20T07:43:54.896Z"
   },
   {
    "duration": 34,
    "start_time": "2023-07-20T07:43:55.707Z"
   },
   {
    "duration": 45,
    "start_time": "2023-07-20T07:43:55.742Z"
   },
   {
    "duration": 266,
    "start_time": "2023-07-20T07:43:55.790Z"
   },
   {
    "duration": 123,
    "start_time": "2023-07-20T07:43:56.058Z"
   },
   {
    "duration": 10,
    "start_time": "2023-07-20T07:43:59.288Z"
   },
   {
    "duration": 4,
    "start_time": "2023-07-20T07:44:00.649Z"
   },
   {
    "duration": 29,
    "start_time": "2023-07-20T07:44:01.862Z"
   },
   {
    "duration": 16,
    "start_time": "2023-07-20T07:44:32.082Z"
   },
   {
    "duration": 5,
    "start_time": "2023-07-20T07:44:41.822Z"
   },
   {
    "duration": 778,
    "start_time": "2023-07-20T07:44:42.051Z"
   },
   {
    "duration": 28,
    "start_time": "2023-07-20T07:44:42.831Z"
   },
   {
    "duration": 9,
    "start_time": "2023-07-20T07:44:42.861Z"
   },
   {
    "duration": 249,
    "start_time": "2023-07-20T07:44:42.872Z"
   },
   {
    "duration": 104,
    "start_time": "2023-07-20T07:44:43.122Z"
   },
   {
    "duration": 10,
    "start_time": "2023-07-20T07:44:44.267Z"
   },
   {
    "duration": 3,
    "start_time": "2023-07-20T07:44:45.816Z"
   },
   {
    "duration": 1125,
    "start_time": "2023-07-20T07:44:46.574Z"
   },
   {
    "duration": 28,
    "start_time": "2023-07-20T07:44:57.217Z"
   },
   {
    "duration": 9,
    "start_time": "2023-07-20T07:45:28.944Z"
   },
   {
    "duration": 1574,
    "start_time": "2023-07-20T07:45:41.547Z"
   },
   {
    "duration": 828,
    "start_time": "2023-07-20T07:45:43.123Z"
   },
   {
    "duration": 32,
    "start_time": "2023-07-20T07:45:43.953Z"
   },
   {
    "duration": 11,
    "start_time": "2023-07-20T07:45:43.987Z"
   },
   {
    "duration": 245,
    "start_time": "2023-07-20T07:45:44.000Z"
   },
   {
    "duration": 125,
    "start_time": "2023-07-20T07:45:44.247Z"
   },
   {
    "duration": 10,
    "start_time": "2023-07-20T07:45:44.374Z"
   },
   {
    "duration": 16,
    "start_time": "2023-07-20T07:45:44.386Z"
   },
   {
    "duration": 130,
    "start_time": "2023-07-20T07:45:44.404Z"
   },
   {
    "duration": 0,
    "start_time": "2023-07-20T07:45:44.536Z"
   },
   {
    "duration": 0,
    "start_time": "2023-07-20T07:45:44.537Z"
   },
   {
    "duration": 0,
    "start_time": "2023-07-20T07:45:44.538Z"
   },
   {
    "duration": 0,
    "start_time": "2023-07-20T07:45:44.539Z"
   },
   {
    "duration": 0,
    "start_time": "2023-07-20T07:45:44.541Z"
   },
   {
    "duration": 0,
    "start_time": "2023-07-20T07:45:44.542Z"
   },
   {
    "duration": 0,
    "start_time": "2023-07-20T07:45:44.543Z"
   },
   {
    "duration": 0,
    "start_time": "2023-07-20T07:45:44.544Z"
   },
   {
    "duration": 0,
    "start_time": "2023-07-20T07:45:44.545Z"
   },
   {
    "duration": 0,
    "start_time": "2023-07-20T07:45:44.546Z"
   },
   {
    "duration": 1400,
    "start_time": "2023-07-20T07:46:09.369Z"
   },
   {
    "duration": 5,
    "start_time": "2023-07-20T07:46:30.946Z"
   },
   {
    "duration": 3,
    "start_time": "2023-07-20T07:47:15.345Z"
   },
   {
    "duration": 4034,
    "start_time": "2023-07-20T07:47:16.517Z"
   },
   {
    "duration": 7,
    "start_time": "2023-07-20T07:47:23.475Z"
   },
   {
    "duration": 9,
    "start_time": "2023-07-20T07:47:34.673Z"
   },
   {
    "duration": 8,
    "start_time": "2023-07-20T07:47:41.889Z"
   },
   {
    "duration": 4,
    "start_time": "2023-07-20T07:47:43.195Z"
   },
   {
    "duration": 331,
    "start_time": "2023-07-20T07:47:44.598Z"
   },
   {
    "duration": 5,
    "start_time": "2023-07-20T07:49:42.491Z"
   },
   {
    "duration": 4,
    "start_time": "2023-07-20T07:50:25.427Z"
   },
   {
    "duration": 325,
    "start_time": "2023-07-20T07:50:25.743Z"
   },
   {
    "duration": 5,
    "start_time": "2023-07-20T07:53:34.066Z"
   },
   {
    "duration": 300,
    "start_time": "2023-07-20T07:53:35.518Z"
   },
   {
    "duration": 5,
    "start_time": "2023-07-20T07:54:09.888Z"
   },
   {
    "duration": 273,
    "start_time": "2023-07-20T07:54:13.933Z"
   },
   {
    "duration": 13,
    "start_time": "2023-07-20T07:55:34.428Z"
   },
   {
    "duration": 14,
    "start_time": "2023-07-20T07:55:46.304Z"
   },
   {
    "duration": 77,
    "start_time": "2023-07-20T07:56:55.024Z"
   },
   {
    "duration": 191,
    "start_time": "2023-07-20T07:57:07.596Z"
   },
   {
    "duration": 6,
    "start_time": "2023-07-20T07:58:05.755Z"
   },
   {
    "duration": 740,
    "start_time": "2023-07-20T07:58:13.403Z"
   },
   {
    "duration": 31,
    "start_time": "2023-07-20T07:58:14.337Z"
   },
   {
    "duration": 8,
    "start_time": "2023-07-20T07:58:15.507Z"
   },
   {
    "duration": 229,
    "start_time": "2023-07-20T07:58:21.020Z"
   },
   {
    "duration": 104,
    "start_time": "2023-07-20T07:58:22.639Z"
   },
   {
    "duration": 10,
    "start_time": "2023-07-20T07:58:25.010Z"
   },
   {
    "duration": 3,
    "start_time": "2023-07-20T07:58:38.527Z"
   },
   {
    "duration": 3940,
    "start_time": "2023-07-20T07:58:39.546Z"
   },
   {
    "duration": 7,
    "start_time": "2023-07-20T07:58:43.488Z"
   },
   {
    "duration": 4,
    "start_time": "2023-07-20T07:58:50.118Z"
   },
   {
    "duration": 304,
    "start_time": "2023-07-20T07:59:15.305Z"
   },
   {
    "duration": 36,
    "start_time": "2023-07-20T07:59:17.537Z"
   },
   {
    "duration": 4,
    "start_time": "2023-07-20T07:59:21.428Z"
   },
   {
    "duration": 35,
    "start_time": "2023-07-20T07:59:22.555Z"
   },
   {
    "duration": 48,
    "start_time": "2023-07-20T07:59:26.377Z"
   },
   {
    "duration": 7,
    "start_time": "2023-07-20T07:59:41.216Z"
   },
   {
    "duration": 1865,
    "start_time": "2023-07-20T08:01:10.390Z"
   },
   {
    "duration": 842,
    "start_time": "2023-07-20T08:01:12.257Z"
   },
   {
    "duration": 36,
    "start_time": "2023-07-20T08:01:13.101Z"
   },
   {
    "duration": 29,
    "start_time": "2023-07-20T08:01:13.139Z"
   },
   {
    "duration": 234,
    "start_time": "2023-07-20T08:01:13.170Z"
   },
   {
    "duration": 127,
    "start_time": "2023-07-20T08:01:13.406Z"
   },
   {
    "duration": 12,
    "start_time": "2023-07-20T08:01:13.535Z"
   },
   {
    "duration": 9,
    "start_time": "2023-07-20T08:01:13.549Z"
   },
   {
    "duration": 4119,
    "start_time": "2023-07-20T08:01:13.560Z"
   },
   {
    "duration": 8,
    "start_time": "2023-07-20T08:01:17.681Z"
   },
   {
    "duration": 31,
    "start_time": "2023-07-20T08:01:17.690Z"
   },
   {
    "duration": 534,
    "start_time": "2023-07-20T08:01:17.723Z"
   },
   {
    "duration": 37,
    "start_time": "2023-07-20T08:01:18.258Z"
   },
   {
    "duration": 47,
    "start_time": "2023-07-20T08:01:18.297Z"
   },
   {
    "duration": 112,
    "start_time": "2023-07-20T08:01:18.346Z"
   },
   {
    "duration": 63,
    "start_time": "2023-07-20T08:01:18.460Z"
   },
   {
    "duration": 6,
    "start_time": "2023-07-20T08:01:18.525Z"
   },
   {
    "duration": 20,
    "start_time": "2023-07-20T08:01:18.533Z"
   },
   {
    "duration": 97,
    "start_time": "2023-07-20T08:01:18.554Z"
   },
   {
    "duration": 313,
    "start_time": "2023-07-20T08:01:44.463Z"
   },
   {
    "duration": 1911,
    "start_time": "2023-07-20T08:29:14.132Z"
   },
   {
    "duration": 848,
    "start_time": "2023-07-20T08:29:16.045Z"
   },
   {
    "duration": 33,
    "start_time": "2023-07-20T08:29:16.895Z"
   },
   {
    "duration": 38,
    "start_time": "2023-07-20T08:29:16.930Z"
   },
   {
    "duration": 256,
    "start_time": "2023-07-20T08:29:16.971Z"
   },
   {
    "duration": 131,
    "start_time": "2023-07-20T08:29:17.229Z"
   },
   {
    "duration": 13,
    "start_time": "2023-07-20T08:29:17.362Z"
   },
   {
    "duration": 10,
    "start_time": "2023-07-20T08:29:17.376Z"
   },
   {
    "duration": 4047,
    "start_time": "2023-07-20T08:29:17.388Z"
   },
   {
    "duration": 7,
    "start_time": "2023-07-20T08:29:21.437Z"
   },
   {
    "duration": 23,
    "start_time": "2023-07-20T08:29:21.446Z"
   },
   {
    "duration": 25,
    "start_time": "2023-07-20T08:29:21.471Z"
   },
   {
    "duration": 0,
    "start_time": "2023-07-20T08:29:21.498Z"
   },
   {
    "duration": 0,
    "start_time": "2023-07-20T08:29:21.499Z"
   },
   {
    "duration": 0,
    "start_time": "2023-07-20T08:29:21.501Z"
   },
   {
    "duration": 0,
    "start_time": "2023-07-20T08:29:21.502Z"
   },
   {
    "duration": 0,
    "start_time": "2023-07-20T08:29:21.503Z"
   },
   {
    "duration": 0,
    "start_time": "2023-07-20T08:29:21.504Z"
   },
   {
    "duration": 0,
    "start_time": "2023-07-20T08:29:21.506Z"
   },
   {
    "duration": 0,
    "start_time": "2023-07-20T08:29:21.507Z"
   },
   {
    "duration": 1917,
    "start_time": "2023-07-20T08:30:02.012Z"
   },
   {
    "duration": 1397,
    "start_time": "2023-07-20T08:30:18.496Z"
   },
   {
    "duration": 20,
    "start_time": "2023-07-20T08:31:20.161Z"
   },
   {
    "duration": 5,
    "start_time": "2023-07-20T08:31:29.895Z"
   },
   {
    "duration": 16,
    "start_time": "2023-07-20T08:31:31.358Z"
   },
   {
    "duration": 7,
    "start_time": "2023-07-20T08:34:35.162Z"
   },
   {
    "duration": 769,
    "start_time": "2023-07-20T08:34:35.421Z"
   },
   {
    "duration": 29,
    "start_time": "2023-07-20T08:34:36.192Z"
   },
   {
    "duration": 28,
    "start_time": "2023-07-20T08:34:36.223Z"
   },
   {
    "duration": 241,
    "start_time": "2023-07-20T08:34:36.254Z"
   },
   {
    "duration": 103,
    "start_time": "2023-07-20T08:34:36.522Z"
   },
   {
    "duration": 9,
    "start_time": "2023-07-20T08:34:37.868Z"
   },
   {
    "duration": 3,
    "start_time": "2023-07-20T08:34:38.852Z"
   },
   {
    "duration": 3,
    "start_time": "2023-07-20T08:34:39.390Z"
   },
   {
    "duration": 3,
    "start_time": "2023-07-20T08:34:40.257Z"
   },
   {
    "duration": 3,
    "start_time": "2023-07-20T08:34:41.059Z"
   },
   {
    "duration": 7038,
    "start_time": "2023-07-20T08:34:42.047Z"
   },
   {
    "duration": 1965,
    "start_time": "2023-07-20T08:37:19.691Z"
   },
   {
    "duration": 859,
    "start_time": "2023-07-20T08:37:21.659Z"
   },
   {
    "duration": 34,
    "start_time": "2023-07-20T08:37:22.520Z"
   },
   {
    "duration": 67,
    "start_time": "2023-07-20T08:37:22.556Z"
   },
   {
    "duration": 246,
    "start_time": "2023-07-20T08:37:22.626Z"
   },
   {
    "duration": 140,
    "start_time": "2023-07-20T08:37:22.874Z"
   },
   {
    "duration": 12,
    "start_time": "2023-07-20T08:37:23.015Z"
   },
   {
    "duration": 17,
    "start_time": "2023-07-20T08:37:23.029Z"
   },
   {
    "duration": 3981,
    "start_time": "2023-07-20T08:37:23.048Z"
   },
   {
    "duration": 7,
    "start_time": "2023-07-20T08:37:27.031Z"
   },
   {
    "duration": 68,
    "start_time": "2023-07-20T08:37:27.039Z"
   },
   {
    "duration": 0,
    "start_time": "2023-07-20T08:37:27.110Z"
   },
   {
    "duration": 0,
    "start_time": "2023-07-20T08:37:27.111Z"
   },
   {
    "duration": 0,
    "start_time": "2023-07-20T08:37:27.112Z"
   },
   {
    "duration": 0,
    "start_time": "2023-07-20T08:37:27.113Z"
   },
   {
    "duration": 0,
    "start_time": "2023-07-20T08:37:27.114Z"
   },
   {
    "duration": 0,
    "start_time": "2023-07-20T08:37:27.115Z"
   },
   {
    "duration": 0,
    "start_time": "2023-07-20T08:37:27.116Z"
   },
   {
    "duration": 0,
    "start_time": "2023-07-20T08:37:27.117Z"
   },
   {
    "duration": 0,
    "start_time": "2023-07-20T08:37:27.118Z"
   },
   {
    "duration": 68,
    "start_time": "2023-07-20T08:37:40.089Z"
   },
   {
    "duration": 5,
    "start_time": "2023-07-20T08:37:45.999Z"
   },
   {
    "duration": 3,
    "start_time": "2023-07-20T08:37:48.841Z"
   },
   {
    "duration": 630,
    "start_time": "2023-07-20T08:37:49.377Z"
   },
   {
    "duration": 4,
    "start_time": "2023-07-20T08:38:18.101Z"
   },
   {
    "duration": 2,
    "start_time": "2023-07-20T08:38:19.137Z"
   },
   {
    "duration": 381,
    "start_time": "2023-07-20T08:38:19.790Z"
   },
   {
    "duration": 1968,
    "start_time": "2023-07-20T08:44:54.675Z"
   },
   {
    "duration": 840,
    "start_time": "2023-07-20T08:44:56.646Z"
   },
   {
    "duration": 43,
    "start_time": "2023-07-20T08:44:57.489Z"
   },
   {
    "duration": 12,
    "start_time": "2023-07-20T08:44:57.535Z"
   },
   {
    "duration": 267,
    "start_time": "2023-07-20T08:44:57.549Z"
   },
   {
    "duration": 126,
    "start_time": "2023-07-20T08:44:57.818Z"
   },
   {
    "duration": 2,
    "start_time": "2023-07-20T08:44:57.946Z"
   },
   {
    "duration": 19,
    "start_time": "2023-07-20T08:44:57.950Z"
   },
   {
    "duration": 24,
    "start_time": "2023-07-20T08:44:57.971Z"
   },
   {
    "duration": 4032,
    "start_time": "2023-07-20T08:44:57.998Z"
   },
   {
    "duration": 7,
    "start_time": "2023-07-20T08:45:02.032Z"
   },
   {
    "duration": 58,
    "start_time": "2023-07-20T08:45:02.041Z"
   },
   {
    "duration": 43,
    "start_time": "2023-07-20T08:45:02.101Z"
   },
   {
    "duration": 1158,
    "start_time": "2023-07-20T08:45:02.146Z"
   },
   {
    "duration": 37,
    "start_time": "2023-07-20T08:45:03.306Z"
   },
   {
    "duration": 159,
    "start_time": "2023-07-20T08:45:03.345Z"
   },
   {
    "duration": 90,
    "start_time": "2023-07-20T08:45:03.506Z"
   },
   {
    "duration": 95,
    "start_time": "2023-07-20T08:45:03.597Z"
   },
   {
    "duration": 8,
    "start_time": "2023-07-20T08:45:03.694Z"
   },
   {
    "duration": 21,
    "start_time": "2023-07-20T08:45:03.703Z"
   },
   {
    "duration": 85,
    "start_time": "2023-07-20T08:45:03.726Z"
   },
   {
    "duration": 29,
    "start_time": "2023-07-20T08:47:48.598Z"
   },
   {
    "duration": 4,
    "start_time": "2023-07-20T08:47:51.037Z"
   },
   {
    "duration": 22,
    "start_time": "2023-07-20T08:47:52.271Z"
   },
   {
    "duration": 1886,
    "start_time": "2023-07-20T08:49:34.981Z"
   },
   {
    "duration": 896,
    "start_time": "2023-07-20T08:49:36.869Z"
   },
   {
    "duration": 30,
    "start_time": "2023-07-20T08:49:37.767Z"
   },
   {
    "duration": 49,
    "start_time": "2023-07-20T08:49:37.799Z"
   },
   {
    "duration": 231,
    "start_time": "2023-07-20T08:49:37.850Z"
   },
   {
    "duration": 149,
    "start_time": "2023-07-20T08:49:38.083Z"
   },
   {
    "duration": 2,
    "start_time": "2023-07-20T08:49:38.234Z"
   },
   {
    "duration": 219,
    "start_time": "2023-07-20T08:49:38.239Z"
   },
   {
    "duration": 39,
    "start_time": "2023-07-20T08:49:38.460Z"
   },
   {
    "duration": 166,
    "start_time": "2023-07-20T08:49:38.502Z"
   },
   {
    "duration": 0,
    "start_time": "2023-07-20T08:49:38.670Z"
   },
   {
    "duration": 0,
    "start_time": "2023-07-20T08:49:38.672Z"
   },
   {
    "duration": 0,
    "start_time": "2023-07-20T08:49:38.673Z"
   },
   {
    "duration": 0,
    "start_time": "2023-07-20T08:49:38.674Z"
   },
   {
    "duration": 0,
    "start_time": "2023-07-20T08:49:38.675Z"
   },
   {
    "duration": 0,
    "start_time": "2023-07-20T08:49:38.676Z"
   },
   {
    "duration": 0,
    "start_time": "2023-07-20T08:49:38.677Z"
   },
   {
    "duration": 0,
    "start_time": "2023-07-20T08:49:38.679Z"
   },
   {
    "duration": 0,
    "start_time": "2023-07-20T08:49:38.680Z"
   },
   {
    "duration": 0,
    "start_time": "2023-07-20T08:49:38.681Z"
   },
   {
    "duration": 0,
    "start_time": "2023-07-20T08:49:38.682Z"
   },
   {
    "duration": 0,
    "start_time": "2023-07-20T08:49:38.683Z"
   },
   {
    "duration": 8,
    "start_time": "2023-07-20T08:49:59.044Z"
   },
   {
    "duration": 7951,
    "start_time": "2023-07-20T08:50:00.478Z"
   },
   {
    "duration": 0,
    "start_time": "2023-07-20T08:50:08.431Z"
   },
   {
    "duration": 6291,
    "start_time": "2023-07-20T08:50:19.971Z"
   },
   {
    "duration": 97,
    "start_time": "2023-07-20T08:50:28.419Z"
   },
   {
    "duration": 20,
    "start_time": "2023-07-20T08:50:33.307Z"
   },
   {
    "duration": 6,
    "start_time": "2023-07-20T08:51:27.754Z"
   },
   {
    "duration": 1940,
    "start_time": "2023-07-20T08:56:21.069Z"
   },
   {
    "duration": 900,
    "start_time": "2023-07-20T08:56:23.011Z"
   },
   {
    "duration": 39,
    "start_time": "2023-07-20T08:56:23.913Z"
   },
   {
    "duration": 59,
    "start_time": "2023-07-20T08:56:23.955Z"
   },
   {
    "duration": 301,
    "start_time": "2023-07-20T08:56:24.017Z"
   },
   {
    "duration": 131,
    "start_time": "2023-07-20T08:56:24.319Z"
   },
   {
    "duration": 3,
    "start_time": "2023-07-20T08:56:24.452Z"
   },
   {
    "duration": 27,
    "start_time": "2023-07-20T08:56:24.456Z"
   },
   {
    "duration": 20,
    "start_time": "2023-07-20T08:56:24.484Z"
   },
   {
    "duration": 4038,
    "start_time": "2023-07-20T08:56:24.506Z"
   },
   {
    "duration": 7,
    "start_time": "2023-07-20T08:56:28.545Z"
   },
   {
    "duration": 13,
    "start_time": "2023-07-20T08:56:28.554Z"
   },
   {
    "duration": 1396,
    "start_time": "2023-07-20T08:56:28.569Z"
   },
   {
    "duration": 37,
    "start_time": "2023-07-20T08:56:29.967Z"
   },
   {
    "duration": 4,
    "start_time": "2023-07-20T08:56:30.006Z"
   },
   {
    "duration": 81,
    "start_time": "2023-07-20T08:56:30.012Z"
   },
   {
    "duration": 80,
    "start_time": "2023-07-20T08:56:30.095Z"
   },
   {
    "duration": 7,
    "start_time": "2023-07-20T08:56:30.177Z"
   },
   {
    "duration": 36,
    "start_time": "2023-07-20T08:56:30.186Z"
   },
   {
    "duration": 101,
    "start_time": "2023-07-20T08:56:30.224Z"
   },
   {
    "duration": 478,
    "start_time": "2023-07-20T08:57:28.432Z"
   },
   {
    "duration": 1249,
    "start_time": "2023-07-20T08:57:40.507Z"
   },
   {
    "duration": 5,
    "start_time": "2023-07-20T08:59:21.808Z"
   },
   {
    "duration": 1164,
    "start_time": "2023-07-20T08:59:22.940Z"
   },
   {
    "duration": 5,
    "start_time": "2023-07-20T08:59:37.543Z"
   },
   {
    "duration": 1206,
    "start_time": "2023-07-20T08:59:38.457Z"
   },
   {
    "duration": 1832,
    "start_time": "2023-07-20T09:02:02.458Z"
   },
   {
    "duration": 868,
    "start_time": "2023-07-20T09:02:04.292Z"
   },
   {
    "duration": 32,
    "start_time": "2023-07-20T09:02:05.162Z"
   },
   {
    "duration": 25,
    "start_time": "2023-07-20T09:02:05.196Z"
   },
   {
    "duration": 250,
    "start_time": "2023-07-20T09:02:05.223Z"
   },
   {
    "duration": 125,
    "start_time": "2023-07-20T09:02:05.475Z"
   },
   {
    "duration": 13,
    "start_time": "2023-07-20T09:02:05.602Z"
   },
   {
    "duration": 23,
    "start_time": "2023-07-20T09:02:05.617Z"
   },
   {
    "duration": 11,
    "start_time": "2023-07-20T09:02:05.642Z"
   },
   {
    "duration": 4002,
    "start_time": "2023-07-20T09:02:05.655Z"
   },
   {
    "duration": 12,
    "start_time": "2023-07-20T09:02:09.659Z"
   },
   {
    "duration": 48,
    "start_time": "2023-07-20T09:02:09.673Z"
   },
   {
    "duration": 1296,
    "start_time": "2023-07-20T09:02:09.723Z"
   },
   {
    "duration": 36,
    "start_time": "2023-07-20T09:02:11.022Z"
   },
   {
    "duration": 4,
    "start_time": "2023-07-20T09:02:11.060Z"
   },
   {
    "duration": 49,
    "start_time": "2023-07-20T09:02:11.065Z"
   },
   {
    "duration": 57,
    "start_time": "2023-07-20T09:02:11.116Z"
   },
   {
    "duration": 6,
    "start_time": "2023-07-20T09:02:11.175Z"
   },
   {
    "duration": 6,
    "start_time": "2023-07-20T09:02:11.183Z"
   },
   {
    "duration": 94,
    "start_time": "2023-07-20T09:02:11.191Z"
   },
   {
    "duration": 438,
    "start_time": "2023-07-20T09:02:44.284Z"
   },
   {
    "duration": 1930,
    "start_time": "2023-07-20T09:05:07.450Z"
   },
   {
    "duration": 980,
    "start_time": "2023-07-20T09:05:09.382Z"
   },
   {
    "duration": 31,
    "start_time": "2023-07-20T09:05:10.364Z"
   },
   {
    "duration": 23,
    "start_time": "2023-07-20T09:05:10.397Z"
   },
   {
    "duration": 257,
    "start_time": "2023-07-20T09:05:10.423Z"
   },
   {
    "duration": 133,
    "start_time": "2023-07-20T09:05:10.682Z"
   },
   {
    "duration": 3,
    "start_time": "2023-07-20T09:05:10.817Z"
   },
   {
    "duration": 34,
    "start_time": "2023-07-20T09:05:10.821Z"
   },
   {
    "duration": 79,
    "start_time": "2023-07-20T09:05:10.857Z"
   },
   {
    "duration": 4307,
    "start_time": "2023-07-20T09:05:10.938Z"
   },
   {
    "duration": 7,
    "start_time": "2023-07-20T09:05:15.247Z"
   },
   {
    "duration": 60,
    "start_time": "2023-07-20T09:05:15.256Z"
   },
   {
    "duration": 558,
    "start_time": "2023-07-20T09:05:15.318Z"
   },
   {
    "duration": 39,
    "start_time": "2023-07-20T09:05:15.879Z"
   },
   {
    "duration": 5,
    "start_time": "2023-07-20T09:05:15.921Z"
   },
   {
    "duration": 61,
    "start_time": "2023-07-20T09:05:15.927Z"
   },
   {
    "duration": 102,
    "start_time": "2023-07-20T09:05:15.989Z"
   },
   {
    "duration": 6,
    "start_time": "2023-07-20T09:05:16.093Z"
   },
   {
    "duration": 33,
    "start_time": "2023-07-20T09:05:16.101Z"
   },
   {
    "duration": 105,
    "start_time": "2023-07-20T09:05:16.136Z"
   },
   {
    "duration": 1835,
    "start_time": "2023-07-20T09:05:56.945Z"
   },
   {
    "duration": 876,
    "start_time": "2023-07-20T09:05:58.783Z"
   },
   {
    "duration": 38,
    "start_time": "2023-07-20T09:05:59.662Z"
   },
   {
    "duration": 14,
    "start_time": "2023-07-20T09:05:59.715Z"
   },
   {
    "duration": 292,
    "start_time": "2023-07-20T09:05:59.731Z"
   },
   {
    "duration": 134,
    "start_time": "2023-07-20T09:06:00.025Z"
   },
   {
    "duration": 11,
    "start_time": "2023-07-20T09:06:00.161Z"
   },
   {
    "duration": 48,
    "start_time": "2023-07-20T09:06:00.174Z"
   },
   {
    "duration": 4221,
    "start_time": "2023-07-20T09:06:00.224Z"
   },
   {
    "duration": 7,
    "start_time": "2023-07-20T09:06:04.446Z"
   },
   {
    "duration": 14,
    "start_time": "2023-07-20T09:06:04.455Z"
   },
   {
    "duration": 489,
    "start_time": "2023-07-20T09:06:04.471Z"
   },
   {
    "duration": 39,
    "start_time": "2023-07-20T09:06:04.962Z"
   },
   {
    "duration": 4,
    "start_time": "2023-07-20T09:06:05.003Z"
   },
   {
    "duration": 78,
    "start_time": "2023-07-20T09:06:05.009Z"
   },
   {
    "duration": 54,
    "start_time": "2023-07-20T09:06:05.090Z"
   },
   {
    "duration": 7,
    "start_time": "2023-07-20T09:06:05.146Z"
   },
   {
    "duration": 20,
    "start_time": "2023-07-20T09:06:05.155Z"
   },
   {
    "duration": 104,
    "start_time": "2023-07-20T09:06:05.177Z"
   },
   {
    "duration": 406,
    "start_time": "2023-07-20T09:06:41.921Z"
   },
   {
    "duration": 1866,
    "start_time": "2023-07-20T09:13:45.195Z"
   },
   {
    "duration": 486,
    "start_time": "2023-07-20T09:13:47.063Z"
   },
   {
    "duration": 922,
    "start_time": "2023-07-20T09:13:47.550Z"
   },
   {
    "duration": 48,
    "start_time": "2023-07-20T09:13:48.475Z"
   },
   {
    "duration": 22,
    "start_time": "2023-07-20T09:13:48.525Z"
   },
   {
    "duration": 268,
    "start_time": "2023-07-20T09:13:48.548Z"
   },
   {
    "duration": 148,
    "start_time": "2023-07-20T09:13:48.819Z"
   },
   {
    "duration": 10,
    "start_time": "2023-07-20T09:13:48.969Z"
   },
   {
    "duration": 56,
    "start_time": "2023-07-20T09:13:48.981Z"
   },
   {
    "duration": 4642,
    "start_time": "2023-07-20T09:13:49.041Z"
   },
   {
    "duration": 7,
    "start_time": "2023-07-20T09:13:53.685Z"
   },
   {
    "duration": 42,
    "start_time": "2023-07-20T09:13:53.693Z"
   },
   {
    "duration": 0,
    "start_time": "2023-07-20T09:24:00.017Z"
   },
   {
    "duration": 0,
    "start_time": "2023-07-20T09:24:00.018Z"
   },
   {
    "duration": 0,
    "start_time": "2023-07-20T09:24:00.020Z"
   },
   {
    "duration": 0,
    "start_time": "2023-07-20T09:24:00.022Z"
   },
   {
    "duration": 0,
    "start_time": "2023-07-20T09:24:00.024Z"
   },
   {
    "duration": 0,
    "start_time": "2023-07-20T09:24:00.026Z"
   },
   {
    "duration": 0,
    "start_time": "2023-07-20T09:24:00.027Z"
   },
   {
    "duration": 0,
    "start_time": "2023-07-20T09:24:00.028Z"
   },
   {
    "duration": 16504,
    "start_time": "2023-07-20T09:24:07.780Z"
   },
   {
    "duration": 82975,
    "start_time": "2023-07-20T09:24:34.339Z"
   },
   {
    "duration": 6,
    "start_time": "2023-07-20T09:26:13.472Z"
   },
   {
    "duration": 19,
    "start_time": "2023-07-20T09:26:14.665Z"
   },
   {
    "duration": 813,
    "start_time": "2023-07-20T09:26:16.212Z"
   },
   {
    "duration": 31,
    "start_time": "2023-07-20T09:26:17.027Z"
   },
   {
    "duration": 30,
    "start_time": "2023-07-20T09:26:17.060Z"
   },
   {
    "duration": 256,
    "start_time": "2023-07-20T09:26:17.091Z"
   },
   {
    "duration": 121,
    "start_time": "2023-07-20T09:26:17.402Z"
   },
   {
    "duration": 12,
    "start_time": "2023-07-20T09:26:17.909Z"
   },
   {
    "duration": 4,
    "start_time": "2023-07-20T09:26:18.112Z"
   },
   {
    "duration": 4108,
    "start_time": "2023-07-20T09:26:18.644Z"
   },
   {
    "duration": 8,
    "start_time": "2023-07-20T09:26:22.755Z"
   },
   {
    "duration": 27,
    "start_time": "2023-07-20T09:26:22.765Z"
   },
   {
    "duration": 1136776,
    "start_time": "2023-07-20T09:26:22.795Z"
   },
   {
    "duration": 58,
    "start_time": "2023-07-20T09:45:19.572Z"
   },
   {
    "duration": 4,
    "start_time": "2023-07-20T09:45:19.633Z"
   },
   {
    "duration": 64,
    "start_time": "2023-07-20T09:45:19.639Z"
   },
   {
    "duration": 45,
    "start_time": "2023-07-20T15:18:32.920Z"
   },
   {
    "duration": 7,
    "start_time": "2023-07-20T15:18:46.398Z"
   },
   {
    "duration": 1976,
    "start_time": "2023-07-20T15:18:55.031Z"
   },
   {
    "duration": 522,
    "start_time": "2023-07-20T15:18:57.009Z"
   },
   {
    "duration": 3419,
    "start_time": "2023-07-20T15:18:57.533Z"
   },
   {
    "duration": 34,
    "start_time": "2023-07-20T15:19:00.954Z"
   },
   {
    "duration": 39,
    "start_time": "2023-07-20T15:19:00.991Z"
   },
   {
    "duration": 262,
    "start_time": "2023-07-20T15:19:01.031Z"
   },
   {
    "duration": 125,
    "start_time": "2023-07-20T15:19:01.294Z"
   },
   {
    "duration": 10,
    "start_time": "2023-07-20T15:19:01.421Z"
   },
   {
    "duration": 24,
    "start_time": "2023-07-20T15:19:01.432Z"
   },
   {
    "duration": 4207,
    "start_time": "2023-07-20T15:19:01.457Z"
   },
   {
    "duration": 6,
    "start_time": "2023-07-20T15:19:05.666Z"
   },
   {
    "duration": 20,
    "start_time": "2023-07-20T15:19:05.677Z"
   },
   {
    "duration": 1053412,
    "start_time": "2023-07-20T15:19:05.698Z"
   },
   {
    "duration": 5,
    "start_time": "2023-07-20T15:36:39.113Z"
   },
   {
    "duration": 36,
    "start_time": "2023-07-20T15:36:39.119Z"
   },
   {
    "duration": 4,
    "start_time": "2023-07-20T15:36:39.167Z"
   },
   {
    "duration": 44,
    "start_time": "2023-07-20T15:36:39.173Z"
   },
   {
    "duration": 49,
    "start_time": "2023-07-20T15:36:39.219Z"
   },
   {
    "duration": 6,
    "start_time": "2023-07-20T15:36:39.269Z"
   },
   {
    "duration": 7,
    "start_time": "2023-07-20T15:36:39.277Z"
   },
   {
    "duration": 186,
    "start_time": "2023-07-20T15:36:39.285Z"
   }
  ],
  "kernelspec": {
   "display_name": "Python 3 (ipykernel)",
   "language": "python",
   "name": "python3"
  },
  "language_info": {
   "codemirror_mode": {
    "name": "ipython",
    "version": 3
   },
   "file_extension": ".py",
   "mimetype": "text/x-python",
   "name": "python",
   "nbconvert_exporter": "python",
   "pygments_lexer": "ipython3",
   "version": "3.11.4"
  },
  "toc": {
   "base_numbering": 1,
   "nav_menu": {},
   "number_sections": true,
   "sideBar": true,
   "skip_h1_title": true,
   "title_cell": "Содержание",
   "title_sidebar": "Contents",
   "toc_cell": true,
   "toc_position": {
    "height": "calc(100% - 180px)",
    "left": "10px",
    "top": "150px",
    "width": "302.391px"
   },
   "toc_section_display": true,
   "toc_window_display": false
  }
 },
 "nbformat": 4,
 "nbformat_minor": 4
}
