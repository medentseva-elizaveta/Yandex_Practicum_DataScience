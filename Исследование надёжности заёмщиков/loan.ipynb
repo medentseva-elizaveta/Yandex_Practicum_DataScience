{
 "cells": [
  {
   "cell_type": "markdown",
   "id": "b155db2e",
   "metadata": {
    "deletable": false,
    "editable": false,
    "id": "c81daeeb"
   },
   "source": [
    "# Исследование надежности заемщиков\n"
   ]
  },
  {
   "cell_type": "code",
   "execution_count": 2,
   "id": "bcac14a5",
   "metadata": {
    "deletable": false,
    "id": "7bcf75c9"
   },
   "outputs": [],
   "source": [
    "import pandas as pd\n",
    "\n",
    "try:\n",
    "    data = pd.read_csv('/datasets/data.csv')\n",
    "except:\n",
    "    data = pd.read_csv('https://code.s3.yandex.net/datasets/data.csv')"
   ]
  },
  {
   "cell_type": "code",
   "execution_count": 3,
   "id": "7fe0438a",
   "metadata": {
    "deletable": false,
    "id": "2a7cab99",
    "outputId": "1a8f3ef2-d323-4ec2-ddf7-89670b5944c4"
   },
   "outputs": [
    {
     "data": {
      "text/html": [
       "<div>\n",
       "<style scoped>\n",
       "    .dataframe tbody tr th:only-of-type {\n",
       "        vertical-align: middle;\n",
       "    }\n",
       "\n",
       "    .dataframe tbody tr th {\n",
       "        vertical-align: top;\n",
       "    }\n",
       "\n",
       "    .dataframe thead th {\n",
       "        text-align: right;\n",
       "    }\n",
       "</style>\n",
       "<table border=\"1\" class=\"dataframe\">\n",
       "  <thead>\n",
       "    <tr style=\"text-align: right;\">\n",
       "      <th></th>\n",
       "      <th>children</th>\n",
       "      <th>days_employed</th>\n",
       "      <th>dob_years</th>\n",
       "      <th>education</th>\n",
       "      <th>education_id</th>\n",
       "      <th>family_status</th>\n",
       "      <th>family_status_id</th>\n",
       "      <th>gender</th>\n",
       "      <th>income_type</th>\n",
       "      <th>debt</th>\n",
       "      <th>total_income</th>\n",
       "      <th>purpose</th>\n",
       "    </tr>\n",
       "  </thead>\n",
       "  <tbody>\n",
       "    <tr>\n",
       "      <th>0</th>\n",
       "      <td>1</td>\n",
       "      <td>-8437.673028</td>\n",
       "      <td>42</td>\n",
       "      <td>высшее</td>\n",
       "      <td>0</td>\n",
       "      <td>женат / замужем</td>\n",
       "      <td>0</td>\n",
       "      <td>F</td>\n",
       "      <td>сотрудник</td>\n",
       "      <td>0</td>\n",
       "      <td>253875.639453</td>\n",
       "      <td>покупка жилья</td>\n",
       "    </tr>\n",
       "    <tr>\n",
       "      <th>1</th>\n",
       "      <td>1</td>\n",
       "      <td>-4024.803754</td>\n",
       "      <td>36</td>\n",
       "      <td>среднее</td>\n",
       "      <td>1</td>\n",
       "      <td>женат / замужем</td>\n",
       "      <td>0</td>\n",
       "      <td>F</td>\n",
       "      <td>сотрудник</td>\n",
       "      <td>0</td>\n",
       "      <td>112080.014102</td>\n",
       "      <td>приобретение автомобиля</td>\n",
       "    </tr>\n",
       "    <tr>\n",
       "      <th>2</th>\n",
       "      <td>0</td>\n",
       "      <td>-5623.422610</td>\n",
       "      <td>33</td>\n",
       "      <td>Среднее</td>\n",
       "      <td>1</td>\n",
       "      <td>женат / замужем</td>\n",
       "      <td>0</td>\n",
       "      <td>M</td>\n",
       "      <td>сотрудник</td>\n",
       "      <td>0</td>\n",
       "      <td>145885.952297</td>\n",
       "      <td>покупка жилья</td>\n",
       "    </tr>\n",
       "    <tr>\n",
       "      <th>3</th>\n",
       "      <td>3</td>\n",
       "      <td>-4124.747207</td>\n",
       "      <td>32</td>\n",
       "      <td>среднее</td>\n",
       "      <td>1</td>\n",
       "      <td>женат / замужем</td>\n",
       "      <td>0</td>\n",
       "      <td>M</td>\n",
       "      <td>сотрудник</td>\n",
       "      <td>0</td>\n",
       "      <td>267628.550329</td>\n",
       "      <td>дополнительное образование</td>\n",
       "    </tr>\n",
       "    <tr>\n",
       "      <th>4</th>\n",
       "      <td>0</td>\n",
       "      <td>340266.072047</td>\n",
       "      <td>53</td>\n",
       "      <td>среднее</td>\n",
       "      <td>1</td>\n",
       "      <td>гражданский брак</td>\n",
       "      <td>1</td>\n",
       "      <td>F</td>\n",
       "      <td>пенсионер</td>\n",
       "      <td>0</td>\n",
       "      <td>158616.077870</td>\n",
       "      <td>сыграть свадьбу</td>\n",
       "    </tr>\n",
       "    <tr>\n",
       "      <th>5</th>\n",
       "      <td>0</td>\n",
       "      <td>-926.185831</td>\n",
       "      <td>27</td>\n",
       "      <td>высшее</td>\n",
       "      <td>0</td>\n",
       "      <td>гражданский брак</td>\n",
       "      <td>1</td>\n",
       "      <td>M</td>\n",
       "      <td>компаньон</td>\n",
       "      <td>0</td>\n",
       "      <td>255763.565419</td>\n",
       "      <td>покупка жилья</td>\n",
       "    </tr>\n",
       "    <tr>\n",
       "      <th>6</th>\n",
       "      <td>0</td>\n",
       "      <td>-2879.202052</td>\n",
       "      <td>43</td>\n",
       "      <td>высшее</td>\n",
       "      <td>0</td>\n",
       "      <td>женат / замужем</td>\n",
       "      <td>0</td>\n",
       "      <td>F</td>\n",
       "      <td>компаньон</td>\n",
       "      <td>0</td>\n",
       "      <td>240525.971920</td>\n",
       "      <td>операции с жильем</td>\n",
       "    </tr>\n",
       "    <tr>\n",
       "      <th>7</th>\n",
       "      <td>0</td>\n",
       "      <td>-152.779569</td>\n",
       "      <td>50</td>\n",
       "      <td>СРЕДНЕЕ</td>\n",
       "      <td>1</td>\n",
       "      <td>женат / замужем</td>\n",
       "      <td>0</td>\n",
       "      <td>M</td>\n",
       "      <td>сотрудник</td>\n",
       "      <td>0</td>\n",
       "      <td>135823.934197</td>\n",
       "      <td>образование</td>\n",
       "    </tr>\n",
       "    <tr>\n",
       "      <th>8</th>\n",
       "      <td>2</td>\n",
       "      <td>-6929.865299</td>\n",
       "      <td>35</td>\n",
       "      <td>ВЫСШЕЕ</td>\n",
       "      <td>0</td>\n",
       "      <td>гражданский брак</td>\n",
       "      <td>1</td>\n",
       "      <td>F</td>\n",
       "      <td>сотрудник</td>\n",
       "      <td>0</td>\n",
       "      <td>95856.832424</td>\n",
       "      <td>на проведение свадьбы</td>\n",
       "    </tr>\n",
       "    <tr>\n",
       "      <th>9</th>\n",
       "      <td>0</td>\n",
       "      <td>-2188.756445</td>\n",
       "      <td>41</td>\n",
       "      <td>среднее</td>\n",
       "      <td>1</td>\n",
       "      <td>женат / замужем</td>\n",
       "      <td>0</td>\n",
       "      <td>M</td>\n",
       "      <td>сотрудник</td>\n",
       "      <td>0</td>\n",
       "      <td>144425.938277</td>\n",
       "      <td>покупка жилья для семьи</td>\n",
       "    </tr>\n",
       "    <tr>\n",
       "      <th>10</th>\n",
       "      <td>2</td>\n",
       "      <td>-4171.483647</td>\n",
       "      <td>36</td>\n",
       "      <td>высшее</td>\n",
       "      <td>0</td>\n",
       "      <td>женат / замужем</td>\n",
       "      <td>0</td>\n",
       "      <td>M</td>\n",
       "      <td>компаньон</td>\n",
       "      <td>0</td>\n",
       "      <td>113943.491460</td>\n",
       "      <td>покупка недвижимости</td>\n",
       "    </tr>\n",
       "    <tr>\n",
       "      <th>11</th>\n",
       "      <td>0</td>\n",
       "      <td>-792.701887</td>\n",
       "      <td>40</td>\n",
       "      <td>среднее</td>\n",
       "      <td>1</td>\n",
       "      <td>женат / замужем</td>\n",
       "      <td>0</td>\n",
       "      <td>F</td>\n",
       "      <td>сотрудник</td>\n",
       "      <td>0</td>\n",
       "      <td>77069.234271</td>\n",
       "      <td>покупка коммерческой недвижимости</td>\n",
       "    </tr>\n",
       "    <tr>\n",
       "      <th>12</th>\n",
       "      <td>0</td>\n",
       "      <td>NaN</td>\n",
       "      <td>65</td>\n",
       "      <td>среднее</td>\n",
       "      <td>1</td>\n",
       "      <td>гражданский брак</td>\n",
       "      <td>1</td>\n",
       "      <td>M</td>\n",
       "      <td>пенсионер</td>\n",
       "      <td>0</td>\n",
       "      <td>NaN</td>\n",
       "      <td>сыграть свадьбу</td>\n",
       "    </tr>\n",
       "    <tr>\n",
       "      <th>13</th>\n",
       "      <td>0</td>\n",
       "      <td>-1846.641941</td>\n",
       "      <td>54</td>\n",
       "      <td>неоконченное высшее</td>\n",
       "      <td>2</td>\n",
       "      <td>женат / замужем</td>\n",
       "      <td>0</td>\n",
       "      <td>F</td>\n",
       "      <td>сотрудник</td>\n",
       "      <td>0</td>\n",
       "      <td>130458.228857</td>\n",
       "      <td>приобретение автомобиля</td>\n",
       "    </tr>\n",
       "    <tr>\n",
       "      <th>14</th>\n",
       "      <td>0</td>\n",
       "      <td>-1844.956182</td>\n",
       "      <td>56</td>\n",
       "      <td>высшее</td>\n",
       "      <td>0</td>\n",
       "      <td>гражданский брак</td>\n",
       "      <td>1</td>\n",
       "      <td>F</td>\n",
       "      <td>компаньон</td>\n",
       "      <td>1</td>\n",
       "      <td>165127.911772</td>\n",
       "      <td>покупка жилой недвижимости</td>\n",
       "    </tr>\n",
       "    <tr>\n",
       "      <th>15</th>\n",
       "      <td>1</td>\n",
       "      <td>-972.364419</td>\n",
       "      <td>26</td>\n",
       "      <td>среднее</td>\n",
       "      <td>1</td>\n",
       "      <td>женат / замужем</td>\n",
       "      <td>0</td>\n",
       "      <td>F</td>\n",
       "      <td>сотрудник</td>\n",
       "      <td>0</td>\n",
       "      <td>116820.904450</td>\n",
       "      <td>строительство собственной недвижимости</td>\n",
       "    </tr>\n",
       "    <tr>\n",
       "      <th>16</th>\n",
       "      <td>0</td>\n",
       "      <td>-1719.934226</td>\n",
       "      <td>35</td>\n",
       "      <td>среднее</td>\n",
       "      <td>1</td>\n",
       "      <td>женат / замужем</td>\n",
       "      <td>0</td>\n",
       "      <td>F</td>\n",
       "      <td>сотрудник</td>\n",
       "      <td>0</td>\n",
       "      <td>289202.704229</td>\n",
       "      <td>недвижимость</td>\n",
       "    </tr>\n",
       "    <tr>\n",
       "      <th>17</th>\n",
       "      <td>0</td>\n",
       "      <td>-2369.999720</td>\n",
       "      <td>33</td>\n",
       "      <td>высшее</td>\n",
       "      <td>0</td>\n",
       "      <td>гражданский брак</td>\n",
       "      <td>1</td>\n",
       "      <td>M</td>\n",
       "      <td>сотрудник</td>\n",
       "      <td>0</td>\n",
       "      <td>90410.586745</td>\n",
       "      <td>строительство недвижимости</td>\n",
       "    </tr>\n",
       "    <tr>\n",
       "      <th>18</th>\n",
       "      <td>0</td>\n",
       "      <td>400281.136913</td>\n",
       "      <td>53</td>\n",
       "      <td>среднее</td>\n",
       "      <td>1</td>\n",
       "      <td>вдовец / вдова</td>\n",
       "      <td>2</td>\n",
       "      <td>F</td>\n",
       "      <td>пенсионер</td>\n",
       "      <td>0</td>\n",
       "      <td>56823.777243</td>\n",
       "      <td>на покупку подержанного автомобиля</td>\n",
       "    </tr>\n",
       "    <tr>\n",
       "      <th>19</th>\n",
       "      <td>0</td>\n",
       "      <td>-10038.818549</td>\n",
       "      <td>48</td>\n",
       "      <td>СРЕДНЕЕ</td>\n",
       "      <td>1</td>\n",
       "      <td>в разводе</td>\n",
       "      <td>3</td>\n",
       "      <td>F</td>\n",
       "      <td>сотрудник</td>\n",
       "      <td>0</td>\n",
       "      <td>242831.107982</td>\n",
       "      <td>на покупку своего автомобиля</td>\n",
       "    </tr>\n",
       "  </tbody>\n",
       "</table>\n",
       "</div>"
      ],
      "text/plain": [
       "    children  days_employed  dob_years            education  education_id  \\\n",
       "0          1   -8437.673028         42               высшее             0   \n",
       "1          1   -4024.803754         36              среднее             1   \n",
       "2          0   -5623.422610         33              Среднее             1   \n",
       "3          3   -4124.747207         32              среднее             1   \n",
       "4          0  340266.072047         53              среднее             1   \n",
       "5          0    -926.185831         27               высшее             0   \n",
       "6          0   -2879.202052         43               высшее             0   \n",
       "7          0    -152.779569         50              СРЕДНЕЕ             1   \n",
       "8          2   -6929.865299         35               ВЫСШЕЕ             0   \n",
       "9          0   -2188.756445         41              среднее             1   \n",
       "10         2   -4171.483647         36               высшее             0   \n",
       "11         0    -792.701887         40              среднее             1   \n",
       "12         0            NaN         65              среднее             1   \n",
       "13         0   -1846.641941         54  неоконченное высшее             2   \n",
       "14         0   -1844.956182         56               высшее             0   \n",
       "15         1    -972.364419         26              среднее             1   \n",
       "16         0   -1719.934226         35              среднее             1   \n",
       "17         0   -2369.999720         33               высшее             0   \n",
       "18         0  400281.136913         53              среднее             1   \n",
       "19         0  -10038.818549         48              СРЕДНЕЕ             1   \n",
       "\n",
       "       family_status  family_status_id gender income_type  debt  \\\n",
       "0    женат / замужем                 0      F   сотрудник     0   \n",
       "1    женат / замужем                 0      F   сотрудник     0   \n",
       "2    женат / замужем                 0      M   сотрудник     0   \n",
       "3    женат / замужем                 0      M   сотрудник     0   \n",
       "4   гражданский брак                 1      F   пенсионер     0   \n",
       "5   гражданский брак                 1      M   компаньон     0   \n",
       "6    женат / замужем                 0      F   компаньон     0   \n",
       "7    женат / замужем                 0      M   сотрудник     0   \n",
       "8   гражданский брак                 1      F   сотрудник     0   \n",
       "9    женат / замужем                 0      M   сотрудник     0   \n",
       "10   женат / замужем                 0      M   компаньон     0   \n",
       "11   женат / замужем                 0      F   сотрудник     0   \n",
       "12  гражданский брак                 1      M   пенсионер     0   \n",
       "13   женат / замужем                 0      F   сотрудник     0   \n",
       "14  гражданский брак                 1      F   компаньон     1   \n",
       "15   женат / замужем                 0      F   сотрудник     0   \n",
       "16   женат / замужем                 0      F   сотрудник     0   \n",
       "17  гражданский брак                 1      M   сотрудник     0   \n",
       "18    вдовец / вдова                 2      F   пенсионер     0   \n",
       "19         в разводе                 3      F   сотрудник     0   \n",
       "\n",
       "     total_income                                 purpose  \n",
       "0   253875.639453                           покупка жилья  \n",
       "1   112080.014102                 приобретение автомобиля  \n",
       "2   145885.952297                           покупка жилья  \n",
       "3   267628.550329              дополнительное образование  \n",
       "4   158616.077870                         сыграть свадьбу  \n",
       "5   255763.565419                           покупка жилья  \n",
       "6   240525.971920                       операции с жильем  \n",
       "7   135823.934197                             образование  \n",
       "8    95856.832424                   на проведение свадьбы  \n",
       "9   144425.938277                 покупка жилья для семьи  \n",
       "10  113943.491460                    покупка недвижимости  \n",
       "11   77069.234271       покупка коммерческой недвижимости  \n",
       "12            NaN                         сыграть свадьбу  \n",
       "13  130458.228857                 приобретение автомобиля  \n",
       "14  165127.911772              покупка жилой недвижимости  \n",
       "15  116820.904450  строительство собственной недвижимости  \n",
       "16  289202.704229                            недвижимость  \n",
       "17   90410.586745              строительство недвижимости  \n",
       "18   56823.777243      на покупку подержанного автомобиля  \n",
       "19  242831.107982            на покупку своего автомобиля  "
      ]
     },
     "execution_count": 3,
     "metadata": {},
     "output_type": "execute_result"
    }
   ],
   "source": [
    "data.head(20)"
   ]
  },
  {
   "cell_type": "code",
   "execution_count": 4,
   "id": "daa9e3bd",
   "metadata": {
    "deletable": false,
    "id": "2b757bca",
    "outputId": "15376089-8dad-46c9-b520-c05248d43158"
   },
   "outputs": [
    {
     "name": "stdout",
     "output_type": "stream",
     "text": [
      "<class 'pandas.core.frame.DataFrame'>\n",
      "RangeIndex: 21525 entries, 0 to 21524\n",
      "Data columns (total 12 columns):\n",
      " #   Column            Non-Null Count  Dtype  \n",
      "---  ------            --------------  -----  \n",
      " 0   children          21525 non-null  int64  \n",
      " 1   days_employed     19351 non-null  float64\n",
      " 2   dob_years         21525 non-null  int64  \n",
      " 3   education         21525 non-null  object \n",
      " 4   education_id      21525 non-null  int64  \n",
      " 5   family_status     21525 non-null  object \n",
      " 6   family_status_id  21525 non-null  int64  \n",
      " 7   gender            21525 non-null  object \n",
      " 8   income_type       21525 non-null  object \n",
      " 9   debt              21525 non-null  int64  \n",
      " 10  total_income      19351 non-null  float64\n",
      " 11  purpose           21525 non-null  object \n",
      "dtypes: float64(2), int64(5), object(5)\n",
      "memory usage: 2.0+ MB\n"
     ]
    }
   ],
   "source": [
    "data.info()"
   ]
  },
  {
   "cell_type": "markdown",
   "id": "7354ab36",
   "metadata": {
    "deletable": false,
    "editable": false,
    "id": "333ec665"
   },
   "source": [
    "## Предобработка данных"
   ]
  },
  {
   "cell_type": "markdown",
   "id": "401bbc4b",
   "metadata": {
    "deletable": false,
    "editable": false,
    "id": "02d92d53"
   },
   "source": [
    "### Удаление пропусков"
   ]
  },
  {
   "cell_type": "code",
   "execution_count": 5,
   "id": "4d1acbb5",
   "metadata": {
    "deletable": false,
    "id": "7f9b2309",
    "outputId": "81f4d817-781c-465c-ed15-91ce4446810d"
   },
   "outputs": [
    {
     "data": {
      "text/plain": [
       "children               0\n",
       "days_employed       2174\n",
       "dob_years              0\n",
       "education              0\n",
       "education_id           0\n",
       "family_status          0\n",
       "family_status_id       0\n",
       "gender                 0\n",
       "income_type            0\n",
       "debt                   0\n",
       "total_income        2174\n",
       "purpose                0\n",
       "dtype: int64"
      ]
     },
     "execution_count": 5,
     "metadata": {},
     "output_type": "execute_result"
    }
   ],
   "source": [
    "data.isna().sum()"
   ]
  },
  {
   "cell_type": "code",
   "execution_count": 6,
   "id": "195ff403",
   "metadata": {
    "deletable": false,
    "id": "42006a93"
   },
   "outputs": [],
   "source": [
    "for t in data['income_type'].unique():\n",
    "    data.loc[(data['income_type'] == t) & (data['total_income'].isna()), 'total_income'] = \\\n",
    "    data.loc[(data['income_type'] == t), 'total_income'].median()"
   ]
  },
  {
   "cell_type": "markdown",
   "id": "f0dbd4bf",
   "metadata": {
    "deletable": false,
    "editable": false,
    "id": "89da5ece"
   },
   "source": [
    "### Обработка аномальных значений"
   ]
  },
  {
   "cell_type": "code",
   "execution_count": 7,
   "id": "b83042b5",
   "metadata": {
    "deletable": false,
    "id": "f6f055bf"
   },
   "outputs": [],
   "source": [
    "data['days_employed'] = data['days_employed'].abs()"
   ]
  },
  {
   "cell_type": "code",
   "execution_count": 8,
   "id": "622e0c98",
   "metadata": {
    "deletable": false,
    "id": "85a5faf6",
    "outputId": "801ef80e-522b-4668-f34e-565af7432bcf"
   },
   "outputs": [
    {
     "data": {
      "text/plain": [
       "income_type\n",
       "безработный        366413.652744\n",
       "в декрете            3296.759962\n",
       "госслужащий          2689.368353\n",
       "компаньон            1547.382223\n",
       "пенсионер          365213.306266\n",
       "предприниматель       520.848083\n",
       "сотрудник            1574.202821\n",
       "студент               578.751554\n",
       "Name: days_employed, dtype: float64"
      ]
     },
     "execution_count": 8,
     "metadata": {},
     "output_type": "execute_result"
    }
   ],
   "source": [
    "data.groupby('income_type')['days_employed'].agg('median')"
   ]
  },
  {
   "cell_type": "markdown",
   "id": "4c312b24",
   "metadata": {
    "deletable": false,
    "editable": false,
    "id": "38d1a030"
   },
   "source": [
    "У двух типов (безработные и пенсионеры) получатся аномально большие значения. Исправить такие значения сложно, поэтому оставьте их как есть. Тем более этот столбец не понадобится вам для исследования."
   ]
  },
  {
   "cell_type": "code",
   "execution_count": 9,
   "id": "8f5c4ad7",
   "metadata": {
    "deletable": false,
    "id": "ef5056eb",
    "outputId": "6975b15c-7f95-4697-d16d-a0c79b657b03"
   },
   "outputs": [
    {
     "data": {
      "text/plain": [
       "array([ 1,  0,  3,  2, -1,  4, 20,  5])"
      ]
     },
     "execution_count": 9,
     "metadata": {},
     "output_type": "execute_result"
    }
   ],
   "source": [
    "data['children'].unique()"
   ]
  },
  {
   "cell_type": "code",
   "execution_count": 10,
   "id": "f81da077",
   "metadata": {
    "deletable": false,
    "id": "3ff9801d"
   },
   "outputs": [],
   "source": [
    "data = data[(data['children'] != -1) & (data['children'] != 20)]"
   ]
  },
  {
   "cell_type": "code",
   "execution_count": 11,
   "id": "8908d4c2",
   "metadata": {
    "deletable": false,
    "id": "ad4fa8b7",
    "outputId": "b2097101-d49d-44d9-901b-32a65c9463d1"
   },
   "outputs": [
    {
     "data": {
      "text/plain": [
       "array([1, 0, 3, 2, 4, 5])"
      ]
     },
     "execution_count": 11,
     "metadata": {},
     "output_type": "execute_result"
    }
   ],
   "source": [
    "data['children'].unique()"
   ]
  },
  {
   "cell_type": "markdown",
   "id": "e99d6d6f",
   "metadata": {
    "deletable": false,
    "editable": false,
    "id": "75440b63"
   },
   "source": [
    "### Удаление пропусков (продолжение)"
   ]
  },
  {
   "cell_type": "code",
   "execution_count": 12,
   "id": "4edbda49",
   "metadata": {
    "deletable": false,
    "id": "af6b1a7e"
   },
   "outputs": [],
   "source": [
    "for t in data['income_type'].unique():\n",
    "    data.loc[(data['income_type'] == t) & (data['days_employed'].isna()), 'days_employed'] = \\\n",
    "    data.loc[(data['income_type'] == t), 'days_employed'].median()"
   ]
  },
  {
   "cell_type": "code",
   "execution_count": 13,
   "id": "ef1546bf",
   "metadata": {
    "deletable": false,
    "id": "55f78bc2",
    "outputId": "8da1e4e1-358e-4e87-98c9-f261bce0a7b2"
   },
   "outputs": [
    {
     "data": {
      "text/plain": [
       "children            0\n",
       "days_employed       0\n",
       "dob_years           0\n",
       "education           0\n",
       "education_id        0\n",
       "family_status       0\n",
       "family_status_id    0\n",
       "gender              0\n",
       "income_type         0\n",
       "debt                0\n",
       "total_income        0\n",
       "purpose             0\n",
       "dtype: int64"
      ]
     },
     "execution_count": 13,
     "metadata": {},
     "output_type": "execute_result"
    }
   ],
   "source": [
    "data.isna().sum()"
   ]
  },
  {
   "cell_type": "markdown",
   "id": "04e18785",
   "metadata": {
    "deletable": false,
    "editable": false,
    "id": "ddc81e43"
   },
   "source": [
    "### Изменение типов данных"
   ]
  },
  {
   "cell_type": "code",
   "execution_count": 14,
   "id": "8e324627",
   "metadata": {
    "deletable": false,
    "id": "920b65ad"
   },
   "outputs": [],
   "source": [
    "data['total_income'] = data['total_income'].astype(int)"
   ]
  },
  {
   "cell_type": "markdown",
   "id": "95940f05",
   "metadata": {
    "deletable": false,
    "editable": false,
    "id": "80c420ba"
   },
   "source": [
    "### Обработка дубликатов"
   ]
  },
  {
   "cell_type": "code",
   "execution_count": 15,
   "id": "39c9c7d0",
   "metadata": {
    "deletable": false
   },
   "outputs": [],
   "source": [
    "data['education'] = data['education'].str.lower()"
   ]
  },
  {
   "cell_type": "code",
   "execution_count": 16,
   "id": "9bfdb96d",
   "metadata": {
    "deletable": false,
    "id": "3ee445e4",
    "outputId": "9684deba-1934-42d1-99e1-cda61740f822"
   },
   "outputs": [
    {
     "data": {
      "text/plain": [
       "71"
      ]
     },
     "execution_count": 16,
     "metadata": {},
     "output_type": "execute_result"
    }
   ],
   "source": [
    "data.duplicated().sum()"
   ]
  },
  {
   "cell_type": "code",
   "execution_count": 17,
   "id": "a9b27de3",
   "metadata": {
    "deletable": false,
    "id": "8575fe05"
   },
   "outputs": [],
   "source": [
    "data = data.drop_duplicates()"
   ]
  },
  {
   "cell_type": "markdown",
   "id": "d4508246",
   "metadata": {
    "deletable": false,
    "editable": false,
    "id": "9904cf55"
   },
   "source": [
    "### Категоризация данных"
   ]
  },
  {
   "cell_type": "code",
   "execution_count": 18,
   "id": "243d9f44",
   "metadata": {
    "deletable": false,
    "id": "e1771346"
   },
   "outputs": [],
   "source": [
    "def categorize_income(income):\n",
    "    try:\n",
    "        if 0 <= income <= 30000:\n",
    "            return 'E'\n",
    "        elif 30001 <= income <= 50000:\n",
    "            return 'D'\n",
    "        elif 50001 <= income <= 200000:\n",
    "            return 'C'\n",
    "        elif 200001 <= income <= 1000000:\n",
    "            return 'B'\n",
    "        elif income >= 1000001:\n",
    "            return 'A'\n",
    "    except:\n",
    "        pass"
   ]
  },
  {
   "cell_type": "code",
   "execution_count": 19,
   "id": "22a35051",
   "metadata": {
    "deletable": false,
    "id": "d5f3586d"
   },
   "outputs": [],
   "source": [
    "data['total_income_category'] = data['total_income'].apply(categorize_income)"
   ]
  },
  {
   "cell_type": "code",
   "execution_count": 20,
   "id": "3d84be97",
   "metadata": {
    "deletable": false,
    "id": "f67ce9b3",
    "outputId": "673c12d9-7d7e-4ae0-9812-c622c89dd244"
   },
   "outputs": [
    {
     "data": {
      "text/plain": [
       "array(['покупка жилья', 'приобретение автомобиля',\n",
       "       'дополнительное образование', 'сыграть свадьбу',\n",
       "       'операции с жильем', 'образование', 'на проведение свадьбы',\n",
       "       'покупка жилья для семьи', 'покупка недвижимости',\n",
       "       'покупка коммерческой недвижимости', 'покупка жилой недвижимости',\n",
       "       'строительство собственной недвижимости', 'недвижимость',\n",
       "       'строительство недвижимости', 'на покупку подержанного автомобиля',\n",
       "       'на покупку своего автомобиля',\n",
       "       'операции с коммерческой недвижимостью',\n",
       "       'строительство жилой недвижимости', 'жилье',\n",
       "       'операции со своей недвижимостью', 'автомобили',\n",
       "       'заняться образованием', 'сделка с подержанным автомобилем',\n",
       "       'получение образования', 'автомобиль', 'свадьба',\n",
       "       'получение дополнительного образования', 'покупка своего жилья',\n",
       "       'операции с недвижимостью', 'получение высшего образования',\n",
       "       'свой автомобиль', 'сделка с автомобилем',\n",
       "       'профильное образование', 'высшее образование',\n",
       "       'покупка жилья для сдачи', 'на покупку автомобиля', 'ремонт жилью',\n",
       "       'заняться высшим образованием'], dtype=object)"
      ]
     },
     "execution_count": 20,
     "metadata": {},
     "output_type": "execute_result"
    }
   ],
   "source": [
    "data['purpose'].unique()"
   ]
  },
  {
   "cell_type": "code",
   "execution_count": 21,
   "id": "a0811f38",
   "metadata": {
    "deletable": false,
    "id": "e149fab4"
   },
   "outputs": [],
   "source": [
    "def categorize_purpose(row):\n",
    "    try:\n",
    "        if 'автом' in row:\n",
    "            return 'операции с автомобилем'\n",
    "        elif 'жил' in row or 'недвиж' in row:\n",
    "            return 'операции с недвижимостью'\n",
    "        elif 'свад' in row:\n",
    "            return 'проведение свадьбы'\n",
    "        elif 'образов' in row:\n",
    "            return 'получение образования'\n",
    "    except:\n",
    "        return 'нет категории'"
   ]
  },
  {
   "cell_type": "code",
   "execution_count": 22,
   "id": "94fc442c",
   "metadata": {
    "deletable": false,
    "id": "bf36e69b"
   },
   "outputs": [],
   "source": [
    "data['purpose_category'] = data['purpose'].apply(categorize_purpose)"
   ]
  },
  {
   "cell_type": "markdown",
   "id": "344d90d8",
   "metadata": {
    "deletable": false,
    "editable": false,
    "id": "c5d66278"
   },
   "source": [
    "#### 3.1 Есть ли зависимость между количеством детей и возвратом кредита в срок?"
   ]
  },
  {
   "cell_type": "code",
   "execution_count": 62,
   "id": "082cd866",
   "metadata": {
    "deletable": false,
    "id": "2cacfc4a"
   },
   "outputs": [
    {
     "data": {
      "text/html": [
       "<div>\n",
       "<style scoped>\n",
       "    .dataframe tbody tr th:only-of-type {\n",
       "        vertical-align: middle;\n",
       "    }\n",
       "\n",
       "    .dataframe tbody tr th {\n",
       "        vertical-align: top;\n",
       "    }\n",
       "\n",
       "    .dataframe thead th {\n",
       "        text-align: right;\n",
       "    }\n",
       "</style>\n",
       "<table border=\"1\" class=\"dataframe\">\n",
       "  <thead>\n",
       "    <tr style=\"text-align: right;\">\n",
       "      <th></th>\n",
       "      <th>Количество заемщиков</th>\n",
       "      <th>Среднее значение просрочки выплаты</th>\n",
       "      <th>Количество просрочек по кредиту</th>\n",
       "    </tr>\n",
       "    <tr>\n",
       "      <th>Количество детей</th>\n",
       "      <th></th>\n",
       "      <th></th>\n",
       "      <th></th>\n",
       "    </tr>\n",
       "  </thead>\n",
       "  <tbody>\n",
       "    <tr>\n",
       "      <th>0</th>\n",
       "      <td>14091</td>\n",
       "      <td>7.543822</td>\n",
       "      <td>1063</td>\n",
       "    </tr>\n",
       "    <tr>\n",
       "      <th>1</th>\n",
       "      <td>4808</td>\n",
       "      <td>9.234609</td>\n",
       "      <td>444</td>\n",
       "    </tr>\n",
       "    <tr>\n",
       "      <th>2</th>\n",
       "      <td>2052</td>\n",
       "      <td>9.454191</td>\n",
       "      <td>194</td>\n",
       "    </tr>\n",
       "    <tr>\n",
       "      <th>3</th>\n",
       "      <td>330</td>\n",
       "      <td>8.181818</td>\n",
       "      <td>27</td>\n",
       "    </tr>\n",
       "    <tr>\n",
       "      <th>4</th>\n",
       "      <td>41</td>\n",
       "      <td>9.756098</td>\n",
       "      <td>4</td>\n",
       "    </tr>\n",
       "    <tr>\n",
       "      <th>5</th>\n",
       "      <td>9</td>\n",
       "      <td>0.000000</td>\n",
       "      <td>0</td>\n",
       "    </tr>\n",
       "  </tbody>\n",
       "</table>\n",
       "</div>"
      ],
      "text/plain": [
       "                  Количество заемщиков  Среднее значение просрочки выплаты  \\\n",
       "Количество детей                                                             \n",
       "0                                14091                            7.543822   \n",
       "1                                 4808                            9.234609   \n",
       "2                                 2052                            9.454191   \n",
       "3                                  330                            8.181818   \n",
       "4                                   41                            9.756098   \n",
       "5                                    9                            0.000000   \n",
       "\n",
       "                  Количество просрочек по кредиту  \n",
       "Количество детей                                   \n",
       "0                                            1063  \n",
       "1                                             444  \n",
       "2                                             194  \n",
       "3                                              27  \n",
       "4                                               4  \n",
       "5                                               0  "
      ]
     },
     "execution_count": 62,
     "metadata": {},
     "output_type": "execute_result"
    }
   ],
   "source": [
    "# Ваш код будет здесь. Вы можете создавать новые ячейки.\n",
    "data_pivot = data.pivot_table(index = ['children'], values = 'debt', aggfunc = ('sum', 'count', 'mean'))\n",
    "data_pivot['count'] = data_pivot['count'].astype(int)\n",
    "data_pivot['sum'] = data_pivot['sum'].astype(int)\n",
    "data_pivot['mean'] = data_pivot['mean']*100\n",
    "data_pivot = data_pivot.sort_values(by = 'count', ascending = False)\n",
    "data_pivot = data_pivot.rename(columns = {'mean' : 'Среднее значение просрочки выплаты', 'count' : 'Количество заемщиков', 'sum' : 'Количество просрочек по кредиту'})\n",
    "data_pivot.index.names = ['Количество детей']\n",
    "data_pivot"
   ]
  },
  {
   "cell_type": "markdown",
   "id": "7df03b9f",
   "metadata": {
    "deletable": false,
    "id": "3a6b99ec"
   },
   "source": [
    "**Вывод:** \n",
    "Можно сделать вывод о том, что между количеством детей и возвратом кредита в срок существует зависимость. Чем больше детей в семье, тем больше задолженностей по возрату кредитов, и наоборот, чем меньше детей в семье, тем меньше задолженностей по возрату кредитов. Люди, которые не имеют детей, лучше всего отдают кредит, доля должников здесь составляет с 7,5%, хуже обстоит дело с кредиторами, кто имеет одного или двух детей, здесь доля невозврата составляет соответственно 9,2% и 9,4%. Остальные категории уже некорректно сравнивать, так как в них очень маленькая выборка."
   ]
  },
  {
   "cell_type": "markdown",
   "id": "b91fb512",
   "metadata": {
    "deletable": false,
    "editable": false,
    "id": "97be82ca"
   },
   "source": [
    "#### 3.2 Есть ли зависимость между семейным положением и возвратом кредита в срок?"
   ]
  },
  {
   "cell_type": "code",
   "execution_count": 56,
   "id": "958d648f",
   "metadata": {
    "deletable": false,
    "id": "dc3f7ee8"
   },
   "outputs": [
    {
     "data": {
      "text/html": [
       "<div>\n",
       "<style scoped>\n",
       "    .dataframe tbody tr th:only-of-type {\n",
       "        vertical-align: middle;\n",
       "    }\n",
       "\n",
       "    .dataframe tbody tr th {\n",
       "        vertical-align: top;\n",
       "    }\n",
       "\n",
       "    .dataframe thead th {\n",
       "        text-align: right;\n",
       "    }\n",
       "</style>\n",
       "<table border=\"1\" class=\"dataframe\">\n",
       "  <thead>\n",
       "    <tr style=\"text-align: right;\">\n",
       "      <th></th>\n",
       "      <th>Количество заемщиков</th>\n",
       "      <th>Среднее значение просрочки выплаты</th>\n",
       "      <th>Количество просрочек по кредиту</th>\n",
       "    </tr>\n",
       "    <tr>\n",
       "      <th>Семейный статус</th>\n",
       "      <th></th>\n",
       "      <th></th>\n",
       "      <th></th>\n",
       "    </tr>\n",
       "  </thead>\n",
       "  <tbody>\n",
       "    <tr>\n",
       "      <th>женат / замужем</th>\n",
       "      <td>12261</td>\n",
       "      <td>7.560558</td>\n",
       "      <td>927</td>\n",
       "    </tr>\n",
       "    <tr>\n",
       "      <th>гражданский брак</th>\n",
       "      <td>4134</td>\n",
       "      <td>9.313014</td>\n",
       "      <td>385</td>\n",
       "    </tr>\n",
       "    <tr>\n",
       "      <th>Не женат / не замужем</th>\n",
       "      <td>2796</td>\n",
       "      <td>9.763948</td>\n",
       "      <td>273</td>\n",
       "    </tr>\n",
       "    <tr>\n",
       "      <th>в разводе</th>\n",
       "      <td>1189</td>\n",
       "      <td>7.064760</td>\n",
       "      <td>84</td>\n",
       "    </tr>\n",
       "    <tr>\n",
       "      <th>вдовец / вдова</th>\n",
       "      <td>951</td>\n",
       "      <td>6.624606</td>\n",
       "      <td>63</td>\n",
       "    </tr>\n",
       "  </tbody>\n",
       "</table>\n",
       "</div>"
      ],
      "text/plain": [
       "                       Количество заемщиков  \\\n",
       "Семейный статус                               \n",
       "женат / замужем                       12261   \n",
       "гражданский брак                       4134   \n",
       "Не женат / не замужем                  2796   \n",
       "в разводе                              1189   \n",
       "вдовец / вдова                          951   \n",
       "\n",
       "                       Среднее значение просрочки выплаты  \\\n",
       "Семейный статус                                             \n",
       "женат / замужем                                  7.560558   \n",
       "гражданский брак                                 9.313014   \n",
       "Не женат / не замужем                            9.763948   \n",
       "в разводе                                        7.064760   \n",
       "вдовец / вдова                                   6.624606   \n",
       "\n",
       "                       Количество просрочек по кредиту  \n",
       "Семейный статус                                         \n",
       "женат / замужем                                    927  \n",
       "гражданский брак                                   385  \n",
       "Не женат / не замужем                              273  \n",
       "в разводе                                           84  \n",
       "вдовец / вдова                                      63  "
      ]
     },
     "execution_count": 56,
     "metadata": {},
     "output_type": "execute_result"
    }
   ],
   "source": [
    "# Ваш код будет здесь. Вы можете создавать новые ячейки.\n",
    "data_pivot = data.pivot_table(index = ['family_status'], values = 'debt', aggfunc = ('sum', 'count', 'mean'))\n",
    "data_pivot['count'] = data_pivot['count'].astype(int)\n",
    "data_pivot['sum'] = data_pivot['sum'].astype(int)\n",
    "data_pivot['mean'] = data_pivot['mean']*100\n",
    "data_pivot = data_pivot.sort_values(by = 'count', ascending = False)\n",
    "data_pivot = data_pivot.rename(columns = {'mean' : 'Среднее значение просрочки выплаты', 'count' : 'Количество заемщиков', 'sum' : 'Количество просрочек по кредиту'})\n",
    "data_pivot.index.names = ['Семейный статус']\n",
    "data_pivot"
   ]
  },
  {
   "cell_type": "markdown",
   "id": "4fc5c5da",
   "metadata": {
    "deletable": false,
    "id": "1cef7837"
   },
   "source": [
    "**Вывод:** \n",
    "Можно сделать вывод о том, что семейный статус влияет на возрат кретитов. Люди, которые в разводе и имеющие семейный статус вдовец / вдова, лучше всего отдают кредит, доля должников здесь составляет 6,6%-7%, хуже обстоит дело с кредиторами, кто женат / замужем, здесь доля невозврата составляет соответственно 7,5%. Больший процент невозрата у клинтов, имеющих семейный статус не женат / не замужем, а также находящихся в гражданском браке, у данных категорий процент невозрата кредита составляет 9.3% - 9,8%. "
   ]
  },
  {
   "cell_type": "markdown",
   "id": "8ac95bd3",
   "metadata": {
    "deletable": false,
    "editable": false,
    "id": "1e8b2fca"
   },
   "source": [
    "#### 3.3 Есть ли зависимость между уровнем дохода и возвратом кредита в срок?"
   ]
  },
  {
   "cell_type": "code",
   "execution_count": 61,
   "id": "cfc4797e",
   "metadata": {
    "deletable": false,
    "id": "cd7e3720",
    "scrolled": true
   },
   "outputs": [
    {
     "data": {
      "text/html": [
       "<div>\n",
       "<style scoped>\n",
       "    .dataframe tbody tr th:only-of-type {\n",
       "        vertical-align: middle;\n",
       "    }\n",
       "\n",
       "    .dataframe tbody tr th {\n",
       "        vertical-align: top;\n",
       "    }\n",
       "\n",
       "    .dataframe thead th {\n",
       "        text-align: right;\n",
       "    }\n",
       "</style>\n",
       "<table border=\"1\" class=\"dataframe\">\n",
       "  <thead>\n",
       "    <tr style=\"text-align: right;\">\n",
       "      <th></th>\n",
       "      <th>Количество заемщиков</th>\n",
       "      <th>Среднее значение просрочки выплаты</th>\n",
       "      <th>Количество просрочек по кредиту</th>\n",
       "    </tr>\n",
       "    <tr>\n",
       "      <th>Уровень дохода</th>\n",
       "      <th></th>\n",
       "      <th></th>\n",
       "      <th></th>\n",
       "    </tr>\n",
       "  </thead>\n",
       "  <tbody>\n",
       "    <tr>\n",
       "      <th>Низкий</th>\n",
       "      <td>11183</td>\n",
       "      <td>8.495037</td>\n",
       "      <td>950</td>\n",
       "    </tr>\n",
       "    <tr>\n",
       "      <th>Средний</th>\n",
       "      <td>6980</td>\n",
       "      <td>8.094556</td>\n",
       "      <td>565</td>\n",
       "    </tr>\n",
       "    <tr>\n",
       "      <th>Высокий</th>\n",
       "      <td>2575</td>\n",
       "      <td>6.990291</td>\n",
       "      <td>180</td>\n",
       "    </tr>\n",
       "    <tr>\n",
       "      <th>Очень высокий</th>\n",
       "      <td>222</td>\n",
       "      <td>6.306306</td>\n",
       "      <td>14</td>\n",
       "    </tr>\n",
       "    <tr>\n",
       "      <th>Очень низкий</th>\n",
       "      <td>371</td>\n",
       "      <td>6.199461</td>\n",
       "      <td>23</td>\n",
       "    </tr>\n",
       "  </tbody>\n",
       "</table>\n",
       "</div>"
      ],
      "text/plain": [
       "                Количество заемщиков  Среднее значение просрочки выплаты  \\\n",
       "Уровень дохода                                                             \n",
       "Низкий                         11183                            8.495037   \n",
       "Средний                         6980                            8.094556   \n",
       "Высокий                         2575                            6.990291   \n",
       "Очень высокий                    222                            6.306306   \n",
       "Очень низкий                     371                            6.199461   \n",
       "\n",
       "                Количество просрочек по кредиту  \n",
       "Уровень дохода                                   \n",
       "Низкий                                      950  \n",
       "Средний                                     565  \n",
       "Высокий                                     180  \n",
       "Очень высокий                                14  \n",
       "Очень низкий                                 23  "
      ]
     },
     "execution_count": 61,
     "metadata": {},
     "output_type": "execute_result"
    }
   ],
   "source": [
    "def get_income_group(income):\n",
    "    if income <= 50000:\n",
    "        return \"Очень низкий\"\n",
    "    elif income <= 150000:\n",
    "        return \"Низкий\"\n",
    "    elif income <= 250000:\n",
    "        return \"Средний\"\n",
    "    elif income <= 500000:\n",
    "        return \"Высокий\"\n",
    "    return \"Очень высокий\"\n",
    "data['category_income'] = data['total_income'].apply(get_income_group)\n",
    "data_pivot = data.pivot_table(index = ['category_income'], values = 'debt', aggfunc = ('count', 'mean', 'sum'))\n",
    "data_pivot['count'] = data_pivot['count'].astype(int)\n",
    "data_pivot['sum'] = data_pivot['sum'].astype(int)\n",
    "data_pivot['mean'] = data_pivot['mean']*100\n",
    "data_pivot = data_pivot.sort_values(by = 'mean', ascending = False)\n",
    "data_pivot = data_pivot.rename(columns = {'mean' : 'Среднее значение просрочки выплаты', 'count' : 'Количество заемщиков', 'sum' : 'Количество просрочек по кредиту'})\n",
    "data_pivot.index.names = ['Уровень дохода']\n",
    "data_pivot"
   ]
  },
  {
   "cell_type": "markdown",
   "id": "3626f72c",
   "metadata": {
    "deletable": false,
    "id": "e8593def"
   },
   "source": [
    "**Вывод:** \n",
    "Разбив ежемесячный доход на категории, можно сделать следующий вывод:\n",
    "Меньше всего задолженностей имеют клиенты с высокий уровень дохода (От 250 тыс. рублей до 500 тыс. рублей), невозрат кредита в срок составляет 7%.\n",
    "Хуже обстоит дело с клиентами, имеющими средний уровень дохода (от 150 тыс. до 250 тыс. рублей), т.к просрочка выплаты составляет 8%\n",
    "Больше всего задолженностей имеют клиенты с низким уровнем дохода (от 50 тыс. до 150 тыс. рублей), т.к просрочка выплаты составляет 8.5%.\n",
    "Выборка клиентов с очень низким (до 50 тыс. рублей) и очень высоким уровнем дохода (от 500 тыс. рублей) ялвляется недостоверной из-за недостаточного количества данных."
   ]
  },
  {
   "cell_type": "markdown",
   "id": "451918d4",
   "metadata": {
    "deletable": false,
    "editable": false,
    "id": "99ecbd1f"
   },
   "source": [
    "#### 3.4 Как разные цели кредита влияют на его возврат в срок?"
   ]
  },
  {
   "cell_type": "code",
   "execution_count": 63,
   "id": "738cb55e",
   "metadata": {
    "deletable": false,
    "id": "2b687290"
   },
   "outputs": [
    {
     "data": {
      "text/html": [
       "<div>\n",
       "<style scoped>\n",
       "    .dataframe tbody tr th:only-of-type {\n",
       "        vertical-align: middle;\n",
       "    }\n",
       "\n",
       "    .dataframe tbody tr th {\n",
       "        vertical-align: top;\n",
       "    }\n",
       "\n",
       "    .dataframe thead th {\n",
       "        text-align: right;\n",
       "    }\n",
       "</style>\n",
       "<table border=\"1\" class=\"dataframe\">\n",
       "  <thead>\n",
       "    <tr style=\"text-align: right;\">\n",
       "      <th></th>\n",
       "      <th>Количество заемщиков</th>\n",
       "      <th>Среднее значение просрочки выплаты</th>\n",
       "      <th>Количество просрочек по кредиту</th>\n",
       "    </tr>\n",
       "    <tr>\n",
       "      <th>Цель кредита</th>\n",
       "      <th></th>\n",
       "      <th></th>\n",
       "      <th></th>\n",
       "    </tr>\n",
       "  </thead>\n",
       "  <tbody>\n",
       "    <tr>\n",
       "      <th>операции с недвижимостью</th>\n",
       "      <td>10751</td>\n",
       "      <td>7.255139</td>\n",
       "      <td>780</td>\n",
       "    </tr>\n",
       "    <tr>\n",
       "      <th>операции с автомобилем</th>\n",
       "      <td>4279</td>\n",
       "      <td>9.347978</td>\n",
       "      <td>400</td>\n",
       "    </tr>\n",
       "    <tr>\n",
       "      <th>получение образования</th>\n",
       "      <td>3988</td>\n",
       "      <td>9.252758</td>\n",
       "      <td>369</td>\n",
       "    </tr>\n",
       "    <tr>\n",
       "      <th>проведение свадьбы</th>\n",
       "      <td>2313</td>\n",
       "      <td>7.911803</td>\n",
       "      <td>183</td>\n",
       "    </tr>\n",
       "  </tbody>\n",
       "</table>\n",
       "</div>"
      ],
      "text/plain": [
       "                          Количество заемщиков  \\\n",
       "Цель кредита                                     \n",
       "операции с недвижимостью                 10751   \n",
       "операции с автомобилем                    4279   \n",
       "получение образования                     3988   \n",
       "проведение свадьбы                        2313   \n",
       "\n",
       "                          Среднее значение просрочки выплаты  \\\n",
       "Цель кредита                                                   \n",
       "операции с недвижимостью                            7.255139   \n",
       "операции с автомобилем                              9.347978   \n",
       "получение образования                               9.252758   \n",
       "проведение свадьбы                                  7.911803   \n",
       "\n",
       "                          Количество просрочек по кредиту  \n",
       "Цель кредита                                               \n",
       "операции с недвижимостью                              780  \n",
       "операции с автомобилем                                400  \n",
       "получение образования                                 369  \n",
       "проведение свадьбы                                    183  "
      ]
     },
     "execution_count": 63,
     "metadata": {},
     "output_type": "execute_result"
    }
   ],
   "source": [
    "data_pivot = data.pivot_table(index = ['purpose_category'], values = 'debt', aggfunc = ('sum', 'count', 'mean'))\n",
    "data_pivot['count'] = data_pivot['count'].astype(int)\n",
    "data_pivot['sum'] = data_pivot['sum'].astype(int)\n",
    "data_pivot['mean'] = data_pivot['mean']*100\n",
    "data_pivot = data_pivot.sort_values(by = 'count', ascending = False)\n",
    "data_pivot = data_pivot.rename(columns = {'mean' : 'Среднее значение просрочки выплаты', 'count' : 'Количество заемщиков', 'sum' : 'Количество просрочек по кредиту'})\n",
    "data_pivot.index.names = ['Цель кредита']\n",
    "data_pivot"
   ]
  },
  {
   "cell_type": "markdown",
   "id": "307fa669",
   "metadata": {
    "deletable": false,
    "id": "b4bb2ce6"
   },
   "source": [
    "**Вывод:** \n",
    "Меньше всего задолженностей имеют клиенты, совершившие операции с недвижимостью, т.к. невозврат в срок составляет 7.2%. Доля просрочки выплат по кредиту, взятому на проведение свадьбы, составляет 7,9%. \n",
    "Хуже обстоит дело с кредиторами, взявшими кредит на получение образования и операции с автомобилем, здесь доля невозврата составляет соответственно 9,2% и 9,3%.\n"
   ]
  },
  {
   "cell_type": "markdown",
   "id": "d6d54e82",
   "metadata": {
    "deletable": false,
    "editable": false,
    "id": "09c3ac4c"
   },
   "source": [
    "#### 3.5 Приведите возможные причины появления пропусков в исходных данных."
   ]
  },
  {
   "cell_type": "markdown",
   "id": "50a6013a",
   "metadata": {
    "deletable": false,
    "id": "9da2ceda"
   },
   "source": [
    "*Ответ:* \n",
    "Пропуски в данных появляются разными путями. Например, пользователь не указал о себе какие-нибудь сведения или автоматизированная система сбора информации дала сбой. Иногда пропуски оставляют умышленно, рассчитывая на автозаполнение спецсимволами."
   ]
  },
  {
   "cell_type": "markdown",
   "id": "02298ed2",
   "metadata": {
    "deletable": false,
    "editable": false,
    "id": "7b0487d6"
   },
   "source": [
    "#### 3.6 Объясните, почему заполнить пропуски медианным значением — лучшее решение для количественных переменных."
   ]
  },
  {
   "cell_type": "markdown",
   "id": "68e5c474",
   "metadata": {
    "deletable": false,
    "id": "7ecf2b8e"
   },
   "source": [
    "*Ответ:* \n",
    "Пропуски в количественных переменных заполняют характерными значениями. Это значения, характеризующие состояние выборки, — набора данных, выбранных для проведения исследования. Чтобы примерно оценить типичные значения выборки, можно использовать среднее арифметическое или медиану, но среднее значение некорректно характеризует данные, когда некоторые значения сильно выделяются среди большинства. Поэтому медиана дает более объективную информацию."
   ]
  },
  {
   "cell_type": "markdown",
   "id": "de12a86b",
   "metadata": {
    "deletable": false,
    "editable": false,
    "id": "6db5255a"
   },
   "source": [
    "### Шаг 4: общий вывод."
   ]
  },
  {
   "cell_type": "markdown",
   "id": "d5d09173",
   "metadata": {
    "deletable": false,
    "id": "bad65432"
   },
   "source": [
    "Используя входные данные от банка — статистику о платёжеспособности клиентов для построения модели кредитного скоринга, были сделаны следующие выводы: \n",
    "- между количеством детей и возвратом кредита в срок существует зависимость. Чем больше детей в семье, тем больше задолженностей по возрату кредитов, и наоборот, чем меньше детей в семье, тем меньше задолженностей по возрату кредитов. Люди, которые не имеют детей, лучше всего отдают кредит, доля должников здесь составляет с 7,5%, хуже обстоит дело с кредиторами, кто имеет одного или двух детей, здесь доля невозврата составляет соответственно 9,2% и 9,4%. Остальные категории уже некорректно сравнивать, так как в них очень маленькая выборка;\n",
    "\n",
    "- семейный статус влияет на возрат кретитов. Люди, которые в разводе и имеющие семейный статус вдовец / вдова, лучше всего отдают кредит, доля должников здесь составляет 6,6%-7%, хуже обстоит дело с кредиторами, кто женат / замужем, здесь доля невозврата составляет соответственно 7,5%. Больший процент невозрата у клинтов, имеющих семейный статус не женат / не замужем, а также находящихся в гражданском браке, у данных категорий процент невозрата кредита составляет 9.3% - 9,8%;\n",
    "\n",
    "- Разбив ежемесячный доход на категории, можно сделать следующий вывод:\n",
    "Меньше всего задолженностей имеют клиенты с высокий уровень дохода (От 250 тыс. рублей до 500 тыс. рублей), невозрат кредита в срок составляет 7%.\n",
    "Хуже обстоит дело с клиентами, имеющими средний уровень дохода (от 150 тыс. до 250 тыс. рублей), т.к просрочка выплаты составляет 8%\n",
    "Больше всего задолженностей имеют клиенты с низким уровнем дохода (от 50 тыс. до 150 тыс. рублей), т.к просрочка выплаты составляет 8.5%.\n",
    "Выборка клиентов с очень низким (до 50 тыс. рублей) и очень высоким уровнем дохода (от 500 тыс. рублей) ялвляется недостоверной из-за недостаточного количества данных;\n",
    "\n",
    "- Меньше всего задолженностей имеют клиенты, совершившие операции с недвижимостью, т.к. невозврат в срок составляет 7.2%. Доля просрочки выплат по кредиту, взятому на проведение свадьбы, составляет 7,9%. Хуже обстоит дело с кредиторами, взявшими кредит на получение образования и операции с автомобилем, здесь доля невозврата составляет соответственно 9,2% и 9,3%.\n",
    "\n",
    "Анализируя полученную статистику, можно выявить наиболее платежеспособного клиента. Им является вдовец / вдова, не имеющий детей, с высоким ежемесячным доходом (От 250 тыс. рублей до 500 тыс. рублей), взявший кредит на совершение операций с недвижимостью. Наименьшим платежеспособным клиентом является человек, имеющий семейный статус не женат / не замужем, имеющий одного или двух детей, с низким уровнем дохода (от 50 тыс. до 150 тыс. рублей) и взявщий кредит на операции с автомобилем."
   ]
  }
 ],
 "metadata": {
  "ExecuteTimeLog": [
   {
    "duration": 53,
    "start_time": "2023-02-19T09:12:00.975Z"
   },
   {
    "duration": 688,
    "start_time": "2023-02-19T09:12:07.974Z"
   },
   {
    "duration": 23,
    "start_time": "2023-02-19T09:12:12.487Z"
   },
   {
    "duration": 15,
    "start_time": "2023-02-19T09:12:12.855Z"
   },
   {
    "duration": 10,
    "start_time": "2023-02-19T09:12:13.563Z"
   },
   {
    "duration": 36,
    "start_time": "2023-02-19T09:12:13.927Z"
   },
   {
    "duration": 5,
    "start_time": "2023-02-19T09:12:14.456Z"
   },
   {
    "duration": 7,
    "start_time": "2023-02-19T09:12:14.826Z"
   },
   {
    "duration": 5,
    "start_time": "2023-02-19T09:12:15.380Z"
   },
   {
    "duration": 7,
    "start_time": "2023-02-19T09:12:15.744Z"
   },
   {
    "duration": 5,
    "start_time": "2023-02-19T09:12:16.090Z"
   },
   {
    "duration": 33,
    "start_time": "2023-02-19T09:12:16.637Z"
   },
   {
    "duration": 10,
    "start_time": "2023-02-19T09:12:17.024Z"
   },
   {
    "duration": 4,
    "start_time": "2023-02-19T09:12:17.584Z"
   },
   {
    "duration": 11,
    "start_time": "2023-02-19T09:12:18.143Z"
   },
   {
    "duration": 19,
    "start_time": "2023-02-19T09:12:18.510Z"
   },
   {
    "duration": 17,
    "start_time": "2023-02-19T09:12:18.703Z"
   },
   {
    "duration": 3,
    "start_time": "2023-02-19T09:12:19.292Z"
   },
   {
    "duration": 11,
    "start_time": "2023-02-19T09:12:19.476Z"
   },
   {
    "duration": 5,
    "start_time": "2023-02-19T09:12:20.510Z"
   },
   {
    "duration": 4,
    "start_time": "2023-02-19T09:12:20.912Z"
   },
   {
    "duration": 8,
    "start_time": "2023-02-19T09:12:21.760Z"
   },
   {
    "duration": 15,
    "start_time": "2023-02-19T09:12:24.961Z"
   },
   {
    "duration": 13,
    "start_time": "2023-02-19T09:12:51.921Z"
   },
   {
    "duration": 11,
    "start_time": "2023-02-19T09:15:22.777Z"
   },
   {
    "duration": 10,
    "start_time": "2023-02-19T09:15:38.843Z"
   },
   {
    "duration": 13,
    "start_time": "2023-02-19T09:15:57.675Z"
   },
   {
    "duration": 15,
    "start_time": "2023-02-19T10:32:43.457Z"
   },
   {
    "duration": 19,
    "start_time": "2023-02-19T10:38:24.584Z"
   },
   {
    "duration": 13,
    "start_time": "2023-02-19T10:38:59.207Z"
   },
   {
    "duration": 16,
    "start_time": "2023-02-19T10:40:16.138Z"
   },
   {
    "duration": 15,
    "start_time": "2023-02-19T10:40:25.477Z"
   },
   {
    "duration": 24,
    "start_time": "2023-02-19T11:10:10.814Z"
   },
   {
    "duration": 46,
    "start_time": "2023-02-19T11:14:36.221Z"
   },
   {
    "duration": 29,
    "start_time": "2023-02-19T11:15:04.784Z"
   },
   {
    "duration": 12,
    "start_time": "2023-02-19T11:15:27.912Z"
   },
   {
    "duration": 23,
    "start_time": "2023-02-19T11:23:34.065Z"
   },
   {
    "duration": 19,
    "start_time": "2023-02-19T11:23:58.045Z"
   },
   {
    "duration": 23,
    "start_time": "2023-02-19T11:26:35.765Z"
   },
   {
    "duration": 26,
    "start_time": "2023-02-19T11:27:21.778Z"
   },
   {
    "duration": 19,
    "start_time": "2023-02-19T11:31:18.991Z"
   },
   {
    "duration": 19,
    "start_time": "2023-02-19T12:05:32.914Z"
   },
   {
    "duration": 25,
    "start_time": "2023-02-19T12:35:49.612Z"
   },
   {
    "duration": 18,
    "start_time": "2023-02-19T12:35:52.873Z"
   },
   {
    "duration": 58,
    "start_time": "2023-02-19T21:38:49.831Z"
   },
   {
    "duration": 49,
    "start_time": "2023-02-20T19:08:14.406Z"
   },
   {
    "duration": 744,
    "start_time": "2023-02-20T19:08:25.301Z"
   },
   {
    "duration": 21,
    "start_time": "2023-02-20T19:08:26.047Z"
   },
   {
    "duration": 15,
    "start_time": "2023-02-20T19:08:26.238Z"
   },
   {
    "duration": 10,
    "start_time": "2023-02-20T19:08:27.044Z"
   },
   {
    "duration": 37,
    "start_time": "2023-02-20T19:08:27.644Z"
   },
   {
    "duration": 4,
    "start_time": "2023-02-20T19:08:28.662Z"
   },
   {
    "duration": 10,
    "start_time": "2023-02-20T19:08:29.096Z"
   },
   {
    "duration": 5,
    "start_time": "2023-02-20T19:08:29.956Z"
   },
   {
    "duration": 7,
    "start_time": "2023-02-20T19:08:30.346Z"
   },
   {
    "duration": 5,
    "start_time": "2023-02-20T19:08:30.978Z"
   },
   {
    "duration": 31,
    "start_time": "2023-02-20T19:08:31.644Z"
   },
   {
    "duration": 11,
    "start_time": "2023-02-20T19:08:32.040Z"
   },
   {
    "duration": 5,
    "start_time": "2023-02-20T19:08:32.610Z"
   },
   {
    "duration": 11,
    "start_time": "2023-02-20T19:08:33.202Z"
   },
   {
    "duration": 19,
    "start_time": "2023-02-20T19:08:33.632Z"
   },
   {
    "duration": 16,
    "start_time": "2023-02-20T19:08:33.860Z"
   },
   {
    "duration": 4,
    "start_time": "2023-02-20T19:08:34.421Z"
   },
   {
    "duration": 11,
    "start_time": "2023-02-20T19:08:34.649Z"
   },
   {
    "duration": 6,
    "start_time": "2023-02-20T19:08:37.076Z"
   },
   {
    "duration": 3,
    "start_time": "2023-02-20T19:08:38.668Z"
   },
   {
    "duration": 9,
    "start_time": "2023-02-20T19:08:40.554Z"
   },
   {
    "duration": 41,
    "start_time": "2023-02-20T19:08:43.062Z"
   },
   {
    "duration": 14,
    "start_time": "2023-02-20T19:08:57.279Z"
   },
   {
    "duration": 23,
    "start_time": "2023-02-20T19:14:14.856Z"
   },
   {
    "duration": 22,
    "start_time": "2023-02-20T19:17:22.299Z"
   },
   {
    "duration": 21,
    "start_time": "2023-02-20T19:17:47.904Z"
   },
   {
    "duration": 25,
    "start_time": "2023-02-20T19:18:54.141Z"
   },
   {
    "duration": 24,
    "start_time": "2023-02-20T19:19:22.337Z"
   },
   {
    "duration": 23,
    "start_time": "2023-02-20T19:26:46.459Z"
   },
   {
    "duration": 26,
    "start_time": "2023-02-20T19:27:48.177Z"
   },
   {
    "duration": 31,
    "start_time": "2023-02-20T19:28:00.349Z"
   },
   {
    "duration": 28,
    "start_time": "2023-02-20T19:29:00.309Z"
   },
   {
    "duration": 22,
    "start_time": "2023-02-20T19:29:13.302Z"
   },
   {
    "duration": 26,
    "start_time": "2023-02-20T19:29:48.502Z"
   },
   {
    "duration": 22,
    "start_time": "2023-02-20T19:30:16.746Z"
   },
   {
    "duration": 22,
    "start_time": "2023-02-20T19:30:22.243Z"
   },
   {
    "duration": 27,
    "start_time": "2023-02-20T19:32:36.619Z"
   },
   {
    "duration": 24,
    "start_time": "2023-02-20T19:35:37.431Z"
   },
   {
    "duration": 25,
    "start_time": "2023-02-20T19:35:43.913Z"
   },
   {
    "duration": 23,
    "start_time": "2023-02-20T19:36:47.835Z"
   },
   {
    "duration": 21,
    "start_time": "2023-02-20T19:37:25.714Z"
   },
   {
    "duration": 23,
    "start_time": "2023-02-20T19:38:32.205Z"
   },
   {
    "duration": 25,
    "start_time": "2023-02-20T19:41:34.432Z"
   },
   {
    "duration": 29,
    "start_time": "2023-02-20T19:50:03.102Z"
   },
   {
    "duration": 23,
    "start_time": "2023-02-20T19:51:06.826Z"
   },
   {
    "duration": 26,
    "start_time": "2023-02-20T19:51:20.336Z"
   },
   {
    "duration": 31,
    "start_time": "2023-02-20T19:51:37.213Z"
   },
   {
    "duration": 26,
    "start_time": "2023-02-20T19:53:30.855Z"
   },
   {
    "duration": 39,
    "start_time": "2023-02-20T20:24:52.768Z"
   },
   {
    "duration": 44,
    "start_time": "2023-02-20T20:25:39.819Z"
   },
   {
    "duration": 42,
    "start_time": "2023-02-20T20:27:05.049Z"
   },
   {
    "duration": 41,
    "start_time": "2023-02-20T20:29:49.222Z"
   },
   {
    "duration": 28,
    "start_time": "2023-02-20T20:30:45.493Z"
   },
   {
    "duration": 29,
    "start_time": "2023-02-20T20:31:34.210Z"
   },
   {
    "duration": 29,
    "start_time": "2023-02-20T20:32:02.083Z"
   },
   {
    "duration": 28,
    "start_time": "2023-02-20T20:36:23.538Z"
   },
   {
    "duration": 32,
    "start_time": "2023-02-20T20:37:09.604Z"
   },
   {
    "duration": 28,
    "start_time": "2023-02-20T20:37:43.608Z"
   },
   {
    "duration": 40,
    "start_time": "2023-02-20T20:38:21.347Z"
   },
   {
    "duration": 29,
    "start_time": "2023-02-20T20:38:28.961Z"
   },
   {
    "duration": 37,
    "start_time": "2023-02-20T20:45:09.069Z"
   },
   {
    "duration": 36,
    "start_time": "2023-02-20T20:46:58.382Z"
   },
   {
    "duration": 126,
    "start_time": "2023-02-21T12:06:33.063Z"
   },
   {
    "duration": 89,
    "start_time": "2023-02-21T12:07:27.773Z"
   }
  ],
  "colab": {
   "name": "dpp_template_part2.ipynb",
   "provenance": []
  },
  "kernelspec": {
   "display_name": "Python 3 (ipykernel)",
   "language": "python",
   "name": "python3"
  },
  "language_info": {
   "codemirror_mode": {
    "name": "ipython",
    "version": 3
   },
   "file_extension": ".py",
   "mimetype": "text/x-python",
   "name": "python",
   "nbconvert_exporter": "python",
   "pygments_lexer": "ipython3",
   "version": "3.9.5"
  },
  "toc": {
   "base_numbering": 1,
   "nav_menu": {},
   "number_sections": true,
   "sideBar": true,
   "skip_h1_title": true,
   "title_cell": "Table of Contents",
   "title_sidebar": "Contents",
   "toc_cell": false,
   "toc_position": {},
   "toc_section_display": true,
   "toc_window_display": false
  }
 },
 "nbformat": 4,
 "nbformat_minor": 5
}
