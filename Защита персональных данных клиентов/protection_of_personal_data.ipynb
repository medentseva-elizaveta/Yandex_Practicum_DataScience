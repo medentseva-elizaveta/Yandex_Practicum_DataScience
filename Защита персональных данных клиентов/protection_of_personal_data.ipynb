{
 "cells": [
  {
   "cell_type": "markdown",
   "metadata": {
    "toc": true
   },
   "source": [
    "<h1>Содержание<span class=\"tocSkip\"></span></h1>\n",
    "<div class=\"toc\"><ul class=\"toc-item\"><li><span><a href=\"#Загрузка-данных\" data-toc-modified-id=\"Загрузка-данных-1\"><span class=\"toc-item-num\">1&nbsp;&nbsp;</span>Загрузка данных</a></span><ul class=\"toc-item\"><li><span><a href=\"#Импортируем-библиотеки\" data-toc-modified-id=\"Импортируем-библиотеки-1.1\"><span class=\"toc-item-num\">1.1&nbsp;&nbsp;</span>Импортируем библиотеки</a></span></li><li><span><a href=\"#Откроем-и-изучим-файлы\" data-toc-modified-id=\"Откроем-и-изучим-файлы-1.2\"><span class=\"toc-item-num\">1.2&nbsp;&nbsp;</span>Откроем и изучим файлы</a></span><ul class=\"toc-item\"><li><span><a href=\"#Посмотрим-наименования-полей-и-типы-данных\" data-toc-modified-id=\"Посмотрим-наименования-полей-и-типы-данных-1.2.1\"><span class=\"toc-item-num\">1.2.1&nbsp;&nbsp;</span>Посмотрим наименования полей и типы данных</a></span></li></ul></li></ul></li><li><span><a href=\"#Умножение-матриц\" data-toc-modified-id=\"Умножение-матриц-2\"><span class=\"toc-item-num\">2&nbsp;&nbsp;</span>Умножение матриц</a></span></li><li><span><a href=\"#Алгоритм-преобразования\" data-toc-modified-id=\"Алгоритм-преобразования-3\"><span class=\"toc-item-num\">3&nbsp;&nbsp;</span>Алгоритм преобразования</a></span></li><li><span><a href=\"#Проверка-алгоритма\" data-toc-modified-id=\"Проверка-алгоритма-4\"><span class=\"toc-item-num\">4&nbsp;&nbsp;</span>Проверка алгоритма</a></span><ul class=\"toc-item\"><li><span><a href=\"#Модель-линейной-регрессии\" data-toc-modified-id=\"Модель-линейной-регрессии-4.1\"><span class=\"toc-item-num\">4.1&nbsp;&nbsp;</span>Модель линейной регрессии</a></span></li><li><span><a href=\"#Исследуем-качество-модели-до-преобразования\" data-toc-modified-id=\"Исследуем-качество-модели-до-преобразования-4.2\"><span class=\"toc-item-num\">4.2&nbsp;&nbsp;</span>Исследуем качество модели до преобразования</a></span></li><li><span><a href=\"#Преобразуем-данные\" data-toc-modified-id=\"Преобразуем-данные-4.3\"><span class=\"toc-item-num\">4.3&nbsp;&nbsp;</span>Преобразуем данные</a></span></li><li><span><a href=\"#Разобьем-зашифрованные-данные-на-выборки\" data-toc-modified-id=\"Разобьем-зашифрованные-данные-на-выборки-4.4\"><span class=\"toc-item-num\">4.4&nbsp;&nbsp;</span>Разобьем зашифрованные данные на выборки</a></span></li></ul></li><li><span><a href=\"#Чек-лист-проверки\" data-toc-modified-id=\"Чек-лист-проверки-5\"><span class=\"toc-item-num\">5&nbsp;&nbsp;</span>Чек-лист проверки</a></span></li></ul></div>"
   ]
  },
  {
   "cell_type": "markdown",
   "metadata": {},
   "source": [
    "# Защита персональных данных клиентов"
   ]
  },
  {
   "cell_type": "markdown",
   "metadata": {},
   "source": [
    "Необходимо защитить данные клиентов страховой компании «Хоть потоп». Разработать такой метод преобразования данных, чтобы по ним было сложно восстановить персональную информацию, обосновать корректность его работы.\n",
    "\n",
    "Нужно защитить данные, чтобы при преобразовании качество моделей машинного обучения не ухудшилось. Подбирать наилучшую модель не требуется."
   ]
  },
  {
   "cell_type": "markdown",
   "metadata": {},
   "source": [
    "## Загрузка данных"
   ]
  },
  {
   "cell_type": "markdown",
   "metadata": {},
   "source": [
    "### Импортируем библиотеки"
   ]
  },
  {
   "cell_type": "code",
   "execution_count": 1,
   "metadata": {},
   "outputs": [],
   "source": [
    "import pandas as pd\n",
    "import numpy.matlib\n",
    "import numpy as np\n",
    "from sklearn.linear_model import LinearRegression\n",
    "from sklearn.model_selection import train_test_split"
   ]
  },
  {
   "cell_type": "markdown",
   "metadata": {},
   "source": [
    "### Откроем и изучим файлы"
   ]
  },
  {
   "cell_type": "code",
   "execution_count": 2,
   "metadata": {},
   "outputs": [],
   "source": [
    "data = pd.read_csv('insurance.csv')"
   ]
  },
  {
   "cell_type": "markdown",
   "metadata": {},
   "source": [
    "#### Посмотрим наименования полей и типы данных"
   ]
  },
  {
   "cell_type": "code",
   "execution_count": 3,
   "metadata": {},
   "outputs": [
    {
     "name": "stdout",
     "output_type": "stream",
     "text": [
      "<class 'pandas.core.frame.DataFrame'>\n",
      "RangeIndex: 5000 entries, 0 to 4999\n",
      "Data columns (total 5 columns):\n",
      " #   Column             Non-Null Count  Dtype  \n",
      "---  ------             --------------  -----  \n",
      " 0   Пол                5000 non-null   int64  \n",
      " 1   Возраст            5000 non-null   float64\n",
      " 2   Зарплата           5000 non-null   float64\n",
      " 3   Члены семьи        5000 non-null   int64  \n",
      " 4   Страховые выплаты  5000 non-null   int64  \n",
      "dtypes: float64(2), int64(3)\n",
      "memory usage: 195.4 KB\n"
     ]
    }
   ],
   "source": [
    "data.info()"
   ]
  },
  {
   "cell_type": "code",
   "execution_count": 4,
   "metadata": {},
   "outputs": [
    {
     "data": {
      "text/html": [
       "<div>\n",
       "<style scoped>\n",
       "    .dataframe tbody tr th:only-of-type {\n",
       "        vertical-align: middle;\n",
       "    }\n",
       "\n",
       "    .dataframe tbody tr th {\n",
       "        vertical-align: top;\n",
       "    }\n",
       "\n",
       "    .dataframe thead th {\n",
       "        text-align: right;\n",
       "    }\n",
       "</style>\n",
       "<table border=\"1\" class=\"dataframe\">\n",
       "  <thead>\n",
       "    <tr style=\"text-align: right;\">\n",
       "      <th></th>\n",
       "      <th>Пол</th>\n",
       "      <th>Возраст</th>\n",
       "      <th>Зарплата</th>\n",
       "      <th>Члены семьи</th>\n",
       "      <th>Страховые выплаты</th>\n",
       "    </tr>\n",
       "  </thead>\n",
       "  <tbody>\n",
       "    <tr>\n",
       "      <th>0</th>\n",
       "      <td>1</td>\n",
       "      <td>41.0</td>\n",
       "      <td>49600.0</td>\n",
       "      <td>1</td>\n",
       "      <td>0</td>\n",
       "    </tr>\n",
       "    <tr>\n",
       "      <th>1</th>\n",
       "      <td>0</td>\n",
       "      <td>46.0</td>\n",
       "      <td>38000.0</td>\n",
       "      <td>1</td>\n",
       "      <td>1</td>\n",
       "    </tr>\n",
       "    <tr>\n",
       "      <th>2</th>\n",
       "      <td>0</td>\n",
       "      <td>29.0</td>\n",
       "      <td>21000.0</td>\n",
       "      <td>0</td>\n",
       "      <td>0</td>\n",
       "    </tr>\n",
       "    <tr>\n",
       "      <th>3</th>\n",
       "      <td>0</td>\n",
       "      <td>21.0</td>\n",
       "      <td>41700.0</td>\n",
       "      <td>2</td>\n",
       "      <td>0</td>\n",
       "    </tr>\n",
       "    <tr>\n",
       "      <th>4</th>\n",
       "      <td>1</td>\n",
       "      <td>28.0</td>\n",
       "      <td>26100.0</td>\n",
       "      <td>0</td>\n",
       "      <td>0</td>\n",
       "    </tr>\n",
       "  </tbody>\n",
       "</table>\n",
       "</div>"
      ],
      "text/plain": [
       "   Пол  Возраст  Зарплата  Члены семьи  Страховые выплаты\n",
       "0    1     41.0   49600.0            1                  0\n",
       "1    0     46.0   38000.0            1                  1\n",
       "2    0     29.0   21000.0            0                  0\n",
       "3    0     21.0   41700.0            2                  0\n",
       "4    1     28.0   26100.0            0                  0"
      ]
     },
     "execution_count": 4,
     "metadata": {},
     "output_type": "execute_result"
    }
   ],
   "source": [
    "data.head()"
   ]
  },
  {
   "cell_type": "code",
   "execution_count": 5,
   "metadata": {},
   "outputs": [
    {
     "data": {
      "text/html": [
       "<div>\n",
       "<style scoped>\n",
       "    .dataframe tbody tr th:only-of-type {\n",
       "        vertical-align: middle;\n",
       "    }\n",
       "\n",
       "    .dataframe tbody tr th {\n",
       "        vertical-align: top;\n",
       "    }\n",
       "\n",
       "    .dataframe thead th {\n",
       "        text-align: right;\n",
       "    }\n",
       "</style>\n",
       "<table border=\"1\" class=\"dataframe\">\n",
       "  <thead>\n",
       "    <tr style=\"text-align: right;\">\n",
       "      <th></th>\n",
       "      <th>Пол</th>\n",
       "      <th>Возраст</th>\n",
       "      <th>Зарплата</th>\n",
       "      <th>Члены семьи</th>\n",
       "      <th>Страховые выплаты</th>\n",
       "    </tr>\n",
       "  </thead>\n",
       "  <tbody>\n",
       "    <tr>\n",
       "      <th>4995</th>\n",
       "      <td>0</td>\n",
       "      <td>28.0</td>\n",
       "      <td>35700.0</td>\n",
       "      <td>2</td>\n",
       "      <td>0</td>\n",
       "    </tr>\n",
       "    <tr>\n",
       "      <th>4996</th>\n",
       "      <td>0</td>\n",
       "      <td>34.0</td>\n",
       "      <td>52400.0</td>\n",
       "      <td>1</td>\n",
       "      <td>0</td>\n",
       "    </tr>\n",
       "    <tr>\n",
       "      <th>4997</th>\n",
       "      <td>0</td>\n",
       "      <td>20.0</td>\n",
       "      <td>33900.0</td>\n",
       "      <td>2</td>\n",
       "      <td>0</td>\n",
       "    </tr>\n",
       "    <tr>\n",
       "      <th>4998</th>\n",
       "      <td>1</td>\n",
       "      <td>22.0</td>\n",
       "      <td>32700.0</td>\n",
       "      <td>3</td>\n",
       "      <td>0</td>\n",
       "    </tr>\n",
       "    <tr>\n",
       "      <th>4999</th>\n",
       "      <td>1</td>\n",
       "      <td>28.0</td>\n",
       "      <td>40600.0</td>\n",
       "      <td>1</td>\n",
       "      <td>0</td>\n",
       "    </tr>\n",
       "  </tbody>\n",
       "</table>\n",
       "</div>"
      ],
      "text/plain": [
       "      Пол  Возраст  Зарплата  Члены семьи  Страховые выплаты\n",
       "4995    0     28.0   35700.0            2                  0\n",
       "4996    0     34.0   52400.0            1                  0\n",
       "4997    0     20.0   33900.0            2                  0\n",
       "4998    1     22.0   32700.0            3                  0\n",
       "4999    1     28.0   40600.0            1                  0"
      ]
     },
     "execution_count": 5,
     "metadata": {},
     "output_type": "execute_result"
    }
   ],
   "source": [
    "data.tail()"
   ]
  },
  {
   "cell_type": "code",
   "execution_count": 6,
   "metadata": {},
   "outputs": [
    {
     "data": {
      "text/html": [
       "<div>\n",
       "<style scoped>\n",
       "    .dataframe tbody tr th:only-of-type {\n",
       "        vertical-align: middle;\n",
       "    }\n",
       "\n",
       "    .dataframe tbody tr th {\n",
       "        vertical-align: top;\n",
       "    }\n",
       "\n",
       "    .dataframe thead th {\n",
       "        text-align: right;\n",
       "    }\n",
       "</style>\n",
       "<table border=\"1\" class=\"dataframe\">\n",
       "  <thead>\n",
       "    <tr style=\"text-align: right;\">\n",
       "      <th></th>\n",
       "      <th>Пол</th>\n",
       "      <th>Возраст</th>\n",
       "      <th>Зарплата</th>\n",
       "      <th>Члены семьи</th>\n",
       "      <th>Страховые выплаты</th>\n",
       "    </tr>\n",
       "  </thead>\n",
       "  <tbody>\n",
       "    <tr>\n",
       "      <th>count</th>\n",
       "      <td>5000.000000</td>\n",
       "      <td>5000.000000</td>\n",
       "      <td>5000.000000</td>\n",
       "      <td>5000.000000</td>\n",
       "      <td>5000.000000</td>\n",
       "    </tr>\n",
       "    <tr>\n",
       "      <th>mean</th>\n",
       "      <td>0.499000</td>\n",
       "      <td>30.952800</td>\n",
       "      <td>39916.360000</td>\n",
       "      <td>1.194200</td>\n",
       "      <td>0.148000</td>\n",
       "    </tr>\n",
       "    <tr>\n",
       "      <th>std</th>\n",
       "      <td>0.500049</td>\n",
       "      <td>8.440807</td>\n",
       "      <td>9900.083569</td>\n",
       "      <td>1.091387</td>\n",
       "      <td>0.463183</td>\n",
       "    </tr>\n",
       "    <tr>\n",
       "      <th>min</th>\n",
       "      <td>0.000000</td>\n",
       "      <td>18.000000</td>\n",
       "      <td>5300.000000</td>\n",
       "      <td>0.000000</td>\n",
       "      <td>0.000000</td>\n",
       "    </tr>\n",
       "    <tr>\n",
       "      <th>25%</th>\n",
       "      <td>0.000000</td>\n",
       "      <td>24.000000</td>\n",
       "      <td>33300.000000</td>\n",
       "      <td>0.000000</td>\n",
       "      <td>0.000000</td>\n",
       "    </tr>\n",
       "    <tr>\n",
       "      <th>50%</th>\n",
       "      <td>0.000000</td>\n",
       "      <td>30.000000</td>\n",
       "      <td>40200.000000</td>\n",
       "      <td>1.000000</td>\n",
       "      <td>0.000000</td>\n",
       "    </tr>\n",
       "    <tr>\n",
       "      <th>75%</th>\n",
       "      <td>1.000000</td>\n",
       "      <td>37.000000</td>\n",
       "      <td>46600.000000</td>\n",
       "      <td>2.000000</td>\n",
       "      <td>0.000000</td>\n",
       "    </tr>\n",
       "    <tr>\n",
       "      <th>max</th>\n",
       "      <td>1.000000</td>\n",
       "      <td>65.000000</td>\n",
       "      <td>79000.000000</td>\n",
       "      <td>6.000000</td>\n",
       "      <td>5.000000</td>\n",
       "    </tr>\n",
       "  </tbody>\n",
       "</table>\n",
       "</div>"
      ],
      "text/plain": [
       "               Пол      Возраст      Зарплата  Члены семьи  Страховые выплаты\n",
       "count  5000.000000  5000.000000   5000.000000  5000.000000        5000.000000\n",
       "mean      0.499000    30.952800  39916.360000     1.194200           0.148000\n",
       "std       0.500049     8.440807   9900.083569     1.091387           0.463183\n",
       "min       0.000000    18.000000   5300.000000     0.000000           0.000000\n",
       "25%       0.000000    24.000000  33300.000000     0.000000           0.000000\n",
       "50%       0.000000    30.000000  40200.000000     1.000000           0.000000\n",
       "75%       1.000000    37.000000  46600.000000     2.000000           0.000000\n",
       "max       1.000000    65.000000  79000.000000     6.000000           5.000000"
      ]
     },
     "execution_count": 6,
     "metadata": {},
     "output_type": "execute_result"
    }
   ],
   "source": [
    "data.describe()"
   ]
  },
  {
   "cell_type": "markdown",
   "metadata": {},
   "source": [
    "<b> Проверим столбцы на пропуски </b>"
   ]
  },
  {
   "cell_type": "code",
   "execution_count": 7,
   "metadata": {},
   "outputs": [
    {
     "data": {
      "text/html": [
       "<style type=\"text/css\">\n",
       "#T_39342_row0_col0, #T_39342_row1_col0, #T_39342_row2_col0, #T_39342_row3_col0, #T_39342_row4_col0 {\n",
       "  background-color: #3b4cc0;\n",
       "  color: #f1f1f1;\n",
       "}\n",
       "</style>\n",
       "<table id=\"T_39342\">\n",
       "  <thead>\n",
       "    <tr>\n",
       "      <th class=\"blank level0\" >&nbsp;</th>\n",
       "      <th id=\"T_39342_level0_col0\" class=\"col_heading level0 col0\" >0</th>\n",
       "    </tr>\n",
       "  </thead>\n",
       "  <tbody>\n",
       "    <tr>\n",
       "      <th id=\"T_39342_level0_row0\" class=\"row_heading level0 row0\" >Пол</th>\n",
       "      <td id=\"T_39342_row0_col0\" class=\"data row0 col0\" >0.000000</td>\n",
       "    </tr>\n",
       "    <tr>\n",
       "      <th id=\"T_39342_level0_row1\" class=\"row_heading level0 row1\" >Возраст</th>\n",
       "      <td id=\"T_39342_row1_col0\" class=\"data row1 col0\" >0.000000</td>\n",
       "    </tr>\n",
       "    <tr>\n",
       "      <th id=\"T_39342_level0_row2\" class=\"row_heading level0 row2\" >Зарплата</th>\n",
       "      <td id=\"T_39342_row2_col0\" class=\"data row2 col0\" >0.000000</td>\n",
       "    </tr>\n",
       "    <tr>\n",
       "      <th id=\"T_39342_level0_row3\" class=\"row_heading level0 row3\" >Члены семьи</th>\n",
       "      <td id=\"T_39342_row3_col0\" class=\"data row3 col0\" >0.000000</td>\n",
       "    </tr>\n",
       "    <tr>\n",
       "      <th id=\"T_39342_level0_row4\" class=\"row_heading level0 row4\" >Страховые выплаты</th>\n",
       "      <td id=\"T_39342_row4_col0\" class=\"data row4 col0\" >0.000000</td>\n",
       "    </tr>\n",
       "  </tbody>\n",
       "</table>\n"
      ],
      "text/plain": [
       "<pandas.io.formats.style.Styler at 0x1a6e28ada90>"
      ]
     },
     "execution_count": 7,
     "metadata": {},
     "output_type": "execute_result"
    }
   ],
   "source": [
    "pd.DataFrame(round(data.isna().mean()*100,)).style.background_gradient('coolwarm')"
   ]
  },
  {
   "cell_type": "markdown",
   "metadata": {},
   "source": [
    "Пропуски отсутствуют  "
   ]
  },
  {
   "cell_type": "code",
   "execution_count": 8,
   "metadata": {},
   "outputs": [
    {
     "data": {
      "text/plain": [
       "array([1, 0], dtype=int64)"
      ]
     },
     "execution_count": 8,
     "metadata": {},
     "output_type": "execute_result"
    }
   ],
   "source": [
    "data['Пол'].unique()"
   ]
  },
  {
   "cell_type": "code",
   "execution_count": 9,
   "metadata": {},
   "outputs": [
    {
     "data": {
      "text/plain": [
       "array([41., 46., 29., 21., 28., 43., 39., 25., 36., 32., 38., 23., 40.,\n",
       "       34., 26., 42., 27., 33., 47., 30., 19., 31., 22., 20., 24., 18.,\n",
       "       37., 48., 45., 44., 52., 49., 35., 56., 65., 55., 57., 54., 50.,\n",
       "       53., 51., 58., 59., 60., 61., 62.])"
      ]
     },
     "execution_count": 9,
     "metadata": {},
     "output_type": "execute_result"
    }
   ],
   "source": [
    "data['Возраст'].unique()"
   ]
  },
  {
   "cell_type": "code",
   "execution_count": 10,
   "metadata": {},
   "outputs": [
    {
     "data": {
      "text/plain": [
       "array([1, 0, 2, 4, 3, 5, 6], dtype=int64)"
      ]
     },
     "execution_count": 10,
     "metadata": {},
     "output_type": "execute_result"
    }
   ],
   "source": [
    "data['Члены семьи'].unique()"
   ]
  },
  {
   "cell_type": "code",
   "execution_count": 11,
   "metadata": {},
   "outputs": [
    {
     "data": {
      "text/plain": [
       "array([0, 1, 2, 3, 5, 4], dtype=int64)"
      ]
     },
     "execution_count": 11,
     "metadata": {},
     "output_type": "execute_result"
    }
   ],
   "source": [
    "data['Страховые выплаты'].unique()"
   ]
  },
  {
   "cell_type": "markdown",
   "metadata": {},
   "source": [
    "<b> Вывод:</b>\n",
    "Выполнена загрузка и обзор данных, пропусков и аномалий не обнаружено"
   ]
  },
  {
   "cell_type": "markdown",
   "metadata": {},
   "source": [
    "## Умножение матриц"
   ]
  },
  {
   "cell_type": "markdown",
   "metadata": {},
   "source": [
    "В этом задании вы можете записывать формулы в *Jupyter Notebook.*\n",
    "\n",
    "Чтобы записать формулу внутри текста, окружите её символами доллара \\\\$; если снаружи —  двойными символами \\\\$\\\\$. Эти формулы записываются на языке вёрстки *LaTeX.* \n",
    "\n",
    "Для примера мы записали формулы линейной регрессии. Можете их скопировать и отредактировать, чтобы решить задачу.\n",
    "\n",
    "Работать в *LaTeX* необязательно."
   ]
  },
  {
   "cell_type": "markdown",
   "metadata": {},
   "source": [
    "Обозначения:\n",
    "\n",
    "- $X$ — матрица признаков (нулевой столбец состоит из единиц)\n",
    "\n",
    "- $y$ — вектор целевого признака\n",
    "\n",
    "- $P$ — матрица, на которую умножаются признаки\n",
    "\n",
    "- $w$ — вектор весов линейной регрессии (нулевой элемент равен сдвигу)"
   ]
  },
  {
   "cell_type": "markdown",
   "metadata": {},
   "source": [
    "Предсказания:\n",
    "\n",
    "$$\n",
    "a = Xw\n",
    "$$\n",
    "\n",
    "Задача обучения:\n",
    "\n",
    "$$\n",
    "w = \\arg\\min_w MSE(Xw, y)\n",
    "$$\n",
    "\n",
    "Формула обучения:\n",
    "\n",
    "$$\n",
    "w = (X^T X)^{-1} X^T y\n",
    "$$"
   ]
  },
  {
   "cell_type": "markdown",
   "metadata": {},
   "source": [
    "**Ответ:** При умножении признаков на обратимую матрицу качество линейной регрессии не изменится.\n",
    "\n",
    "**Обоснование:**\n",
    "Подставим формулу вектора весов $w$ в формулу предсказаний $a = Xw$:\n",
    "\n",
    "$$\n",
    "a = Xw = X(X^T X)^{-1} X^T y\n",
    "$$\n",
    "\n",
    "Умножим матрицу признаков $X$ на обратимую матрицу $P$\n",
    "                                 \n",
    "$$\n",
    "XP((XP)^T XP)^{-1}(XP)^T y =\n",
    "$$\n",
    "                                \n",
    "$$\n",
    "= XP(P^T X^T X P)^{-1} (XP)^T y =\n",
    "$$\n",
    "\n",
    "$$\n",
    "= XP((P^T)(X^T X)(P))^{-1} (XP)^T y =\n",
    "$$\n",
    "\n",
    "$$\n",
    "= XP P^{-1} (X^T X)^{-1} (P^T)^{-1} (XP)^T y =\n",
    "$$\n",
    "\n",
    "\n",
    "\n",
    "$$\n",
    "= XP P^{-1} (X^T X)^{-1} (P^T)^{-1} P^T X^T y =\n",
    "$$\n",
    "\n",
    "\n",
    "Произведение $ (P^T)^{-1} P^T$  и $ P P^{-1} $ являются единичными матрицами $E$\n",
    "\n",
    "$$\n",
    "= X (X^T X)^{-1} X^T y = Xw = a\n",
    "$$"
   ]
  },
  {
   "cell_type": "markdown",
   "metadata": {},
   "source": [
    "## Алгоритм преобразования"
   ]
  },
  {
   "cell_type": "markdown",
   "metadata": {},
   "source": [
    "**Алгоритм**\n",
    "\n",
    "Для защиты информации выполним следующие действия:\n",
    "1. Разделим данные по целевому признаку на 2 выборки: features и target;\n",
    "2. Построим модель линейной регресии;\n",
    "3. Исследуем качество модели;\n",
    "4. Матрицу признаков умножим на обратимую матрицу, которая будет генерироваться случайным образом;\n",
    "5. Построим вторую модель линейной регрессии с преобразованными данными;\n",
    "6. Исследуем качество второй модели;\n",
    "7. Сравним метрики первой и второй моделей."
   ]
  },
  {
   "cell_type": "markdown",
   "metadata": {},
   "source": [
    "**Обоснование**\n",
    "\n",
    "Генерируемая матрица P должна иметь размерность (nxn) и быть невырожденной, где n - количество признаков модели линейной регресси. Матрица является невырожденной, если ее опредилитель не равен 0, а умножение матрицы P на обратную дает единичную матрицу. Также число строк матрицы P равно числу столбцов матрице признаков X, здесь X еще без нулевого столбца, он добавляется в внутри модели линейной регрессии. Таким образом новая матрица будет иметь ту же размерность, что и матрица X.\n",
    "\n",
    "Так как у линейной регрессии признаки — это вектор чисел в n-мерном пространстве (допустим, x). Предсказание модели (a) вычисляется так: скалярно умножается вектор признаков на вектор весов w, затем к этому произведению прибавляется величина сдвига предсказания w0: a=(x,w)+w0, вектор w и скаляр w0 — это параметры модели. В векторе w параметров n, а в w0 — один. То есть количество параметров больше длины вектора признаков на единицу. Поэтому к матрице признаков X дополнительно присоединяют вектор-столбец из единиц — X=[1∣X] и ее размерность увеличивается на 1."
   ]
  },
  {
   "cell_type": "markdown",
   "metadata": {},
   "source": [
    "## Проверка алгоритма"
   ]
  },
  {
   "cell_type": "markdown",
   "metadata": {},
   "source": [
    "### Модель линейной регрессии "
   ]
  },
  {
   "cell_type": "code",
   "execution_count": 12,
   "metadata": {},
   "outputs": [],
   "source": [
    "class LinearRegression:\n",
    "    def fit(self, train_features, train_target): \n",
    "        X = np.concatenate((np.ones((train_features.shape[0], 1)), train_features), axis=1)\n",
    "        y = train_target\n",
    "        w = np.linalg.inv(X.T.dot(X)).dot(X.T).dot(y)\n",
    "        self.w = w[1:]\n",
    "        self.w0 = w[0]\n",
    "\n",
    "    def predict(self, test_features):\n",
    "        return test_features.dot(self.w) + self.w0\n",
    "    \n",
    "    def R2(self, test_features, test_target):\n",
    "        test_predict = self.predict(test_features)\n",
    "        mse_model = np.sum((test_target - test_predict)**2)\n",
    "        mse_data = np.sum((test_target - np.mean(test_target))**2)\n",
    "        return 1 - mse_model/mse_data"
   ]
  },
  {
   "cell_type": "markdown",
   "metadata": {},
   "source": [
    "<b> Подготовка признаков </b>"
   ]
  },
  {
   "cell_type": "code",
   "execution_count": 13,
   "metadata": {},
   "outputs": [],
   "source": [
    "features = data.drop('Страховые выплаты', axis=1)\n",
    "target = data['Страховые выплаты']"
   ]
  },
  {
   "cell_type": "markdown",
   "metadata": {},
   "source": [
    "### Исследуем качество модели до преобразования"
   ]
  },
  {
   "cell_type": "markdown",
   "metadata": {},
   "source": [
    "Разделим данные на обучающие и тестовые выборки "
   ]
  },
  {
   "cell_type": "code",
   "execution_count": 14,
   "metadata": {},
   "outputs": [],
   "source": [
    "features_train, features_valid, target_train, target_valid = train_test_split(features, target, test_size=0.25, random_state=12345)"
   ]
  },
  {
   "cell_type": "markdown",
   "metadata": {},
   "source": [
    "<b> Обучим модель LinearRegression и посмотрим на показатели метрики R2 на выборках. </b>"
   ]
  },
  {
   "cell_type": "code",
   "execution_count": 15,
   "metadata": {},
   "outputs": [
    {
     "name": "stdout",
     "output_type": "stream",
     "text": [
      "Метрика R2 линейной регрессии (train):  0.4213920242579371\n",
      "Метрика R2 линейной регрессии (valid):  0.43522757127026657\n"
     ]
    }
   ],
   "source": [
    "model = LinearRegression()\n",
    "model.fit(features_train, target_train)\n",
    "print('Метрика R2 линейной регрессии (train): ', model.R2(features_train, target_train))\n",
    "print('Метрика R2 линейной регрессии (valid): ', model.R2(features_valid, target_valid))"
   ]
  },
  {
   "cell_type": "markdown",
   "metadata": {},
   "source": [
    "### Преобразуем данные"
   ]
  },
  {
   "cell_type": "code",
   "execution_count": 16,
   "metadata": {},
   "outputs": [],
   "source": [
    "np.random.seed(12345)\n",
    "def get_trans(features):\n",
    "    n = features.shape[1]\n",
    "    while True:\n",
    "        P = np.matlib.rand((n,n)) \n",
    "        P_det = np.linalg.det(P)\n",
    "        print(f'Оперделитель матрицы: {P_det}')\n",
    "        check_prop = np.prod(np.round(P.dot(np.linalg.inv(P))) == np.eye(n)) \n",
    "        if P_det and check_prop:\n",
    "            break\n",
    "    return features.dot(P), P"
   ]
  },
  {
   "cell_type": "code",
   "execution_count": 17,
   "metadata": {},
   "outputs": [
    {
     "name": "stdout",
     "output_type": "stream",
     "text": [
      "Оперделитель матрицы: -0.05543310984078479\n"
     ]
    }
   ],
   "source": [
    "features_cipher, P = get_trans(features)"
   ]
  },
  {
   "cell_type": "code",
   "execution_count": 18,
   "metadata": {},
   "outputs": [
    {
     "data": {
      "text/html": [
       "<div>\n",
       "<style scoped>\n",
       "    .dataframe tbody tr th:only-of-type {\n",
       "        vertical-align: middle;\n",
       "    }\n",
       "\n",
       "    .dataframe tbody tr th {\n",
       "        vertical-align: top;\n",
       "    }\n",
       "\n",
       "    .dataframe thead th {\n",
       "        text-align: right;\n",
       "    }\n",
       "</style>\n",
       "<table border=\"1\" class=\"dataframe\">\n",
       "  <thead>\n",
       "    <tr style=\"text-align: right;\">\n",
       "      <th></th>\n",
       "      <th>Пол</th>\n",
       "      <th>Возраст</th>\n",
       "      <th>Зарплата</th>\n",
       "      <th>Члены семьи</th>\n",
       "    </tr>\n",
       "  </thead>\n",
       "  <tbody>\n",
       "    <tr>\n",
       "      <th>0</th>\n",
       "      <td>37169.983952</td>\n",
       "      <td>32441.905747</td>\n",
       "      <td>37126.682258</td>\n",
       "      <td>47708.455342</td>\n",
       "    </tr>\n",
       "    <tr>\n",
       "      <th>1</th>\n",
       "      <td>28484.575966</td>\n",
       "      <td>24863.156593</td>\n",
       "      <td>28457.829124</td>\n",
       "      <td>36560.358528</td>\n",
       "    </tr>\n",
       "    <tr>\n",
       "      <th>2</th>\n",
       "      <td>15743.503414</td>\n",
       "      <td>13742.238084</td>\n",
       "      <td>15729.981916</td>\n",
       "      <td>20206.383593</td>\n",
       "    </tr>\n",
       "    <tr>\n",
       "      <th>3</th>\n",
       "      <td>31241.345787</td>\n",
       "      <td>27266.582942</td>\n",
       "      <td>31200.559759</td>\n",
       "      <td>40101.520436</td>\n",
       "    </tr>\n",
       "    <tr>\n",
       "      <th>4</th>\n",
       "      <td>19563.289157</td>\n",
       "      <td>17075.165256</td>\n",
       "      <td>19542.546847</td>\n",
       "      <td>25108.599330</td>\n",
       "    </tr>\n",
       "  </tbody>\n",
       "</table>\n",
       "</div>"
      ],
      "text/plain": [
       "            Пол       Возраст      Зарплата   Члены семьи\n",
       "0  37169.983952  32441.905747  37126.682258  47708.455342\n",
       "1  28484.575966  24863.156593  28457.829124  36560.358528\n",
       "2  15743.503414  13742.238084  15729.981916  20206.383593\n",
       "3  31241.345787  27266.582942  31200.559759  40101.520436\n",
       "4  19563.289157  17075.165256  19542.546847  25108.599330"
      ]
     },
     "execution_count": 18,
     "metadata": {},
     "output_type": "execute_result"
    }
   ],
   "source": [
    "pd.DataFrame(features_cipher.values, columns= data.columns[:-1]).head(5)"
   ]
  },
  {
   "cell_type": "markdown",
   "metadata": {},
   "source": [
    "### Разобьем зашифрованные данные на выборки"
   ]
  },
  {
   "cell_type": "code",
   "execution_count": 19,
   "metadata": {},
   "outputs": [],
   "source": [
    "features_train, features_valid, target_train, target_valid = train_test_split(features_cipher, target, test_size=0.25, random_state=12345)"
   ]
  },
  {
   "cell_type": "markdown",
   "metadata": {},
   "source": [
    "<b> Обучим модель LinearRegression и посмотрим на показатели метрики R2 на выборках. </b>"
   ]
  },
  {
   "cell_type": "code",
   "execution_count": 20,
   "metadata": {},
   "outputs": [
    {
     "name": "stdout",
     "output_type": "stream",
     "text": [
      "Метрика R2 линейной регрессии (train):  0.4213920242573158\n",
      "Метрика R2 линейной регрессии (valid):  0.4352276372038495\n"
     ]
    }
   ],
   "source": [
    "model = LinearRegression()\n",
    "model.fit(features_train, target_train)\n",
    "print('Метрика R2 линейной регрессии (train): ', model.R2(features_train, target_train))\n",
    "print('Метрика R2 линейной регрессии (valid): ', model.R2(features_valid, target_valid))"
   ]
  },
  {
   "cell_type": "markdown",
   "metadata": {},
   "source": [
    "<b> Вывод: </b>\n",
    "\n",
    "Данные были загружены и изучены. Исследован вопрос о влиянии умножения матрицы признаков на обратимую матрицу. Качество линейной регрессии не изменится. Сформирован и реализован алгоритм преобразования данных на основе проведенного исследования. Сформированный алгоритм был запрограммирован, реализован класс модели LinearRegression и проведено тестирование моделей по двум направлениям:\n",
    "* Исследовано качество модели без шифрования;\n",
    "* Исследовано качество модели с шифрованием.\n",
    "\n",
    "Показатели метрики R2 на модели до преобразования данных и после преобразорвания данных одинаковы."
   ]
  }
 ],
 "metadata": {
  "ExecuteTimeLog": [
   {
    "duration": 3,
    "start_time": "2023-06-27T19:53:53.623Z"
   },
   {
    "duration": 2,
    "start_time": "2023-06-27T19:54:01.149Z"
   },
   {
    "duration": 43,
    "start_time": "2023-06-27T20:05:02.542Z"
   },
   {
    "duration": 1609,
    "start_time": "2023-06-27T20:05:47.326Z"
   },
   {
    "duration": 86,
    "start_time": "2023-06-27T20:05:51.523Z"
   },
   {
    "duration": 12,
    "start_time": "2023-06-27T20:05:53.182Z"
   },
   {
    "duration": 12,
    "start_time": "2023-06-27T20:07:12.922Z"
   },
   {
    "duration": 9,
    "start_time": "2023-06-27T20:07:59.493Z"
   },
   {
    "duration": 78,
    "start_time": "2023-06-27T20:34:07.139Z"
   },
   {
    "duration": 22,
    "start_time": "2023-06-27T20:35:12.018Z"
   },
   {
    "duration": 53,
    "start_time": "2023-06-27T20:44:29.225Z"
   },
   {
    "duration": 13,
    "start_time": "2023-06-27T20:44:47.435Z"
   },
   {
    "duration": 11,
    "start_time": "2023-06-27T20:44:54.710Z"
   },
   {
    "duration": 21,
    "start_time": "2023-06-27T20:49:10.319Z"
   },
   {
    "duration": 13,
    "start_time": "2023-06-27T20:49:28.064Z"
   },
   {
    "duration": 14,
    "start_time": "2023-06-27T20:49:39.503Z"
   },
   {
    "duration": 71,
    "start_time": "2023-06-27T20:54:36.644Z"
   },
   {
    "duration": 4,
    "start_time": "2023-06-27T20:57:33.039Z"
   },
   {
    "duration": 5,
    "start_time": "2023-06-27T20:58:07.935Z"
   },
   {
    "duration": 7,
    "start_time": "2023-06-27T20:58:27.515Z"
   },
   {
    "duration": 4,
    "start_time": "2023-06-27T20:59:29.684Z"
   },
   {
    "duration": 5,
    "start_time": "2023-06-27T20:59:54.632Z"
   },
   {
    "duration": 955,
    "start_time": "2023-06-27T21:01:10.419Z"
   },
   {
    "duration": 4,
    "start_time": "2023-06-27T21:01:15.927Z"
   },
   {
    "duration": 9,
    "start_time": "2023-06-27T21:02:03.019Z"
   },
   {
    "duration": 60,
    "start_time": "2023-06-27T21:09:15.756Z"
   },
   {
    "duration": 4,
    "start_time": "2023-06-27T21:09:41.621Z"
   },
   {
    "duration": 28,
    "start_time": "2023-06-27T21:09:42.216Z"
   },
   {
    "duration": 11,
    "start_time": "2023-06-27T21:09:42.557Z"
   },
   {
    "duration": 9,
    "start_time": "2023-06-27T21:09:42.716Z"
   },
   {
    "duration": 12,
    "start_time": "2023-06-27T21:09:42.924Z"
   },
   {
    "duration": 35,
    "start_time": "2023-06-27T21:09:43.096Z"
   },
   {
    "duration": 16,
    "start_time": "2023-06-27T21:09:43.465Z"
   },
   {
    "duration": 10,
    "start_time": "2023-06-27T21:09:43.841Z"
   },
   {
    "duration": 5,
    "start_time": "2023-06-27T21:09:44.036Z"
   },
   {
    "duration": 5,
    "start_time": "2023-06-27T21:09:44.219Z"
   },
   {
    "duration": 4,
    "start_time": "2023-06-27T21:09:44.416Z"
   },
   {
    "duration": 4,
    "start_time": "2023-06-28T12:10:02.594Z"
   },
   {
    "duration": 29,
    "start_time": "2023-06-28T12:10:03.232Z"
   },
   {
    "duration": 12,
    "start_time": "2023-06-28T12:10:03.841Z"
   },
   {
    "duration": 10,
    "start_time": "2023-06-28T12:10:04.351Z"
   },
   {
    "duration": 9,
    "start_time": "2023-06-28T12:10:05.047Z"
   },
   {
    "duration": 25,
    "start_time": "2023-06-28T12:10:05.399Z"
   },
   {
    "duration": 12,
    "start_time": "2023-06-28T12:10:05.931Z"
   },
   {
    "duration": 5,
    "start_time": "2023-06-28T12:10:06.467Z"
   },
   {
    "duration": 6,
    "start_time": "2023-06-28T12:10:06.765Z"
   },
   {
    "duration": 5,
    "start_time": "2023-06-28T12:10:07.098Z"
   },
   {
    "duration": 5,
    "start_time": "2023-06-28T12:10:07.360Z"
   },
   {
    "duration": 7,
    "start_time": "2023-06-28T16:24:44.346Z"
   },
   {
    "duration": 1697,
    "start_time": "2023-06-28T16:24:50.364Z"
   },
   {
    "duration": 90,
    "start_time": "2023-06-28T16:24:52.063Z"
   },
   {
    "duration": 14,
    "start_time": "2023-06-28T16:24:52.155Z"
   },
   {
    "duration": 23,
    "start_time": "2023-06-28T16:24:52.171Z"
   },
   {
    "duration": 18,
    "start_time": "2023-06-28T16:24:52.196Z"
   },
   {
    "duration": 68,
    "start_time": "2023-06-28T16:24:52.215Z"
   },
   {
    "duration": 70,
    "start_time": "2023-06-28T16:24:52.285Z"
   },
   {
    "duration": 4,
    "start_time": "2023-06-28T16:24:52.455Z"
   },
   {
    "duration": 5,
    "start_time": "2023-06-28T16:24:52.640Z"
   },
   {
    "duration": 5,
    "start_time": "2023-06-28T16:24:52.849Z"
   },
   {
    "duration": 4,
    "start_time": "2023-06-28T16:24:53.068Z"
   },
   {
    "duration": 78,
    "start_time": "2023-06-28T16:24:56.534Z"
   },
   {
    "duration": 4,
    "start_time": "2023-06-28T16:25:50.414Z"
   },
   {
    "duration": 10,
    "start_time": "2023-06-28T16:26:01.512Z"
   },
   {
    "duration": 9,
    "start_time": "2023-06-28T16:29:34.396Z"
   },
   {
    "duration": 23,
    "start_time": "2023-06-28T16:29:57.360Z"
   },
   {
    "duration": 5,
    "start_time": "2023-06-28T16:30:06.246Z"
   },
   {
    "duration": 32,
    "start_time": "2023-06-28T16:30:06.610Z"
   },
   {
    "duration": 15,
    "start_time": "2023-06-28T16:30:06.933Z"
   },
   {
    "duration": 12,
    "start_time": "2023-06-28T16:30:07.116Z"
   },
   {
    "duration": 12,
    "start_time": "2023-06-28T16:30:07.303Z"
   },
   {
    "duration": 34,
    "start_time": "2023-06-28T16:30:07.461Z"
   },
   {
    "duration": 15,
    "start_time": "2023-06-28T16:30:07.854Z"
   },
   {
    "duration": 5,
    "start_time": "2023-06-28T16:30:08.210Z"
   },
   {
    "duration": 5,
    "start_time": "2023-06-28T16:30:08.395Z"
   },
   {
    "duration": 5,
    "start_time": "2023-06-28T16:30:08.567Z"
   },
   {
    "duration": 4,
    "start_time": "2023-06-28T16:30:08.751Z"
   },
   {
    "duration": 19,
    "start_time": "2023-06-28T16:30:11.052Z"
   },
   {
    "duration": 5,
    "start_time": "2023-06-28T16:30:54.622Z"
   },
   {
    "duration": 6,
    "start_time": "2023-06-28T16:30:59.023Z"
   },
   {
    "duration": 107,
    "start_time": "2023-06-28T16:32:39.607Z"
   },
   {
    "duration": 8,
    "start_time": "2023-06-28T17:24:01.067Z"
   },
   {
    "duration": 5,
    "start_time": "2023-06-28T17:24:03.398Z"
   },
   {
    "duration": 7,
    "start_time": "2023-06-28T17:24:05.656Z"
   },
   {
    "duration": 18,
    "start_time": "2023-06-28T17:27:33.796Z"
   },
   {
    "duration": 5,
    "start_time": "2023-06-28T17:35:55.265Z"
   },
   {
    "duration": 31,
    "start_time": "2023-06-28T17:35:59.384Z"
   },
   {
    "duration": 17,
    "start_time": "2023-06-28T17:36:05.531Z"
   },
   {
    "duration": 7,
    "start_time": "2023-06-28T17:36:18.191Z"
   },
   {
    "duration": 4,
    "start_time": "2023-06-28T17:36:46.201Z"
   },
   {
    "duration": 6,
    "start_time": "2023-06-28T17:36:46.768Z"
   },
   {
    "duration": 32,
    "start_time": "2023-06-28T17:36:47.197Z"
   },
   {
    "duration": 5,
    "start_time": "2023-06-28T17:45:15.598Z"
   },
   {
    "duration": 16,
    "start_time": "2023-06-28T17:46:07.229Z"
   },
   {
    "duration": 5,
    "start_time": "2023-06-28T17:47:01.391Z"
   },
   {
    "duration": 5,
    "start_time": "2023-06-28T17:47:09.292Z"
   },
   {
    "duration": 9,
    "start_time": "2023-06-28T17:47:21.048Z"
   },
   {
    "duration": 6,
    "start_time": "2023-06-28T17:47:35.827Z"
   },
   {
    "duration": 8,
    "start_time": "2023-06-28T17:48:33.132Z"
   },
   {
    "duration": 6,
    "start_time": "2023-06-28T17:48:42.773Z"
   },
   {
    "duration": 9,
    "start_time": "2023-06-28T17:48:48.903Z"
   },
   {
    "duration": 9,
    "start_time": "2023-06-28T17:48:52.032Z"
   },
   {
    "duration": 14,
    "start_time": "2023-06-28T17:49:09.594Z"
   },
   {
    "duration": 1299,
    "start_time": "2023-06-28T17:49:31.858Z"
   },
   {
    "duration": 31,
    "start_time": "2023-06-28T17:49:33.159Z"
   },
   {
    "duration": 46,
    "start_time": "2023-06-28T17:49:33.192Z"
   },
   {
    "duration": 207,
    "start_time": "2023-06-28T17:49:33.241Z"
   },
   {
    "duration": 91,
    "start_time": "2023-06-28T17:49:33.451Z"
   },
   {
    "duration": 55,
    "start_time": "2023-06-28T17:49:33.547Z"
   },
   {
    "duration": 435,
    "start_time": "2023-06-28T17:49:33.604Z"
   },
   {
    "duration": 11,
    "start_time": "2023-06-28T17:49:34.046Z"
   },
   {
    "duration": 11,
    "start_time": "2023-06-28T17:49:34.061Z"
   },
   {
    "duration": 18,
    "start_time": "2023-06-28T17:49:34.076Z"
   },
   {
    "duration": 22,
    "start_time": "2023-06-28T17:49:34.096Z"
   },
   {
    "duration": 43,
    "start_time": "2023-06-28T17:49:34.121Z"
   },
   {
    "duration": 35,
    "start_time": "2023-06-28T17:49:34.166Z"
   },
   {
    "duration": 19,
    "start_time": "2023-06-28T17:49:34.203Z"
   },
   {
    "duration": 196,
    "start_time": "2023-06-28T17:49:34.226Z"
   },
   {
    "duration": 6,
    "start_time": "2023-06-28T17:49:34.431Z"
   },
   {
    "duration": 22,
    "start_time": "2023-06-28T17:49:34.442Z"
   },
   {
    "duration": 1232,
    "start_time": "2023-06-28T17:50:15.032Z"
   },
   {
    "duration": 30,
    "start_time": "2023-06-28T17:50:16.266Z"
   },
   {
    "duration": 14,
    "start_time": "2023-06-28T17:50:16.297Z"
   },
   {
    "duration": 27,
    "start_time": "2023-06-28T17:50:16.313Z"
   },
   {
    "duration": 10,
    "start_time": "2023-06-28T17:50:16.344Z"
   },
   {
    "duration": 65,
    "start_time": "2023-06-28T17:50:16.356Z"
   },
   {
    "duration": 410,
    "start_time": "2023-06-28T17:50:16.427Z"
   },
   {
    "duration": 5,
    "start_time": "2023-06-28T17:50:16.839Z"
   },
   {
    "duration": 7,
    "start_time": "2023-06-28T17:50:16.846Z"
   },
   {
    "duration": 5,
    "start_time": "2023-06-28T17:50:16.855Z"
   },
   {
    "duration": 7,
    "start_time": "2023-06-28T17:50:16.862Z"
   },
   {
    "duration": 5,
    "start_time": "2023-06-28T17:50:16.871Z"
   },
   {
    "duration": 36,
    "start_time": "2023-06-28T17:50:16.878Z"
   },
   {
    "duration": 15,
    "start_time": "2023-06-28T17:50:16.917Z"
   },
   {
    "duration": 93,
    "start_time": "2023-06-28T17:50:16.934Z"
   },
   {
    "duration": 5,
    "start_time": "2023-06-28T17:50:17.035Z"
   },
   {
    "duration": 18,
    "start_time": "2023-06-28T17:50:17.113Z"
   },
   {
    "duration": 1255,
    "start_time": "2023-06-28T17:50:37.614Z"
   },
   {
    "duration": 30,
    "start_time": "2023-06-28T17:50:38.871Z"
   },
   {
    "duration": 24,
    "start_time": "2023-06-28T17:50:38.903Z"
   },
   {
    "duration": 34,
    "start_time": "2023-06-28T17:50:38.930Z"
   },
   {
    "duration": 21,
    "start_time": "2023-06-28T17:50:38.966Z"
   },
   {
    "duration": 44,
    "start_time": "2023-06-28T17:50:38.989Z"
   },
   {
    "duration": 350,
    "start_time": "2023-06-28T17:50:39.036Z"
   },
   {
    "duration": 4,
    "start_time": "2023-06-28T17:50:39.388Z"
   },
   {
    "duration": 42,
    "start_time": "2023-06-28T17:50:39.394Z"
   },
   {
    "duration": 7,
    "start_time": "2023-06-28T17:50:39.439Z"
   },
   {
    "duration": 25,
    "start_time": "2023-06-28T17:50:39.448Z"
   },
   {
    "duration": 58,
    "start_time": "2023-06-28T17:50:39.475Z"
   },
   {
    "duration": 71,
    "start_time": "2023-06-28T17:50:39.535Z"
   },
   {
    "duration": 19,
    "start_time": "2023-06-28T17:50:39.608Z"
   },
   {
    "duration": 103,
    "start_time": "2023-06-28T17:50:39.629Z"
   },
   {
    "duration": 79,
    "start_time": "2023-06-28T17:50:39.733Z"
   },
   {
    "duration": 128,
    "start_time": "2023-06-28T17:50:39.815Z"
   },
   {
    "duration": 1440,
    "start_time": "2023-06-28T17:51:28.408Z"
   },
   {
    "duration": 51,
    "start_time": "2023-06-28T17:51:29.852Z"
   },
   {
    "duration": 23,
    "start_time": "2023-06-28T17:51:29.905Z"
   },
   {
    "duration": 31,
    "start_time": "2023-06-28T17:51:29.932Z"
   },
   {
    "duration": 15,
    "start_time": "2023-06-28T17:51:29.965Z"
   },
   {
    "duration": 67,
    "start_time": "2023-06-28T17:51:29.982Z"
   },
   {
    "duration": 429,
    "start_time": "2023-06-28T17:51:30.052Z"
   },
   {
    "duration": 6,
    "start_time": "2023-06-28T17:51:30.484Z"
   },
   {
    "duration": 88,
    "start_time": "2023-06-28T17:51:30.491Z"
   },
   {
    "duration": 76,
    "start_time": "2023-06-28T17:51:30.584Z"
   },
   {
    "duration": 81,
    "start_time": "2023-06-28T17:51:30.663Z"
   },
   {
    "duration": 41,
    "start_time": "2023-06-28T17:51:30.748Z"
   },
   {
    "duration": 77,
    "start_time": "2023-06-28T17:51:30.791Z"
   },
   {
    "duration": 101,
    "start_time": "2023-06-28T17:51:30.870Z"
   },
   {
    "duration": 155,
    "start_time": "2023-06-28T17:51:30.973Z"
   },
   {
    "duration": 89,
    "start_time": "2023-06-28T17:51:31.131Z"
   },
   {
    "duration": 63,
    "start_time": "2023-06-28T17:51:31.222Z"
   },
   {
    "duration": 184,
    "start_time": "2023-06-28T17:52:12.657Z"
   },
   {
    "duration": 10,
    "start_time": "2023-06-28T17:52:27.052Z"
   },
   {
    "duration": 1286,
    "start_time": "2023-06-28T17:52:44.400Z"
   },
   {
    "duration": 66,
    "start_time": "2023-06-28T17:52:45.689Z"
   },
   {
    "duration": 16,
    "start_time": "2023-06-28T17:52:45.760Z"
   },
   {
    "duration": 73,
    "start_time": "2023-06-28T17:52:45.779Z"
   },
   {
    "duration": 10,
    "start_time": "2023-06-28T17:52:45.854Z"
   },
   {
    "duration": 37,
    "start_time": "2023-06-28T17:52:45.866Z"
   },
   {
    "duration": 369,
    "start_time": "2023-06-28T17:52:45.905Z"
   },
   {
    "duration": 4,
    "start_time": "2023-06-28T17:52:46.276Z"
   },
   {
    "duration": 9,
    "start_time": "2023-06-28T17:52:46.282Z"
   },
   {
    "duration": 11,
    "start_time": "2023-06-28T17:52:46.313Z"
   },
   {
    "duration": 14,
    "start_time": "2023-06-28T17:52:46.326Z"
   },
   {
    "duration": 11,
    "start_time": "2023-06-28T17:52:46.343Z"
   },
   {
    "duration": 7,
    "start_time": "2023-06-28T17:52:46.356Z"
   },
   {
    "duration": 10,
    "start_time": "2023-06-28T17:52:46.365Z"
   },
   {
    "duration": 158,
    "start_time": "2023-06-28T17:52:46.377Z"
   },
   {
    "duration": 12,
    "start_time": "2023-06-28T17:52:46.537Z"
   },
   {
    "duration": 74,
    "start_time": "2023-06-28T17:52:46.552Z"
   },
   {
    "duration": 16,
    "start_time": "2023-06-28T17:52:46.628Z"
   },
   {
    "duration": 9,
    "start_time": "2023-06-28T17:54:58.230Z"
   },
   {
    "duration": 13,
    "start_time": "2023-06-28T17:55:51.208Z"
   },
   {
    "duration": 10,
    "start_time": "2023-06-28T17:55:55.815Z"
   },
   {
    "duration": 79,
    "start_time": "2023-06-28T17:57:18.546Z"
   },
   {
    "duration": 1190,
    "start_time": "2023-06-28T18:13:19.901Z"
   },
   {
    "duration": 41,
    "start_time": "2023-06-28T18:13:21.093Z"
   },
   {
    "duration": 12,
    "start_time": "2023-06-28T18:13:21.135Z"
   },
   {
    "duration": 17,
    "start_time": "2023-06-28T18:13:21.149Z"
   },
   {
    "duration": 11,
    "start_time": "2023-06-28T18:13:21.169Z"
   },
   {
    "duration": 45,
    "start_time": "2023-06-28T18:13:21.182Z"
   },
   {
    "duration": 333,
    "start_time": "2023-06-28T18:13:21.232Z"
   },
   {
    "duration": 4,
    "start_time": "2023-06-28T18:13:21.567Z"
   },
   {
    "duration": 7,
    "start_time": "2023-06-28T18:13:21.573Z"
   },
   {
    "duration": 5,
    "start_time": "2023-06-28T18:13:21.581Z"
   },
   {
    "duration": 44,
    "start_time": "2023-06-28T18:13:21.587Z"
   },
   {
    "duration": 6,
    "start_time": "2023-06-28T18:13:21.633Z"
   },
   {
    "duration": 8,
    "start_time": "2023-06-28T18:13:21.640Z"
   },
   {
    "duration": 13,
    "start_time": "2023-06-28T18:13:21.651Z"
   },
   {
    "duration": 57,
    "start_time": "2023-06-28T18:13:21.669Z"
   },
   {
    "duration": 9,
    "start_time": "2023-06-28T18:13:21.727Z"
   },
   {
    "duration": 92,
    "start_time": "2023-06-28T18:13:21.738Z"
   },
   {
    "duration": 11,
    "start_time": "2023-06-28T18:13:21.832Z"
   },
   {
    "duration": 78,
    "start_time": "2023-06-28T18:13:21.845Z"
   },
   {
    "duration": 104,
    "start_time": "2023-06-28T18:13:21.925Z"
   },
   {
    "duration": 1136,
    "start_time": "2023-06-28T18:13:45.442Z"
   },
   {
    "duration": 30,
    "start_time": "2023-06-28T18:13:46.579Z"
   },
   {
    "duration": 19,
    "start_time": "2023-06-28T18:13:46.618Z"
   },
   {
    "duration": 23,
    "start_time": "2023-06-28T18:13:46.639Z"
   },
   {
    "duration": 25,
    "start_time": "2023-06-28T18:13:46.664Z"
   },
   {
    "duration": 43,
    "start_time": "2023-06-28T18:13:46.691Z"
   },
   {
    "duration": 357,
    "start_time": "2023-06-28T18:13:46.736Z"
   },
   {
    "duration": 5,
    "start_time": "2023-06-28T18:13:47.096Z"
   },
   {
    "duration": 13,
    "start_time": "2023-06-28T18:13:47.103Z"
   },
   {
    "duration": 6,
    "start_time": "2023-06-28T18:13:47.118Z"
   },
   {
    "duration": 6,
    "start_time": "2023-06-28T18:13:47.126Z"
   },
   {
    "duration": 6,
    "start_time": "2023-06-28T18:13:47.133Z"
   },
   {
    "duration": 6,
    "start_time": "2023-06-28T18:13:47.141Z"
   },
   {
    "duration": 7,
    "start_time": "2023-06-28T18:13:47.148Z"
   },
   {
    "duration": 66,
    "start_time": "2023-06-28T18:13:47.157Z"
   },
   {
    "duration": 92,
    "start_time": "2023-06-28T18:13:47.225Z"
   },
   {
    "duration": 9,
    "start_time": "2023-06-28T18:13:47.319Z"
   },
   {
    "duration": 12,
    "start_time": "2023-06-28T18:13:47.330Z"
   },
   {
    "duration": 83,
    "start_time": "2023-06-28T18:13:47.344Z"
   },
   {
    "duration": 91,
    "start_time": "2023-06-28T18:13:47.428Z"
   },
   {
    "duration": 1156,
    "start_time": "2023-06-29T16:02:23.497Z"
   },
   {
    "duration": 95,
    "start_time": "2023-06-29T16:02:24.655Z"
   },
   {
    "duration": 11,
    "start_time": "2023-06-29T16:02:24.751Z"
   },
   {
    "duration": 38,
    "start_time": "2023-06-29T16:02:24.764Z"
   },
   {
    "duration": 8,
    "start_time": "2023-06-29T16:02:24.804Z"
   },
   {
    "duration": 27,
    "start_time": "2023-06-29T16:02:24.813Z"
   },
   {
    "duration": 490,
    "start_time": "2023-06-29T16:02:24.841Z"
   },
   {
    "duration": 5,
    "start_time": "2023-06-29T16:02:25.332Z"
   },
   {
    "duration": 31,
    "start_time": "2023-06-29T16:02:25.338Z"
   },
   {
    "duration": 55,
    "start_time": "2023-06-29T16:02:25.371Z"
   },
   {
    "duration": 35,
    "start_time": "2023-06-29T16:02:25.427Z"
   },
   {
    "duration": 54,
    "start_time": "2023-06-29T16:02:25.464Z"
   },
   {
    "duration": 26,
    "start_time": "2023-06-29T16:02:25.519Z"
   },
   {
    "duration": 48,
    "start_time": "2023-06-29T16:02:25.547Z"
   },
   {
    "duration": 77,
    "start_time": "2023-06-29T16:02:25.600Z"
   },
   {
    "duration": 129,
    "start_time": "2023-06-29T16:02:25.680Z"
   },
   {
    "duration": 59,
    "start_time": "2023-06-29T16:02:25.810Z"
   },
   {
    "duration": 153,
    "start_time": "2023-06-29T16:02:25.872Z"
   },
   {
    "duration": 13,
    "start_time": "2023-06-29T16:02:26.027Z"
   },
   {
    "duration": 136,
    "start_time": "2023-06-29T16:02:26.041Z"
   }
  ],
  "kernelspec": {
   "display_name": "Python 3 (ipykernel)",
   "language": "python",
   "name": "python3"
  },
  "language_info": {
   "codemirror_mode": {
    "name": "ipython",
    "version": 3
   },
   "file_extension": ".py",
   "mimetype": "text/x-python",
   "name": "python",
   "nbconvert_exporter": "python",
   "pygments_lexer": "ipython3",
   "version": "3.11.4"
  },
  "toc": {
   "base_numbering": 1,
   "nav_menu": {},
   "number_sections": true,
   "sideBar": true,
   "skip_h1_title": true,
   "title_cell": "Содержание",
   "title_sidebar": "Contents",
   "toc_cell": true,
   "toc_position": {
    "height": "786px",
    "left": "268px",
    "top": "101px",
    "width": "212px"
   },
   "toc_section_display": true,
   "toc_window_display": true
  }
 },
 "nbformat": 4,
 "nbformat_minor": 4
}
