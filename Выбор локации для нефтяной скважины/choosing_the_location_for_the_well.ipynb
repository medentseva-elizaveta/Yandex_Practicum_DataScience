{
 "cells": [
  {
   "cell_type": "markdown",
   "metadata": {},
   "source": [
    "# Выбор локации для скважины"
   ]
  },
  {
   "cell_type": "markdown",
   "metadata": {},
   "source": [
    "Допустим, мы работаем в добывающей компании «ГлавРосГосНефть». Нужно решить, где бурить новую скважину.\n",
    "\n",
    "Нам предоставлены пробы нефти в трёх регионах: в каждом 10 000 месторождений, где измерили качество нефти и объём её запасов. Постройте модель машинного обучения, которая поможет определить регион, где добыча принесёт наибольшую прибыль. Проанализируем возможную прибыль и риски техникой *Bootstrap.*\n",
    "\n",
    "Шаги для выбора локации:\n",
    "\n",
    "- В избранном регионе ищут месторождения, для каждого определяют значения признаков;\n",
    "- Строят модель и оценивают объём запасов;\n",
    "- Выбирают месторождения с самым высокими оценками значений. Количество месторождений зависит от бюджета компании и стоимости разработки одной скважины;\n",
    "- Прибыль равна суммарной прибыли отобранных месторождений."
   ]
  },
  {
   "cell_type": "markdown",
   "metadata": {},
   "source": [
    "## Загрузка и подготовка данных"
   ]
  },
  {
   "cell_type": "code",
   "execution_count": 1,
   "metadata": {
    "ExecuteTime": {
     "end_time": "2023-05-15T14:22:45.153070900Z",
     "start_time": "2023-05-15T14:22:45.151007500Z"
    }
   },
   "outputs": [],
   "source": [
    "import pandas as pd\n",
    "from sklearn.model_selection import train_test_split\n",
    "from numpy.random import RandomState\n",
    "from sklearn.preprocessing import StandardScaler\n",
    "from sklearn.linear_model import LinearRegression\n",
    "from sklearn.metrics import mean_squared_error\n",
    "from sklearn.model_selection import GridSearchCV\n",
    "\n",
    "STATE = RandomState(12345)"
   ]
  },
  {
   "cell_type": "markdown",
   "metadata": {},
   "source": [
    "<b> Загрузим данные геологоразведки трёх регионов </b>"
   ]
  },
  {
   "cell_type": "code",
   "execution_count": 2,
   "metadata": {
    "ExecuteTime": {
     "end_time": "2023-05-15T14:22:45.433989100Z",
     "start_time": "2023-05-15T14:22:45.154118Z"
    }
   },
   "outputs": [],
   "source": [
    "data_0 = pd.read_csv('datasets/geo_data_0.csv')\n",
    "data_1 = pd.read_csv('datasets/geo_data_1.csv')\n",
    "data_2 = pd.read_csv('datasets/geo_data_2.csv')"
   ]
  },
  {
   "cell_type": "markdown",
   "metadata": {},
   "source": [
    "<b> Данные геологоразведки 1-го региона </b>"
   ]
  },
  {
   "cell_type": "code",
   "execution_count": 3,
   "metadata": {
    "ExecuteTime": {
     "end_time": "2023-05-15T14:22:45.443689600Z",
     "start_time": "2023-05-15T14:22:45.433989100Z"
    }
   },
   "outputs": [
    {
     "data": {
      "text/html": [
       "<div>\n",
       "<style scoped>\n",
       "    .dataframe tbody tr th:only-of-type {\n",
       "        vertical-align: middle;\n",
       "    }\n",
       "\n",
       "    .dataframe tbody tr th {\n",
       "        vertical-align: top;\n",
       "    }\n",
       "\n",
       "    .dataframe thead th {\n",
       "        text-align: right;\n",
       "    }\n",
       "</style>\n",
       "<table border=\"1\" class=\"dataframe\">\n",
       "  <thead>\n",
       "    <tr style=\"text-align: right;\">\n",
       "      <th></th>\n",
       "      <th>id</th>\n",
       "      <th>f0</th>\n",
       "      <th>f1</th>\n",
       "      <th>f2</th>\n",
       "      <th>product</th>\n",
       "    </tr>\n",
       "  </thead>\n",
       "  <tbody>\n",
       "    <tr>\n",
       "      <th>0</th>\n",
       "      <td>txEyH</td>\n",
       "      <td>0.705745</td>\n",
       "      <td>-0.497823</td>\n",
       "      <td>1.221170</td>\n",
       "      <td>105.280062</td>\n",
       "    </tr>\n",
       "    <tr>\n",
       "      <th>1</th>\n",
       "      <td>2acmU</td>\n",
       "      <td>1.334711</td>\n",
       "      <td>-0.340164</td>\n",
       "      <td>4.365080</td>\n",
       "      <td>73.037750</td>\n",
       "    </tr>\n",
       "    <tr>\n",
       "      <th>2</th>\n",
       "      <td>409Wp</td>\n",
       "      <td>1.022732</td>\n",
       "      <td>0.151990</td>\n",
       "      <td>1.419926</td>\n",
       "      <td>85.265647</td>\n",
       "    </tr>\n",
       "    <tr>\n",
       "      <th>3</th>\n",
       "      <td>iJLyR</td>\n",
       "      <td>-0.032172</td>\n",
       "      <td>0.139033</td>\n",
       "      <td>2.978566</td>\n",
       "      <td>168.620776</td>\n",
       "    </tr>\n",
       "    <tr>\n",
       "      <th>4</th>\n",
       "      <td>Xdl7t</td>\n",
       "      <td>1.988431</td>\n",
       "      <td>0.155413</td>\n",
       "      <td>4.751769</td>\n",
       "      <td>154.036647</td>\n",
       "    </tr>\n",
       "  </tbody>\n",
       "</table>\n",
       "</div>"
      ],
      "text/plain": [
       "      id        f0        f1        f2     product\n",
       "0  txEyH  0.705745 -0.497823  1.221170  105.280062\n",
       "1  2acmU  1.334711 -0.340164  4.365080   73.037750\n",
       "2  409Wp  1.022732  0.151990  1.419926   85.265647\n",
       "3  iJLyR -0.032172  0.139033  2.978566  168.620776\n",
       "4  Xdl7t  1.988431  0.155413  4.751769  154.036647"
      ]
     },
     "execution_count": 3,
     "metadata": {},
     "output_type": "execute_result"
    }
   ],
   "source": [
    "data_0.head()"
   ]
  },
  {
   "cell_type": "code",
   "execution_count": 4,
   "metadata": {
    "ExecuteTime": {
     "end_time": "2023-05-15T14:22:45.453857700Z",
     "start_time": "2023-05-15T14:22:45.444238Z"
    }
   },
   "outputs": [
    {
     "name": "stdout",
     "output_type": "stream",
     "text": [
      "<class 'pandas.core.frame.DataFrame'>\n",
      "RangeIndex: 100000 entries, 0 to 99999\n",
      "Data columns (total 5 columns):\n",
      " #   Column   Non-Null Count   Dtype  \n",
      "---  ------   --------------   -----  \n",
      " 0   id       100000 non-null  object \n",
      " 1   f0       100000 non-null  float64\n",
      " 2   f1       100000 non-null  float64\n",
      " 3   f2       100000 non-null  float64\n",
      " 4   product  100000 non-null  float64\n",
      "dtypes: float64(4), object(1)\n",
      "memory usage: 3.8+ MB\n"
     ]
    }
   ],
   "source": [
    "data_0.info()"
   ]
  },
  {
   "cell_type": "code",
   "execution_count": 5,
   "metadata": {
    "ExecuteTime": {
     "end_time": "2023-05-15T14:22:45.537707600Z",
     "start_time": "2023-05-15T14:22:45.453857700Z"
    }
   },
   "outputs": [
    {
     "data": {
      "text/html": [
       "<div>\n",
       "<style scoped>\n",
       "    .dataframe tbody tr th:only-of-type {\n",
       "        vertical-align: middle;\n",
       "    }\n",
       "\n",
       "    .dataframe tbody tr th {\n",
       "        vertical-align: top;\n",
       "    }\n",
       "\n",
       "    .dataframe thead th {\n",
       "        text-align: right;\n",
       "    }\n",
       "</style>\n",
       "<table border=\"1\" class=\"dataframe\">\n",
       "  <thead>\n",
       "    <tr style=\"text-align: right;\">\n",
       "      <th></th>\n",
       "      <th>f0</th>\n",
       "      <th>f1</th>\n",
       "      <th>f2</th>\n",
       "      <th>product</th>\n",
       "    </tr>\n",
       "  </thead>\n",
       "  <tbody>\n",
       "    <tr>\n",
       "      <th>count</th>\n",
       "      <td>100000.000000</td>\n",
       "      <td>100000.000000</td>\n",
       "      <td>100000.000000</td>\n",
       "      <td>100000.000000</td>\n",
       "    </tr>\n",
       "    <tr>\n",
       "      <th>mean</th>\n",
       "      <td>0.500419</td>\n",
       "      <td>0.250143</td>\n",
       "      <td>2.502647</td>\n",
       "      <td>92.500000</td>\n",
       "    </tr>\n",
       "    <tr>\n",
       "      <th>std</th>\n",
       "      <td>0.871832</td>\n",
       "      <td>0.504433</td>\n",
       "      <td>3.248248</td>\n",
       "      <td>44.288691</td>\n",
       "    </tr>\n",
       "    <tr>\n",
       "      <th>min</th>\n",
       "      <td>-1.408605</td>\n",
       "      <td>-0.848218</td>\n",
       "      <td>-12.088328</td>\n",
       "      <td>0.000000</td>\n",
       "    </tr>\n",
       "    <tr>\n",
       "      <th>25%</th>\n",
       "      <td>-0.072580</td>\n",
       "      <td>-0.200881</td>\n",
       "      <td>0.287748</td>\n",
       "      <td>56.497507</td>\n",
       "    </tr>\n",
       "    <tr>\n",
       "      <th>50%</th>\n",
       "      <td>0.502360</td>\n",
       "      <td>0.250252</td>\n",
       "      <td>2.515969</td>\n",
       "      <td>91.849972</td>\n",
       "    </tr>\n",
       "    <tr>\n",
       "      <th>75%</th>\n",
       "      <td>1.073581</td>\n",
       "      <td>0.700646</td>\n",
       "      <td>4.715088</td>\n",
       "      <td>128.564089</td>\n",
       "    </tr>\n",
       "    <tr>\n",
       "      <th>max</th>\n",
       "      <td>2.362331</td>\n",
       "      <td>1.343769</td>\n",
       "      <td>16.003790</td>\n",
       "      <td>185.364347</td>\n",
       "    </tr>\n",
       "  </tbody>\n",
       "</table>\n",
       "</div>"
      ],
      "text/plain": [
       "                  f0             f1             f2        product\n",
       "count  100000.000000  100000.000000  100000.000000  100000.000000\n",
       "mean        0.500419       0.250143       2.502647      92.500000\n",
       "std         0.871832       0.504433       3.248248      44.288691\n",
       "min        -1.408605      -0.848218     -12.088328       0.000000\n",
       "25%        -0.072580      -0.200881       0.287748      56.497507\n",
       "50%         0.502360       0.250252       2.515969      91.849972\n",
       "75%         1.073581       0.700646       4.715088     128.564089\n",
       "max         2.362331       1.343769      16.003790     185.364347"
      ]
     },
     "execution_count": 5,
     "metadata": {},
     "output_type": "execute_result"
    }
   ],
   "source": [
    "data_0.describe()"
   ]
  },
  {
   "cell_type": "markdown",
   "metadata": {},
   "source": [
    "<b> Данные геологоразведки 2-го региона </b>"
   ]
  },
  {
   "cell_type": "code",
   "execution_count": 6,
   "metadata": {
    "ExecuteTime": {
     "end_time": "2023-05-15T14:22:45.537707600Z",
     "start_time": "2023-05-15T14:22:45.475161800Z"
    }
   },
   "outputs": [
    {
     "data": {
      "text/html": [
       "<div>\n",
       "<style scoped>\n",
       "    .dataframe tbody tr th:only-of-type {\n",
       "        vertical-align: middle;\n",
       "    }\n",
       "\n",
       "    .dataframe tbody tr th {\n",
       "        vertical-align: top;\n",
       "    }\n",
       "\n",
       "    .dataframe thead th {\n",
       "        text-align: right;\n",
       "    }\n",
       "</style>\n",
       "<table border=\"1\" class=\"dataframe\">\n",
       "  <thead>\n",
       "    <tr style=\"text-align: right;\">\n",
       "      <th></th>\n",
       "      <th>id</th>\n",
       "      <th>f0</th>\n",
       "      <th>f1</th>\n",
       "      <th>f2</th>\n",
       "      <th>product</th>\n",
       "    </tr>\n",
       "  </thead>\n",
       "  <tbody>\n",
       "    <tr>\n",
       "      <th>0</th>\n",
       "      <td>kBEdx</td>\n",
       "      <td>-15.001348</td>\n",
       "      <td>-8.276000</td>\n",
       "      <td>-0.005876</td>\n",
       "      <td>3.179103</td>\n",
       "    </tr>\n",
       "    <tr>\n",
       "      <th>1</th>\n",
       "      <td>62mP7</td>\n",
       "      <td>14.272088</td>\n",
       "      <td>-3.475083</td>\n",
       "      <td>0.999183</td>\n",
       "      <td>26.953261</td>\n",
       "    </tr>\n",
       "    <tr>\n",
       "      <th>2</th>\n",
       "      <td>vyE1P</td>\n",
       "      <td>6.263187</td>\n",
       "      <td>-5.948386</td>\n",
       "      <td>5.001160</td>\n",
       "      <td>134.766305</td>\n",
       "    </tr>\n",
       "    <tr>\n",
       "      <th>3</th>\n",
       "      <td>KcrkZ</td>\n",
       "      <td>-13.081196</td>\n",
       "      <td>-11.506057</td>\n",
       "      <td>4.999415</td>\n",
       "      <td>137.945408</td>\n",
       "    </tr>\n",
       "    <tr>\n",
       "      <th>4</th>\n",
       "      <td>AHL4O</td>\n",
       "      <td>12.702195</td>\n",
       "      <td>-8.147433</td>\n",
       "      <td>5.004363</td>\n",
       "      <td>134.766305</td>\n",
       "    </tr>\n",
       "  </tbody>\n",
       "</table>\n",
       "</div>"
      ],
      "text/plain": [
       "      id         f0         f1        f2     product\n",
       "0  kBEdx -15.001348  -8.276000 -0.005876    3.179103\n",
       "1  62mP7  14.272088  -3.475083  0.999183   26.953261\n",
       "2  vyE1P   6.263187  -5.948386  5.001160  134.766305\n",
       "3  KcrkZ -13.081196 -11.506057  4.999415  137.945408\n",
       "4  AHL4O  12.702195  -8.147433  5.004363  134.766305"
      ]
     },
     "execution_count": 6,
     "metadata": {},
     "output_type": "execute_result"
    }
   ],
   "source": [
    "data_1.head()"
   ]
  },
  {
   "cell_type": "code",
   "execution_count": 7,
   "metadata": {
    "ExecuteTime": {
     "end_time": "2023-05-15T14:22:45.537707600Z",
     "start_time": "2023-05-15T14:22:45.481469300Z"
    }
   },
   "outputs": [
    {
     "name": "stdout",
     "output_type": "stream",
     "text": [
      "<class 'pandas.core.frame.DataFrame'>\n",
      "RangeIndex: 100000 entries, 0 to 99999\n",
      "Data columns (total 5 columns):\n",
      " #   Column   Non-Null Count   Dtype  \n",
      "---  ------   --------------   -----  \n",
      " 0   id       100000 non-null  object \n",
      " 1   f0       100000 non-null  float64\n",
      " 2   f1       100000 non-null  float64\n",
      " 3   f2       100000 non-null  float64\n",
      " 4   product  100000 non-null  float64\n",
      "dtypes: float64(4), object(1)\n",
      "memory usage: 3.8+ MB\n"
     ]
    }
   ],
   "source": [
    "data_1.info()"
   ]
  },
  {
   "cell_type": "code",
   "execution_count": 8,
   "metadata": {
    "ExecuteTime": {
     "end_time": "2023-05-15T14:22:45.537707600Z",
     "start_time": "2023-05-15T14:22:45.491787300Z"
    }
   },
   "outputs": [
    {
     "data": {
      "text/html": [
       "<div>\n",
       "<style scoped>\n",
       "    .dataframe tbody tr th:only-of-type {\n",
       "        vertical-align: middle;\n",
       "    }\n",
       "\n",
       "    .dataframe tbody tr th {\n",
       "        vertical-align: top;\n",
       "    }\n",
       "\n",
       "    .dataframe thead th {\n",
       "        text-align: right;\n",
       "    }\n",
       "</style>\n",
       "<table border=\"1\" class=\"dataframe\">\n",
       "  <thead>\n",
       "    <tr style=\"text-align: right;\">\n",
       "      <th></th>\n",
       "      <th>f0</th>\n",
       "      <th>f1</th>\n",
       "      <th>f2</th>\n",
       "      <th>product</th>\n",
       "    </tr>\n",
       "  </thead>\n",
       "  <tbody>\n",
       "    <tr>\n",
       "      <th>count</th>\n",
       "      <td>100000.000000</td>\n",
       "      <td>100000.000000</td>\n",
       "      <td>100000.000000</td>\n",
       "      <td>100000.000000</td>\n",
       "    </tr>\n",
       "    <tr>\n",
       "      <th>mean</th>\n",
       "      <td>1.141296</td>\n",
       "      <td>-4.796579</td>\n",
       "      <td>2.494541</td>\n",
       "      <td>68.825000</td>\n",
       "    </tr>\n",
       "    <tr>\n",
       "      <th>std</th>\n",
       "      <td>8.965932</td>\n",
       "      <td>5.119872</td>\n",
       "      <td>1.703572</td>\n",
       "      <td>45.944423</td>\n",
       "    </tr>\n",
       "    <tr>\n",
       "      <th>min</th>\n",
       "      <td>-31.609576</td>\n",
       "      <td>-26.358598</td>\n",
       "      <td>-0.018144</td>\n",
       "      <td>0.000000</td>\n",
       "    </tr>\n",
       "    <tr>\n",
       "      <th>25%</th>\n",
       "      <td>-6.298551</td>\n",
       "      <td>-8.267985</td>\n",
       "      <td>1.000021</td>\n",
       "      <td>26.953261</td>\n",
       "    </tr>\n",
       "    <tr>\n",
       "      <th>50%</th>\n",
       "      <td>1.153055</td>\n",
       "      <td>-4.813172</td>\n",
       "      <td>2.011479</td>\n",
       "      <td>57.085625</td>\n",
       "    </tr>\n",
       "    <tr>\n",
       "      <th>75%</th>\n",
       "      <td>8.621015</td>\n",
       "      <td>-1.332816</td>\n",
       "      <td>3.999904</td>\n",
       "      <td>107.813044</td>\n",
       "    </tr>\n",
       "    <tr>\n",
       "      <th>max</th>\n",
       "      <td>29.421755</td>\n",
       "      <td>18.734063</td>\n",
       "      <td>5.019721</td>\n",
       "      <td>137.945408</td>\n",
       "    </tr>\n",
       "  </tbody>\n",
       "</table>\n",
       "</div>"
      ],
      "text/plain": [
       "                  f0             f1             f2        product\n",
       "count  100000.000000  100000.000000  100000.000000  100000.000000\n",
       "mean        1.141296      -4.796579       2.494541      68.825000\n",
       "std         8.965932       5.119872       1.703572      45.944423\n",
       "min       -31.609576     -26.358598      -0.018144       0.000000\n",
       "25%        -6.298551      -8.267985       1.000021      26.953261\n",
       "50%         1.153055      -4.813172       2.011479      57.085625\n",
       "75%         8.621015      -1.332816       3.999904     107.813044\n",
       "max        29.421755      18.734063       5.019721     137.945408"
      ]
     },
     "execution_count": 8,
     "metadata": {},
     "output_type": "execute_result"
    }
   ],
   "source": [
    "data_1.describe()"
   ]
  },
  {
   "cell_type": "markdown",
   "metadata": {},
   "source": [
    "<b> Данные геологоразведки 3-го региона </b>"
   ]
  },
  {
   "cell_type": "code",
   "execution_count": 9,
   "metadata": {
    "ExecuteTime": {
     "end_time": "2023-05-15T14:22:45.537707600Z",
     "start_time": "2023-05-15T14:22:45.522063800Z"
    }
   },
   "outputs": [
    {
     "data": {
      "text/html": [
       "<div>\n",
       "<style scoped>\n",
       "    .dataframe tbody tr th:only-of-type {\n",
       "        vertical-align: middle;\n",
       "    }\n",
       "\n",
       "    .dataframe tbody tr th {\n",
       "        vertical-align: top;\n",
       "    }\n",
       "\n",
       "    .dataframe thead th {\n",
       "        text-align: right;\n",
       "    }\n",
       "</style>\n",
       "<table border=\"1\" class=\"dataframe\">\n",
       "  <thead>\n",
       "    <tr style=\"text-align: right;\">\n",
       "      <th></th>\n",
       "      <th>id</th>\n",
       "      <th>f0</th>\n",
       "      <th>f1</th>\n",
       "      <th>f2</th>\n",
       "      <th>product</th>\n",
       "    </tr>\n",
       "  </thead>\n",
       "  <tbody>\n",
       "    <tr>\n",
       "      <th>0</th>\n",
       "      <td>fwXo0</td>\n",
       "      <td>-1.146987</td>\n",
       "      <td>0.963328</td>\n",
       "      <td>-0.828965</td>\n",
       "      <td>27.758673</td>\n",
       "    </tr>\n",
       "    <tr>\n",
       "      <th>1</th>\n",
       "      <td>WJtFt</td>\n",
       "      <td>0.262778</td>\n",
       "      <td>0.269839</td>\n",
       "      <td>-2.530187</td>\n",
       "      <td>56.069697</td>\n",
       "    </tr>\n",
       "    <tr>\n",
       "      <th>2</th>\n",
       "      <td>ovLUW</td>\n",
       "      <td>0.194587</td>\n",
       "      <td>0.289035</td>\n",
       "      <td>-5.586433</td>\n",
       "      <td>62.871910</td>\n",
       "    </tr>\n",
       "    <tr>\n",
       "      <th>3</th>\n",
       "      <td>q6cA6</td>\n",
       "      <td>2.236060</td>\n",
       "      <td>-0.553760</td>\n",
       "      <td>0.930038</td>\n",
       "      <td>114.572842</td>\n",
       "    </tr>\n",
       "    <tr>\n",
       "      <th>4</th>\n",
       "      <td>WPMUX</td>\n",
       "      <td>-0.515993</td>\n",
       "      <td>1.716266</td>\n",
       "      <td>5.899011</td>\n",
       "      <td>149.600746</td>\n",
       "    </tr>\n",
       "  </tbody>\n",
       "</table>\n",
       "</div>"
      ],
      "text/plain": [
       "      id        f0        f1        f2     product\n",
       "0  fwXo0 -1.146987  0.963328 -0.828965   27.758673\n",
       "1  WJtFt  0.262778  0.269839 -2.530187   56.069697\n",
       "2  ovLUW  0.194587  0.289035 -5.586433   62.871910\n",
       "3  q6cA6  2.236060 -0.553760  0.930038  114.572842\n",
       "4  WPMUX -0.515993  1.716266  5.899011  149.600746"
      ]
     },
     "execution_count": 9,
     "metadata": {},
     "output_type": "execute_result"
    }
   ],
   "source": [
    "data_2.head()"
   ]
  },
  {
   "cell_type": "code",
   "execution_count": 10,
   "metadata": {
    "ExecuteTime": {
     "end_time": "2023-05-15T14:22:45.564375500Z",
     "start_time": "2023-05-15T14:22:45.522568300Z"
    }
   },
   "outputs": [
    {
     "name": "stdout",
     "output_type": "stream",
     "text": [
      "<class 'pandas.core.frame.DataFrame'>\n",
      "RangeIndex: 100000 entries, 0 to 99999\n",
      "Data columns (total 5 columns):\n",
      " #   Column   Non-Null Count   Dtype  \n",
      "---  ------   --------------   -----  \n",
      " 0   id       100000 non-null  object \n",
      " 1   f0       100000 non-null  float64\n",
      " 2   f1       100000 non-null  float64\n",
      " 3   f2       100000 non-null  float64\n",
      " 4   product  100000 non-null  float64\n",
      "dtypes: float64(4), object(1)\n",
      "memory usage: 3.8+ MB\n"
     ]
    }
   ],
   "source": [
    "data_2.info()"
   ]
  },
  {
   "cell_type": "code",
   "execution_count": 11,
   "metadata": {
    "ExecuteTime": {
     "end_time": "2023-05-15T14:22:45.617803400Z",
     "start_time": "2023-05-15T14:22:45.537707600Z"
    }
   },
   "outputs": [
    {
     "data": {
      "text/html": [
       "<div>\n",
       "<style scoped>\n",
       "    .dataframe tbody tr th:only-of-type {\n",
       "        vertical-align: middle;\n",
       "    }\n",
       "\n",
       "    .dataframe tbody tr th {\n",
       "        vertical-align: top;\n",
       "    }\n",
       "\n",
       "    .dataframe thead th {\n",
       "        text-align: right;\n",
       "    }\n",
       "</style>\n",
       "<table border=\"1\" class=\"dataframe\">\n",
       "  <thead>\n",
       "    <tr style=\"text-align: right;\">\n",
       "      <th></th>\n",
       "      <th>f0</th>\n",
       "      <th>f1</th>\n",
       "      <th>f2</th>\n",
       "      <th>product</th>\n",
       "    </tr>\n",
       "  </thead>\n",
       "  <tbody>\n",
       "    <tr>\n",
       "      <th>count</th>\n",
       "      <td>100000.000000</td>\n",
       "      <td>100000.000000</td>\n",
       "      <td>100000.000000</td>\n",
       "      <td>100000.000000</td>\n",
       "    </tr>\n",
       "    <tr>\n",
       "      <th>mean</th>\n",
       "      <td>0.002023</td>\n",
       "      <td>-0.002081</td>\n",
       "      <td>2.495128</td>\n",
       "      <td>95.000000</td>\n",
       "    </tr>\n",
       "    <tr>\n",
       "      <th>std</th>\n",
       "      <td>1.732045</td>\n",
       "      <td>1.730417</td>\n",
       "      <td>3.473445</td>\n",
       "      <td>44.749921</td>\n",
       "    </tr>\n",
       "    <tr>\n",
       "      <th>min</th>\n",
       "      <td>-8.760004</td>\n",
       "      <td>-7.084020</td>\n",
       "      <td>-11.970335</td>\n",
       "      <td>0.000000</td>\n",
       "    </tr>\n",
       "    <tr>\n",
       "      <th>25%</th>\n",
       "      <td>-1.162288</td>\n",
       "      <td>-1.174820</td>\n",
       "      <td>0.130359</td>\n",
       "      <td>59.450441</td>\n",
       "    </tr>\n",
       "    <tr>\n",
       "      <th>50%</th>\n",
       "      <td>0.009424</td>\n",
       "      <td>-0.009482</td>\n",
       "      <td>2.484236</td>\n",
       "      <td>94.925613</td>\n",
       "    </tr>\n",
       "    <tr>\n",
       "      <th>75%</th>\n",
       "      <td>1.158535</td>\n",
       "      <td>1.163678</td>\n",
       "      <td>4.858794</td>\n",
       "      <td>130.595027</td>\n",
       "    </tr>\n",
       "    <tr>\n",
       "      <th>max</th>\n",
       "      <td>7.238262</td>\n",
       "      <td>7.844801</td>\n",
       "      <td>16.739402</td>\n",
       "      <td>190.029838</td>\n",
       "    </tr>\n",
       "  </tbody>\n",
       "</table>\n",
       "</div>"
      ],
      "text/plain": [
       "                  f0             f1             f2        product\n",
       "count  100000.000000  100000.000000  100000.000000  100000.000000\n",
       "mean        0.002023      -0.002081       2.495128      95.000000\n",
       "std         1.732045       1.730417       3.473445      44.749921\n",
       "min        -8.760004      -7.084020     -11.970335       0.000000\n",
       "25%        -1.162288      -1.174820       0.130359      59.450441\n",
       "50%         0.009424      -0.009482       2.484236      94.925613\n",
       "75%         1.158535       1.163678       4.858794     130.595027\n",
       "max         7.238262       7.844801      16.739402     190.029838"
      ]
     },
     "execution_count": 11,
     "metadata": {},
     "output_type": "execute_result"
    }
   ],
   "source": [
    "data_2.describe()"
   ]
  },
  {
   "cell_type": "markdown",
   "metadata": {},
   "source": [
    "### Описание данных"
   ]
  },
  {
   "cell_type": "markdown",
   "metadata": {},
   "source": [
    "Данные геологоразведки трёх регионов находятся в файлах:\n",
    "* /datasets/geo_data_0.csv;\n",
    "* /datasets/geo_data_1.csv;\n",
    "* /datasets/geo_data_2.csv;\n",
    "* id — уникальный идентификатор скважины;\n",
    "* f0, f1, f2 — три признака точек (неважно, что они означают, но сами признаки значимы);\n",
    "* product — объём запасов в скважине (тыс. баррелей)."
   ]
  },
  {
   "cell_type": "markdown",
   "metadata": {},
   "source": [
    "<b> Вывод: </b>\n",
    "Данные успешно загружены и не требуют дополнительной предобработки."
   ]
  },
  {
   "cell_type": "markdown",
   "metadata": {},
   "source": [
    "## Обучение и проверка модели"
   ]
  },
  {
   "cell_type": "code",
   "execution_count": 12,
   "metadata": {
    "ExecuteTime": {
     "end_time": "2023-05-15T14:22:45.617803400Z",
     "start_time": "2023-05-15T14:22:45.563868100Z"
    }
   },
   "outputs": [],
   "source": [
    "def spit_and_train(data):\n",
    "    features = data.drop(['id', 'product'], axis=1)\n",
    "    target = data['product']\n",
    "    # разобьем данные на обучающую и валидационную выборки в соотношении 75:25\n",
    "    features_train, features_valid, target_train, target_valid = train_test_split(features, target, test_size= 0.25, random_state= STATE)\n",
    "    # применим масштабирование\n",
    "    scaler = StandardScaler()\n",
    "    features_train = scaler.fit_transform(features_train)\n",
    "    features_valid = scaler.transform(features_valid)\n",
    "    # модель линейной регрессии\n",
    "    parameters = {'fit_intercept':[True,False], 'copy_X':[True, False], 'normalize':[True,False]}\n",
    "    model = GridSearchCV(estimator=LinearRegression(), param_grid=parameters, cv=5)\n",
    "    model = LinearRegression()\n",
    "    model.fit(features_train, target_train)\n",
    "    predictions_valid = model.predict(features_valid)\n",
    "    # посчитаем RMSE модели\n",
    "    mse = mean_squared_error(target_valid, predictions_valid)\n",
    "    rmse = mse ** 0.5\n",
    "    # посчитаем средний запас предсказанного сырья\n",
    "    average_stock = predictions_valid.mean()\n",
    "    print('Cредний запас предсказанного сырья:', average_stock, '\\nRMSE:', rmse, '\\n')\n",
    "    return predictions_valid, target_valid.reset_index(drop=True), average_stock"
   ]
  },
  {
   "cell_type": "markdown",
   "metadata": {},
   "source": [
    "Сохраним предсказания и правильные ответы на валидационной выборке"
   ]
  },
  {
   "cell_type": "code",
   "execution_count": 13,
   "metadata": {
    "ExecuteTime": {
     "end_time": "2023-05-15T14:22:45.718440400Z",
     "start_time": "2023-05-15T14:22:45.564375500Z"
    }
   },
   "outputs": [
    {
     "name": "stdout",
     "output_type": "stream",
     "text": [
      "1-й регион:\n",
      "Cредний запас предсказанного сырья: 92.59256778438035 \n",
      "RMSE: 37.5794217150813 \n",
      "\n",
      "2-й регион:\n",
      "Cредний запас предсказанного сырья: 68.76995145799754 \n",
      "RMSE: 0.8897367737680651 \n",
      "\n",
      "3-й регион:\n",
      "Cредний запас предсказанного сырья: 95.087528122523 \n",
      "RMSE: 39.958042459521614 \n",
      "\n"
     ]
    }
   ],
   "source": [
    "print('1-й регион:')\n",
    "predictions_0, target_valid_0, average_stock_0 = spit_and_train(data_0)\n",
    "print('2-й регион:')\n",
    "predictions_1, target_valid_1, average_stock_1 = spit_and_train(data_1)\n",
    "print('3-й регион:')\n",
    "predictions_2, target_valid_2, average_stock_2 = spit_and_train(data_2)"
   ]
  },
  {
   "cell_type": "markdown",
   "metadata": {},
   "source": [
    "<b> Вывод: </b>\n",
    "\n",
    "Модели обучены и проверены на качество предсказания метрикой RMSE, которая определяет величину среднеквадратичной ошибки в предсказании модели. Во втором регионе величина RMSE сильно отличается от других."
   ]
  },
  {
   "cell_type": "markdown",
   "metadata": {},
   "source": [
    "## Подготовка к расчёту прибыли"
   ]
  },
  {
   "cell_type": "markdown",
   "metadata": {},
   "source": [
    "* При разведке региона исследуем <b> 500 точек </b> , из которых с помощью машинного обучения выбирем <b> 200 </b>  лучших для разработки.\n",
    "* Бюджет на разработку скважин в регионе — <b> 10 млрд рублей </b>.\n",
    "* При нынешних ценах один баррель сырья приносит 450 рублей дохода. Доход с каждой единицы продукта составляет <b> 450 тыс. рублей </b>, поскольку объём указан в тысячах баррелей.\n",
    "* После оценки рисков оставим лишь те регионы, в которых вероятность убытков меньше <b> 2.5% </b>. Среди них выбирем регион с наибольшей средней прибылью."
   ]
  },
  {
   "cell_type": "markdown",
   "metadata": {},
   "source": [
    "### Все ключевые значения для расчётов сохраним в отдельных переменных."
   ]
  },
  {
   "cell_type": "code",
   "execution_count": 14,
   "metadata": {
    "ExecuteTime": {
     "end_time": "2023-05-15T14:22:45.718440400Z",
     "start_time": "2023-05-15T14:22:45.640088900Z"
    }
   },
   "outputs": [],
   "source": [
    "BUDGET = 10 ** 10\n",
    "INCOME = 450 * 10 ** 3\n",
    "POINTS = 500\n",
    "BEST_POINTS = 200\n",
    "PROBABILITY = 2.5 / 100"
   ]
  },
  {
   "cell_type": "markdown",
   "metadata": {},
   "source": [
    "### Рассчитаем достаточный объём сырья для безубыточной разработки новой скважины"
   ]
  },
  {
   "cell_type": "code",
   "execution_count": 15,
   "metadata": {
    "ExecuteTime": {
     "end_time": "2023-05-15T14:22:45.718440400Z",
     "start_time": "2023-05-15T14:22:45.640088900Z"
    }
   },
   "outputs": [
    {
     "name": "stdout",
     "output_type": "stream",
     "text": [
      "Бюджет на разработку одной скважины: 20000000 рублей\n"
     ]
    }
   ],
   "source": [
    "budget_per_one_point = BUDGET / POINTS\n",
    "print('Бюджет на разработку одной скважины:', int(budget_per_one_point), 'рублей')"
   ]
  },
  {
   "cell_type": "code",
   "execution_count": 16,
   "metadata": {
    "ExecuteTime": {
     "end_time": "2023-05-15T14:22:45.774706300Z",
     "start_time": "2023-05-15T14:22:45.644687400Z"
    }
   },
   "outputs": [
    {
     "name": "stdout",
     "output_type": "stream",
     "text": [
      "Достаточный объём сырья для безубыточной разработки новой скважины 44.44 тыс. баррелей\n"
     ]
    }
   ],
   "source": [
    "volume_stock = budget_per_one_point / INCOME\n",
    "print('Достаточный объём сырья для безубыточной разработки новой скважины', round(volume_stock, 2), 'тыс. баррелей')"
   ]
  },
  {
   "cell_type": "markdown",
   "metadata": {},
   "source": [
    "<b> Сравним полученный объём сырья со средним запасом в каждом регионе </b>"
   ]
  },
  {
   "cell_type": "code",
   "execution_count": 17,
   "metadata": {
    "ExecuteTime": {
     "end_time": "2023-05-15T14:22:45.774706300Z",
     "start_time": "2023-05-15T14:22:45.649018100Z"
    }
   },
   "outputs": [
    {
     "name": "stdout",
     "output_type": "stream",
     "text": [
      "Средняя доля 1-го региона от достаточного объема сырья ниже на -108.33%\n",
      "Средняя доля 2-го региона от достаточного объема сырья ниже на -54.73%\n",
      "Средняя доля 3-го региона от достаточного объема сырья ниже на -113.95%\n"
     ]
    }
   ],
   "source": [
    "i = 0\n",
    "for stock in [average_stock_0, average_stock_1, average_stock_2]:\n",
    "    i+= 1\n",
    "    print('Средняя доля ', i, '-го региона от достаточного объема сырья ниже на ', round(100 - stock / volume_stock * 100, 2), '%', sep='')"
   ]
  },
  {
   "cell_type": "markdown",
   "metadata": {},
   "source": [
    "### Вывод по этапу подготовки расчёта прибыли"
   ]
  },
  {
   "cell_type": "markdown",
   "metadata": {},
   "source": [
    "Достаточный объём сырья для безубыточной разработки новой скважины 111.11 тыс. баррелей. Средний запас сырья скважин в первом, втором и третьем регионе ниже необходимого для безубыточной разработки новой скважины на 16.77%, 37.89% и 14.52% соответственно."
   ]
  },
  {
   "cell_type": "markdown",
   "metadata": {},
   "source": [
    "## Функция для расчёта прибыли по выбранным скважинам и предсказаниям модели"
   ]
  },
  {
   "cell_type": "code",
   "execution_count": 18,
   "metadata": {
    "ExecuteTime": {
     "end_time": "2023-05-15T14:22:45.774706300Z",
     "start_time": "2023-05-15T14:22:45.652928Z"
    }
   },
   "outputs": [],
   "source": [
    "def profit(predictions, target):\n",
    "    target = target.reset_index(drop=True)\n",
    "    predictions = pd.Series(predictions).reset_index(drop=True)\n",
    "    # отсорируем список по убыванию\n",
    "    probs_sorted = predictions.sort_values(ascending=False)[:BEST_POINTS]\n",
    "    selected = target[probs_sorted.index]\n",
    "    # просуммируем целевое значение объёма сырья, соответствующее этим предсказаниям\n",
    "    sum_data_sorted = selected.sum()\n",
    "    # рассчитаем прибыль для полученного объёма сырья\n",
    "    return sum_data_sorted * INCOME - BUDGET"
   ]
  },
  {
   "cell_type": "code",
   "execution_count": 19,
   "metadata": {
    "ExecuteTime": {
     "end_time": "2023-05-15T14:22:45.806382900Z",
     "start_time": "2023-05-15T14:22:45.656862700Z"
    }
   },
   "outputs": [
    {
     "name": "stdout",
     "output_type": "stream",
     "text": [
      "Прибыль по выбранным скважинам и предсказаниям модели 1-го региона: 3.3208 млрд. рублей\n",
      "Прибыль по выбранным скважинам и предсказаниям модели 2-го региона: 2.4151 млрд. рублей\n",
      "Прибыль по выбранным скважинам и предсказаниям модели 3-го региона: 2.5399 млрд. рублей\n"
     ]
    }
   ],
   "source": [
    "print('Прибыль по выбранным скважинам и предсказаниям модели 1-го региона:', round(profit(predictions_0, target_valid_0) / 1_000_000_000, 4), 'млрд. рублей')\n",
    "print('Прибыль по выбранным скважинам и предсказаниям модели 2-го региона:', round(profit(predictions_1, target_valid_1) / 1_000_000_000, 4), 'млрд. рублей')\n",
    "print('Прибыль по выбранным скважинам и предсказаниям модели 3-го региона:', round(profit(predictions_2, target_valid_2) / 1_000_000_000, 4), 'млрд. рублей')"
   ]
  },
  {
   "cell_type": "markdown",
   "metadata": {},
   "source": [
    "## Расчёт рисков и прибыли для каждого региона"
   ]
  },
  {
   "cell_type": "code",
   "execution_count": 20,
   "metadata": {
    "ExecuteTime": {
     "end_time": "2023-05-15T14:22:45.806382900Z",
     "start_time": "2023-05-15T14:22:45.668710900Z"
    }
   },
   "outputs": [],
   "source": [
    "def get_values(predictions, target_valid):\n",
    "    values = []\n",
    "    for i in range(1000):\n",
    "        target_subsample = target_valid.sample(n=POINTS, replace=True, random_state=STATE)\n",
    "        probs_subsample = pd.Series(predictions)[target_subsample.index]\n",
    "        values.append(profit(probs_subsample, target_subsample))\n",
    "    values = pd.Series(values)\n",
    "    lower = values.quantile(PROBABILITY)\n",
    "    upper = values.quantile(1 - PROBABILITY)\n",
    "    loss = sum(values < 0) / values.count() * 100\n",
    "    mean = values.mean()\n",
    "    print(f'Средняя прибыль: {round(mean / 1_000_000, 4)} млн.руб.')\n",
    "    print(f'95%-й доверительный интервал: от {round(lower / 1_000_000, 4)} млн.руб. до {round(upper / 1_000_000, 4)} млн.руб.')\n",
    "    print(f'Риск убытков: {loss}%\\n')"
   ]
  },
  {
   "cell_type": "code",
   "execution_count": 21,
   "metadata": {
    "ExecuteTime": {
     "end_time": "2023-05-15T14:22:46.460435Z",
     "start_time": "2023-05-15T14:22:45.673010600Z"
    }
   },
   "outputs": [
    {
     "name": "stdout",
     "output_type": "stream",
     "text": [
      "1-й регион:\n",
      "Средняя прибыль: 394.2844 млн.руб.\n",
      "95%-й доверительный интервал: от -69.4506 млн.руб. до 915.4962 млн.руб.\n",
      "Риск убытков: 6.1%\n",
      "\n",
      "2-й регион:\n",
      "Средняя прибыль: 454.7364 млн.руб.\n",
      "95%-й доверительный интервал: от 61.0718 млн.руб. до 855.9141 млн.руб.\n",
      "Риск убытков: 0.7000000000000001%\n",
      "\n",
      "3-й регион:\n",
      "Средняя прибыль: 353.6641 млн.руб.\n",
      "95%-й доверительный интервал: от -162.6509 млн.руб. до 847.7618 млн.руб.\n",
      "Риск убытков: 7.6%\n",
      "\n"
     ]
    }
   ],
   "source": [
    "print('1-й регион:')\n",
    "get_values(predictions_0, target_valid_0)\n",
    "print('2-й регион:')\n",
    "get_values(predictions_1, target_valid_1)\n",
    "print('3-й регион:')\n",
    "get_values(predictions_2, target_valid_2)"
   ]
  },
  {
   "cell_type": "markdown",
   "metadata": {},
   "source": [
    "<b> Вывод: </b>\n",
    "\n",
    "В первом и третьем регионах риск убытков больше требуемых 2.5%. Таким образом, единственным подходящим будет второй регион, средняя прибыль в этом регионе составит 454.7364 млн.руб."
   ]
  }
 ],
 "metadata": {
  "ExecuteTimeLog": [
   {
    "duration": 7606,
    "start_time": "2023-05-15T17:49:24.795Z"
   },
   {
    "duration": 12488,
    "start_time": "2023-05-15T17:49:32.404Z"
   },
   {
    "duration": 155,
    "start_time": "2023-05-15T17:49:44.894Z"
   },
   {
    "duration": 0,
    "start_time": "2023-05-15T17:49:45.052Z"
   },
   {
    "duration": 0,
    "start_time": "2023-05-15T17:49:45.053Z"
   },
   {
    "duration": 0,
    "start_time": "2023-05-15T17:49:45.054Z"
   },
   {
    "duration": 0,
    "start_time": "2023-05-15T17:49:45.056Z"
   },
   {
    "duration": 0,
    "start_time": "2023-05-15T17:49:45.056Z"
   },
   {
    "duration": 0,
    "start_time": "2023-05-15T17:49:45.057Z"
   },
   {
    "duration": 0,
    "start_time": "2023-05-15T17:49:45.059Z"
   },
   {
    "duration": 0,
    "start_time": "2023-05-15T17:49:45.059Z"
   },
   {
    "duration": 0,
    "start_time": "2023-05-15T17:49:45.060Z"
   },
   {
    "duration": 0,
    "start_time": "2023-05-15T17:49:45.061Z"
   },
   {
    "duration": 0,
    "start_time": "2023-05-15T17:49:45.062Z"
   },
   {
    "duration": 0,
    "start_time": "2023-05-15T17:49:45.085Z"
   },
   {
    "duration": 0,
    "start_time": "2023-05-15T17:49:45.087Z"
   },
   {
    "duration": 0,
    "start_time": "2023-05-15T17:49:45.088Z"
   },
   {
    "duration": 0,
    "start_time": "2023-05-15T17:49:45.088Z"
   },
   {
    "duration": 0,
    "start_time": "2023-05-15T17:49:45.089Z"
   },
   {
    "duration": 0,
    "start_time": "2023-05-15T17:49:45.091Z"
   },
   {
    "duration": 0,
    "start_time": "2023-05-15T17:49:45.092Z"
   },
   {
    "duration": 0,
    "start_time": "2023-05-15T17:49:45.094Z"
   },
   {
    "duration": 0,
    "start_time": "2023-05-15T17:49:45.095Z"
   },
   {
    "duration": 47,
    "start_time": "2023-05-15T18:03:41.605Z"
   },
   {
    "duration": 1103,
    "start_time": "2023-05-15T18:03:47.063Z"
   },
   {
    "duration": 705,
    "start_time": "2023-05-15T18:03:49.750Z"
   },
   {
    "duration": 266,
    "start_time": "2023-05-15T18:04:22.169Z"
   },
   {
    "duration": 15,
    "start_time": "2023-05-15T18:05:31.104Z"
   },
   {
    "duration": 14,
    "start_time": "2023-05-15T18:05:31.495Z"
   },
   {
    "duration": 36,
    "start_time": "2023-05-15T18:05:31.911Z"
   },
   {
    "duration": 8,
    "start_time": "2023-05-15T18:05:34.050Z"
   },
   {
    "duration": 16,
    "start_time": "2023-05-15T18:05:34.489Z"
   },
   {
    "duration": 34,
    "start_time": "2023-05-15T18:05:34.930Z"
   },
   {
    "duration": 8,
    "start_time": "2023-05-15T18:05:35.893Z"
   },
   {
    "duration": 13,
    "start_time": "2023-05-15T18:05:36.308Z"
   },
   {
    "duration": 32,
    "start_time": "2023-05-15T18:05:36.933Z"
   },
   {
    "duration": 5,
    "start_time": "2023-05-15T18:05:40.273Z"
   },
   {
    "duration": 318,
    "start_time": "2023-05-15T18:05:41.807Z"
   },
   {
    "duration": 3,
    "start_time": "2023-05-15T18:05:49.404Z"
   },
   {
    "duration": 4,
    "start_time": "2023-05-15T18:05:54.590Z"
   },
   {
    "duration": 3,
    "start_time": "2023-05-15T18:05:55.511Z"
   },
   {
    "duration": 5,
    "start_time": "2023-05-15T18:06:00.173Z"
   },
   {
    "duration": 3,
    "start_time": "2023-05-15T20:37:37.486Z"
   },
   {
    "duration": 76,
    "start_time": "2023-05-15T20:37:56.775Z"
   },
   {
    "duration": 5,
    "start_time": "2023-05-15T20:38:23.913Z"
   },
   {
    "duration": 354,
    "start_time": "2023-05-15T20:38:28.671Z"
   },
   {
    "duration": 3,
    "start_time": "2023-05-15T20:38:46.570Z"
   },
   {
    "duration": 16,
    "start_time": "2023-05-15T20:38:48.190Z"
   },
   {
    "duration": 6,
    "start_time": "2023-05-15T20:39:17.173Z"
   },
   {
    "duration": 3218,
    "start_time": "2023-05-15T20:39:29.994Z"
   },
   {
    "duration": 3122,
    "start_time": "2023-05-15T20:39:48.691Z"
   },
   {
    "duration": 3059,
    "start_time": "2023-05-15T20:39:55.309Z"
   },
   {
    "duration": 3096,
    "start_time": "2023-05-15T20:40:01.562Z"
   },
   {
    "duration": 6298,
    "start_time": "2023-05-15T20:40:10.391Z"
   },
   {
    "duration": 1085,
    "start_time": "2023-05-15T20:40:16.692Z"
   },
   {
    "duration": 353,
    "start_time": "2023-05-15T20:40:17.779Z"
   },
   {
    "duration": 17,
    "start_time": "2023-05-15T20:40:18.134Z"
   },
   {
    "duration": 18,
    "start_time": "2023-05-15T20:40:18.152Z"
   },
   {
    "duration": 41,
    "start_time": "2023-05-15T20:40:18.172Z"
   },
   {
    "duration": 7,
    "start_time": "2023-05-15T20:40:18.217Z"
   },
   {
    "duration": 26,
    "start_time": "2023-05-15T20:40:18.226Z"
   },
   {
    "duration": 52,
    "start_time": "2023-05-15T20:40:18.253Z"
   },
   {
    "duration": 7,
    "start_time": "2023-05-15T20:40:18.308Z"
   },
   {
    "duration": 16,
    "start_time": "2023-05-15T20:40:18.316Z"
   },
   {
    "duration": 32,
    "start_time": "2023-05-15T20:40:18.334Z"
   },
   {
    "duration": 5,
    "start_time": "2023-05-15T20:40:18.367Z"
   },
   {
    "duration": 355,
    "start_time": "2023-05-15T20:40:18.374Z"
   },
   {
    "duration": 3,
    "start_time": "2023-05-15T20:40:18.731Z"
   },
   {
    "duration": 182,
    "start_time": "2023-05-15T20:40:18.735Z"
   },
   {
    "duration": 3,
    "start_time": "2023-05-15T20:40:18.919Z"
   },
   {
    "duration": 14,
    "start_time": "2023-05-15T20:40:18.924Z"
   },
   {
    "duration": 16,
    "start_time": "2023-05-15T20:40:18.939Z"
   },
   {
    "duration": 22,
    "start_time": "2023-05-15T20:40:18.956Z"
   },
   {
    "duration": 4,
    "start_time": "2023-05-15T20:40:18.979Z"
   },
   {
    "duration": 3060,
    "start_time": "2023-05-15T20:40:18.984Z"
   },
   {
    "duration": 105,
    "start_time": "2023-05-15T20:45:48.709Z"
   },
   {
    "duration": 6933,
    "start_time": "2023-05-16T10:38:00.766Z"
   },
   {
    "duration": 8348,
    "start_time": "2023-05-16T10:38:07.701Z"
   },
   {
    "duration": 745,
    "start_time": "2023-05-16T10:38:16.050Z"
   },
   {
    "duration": 17,
    "start_time": "2023-05-16T10:38:16.797Z"
   },
   {
    "duration": 18,
    "start_time": "2023-05-16T10:38:16.817Z"
   },
   {
    "duration": 43,
    "start_time": "2023-05-16T10:38:16.837Z"
   },
   {
    "duration": 11,
    "start_time": "2023-05-16T10:38:16.882Z"
   },
   {
    "duration": 36,
    "start_time": "2023-05-16T10:38:16.894Z"
   },
   {
    "duration": 46,
    "start_time": "2023-05-16T10:38:16.932Z"
   },
   {
    "duration": 9,
    "start_time": "2023-05-16T10:38:16.981Z"
   },
   {
    "duration": 34,
    "start_time": "2023-05-16T10:38:16.992Z"
   },
   {
    "duration": 33,
    "start_time": "2023-05-16T10:38:17.029Z"
   },
   {
    "duration": 6,
    "start_time": "2023-05-16T10:38:17.065Z"
   },
   {
    "duration": 354,
    "start_time": "2023-05-16T10:38:17.074Z"
   },
   {
    "duration": 87,
    "start_time": "2023-05-16T10:38:17.429Z"
   },
   {
    "duration": 11,
    "start_time": "2023-05-16T10:38:17.519Z"
   },
   {
    "duration": 5,
    "start_time": "2023-05-16T10:38:17.617Z"
   },
   {
    "duration": 11,
    "start_time": "2023-05-16T10:38:17.624Z"
   },
   {
    "duration": 9,
    "start_time": "2023-05-16T10:38:17.637Z"
   },
   {
    "duration": 22,
    "start_time": "2023-05-16T10:38:17.648Z"
   },
   {
    "duration": 5,
    "start_time": "2023-05-16T10:38:17.672Z"
   },
   {
    "duration": 3213,
    "start_time": "2023-05-16T10:38:17.679Z"
   },
   {
    "duration": 3213,
    "start_time": "2023-05-16T10:38:30.421Z"
   },
   {
    "duration": 6,
    "start_time": "2023-05-16T10:38:40.867Z"
   },
   {
    "duration": 3065,
    "start_time": "2023-05-16T10:38:41.264Z"
   },
   {
    "duration": 4,
    "start_time": "2023-05-16T10:38:45.297Z"
   },
   {
    "duration": 3122,
    "start_time": "2023-05-16T10:38:45.663Z"
   },
   {
    "duration": 4,
    "start_time": "2023-05-16T10:38:52.054Z"
   },
   {
    "duration": 16,
    "start_time": "2023-05-16T10:38:52.719Z"
   },
   {
    "duration": 5,
    "start_time": "2023-05-16T10:38:53.038Z"
   },
   {
    "duration": 3374,
    "start_time": "2023-05-16T10:38:53.418Z"
   },
   {
    "duration": 3211,
    "start_time": "2023-05-16T10:39:18.053Z"
   },
   {
    "duration": 6189,
    "start_time": "2023-05-16T10:39:37.115Z"
   },
   {
    "duration": 3234,
    "start_time": "2023-05-16T10:39:43.306Z"
   },
   {
    "duration": 337,
    "start_time": "2023-05-16T10:39:46.542Z"
   },
   {
    "duration": 15,
    "start_time": "2023-05-16T10:39:46.880Z"
   },
   {
    "duration": 27,
    "start_time": "2023-05-16T10:39:46.897Z"
   },
   {
    "duration": 35,
    "start_time": "2023-05-16T10:39:46.926Z"
   },
   {
    "duration": 8,
    "start_time": "2023-05-16T10:39:46.962Z"
   },
   {
    "duration": 19,
    "start_time": "2023-05-16T10:39:46.972Z"
   },
   {
    "duration": 37,
    "start_time": "2023-05-16T10:39:47.018Z"
   },
   {
    "duration": 9,
    "start_time": "2023-05-16T10:39:47.057Z"
   },
   {
    "duration": 55,
    "start_time": "2023-05-16T10:39:47.068Z"
   },
   {
    "duration": 36,
    "start_time": "2023-05-16T10:39:47.125Z"
   },
   {
    "duration": 7,
    "start_time": "2023-05-16T10:39:47.162Z"
   },
   {
    "duration": 261,
    "start_time": "2023-05-16T10:39:47.171Z"
   },
   {
    "duration": 85,
    "start_time": "2023-05-16T10:39:47.433Z"
   },
   {
    "duration": 102,
    "start_time": "2023-05-16T10:39:47.521Z"
   },
   {
    "duration": 7,
    "start_time": "2023-05-16T10:39:47.625Z"
   },
   {
    "duration": 12,
    "start_time": "2023-05-16T10:39:47.633Z"
   },
   {
    "duration": 11,
    "start_time": "2023-05-16T10:39:47.647Z"
   },
   {
    "duration": 18,
    "start_time": "2023-05-16T10:39:47.660Z"
   },
   {
    "duration": 5,
    "start_time": "2023-05-16T10:39:47.679Z"
   },
   {
    "duration": 3233,
    "start_time": "2023-05-16T10:39:47.685Z"
   },
   {
    "duration": 59,
    "start_time": "2023-05-16T17:12:06.999Z"
   },
   {
    "duration": 6801,
    "start_time": "2023-05-16T17:12:11.319Z"
   },
   {
    "duration": 1208,
    "start_time": "2023-05-16T17:12:18.123Z"
   },
   {
    "duration": 726,
    "start_time": "2023-05-16T17:12:19.333Z"
   },
   {
    "duration": 15,
    "start_time": "2023-05-16T17:12:20.061Z"
   },
   {
    "duration": 24,
    "start_time": "2023-05-16T17:12:20.077Z"
   },
   {
    "duration": 36,
    "start_time": "2023-05-16T17:12:20.103Z"
   },
   {
    "duration": 8,
    "start_time": "2023-05-16T17:12:20.140Z"
   },
   {
    "duration": 21,
    "start_time": "2023-05-16T17:12:20.149Z"
   },
   {
    "duration": 41,
    "start_time": "2023-05-16T17:12:20.172Z"
   },
   {
    "duration": 13,
    "start_time": "2023-05-16T17:12:20.216Z"
   },
   {
    "duration": 28,
    "start_time": "2023-05-16T17:12:20.230Z"
   },
   {
    "duration": 52,
    "start_time": "2023-05-16T17:12:20.260Z"
   },
   {
    "duration": 5,
    "start_time": "2023-05-16T17:12:20.314Z"
   },
   {
    "duration": 369,
    "start_time": "2023-05-16T17:12:20.321Z"
   },
   {
    "duration": 3,
    "start_time": "2023-05-16T17:12:20.692Z"
   },
   {
    "duration": 199,
    "start_time": "2023-05-16T17:12:20.697Z"
   },
   {
    "duration": 34,
    "start_time": "2023-05-16T17:12:20.898Z"
   },
   {
    "duration": 43,
    "start_time": "2023-05-16T17:12:20.933Z"
   },
   {
    "duration": 11,
    "start_time": "2023-05-16T17:12:20.977Z"
   },
   {
    "duration": 27,
    "start_time": "2023-05-16T17:12:20.990Z"
   },
   {
    "duration": 5,
    "start_time": "2023-05-16T17:12:21.019Z"
   },
   {
    "duration": 3344,
    "start_time": "2023-05-16T17:12:21.026Z"
   },
   {
    "duration": 68,
    "start_time": "2023-05-16T17:13:10.856Z"
   },
   {
    "duration": 4,
    "start_time": "2023-05-16T20:21:01.584Z"
   },
   {
    "duration": 18,
    "start_time": "2023-05-16T20:21:04.345Z"
   },
   {
    "duration": 6,
    "start_time": "2023-05-16T20:21:07.423Z"
   },
   {
    "duration": 3479,
    "start_time": "2023-05-16T20:21:09.186Z"
   },
   {
    "duration": 6227,
    "start_time": "2023-05-16T20:21:29.147Z"
   },
   {
    "duration": 1150,
    "start_time": "2023-05-16T20:21:35.377Z"
   },
   {
    "duration": 720,
    "start_time": "2023-05-16T20:21:36.531Z"
   },
   {
    "duration": 13,
    "start_time": "2023-05-16T20:21:37.253Z"
   },
   {
    "duration": 30,
    "start_time": "2023-05-16T20:21:37.268Z"
   },
   {
    "duration": 43,
    "start_time": "2023-05-16T20:21:37.299Z"
   },
   {
    "duration": 7,
    "start_time": "2023-05-16T20:21:37.343Z"
   },
   {
    "duration": 15,
    "start_time": "2023-05-16T20:21:37.352Z"
   },
   {
    "duration": 46,
    "start_time": "2023-05-16T20:21:37.368Z"
   },
   {
    "duration": 8,
    "start_time": "2023-05-16T20:21:37.415Z"
   },
   {
    "duration": 15,
    "start_time": "2023-05-16T20:21:37.424Z"
   },
   {
    "duration": 28,
    "start_time": "2023-05-16T20:21:37.440Z"
   },
   {
    "duration": 29,
    "start_time": "2023-05-16T20:21:37.469Z"
   },
   {
    "duration": 394,
    "start_time": "2023-05-16T20:21:37.500Z"
   },
   {
    "duration": 22,
    "start_time": "2023-05-16T20:21:37.902Z"
   },
   {
    "duration": 24,
    "start_time": "2023-05-16T20:21:37.994Z"
   },
   {
    "duration": 10,
    "start_time": "2023-05-16T20:21:38.020Z"
   },
   {
    "duration": 8,
    "start_time": "2023-05-16T20:21:38.031Z"
   },
   {
    "duration": 8,
    "start_time": "2023-05-16T20:21:38.040Z"
   },
   {
    "duration": 22,
    "start_time": "2023-05-16T20:21:38.050Z"
   },
   {
    "duration": 5,
    "start_time": "2023-05-16T20:21:38.074Z"
   },
   {
    "duration": 2887,
    "start_time": "2023-05-16T20:21:38.080Z"
   },
   {
    "duration": 93,
    "start_time": "2023-05-16T20:23:33.852Z"
   },
   {
    "duration": 6264,
    "start_time": "2023-05-16T20:24:20.438Z"
   },
   {
    "duration": 1018,
    "start_time": "2023-05-16T20:24:26.704Z"
   },
   {
    "duration": 356,
    "start_time": "2023-05-16T20:24:27.724Z"
   },
   {
    "duration": 33,
    "start_time": "2023-05-16T20:24:28.083Z"
   },
   {
    "duration": 20,
    "start_time": "2023-05-16T20:24:28.117Z"
   },
   {
    "duration": 33,
    "start_time": "2023-05-16T20:24:28.138Z"
   },
   {
    "duration": 7,
    "start_time": "2023-05-16T20:24:28.172Z"
   },
   {
    "duration": 59,
    "start_time": "2023-05-16T20:24:28.180Z"
   },
   {
    "duration": 36,
    "start_time": "2023-05-16T20:24:28.240Z"
   },
   {
    "duration": 46,
    "start_time": "2023-05-16T20:24:28.278Z"
   },
   {
    "duration": 22,
    "start_time": "2023-05-16T20:24:28.331Z"
   },
   {
    "duration": 59,
    "start_time": "2023-05-16T20:24:28.355Z"
   },
   {
    "duration": 7,
    "start_time": "2023-05-16T20:24:28.421Z"
   },
   {
    "duration": 389,
    "start_time": "2023-05-16T20:24:28.430Z"
   },
   {
    "duration": 71,
    "start_time": "2023-05-16T20:24:28.824Z"
   },
   {
    "duration": 34,
    "start_time": "2023-05-16T20:24:28.900Z"
   },
   {
    "duration": 6,
    "start_time": "2023-05-16T20:24:28.936Z"
   },
   {
    "duration": 89,
    "start_time": "2023-05-16T20:24:28.943Z"
   },
   {
    "duration": 7,
    "start_time": "2023-05-16T20:24:29.034Z"
   },
   {
    "duration": 31,
    "start_time": "2023-05-16T20:24:29.043Z"
   },
   {
    "duration": 15,
    "start_time": "2023-05-16T20:24:29.076Z"
   },
   {
    "duration": 3008,
    "start_time": "2023-05-16T20:24:29.107Z"
   },
   {
    "duration": 102,
    "start_time": "2023-05-16T20:26:22.111Z"
   }
  ],
  "kernelspec": {
   "display_name": "Python 3 (ipykernel)",
   "language": "python",
   "name": "python3"
  },
  "language_info": {
   "codemirror_mode": {
    "name": "ipython",
    "version": 3
   },
   "file_extension": ".py",
   "mimetype": "text/x-python",
   "name": "python",
   "nbconvert_exporter": "python",
   "pygments_lexer": "ipython3",
   "version": "3.11.4"
  },
  "toc": {
   "base_numbering": 1,
   "nav_menu": {},
   "number_sections": true,
   "sideBar": true,
   "skip_h1_title": true,
   "title_cell": "Table of Contents",
   "title_sidebar": "Contents",
   "toc_cell": false,
   "toc_position": {},
   "toc_section_display": true,
   "toc_window_display": false
  }
 },
 "nbformat": 4,
 "nbformat_minor": 4
}
