{
 "cells": [
  {
   "cell_type": "markdown",
   "metadata": {},
   "source": [
    "# Восстановление золота из руды"
   ]
  },
  {
   "cell_type": "markdown",
   "metadata": {},
   "source": [
    "Необходимо подготовить прототип модели машинного обучения для «Цифры». Компания разрабатывает решения для эффективной работы промышленных предприятий.\n",
    "\n",
    "Модель должна предсказать коэффициент восстановления золота из золотосодержащей руды. Будем использовать данные с параметрами добычи и очистки. \n",
    "\n",
    "Модель поможет оптимизировать производство, чтобы не запускать предприятие с убыточными характеристиками.\n",
    "\n",
    "Необходимо:\n",
    "\n",
    "1. Подготовить данные;\n",
    "2. Провести исследовательский анализ данных;\n",
    "3. Построить и обучить модель."
   ]
  },
  {
   "cell_type": "markdown",
   "metadata": {},
   "source": [
    "## Подготовка данных"
   ]
  },
  {
   "cell_type": "code",
   "execution_count": 1,
   "metadata": {
    "ExecuteTime": {
     "end_time": "2023-05-18T00:52:15.408726Z",
     "start_time": "2023-05-18T00:52:14.373606700Z"
    }
   },
   "outputs": [],
   "source": [
    "import pandas as pd\n",
    "import numpy as np\n",
    "import matplotlib.pyplot as plt\n",
    "import seaborn as sns\n",
    "from sklearn.metrics import r2_score\n",
    "from sklearn.model_selection import train_test_split, cross_val_score, GridSearchCV\n",
    "from sklearn.linear_model import LinearRegression\n",
    "from sklearn.metrics import make_scorer\n",
    "from sklearn.metrics import mean_absolute_error\n",
    "from sklearn.tree import DecisionTreeRegressor\n",
    "from sklearn.ensemble import RandomForestRegressor\n",
    "from sklearn.dummy import DummyRegressor"
   ]
  },
  {
   "cell_type": "markdown",
   "metadata": {},
   "source": [
    "### Откроем и изучим файлы"
   ]
  },
  {
   "cell_type": "code",
   "execution_count": 2,
   "metadata": {
    "ExecuteTime": {
     "end_time": "2023-05-18T00:52:15.991313600Z",
     "start_time": "2023-05-18T00:52:15.408726Z"
    }
   },
   "outputs": [],
   "source": [
    "data_full = pd.read_csv('datasets/gold_industry_full.csv')\n",
    "data_train = pd.read_csv('datasets/gold_industry_train.csv')\n",
    "data_test = pd.read_csv('datasets/gold_industry_test.csv')"
   ]
  },
  {
   "cell_type": "markdown",
   "metadata": {},
   "source": [
    "Посмотрим размер файлов"
   ]
  },
  {
   "cell_type": "code",
   "execution_count": 3,
   "metadata": {
    "ExecuteTime": {
     "end_time": "2023-05-18T00:52:16.016691300Z",
     "start_time": "2023-05-18T00:52:15.994199100Z"
    }
   },
   "outputs": [
    {
     "data": {
      "text/plain": [
       "((19439, 87), (14579, 87), (4860, 53))"
      ]
     },
     "execution_count": 3,
     "metadata": {},
     "output_type": "execute_result"
    }
   ],
   "source": [
    "data_full.shape, data_train.shape, data_test.shape"
   ]
  },
  {
   "cell_type": "markdown",
   "metadata": {},
   "source": [
    "Посмотрим наименования полей и типы данных"
   ]
  },
  {
   "cell_type": "code",
   "execution_count": 4,
   "metadata": {
    "ExecuteTime": {
     "end_time": "2023-05-18T00:52:16.147047700Z",
     "start_time": "2023-05-18T00:52:16.019664900Z"
    },
    "scrolled": true
   },
   "outputs": [
    {
     "name": "stdout",
     "output_type": "stream",
     "text": [
      "<class 'pandas.core.frame.DataFrame'>\n",
      "RangeIndex: 19439 entries, 0 to 19438\n",
      "Data columns (total 87 columns):\n",
      " #   Column                                              Non-Null Count  Dtype  \n",
      "---  ------                                              --------------  -----  \n",
      " 0   date                                                19439 non-null  object \n",
      " 1   rougher.input.feed_au                               19439 non-null  float64\n",
      " 2   rougher.input.feed_ag                               19439 non-null  float64\n",
      " 3   rougher.input.feed_pb                               19339 non-null  float64\n",
      " 4   rougher.input.feed_sol                              19340 non-null  float64\n",
      " 5   rougher.input.feed_rate                             19428 non-null  float64\n",
      " 6   rougher.input.feed_size                             19294 non-null  float64\n",
      " 7   rougher.input.floatbank10_sulfate                   19405 non-null  float64\n",
      " 8   rougher.input.floatbank10_xanthate                  19431 non-null  float64\n",
      " 9   rougher.state.floatbank10_a_air                     19438 non-null  float64\n",
      " 10  rougher.state.floatbank10_a_level                   19438 non-null  float64\n",
      " 11  rougher.state.floatbank10_b_air                     19438 non-null  float64\n",
      " 12  rougher.state.floatbank10_b_level                   19438 non-null  float64\n",
      " 13  rougher.state.floatbank10_c_air                     19438 non-null  float64\n",
      " 14  rougher.state.floatbank10_c_level                   19438 non-null  float64\n",
      " 15  rougher.state.floatbank10_d_air                     19439 non-null  float64\n",
      " 16  rougher.state.floatbank10_d_level                   19439 non-null  float64\n",
      " 17  rougher.state.floatbank10_e_air                     19003 non-null  float64\n",
      " 18  rougher.state.floatbank10_e_level                   19439 non-null  float64\n",
      " 19  rougher.state.floatbank10_f_air                     19439 non-null  float64\n",
      " 20  rougher.state.floatbank10_f_level                   19439 non-null  float64\n",
      " 21  rougher.input.floatbank11_sulfate                   19395 non-null  float64\n",
      " 22  rougher.input.floatbank11_xanthate                  18986 non-null  float64\n",
      " 23  rougher.calculation.sulfate_to_au_concentrate       19437 non-null  float64\n",
      " 24  rougher.calculation.floatbank10_sulfate_to_au_feed  19437 non-null  float64\n",
      " 25  rougher.calculation.floatbank11_sulfate_to_au_feed  19437 non-null  float64\n",
      " 26  rougher.calculation.au_pb_ratio                     19439 non-null  float64\n",
      " 27  rougher.output.concentrate_au                       19439 non-null  float64\n",
      " 28  rougher.output.concentrate_ag                       19439 non-null  float64\n",
      " 29  rougher.output.concentrate_pb                       19439 non-null  float64\n",
      " 30  rougher.output.concentrate_sol                      19416 non-null  float64\n",
      " 31  rougher.output.recovery                             19439 non-null  float64\n",
      " 32  rougher.output.tail_au                              19439 non-null  float64\n",
      " 33  rougher.output.tail_ag                              19438 non-null  float64\n",
      " 34  rougher.output.tail_pb                              19439 non-null  float64\n",
      " 35  rougher.output.tail_sol                             19439 non-null  float64\n",
      " 36  primary_cleaner.input.sulfate                       19415 non-null  float64\n",
      " 37  primary_cleaner.input.depressant                    19402 non-null  float64\n",
      " 38  primary_cleaner.input.feed_size                     19439 non-null  float64\n",
      " 39  primary_cleaner.input.xanthate                      19335 non-null  float64\n",
      " 40  primary_cleaner.state.floatbank8_a_air              19435 non-null  float64\n",
      " 41  primary_cleaner.state.floatbank8_a_level            19438 non-null  float64\n",
      " 42  primary_cleaner.state.floatbank8_b_air              19435 non-null  float64\n",
      " 43  primary_cleaner.state.floatbank8_b_level            19438 non-null  float64\n",
      " 44  primary_cleaner.state.floatbank8_c_air              19437 non-null  float64\n",
      " 45  primary_cleaner.state.floatbank8_c_level            19438 non-null  float64\n",
      " 46  primary_cleaner.state.floatbank8_d_air              19436 non-null  float64\n",
      " 47  primary_cleaner.state.floatbank8_d_level            19438 non-null  float64\n",
      " 48  primary_cleaner.output.concentrate_au               19439 non-null  float64\n",
      " 49  primary_cleaner.output.concentrate_ag               19439 non-null  float64\n",
      " 50  primary_cleaner.output.concentrate_pb               19323 non-null  float64\n",
      " 51  primary_cleaner.output.concentrate_sol              19069 non-null  float64\n",
      " 52  primary_cleaner.output.tail_au                      19439 non-null  float64\n",
      " 53  primary_cleaner.output.tail_ag                      19435 non-null  float64\n",
      " 54  primary_cleaner.output.tail_pb                      19418 non-null  float64\n",
      " 55  primary_cleaner.output.tail_sol                     19377 non-null  float64\n",
      " 56  secondary_cleaner.state.floatbank2_a_air            19219 non-null  float64\n",
      " 57  secondary_cleaner.state.floatbank2_a_level          19438 non-null  float64\n",
      " 58  secondary_cleaner.state.floatbank2_b_air            19416 non-null  float64\n",
      " 59  secondary_cleaner.state.floatbank2_b_level          19438 non-null  float64\n",
      " 60  secondary_cleaner.state.floatbank3_a_air            19426 non-null  float64\n",
      " 61  secondary_cleaner.state.floatbank3_a_level          19438 non-null  float64\n",
      " 62  secondary_cleaner.state.floatbank3_b_air            19438 non-null  float64\n",
      " 63  secondary_cleaner.state.floatbank3_b_level          19438 non-null  float64\n",
      " 64  secondary_cleaner.state.floatbank4_a_air            19433 non-null  float64\n",
      " 65  secondary_cleaner.state.floatbank4_a_level          19438 non-null  float64\n",
      " 66  secondary_cleaner.state.floatbank4_b_air            19438 non-null  float64\n",
      " 67  secondary_cleaner.state.floatbank4_b_level          19438 non-null  float64\n",
      " 68  secondary_cleaner.state.floatbank5_a_air            19438 non-null  float64\n",
      " 69  secondary_cleaner.state.floatbank5_a_level          19438 non-null  float64\n",
      " 70  secondary_cleaner.state.floatbank5_b_air            19438 non-null  float64\n",
      " 71  secondary_cleaner.state.floatbank5_b_level          19438 non-null  float64\n",
      " 72  secondary_cleaner.state.floatbank6_a_air            19437 non-null  float64\n",
      " 73  secondary_cleaner.state.floatbank6_a_level          19438 non-null  float64\n",
      " 74  secondary_cleaner.output.tail_au                    19439 non-null  float64\n",
      " 75  secondary_cleaner.output.tail_ag                    19437 non-null  float64\n",
      " 76  secondary_cleaner.output.tail_pb                    19427 non-null  float64\n",
      " 77  secondary_cleaner.output.tail_sol                   17691 non-null  float64\n",
      " 78  final.output.concentrate_au                         19439 non-null  float64\n",
      " 79  final.output.concentrate_ag                         19438 non-null  float64\n",
      " 80  final.output.concentrate_pb                         19438 non-null  float64\n",
      " 81  final.output.concentrate_sol                        19228 non-null  float64\n",
      " 82  final.output.recovery                               19439 non-null  float64\n",
      " 83  final.output.tail_au                                19439 non-null  float64\n",
      " 84  final.output.tail_ag                                19438 non-null  float64\n",
      " 85  final.output.tail_pb                                19338 non-null  float64\n",
      " 86  final.output.tail_sol                               19433 non-null  float64\n",
      "dtypes: float64(86), object(1)\n",
      "memory usage: 12.9+ MB\n"
     ]
    }
   ],
   "source": [
    "data_full.info()"
   ]
  },
  {
   "cell_type": "code",
   "execution_count": 5,
   "metadata": {
    "ExecuteTime": {
     "end_time": "2023-05-18T00:52:16.153048Z",
     "start_time": "2023-05-18T00:52:16.127341200Z"
    },
    "scrolled": true
   },
   "outputs": [
    {
     "name": "stdout",
     "output_type": "stream",
     "text": [
      "<class 'pandas.core.frame.DataFrame'>\n",
      "RangeIndex: 14579 entries, 0 to 14578\n",
      "Data columns (total 87 columns):\n",
      " #   Column                                              Non-Null Count  Dtype  \n",
      "---  ------                                              --------------  -----  \n",
      " 0   date                                                14579 non-null  object \n",
      " 1   rougher.input.feed_au                               14579 non-null  float64\n",
      " 2   rougher.input.feed_ag                               14579 non-null  float64\n",
      " 3   rougher.input.feed_pb                               14507 non-null  float64\n",
      " 4   rougher.input.feed_sol                              14502 non-null  float64\n",
      " 5   rougher.input.feed_rate                             14572 non-null  float64\n",
      " 6   rougher.input.feed_size                             14478 non-null  float64\n",
      " 7   rougher.input.floatbank10_sulfate                   14548 non-null  float64\n",
      " 8   rougher.input.floatbank10_xanthate                  14572 non-null  float64\n",
      " 9   rougher.state.floatbank10_a_air                     14579 non-null  float64\n",
      " 10  rougher.state.floatbank10_a_level                   14579 non-null  float64\n",
      " 11  rougher.state.floatbank10_b_air                     14579 non-null  float64\n",
      " 12  rougher.state.floatbank10_b_level                   14579 non-null  float64\n",
      " 13  rougher.state.floatbank10_c_air                     14579 non-null  float64\n",
      " 14  rougher.state.floatbank10_c_level                   14579 non-null  float64\n",
      " 15  rougher.state.floatbank10_d_air                     14579 non-null  float64\n",
      " 16  rougher.state.floatbank10_d_level                   14579 non-null  float64\n",
      " 17  rougher.state.floatbank10_e_air                     14150 non-null  float64\n",
      " 18  rougher.state.floatbank10_e_level                   14579 non-null  float64\n",
      " 19  rougher.state.floatbank10_f_air                     14579 non-null  float64\n",
      " 20  rougher.state.floatbank10_f_level                   14579 non-null  float64\n",
      " 21  rougher.input.floatbank11_sulfate                   14543 non-null  float64\n",
      " 22  rougher.input.floatbank11_xanthate                  14172 non-null  float64\n",
      " 23  rougher.calculation.sulfate_to_au_concentrate       14578 non-null  float64\n",
      " 24  rougher.calculation.floatbank10_sulfate_to_au_feed  14578 non-null  float64\n",
      " 25  rougher.calculation.floatbank11_sulfate_to_au_feed  14578 non-null  float64\n",
      " 26  rougher.calculation.au_pb_ratio                     14579 non-null  float64\n",
      " 27  rougher.output.concentrate_au                       14579 non-null  float64\n",
      " 28  rougher.output.concentrate_ag                       14579 non-null  float64\n",
      " 29  rougher.output.concentrate_pb                       14579 non-null  float64\n",
      " 30  rougher.output.concentrate_sol                      14561 non-null  float64\n",
      " 31  rougher.output.recovery                             14579 non-null  float64\n",
      " 32  rougher.output.tail_au                              14579 non-null  float64\n",
      " 33  rougher.output.tail_ag                              14578 non-null  float64\n",
      " 34  rougher.output.tail_pb                              14579 non-null  float64\n",
      " 35  rougher.output.tail_sol                             14579 non-null  float64\n",
      " 36  primary_cleaner.input.sulfate                       14556 non-null  float64\n",
      " 37  primary_cleaner.input.depressant                    14551 non-null  float64\n",
      " 38  primary_cleaner.input.feed_size                     14579 non-null  float64\n",
      " 39  primary_cleaner.input.xanthate                      14518 non-null  float64\n",
      " 40  primary_cleaner.state.floatbank8_a_air              14576 non-null  float64\n",
      " 41  primary_cleaner.state.floatbank8_a_level            14579 non-null  float64\n",
      " 42  primary_cleaner.state.floatbank8_b_air              14576 non-null  float64\n",
      " 43  primary_cleaner.state.floatbank8_b_level            14579 non-null  float64\n",
      " 44  primary_cleaner.state.floatbank8_c_air              14579 non-null  float64\n",
      " 45  primary_cleaner.state.floatbank8_c_level            14579 non-null  float64\n",
      " 46  primary_cleaner.state.floatbank8_d_air              14578 non-null  float64\n",
      " 47  primary_cleaner.state.floatbank8_d_level            14579 non-null  float64\n",
      " 48  primary_cleaner.output.concentrate_au               14579 non-null  float64\n",
      " 49  primary_cleaner.output.concentrate_ag               14579 non-null  float64\n",
      " 50  primary_cleaner.output.concentrate_pb               14491 non-null  float64\n",
      " 51  primary_cleaner.output.concentrate_sol              14314 non-null  float64\n",
      " 52  primary_cleaner.output.tail_au                      14579 non-null  float64\n",
      " 53  primary_cleaner.output.tail_ag                      14575 non-null  float64\n",
      " 54  primary_cleaner.output.tail_pb                      14573 non-null  float64\n",
      " 55  primary_cleaner.output.tail_sol                     14534 non-null  float64\n",
      " 56  secondary_cleaner.state.floatbank2_a_air            14485 non-null  float64\n",
      " 57  secondary_cleaner.state.floatbank2_a_level          14579 non-null  float64\n",
      " 58  secondary_cleaner.state.floatbank2_b_air            14557 non-null  float64\n",
      " 59  secondary_cleaner.state.floatbank2_b_level          14579 non-null  float64\n",
      " 60  secondary_cleaner.state.floatbank3_a_air            14567 non-null  float64\n",
      " 61  secondary_cleaner.state.floatbank3_a_level          14579 non-null  float64\n",
      " 62  secondary_cleaner.state.floatbank3_b_air            14579 non-null  float64\n",
      " 63  secondary_cleaner.state.floatbank3_b_level          14579 non-null  float64\n",
      " 64  secondary_cleaner.state.floatbank4_a_air            14574 non-null  float64\n",
      " 65  secondary_cleaner.state.floatbank4_a_level          14579 non-null  float64\n",
      " 66  secondary_cleaner.state.floatbank4_b_air            14579 non-null  float64\n",
      " 67  secondary_cleaner.state.floatbank4_b_level          14579 non-null  float64\n",
      " 68  secondary_cleaner.state.floatbank5_a_air            14579 non-null  float64\n",
      " 69  secondary_cleaner.state.floatbank5_a_level          14579 non-null  float64\n",
      " 70  secondary_cleaner.state.floatbank5_b_air            14579 non-null  float64\n",
      " 71  secondary_cleaner.state.floatbank5_b_level          14579 non-null  float64\n",
      " 72  secondary_cleaner.state.floatbank6_a_air            14578 non-null  float64\n",
      " 73  secondary_cleaner.state.floatbank6_a_level          14579 non-null  float64\n",
      " 74  secondary_cleaner.output.tail_au                    14579 non-null  float64\n",
      " 75  secondary_cleaner.output.tail_ag                    14578 non-null  float64\n",
      " 76  secondary_cleaner.output.tail_pb                    14575 non-null  float64\n",
      " 77  secondary_cleaner.output.tail_sol                   13659 non-null  float64\n",
      " 78  final.output.concentrate_au                         14579 non-null  float64\n",
      " 79  final.output.concentrate_ag                         14578 non-null  float64\n",
      " 80  final.output.concentrate_pb                         14578 non-null  float64\n",
      " 81  final.output.concentrate_sol                        14387 non-null  float64\n",
      " 82  final.output.recovery                               14579 non-null  float64\n",
      " 83  final.output.tail_au                                14579 non-null  float64\n",
      " 84  final.output.tail_ag                                14578 non-null  float64\n",
      " 85  final.output.tail_pb                                14504 non-null  float64\n",
      " 86  final.output.tail_sol                               14574 non-null  float64\n",
      "dtypes: float64(86), object(1)\n",
      "memory usage: 9.7+ MB\n"
     ]
    }
   ],
   "source": [
    "data_train.info()"
   ]
  },
  {
   "cell_type": "code",
   "execution_count": 6,
   "metadata": {
    "ExecuteTime": {
     "end_time": "2023-05-18T00:52:16.212517400Z",
     "start_time": "2023-05-18T00:52:16.155552300Z"
    },
    "scrolled": true
   },
   "outputs": [
    {
     "name": "stdout",
     "output_type": "stream",
     "text": [
      "<class 'pandas.core.frame.DataFrame'>\n",
      "RangeIndex: 4860 entries, 0 to 4859\n",
      "Data columns (total 53 columns):\n",
      " #   Column                                      Non-Null Count  Dtype  \n",
      "---  ------                                      --------------  -----  \n",
      " 0   date                                        4860 non-null   object \n",
      " 1   rougher.input.feed_au                       4860 non-null   float64\n",
      " 2   rougher.input.feed_ag                       4860 non-null   float64\n",
      " 3   rougher.input.feed_pb                       4832 non-null   float64\n",
      " 4   rougher.input.feed_sol                      4838 non-null   float64\n",
      " 5   rougher.input.feed_rate                     4856 non-null   float64\n",
      " 6   rougher.input.feed_size                     4816 non-null   float64\n",
      " 7   rougher.input.floatbank10_sulfate           4857 non-null   float64\n",
      " 8   rougher.input.floatbank10_xanthate          4859 non-null   float64\n",
      " 9   rougher.state.floatbank10_a_air             4859 non-null   float64\n",
      " 10  rougher.state.floatbank10_a_level           4859 non-null   float64\n",
      " 11  rougher.state.floatbank10_b_air             4859 non-null   float64\n",
      " 12  rougher.state.floatbank10_b_level           4859 non-null   float64\n",
      " 13  rougher.state.floatbank10_c_air             4859 non-null   float64\n",
      " 14  rougher.state.floatbank10_c_level           4859 non-null   float64\n",
      " 15  rougher.state.floatbank10_d_air             4860 non-null   float64\n",
      " 16  rougher.state.floatbank10_d_level           4860 non-null   float64\n",
      " 17  rougher.state.floatbank10_e_air             4853 non-null   float64\n",
      " 18  rougher.state.floatbank10_e_level           4860 non-null   float64\n",
      " 19  rougher.state.floatbank10_f_air             4860 non-null   float64\n",
      " 20  rougher.state.floatbank10_f_level           4860 non-null   float64\n",
      " 21  rougher.input.floatbank11_sulfate           4852 non-null   float64\n",
      " 22  rougher.input.floatbank11_xanthate          4814 non-null   float64\n",
      " 23  primary_cleaner.input.sulfate               4859 non-null   float64\n",
      " 24  primary_cleaner.input.depressant            4851 non-null   float64\n",
      " 25  primary_cleaner.input.feed_size             4860 non-null   float64\n",
      " 26  primary_cleaner.input.xanthate              4817 non-null   float64\n",
      " 27  primary_cleaner.state.floatbank8_a_air      4859 non-null   float64\n",
      " 28  primary_cleaner.state.floatbank8_a_level    4859 non-null   float64\n",
      " 29  primary_cleaner.state.floatbank8_b_air      4859 non-null   float64\n",
      " 30  primary_cleaner.state.floatbank8_b_level    4859 non-null   float64\n",
      " 31  primary_cleaner.state.floatbank8_c_air      4858 non-null   float64\n",
      " 32  primary_cleaner.state.floatbank8_c_level    4859 non-null   float64\n",
      " 33  primary_cleaner.state.floatbank8_d_air      4858 non-null   float64\n",
      " 34  primary_cleaner.state.floatbank8_d_level    4859 non-null   float64\n",
      " 35  secondary_cleaner.state.floatbank2_a_air    4734 non-null   float64\n",
      " 36  secondary_cleaner.state.floatbank2_a_level  4859 non-null   float64\n",
      " 37  secondary_cleaner.state.floatbank2_b_air    4859 non-null   float64\n",
      " 38  secondary_cleaner.state.floatbank2_b_level  4859 non-null   float64\n",
      " 39  secondary_cleaner.state.floatbank3_a_air    4859 non-null   float64\n",
      " 40  secondary_cleaner.state.floatbank3_a_level  4859 non-null   float64\n",
      " 41  secondary_cleaner.state.floatbank3_b_air    4859 non-null   float64\n",
      " 42  secondary_cleaner.state.floatbank3_b_level  4859 non-null   float64\n",
      " 43  secondary_cleaner.state.floatbank4_a_air    4859 non-null   float64\n",
      " 44  secondary_cleaner.state.floatbank4_a_level  4859 non-null   float64\n",
      " 45  secondary_cleaner.state.floatbank4_b_air    4859 non-null   float64\n",
      " 46  secondary_cleaner.state.floatbank4_b_level  4859 non-null   float64\n",
      " 47  secondary_cleaner.state.floatbank5_a_air    4859 non-null   float64\n",
      " 48  secondary_cleaner.state.floatbank5_a_level  4859 non-null   float64\n",
      " 49  secondary_cleaner.state.floatbank5_b_air    4859 non-null   float64\n",
      " 50  secondary_cleaner.state.floatbank5_b_level  4859 non-null   float64\n",
      " 51  secondary_cleaner.state.floatbank6_a_air    4859 non-null   float64\n",
      " 52  secondary_cleaner.state.floatbank6_a_level  4859 non-null   float64\n",
      "dtypes: float64(52), object(1)\n",
      "memory usage: 2.0+ MB\n"
     ]
    }
   ],
   "source": [
    "data_test.info()"
   ]
  },
  {
   "cell_type": "markdown",
   "metadata": {},
   "source": [
    "###  Проверим, что эффективность обогащения рассчитана правильно."
   ]
  },
  {
   "cell_type": "markdown",
   "metadata": {},
   "source": [
    "Вычислим эффективность обогащения на обучающей выборке для признака rougher.output.recovery и найдём MAE между нашими расчётами и значением признака."
   ]
  },
  {
   "cell_type": "code",
   "execution_count": 7,
   "metadata": {
    "ExecuteTime": {
     "end_time": "2023-05-18T00:52:16.251058400Z",
     "start_time": "2023-05-18T00:52:16.215517700Z"
    }
   },
   "outputs": [],
   "source": [
    "recovery = (data_train['rougher.output.concentrate_au'] * (data_train['rougher.input.feed_au'] - \\\n",
    "            data_train['rougher.output.tail_au'])) / (data_train['rougher.input.feed_au'] * \\\n",
    "            (data_train['rougher.output.concentrate_au'] - data_train['rougher.output.tail_au'])) * 100"
   ]
  },
  {
   "cell_type": "code",
   "execution_count": 8,
   "metadata": {
    "ExecuteTime": {
     "end_time": "2023-05-18T00:52:16.307306800Z",
     "start_time": "2023-05-18T00:52:16.254057300Z"
    },
    "scrolled": true
   },
   "outputs": [
    {
     "name": "stdout",
     "output_type": "stream",
     "text": [
      "МАЕ recovery: 9.83758577644259e-15\n"
     ]
    }
   ],
   "source": [
    "print('МАЕ recovery:', mean_absolute_error(data_train['rougher.output.recovery'], recovery))"
   ]
  },
  {
   "cell_type": "markdown",
   "metadata": {},
   "source": [
    "Значение МАЕ между полученными расчётами и значением признака близко к 0. Это означаем, что эффективность обогащения рассчитана верно."
   ]
  },
  {
   "cell_type": "markdown",
   "metadata": {},
   "source": [
    "### Проанализируем признаки, недоступные в тестовой выборке."
   ]
  },
  {
   "cell_type": "markdown",
   "metadata": {},
   "source": [
    "Для анализа признаков, недоступных в тестовой выборке, удалим столбцы тестовой выборки из обучающей выборки."
   ]
  },
  {
   "cell_type": "code",
   "execution_count": 9,
   "metadata": {
    "ExecuteTime": {
     "end_time": "2023-05-18T00:52:16.332767400Z",
     "start_time": "2023-05-18T00:52:16.310307100Z"
    },
    "scrolled": true
   },
   "outputs": [
    {
     "name": "stdout",
     "output_type": "stream",
     "text": [
      "<class 'pandas.core.frame.DataFrame'>\n",
      "RangeIndex: 14579 entries, 0 to 14578\n",
      "Data columns (total 34 columns):\n",
      " #   Column                                              Non-Null Count  Dtype  \n",
      "---  ------                                              --------------  -----  \n",
      " 0   rougher.calculation.sulfate_to_au_concentrate       14578 non-null  float64\n",
      " 1   rougher.calculation.floatbank10_sulfate_to_au_feed  14578 non-null  float64\n",
      " 2   rougher.calculation.floatbank11_sulfate_to_au_feed  14578 non-null  float64\n",
      " 3   rougher.calculation.au_pb_ratio                     14579 non-null  float64\n",
      " 4   rougher.output.concentrate_au                       14579 non-null  float64\n",
      " 5   rougher.output.concentrate_ag                       14579 non-null  float64\n",
      " 6   rougher.output.concentrate_pb                       14579 non-null  float64\n",
      " 7   rougher.output.concentrate_sol                      14561 non-null  float64\n",
      " 8   rougher.output.recovery                             14579 non-null  float64\n",
      " 9   rougher.output.tail_au                              14579 non-null  float64\n",
      " 10  rougher.output.tail_ag                              14578 non-null  float64\n",
      " 11  rougher.output.tail_pb                              14579 non-null  float64\n",
      " 12  rougher.output.tail_sol                             14579 non-null  float64\n",
      " 13  primary_cleaner.output.concentrate_au               14579 non-null  float64\n",
      " 14  primary_cleaner.output.concentrate_ag               14579 non-null  float64\n",
      " 15  primary_cleaner.output.concentrate_pb               14491 non-null  float64\n",
      " 16  primary_cleaner.output.concentrate_sol              14314 non-null  float64\n",
      " 17  primary_cleaner.output.tail_au                      14579 non-null  float64\n",
      " 18  primary_cleaner.output.tail_ag                      14575 non-null  float64\n",
      " 19  primary_cleaner.output.tail_pb                      14573 non-null  float64\n",
      " 20  primary_cleaner.output.tail_sol                     14534 non-null  float64\n",
      " 21  secondary_cleaner.output.tail_au                    14579 non-null  float64\n",
      " 22  secondary_cleaner.output.tail_ag                    14578 non-null  float64\n",
      " 23  secondary_cleaner.output.tail_pb                    14575 non-null  float64\n",
      " 24  secondary_cleaner.output.tail_sol                   13659 non-null  float64\n",
      " 25  final.output.concentrate_au                         14579 non-null  float64\n",
      " 26  final.output.concentrate_ag                         14578 non-null  float64\n",
      " 27  final.output.concentrate_pb                         14578 non-null  float64\n",
      " 28  final.output.concentrate_sol                        14387 non-null  float64\n",
      " 29  final.output.recovery                               14579 non-null  float64\n",
      " 30  final.output.tail_au                                14579 non-null  float64\n",
      " 31  final.output.tail_ag                                14578 non-null  float64\n",
      " 32  final.output.tail_pb                                14504 non-null  float64\n",
      " 33  final.output.tail_sol                               14574 non-null  float64\n",
      "dtypes: float64(34)\n",
      "memory usage: 3.8 MB\n"
     ]
    }
   ],
   "source": [
    "data_train.drop(columns = data_test.columns).info()"
   ]
  },
  {
   "cell_type": "code",
   "execution_count": 10,
   "metadata": {
    "ExecuteTime": {
     "end_time": "2023-05-18T00:52:16.387365700Z",
     "start_time": "2023-05-18T00:52:16.335273600Z"
    }
   },
   "outputs": [],
   "source": [
    "# добавим недостающие данные в data_test\n",
    "data_test = data_test.merge(data_full[['final.output.recovery', 'rougher.output.recovery', 'date']], how='left', on='date')"
   ]
  },
  {
   "cell_type": "markdown",
   "metadata": {},
   "source": [
    "Всего 34 пропущенных признака:\n",
    "* 13 признаков, относящихся к этапу rougher (флотация) со следующими типами параметров:\n",
    "    * 4 признака — calculation (расчётные характеристики);\n",
    "    * 9 признаков — output (параметры продукта).\n",
    "* 8 признаков, относящихся к этапу secondary_cleaner (вторичная очистка) c типом параметра output (параметры продукта).\n",
    "* 4 признака, относящихся к этапу secondary_cleaner (вторичная очистка) c типом параметра output (параметры продукта).\n",
    "* 9 признаков, относящихся к этапу final (финальные характеристики) c типом параметра output (параметры продукта).\n",
    "\n",
    "Некоторые признаки недоступны, потому что замеряются и/или рассчитываются значительно позже. Также в тестовом наборе нет целевых признаков."
   ]
  },
  {
   "cell_type": "markdown",
   "metadata": {},
   "source": [
    "### Предобработка данных"
   ]
  },
  {
   "cell_type": "markdown",
   "metadata": {},
   "source": [
    "Проверим выборки на явные дубликаты"
   ]
  },
  {
   "cell_type": "code",
   "execution_count": 11,
   "metadata": {
    "ExecuteTime": {
     "end_time": "2023-05-18T00:52:16.499098600Z",
     "start_time": "2023-05-18T00:52:16.391365100Z"
    }
   },
   "outputs": [
    {
     "data": {
      "text/plain": [
       "0"
      ]
     },
     "execution_count": 11,
     "metadata": {},
     "output_type": "execute_result"
    }
   ],
   "source": [
    "data_full.duplicated().sum()"
   ]
  },
  {
   "cell_type": "code",
   "execution_count": 12,
   "metadata": {
    "ExecuteTime": {
     "end_time": "2023-05-18T00:52:16.594804100Z",
     "start_time": "2023-05-18T00:52:16.462073600Z"
    }
   },
   "outputs": [
    {
     "data": {
      "text/plain": [
       "0"
      ]
     },
     "execution_count": 12,
     "metadata": {},
     "output_type": "execute_result"
    }
   ],
   "source": [
    "data_train.duplicated().sum()"
   ]
  },
  {
   "cell_type": "code",
   "execution_count": 13,
   "metadata": {
    "ExecuteTime": {
     "end_time": "2023-05-18T00:52:16.614935100Z",
     "start_time": "2023-05-18T00:52:16.510846600Z"
    }
   },
   "outputs": [
    {
     "data": {
      "text/plain": [
       "0"
      ]
     },
     "execution_count": 13,
     "metadata": {},
     "output_type": "execute_result"
    }
   ],
   "source": [
    "data_test.duplicated().sum()"
   ]
  },
  {
   "cell_type": "markdown",
   "metadata": {},
   "source": [
    "Явных дубликатов нет"
   ]
  },
  {
   "cell_type": "markdown",
   "metadata": {},
   "source": [
    "Проверим данные на пропуски"
   ]
  },
  {
   "cell_type": "code",
   "execution_count": 14,
   "metadata": {
    "ExecuteTime": {
     "end_time": "2023-05-18T00:52:16.614935100Z",
     "start_time": "2023-05-18T00:52:16.528563400Z"
    }
   },
   "outputs": [
    {
     "data": {
      "text/plain": [
       "date                        0\n",
       "rougher.input.feed_au       0\n",
       "rougher.input.feed_ag       0\n",
       "rougher.input.feed_pb     100\n",
       "rougher.input.feed_sol     99\n",
       "                         ... \n",
       "final.output.recovery       0\n",
       "final.output.tail_au        0\n",
       "final.output.tail_ag        1\n",
       "final.output.tail_pb      101\n",
       "final.output.tail_sol       6\n",
       "Length: 87, dtype: int64"
      ]
     },
     "execution_count": 14,
     "metadata": {},
     "output_type": "execute_result"
    }
   ],
   "source": [
    "data_full.isna().sum()"
   ]
  },
  {
   "cell_type": "code",
   "execution_count": 15,
   "metadata": {
    "ExecuteTime": {
     "end_time": "2023-05-18T00:52:16.657964600Z",
     "start_time": "2023-05-18T00:52:16.574469500Z"
    }
   },
   "outputs": [
    {
     "data": {
      "text/plain": [
       "date                       0\n",
       "rougher.input.feed_au      0\n",
       "rougher.input.feed_ag      0\n",
       "rougher.input.feed_pb     72\n",
       "rougher.input.feed_sol    77\n",
       "                          ..\n",
       "final.output.recovery      0\n",
       "final.output.tail_au       0\n",
       "final.output.tail_ag       1\n",
       "final.output.tail_pb      75\n",
       "final.output.tail_sol      5\n",
       "Length: 87, dtype: int64"
      ]
     },
     "execution_count": 15,
     "metadata": {},
     "output_type": "execute_result"
    }
   ],
   "source": [
    "data_train.isna().sum()"
   ]
  },
  {
   "cell_type": "code",
   "execution_count": 16,
   "metadata": {
    "ExecuteTime": {
     "end_time": "2023-05-18T00:52:16.766473300Z",
     "start_time": "2023-05-18T00:52:16.641872100Z"
    },
    "scrolled": true
   },
   "outputs": [
    {
     "data": {
      "text/plain": [
       "date                                            0\n",
       "rougher.input.feed_au                           0\n",
       "rougher.input.feed_ag                           0\n",
       "rougher.input.feed_pb                          28\n",
       "rougher.input.feed_sol                         22\n",
       "rougher.input.feed_rate                         4\n",
       "rougher.input.feed_size                        44\n",
       "rougher.input.floatbank10_sulfate               3\n",
       "rougher.input.floatbank10_xanthate              1\n",
       "rougher.state.floatbank10_a_air                 1\n",
       "rougher.state.floatbank10_a_level               1\n",
       "rougher.state.floatbank10_b_air                 1\n",
       "rougher.state.floatbank10_b_level               1\n",
       "rougher.state.floatbank10_c_air                 1\n",
       "rougher.state.floatbank10_c_level               1\n",
       "rougher.state.floatbank10_d_air                 0\n",
       "rougher.state.floatbank10_d_level               0\n",
       "rougher.state.floatbank10_e_air                 7\n",
       "rougher.state.floatbank10_e_level               0\n",
       "rougher.state.floatbank10_f_air                 0\n",
       "rougher.state.floatbank10_f_level               0\n",
       "rougher.input.floatbank11_sulfate               8\n",
       "rougher.input.floatbank11_xanthate             46\n",
       "primary_cleaner.input.sulfate                   1\n",
       "primary_cleaner.input.depressant                9\n",
       "primary_cleaner.input.feed_size                 0\n",
       "primary_cleaner.input.xanthate                 43\n",
       "primary_cleaner.state.floatbank8_a_air          1\n",
       "primary_cleaner.state.floatbank8_a_level        1\n",
       "primary_cleaner.state.floatbank8_b_air          1\n",
       "primary_cleaner.state.floatbank8_b_level        1\n",
       "primary_cleaner.state.floatbank8_c_air          2\n",
       "primary_cleaner.state.floatbank8_c_level        1\n",
       "primary_cleaner.state.floatbank8_d_air          2\n",
       "primary_cleaner.state.floatbank8_d_level        1\n",
       "secondary_cleaner.state.floatbank2_a_air      126\n",
       "secondary_cleaner.state.floatbank2_a_level      1\n",
       "secondary_cleaner.state.floatbank2_b_air        1\n",
       "secondary_cleaner.state.floatbank2_b_level      1\n",
       "secondary_cleaner.state.floatbank3_a_air        1\n",
       "secondary_cleaner.state.floatbank3_a_level      1\n",
       "secondary_cleaner.state.floatbank3_b_air        1\n",
       "secondary_cleaner.state.floatbank3_b_level      1\n",
       "secondary_cleaner.state.floatbank4_a_air        1\n",
       "secondary_cleaner.state.floatbank4_a_level      1\n",
       "secondary_cleaner.state.floatbank4_b_air        1\n",
       "secondary_cleaner.state.floatbank4_b_level      1\n",
       "secondary_cleaner.state.floatbank5_a_air        1\n",
       "secondary_cleaner.state.floatbank5_a_level      1\n",
       "secondary_cleaner.state.floatbank5_b_air        1\n",
       "secondary_cleaner.state.floatbank5_b_level      1\n",
       "secondary_cleaner.state.floatbank6_a_air        1\n",
       "secondary_cleaner.state.floatbank6_a_level      1\n",
       "final.output.recovery                           0\n",
       "rougher.output.recovery                         0\n",
       "dtype: int64"
      ]
     },
     "execution_count": 16,
     "metadata": {},
     "output_type": "execute_result"
    }
   ],
   "source": [
    "data_test.isna().sum()"
   ]
  },
  {
   "cell_type": "code",
   "execution_count": 17,
   "metadata": {
    "ExecuteTime": {
     "end_time": "2023-05-18T00:52:16.832946600Z",
     "start_time": "2023-05-18T00:52:16.766473300Z"
    }
   },
   "outputs": [
    {
     "name": "stdout",
     "output_type": "stream",
     "text": [
      "Количество пропусков в data_full: 4481\n",
      "Количество пропусков в data_train: 3050\n",
      "Количество пропусков в data_test: 375\n"
     ]
    }
   ],
   "source": [
    "print('Количество пропусков в data_full:', data_full.isna().sum().sum())\n",
    "print('Количество пропусков в data_train:', data_train.isna().sum().sum())\n",
    "print('Количество пропусков в data_test:', data_test.isna().sum().sum())"
   ]
  },
  {
   "cell_type": "markdown",
   "metadata": {},
   "source": [
    "Заполним пропуски ближайшими значениями, предварительно отсортировав по дате, т.к. в условии сказано, что соседние по времени параметры часто похожи."
   ]
  },
  {
   "cell_type": "code",
   "execution_count": 18,
   "metadata": {
    "ExecuteTime": {
     "end_time": "2023-05-18T00:52:16.883190400Z",
     "start_time": "2023-05-18T00:52:16.779032500Z"
    }
   },
   "outputs": [],
   "source": [
    "data_full = data_full.sort_values(by='date', ascending = False).fillna(method='ffill')\n",
    "data_train = data_train.sort_values(by='date', ascending = False).fillna(method='ffill')\n",
    "data_test = data_test.sort_values(by='date', ascending = False).fillna(method='ffill')"
   ]
  },
  {
   "cell_type": "code",
   "execution_count": 19,
   "metadata": {
    "ExecuteTime": {
     "end_time": "2023-05-18T00:52:16.883190400Z",
     "start_time": "2023-05-18T00:52:16.830443300Z"
    }
   },
   "outputs": [
    {
     "name": "stdout",
     "output_type": "stream",
     "text": [
      "Количество пропусков в data_full: 0\n",
      "Количество пропусков в data_train: 0\n",
      "Количество пропусков в data_test: 0\n"
     ]
    }
   ],
   "source": [
    "print('Количество пропусков в data_full:', data_full.isna().sum().sum())\n",
    "print('Количество пропусков в data_train:', data_train.isna().sum().sum())\n",
    "print('Количество пропусков в data_test:', data_test.isna().sum().sum())"
   ]
  },
  {
   "cell_type": "markdown",
   "metadata": {},
   "source": [
    "<b> Вывод: </b>\n",
    "Данные были открыты и изучены. Проверен расчёт эффективности обогащения путём нахождения MAE между расчётом эффективности обогащения на обучающей выборке для признака rougher.output.recovery и значением признака. Также было обнаружено 34 пропущенных признака, недоступных в тестовой выборке. Произведена предобработка данных."
   ]
  },
  {
   "cell_type": "markdown",
   "metadata": {},
   "source": [
    "## Анализ данных"
   ]
  },
  {
   "cell_type": "markdown",
   "metadata": {},
   "source": [
    "### Посмотрим, как меняется концентрация металлов (Au, Ag, Pb) на различных этапах"
   ]
  },
  {
   "cell_type": "markdown",
   "metadata": {},
   "source": [
    "Построим диаграмму концентрации <b> золота (Au) </b> на различных этапах: в сырье, в черновом концентрате, в концентрате после первой очистки и в финальном концентрате."
   ]
  },
  {
   "cell_type": "code",
   "execution_count": 20,
   "metadata": {
    "ExecuteTime": {
     "end_time": "2023-05-18T00:52:17.157225500Z",
     "start_time": "2023-05-18T00:52:16.830443300Z"
    }
   },
   "outputs": [
    {
     "data": {
      "image/png": "[encoded data removed]",
      "text/plain": [
       "<Figure size 1500x1000 with 1 Axes>"
      ]
     },
     "metadata": {},
     "output_type": "display_data"
    }
   ],
   "source": [
    "plt.figure(figsize=(15, 10))\n",
    "data_full['rougher.input.feed_au'].hist(bins=25, label='Сырьё', alpha=0.5)\n",
    "data_full['rougher.output.concentrate_au'].hist(bins=25, label='Черновой концентрат', alpha=0.5)\n",
    "data_full['primary_cleaner.output.concentrate_au'].hist(bins=25, label='Концентрат после первой очистки', alpha=0.5)\n",
    "data_full['final.output.concentrate_au'].hist(bins=25, label='Финальный концентрат', alpha=0.5)\n",
    "plt.title('Диаграмма концентрации золота (Au)')\n",
    "plt.xlabel('Значение')\n",
    "plt.ylabel('Количество')\n",
    "plt.legend(loc='upper center')\n",
    "plt.show()"
   ]
  },
  {
   "cell_type": "code",
   "execution_count": 21,
   "metadata": {
    "ExecuteTime": {
     "end_time": "2023-05-18T00:52:17.157225500Z",
     "start_time": "2023-05-18T00:52:17.148558600Z"
    }
   },
   "outputs": [
    {
     "data": {
      "text/plain": [
       "rougher.output.concentrate_au            19.772000\n",
       "primary_cleaner.output.concentrate_au    32.119400\n",
       "final.output.concentrate_au              44.076513\n",
       "dtype: float64"
      ]
     },
     "execution_count": 21,
     "metadata": {},
     "output_type": "execute_result"
    }
   ],
   "source": [
    "# Средняя концентрация золота на стадиях процесса\n",
    "data_full[['rougher.output.concentrate_au', 'primary_cleaner.output.concentrate_au', 'final.output.concentrate_au']].mean()"
   ]
  },
  {
   "cell_type": "code",
   "execution_count": 22,
   "metadata": {
    "ExecuteTime": {
     "end_time": "2023-05-18T00:52:17.157225500Z",
     "start_time": "2023-05-18T00:52:17.151183400Z"
    }
   },
   "outputs": [
    {
     "data": {
      "text/plain": [
       "rougher.output.tail_au              1.816391\n",
       "primary_cleaner.output.tail_au      3.914179\n",
       "secondary_cleaner.output.tail_au    4.339625\n",
       "dtype: float64"
      ]
     },
     "execution_count": 22,
     "metadata": {},
     "output_type": "execute_result"
    }
   ],
   "source": [
    "# Средняя концентрация золота в отвальных хвостах\n",
    "data_full[['rougher.output.tail_au', 'primary_cleaner.output.tail_au', 'secondary_cleaner.output.tail_au']].mean()"
   ]
  },
  {
   "cell_type": "markdown",
   "metadata": {},
   "source": [
    "Построим диаграмму концентрации <b> серебра (Ag) </b> на различных этапах: в сырье, в черновом концентрате, в концентрате после первой очистки и в финальном концентрате."
   ]
  },
  {
   "cell_type": "code",
   "execution_count": 23,
   "metadata": {
    "ExecuteTime": {
     "end_time": "2023-05-18T00:52:17.553882400Z",
     "start_time": "2023-05-18T00:52:17.157225500Z"
    }
   },
   "outputs": [
    {
     "data": {
      "image/png": "[encoded data removed]",
      "text/plain": [
       "<Figure size 1500x1000 with 1 Axes>"
      ]
     },
     "metadata": {},
     "output_type": "display_data"
    }
   ],
   "source": [
    "plt.figure(figsize=(15, 10))\n",
    "data_full['rougher.input.feed_ag'].hist(bins=25, label='Сырьё', alpha=0.5, range = (0, 20))\n",
    "data_full['rougher.output.concentrate_ag'].hist(bins=25, label='Черновой концентрат', alpha=0.5, range = (0, 20))\n",
    "data_full['primary_cleaner.output.concentrate_ag'].hist(bins=25, label='Концентрат после первой очистки', alpha=0.5, range = (0, 20))\n",
    "data_full['final.output.concentrate_ag'].hist(bins=25, label='Финальный концентрат', alpha=0.5, range = (0, 20))\n",
    "plt.title('Диаграмма концентрации серебра (Ag)')\n",
    "plt.xlabel('Значение')\n",
    "plt.ylabel('Количество')\n",
    "plt.legend(loc='upper center')\n",
    "plt.show()"
   ]
  },
  {
   "cell_type": "code",
   "execution_count": 24,
   "metadata": {
    "ExecuteTime": {
     "end_time": "2023-05-18T00:52:17.569553Z",
     "start_time": "2023-05-18T00:52:17.458239800Z"
    }
   },
   "outputs": [
    {
     "data": {
      "text/plain": [
       "rougher.output.concentrate_ag            11.994759\n",
       "primary_cleaner.output.concentrate_ag     8.442408\n",
       "final.output.concentrate_ag               5.168382\n",
       "dtype: float64"
      ]
     },
     "execution_count": 24,
     "metadata": {},
     "output_type": "execute_result"
    }
   ],
   "source": [
    "# Средняя концентрация серебра на стадиях процесса\n",
    "data_full[['rougher.output.concentrate_ag', 'primary_cleaner.output.concentrate_ag', 'final.output.concentrate_ag']].mean()"
   ]
  },
  {
   "cell_type": "code",
   "execution_count": 25,
   "metadata": {
    "ExecuteTime": {
     "end_time": "2023-05-18T00:52:17.569553Z",
     "start_time": "2023-05-18T00:52:17.465207500Z"
    }
   },
   "outputs": [
    {
     "data": {
      "text/plain": [
       "rougher.output.tail_ag               5.589070\n",
       "primary_cleaner.output.tail_ag      16.145110\n",
       "secondary_cleaner.output.tail_ag    14.586456\n",
       "dtype: float64"
      ]
     },
     "execution_count": 25,
     "metadata": {},
     "output_type": "execute_result"
    }
   ],
   "source": [
    "# Средняя концентрация серебра в отвальных хвостах\n",
    "data_full[['rougher.output.tail_ag', 'primary_cleaner.output.tail_ag', 'secondary_cleaner.output.tail_ag']].mean()"
   ]
  },
  {
   "cell_type": "markdown",
   "metadata": {},
   "source": [
    "Построим диаграмму концентрации <b> свинца (Pb) </b> на различных этапах: в сырье, в черновом концентрате, в концентрате после первой очистки и в финальном концентрате."
   ]
  },
  {
   "cell_type": "code",
   "execution_count": 26,
   "metadata": {
    "ExecuteTime": {
     "end_time": "2023-05-18T00:52:17.800730Z",
     "start_time": "2023-05-18T00:52:17.474215900Z"
    }
   },
   "outputs": [
    {
     "data": {
      "image/png": "[encoded data removed]",
      "text/plain": [
       "<Figure size 1500x1000 with 1 Axes>"
      ]
     },
     "metadata": {},
     "output_type": "display_data"
    }
   ],
   "source": [
    "plt.figure(figsize=(15, 10))\n",
    "data_full['rougher.input.feed_pb'].hist(bins=25, label='Сырьё', alpha=0.5, range = (0, 17.5))\n",
    "data_full['rougher.output.concentrate_pb'].hist(bins=25, label='Черновой концентрат', alpha=0.5, range = (0, 17.5))\n",
    "data_full['primary_cleaner.output.concentrate_pb'].hist(bins=25, label='Концентрат после первой очистки', alpha=0.5, range = (0, 17.5))\n",
    "data_full['final.output.concentrate_pb'].hist(bins=25, label='Финальный концентрат', alpha=0.5, range = (0, 17.5))\n",
    "plt.title('Диаграмма концентрации свинца (Pb)')\n",
    "plt.xlabel('Значение')\n",
    "plt.ylabel('Количество')\n",
    "plt.legend(loc='upper center')\n",
    "plt.show()"
   ]
  },
  {
   "cell_type": "code",
   "execution_count": 27,
   "metadata": {
    "ExecuteTime": {
     "end_time": "2023-05-18T00:52:17.800730Z",
     "start_time": "2023-05-18T00:52:17.784531900Z"
    }
   },
   "outputs": [
    {
     "data": {
      "text/plain": [
       "rougher.output.concentrate_pb            7.606272\n",
       "primary_cleaner.output.concentrate_pb    9.811470\n",
       "final.output.concentrate_pb              9.978817\n",
       "dtype: float64"
      ]
     },
     "execution_count": 27,
     "metadata": {},
     "output_type": "execute_result"
    }
   ],
   "source": [
    "# Средняя концентрация свинца на стадиях процесса\n",
    "data_full[['rougher.output.concentrate_pb', 'primary_cleaner.output.concentrate_pb', 'final.output.concentrate_pb']].mean()"
   ]
  },
  {
   "cell_type": "code",
   "execution_count": 28,
   "metadata": {
    "ExecuteTime": {
     "end_time": "2023-05-18T00:52:17.800730Z",
     "start_time": "2023-05-18T00:52:17.784531900Z"
    }
   },
   "outputs": [
    {
     "data": {
      "text/plain": [
       "rougher.output.tail_pb              0.645782\n",
       "primary_cleaner.output.tail_pb      3.433245\n",
       "secondary_cleaner.output.tail_pb    5.776285\n",
       "dtype: float64"
      ]
     },
     "execution_count": 28,
     "metadata": {},
     "output_type": "execute_result"
    }
   ],
   "source": [
    "# Средняя концентрация свинца в отвальных хвостах\n",
    "data_full[['rougher.output.tail_pb', 'primary_cleaner.output.tail_pb', 'secondary_cleaner.output.tail_pb']].mean()"
   ]
  },
  {
   "cell_type": "markdown",
   "metadata": {},
   "source": [
    "<b> Вывод: </b>\n",
    "На каждом этапе обработки сырья концентрация золота значительно увеличивается. Концентрация золота в отвальных хвостах тоже увеличивается, но при этом на порядок ниже. Концентрация серебра постепенно снижается, а то время как в отвельных хвастах увеличивается. Концентрация свинца на стадиях процесса невелика и незначительно увеличивается, как и концентрация в отвальных хвостах."
   ]
  },
  {
   "cell_type": "markdown",
   "metadata": {},
   "source": [
    "### Сравнение распределения размеров гранул исходного сырья на обучающей и тестовой выборках"
   ]
  },
  {
   "cell_type": "markdown",
   "metadata": {},
   "source": [
    "Для сравнения распределения размеров гранул построим график распределения плотности вероятности"
   ]
  },
  {
   "cell_type": "code",
   "execution_count": 29,
   "metadata": {
    "ExecuteTime": {
     "end_time": "2023-05-18T00:52:18.143124200Z",
     "start_time": "2023-05-18T00:52:17.786152Z"
    }
   },
   "outputs": [
    {
     "data": {
      "image/png": "[encoded data removed]",
      "text/plain": [
       "<Figure size 1500x500 with 1 Axes>"
      ]
     },
     "metadata": {},
     "output_type": "display_data"
    }
   ],
   "source": [
    "plt.figure(figsize=(15, 5))\n",
    "sns.kdeplot(data_train['rougher.input.feed_size'], label='Размер гранул исходного сырья на обучающей выборке', alpha=0.5, fill=True)\n",
    "sns.kdeplot(data_test['rougher.input.feed_size'], label='Размер гранул исходного сырья на тестовой выборке', alpha=0.7, fill=True)\n",
    "plt.xlim([0, 120])\n",
    "plt.xlabel('Значения')\n",
    "plt.ylabel('Плотность вероятности непрерывной величины')\n",
    "plt.legend(loc='upper right')\n",
    "plt.show()"
   ]
  },
  {
   "cell_type": "code",
   "execution_count": 30,
   "metadata": {
    "ExecuteTime": {
     "end_time": "2023-05-18T00:52:18.143677600Z",
     "start_time": "2023-05-18T00:52:18.070759900Z"
    }
   },
   "outputs": [
    {
     "name": "stdout",
     "output_type": "stream",
     "text": [
      "count    14579.000000\n",
      "mean        58.776732\n",
      "std         23.144080\n",
      "min          0.049194\n",
      "25%         47.171414\n",
      "50%         54.254915\n",
      "75%         64.344760\n",
      "max        484.967466\n",
      "Name: rougher.input.feed_size, dtype: float64\n"
     ]
    }
   ],
   "source": [
    "print(data_train['rougher.input.feed_size'].describe())"
   ]
  },
  {
   "cell_type": "code",
   "execution_count": 31,
   "metadata": {
    "ExecuteTime": {
     "end_time": "2023-05-18T00:52:18.143677600Z",
     "start_time": "2023-05-18T00:52:18.078964400Z"
    }
   },
   "outputs": [
    {
     "name": "stdout",
     "output_type": "stream",
     "text": [
      "count    4860.000000\n",
      "mean       59.080175\n",
      "std        19.441844\n",
      "min         0.046369\n",
      "25%        47.605339\n",
      "50%        55.414175\n",
      "75%        66.538910\n",
      "max       363.989699\n",
      "Name: rougher.input.feed_size, dtype: float64\n"
     ]
    }
   ],
   "source": [
    "print(data_test['rougher.input.feed_size'].describe())"
   ]
  },
  {
   "cell_type": "markdown",
   "metadata": {},
   "source": [
    "По графику видно, что распределения не сильно отличаются друг от друга и имеют практически одинаковую фигуру, а статистические данные показывают близкие значения, что говорит об однородности размеров гранул исходного сырья на обучающей и тестовой выборках."
   ]
  },
  {
   "cell_type": "markdown",
   "metadata": {},
   "source": [
    "### Исследуем суммарную концентрацию металлов на разных стадиях"
   ]
  },
  {
   "cell_type": "markdown",
   "metadata": {},
   "source": [
    "#### Суммарная концентрацию металлов в сырье"
   ]
  },
  {
   "cell_type": "code",
   "execution_count": 32,
   "metadata": {
    "ExecuteTime": {
     "end_time": "2023-05-18T00:52:18.143677600Z",
     "start_time": "2023-05-18T00:52:18.085019Z"
    }
   },
   "outputs": [],
   "source": [
    "data_full['rougher.input.feed_sum'] = data_full['rougher.input.feed_au'] + \\\n",
    "                            data_full['rougher.input.feed_ag'] + \\\n",
    "                            data_full['rougher.input.feed_pb'] + \\\n",
    "                            data_full['rougher.input.feed_sol']"
   ]
  },
  {
   "cell_type": "markdown",
   "metadata": {},
   "source": [
    "#### Суммарная концентрацию металлов в черновом концентрате"
   ]
  },
  {
   "cell_type": "code",
   "execution_count": 33,
   "metadata": {
    "ExecuteTime": {
     "end_time": "2023-05-18T00:52:18.143677600Z",
     "start_time": "2023-05-18T00:52:18.086667Z"
    }
   },
   "outputs": [],
   "source": [
    "data_full['rougher_output_concentrate_sum'] = data_full['rougher.output.concentrate_au'] + \\\n",
    "                                    data_full['rougher.output.concentrate_ag'] + \\\n",
    "                                    data_full['rougher.output.concentrate_pb'] + \\\n",
    "                                    data_full['rougher.output.concentrate_sol']"
   ]
  },
  {
   "cell_type": "markdown",
   "metadata": {},
   "source": [
    "#### Суммарная концентрацию металлов в концентрате после первой очистки"
   ]
  },
  {
   "cell_type": "code",
   "execution_count": 34,
   "metadata": {
    "ExecuteTime": {
     "end_time": "2023-05-18T00:52:18.143677600Z",
     "start_time": "2023-05-18T00:52:18.091591200Z"
    }
   },
   "outputs": [],
   "source": [
    "data_full['primary_cleaner_output_concentrate_sum'] = data_full['primary_cleaner.output.concentrate_au'] + \\\n",
    "                                            data_full['primary_cleaner.output.concentrate_ag'] + \\\n",
    "                                            data_full['primary_cleaner.output.concentrate_pb'] + \\\n",
    "                                            data_full['primary_cleaner.output.concentrate_sol']"
   ]
  },
  {
   "cell_type": "markdown",
   "metadata": {},
   "source": [
    "#### Суммарная концентрацию металлов в финальном концентрате"
   ]
  },
  {
   "cell_type": "code",
   "execution_count": 35,
   "metadata": {
    "ExecuteTime": {
     "end_time": "2023-05-18T00:52:18.146712500Z",
     "start_time": "2023-05-18T00:52:18.096229600Z"
    }
   },
   "outputs": [],
   "source": [
    "data_full['final_output_concentrate_sum'] = data_full['final.output.concentrate_au'] + \\\n",
    "                                data_full['final.output.concentrate_ag'] + \\\n",
    "                                data_full['final.output.concentrate_pb'] + \\\n",
    "                                data_full['final.output.concentrate_sol']"
   ]
  },
  {
   "cell_type": "code",
   "execution_count": 36,
   "metadata": {
    "ExecuteTime": {
     "end_time": "2023-05-18T00:52:18.369954300Z",
     "start_time": "2023-05-18T00:52:18.106527100Z"
    }
   },
   "outputs": [
    {
     "data": {
      "image/png": "[encoded data removed]",
      "text/plain": [
       "<Figure size 2000x2000 with 1 Axes>"
      ]
     },
     "metadata": {},
     "output_type": "display_data"
    }
   ],
   "source": [
    "data_full[['rougher.input.feed_sum', 'rougher_output_concentrate_sum', 'primary_cleaner_output_concentrate_sum', 'final_output_concentrate_sum']].boxplot(figsize = (20, 20))\n",
    "plt.title('Диаграмма рассеяния суммарной концентрации на каждом из этапов')\n",
    "plt.ylabel('Значения')\n",
    "plt.show()"
   ]
  },
  {
   "cell_type": "markdown",
   "metadata": {},
   "source": [
    "Рассчитаем размер усов для rougher.input.feed_sum"
   ]
  },
  {
   "cell_type": "code",
   "execution_count": 37,
   "metadata": {
    "ExecuteTime": {
     "end_time": "2023-05-18T00:52:18.369954300Z",
     "start_time": "2023-05-18T00:52:18.359440700Z"
    }
   },
   "outputs": [
    {
     "name": "stdout",
     "output_type": "stream",
     "text": [
      " final_q1:  53.544608804817784 \n",
      " final_q3:  61.95481192063178 \n",
      " delta_q3_q1:  8.410203115814 \n",
      " feed_left_moustache:  40.929304131096785\n"
     ]
    }
   ],
   "source": [
    "final_q1 = np.quantile(data_full['rougher.input.feed_sum'], 0.25)\n",
    "final_q3 = np.quantile(data_full['rougher.input.feed_sum'], 0.75)\n",
    "delta_q3_q1 = final_q3 - final_q1\n",
    "feed_left_moustache = final_q1 - 1.5 * delta_q3_q1\n",
    "print(' final_q1: ', final_q1, '\\n', 'final_q3: ', final_q3, '\\n', 'delta_q3_q1: ', delta_q3_q1, '\\n', 'feed_left_moustache: ', feed_left_moustache )"
   ]
  },
  {
   "cell_type": "markdown",
   "metadata": {},
   "source": [
    "Рассчитаем размер усов для rougher_output_concentrate_sum"
   ]
  },
  {
   "cell_type": "code",
   "execution_count": 38,
   "metadata": {
    "ExecuteTime": {
     "end_time": "2023-05-18T00:52:18.369954300Z",
     "start_time": "2023-05-18T00:52:18.364415Z"
    }
   },
   "outputs": [
    {
     "name": "stdout",
     "output_type": "stream",
     "text": [
      " final_q1:  66.01587724379867 \n",
      " final_q3:  74.35934911755449 \n",
      " delta_q3_q1:  8.343471873755817 \n",
      " rougher_left_moustache:  53.500669433164944\n"
     ]
    }
   ],
   "source": [
    "final_q1 = np.quantile(data_full['rougher_output_concentrate_sum'], 0.25)\n",
    "final_q3 = np.quantile(data_full['rougher_output_concentrate_sum'], 0.75)\n",
    "delta_q3_q1 = final_q3 - final_q1\n",
    "rougher_left_moustache = final_q1 - 1.5 * delta_q3_q1\n",
    "print(' final_q1: ', final_q1, '\\n', 'final_q3: ', final_q3, '\\n', 'delta_q3_q1: ', delta_q3_q1, '\\n', 'rougher_left_moustache: ', rougher_left_moustache)"
   ]
  },
  {
   "cell_type": "markdown",
   "metadata": {},
   "source": [
    "Рассчитаем размер усов для primary_cleaner_output_concentrate_sum"
   ]
  },
  {
   "cell_type": "code",
   "execution_count": 39,
   "metadata": {
    "ExecuteTime": {
     "end_time": "2023-05-18T00:52:18.406205100Z",
     "start_time": "2023-05-18T00:52:18.369954300Z"
    }
   },
   "outputs": [
    {
     "name": "stdout",
     "output_type": "stream",
     "text": [
      " primary_q1:  66.01587724379867 \n",
      " primary_q3:  74.35934911755449 \n",
      " delta_q3_q1:  6.735659024865512 \n",
      " primary_cleaner_left_moustache:  48.827390557494574\n"
     ]
    }
   ],
   "source": [
    "primary_q1 = np.quantile(data_full['primary_cleaner_output_concentrate_sum'], 0.25)\n",
    "primary_q3 = np.quantile(data_full['primary_cleaner_output_concentrate_sum'], 0.75)\n",
    "delta_q3_q1 = primary_q3 - primary_q1\n",
    "primary_left_moustache = primary_q1 - 1.5 * delta_q3_q1\n",
    "print(' primary_q1: ', final_q1, '\\n', 'primary_q3: ', final_q3, '\\n', 'delta_q3_q1: ', delta_q3_q1, '\\n', 'primary_cleaner_left_moustache: ', primary_left_moustache )"
   ]
  },
  {
   "cell_type": "markdown",
   "metadata": {},
   "source": [
    "Рассчитаем размер усов для final_output_concentrate_sum"
   ]
  },
  {
   "cell_type": "code",
   "execution_count": 40,
   "metadata": {
    "ExecuteTime": {
     "end_time": "2023-05-18T00:52:18.421405800Z",
     "start_time": "2023-05-18T00:52:18.375281500Z"
    }
   },
   "outputs": [
    {
     "name": "stdout",
     "output_type": "stream",
     "text": [
      " final_q1:  67.93739008969514 \n",
      " final_q3:  71.36939320472288 \n",
      " delta_q3_q1:  3.43200311502774 \n",
      " final_left_moustache:  62.78938541715353\n"
     ]
    }
   ],
   "source": [
    "final_q1 = np.quantile(data_full['final_output_concentrate_sum'], 0.25)\n",
    "final_q3 = np.quantile(data_full['final_output_concentrate_sum'], 0.75)\n",
    "delta_q3_q1 = final_q3 - final_q1\n",
    "final_left_moustache = final_q1 - 1.5 * delta_q3_q1\n",
    "print(' final_q1: ', final_q1, '\\n', 'final_q3: ', final_q3, '\\n', 'delta_q3_q1: ', delta_q3_q1, '\\n', 'final_left_moustache: ', final_left_moustache )"
   ]
  },
  {
   "cell_type": "markdown",
   "metadata": {},
   "source": [
    "Бросается в глаза большой хвост выбросов для значений от левого уса и до нуля. Для всех суммарных концентраций значения левого уса рассчитаны. Удалим выбросы, попадающие в этот промежуток и подготовим новую выборку без выбросов."
   ]
  },
  {
   "cell_type": "code",
   "execution_count": 41,
   "metadata": {
    "ExecuteTime": {
     "end_time": "2023-05-18T00:52:18.421405800Z",
     "start_time": "2023-05-18T00:52:18.380392900Z"
    }
   },
   "outputs": [
    {
     "data": {
      "text/plain": [
       "(16683, 91)"
      ]
     },
     "execution_count": 41,
     "metadata": {},
     "output_type": "execute_result"
    }
   ],
   "source": [
    "data_full_emission_free = \\\n",
    "data_full[(data_full['rougher.input.feed_sum'] >= feed_left_moustache)\\\n",
    "         &(data_full['rougher_output_concentrate_sum'] >= rougher_left_moustache)\\\n",
    "         &(data_full['primary_cleaner_output_concentrate_sum'] >= primary_left_moustache)\\\n",
    "         &(data_full['final_output_concentrate_sum'] >= final_left_moustache)]\n",
    "data_full_emission_free.shape"
   ]
  },
  {
   "cell_type": "code",
   "execution_count": 42,
   "metadata": {
    "ExecuteTime": {
     "end_time": "2023-05-18T00:52:18.598987700Z",
     "start_time": "2023-05-18T00:52:18.406205100Z"
    }
   },
   "outputs": [],
   "source": [
    "data_train['rougher.input.feed_sum'] = data_train['rougher.input.feed_au'] + \\\n",
    "                            data_train['rougher.input.feed_ag'] + \\\n",
    "                            data_train['rougher.input.feed_pb'] + \\\n",
    "                            data_train['rougher.input.feed_sol']\n",
    "\n",
    "data_train['rougher_output_concentrate_sum'] = data_train['rougher.output.concentrate_au'] + \\\n",
    "                                    data_train['rougher.output.concentrate_ag'] + \\\n",
    "                                    data_train['rougher.output.concentrate_pb'] + \\\n",
    "                                    data_train['rougher.output.concentrate_sol']\n",
    "\n",
    "data_train['primary_cleaner_output_concentrate_sum'] = data_train['primary_cleaner.output.concentrate_au'] + \\\n",
    "                                            data_train['primary_cleaner.output.concentrate_ag'] + \\\n",
    "                                            data_train['primary_cleaner.output.concentrate_pb'] + \\\n",
    "                                            data_train['primary_cleaner.output.concentrate_sol']\n",
    "\n",
    "data_train['final_output_concentrate_sum'] = data_train['final.output.concentrate_au'] + \\\n",
    "                                data_train['final.output.concentrate_ag'] + \\\n",
    "                                data_train['final.output.concentrate_pb'] + \\\n",
    "                                data_train['final.output.concentrate_sol']"
   ]
  },
  {
   "cell_type": "code",
   "execution_count": 43,
   "metadata": {
    "ExecuteTime": {
     "end_time": "2023-05-18T00:52:18.598987700Z",
     "start_time": "2023-05-18T00:52:18.406205100Z"
    }
   },
   "outputs": [
    {
     "data": {
      "text/plain": [
       "(12348, 91)"
      ]
     },
     "execution_count": 43,
     "metadata": {},
     "output_type": "execute_result"
    }
   ],
   "source": [
    "data_train_emission_free = \\\n",
    "data_train[(data_train['rougher.input.feed_sum'] >= feed_left_moustache)\\\n",
    "         &(data_train['rougher_output_concentrate_sum'] >= rougher_left_moustache)\\\n",
    "         &(data_train['primary_cleaner_output_concentrate_sum'] >= primary_left_moustache)\\\n",
    "         &(data_train['final_output_concentrate_sum'] >= final_left_moustache)]\n",
    "data_train_emission_free.shape"
   ]
  },
  {
   "cell_type": "code",
   "execution_count": 44,
   "metadata": {
    "ExecuteTime": {
     "end_time": "2023-05-18T00:52:18.598987700Z",
     "start_time": "2023-05-18T00:52:18.406205100Z"
    }
   },
   "outputs": [],
   "source": [
    "features_columns = list(data_test.columns)[1:-2]\n",
    "target_columns = list(reversed(list(data_test.columns)[-2:]))\n",
    "features_train = data_train_emission_free[features_columns]\n",
    "target_train = data_train_emission_free[target_columns]\n",
    "features_test = data_test[features_columns]\n",
    "target_test = data_test[target_columns]"
   ]
  },
  {
   "cell_type": "markdown",
   "metadata": {},
   "source": [
    "<b> Вывод: </b>\n",
    "На каждом этапе обработки сырья концентрация золота значительно увеличивается. Концентрация золота в отвальных хвостах тоже увеличивается, но при этом на порядок ниже. Концентрация серебра постепенно снижается, а то время как в отвельных хвастах увеличивается. Концентрация свинца на стадиях процесса невелика и незначительно увеличивается, как и концентрация в отвальных хвостах.\n",
    "Сравнивая распределения размеров гранул исходного сырья на обучающей и тестовой выборке, можно сказать, что данные о размере гранул однородны. Также исследованы суммарные концентрации металлов на разных стадиях, удалены выбросы и подготовлены выборки для модели."
   ]
  },
  {
   "cell_type": "markdown",
   "metadata": {},
   "source": [
    "## Модель"
   ]
  },
  {
   "cell_type": "markdown",
   "metadata": {},
   "source": [
    "Функция для вычисления sMAPE"
   ]
  },
  {
   "cell_type": "code",
   "execution_count": 45,
   "metadata": {
    "ExecuteTime": {
     "end_time": "2023-05-18T00:52:18.598987700Z",
     "start_time": "2023-05-18T00:52:18.411720500Z"
    }
   },
   "outputs": [],
   "source": [
    "def smape_func(target, pred):\n",
    "    smape = abs(target-pred)/((abs(target)+abs(pred))/2)*100\n",
    "    smape = smape.fillna(value=0)\n",
    "    smape = np.mean(smape)\n",
    "    return smape"
   ]
  },
  {
   "cell_type": "markdown",
   "metadata": {},
   "source": [
    "Функция для вычисления итоговой sMAPE"
   ]
  },
  {
   "cell_type": "code",
   "execution_count": 46,
   "metadata": {
    "ExecuteTime": {
     "end_time": "2023-05-18T01:35:47.523718600Z",
     "start_time": "2023-05-18T01:35:47.280463800Z"
    }
   },
   "outputs": [],
   "source": [
    "def summary_smape_func(target_rouger, pred_rougher, target_final, pred_final):\n",
    "    smape_rouger = smape_func(target_rouger, pred_rougher)\n",
    "    smape_final = smape_func(target_final, pred_final)\n",
    "    summary_smape = 0.25 * smape_rouger + 0.75 * smape_final\n",
    "    return summary_smape"
   ]
  },
  {
   "cell_type": "code",
   "execution_count": 47,
   "metadata": {
    "ExecuteTime": {
     "end_time": "2023-05-18T00:52:18.598987700Z",
     "start_time": "2023-05-18T00:52:18.421405800Z"
    }
   },
   "outputs": [],
   "source": [
    "def summary_smape(smape_rouger, smape_final):\n",
    "    summary_smape = 0.25 * smape_rouger + 0.75 * smape_final\n",
    "    return summary_smape"
   ]
  },
  {
   "cell_type": "markdown",
   "metadata": {},
   "source": [
    "Обучим разные модели и оценим их качество кросс-валидацией"
   ]
  },
  {
   "cell_type": "markdown",
   "metadata": {},
   "source": [
    "<b> Линейная регрессия </b>"
   ]
  },
  {
   "cell_type": "code",
   "execution_count": 48,
   "metadata": {
    "ExecuteTime": {
     "end_time": "2023-05-18T00:52:18.598987700Z",
     "start_time": "2023-05-18T00:52:18.426694400Z"
    }
   },
   "outputs": [],
   "source": [
    "smape_scorer = make_scorer(smape_func, greater_is_better=False)"
   ]
  },
  {
   "cell_type": "code",
   "execution_count": 49,
   "metadata": {
    "ExecuteTime": {
     "end_time": "2023-05-18T00:52:18.602994200Z",
     "start_time": "2023-05-18T00:52:18.431740Z"
    }
   },
   "outputs": [],
   "source": [
    "# инициируем модель линейной регрессии\n",
    "model_line_reg_rougher = LinearRegression()"
   ]
  },
  {
   "cell_type": "code",
   "execution_count": 50,
   "metadata": {
    "ExecuteTime": {
     "end_time": "2023-05-18T00:52:18.602994200Z",
     "start_time": "2023-05-18T00:52:18.437311600Z"
    }
   },
   "outputs": [
    {
     "name": "stdout",
     "output_type": "stream",
     "text": [
      "Средняя оценка качества sMape_rougher 7.1206\n"
     ]
    }
   ],
   "source": [
    "# оценим модель с помощью кроссвалидации features_train, target_train. Вычислим sMape_rougher\n",
    "scores_line_reg_rougher = cross_val_score(model_line_reg_rougher,  \n",
    "                                          features_train, \n",
    "                                          target_train['rougher.output.recovery'], \n",
    "                                          scoring = smape_scorer,\n",
    "                                          cv = 5)\n",
    "smape_rougher = np.mean(abs(scores_line_reg_rougher))\n",
    "print('Средняя оценка качества sMape_rougher', round(smape_rougher, 4))"
   ]
  },
  {
   "cell_type": "code",
   "execution_count": 51,
   "metadata": {
    "ExecuteTime": {
     "end_time": "2023-05-18T00:52:18.774556200Z",
     "start_time": "2023-05-18T00:52:18.572821900Z"
    }
   },
   "outputs": [
    {
     "name": "stdout",
     "output_type": "stream",
     "text": [
      "Средняя оценка качества sMape_final 8.9855\n"
     ]
    }
   ],
   "source": [
    "# оценим модель с помощью кроссвалидации features_train, target_train. Вычислим score_final\n",
    "scores_line_reg_rougher = cross_val_score(model_line_reg_rougher,  \n",
    "                                          features_train, \n",
    "                                          target_train['final.output.recovery'], \n",
    "                                          scoring = smape_scorer,\n",
    "                                          cv = 5)\n",
    "smape_final = np.mean(abs(scores_line_reg_rougher))\n",
    "print('Средняя оценка качества sMape_final', round(smape_final, 4))"
   ]
  },
  {
   "cell_type": "code",
   "execution_count": 52,
   "metadata": {
    "ExecuteTime": {
     "end_time": "2023-05-18T00:52:18.774556200Z",
     "start_time": "2023-05-18T00:52:18.704329900Z"
    }
   },
   "outputs": [
    {
     "name": "stdout",
     "output_type": "stream",
     "text": [
      "Средняя итоговая оценка качества модели sMape  8.5193\n"
     ]
    }
   ],
   "source": [
    "# вычислим итоговую оценку sMape\n",
    "smape_total = summary_smape(smape_rougher, smape_final)\n",
    "print('Средняя итоговая оценка качества модели sMape ', round(smape_total, 4))"
   ]
  },
  {
   "cell_type": "markdown",
   "metadata": {},
   "source": [
    "<b> Дерево решений </b>"
   ]
  },
  {
   "cell_type": "markdown",
   "metadata": {},
   "source": [
    "Проведем оценку модели дерева решений с заданным параметром глубины 10"
   ]
  },
  {
   "cell_type": "code",
   "execution_count": 53,
   "metadata": {
    "ExecuteTime": {
     "end_time": "2023-05-18T00:52:20.663426600Z",
     "start_time": "2023-05-18T00:52:18.709828900Z"
    }
   },
   "outputs": [
    {
     "name": "stdout",
     "output_type": "stream",
     "text": [
      "Средняя оценка качества smape_rougher 6.8323\n"
     ]
    }
   ],
   "source": [
    "# Проведем оценку для этапа rougher\n",
    "\n",
    "# Инициируем модель дерева решений\n",
    "model_dtree_rougher = DecisionTreeRegressor(random_state=12345, max_depth = 10)\n",
    "\n",
    "# обучим модель\n",
    "model_dtree_rougher.fit(features_train, target_train['rougher.output.recovery'])\n",
    "\n",
    "# оценим модель с помощью кроссвалидации features_train, target_train. Вычислим sMape_rougher\n",
    "scores_dtree_rougher = cross_val_score(model_dtree_rougher,  \n",
    "                                          features_train, \n",
    "                                          target_train['rougher.output.recovery'], \n",
    "                                          scoring = smape_scorer,\n",
    "                                          cv = 5)\n",
    "smape_rougher = np.mean(abs(scores_dtree_rougher))\n",
    "print('Средняя оценка качества smape_rougher', round(smape_rougher, 4))"
   ]
  },
  {
   "cell_type": "code",
   "execution_count": 54,
   "metadata": {
    "ExecuteTime": {
     "end_time": "2023-05-18T00:52:22.681024400Z",
     "start_time": "2023-05-18T00:52:20.667080Z"
    }
   },
   "outputs": [
    {
     "name": "stdout",
     "output_type": "stream",
     "text": [
      "Средняя оценка качества smape_final 13.1035\n"
     ]
    }
   ],
   "source": [
    "# Проведем оценку для этапа final\n",
    "\n",
    "# Инициируем модель дерева решений\n",
    "model_dtree_final = DecisionTreeRegressor(random_state=12345, max_depth = 10)\n",
    "\n",
    "# обучим модель\n",
    "model_dtree_final.fit(features_train, target_train['final.output.recovery'])\n",
    "\n",
    "# оценим модель с помощью кроссвалидации features_train, target_train. Вычислим sMape_rougher\n",
    "scores_dtree_final = cross_val_score(model_dtree_final,  \n",
    "                                          features_train, \n",
    "                                          target_train['final.output.recovery'], \n",
    "                                          scoring = smape_scorer,\n",
    "                                          cv = 5)\n",
    "smape_final = np.mean(abs(scores_dtree_final))\n",
    "print('Средняя оценка качества smape_final', round(smape_final, 4))"
   ]
  },
  {
   "cell_type": "code",
   "execution_count": 55,
   "metadata": {
    "ExecuteTime": {
     "end_time": "2023-05-18T00:52:22.683033300Z",
     "start_time": "2023-05-18T00:52:22.679870700Z"
    }
   },
   "outputs": [
    {
     "name": "stdout",
     "output_type": "stream",
     "text": [
      "Средняя итоговая оценка качества модели sMape 11.5357\n"
     ]
    }
   ],
   "source": [
    "# вычислим итоговую оценку sMape\n",
    "smape_total = summary_smape(smape_rougher, smape_final)\n",
    "print('Средняя итоговая оценка качества модели sMape', round(smape_total, 4))"
   ]
  },
  {
   "cell_type": "markdown",
   "metadata": {},
   "source": [
    "Проведем оценку модели дерева решений но уже с подбором параметра глубины"
   ]
  },
  {
   "cell_type": "code",
   "execution_count": 56,
   "metadata": {
    "ExecuteTime": {
     "end_time": "2023-05-18T00:52:49.069746400Z",
     "start_time": "2023-05-18T00:52:22.683033300Z"
    },
    "scrolled": true
   },
   "outputs": [
    {
     "data": {
      "text/html": [
       "<style>#sk-container-id-1 {color: black;background-color: white;}#sk-container-id-1 pre{padding: 0;}#sk-container-id-1 div.sk-toggleable {background-color: white;}#sk-container-id-1 label.sk-toggleable__label {cursor: pointer;display: block;width: 100%;margin-bottom: 0;padding: 0.3em;box-sizing: border-box;text-align: center;}#sk-container-id-1 label.sk-toggleable__label-arrow:before {content: \"▸\";float: left;margin-right: 0.25em;color: #696969;}#sk-container-id-1 label.sk-toggleable__label-arrow:hover:before {color: black;}#sk-container-id-1 div.sk-estimator:hover label.sk-toggleable__label-arrow:before {color: black;}#sk-container-id-1 div.sk-toggleable__content {max-height: 0;max-width: 0;overflow: hidden;text-align: left;background-color: #f0f8ff;}#sk-container-id-1 div.sk-toggleable__content pre {margin: 0.2em;color: black;border-radius: 0.25em;background-color: #f0f8ff;}#sk-container-id-1 input.sk-toggleable__control:checked~div.sk-toggleable__content {max-height: 200px;max-width: 100%;overflow: auto;}#sk-container-id-1 input.sk-toggleable__control:checked~label.sk-toggleable__label-arrow:before {content: \"▾\";}#sk-container-id-1 div.sk-estimator input.sk-toggleable__control:checked~label.sk-toggleable__label {background-color: #d4ebff;}#sk-container-id-1 div.sk-label input.sk-toggleable__control:checked~label.sk-toggleable__label {background-color: #d4ebff;}#sk-container-id-1 input.sk-hidden--visually {border: 0;clip: rect(1px 1px 1px 1px);clip: rect(1px, 1px, 1px, 1px);height: 1px;margin: -1px;overflow: hidden;padding: 0;position: absolute;width: 1px;}#sk-container-id-1 div.sk-estimator {font-family: monospace;background-color: #f0f8ff;border: 1px dotted black;border-radius: 0.25em;box-sizing: border-box;margin-bottom: 0.5em;}#sk-container-id-1 div.sk-estimator:hover {background-color: #d4ebff;}#sk-container-id-1 div.sk-parallel-item::after {content: \"\";width: 100%;border-bottom: 1px solid gray;flex-grow: 1;}#sk-container-id-1 div.sk-label:hover label.sk-toggleable__label {background-color: #d4ebff;}#sk-container-id-1 div.sk-serial::before {content: \"\";position: absolute;border-left: 1px solid gray;box-sizing: border-box;top: 0;bottom: 0;left: 50%;z-index: 0;}#sk-container-id-1 div.sk-serial {display: flex;flex-direction: column;align-items: center;background-color: white;padding-right: 0.2em;padding-left: 0.2em;position: relative;}#sk-container-id-1 div.sk-item {position: relative;z-index: 1;}#sk-container-id-1 div.sk-parallel {display: flex;align-items: stretch;justify-content: center;background-color: white;position: relative;}#sk-container-id-1 div.sk-item::before, #sk-container-id-1 div.sk-parallel-item::before {content: \"\";position: absolute;border-left: 1px solid gray;box-sizing: border-box;top: 0;bottom: 0;left: 50%;z-index: -1;}#sk-container-id-1 div.sk-parallel-item {display: flex;flex-direction: column;z-index: 1;position: relative;background-color: white;}#sk-container-id-1 div.sk-parallel-item:first-child::after {align-self: flex-end;width: 50%;}#sk-container-id-1 div.sk-parallel-item:last-child::after {align-self: flex-start;width: 50%;}#sk-container-id-1 div.sk-parallel-item:only-child::after {width: 0;}#sk-container-id-1 div.sk-dashed-wrapped {border: 1px dashed gray;margin: 0 0.4em 0.5em 0.4em;box-sizing: border-box;padding-bottom: 0.4em;background-color: white;}#sk-container-id-1 div.sk-label label {font-family: monospace;font-weight: bold;display: inline-block;line-height: 1.2em;}#sk-container-id-1 div.sk-label-container {text-align: center;}#sk-container-id-1 div.sk-container {/* jupyter's `normalize.less` sets `[hidden] { display: none; }` but bootstrap.min.css set `[hidden] { display: none !important; }` so we also need the `!important` here to be able to override the default hidden behavior on the sphinx rendered scikit-learn.org. See: https://github.com/scikit-learn/scikit-learn/issues/21755 */display: inline-block !important;position: relative;}#sk-container-id-1 div.sk-text-repr-fallback {display: none;}</style><div id=\"sk-container-id-1\" class=\"sk-top-container\"><div class=\"sk-text-repr-fallback\"><pre>GridSearchCV(cv=5, estimator=DecisionTreeRegressor(random_state=12345),\n",
       "             param_grid={&#x27;max_depth&#x27;: [1, 3, 5, 7, 9, 11, 13, 15, 17, 19, 21,\n",
       "                                       23, 25, 27, 29]},\n",
       "             scoring=make_scorer(smape_func, greater_is_better=False))</pre><b>In a Jupyter environment, please rerun this cell to show the HTML representation or trust the notebook. <br />On GitHub, the HTML representation is unable to render, please try loading this page with nbviewer.org.</b></div><div class=\"sk-container\" hidden><div class=\"sk-item sk-dashed-wrapped\"><div class=\"sk-label-container\"><div class=\"sk-label sk-toggleable\"><input class=\"sk-toggleable__control sk-hidden--visually\" id=\"sk-estimator-id-1\" type=\"checkbox\" ><label for=\"sk-estimator-id-1\" class=\"sk-toggleable__label sk-toggleable__label-arrow\">GridSearchCV</label><div class=\"sk-toggleable__content\"><pre>GridSearchCV(cv=5, estimator=DecisionTreeRegressor(random_state=12345),\n",
       "             param_grid={&#x27;max_depth&#x27;: [1, 3, 5, 7, 9, 11, 13, 15, 17, 19, 21,\n",
       "                                       23, 25, 27, 29]},\n",
       "             scoring=make_scorer(smape_func, greater_is_better=False))</pre></div></div></div><div class=\"sk-parallel\"><div class=\"sk-parallel-item\"><div class=\"sk-item\"><div class=\"sk-label-container\"><div class=\"sk-label sk-toggleable\"><input class=\"sk-toggleable__control sk-hidden--visually\" id=\"sk-estimator-id-2\" type=\"checkbox\" ><label for=\"sk-estimator-id-2\" class=\"sk-toggleable__label sk-toggleable__label-arrow\">estimator: DecisionTreeRegressor</label><div class=\"sk-toggleable__content\"><pre>DecisionTreeRegressor(random_state=12345)</pre></div></div></div><div class=\"sk-serial\"><div class=\"sk-item\"><div class=\"sk-estimator sk-toggleable\"><input class=\"sk-toggleable__control sk-hidden--visually\" id=\"sk-estimator-id-3\" type=\"checkbox\" ><label for=\"sk-estimator-id-3\" class=\"sk-toggleable__label sk-toggleable__label-arrow\">DecisionTreeRegressor</label><div class=\"sk-toggleable__content\"><pre>DecisionTreeRegressor(random_state=12345)</pre></div></div></div></div></div></div></div></div></div></div>"
      ],
      "text/plain": [
       "GridSearchCV(cv=5, estimator=DecisionTreeRegressor(random_state=12345),\n",
       "             param_grid={'max_depth': [1, 3, 5, 7, 9, 11, 13, 15, 17, 19, 21,\n",
       "                                       23, 25, 27, 29]},\n",
       "             scoring=make_scorer(smape_func, greater_is_better=False))"
      ]
     },
     "execution_count": 56,
     "metadata": {},
     "output_type": "execute_result"
    }
   ],
   "source": [
    "# Проведем оценку модели дерева решений но уже с подбором параметра глубины для этапа rougher\n",
    "# Инициируем модель дерева решений\n",
    "model_dtree_rougher = DecisionTreeRegressor(random_state=12345)\n",
    "# подберем оптимальные параметры глубины дерева\n",
    "parameters = {'max_depth': [x for x in range(1, 30, 2)]}\n",
    "\n",
    "grid_dt_rougher = GridSearchCV(model_dtree_rougher,\n",
    "                               parameters, \n",
    "                               cv=5, \n",
    "                               scoring=smape_scorer)\n",
    "grid_dt_rougher.fit(features_train, target_train['rougher.output.recovery'])"
   ]
  },
  {
   "cell_type": "code",
   "execution_count": 57,
   "metadata": {
    "ExecuteTime": {
     "end_time": "2023-05-18T00:52:49.072428600Z",
     "start_time": "2023-05-18T00:52:49.069746400Z"
    }
   },
   "outputs": [
    {
     "name": "stdout",
     "output_type": "stream",
     "text": [
      "{'max_depth': 3}\n",
      "Значение smape_rougher берем по модулю 6.099\n"
     ]
    }
   ],
   "source": [
    "# Смотрим лучшие параметры по глубине. Значение smape берем по модулю\n",
    "print(grid_dt_rougher.best_params_)\n",
    "print('Значение smape_rougher берем по модулю', abs(round(grid_dt_rougher.best_score_, 3)))"
   ]
  },
  {
   "cell_type": "code",
   "execution_count": 58,
   "metadata": {
    "ExecuteTime": {
     "end_time": "2023-05-18T00:53:17.570474600Z",
     "start_time": "2023-05-18T00:52:49.072428600Z"
    }
   },
   "outputs": [
    {
     "name": "stdout",
     "output_type": "stream",
     "text": [
      "{'max_depth': 1}\n",
      "Значение smape_final берем по модулю 8.19\n"
     ]
    }
   ],
   "source": [
    "# Проведем оценку модели дерева решений, но уже с подбором параметра глубины для этапа final\n",
    "# Инициируем модель дерева решений\n",
    "model_dtree_final = DecisionTreeRegressor(random_state=12345)\n",
    "# подберем оптимальные параметры глубины дерева\n",
    "parameters = {'max_depth': [x for x in range(1, 30, 2)]}\n",
    "\n",
    "grid_dt_final = GridSearchCV(model_dtree_final,\n",
    "                               parameters, \n",
    "                               cv=5, \n",
    "                               scoring=smape_scorer)\n",
    "grid_dt_final.fit(features_train, target_train['final.output.recovery'])\n",
    "\n",
    "# Смотрим лучшие параметры по глубине. Значение smape берем по модулю\n",
    "print(grid_dt_final.best_params_)\n",
    "print('Значение smape_final берем по модулю', abs(round(grid_dt_final.best_score_, 3)))"
   ]
  },
  {
   "cell_type": "code",
   "execution_count": 59,
   "metadata": {
    "ExecuteTime": {
     "end_time": "2023-05-18T00:53:17.577297400Z",
     "start_time": "2023-05-18T00:53:17.573985600Z"
    }
   },
   "outputs": [
    {
     "name": "stdout",
     "output_type": "stream",
     "text": [
      "Средняя итоговая оценка качества модели dtree_smape_total 11.5357\n"
     ]
    }
   ],
   "source": [
    "# вычислим итоговую оценку dtree_smape_total\n",
    "dtree_smape_total = summary_smape(abs(round(grid_dt_rougher.best_score_, 3)), abs(round(grid_dt_final.best_score_, 3)))\n",
    "print('Средняя итоговая оценка качества модели dtree_smape_total', round(smape_total, 4))"
   ]
  },
  {
   "cell_type": "markdown",
   "metadata": {},
   "source": [
    "<b> Случайный лес </b>"
   ]
  },
  {
   "cell_type": "code",
   "execution_count": 60,
   "metadata": {
    "ExecuteTime": {
     "end_time": "2023-05-18T00:53:53.949440700Z",
     "start_time": "2023-05-18T00:53:17.577297400Z"
    }
   },
   "outputs": [
    {
     "name": "stdout",
     "output_type": "stream",
     "text": [
      "Средняя оценка качества модели final_score_rf_rougher 5.9321\n"
     ]
    }
   ],
   "source": [
    "# Проведем оценку модели случайного леса с заданными параметрами для этапа rougher\n",
    "#  инициируем модель случайного леса\n",
    "model_rf_rougher = RandomForestRegressor(random_state=12345, max_depth = 10, n_estimators=20)\n",
    "\n",
    "# оценим модель с помощью кроссвалидации features_train, target_train\n",
    "scores_rf_rougher = cross_val_score(model_rf_rougher,\n",
    "                                    features_train, \n",
    "                                    target_train['rougher.output.recovery'],\n",
    "                                    scoring=smape_scorer,\n",
    "                                    cv = 5)\n",
    "smape_rf_rougher = np.mean(abs(scores_rf_rougher))\n",
    "print('Средняя оценка качества модели final_score_rf_rougher', round(smape_rf_rougher, 4))"
   ]
  },
  {
   "cell_type": "code",
   "execution_count": 61,
   "metadata": {
    "ExecuteTime": {
     "end_time": "2023-05-18T00:54:30.462970100Z",
     "start_time": "2023-05-18T00:53:53.949440700Z"
    }
   },
   "outputs": [
    {
     "name": "stdout",
     "output_type": "stream",
     "text": [
      "Средняя оценка качества модели final_score_rf_rougher 9.1483\n"
     ]
    }
   ],
   "source": [
    "# Проведем оценку модели случайного леса с заданными параметрами для этапа final\n",
    "#  инициируем модель случайного леса\n",
    "model_rf_final = RandomForestRegressor(random_state=12345, max_depth = 10, n_estimators=20)\n",
    "\n",
    "# оценим модель с помощью кроссвалидации features_train, target_train\n",
    "scores_rf_final = cross_val_score(model_rf_final,\n",
    "                                    features_train, \n",
    "                                    target_train['final.output.recovery'],\n",
    "                                    scoring=smape_scorer,\n",
    "                                    cv = 5)\n",
    "smape_rf_final = np.mean(abs(scores_rf_final))\n",
    "print('Средняя оценка качества модели final_score_rf_rougher', round(smape_rf_final, 4))"
   ]
  },
  {
   "cell_type": "code",
   "execution_count": 62,
   "metadata": {
    "ExecuteTime": {
     "end_time": "2023-05-18T00:54:30.468127100Z",
     "start_time": "2023-05-18T00:54:30.462970100Z"
    }
   },
   "outputs": [
    {
     "name": "stdout",
     "output_type": "stream",
     "text": [
      "Средняя итоговая оценка качества модели smape_rf_total 8.3443\n"
     ]
    }
   ],
   "source": [
    "# вычислим итоговую оценку smape_rf_total \n",
    "smape_rf_total = summary_smape(smape_rf_rougher, smape_rf_final)\n",
    "print('Средняя итоговая оценка качества модели smape_rf_total', round(smape_rf_total, 4))"
   ]
  },
  {
   "cell_type": "code",
   "execution_count": 63,
   "metadata": {
    "ExecuteTime": {
     "end_time": "2023-05-18T01:27:33.678707400Z",
     "start_time": "2023-05-18T01:25:17.791499700Z"
    }
   },
   "outputs": [
    {
     "data": {
      "text/html": [
       "<style>#sk-container-id-2 {color: black;background-color: white;}#sk-container-id-2 pre{padding: 0;}#sk-container-id-2 div.sk-toggleable {background-color: white;}#sk-container-id-2 label.sk-toggleable__label {cursor: pointer;display: block;width: 100%;margin-bottom: 0;padding: 0.3em;box-sizing: border-box;text-align: center;}#sk-container-id-2 label.sk-toggleable__label-arrow:before {content: \"▸\";float: left;margin-right: 0.25em;color: #696969;}#sk-container-id-2 label.sk-toggleable__label-arrow:hover:before {color: black;}#sk-container-id-2 div.sk-estimator:hover label.sk-toggleable__label-arrow:before {color: black;}#sk-container-id-2 div.sk-toggleable__content {max-height: 0;max-width: 0;overflow: hidden;text-align: left;background-color: #f0f8ff;}#sk-container-id-2 div.sk-toggleable__content pre {margin: 0.2em;color: black;border-radius: 0.25em;background-color: #f0f8ff;}#sk-container-id-2 input.sk-toggleable__control:checked~div.sk-toggleable__content {max-height: 200px;max-width: 100%;overflow: auto;}#sk-container-id-2 input.sk-toggleable__control:checked~label.sk-toggleable__label-arrow:before {content: \"▾\";}#sk-container-id-2 div.sk-estimator input.sk-toggleable__control:checked~label.sk-toggleable__label {background-color: #d4ebff;}#sk-container-id-2 div.sk-label input.sk-toggleable__control:checked~label.sk-toggleable__label {background-color: #d4ebff;}#sk-container-id-2 input.sk-hidden--visually {border: 0;clip: rect(1px 1px 1px 1px);clip: rect(1px, 1px, 1px, 1px);height: 1px;margin: -1px;overflow: hidden;padding: 0;position: absolute;width: 1px;}#sk-container-id-2 div.sk-estimator {font-family: monospace;background-color: #f0f8ff;border: 1px dotted black;border-radius: 0.25em;box-sizing: border-box;margin-bottom: 0.5em;}#sk-container-id-2 div.sk-estimator:hover {background-color: #d4ebff;}#sk-container-id-2 div.sk-parallel-item::after {content: \"\";width: 100%;border-bottom: 1px solid gray;flex-grow: 1;}#sk-container-id-2 div.sk-label:hover label.sk-toggleable__label {background-color: #d4ebff;}#sk-container-id-2 div.sk-serial::before {content: \"\";position: absolute;border-left: 1px solid gray;box-sizing: border-box;top: 0;bottom: 0;left: 50%;z-index: 0;}#sk-container-id-2 div.sk-serial {display: flex;flex-direction: column;align-items: center;background-color: white;padding-right: 0.2em;padding-left: 0.2em;position: relative;}#sk-container-id-2 div.sk-item {position: relative;z-index: 1;}#sk-container-id-2 div.sk-parallel {display: flex;align-items: stretch;justify-content: center;background-color: white;position: relative;}#sk-container-id-2 div.sk-item::before, #sk-container-id-2 div.sk-parallel-item::before {content: \"\";position: absolute;border-left: 1px solid gray;box-sizing: border-box;top: 0;bottom: 0;left: 50%;z-index: -1;}#sk-container-id-2 div.sk-parallel-item {display: flex;flex-direction: column;z-index: 1;position: relative;background-color: white;}#sk-container-id-2 div.sk-parallel-item:first-child::after {align-self: flex-end;width: 50%;}#sk-container-id-2 div.sk-parallel-item:last-child::after {align-self: flex-start;width: 50%;}#sk-container-id-2 div.sk-parallel-item:only-child::after {width: 0;}#sk-container-id-2 div.sk-dashed-wrapped {border: 1px dashed gray;margin: 0 0.4em 0.5em 0.4em;box-sizing: border-box;padding-bottom: 0.4em;background-color: white;}#sk-container-id-2 div.sk-label label {font-family: monospace;font-weight: bold;display: inline-block;line-height: 1.2em;}#sk-container-id-2 div.sk-label-container {text-align: center;}#sk-container-id-2 div.sk-container {/* jupyter's `normalize.less` sets `[hidden] { display: none; }` but bootstrap.min.css set `[hidden] { display: none !important; }` so we also need the `!important` here to be able to override the default hidden behavior on the sphinx rendered scikit-learn.org. See: https://github.com/scikit-learn/scikit-learn/issues/21755 */display: inline-block !important;position: relative;}#sk-container-id-2 div.sk-text-repr-fallback {display: none;}</style><div id=\"sk-container-id-2\" class=\"sk-top-container\"><div class=\"sk-text-repr-fallback\"><pre>GridSearchCV(cv=5, estimator=RandomForestRegressor(random_state=12345),\n",
       "             n_jobs=-1,\n",
       "             param_grid={&#x27;max_depth&#x27;: [2, 5, 8, 11],\n",
       "                         &#x27;n_estimators&#x27;: [5, 10, 15, 20, 25, 30, 35, 40, 45,\n",
       "                                          50]},\n",
       "             scoring=make_scorer(smape_func, greater_is_better=False))</pre><b>In a Jupyter environment, please rerun this cell to show the HTML representation or trust the notebook. <br />On GitHub, the HTML representation is unable to render, please try loading this page with nbviewer.org.</b></div><div class=\"sk-container\" hidden><div class=\"sk-item sk-dashed-wrapped\"><div class=\"sk-label-container\"><div class=\"sk-label sk-toggleable\"><input class=\"sk-toggleable__control sk-hidden--visually\" id=\"sk-estimator-id-4\" type=\"checkbox\" ><label for=\"sk-estimator-id-4\" class=\"sk-toggleable__label sk-toggleable__label-arrow\">GridSearchCV</label><div class=\"sk-toggleable__content\"><pre>GridSearchCV(cv=5, estimator=RandomForestRegressor(random_state=12345),\n",
       "             n_jobs=-1,\n",
       "             param_grid={&#x27;max_depth&#x27;: [2, 5, 8, 11],\n",
       "                         &#x27;n_estimators&#x27;: [5, 10, 15, 20, 25, 30, 35, 40, 45,\n",
       "                                          50]},\n",
       "             scoring=make_scorer(smape_func, greater_is_better=False))</pre></div></div></div><div class=\"sk-parallel\"><div class=\"sk-parallel-item\"><div class=\"sk-item\"><div class=\"sk-label-container\"><div class=\"sk-label sk-toggleable\"><input class=\"sk-toggleable__control sk-hidden--visually\" id=\"sk-estimator-id-5\" type=\"checkbox\" ><label for=\"sk-estimator-id-5\" class=\"sk-toggleable__label sk-toggleable__label-arrow\">estimator: RandomForestRegressor</label><div class=\"sk-toggleable__content\"><pre>RandomForestRegressor(random_state=12345)</pre></div></div></div><div class=\"sk-serial\"><div class=\"sk-item\"><div class=\"sk-estimator sk-toggleable\"><input class=\"sk-toggleable__control sk-hidden--visually\" id=\"sk-estimator-id-6\" type=\"checkbox\" ><label for=\"sk-estimator-id-6\" class=\"sk-toggleable__label sk-toggleable__label-arrow\">RandomForestRegressor</label><div class=\"sk-toggleable__content\"><pre>RandomForestRegressor(random_state=12345)</pre></div></div></div></div></div></div></div></div></div></div>"
      ],
      "text/plain": [
       "GridSearchCV(cv=5, estimator=RandomForestRegressor(random_state=12345),\n",
       "             n_jobs=-1,\n",
       "             param_grid={'max_depth': [2, 5, 8, 11],\n",
       "                         'n_estimators': [5, 10, 15, 20, 25, 30, 35, 40, 45,\n",
       "                                          50]},\n",
       "             scoring=make_scorer(smape_func, greater_is_better=False))"
      ]
     },
     "execution_count": 63,
     "metadata": {},
     "output_type": "execute_result"
    }
   ],
   "source": [
    "# Проведем оценку модели случайного леса с подбором параметров для этапа rougher\n",
    "\n",
    "#  инициируем модель случайного леса\n",
    "model_rf_rougher = RandomForestRegressor(random_state=12345)\n",
    "\n",
    "# подберем оптимальные параметры глубины дерева\n",
    "parameters = { 'max_depth': [x for x in range(2, 12, 3)],\n",
    "               'n_estimators': [x for x in range(5, 52, 5)]\n",
    "               }\n",
    "\n",
    "grid_rf_rougher = GridSearchCV(model_rf_rougher, \n",
    "                               parameters, \n",
    "                               cv=5,\n",
    "                               scoring=smape_scorer,\n",
    "                               n_jobs=-1\n",
    "                              )\n",
    "grid_rf_rougher.fit(features_train, target_train['rougher.output.recovery'])"
   ]
  },
  {
   "cell_type": "code",
   "execution_count": 64,
   "metadata": {
    "ExecuteTime": {
     "end_time": "2023-05-18T01:27:33.679411100Z",
     "start_time": "2023-05-18T01:27:33.675184Z"
    }
   },
   "outputs": [
    {
     "name": "stdout",
     "output_type": "stream",
     "text": [
      "Лучшие параметры:  {'max_depth': 5, 'n_estimators': 20}\n",
      "smape_rougher 5.859\n"
     ]
    }
   ],
   "source": [
    "print('Лучшие параметры: ', grid_rf_rougher.best_params_)\n",
    "print('smape_rougher', abs(round(grid_rf_rougher.best_score_, 3)))"
   ]
  },
  {
   "cell_type": "code",
   "execution_count": 65,
   "metadata": {
    "ExecuteTime": {
     "end_time": "2023-05-18T01:29:50.497558900Z",
     "start_time": "2023-05-18T01:27:33.679411100Z"
    }
   },
   "outputs": [
    {
     "data": {
      "text/html": [
       "<style>#sk-container-id-3 {color: black;background-color: white;}#sk-container-id-3 pre{padding: 0;}#sk-container-id-3 div.sk-toggleable {background-color: white;}#sk-container-id-3 label.sk-toggleable__label {cursor: pointer;display: block;width: 100%;margin-bottom: 0;padding: 0.3em;box-sizing: border-box;text-align: center;}#sk-container-id-3 label.sk-toggleable__label-arrow:before {content: \"▸\";float: left;margin-right: 0.25em;color: #696969;}#sk-container-id-3 label.sk-toggleable__label-arrow:hover:before {color: black;}#sk-container-id-3 div.sk-estimator:hover label.sk-toggleable__label-arrow:before {color: black;}#sk-container-id-3 div.sk-toggleable__content {max-height: 0;max-width: 0;overflow: hidden;text-align: left;background-color: #f0f8ff;}#sk-container-id-3 div.sk-toggleable__content pre {margin: 0.2em;color: black;border-radius: 0.25em;background-color: #f0f8ff;}#sk-container-id-3 input.sk-toggleable__control:checked~div.sk-toggleable__content {max-height: 200px;max-width: 100%;overflow: auto;}#sk-container-id-3 input.sk-toggleable__control:checked~label.sk-toggleable__label-arrow:before {content: \"▾\";}#sk-container-id-3 div.sk-estimator input.sk-toggleable__control:checked~label.sk-toggleable__label {background-color: #d4ebff;}#sk-container-id-3 div.sk-label input.sk-toggleable__control:checked~label.sk-toggleable__label {background-color: #d4ebff;}#sk-container-id-3 input.sk-hidden--visually {border: 0;clip: rect(1px 1px 1px 1px);clip: rect(1px, 1px, 1px, 1px);height: 1px;margin: -1px;overflow: hidden;padding: 0;position: absolute;width: 1px;}#sk-container-id-3 div.sk-estimator {font-family: monospace;background-color: #f0f8ff;border: 1px dotted black;border-radius: 0.25em;box-sizing: border-box;margin-bottom: 0.5em;}#sk-container-id-3 div.sk-estimator:hover {background-color: #d4ebff;}#sk-container-id-3 div.sk-parallel-item::after {content: \"\";width: 100%;border-bottom: 1px solid gray;flex-grow: 1;}#sk-container-id-3 div.sk-label:hover label.sk-toggleable__label {background-color: #d4ebff;}#sk-container-id-3 div.sk-serial::before {content: \"\";position: absolute;border-left: 1px solid gray;box-sizing: border-box;top: 0;bottom: 0;left: 50%;z-index: 0;}#sk-container-id-3 div.sk-serial {display: flex;flex-direction: column;align-items: center;background-color: white;padding-right: 0.2em;padding-left: 0.2em;position: relative;}#sk-container-id-3 div.sk-item {position: relative;z-index: 1;}#sk-container-id-3 div.sk-parallel {display: flex;align-items: stretch;justify-content: center;background-color: white;position: relative;}#sk-container-id-3 div.sk-item::before, #sk-container-id-3 div.sk-parallel-item::before {content: \"\";position: absolute;border-left: 1px solid gray;box-sizing: border-box;top: 0;bottom: 0;left: 50%;z-index: -1;}#sk-container-id-3 div.sk-parallel-item {display: flex;flex-direction: column;z-index: 1;position: relative;background-color: white;}#sk-container-id-3 div.sk-parallel-item:first-child::after {align-self: flex-end;width: 50%;}#sk-container-id-3 div.sk-parallel-item:last-child::after {align-self: flex-start;width: 50%;}#sk-container-id-3 div.sk-parallel-item:only-child::after {width: 0;}#sk-container-id-3 div.sk-dashed-wrapped {border: 1px dashed gray;margin: 0 0.4em 0.5em 0.4em;box-sizing: border-box;padding-bottom: 0.4em;background-color: white;}#sk-container-id-3 div.sk-label label {font-family: monospace;font-weight: bold;display: inline-block;line-height: 1.2em;}#sk-container-id-3 div.sk-label-container {text-align: center;}#sk-container-id-3 div.sk-container {/* jupyter's `normalize.less` sets `[hidden] { display: none; }` but bootstrap.min.css set `[hidden] { display: none !important; }` so we also need the `!important` here to be able to override the default hidden behavior on the sphinx rendered scikit-learn.org. See: https://github.com/scikit-learn/scikit-learn/issues/21755 */display: inline-block !important;position: relative;}#sk-container-id-3 div.sk-text-repr-fallback {display: none;}</style><div id=\"sk-container-id-3\" class=\"sk-top-container\"><div class=\"sk-text-repr-fallback\"><pre>GridSearchCV(cv=5, estimator=RandomForestRegressor(random_state=12345),\n",
       "             n_jobs=-1,\n",
       "             param_grid={&#x27;max_depth&#x27;: [2, 5, 8, 11],\n",
       "                         &#x27;n_estimators&#x27;: [5, 10, 15, 20, 25, 30, 35, 40, 45,\n",
       "                                          50]},\n",
       "             scoring=make_scorer(smape_func, greater_is_better=False))</pre><b>In a Jupyter environment, please rerun this cell to show the HTML representation or trust the notebook. <br />On GitHub, the HTML representation is unable to render, please try loading this page with nbviewer.org.</b></div><div class=\"sk-container\" hidden><div class=\"sk-item sk-dashed-wrapped\"><div class=\"sk-label-container\"><div class=\"sk-label sk-toggleable\"><input class=\"sk-toggleable__control sk-hidden--visually\" id=\"sk-estimator-id-7\" type=\"checkbox\" ><label for=\"sk-estimator-id-7\" class=\"sk-toggleable__label sk-toggleable__label-arrow\">GridSearchCV</label><div class=\"sk-toggleable__content\"><pre>GridSearchCV(cv=5, estimator=RandomForestRegressor(random_state=12345),\n",
       "             n_jobs=-1,\n",
       "             param_grid={&#x27;max_depth&#x27;: [2, 5, 8, 11],\n",
       "                         &#x27;n_estimators&#x27;: [5, 10, 15, 20, 25, 30, 35, 40, 45,\n",
       "                                          50]},\n",
       "             scoring=make_scorer(smape_func, greater_is_better=False))</pre></div></div></div><div class=\"sk-parallel\"><div class=\"sk-parallel-item\"><div class=\"sk-item\"><div class=\"sk-label-container\"><div class=\"sk-label sk-toggleable\"><input class=\"sk-toggleable__control sk-hidden--visually\" id=\"sk-estimator-id-8\" type=\"checkbox\" ><label for=\"sk-estimator-id-8\" class=\"sk-toggleable__label sk-toggleable__label-arrow\">estimator: RandomForestRegressor</label><div class=\"sk-toggleable__content\"><pre>RandomForestRegressor(random_state=12345)</pre></div></div></div><div class=\"sk-serial\"><div class=\"sk-item\"><div class=\"sk-estimator sk-toggleable\"><input class=\"sk-toggleable__control sk-hidden--visually\" id=\"sk-estimator-id-9\" type=\"checkbox\" ><label for=\"sk-estimator-id-9\" class=\"sk-toggleable__label sk-toggleable__label-arrow\">RandomForestRegressor</label><div class=\"sk-toggleable__content\"><pre>RandomForestRegressor(random_state=12345)</pre></div></div></div></div></div></div></div></div></div></div>"
      ],
      "text/plain": [
       "GridSearchCV(cv=5, estimator=RandomForestRegressor(random_state=12345),\n",
       "             n_jobs=-1,\n",
       "             param_grid={'max_depth': [2, 5, 8, 11],\n",
       "                         'n_estimators': [5, 10, 15, 20, 25, 30, 35, 40, 45,\n",
       "                                          50]},\n",
       "             scoring=make_scorer(smape_func, greater_is_better=False))"
      ]
     },
     "execution_count": 65,
     "metadata": {},
     "output_type": "execute_result"
    }
   ],
   "source": [
    "# Проведем оценку модели случайного леса с подбором параметров для этапа final\n",
    "\n",
    "#  инициируем модель случайного леса\n",
    "model_rf_final = RandomForestRegressor(random_state=12345)\n",
    "\n",
    "# подберем оптимальные параметры глубины дерева\n",
    "parameters = { 'max_depth': [x for x in range(2, 12, 3)],\n",
    "               'n_estimators': [x for x in range(5, 52, 5)]\n",
    "             }\n",
    "\n",
    "grid_rf_final = GridSearchCV(model_rf_final, \n",
    "                               parameters, \n",
    "                               cv=5, \n",
    "                               scoring=smape_scorer,\n",
    "                               n_jobs=-1\n",
    "                              )\n",
    "grid_rf_final.fit(features_train, target_train['final.output.recovery'])"
   ]
  },
  {
   "cell_type": "code",
   "execution_count": 66,
   "metadata": {
    "ExecuteTime": {
     "end_time": "2023-05-18T01:29:50.501763500Z",
     "start_time": "2023-05-18T01:29:50.493908300Z"
    }
   },
   "outputs": [
    {
     "name": "stdout",
     "output_type": "stream",
     "text": [
      "Лучшие параметры:  {'max_depth': 2, 'n_estimators': 50}\n",
      "smape_rougher 8.136\n"
     ]
    }
   ],
   "source": [
    "print('Лучшие параметры: ', grid_rf_final.best_params_)\n",
    "print('smape_rougher', round(abs(grid_rf_final.best_score_), 3))"
   ]
  },
  {
   "cell_type": "code",
   "execution_count": 67,
   "metadata": {
    "ExecuteTime": {
     "end_time": "2023-05-18T01:29:50.509956800Z",
     "start_time": "2023-05-18T01:29:50.500697Z"
    }
   },
   "outputs": [
    {
     "name": "stdout",
     "output_type": "stream",
     "text": [
      "Средняя итоговая оценка качества модели smape_rf_total 7.5667\n"
     ]
    }
   ],
   "source": [
    "# вычислим итоговую оценку smape_rf_total с учётом подбора параметров \n",
    "\n",
    "smape_rf_total = summary_smape(abs(round(grid_rf_rougher.best_score_, 3)), abs(round(grid_rf_final.best_score_, 3)))\n",
    "print('Средняя итоговая оценка качества модели smape_rf_total', round(smape_rf_total, 4))"
   ]
  },
  {
   "cell_type": "markdown",
   "metadata": {},
   "source": [
    "Для дальнешего прогнозирования выбираем модель случайного леса с параметрами\n",
    "\n",
    "1. для этапа rougher глубина 5, количество деревьев 20.\n",
    "2. для этапа final глубина 2, количество деревьев 50.\n",
    "\n",
    "Эти параметры позволяют получить на кросс-валидации показатель smape равный 7.5667\n"
   ]
  },
  {
   "cell_type": "markdown",
   "metadata": {},
   "source": [
    "<b> Расчёт по выбранной модели </b>"
   ]
  },
  {
   "cell_type": "markdown",
   "metadata": {},
   "source": [
    "Теперь мы можем выполнить расчёт параметра smape на тестовых данных"
   ]
  },
  {
   "cell_type": "code",
   "execution_count": 68,
   "metadata": {
    "ExecuteTime": {
     "end_time": "2023-05-18T01:33:27.230701500Z",
     "start_time": "2023-05-18T01:33:27.207185400Z"
    }
   },
   "outputs": [],
   "source": [
    "def rf_model(features_train, target_train, features_test, depth, estimators):\n",
    "    # метод прогнозирования целевого признаки на случайном лесе\n",
    "\n",
    "    # инициируем модель с лучшими параметрами\n",
    "    model_rf = RandomForestRegressor(random_state=12345, max_depth = depth, n_estimators=estimators)\n",
    "    # обучим модель\n",
    "    model_rf.fit(features_train, target_train)\n",
    "    # подготовим прогноз целевого признака\n",
    "    pred_test_rf = model_rf.predict(features_test)\n",
    "\n",
    "    return pred_test_rf"
   ]
  },
  {
   "cell_type": "code",
   "execution_count": 69,
   "metadata": {
    "ExecuteTime": {
     "end_time": "2023-05-18T01:34:07.524236800Z",
     "start_time": "2023-05-18T01:33:29.171770200Z"
    }
   },
   "outputs": [],
   "source": [
    "# спрогнозируем эффективность для этапа rougher\n",
    "pred_test_rougher = rf_model(features_train, target_train['rougher.output.recovery'], features_test, 5, 150)"
   ]
  },
  {
   "cell_type": "code",
   "execution_count": 70,
   "metadata": {
    "ExecuteTime": {
     "end_time": "2023-05-18T01:34:59.380078100Z",
     "start_time": "2023-05-18T01:34:06.445939Z"
    }
   },
   "outputs": [],
   "source": [
    "# спрогнозируем эффективность для этапа final\n",
    "pred_test_final = rf_model(features_train, target_train['final.output.recovery'], features_test, 5, 200)"
   ]
  },
  {
   "cell_type": "code",
   "execution_count": 71,
   "metadata": {
    "ExecuteTime": {
     "end_time": "2023-05-18T01:35:53.873489900Z",
     "start_time": "2023-05-18T01:35:53.855952900Z"
    }
   },
   "outputs": [],
   "source": [
    "# рассчитаем smape на тестовых данных\n",
    "smape_test = summary_smape_func(target_test['rougher.output.recovery'],\n",
    "                                pred_test_rougher,\n",
    "                                target_test['final.output.recovery'],\n",
    "                                pred_test_final\n",
    "                                )"
   ]
  },
  {
   "cell_type": "code",
   "execution_count": 72,
   "metadata": {
    "ExecuteTime": {
     "end_time": "2023-05-18T01:35:56.918297Z",
     "start_time": "2023-05-18T01:35:56.898822800Z"
    }
   },
   "outputs": [
    {
     "name": "stdout",
     "output_type": "stream",
     "text": [
      "Итоговая оценка smape на тестовых данных равна 6.37\n"
     ]
    }
   ],
   "source": [
    "print('Итоговая оценка smape на тестовых данных равна', round(smape_test, 2))"
   ]
  },
  {
   "cell_type": "markdown",
   "metadata": {},
   "source": [
    "<b> Проверка модели на адекватность </b>"
   ]
  },
  {
   "cell_type": "code",
   "execution_count": 73,
   "metadata": {
    "ExecuteTime": {
     "end_time": "2023-05-18T01:36:15.672618600Z",
     "start_time": "2023-05-18T01:36:15.626886100Z"
    }
   },
   "outputs": [],
   "source": [
    "def const_model(features_train, target_train, features_test):\n",
    "    # метод прогнозирования целевого признаки на константной модели\n",
    "\n",
    "    # инициируем модель с лучшими параметрами\n",
    "    dummy_regr = DummyRegressor(strategy=\"mean\")\n",
    "    # обучим модель\n",
    "    dummy_regr.fit(features_train, target_train)\n",
    "    # подготовим прогноз целевого признака\n",
    "    pred_test = dummy_regr.predict(features_test)\n",
    "    return pred_test"
   ]
  },
  {
   "cell_type": "code",
   "execution_count": 74,
   "metadata": {
    "ExecuteTime": {
     "end_time": "2023-05-18T01:36:30.392391600Z",
     "start_time": "2023-05-18T01:36:30.357189800Z"
    }
   },
   "outputs": [],
   "source": [
    "# построим прогноз константной модели для этапа rougher\n",
    "pred_test_rougher_const = const_model(features_train, target_train['rougher.output.recovery'], features_test)"
   ]
  },
  {
   "cell_type": "code",
   "execution_count": 75,
   "metadata": {
    "ExecuteTime": {
     "end_time": "2023-05-18T01:36:44.210599500Z",
     "start_time": "2023-05-18T01:36:44.169918500Z"
    }
   },
   "outputs": [],
   "source": [
    "# построим прогноз константной модели для этапа final\n",
    "pred_test_final_const = const_model(features_train, target_train['final.output.recovery'], features_test)"
   ]
  },
  {
   "cell_type": "code",
   "execution_count": 76,
   "metadata": {
    "ExecuteTime": {
     "end_time": "2023-05-18T01:36:57.491587500Z",
     "start_time": "2023-05-18T01:36:57.464964600Z"
    }
   },
   "outputs": [],
   "source": [
    "# рассчитаем smape на тестовых данных\n",
    "smape_test_const = summary_smape_func(target_test['rougher.output.recovery'],\n",
    "                                      pred_test_rougher_const,\n",
    "                                      target_test['final.output.recovery'],\n",
    "                                      pred_test_final_const\n",
    "                                      )"
   ]
  },
  {
   "cell_type": "code",
   "execution_count": 77,
   "metadata": {
    "ExecuteTime": {
     "end_time": "2023-05-18T01:37:11.044207600Z",
     "start_time": "2023-05-18T01:37:10.869136700Z"
    }
   },
   "outputs": [
    {
     "name": "stdout",
     "output_type": "stream",
     "text": [
      "Итоговая оценка smape константной модели на тестовых данных равна 8.347\n"
     ]
    }
   ],
   "source": [
    "print('Итоговая оценка smape константной модели на тестовых данных равна', round(smape_test_const, 3))"
   ]
  },
  {
   "cell_type": "markdown",
   "metadata": {},
   "source": [
    "<b> Вывод </b>\n",
    "\n",
    "В рамках предобработки данных проекта, изучены загруженные файлы.\n",
    "Проверен расчёт эффективности обогащения. Вычислено значение MAE между данными и расчётными значениями эффективности. Полученные значения МАЕ близки к 0. Это означаем, что эффективность обогащения рассчитана правильно.\n",
    "Проанализированы поля недоступные в тестовой выборке, где отсутствуют целевые признаки для моделей 'rougher.output.recovery', 'final.output.recovery', а также значения output по всем операциям по всем элементам. Это концентрации элементов после основных операций. Это фактические даные, которые мы можем получить только по факту реальных измерений. А задача ML-модели получение прогноза. Поэтому в реальности у нас и не должно быть этих данных в файле test.\n",
    "Проведена проверка на дубликаты. Обработаны пропуски.\n",
    "Анализ концентрации металлов показал, что концентрация золота значительно увеличивается на каждом этапе обработки сырья. Концентрация золота в отвальных хвостах тоже увеличивается, но при этом на порядок ниже чем в сырье. На всех графиках концентрации сырья видны значения равные нулю. Судя по распределению, это выбросы.\n",
    "Построены графики распределения плотности вероятности значений размеров гранул на входе в этапы флотации и финальной очистки выборок train и test Сами распределения похожи, что говорит об однородности данных размеров сырья в выборках train и test.\n",
    "Исследована суммарная концентрация всех веществ на разных стадиях.\n",
    "Бросается в глаза большой хвост выбросов для значений от левого уса до нуля. Для всех суммарных концентраций значения левого уса рассчитаны. Удалены выбросы попадающие в этот промежуток.\n",
    "Подготовлены датафреймы для прогнозирования features, target\n",
    "Описана функция для вычисления итоговой sMAPE.\n",
    "На данных train обучены модели линейной регрессии, дерева решений, а также случайного леса. Проведена оценка каждой модели. В результате для дальнейшего прогнозирования выбрана модель случайного леса с параметрами:\n",
    "\n",
    "Для дальнейшего прогнозирования выбираем модель случайного леса с параметрами:\n",
    "\n",
    "1. для этапа rougher глубина 5, количество деревьев 20.\n",
    "2. для этапа final глубина 2, количество деревьев 50.\n",
    "\n",
    "Эти параметры позволяют получить на кросс-валидации показатель smape равный 7.5667\n",
    "\n",
    "Итоговый расчёт на тестовых данных выбранной модели случайного леса позволил получить прогноз целевых признаков концентрации золота для этапа флотации и финальной очистки с показателем smape равным 6.37.\n",
    "\n",
    "Проведена проверка модели на адекватность. Итоговая оценка smape константной модели на тестовых данных равна 8.347"
   ]
  }
 ],
 "metadata": {
  "ExecuteTimeLog": [
   {
    "duration": 982,
    "start_time": "2023-05-17T17:57:57.058Z"
   },
   {
    "duration": 122,
    "start_time": "2023-05-17T17:58:44.346Z"
   },
   {
    "duration": 2201,
    "start_time": "2023-05-17T17:58:58.504Z"
   },
   {
    "duration": 8,
    "start_time": "2023-05-17T17:59:37.508Z"
   },
   {
    "duration": 19,
    "start_time": "2023-05-17T18:00:07.598Z"
   },
   {
    "duration": 17,
    "start_time": "2023-05-17T18:00:19.422Z"
   },
   {
    "duration": 12,
    "start_time": "2023-05-17T18:00:28.355Z"
   },
   {
    "duration": 4,
    "start_time": "2023-05-17T18:01:16.932Z"
   },
   {
    "duration": 22,
    "start_time": "2023-05-17T18:02:05.904Z"
   },
   {
    "duration": 6,
    "start_time": "2023-05-17T18:03:23.752Z"
   },
   {
    "duration": 4,
    "start_time": "2023-05-17T18:03:47.218Z"
   },
   {
    "duration": 13,
    "start_time": "2023-05-17T18:04:38.192Z"
   },
   {
    "duration": 93,
    "start_time": "2023-05-17T18:06:24.301Z"
   },
   {
    "duration": 129,
    "start_time": "2023-05-17T18:06:32.693Z"
   },
   {
    "duration": 20,
    "start_time": "2023-05-17T18:06:39.042Z"
   },
   {
    "duration": 54,
    "start_time": "2023-05-17T18:25:31.738Z"
   },
   {
    "duration": 10,
    "start_time": "2023-05-17T18:30:31.732Z"
   },
   {
    "duration": 14,
    "start_time": "2023-05-17T18:32:18.448Z"
   },
   {
    "duration": 10,
    "start_time": "2023-05-17T18:37:00.002Z"
   },
   {
    "duration": 9,
    "start_time": "2023-05-17T18:37:14.228Z"
   },
   {
    "duration": 7,
    "start_time": "2023-05-17T18:37:28.123Z"
   },
   {
    "duration": 15,
    "start_time": "2023-05-17T18:41:32.634Z"
   },
   {
    "duration": 15,
    "start_time": "2023-05-17T18:41:42.790Z"
   },
   {
    "duration": 33,
    "start_time": "2023-05-17T18:42:21.597Z"
   },
   {
    "duration": 14,
    "start_time": "2023-05-17T18:42:23.524Z"
   },
   {
    "duration": 51,
    "start_time": "2023-05-17T18:42:53.698Z"
   },
   {
    "duration": 14,
    "start_time": "2023-05-17T18:42:55.219Z"
   },
   {
    "duration": 11,
    "start_time": "2023-05-17T19:14:13.485Z"
   },
   {
    "duration": 424,
    "start_time": "2023-05-17T19:14:37.985Z"
   },
   {
    "duration": 21,
    "start_time": "2023-05-17T19:14:44.106Z"
   },
   {
    "duration": 11,
    "start_time": "2023-05-17T19:14:47.389Z"
   },
   {
    "duration": 2,
    "start_time": "2023-05-17T19:14:53.266Z"
   },
   {
    "duration": 2,
    "start_time": "2023-05-17T19:15:01.140Z"
   },
   {
    "duration": 394,
    "start_time": "2023-05-17T19:15:05.484Z"
   },
   {
    "duration": 322,
    "start_time": "2023-05-17T19:16:35.144Z"
   },
   {
    "duration": 357,
    "start_time": "2023-05-17T19:23:50.174Z"
   },
   {
    "duration": 277,
    "start_time": "2023-05-17T19:24:04.573Z"
   },
   {
    "duration": 301,
    "start_time": "2023-05-17T19:24:12.513Z"
   },
   {
    "duration": 297,
    "start_time": "2023-05-17T19:24:26.686Z"
   },
   {
    "duration": 311,
    "start_time": "2023-05-17T19:24:36.581Z"
   },
   {
    "duration": 291,
    "start_time": "2023-05-17T19:24:48.678Z"
   },
   {
    "duration": 420,
    "start_time": "2023-05-17T19:25:02.855Z"
   },
   {
    "duration": 382,
    "start_time": "2023-05-17T19:25:16.045Z"
   },
   {
    "duration": 320,
    "start_time": "2023-05-17T19:25:23.779Z"
   },
   {
    "duration": 350,
    "start_time": "2023-05-17T19:25:31.237Z"
   },
   {
    "duration": 355,
    "start_time": "2023-05-17T19:25:41.176Z"
   },
   {
    "duration": 387,
    "start_time": "2023-05-17T19:32:26.400Z"
   },
   {
    "duration": 288,
    "start_time": "2023-05-17T19:32:57.336Z"
   },
   {
    "duration": 288,
    "start_time": "2023-05-17T19:33:20.700Z"
   },
   {
    "duration": 224,
    "start_time": "2023-05-17T19:33:26.704Z"
   },
   {
    "duration": 355,
    "start_time": "2023-05-17T19:37:00.424Z"
   },
   {
    "duration": 19,
    "start_time": "2023-05-17T19:46:34.914Z"
   },
   {
    "duration": 46,
    "start_time": "2023-05-17T19:47:03.185Z"
   },
   {
    "duration": 349,
    "start_time": "2023-05-17T19:47:10.276Z"
   },
   {
    "duration": 424,
    "start_time": "2023-05-17T19:47:36.709Z"
   },
   {
    "duration": 310,
    "start_time": "2023-05-17T19:47:54.000Z"
   },
   {
    "duration": 361,
    "start_time": "2023-05-17T19:48:03.592Z"
   },
   {
    "duration": 342,
    "start_time": "2023-05-17T19:48:10.734Z"
   },
   {
    "duration": 300,
    "start_time": "2023-05-17T19:48:16.289Z"
   },
   {
    "duration": 374,
    "start_time": "2023-05-17T19:48:26.388Z"
   },
   {
    "duration": 432,
    "start_time": "2023-05-17T19:48:40.654Z"
   },
   {
    "duration": 348,
    "start_time": "2023-05-17T19:48:51.112Z"
   },
   {
    "duration": 375,
    "start_time": "2023-05-17T19:49:47.681Z"
   },
   {
    "duration": 371,
    "start_time": "2023-05-17T19:49:54.418Z"
   },
   {
    "duration": 324,
    "start_time": "2023-05-17T19:58:20.088Z"
   },
   {
    "duration": 343,
    "start_time": "2023-05-17T19:58:56.233Z"
   },
   {
    "duration": 429,
    "start_time": "2023-05-17T19:59:27.382Z"
   },
   {
    "duration": 328,
    "start_time": "2023-05-17T19:59:45.107Z"
   },
   {
    "duration": 360,
    "start_time": "2023-05-17T19:59:54.905Z"
   },
   {
    "duration": 347,
    "start_time": "2023-05-17T20:00:26.730Z"
   },
   {
    "duration": 321,
    "start_time": "2023-05-17T20:00:36.320Z"
   },
   {
    "duration": 436,
    "start_time": "2023-05-17T20:02:33.802Z"
   },
   {
    "duration": 311,
    "start_time": "2023-05-17T20:02:47.596Z"
   },
   {
    "duration": 354,
    "start_time": "2023-05-17T20:04:14.244Z"
   },
   {
    "duration": 354,
    "start_time": "2023-05-17T20:04:30.944Z"
   },
   {
    "duration": 307,
    "start_time": "2023-05-17T20:04:41.897Z"
   },
   {
    "duration": 8,
    "start_time": "2023-05-17T21:01:20.094Z"
   },
   {
    "duration": 7,
    "start_time": "2023-05-17T21:03:26.090Z"
   },
   {
    "duration": 7,
    "start_time": "2023-05-17T21:03:44.994Z"
   },
   {
    "duration": 9,
    "start_time": "2023-05-17T22:02:21.093Z"
   },
   {
    "duration": 7,
    "start_time": "2023-05-17T22:02:57.490Z"
   },
   {
    "duration": 8,
    "start_time": "2023-05-17T22:03:19.294Z"
   },
   {
    "duration": 7,
    "start_time": "2023-05-17T22:04:59.100Z"
   },
   {
    "duration": 7,
    "start_time": "2023-05-17T22:05:16.333Z"
   },
   {
    "duration": 7,
    "start_time": "2023-05-17T22:06:05.851Z"
   },
   {
    "duration": 7,
    "start_time": "2023-05-17T22:06:27.637Z"
   },
   {
    "duration": 7,
    "start_time": "2023-05-17T22:07:16.747Z"
   },
   {
    "duration": 15,
    "start_time": "2023-05-17T22:15:58.355Z"
   },
   {
    "duration": 156,
    "start_time": "2023-05-17T22:16:33.289Z"
   },
   {
    "duration": 528,
    "start_time": "2023-05-17T22:16:40.032Z"
   },
   {
    "duration": 450,
    "start_time": "2023-05-17T22:18:19.326Z"
   },
   {
    "duration": 407,
    "start_time": "2023-05-17T22:18:23.843Z"
   },
   {
    "duration": 444,
    "start_time": "2023-05-17T22:19:06.784Z"
   },
   {
    "duration": 454,
    "start_time": "2023-05-17T22:19:18.994Z"
   },
   {
    "duration": 517,
    "start_time": "2023-05-17T22:19:31.489Z"
   },
   {
    "duration": 438,
    "start_time": "2023-05-17T22:19:40.009Z"
   },
   {
    "duration": 397,
    "start_time": "2023-05-17T22:20:03.853Z"
   },
   {
    "duration": 460,
    "start_time": "2023-05-17T22:20:38.996Z"
   },
   {
    "duration": 8,
    "start_time": "2023-05-17T22:21:02.333Z"
   },
   {
    "duration": 8,
    "start_time": "2023-05-17T22:21:10.755Z"
   },
   {
    "duration": 3,
    "start_time": "2023-05-17T22:35:39.670Z"
   },
   {
    "duration": 1397,
    "start_time": "2023-05-17T22:43:14.136Z"
   },
   {
    "duration": 810,
    "start_time": "2023-05-17T22:43:15.535Z"
   },
   {
    "duration": 5,
    "start_time": "2023-05-17T22:43:16.347Z"
   },
   {
    "duration": 22,
    "start_time": "2023-05-17T22:43:16.354Z"
   },
   {
    "duration": 24,
    "start_time": "2023-05-17T22:43:16.379Z"
   },
   {
    "duration": 32,
    "start_time": "2023-05-17T22:43:16.404Z"
   },
   {
    "duration": 8,
    "start_time": "2023-05-17T22:43:16.438Z"
   },
   {
    "duration": 19,
    "start_time": "2023-05-17T22:43:16.448Z"
   },
   {
    "duration": 20,
    "start_time": "2023-05-17T22:43:16.468Z"
   },
   {
    "duration": 125,
    "start_time": "2023-05-17T22:43:16.490Z"
   },
   {
    "duration": 143,
    "start_time": "2023-05-17T22:43:16.616Z"
   },
   {
    "duration": 21,
    "start_time": "2023-05-17T22:43:16.761Z"
   },
   {
    "duration": 10,
    "start_time": "2023-05-17T22:43:16.784Z"
   },
   {
    "duration": 35,
    "start_time": "2023-05-17T22:43:16.797Z"
   },
   {
    "duration": 7,
    "start_time": "2023-05-17T22:43:16.833Z"
   },
   {
    "duration": 31,
    "start_time": "2023-05-17T22:43:16.841Z"
   },
   {
    "duration": 76,
    "start_time": "2023-05-17T22:43:16.873Z"
   },
   {
    "duration": 16,
    "start_time": "2023-05-17T22:43:16.951Z"
   },
   {
    "duration": 377,
    "start_time": "2023-05-17T22:43:16.968Z"
   },
   {
    "duration": 7,
    "start_time": "2023-05-17T22:43:17.347Z"
   },
   {
    "duration": 16,
    "start_time": "2023-05-17T22:43:17.356Z"
   },
   {
    "duration": 353,
    "start_time": "2023-05-17T22:43:17.374Z"
   },
   {
    "duration": 7,
    "start_time": "2023-05-17T22:43:17.729Z"
   },
   {
    "duration": 30,
    "start_time": "2023-05-17T22:43:17.737Z"
   },
   {
    "duration": 436,
    "start_time": "2023-05-17T22:43:17.768Z"
   },
   {
    "duration": 7,
    "start_time": "2023-05-17T22:43:18.206Z"
   },
   {
    "duration": 38,
    "start_time": "2023-05-17T22:43:18.224Z"
   },
   {
    "duration": 479,
    "start_time": "2023-05-17T22:43:18.264Z"
   },
   {
    "duration": 9,
    "start_time": "2023-05-17T22:43:18.744Z"
   },
   {
    "duration": 39,
    "start_time": "2023-05-17T22:43:18.754Z"
   },
   {
    "duration": 45,
    "start_time": "2023-05-17T22:48:13.540Z"
   },
   {
    "duration": 3,
    "start_time": "2023-05-17T22:48:46.424Z"
   },
   {
    "duration": 8,
    "start_time": "2023-05-17T22:49:30.411Z"
   },
   {
    "duration": 4,
    "start_time": "2023-05-17T22:50:00.598Z"
   },
   {
    "duration": 4,
    "start_time": "2023-05-17T22:55:20.148Z"
   },
   {
    "duration": 5,
    "start_time": "2023-05-17T22:57:54.793Z"
   },
   {
    "duration": 4,
    "start_time": "2023-05-17T23:00:01.842Z"
   },
   {
    "duration": 353,
    "start_time": "2023-05-17T23:03:19.078Z"
   },
   {
    "duration": 367,
    "start_time": "2023-05-17T23:03:58.497Z"
   },
   {
    "duration": 102,
    "start_time": "2023-05-17T23:07:58.642Z"
   },
   {
    "duration": 8,
    "start_time": "2023-05-17T23:09:18.442Z"
   },
   {
    "duration": 28,
    "start_time": "2023-05-17T23:09:51.238Z"
   },
   {
    "duration": 1263,
    "start_time": "2023-05-17T23:24:31.382Z"
   },
   {
    "duration": 765,
    "start_time": "2023-05-17T23:24:32.648Z"
   },
   {
    "duration": 6,
    "start_time": "2023-05-17T23:24:33.414Z"
   },
   {
    "duration": 33,
    "start_time": "2023-05-17T23:24:33.421Z"
   },
   {
    "duration": 15,
    "start_time": "2023-05-17T23:24:33.456Z"
   },
   {
    "duration": 16,
    "start_time": "2023-05-17T23:24:33.472Z"
   },
   {
    "duration": 16,
    "start_time": "2023-05-17T23:24:33.489Z"
   },
   {
    "duration": 19,
    "start_time": "2023-05-17T23:24:33.506Z"
   },
   {
    "duration": 29,
    "start_time": "2023-05-17T23:24:33.526Z"
   },
   {
    "duration": 97,
    "start_time": "2023-05-17T23:24:33.558Z"
   },
   {
    "duration": 125,
    "start_time": "2023-05-17T23:24:33.656Z"
   },
   {
    "duration": 18,
    "start_time": "2023-05-17T23:24:33.783Z"
   },
   {
    "duration": 24,
    "start_time": "2023-05-17T23:24:33.803Z"
   },
   {
    "duration": 13,
    "start_time": "2023-05-17T23:24:33.830Z"
   },
   {
    "duration": 11,
    "start_time": "2023-05-17T23:24:33.845Z"
   },
   {
    "duration": 41,
    "start_time": "2023-05-17T23:24:33.858Z"
   },
   {
    "duration": 65,
    "start_time": "2023-05-17T23:24:33.901Z"
   },
   {
    "duration": 15,
    "start_time": "2023-05-17T23:24:33.967Z"
   },
   {
    "duration": 389,
    "start_time": "2023-05-17T23:24:33.984Z"
   },
   {
    "duration": 7,
    "start_time": "2023-05-17T23:24:34.375Z"
   },
   {
    "duration": 25,
    "start_time": "2023-05-17T23:24:34.383Z"
   },
   {
    "duration": 347,
    "start_time": "2023-05-17T23:24:34.410Z"
   },
   {
    "duration": 8,
    "start_time": "2023-05-17T23:24:34.760Z"
   },
   {
    "duration": 15,
    "start_time": "2023-05-17T23:24:34.770Z"
   },
   {
    "duration": 401,
    "start_time": "2023-05-17T23:24:34.788Z"
   },
   {
    "duration": 8,
    "start_time": "2023-05-17T23:24:35.191Z"
   },
   {
    "duration": 19,
    "start_time": "2023-05-17T23:24:35.200Z"
   },
   {
    "duration": 419,
    "start_time": "2023-05-17T23:24:35.225Z"
   },
   {
    "duration": 8,
    "start_time": "2023-05-17T23:24:35.645Z"
   },
   {
    "duration": 21,
    "start_time": "2023-05-17T23:24:35.654Z"
   },
   {
    "duration": 13,
    "start_time": "2023-05-17T23:24:35.677Z"
   },
   {
    "duration": 36,
    "start_time": "2023-05-17T23:24:35.691Z"
   },
   {
    "duration": 53,
    "start_time": "2023-05-17T23:24:35.729Z"
   },
   {
    "duration": 35,
    "start_time": "2023-05-17T23:24:35.784Z"
   },
   {
    "duration": 325,
    "start_time": "2023-05-17T23:36:41.545Z"
   },
   {
    "duration": 112,
    "start_time": "2023-05-17T23:42:44.154Z"
   },
   {
    "duration": 5,
    "start_time": "2023-05-17T23:44:20.249Z"
   },
   {
    "duration": 5,
    "start_time": "2023-05-17T23:44:21.214Z"
   },
   {
    "duration": 5,
    "start_time": "2023-05-17T23:44:22.185Z"
   },
   {
    "duration": 5,
    "start_time": "2023-05-17T23:44:23.248Z"
   },
   {
    "duration": 40,
    "start_time": "2023-05-17T23:45:47.097Z"
   },
   {
    "duration": 46,
    "start_time": "2023-05-17T23:46:12.353Z"
   },
   {
    "duration": 47,
    "start_time": "2023-05-17T23:46:50.858Z"
   },
   {
    "duration": 711,
    "start_time": "2023-05-17T23:47:03.117Z"
   },
   {
    "duration": 214,
    "start_time": "2023-05-17T23:47:15.761Z"
   },
   {
    "duration": 246,
    "start_time": "2023-05-17T23:47:28.504Z"
   },
   {
    "duration": 240,
    "start_time": "2023-05-17T23:48:14.759Z"
   },
   {
    "duration": 231,
    "start_time": "2023-05-17T23:48:25.602Z"
   },
   {
    "duration": 292,
    "start_time": "2023-05-17T23:49:06.569Z"
   },
   {
    "duration": 9,
    "start_time": "2023-05-17T23:51:24.212Z"
   },
   {
    "duration": 3,
    "start_time": "2023-05-17T23:51:41.467Z"
   },
   {
    "duration": 7,
    "start_time": "2023-05-17T23:51:57.652Z"
   },
   {
    "duration": 5,
    "start_time": "2023-05-17T23:53:12.181Z"
   },
   {
    "duration": 6,
    "start_time": "2023-05-17T23:54:27.395Z"
   },
   {
    "duration": 5,
    "start_time": "2023-05-17T23:55:12.200Z"
   },
   {
    "duration": 830,
    "start_time": "2023-05-17T23:56:24.155Z"
   },
   {
    "duration": 6,
    "start_time": "2023-05-17T23:57:45.329Z"
   },
   {
    "duration": 6,
    "start_time": "2023-05-17T23:57:53.440Z"
   },
   {
    "duration": 6,
    "start_time": "2023-05-17T23:58:03.970Z"
   },
   {
    "duration": 736,
    "start_time": "2023-05-17T23:58:47.577Z"
   },
   {
    "duration": 6,
    "start_time": "2023-05-17T23:59:07.672Z"
   },
   {
    "duration": 6,
    "start_time": "2023-05-17T23:59:20.866Z"
   },
   {
    "duration": 6,
    "start_time": "2023-05-17T23:59:22.870Z"
   },
   {
    "duration": 9,
    "start_time": "2023-05-18T00:00:28.120Z"
   },
   {
    "duration": 9,
    "start_time": "2023-05-18T00:02:07.009Z"
   },
   {
    "duration": 11,
    "start_time": "2023-05-18T00:02:23.781Z"
   },
   {
    "duration": 14,
    "start_time": "2023-05-18T00:04:56.283Z"
   },
   {
    "duration": 13,
    "start_time": "2023-05-18T00:05:19.347Z"
   },
   {
    "duration": 9,
    "start_time": "2023-05-18T00:05:30.664Z"
   },
   {
    "duration": 9,
    "start_time": "2023-05-18T00:05:33.983Z"
   },
   {
    "duration": 14,
    "start_time": "2023-05-18T00:05:38.730Z"
   },
   {
    "duration": 9,
    "start_time": "2023-05-18T00:06:22.449Z"
   },
   {
    "duration": 327,
    "start_time": "2023-05-18T00:06:40.805Z"
   },
   {
    "duration": 303,
    "start_time": "2023-05-18T00:07:10.916Z"
   },
   {
    "duration": 8,
    "start_time": "2023-05-18T00:09:00.663Z"
   },
   {
    "duration": 6,
    "start_time": "2023-05-18T00:09:30.916Z"
   },
   {
    "duration": 3,
    "start_time": "2023-05-18T00:17:26.650Z"
   },
   {
    "duration": 3,
    "start_time": "2023-05-18T00:18:38.551Z"
   },
   {
    "duration": 47,
    "start_time": "2023-05-18T00:22:25.386Z"
   },
   {
    "duration": 16,
    "start_time": "2023-05-18T00:23:10.148Z"
   },
   {
    "duration": 902,
    "start_time": "2023-05-18T00:25:31.733Z"
   },
   {
    "duration": 14,
    "start_time": "2023-05-18T00:26:48.343Z"
   },
   {
    "duration": 1309,
    "start_time": "2023-05-18T00:26:57.152Z"
   },
   {
    "duration": 772,
    "start_time": "2023-05-18T00:26:58.463Z"
   },
   {
    "duration": 5,
    "start_time": "2023-05-18T00:26:59.239Z"
   },
   {
    "duration": 24,
    "start_time": "2023-05-18T00:26:59.245Z"
   },
   {
    "duration": 17,
    "start_time": "2023-05-18T00:26:59.270Z"
   },
   {
    "duration": 37,
    "start_time": "2023-05-18T00:26:59.289Z"
   },
   {
    "duration": 6,
    "start_time": "2023-05-18T00:26:59.328Z"
   },
   {
    "duration": 10,
    "start_time": "2023-05-18T00:26:59.335Z"
   },
   {
    "duration": 15,
    "start_time": "2023-05-18T00:26:59.346Z"
   },
   {
    "duration": 12,
    "start_time": "2023-05-18T00:26:59.362Z"
   },
   {
    "duration": 112,
    "start_time": "2023-05-18T00:26:59.375Z"
   },
   {
    "duration": 119,
    "start_time": "2023-05-18T00:26:59.488Z"
   },
   {
    "duration": 26,
    "start_time": "2023-05-18T00:26:59.609Z"
   },
   {
    "duration": 9,
    "start_time": "2023-05-18T00:26:59.637Z"
   },
   {
    "duration": 13,
    "start_time": "2023-05-18T00:26:59.648Z"
   },
   {
    "duration": 15,
    "start_time": "2023-05-18T00:26:59.662Z"
   },
   {
    "duration": 15,
    "start_time": "2023-05-18T00:26:59.679Z"
   },
   {
    "duration": 74,
    "start_time": "2023-05-18T00:26:59.695Z"
   },
   {
    "duration": 14,
    "start_time": "2023-05-18T00:26:59.771Z"
   },
   {
    "duration": 343,
    "start_time": "2023-05-18T00:26:59.786Z"
   },
   {
    "duration": 7,
    "start_time": "2023-05-18T00:27:00.131Z"
   },
   {
    "duration": 39,
    "start_time": "2023-05-18T00:27:00.140Z"
   },
   {
    "duration": 445,
    "start_time": "2023-05-18T00:27:00.181Z"
   },
   {
    "duration": 8,
    "start_time": "2023-05-18T00:27:00.628Z"
   },
   {
    "duration": 97,
    "start_time": "2023-05-18T00:27:00.638Z"
   },
   {
    "duration": 410,
    "start_time": "2023-05-18T00:27:00.737Z"
   },
   {
    "duration": 7,
    "start_time": "2023-05-18T00:27:01.148Z"
   },
   {
    "duration": 28,
    "start_time": "2023-05-18T00:27:01.156Z"
   },
   {
    "duration": 449,
    "start_time": "2023-05-18T00:27:01.185Z"
   },
   {
    "duration": 8,
    "start_time": "2023-05-18T00:27:01.635Z"
   },
   {
    "duration": 28,
    "start_time": "2023-05-18T00:27:01.645Z"
   },
   {
    "duration": 18,
    "start_time": "2023-05-18T00:27:01.675Z"
   },
   {
    "duration": 26,
    "start_time": "2023-05-18T00:27:01.694Z"
   },
   {
    "duration": 27,
    "start_time": "2023-05-18T00:27:01.722Z"
   },
   {
    "duration": 18,
    "start_time": "2023-05-18T00:27:01.751Z"
   },
   {
    "duration": 403,
    "start_time": "2023-05-18T00:27:01.770Z"
   },
   {
    "duration": 7,
    "start_time": "2023-05-18T00:27:02.175Z"
   },
   {
    "duration": 17,
    "start_time": "2023-05-18T00:27:02.183Z"
   },
   {
    "duration": 17,
    "start_time": "2023-05-18T00:27:02.201Z"
   },
   {
    "duration": 23,
    "start_time": "2023-05-18T00:27:02.221Z"
   },
   {
    "duration": 48,
    "start_time": "2023-05-18T00:27:02.245Z"
   },
   {
    "duration": 15,
    "start_time": "2023-05-18T00:27:02.294Z"
   },
   {
    "duration": 25,
    "start_time": "2023-05-18T00:27:02.310Z"
   },
   {
    "duration": 12,
    "start_time": "2023-05-18T00:27:02.337Z"
   },
   {
    "duration": 12,
    "start_time": "2023-05-18T00:27:02.351Z"
   },
   {
    "duration": 27,
    "start_time": "2023-05-18T00:27:02.365Z"
   },
   {
    "duration": 603,
    "start_time": "2023-05-18T00:27:02.394Z"
   },
   {
    "duration": 4,
    "start_time": "2023-05-18T00:27:42.149Z"
   },
   {
    "duration": 489,
    "start_time": "2023-05-18T00:27:45.379Z"
   },
   {
    "duration": 4,
    "start_time": "2023-05-18T00:30:23.140Z"
   },
   {
    "duration": 2679,
    "start_time": "2023-05-18T00:30:27.323Z"
   },
   {
    "duration": 3,
    "start_time": "2023-05-18T00:31:15.514Z"
   },
   {
    "duration": 3,
    "start_time": "2023-05-18T00:31:20.646Z"
   },
   {
    "duration": 1067,
    "start_time": "2023-05-18T00:31:28.661Z"
   },
   {
    "duration": 1188,
    "start_time": "2023-05-18T00:31:36.436Z"
   },
   {
    "duration": 10,
    "start_time": "2023-05-18T00:31:43.812Z"
   },
   {
    "duration": 9,
    "start_time": "2023-05-18T00:32:53.970Z"
   },
   {
    "duration": 4,
    "start_time": "2023-05-18T00:33:12.684Z"
   },
   {
    "duration": 9,
    "start_time": "2023-05-18T00:33:15.042Z"
   },
   {
    "duration": 3,
    "start_time": "2023-05-18T00:34:18.483Z"
   },
   {
    "duration": 4,
    "start_time": "2023-05-18T00:34:26.881Z"
   },
   {
    "duration": 83,
    "start_time": "2023-05-18T00:34:39.468Z"
   },
   {
    "duration": 2560,
    "start_time": "2023-05-18T00:35:05.619Z"
   },
   {
    "duration": 2529,
    "start_time": "2023-05-18T00:35:25.309Z"
   },
   {
    "duration": 3,
    "start_time": "2023-05-18T00:35:35.369Z"
   },
   {
    "duration": 33856,
    "start_time": "2023-05-18T00:36:05.137Z"
   },
   {
    "duration": 3,
    "start_time": "2023-05-18T00:36:38.994Z"
   },
   {
    "duration": 35764,
    "start_time": "2023-05-18T00:37:50.905Z"
   },
   {
    "duration": 4,
    "start_time": "2023-05-18T00:38:26.671Z"
   },
   {
    "duration": 47,
    "start_time": "2023-05-18T00:38:26.676Z"
   },
   {
    "duration": 23607,
    "start_time": "2023-05-18T00:38:39.674Z"
   },
   {
    "duration": 25126,
    "start_time": "2023-05-18T00:39:03.283Z"
   },
   {
    "duration": 3,
    "start_time": "2023-05-18T00:39:28.411Z"
   }
  ],
  "kernelspec": {
   "display_name": "Python 3 (ipykernel)",
   "language": "python",
   "name": "python3"
  },
  "language_info": {
   "codemirror_mode": {
    "name": "ipython",
    "version": 3
   },
   "file_extension": ".py",
   "mimetype": "text/x-python",
   "name": "python",
   "nbconvert_exporter": "python",
   "pygments_lexer": "ipython3",
   "version": "3.11.4"
  },
  "toc": {
   "base_numbering": 1,
   "nav_menu": {},
   "number_sections": true,
   "sideBar": true,
   "skip_h1_title": true,
   "title_cell": "Содержание",
   "title_sidebar": "Contents",
   "toc_cell": true,
   "toc_position": {
    "height": "calc(100% - 180px)",
    "left": "10px",
    "top": "150px",
    "width": "221px"
   },
   "toc_section_display": true,
   "toc_window_display": true
  }
 },
 "nbformat": 4,
 "nbformat_minor": 4
}
