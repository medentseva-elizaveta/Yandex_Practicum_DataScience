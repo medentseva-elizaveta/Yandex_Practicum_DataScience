{
 "cells": [
  {
   "cell_type": "markdown",
   "metadata": {},
   "source": [
    "# Рекомендация тарифов"
   ]
  },
  {
   "cell_type": "markdown",
   "metadata": {},
   "source": [
    "В моём распоряжении данные о поведении клиентов, которые уже перешли на тарифы. Нужно построить модель для задачи классификации, которая выберет подходящий тариф.\n",
    "\n",
    "Необходимо построить модель с максимально большим значением *accuracy* и довести долю правильных ответов по крайней мере до 0.75."
   ]
  },
  {
   "cell_type": "markdown",
   "metadata": {},
   "source": [
    "## Откроем и изучим файл"
   ]
  },
  {
   "cell_type": "code",
   "execution_count": 1,
   "metadata": {},
   "outputs": [
    {
     "name": "stdout",
     "output_type": "stream",
     "text": [
      "<class 'pandas.core.frame.DataFrame'>\n",
      "RangeIndex: 3214 entries, 0 to 3213\n",
      "Data columns (total 5 columns):\n",
      " #   Column    Non-Null Count  Dtype  \n",
      "---  ------    --------------  -----  \n",
      " 0   calls     3214 non-null   float64\n",
      " 1   minutes   3214 non-null   float64\n",
      " 2   messages  3214 non-null   float64\n",
      " 3   mb_used   3214 non-null   float64\n",
      " 4   is_ultra  3214 non-null   int64  \n",
      "dtypes: float64(4), int64(1)\n",
      "memory usage: 125.7 KB\n"
     ]
    },
    {
     "data": {
      "text/html": [
       "<div>\n",
       "<style scoped>\n",
       "    .dataframe tbody tr th:only-of-type {\n",
       "        vertical-align: middle;\n",
       "    }\n",
       "\n",
       "    .dataframe tbody tr th {\n",
       "        vertical-align: top;\n",
       "    }\n",
       "\n",
       "    .dataframe thead th {\n",
       "        text-align: right;\n",
       "    }\n",
       "</style>\n",
       "<table border=\"1\" class=\"dataframe\">\n",
       "  <thead>\n",
       "    <tr style=\"text-align: right;\">\n",
       "      <th></th>\n",
       "      <th>calls</th>\n",
       "      <th>minutes</th>\n",
       "      <th>messages</th>\n",
       "      <th>mb_used</th>\n",
       "      <th>is_ultra</th>\n",
       "    </tr>\n",
       "  </thead>\n",
       "  <tbody>\n",
       "    <tr>\n",
       "      <th>0</th>\n",
       "      <td>40.0</td>\n",
       "      <td>311.90</td>\n",
       "      <td>83.0</td>\n",
       "      <td>19915.42</td>\n",
       "      <td>0</td>\n",
       "    </tr>\n",
       "    <tr>\n",
       "      <th>1</th>\n",
       "      <td>85.0</td>\n",
       "      <td>516.75</td>\n",
       "      <td>56.0</td>\n",
       "      <td>22696.96</td>\n",
       "      <td>0</td>\n",
       "    </tr>\n",
       "    <tr>\n",
       "      <th>2</th>\n",
       "      <td>77.0</td>\n",
       "      <td>467.66</td>\n",
       "      <td>86.0</td>\n",
       "      <td>21060.45</td>\n",
       "      <td>0</td>\n",
       "    </tr>\n",
       "    <tr>\n",
       "      <th>3</th>\n",
       "      <td>106.0</td>\n",
       "      <td>745.53</td>\n",
       "      <td>81.0</td>\n",
       "      <td>8437.39</td>\n",
       "      <td>1</td>\n",
       "    </tr>\n",
       "    <tr>\n",
       "      <th>4</th>\n",
       "      <td>66.0</td>\n",
       "      <td>418.74</td>\n",
       "      <td>1.0</td>\n",
       "      <td>14502.75</td>\n",
       "      <td>0</td>\n",
       "    </tr>\n",
       "  </tbody>\n",
       "</table>\n",
       "</div>"
      ],
      "text/plain": [
       "   calls  minutes  messages   mb_used  is_ultra\n",
       "0   40.0   311.90      83.0  19915.42         0\n",
       "1   85.0   516.75      56.0  22696.96         0\n",
       "2   77.0   467.66      86.0  21060.45         0\n",
       "3  106.0   745.53      81.0   8437.39         1\n",
       "4   66.0   418.74       1.0  14502.75         0"
      ]
     },
     "execution_count": 1,
     "metadata": {},
     "output_type": "execute_result"
    }
   ],
   "source": [
    "import pandas as pd\n",
    "\n",
    "df = pd.read_csv('users_behavior.csv')\n",
    "df.info()\n",
    "df.head()"
   ]
  },
  {
   "cell_type": "markdown",
   "metadata": {},
   "source": [
    "<b> Описание данных </b>\n",
    "* сalls — количество звонков,\n",
    "* minutes — суммарная длительность звонков в минутах,\n",
    "* messages — количество sms-сообщений,\n",
    "* mb_used — израсходованный интернет-трафик в Мб,\n",
    "* is_ultra — каким тарифом пользовался в течение месяца («Ультра» — 1, «Смарт» — 0)."
   ]
  },
  {
   "cell_type": "markdown",
   "metadata": {},
   "source": [
    "## Разобьем данные на выборки"
   ]
  },
  {
   "cell_type": "code",
   "execution_count": 2,
   "metadata": {},
   "outputs": [],
   "source": [
    "from sklearn.model_selection import train_test_split\n",
    "\n",
    "features = df.drop(['is_ultra'], axis=1)\n",
    "target = df['is_ultra']\n",
    "\n",
    "features_train, features_test, target_train, target_test = train_test_split(features,\n",
    "                                                                            target,\n",
    "                                                                            test_size=0.4,\n",
    "                                                                            random_state=12345)\n",
    "\n",
    "features_valid, features_test, target_valid, target_test = train_test_split(features_test,\n",
    "                                                                            target_test,\n",
    "                                                                            test_size=0.5,\n",
    "                                                                            random_state=12345)"
   ]
  },
  {
   "cell_type": "markdown",
   "metadata": {},
   "source": [
    "## Исследуем модели"
   ]
  },
  {
   "cell_type": "markdown",
   "metadata": {},
   "source": [
    "### Дерево решений"
   ]
  },
  {
   "cell_type": "code",
   "execution_count": 3,
   "metadata": {},
   "outputs": [
    {
     "name": "stdout",
     "output_type": "stream",
     "text": [
      "Accuracy лучшей модели: 0.7853810264385692\n",
      "Глубина дерева: 3\n"
     ]
    }
   ],
   "source": [
    "from sklearn.tree import DecisionTreeClassifier\n",
    "from sklearn.metrics import accuracy_score\n",
    "\n",
    "tree_best_model = None\n",
    "tree_best_result = 0\n",
    "for depth in range(1, 6):\n",
    "    model = DecisionTreeClassifier(random_state=12345, max_depth= depth)\n",
    "    model.fit(features_train, target_train) \n",
    "    predictions_valid = model.predict(features_valid) \n",
    "    result = accuracy_score(target_valid, predictions_valid)\n",
    "    if result > tree_best_result:\n",
    "        tree_best_model = model\n",
    "        tree_best_result = result\n",
    "\n",
    "print(\"Accuracy лучшей модели:\", tree_best_result)\n",
    "print(\"Глубина дерева:\", tree_best_model.max_depth)"
   ]
  },
  {
   "cell_type": "markdown",
   "metadata": {},
   "source": [
    "### Случайный лес"
   ]
  },
  {
   "cell_type": "code",
   "execution_count": 4,
   "metadata": {},
   "outputs": [
    {
     "name": "stdout",
     "output_type": "stream",
     "text": [
      "Accuracy лучшей модели: 0.7947122861586314\n",
      "Количество деревьев в лесу: 23\n"
     ]
    }
   ],
   "source": [
    "from sklearn.ensemble import RandomForestClassifier\n",
    "\n",
    "forest_best_model = None\n",
    "forest_best_result = 0\n",
    "for est in range(1, 25):\n",
    "    model = RandomForestClassifier(random_state=12345, n_estimators=est)\n",
    "    model.fit(features_train, target_train)\n",
    "    result = model.score(features_valid, target_valid)\n",
    "    if result > forest_best_result:\n",
    "        forest_best_model = model\n",
    "        forest_best_result = result\n",
    "\n",
    "print(\"Accuracy лучшей модели:\", forest_best_result)\n",
    "print(\"Количество деревьев в лесу:\", forest_best_model.n_estimators)"
   ]
  },
  {
   "cell_type": "markdown",
   "metadata": {},
   "source": [
    "Настроим гиперпараметр criterion с gini (по умолчанию) на entropy."
   ]
  },
  {
   "cell_type": "code",
   "execution_count": 5,
   "metadata": {},
   "outputs": [
    {
     "name": "stdout",
     "output_type": "stream",
     "text": [
      "Accuracy модели: 0.7838258164852255\n"
     ]
    }
   ],
   "source": [
    "model = RandomForestClassifier(random_state=12345, n_estimators=23, criterion='entropy')\n",
    "model.fit(features_train, target_train)\n",
    "result = model.score(features_valid, target_valid)\n",
    "print(\"Accuracy модели:\", result)"
   ]
  },
  {
   "cell_type": "markdown",
   "metadata": {},
   "source": [
    "Гиперпараметр gini даёт большую точность. Изменим минимальное количество объектов в листе (min_samples_split) на 2 (по умолчанию 1)"
   ]
  },
  {
   "cell_type": "code",
   "execution_count": 6,
   "metadata": {},
   "outputs": [
    {
     "name": "stdout",
     "output_type": "stream",
     "text": [
      "Accuracy модели: 0.8009331259720062\n"
     ]
    }
   ],
   "source": [
    "model = RandomForestClassifier(random_state=12345, n_estimators=23, min_samples_leaf=2)\n",
    "model.fit(features_train, target_train)\n",
    "result = model.score(features_valid, target_valid)\n",
    "print(\"Accuracy модели:\", result)"
   ]
  },
  {
   "cell_type": "markdown",
   "metadata": {},
   "source": [
    "Точность стала выше. Попробуем изменить минимальное количество примеров для разделения (min_samples_split)."
   ]
  },
  {
   "cell_type": "code",
   "execution_count": 7,
   "metadata": {},
   "outputs": [
    {
     "name": "stdout",
     "output_type": "stream",
     "text": [
      "Accuracy модели: 0.8009331259720062\n"
     ]
    }
   ],
   "source": [
    "model = RandomForestClassifier(random_state=12345, n_estimators=23, min_samples_leaf=2, min_samples_split=4)\n",
    "model.fit(features_train, target_train)\n",
    "result = model.score(features_valid, target_valid)\n",
    "print(\"Accuracy модели:\", result)"
   ]
  },
  {
   "cell_type": "markdown",
   "metadata": {},
   "source": [
    "Небольшое измение гиперпараметра ничего не меняет, если его увеличить в разы, то точность лишь снижается."
   ]
  },
  {
   "cell_type": "markdown",
   "metadata": {},
   "source": [
    "### Логистическая регрессия"
   ]
  },
  {
   "cell_type": "code",
   "execution_count": 8,
   "metadata": {},
   "outputs": [
    {
     "name": "stdout",
     "output_type": "stream",
     "text": [
      "Accuracy модели: 0.7107309486780715\n"
     ]
    }
   ],
   "source": [
    "from sklearn.linear_model import LogisticRegression \n",
    "\n",
    "model = LogisticRegression(random_state=12345, solver='lbfgs', max_iter=1000) \n",
    "model.fit(features_train, target_train) \n",
    "result = model.score(features_valid, target_valid) \n",
    "print(\"Accuracy модели:\", result)"
   ]
  },
  {
   "cell_type": "markdown",
   "metadata": {},
   "source": [
    "Наибольшая доля правильных ответов (0.8) достигается при использовании модели случайного леса со следующими гиперпараметрами:"
   ]
  },
  {
   "cell_type": "code",
   "execution_count": 9,
   "metadata": {
    "scrolled": true
   },
   "outputs": [
    {
     "data": {
      "text/html": [
       "<style>#sk-container-id-1 {color: black;background-color: white;}#sk-container-id-1 pre{padding: 0;}#sk-container-id-1 div.sk-toggleable {background-color: white;}#sk-container-id-1 label.sk-toggleable__label {cursor: pointer;display: block;width: 100%;margin-bottom: 0;padding: 0.3em;box-sizing: border-box;text-align: center;}#sk-container-id-1 label.sk-toggleable__label-arrow:before {content: \"▸\";float: left;margin-right: 0.25em;color: #696969;}#sk-container-id-1 label.sk-toggleable__label-arrow:hover:before {color: black;}#sk-container-id-1 div.sk-estimator:hover label.sk-toggleable__label-arrow:before {color: black;}#sk-container-id-1 div.sk-toggleable__content {max-height: 0;max-width: 0;overflow: hidden;text-align: left;background-color: #f0f8ff;}#sk-container-id-1 div.sk-toggleable__content pre {margin: 0.2em;color: black;border-radius: 0.25em;background-color: #f0f8ff;}#sk-container-id-1 input.sk-toggleable__control:checked~div.sk-toggleable__content {max-height: 200px;max-width: 100%;overflow: auto;}#sk-container-id-1 input.sk-toggleable__control:checked~label.sk-toggleable__label-arrow:before {content: \"▾\";}#sk-container-id-1 div.sk-estimator input.sk-toggleable__control:checked~label.sk-toggleable__label {background-color: #d4ebff;}#sk-container-id-1 div.sk-label input.sk-toggleable__control:checked~label.sk-toggleable__label {background-color: #d4ebff;}#sk-container-id-1 input.sk-hidden--visually {border: 0;clip: rect(1px 1px 1px 1px);clip: rect(1px, 1px, 1px, 1px);height: 1px;margin: -1px;overflow: hidden;padding: 0;position: absolute;width: 1px;}#sk-container-id-1 div.sk-estimator {font-family: monospace;background-color: #f0f8ff;border: 1px dotted black;border-radius: 0.25em;box-sizing: border-box;margin-bottom: 0.5em;}#sk-container-id-1 div.sk-estimator:hover {background-color: #d4ebff;}#sk-container-id-1 div.sk-parallel-item::after {content: \"\";width: 100%;border-bottom: 1px solid gray;flex-grow: 1;}#sk-container-id-1 div.sk-label:hover label.sk-toggleable__label {background-color: #d4ebff;}#sk-container-id-1 div.sk-serial::before {content: \"\";position: absolute;border-left: 1px solid gray;box-sizing: border-box;top: 0;bottom: 0;left: 50%;z-index: 0;}#sk-container-id-1 div.sk-serial {display: flex;flex-direction: column;align-items: center;background-color: white;padding-right: 0.2em;padding-left: 0.2em;position: relative;}#sk-container-id-1 div.sk-item {position: relative;z-index: 1;}#sk-container-id-1 div.sk-parallel {display: flex;align-items: stretch;justify-content: center;background-color: white;position: relative;}#sk-container-id-1 div.sk-item::before, #sk-container-id-1 div.sk-parallel-item::before {content: \"\";position: absolute;border-left: 1px solid gray;box-sizing: border-box;top: 0;bottom: 0;left: 50%;z-index: -1;}#sk-container-id-1 div.sk-parallel-item {display: flex;flex-direction: column;z-index: 1;position: relative;background-color: white;}#sk-container-id-1 div.sk-parallel-item:first-child::after {align-self: flex-end;width: 50%;}#sk-container-id-1 div.sk-parallel-item:last-child::after {align-self: flex-start;width: 50%;}#sk-container-id-1 div.sk-parallel-item:only-child::after {width: 0;}#sk-container-id-1 div.sk-dashed-wrapped {border: 1px dashed gray;margin: 0 0.4em 0.5em 0.4em;box-sizing: border-box;padding-bottom: 0.4em;background-color: white;}#sk-container-id-1 div.sk-label label {font-family: monospace;font-weight: bold;display: inline-block;line-height: 1.2em;}#sk-container-id-1 div.sk-label-container {text-align: center;}#sk-container-id-1 div.sk-container {/* jupyter's `normalize.less` sets `[hidden] { display: none; }` but bootstrap.min.css set `[hidden] { display: none !important; }` so we also need the `!important` here to be able to override the default hidden behavior on the sphinx rendered scikit-learn.org. See: https://github.com/scikit-learn/scikit-learn/issues/21755 */display: inline-block !important;position: relative;}#sk-container-id-1 div.sk-text-repr-fallback {display: none;}</style><div id=\"sk-container-id-1\" class=\"sk-top-container\"><div class=\"sk-text-repr-fallback\"><pre>RandomForestClassifier(min_samples_leaf=2, n_estimators=23, random_state=12345)</pre><b>In a Jupyter environment, please rerun this cell to show the HTML representation or trust the notebook. <br />On GitHub, the HTML representation is unable to render, please try loading this page with nbviewer.org.</b></div><div class=\"sk-container\" hidden><div class=\"sk-item\"><div class=\"sk-estimator sk-toggleable\"><input class=\"sk-toggleable__control sk-hidden--visually\" id=\"sk-estimator-id-1\" type=\"checkbox\" checked><label for=\"sk-estimator-id-1\" class=\"sk-toggleable__label sk-toggleable__label-arrow\">RandomForestClassifier</label><div class=\"sk-toggleable__content\"><pre>RandomForestClassifier(min_samples_leaf=2, n_estimators=23, random_state=12345)</pre></div></div></div></div></div>"
      ],
      "text/plain": [
       "RandomForestClassifier(min_samples_leaf=2, n_estimators=23, random_state=12345)"
      ]
     },
     "execution_count": 9,
     "metadata": {},
     "output_type": "execute_result"
    }
   ],
   "source": [
    "forest_best_model = RandomForestClassifier(random_state=12345, n_estimators=23, min_samples_leaf=2)\n",
    "forest_best_model.fit(features_train, target_train)\n",
    "forest_best_model"
   ]
  },
  {
   "cell_type": "markdown",
   "metadata": {},
   "source": [
    "## Проверим модель на тестовой выборке"
   ]
  },
  {
   "cell_type": "code",
   "execution_count": 10,
   "metadata": {},
   "outputs": [
    {
     "name": "stdout",
     "output_type": "stream",
     "text": [
      "Точность модели слуйчаного леса на тестовой выборке 0.7916018662519441\n"
     ]
    }
   ],
   "source": [
    "test_predictions = forest_best_model.predict(features_test)\n",
    "accuracy = accuracy_score(target_test, test_predictions)\n",
    "print('Точность модели слуйчаного леса на тестовой выборке', accuracy)"
   ]
  },
  {
   "cell_type": "markdown",
   "metadata": {},
   "source": [
    "<b> Вывод </b>\n",
    "В ходе исследования данные были загружены, изучены и разделены на обучающую, валидационную и тестовую выборки. Рассмотрено 3 модели: \n",
    "- дерево решений;\n",
    "- случайный лес;\n",
    "- логистическая регрессия.\n",
    "\n",
    "Наибольшее Accuracy (0.8) в данном случае дает случайный лес с гипперпараметрами min_samples_leaf=2, n_estimators=23, random_state=12345."
   ]
  }
 ],
 "metadata": {
  "ExecuteTimeLog": [
   {
    "duration": 68,
    "start_time": "2023-05-03T19:00:38.990Z"
   },
   {
    "duration": 480,
    "start_time": "2023-05-03T19:00:58.343Z"
   },
   {
    "duration": 36,
    "start_time": "2023-05-03T19:02:48.585Z"
   },
   {
    "duration": 41,
    "start_time": "2023-05-03T19:03:03.425Z"
   },
   {
    "duration": 13,
    "start_time": "2023-05-03T19:03:07.039Z"
   },
   {
    "duration": 735,
    "start_time": "2023-05-03T19:32:02.825Z"
   },
   {
    "duration": 626,
    "start_time": "2023-05-04T17:32:45.898Z"
   },
   {
    "duration": 69,
    "start_time": "2023-05-04T17:33:09.349Z"
   },
   {
    "duration": 730,
    "start_time": "2023-05-04T18:05:08.868Z"
   },
   {
    "duration": 46,
    "start_time": "2023-05-04T18:11:35.767Z"
   },
   {
    "duration": 49,
    "start_time": "2023-05-04T18:18:45.851Z"
   },
   {
    "duration": 14,
    "start_time": "2023-05-04T18:19:16.505Z"
   },
   {
    "duration": 14,
    "start_time": "2023-05-04T18:19:38.742Z"
   },
   {
    "duration": 29,
    "start_time": "2023-05-04T18:20:57.523Z"
   },
   {
    "duration": 29,
    "start_time": "2023-05-04T18:22:35.911Z"
   },
   {
    "duration": 39,
    "start_time": "2023-05-04T18:26:55.476Z"
   },
   {
    "duration": 31,
    "start_time": "2023-05-04T18:27:24.624Z"
   },
   {
    "duration": 3,
    "start_time": "2023-05-04T18:28:48.486Z"
   },
   {
    "duration": 259,
    "start_time": "2023-05-04T18:33:59.715Z"
   },
   {
    "duration": 252,
    "start_time": "2023-05-04T18:34:44.632Z"
   },
   {
    "duration": 253,
    "start_time": "2023-05-04T18:36:44.547Z"
   },
   {
    "duration": 248,
    "start_time": "2023-05-04T18:37:01.152Z"
   },
   {
    "duration": 248,
    "start_time": "2023-05-04T18:37:11.836Z"
   },
   {
    "duration": 29,
    "start_time": "2023-05-04T18:37:51.670Z"
   },
   {
    "duration": 45,
    "start_time": "2023-05-04T18:38:02.331Z"
   },
   {
    "duration": 246,
    "start_time": "2023-05-04T18:38:43.891Z"
   },
   {
    "duration": 252,
    "start_time": "2023-05-04T18:39:07.635Z"
   },
   {
    "duration": 245,
    "start_time": "2023-05-04T18:41:35.714Z"
   },
   {
    "duration": 238,
    "start_time": "2023-05-04T18:41:41.160Z"
   },
   {
    "duration": 246,
    "start_time": "2023-05-04T18:41:53.406Z"
   },
   {
    "duration": 243,
    "start_time": "2023-05-04T18:43:47.245Z"
   },
   {
    "duration": 2,
    "start_time": "2023-05-04T18:45:19.254Z"
   },
   {
    "duration": 23,
    "start_time": "2023-05-04T18:54:19.571Z"
   },
   {
    "duration": 27,
    "start_time": "2023-05-04T19:06:45.745Z"
   },
   {
    "duration": 19,
    "start_time": "2023-05-04T19:12:27.785Z"
   },
   {
    "duration": 21,
    "start_time": "2023-05-04T19:13:10.602Z"
   },
   {
    "duration": 440,
    "start_time": "2023-05-04T19:15:38.605Z"
   },
   {
    "duration": 4862,
    "start_time": "2023-05-04T19:15:49.751Z"
   },
   {
    "duration": 28,
    "start_time": "2023-05-04T19:16:05.957Z"
   },
   {
    "duration": 13,
    "start_time": "2023-05-04T19:16:11.932Z"
   },
   {
    "duration": 959,
    "start_time": "2023-05-05T14:59:16.386Z"
   },
   {
    "duration": 574,
    "start_time": "2023-05-05T15:01:44.219Z"
   },
   {
    "duration": 635,
    "start_time": "2023-05-05T15:01:48.076Z"
   },
   {
    "duration": 137,
    "start_time": "2023-05-05T15:01:50.163Z"
   },
   {
    "duration": 12,
    "start_time": "2023-05-05T15:02:23.259Z"
   },
   {
    "duration": 12,
    "start_time": "2023-05-05T15:02:27.465Z"
   },
   {
    "duration": 18,
    "start_time": "2023-05-05T15:02:31.188Z"
   },
   {
    "duration": 27,
    "start_time": "2023-05-05T15:02:34.798Z"
   },
   {
    "duration": 29,
    "start_time": "2023-05-05T15:02:38.660Z"
   },
   {
    "duration": 41,
    "start_time": "2023-05-05T15:02:42.313Z"
   },
   {
    "duration": 37,
    "start_time": "2023-05-05T15:02:46.271Z"
   },
   {
    "duration": 262,
    "start_time": "2023-05-05T15:04:22.666Z"
   },
   {
    "duration": 24412,
    "start_time": "2023-05-05T15:05:01.177Z"
   },
   {
    "duration": 275,
    "start_time": "2023-05-05T15:08:42.207Z"
   },
   {
    "duration": 531,
    "start_time": "2023-05-05T15:08:47.264Z"
   },
   {
    "duration": 957,
    "start_time": "2023-05-05T15:08:54.128Z"
   },
   {
    "duration": 84605,
    "start_time": "2023-05-05T15:09:10.771Z"
   },
   {
    "duration": 1436,
    "start_time": "2023-05-05T15:16:50.581Z"
   },
   {
    "duration": 5,
    "start_time": "2023-05-05T15:18:49.417Z"
   },
   {
    "duration": 5,
    "start_time": "2023-05-05T15:19:01.067Z"
   },
   {
    "duration": 4,
    "start_time": "2023-05-05T15:23:23.908Z"
   },
   {
    "duration": 3,
    "start_time": "2023-05-05T15:27:17.672Z"
   },
   {
    "duration": 953,
    "start_time": "2023-05-05T17:04:57.732Z"
   },
   {
    "duration": 35,
    "start_time": "2023-05-05T18:07:26.919Z"
   },
   {
    "duration": 35,
    "start_time": "2023-05-05T18:08:20.814Z"
   },
   {
    "duration": 29,
    "start_time": "2023-05-05T18:08:30.096Z"
   },
   {
    "duration": 34,
    "start_time": "2023-05-05T18:08:50.014Z"
   },
   {
    "duration": 38,
    "start_time": "2023-05-05T18:09:01.814Z"
   },
   {
    "duration": 35,
    "start_time": "2023-05-05T18:09:18.107Z"
   },
   {
    "duration": 1290,
    "start_time": "2023-05-05T18:09:55.954Z"
   },
   {
    "duration": 4,
    "start_time": "2023-05-05T18:10:41.868Z"
   },
   {
    "duration": 11,
    "start_time": "2023-05-05T19:45:32.548Z"
   },
   {
    "duration": 12,
    "start_time": "2023-05-05T19:46:31.107Z"
   },
   {
    "duration": 152,
    "start_time": "2023-05-05T19:53:44.500Z"
   },
   {
    "duration": 110,
    "start_time": "2023-05-05T19:54:14.403Z"
   },
   {
    "duration": 96,
    "start_time": "2023-05-05T20:21:49.847Z"
   },
   {
    "duration": 32,
    "start_time": "2023-05-05T20:23:28.617Z"
   },
   {
    "duration": 102,
    "start_time": "2023-05-05T20:23:43.844Z"
   },
   {
    "duration": 109,
    "start_time": "2023-05-05T20:25:00.526Z"
   },
   {
    "duration": 94,
    "start_time": "2023-05-05T20:25:09.405Z"
   },
   {
    "duration": 88,
    "start_time": "2023-05-05T20:25:36.357Z"
   },
   {
    "duration": 92,
    "start_time": "2023-05-05T20:25:42.789Z"
   },
   {
    "duration": 91,
    "start_time": "2023-05-05T20:25:50.017Z"
   },
   {
    "duration": 21,
    "start_time": "2023-05-05T20:27:30.725Z"
   },
   {
    "duration": 94,
    "start_time": "2023-05-05T20:28:09.748Z"
   },
   {
    "duration": 112,
    "start_time": "2023-05-05T20:29:56.396Z"
   },
   {
    "duration": 94,
    "start_time": "2023-05-05T20:30:07.892Z"
   },
   {
    "duration": 93,
    "start_time": "2023-05-05T20:30:13.759Z"
   },
   {
    "duration": 5,
    "start_time": "2023-05-05T20:32:40.948Z"
   },
   {
    "duration": 4,
    "start_time": "2023-05-05T20:33:58.394Z"
   },
   {
    "duration": 3,
    "start_time": "2023-05-05T20:35:26.757Z"
   },
   {
    "duration": 495,
    "start_time": "2023-05-06T14:27:00.242Z"
   },
   {
    "duration": 1786,
    "start_time": "2023-05-06T14:27:00.740Z"
   },
   {
    "duration": 67,
    "start_time": "2023-05-06T14:27:02.528Z"
   },
   {
    "duration": 1289,
    "start_time": "2023-05-06T14:27:02.597Z"
   },
   {
    "duration": 120,
    "start_time": "2023-05-06T14:27:03.888Z"
   },
   {
    "duration": 107,
    "start_time": "2023-05-06T14:27:04.010Z"
   },
   {
    "duration": 102,
    "start_time": "2023-05-06T14:27:04.118Z"
   },
   {
    "duration": 33,
    "start_time": "2023-05-06T14:27:04.222Z"
   },
   {
    "duration": 4,
    "start_time": "2023-05-06T14:27:04.257Z"
   },
   {
    "duration": 125,
    "start_time": "2023-05-06T14:27:04.263Z"
   },
   {
    "duration": 53,
    "start_time": "2023-05-06T15:30:02.593Z"
   },
   {
    "duration": 6,
    "start_time": "2023-05-06T15:31:18.339Z"
   },
   {
    "duration": 6,
    "start_time": "2023-05-06T15:31:29.822Z"
   },
   {
    "duration": 440,
    "start_time": "2023-05-06T15:31:42.733Z"
   },
   {
    "duration": 670,
    "start_time": "2023-05-06T15:31:44.651Z"
   },
   {
    "duration": 61,
    "start_time": "2023-05-06T15:31:47.032Z"
   },
   {
    "duration": 1151,
    "start_time": "2023-05-06T15:31:48.766Z"
   },
   {
    "duration": 107,
    "start_time": "2023-05-06T15:31:49.920Z"
   },
   {
    "duration": 88,
    "start_time": "2023-05-06T15:31:51.030Z"
   },
   {
    "duration": 96,
    "start_time": "2023-05-06T15:31:52.074Z"
   },
   {
    "duration": 21,
    "start_time": "2023-05-06T15:31:53.170Z"
   },
   {
    "duration": 7,
    "start_time": "2023-05-06T15:31:54.162Z"
   },
   {
    "duration": 70,
    "start_time": "2023-05-06T15:31:56.390Z"
   },
   {
    "duration": 11,
    "start_time": "2023-05-06T15:37:52.033Z"
   },
   {
    "duration": 83,
    "start_time": "2023-05-06T15:38:51.040Z"
   },
   {
    "duration": 13,
    "start_time": "2023-05-06T15:38:53.426Z"
   },
   {
    "duration": 80,
    "start_time": "2023-05-06T15:40:17.309Z"
   }
  ],
  "kernelspec": {
   "display_name": "Python 3 (ipykernel)",
   "language": "python",
   "name": "python3"
  },
  "language_info": {
   "codemirror_mode": {
    "name": "ipython",
    "version": 3
   },
   "file_extension": ".py",
   "mimetype": "text/x-python",
   "name": "python",
   "nbconvert_exporter": "python",
   "pygments_lexer": "ipython3",
   "version": "3.11.4"
  },
  "toc": {
   "base_numbering": 1,
   "nav_menu": {},
   "number_sections": true,
   "sideBar": true,
   "skip_h1_title": true,
   "title_cell": "Table of Contents",
   "title_sidebar": "Contents",
   "toc_cell": false,
   "toc_position": {},
   "toc_section_display": true,
   "toc_window_display": true
  }
 },
 "nbformat": 4,
 "nbformat_minor": 4
}
